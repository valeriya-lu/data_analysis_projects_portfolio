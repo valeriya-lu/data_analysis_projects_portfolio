{
 "cells": [
  {
   "cell_type": "markdown",
   "metadata": {},
   "source": [
    "## Содержание\n",
    "1. [Получение данных](#read_data)\n",
    "2. [Изучение и подготовка данных](#data_processing)\n",
    "3. [Анализ данных](#analysis)\n",
    "4. [Проверка гипотез](#hypothesis_testing)\n",
    "5. [Общий вывод](#conclusion)"
   ]
  },
  {
   "cell_type": "markdown",
   "metadata": {},
   "source": [
    "# Определение перспективного тарифа для телеком-компании"
   ]
  },
  {
   "cell_type": "markdown",
   "metadata": {},
   "source": [
    "Исследование проводится для компании «Мегалайн» — федерального оператора сотовой связи. Клиентам предлагают два тарифных плана: «Смарт» и «Ультра».\n",
    "\n",
    "**Цель исследования:** определить, какой тариф приносит больше денег, чтобы скорректировать рекламный бюджет.\n",
    "\n",
    "Предстоит сделать предварительный анализ тарифов на небольшой выборке клиентов. В нашем распоряжении данные 500 пользователей «Мегалайна»: кто они, откуда, каким тарифом пользуются, сколько звонков и сообщений каждый отправил за 2018 год. Нужно проанализировать поведение клиентов и сделать вывод — какой тариф лучше.\n",
    "\n",
    "**Описание тарифов**\n",
    "\n",
    "Тариф «Смарт»\n",
    "\n",
    "    Ежемесячная плата: 550 рублей\n",
    "    Включено 500 минут разговора, 50 сообщений и 15 Гб интернет-трафика\n",
    "    Стоимость услуг сверх тарифного пакета: 1. минута разговора: 3 рубля («Мегалайн» всегда округляет вверх значения минут и мегабайтов. Если пользователь проговорил всего 1 секунду, в тарифе засчитывается целая минута); 2. сообщение: 3 рубля; 3. 1 Гб интернет-трафика: 200 рублей.\n",
    "\n",
    "Тариф «Ультра»\n",
    "\n",
    "    Ежемесячная плата: 1950 рублей\n",
    "    Включено 3000 минут разговора, 1000 сообщений и 30 Гб интернет-трафика\n",
    "    Стоимость услуг сверх тарифного пакета: 1. минута разговора: 1 рубль; 2. сообщение: 1 рубль; 3. 1 Гб интернет-трафика: 150 рублей.\n",
    "    \n",
    "**Описание данных:**\n",
    "\n",
    "Таблица users (информация о пользователях):\n",
    "\n",
    "    user_id — уникальный идентификатор пользователя\n",
    "    first_name — имя пользователя\n",
    "    last_name — фамилия пользователя\n",
    "    age — возраст пользователя (годы)\n",
    "    reg_date — дата подключения тарифа (день, месяц, год)\n",
    "    churn_date — дата прекращения пользования тарифом (если значение пропущено, то тариф ещё действовал на момент выгрузки данных)\n",
    "    city — город проживания пользователя\n",
    "    tariff — название тарифного плана\n",
    "\n",
    "Таблица calls (информация о звонках):\n",
    "\n",
    "    id — уникальный номер звонка\n",
    "    call_date — дата звонка\n",
    "    duration — длительность звонка в минутах\n",
    "    user_id — идентификатор пользователя, сделавшего звонок\n",
    "\n",
    "Таблица messages (информация о сообщениях):\n",
    "\n",
    "    id — уникальный номер сообщения\n",
    "    message_date — дата сообщения\n",
    "    user_id — идентификатор пользователя, отправившего сообщение\n",
    "\n",
    "Таблица internet (информация об интернет-сессиях):\n",
    "\n",
    "    id — уникальный номер сессии\n",
    "    mb_used — объём потраченного за сессию интернет-трафика (в мегабайтах)\n",
    "    session_date — дата интернет-сессии\n",
    "    user_id — идентификатор пользователя\n",
    "\n",
    "Таблица tariffs (информация о тарифах):\n",
    "\n",
    "    tariff_name — название тарифа\n",
    "    rub_monthly_fee — ежемесячная абонентская плата в рублях\n",
    "    minutes_included — количество минут разговора в месяц, включённых в абонентскую плату\n",
    "    messages_included — количество сообщений в месяц, включённых в абонентскую плату\n",
    "    mb_per_month_included — объём интернет-трафика, включённого в абонентскую плату (в мегабайтах)\n",
    "    rub_per_minute — стоимость минуты разговора сверх тарифного пакета (например, если в тарифе 100 минут разговора в месяц, то со 101 минуты будет взиматься плата)\n",
    "    rub_per_message — стоимость отправки сообщения сверх тарифного пакета\n",
    "    rub_per_gb — стоимость дополнительного гигабайта интернет-трафика сверх тарифного пакета (1 гигабайт = 1024 мегабайта)"
   ]
  },
  {
   "cell_type": "markdown",
   "metadata": {},
   "source": [
    "# Шаг 1. Получение данных\n",
    "<a name='read_data'></a>"
   ]
  },
  {
   "cell_type": "code",
   "execution_count": 1,
   "metadata": {},
   "outputs": [],
   "source": [
    "import pandas as pd\n",
    "\n",
    "import numpy as np\n",
    "\n",
    "import matplotlib.pyplot as plt\n",
    "\n",
    "from scipy import stats as st"
   ]
  },
  {
   "cell_type": "code",
   "execution_count": 2,
   "metadata": {},
   "outputs": [],
   "source": [
    "calls = pd.read_csv('/datasets/calls.csv')\n",
    "internet = pd.read_csv('/datasets/internet.csv', index_col=0)\n",
    "messages = pd.read_csv('/datasets/messages.csv')\n",
    "tariffs = pd.read_csv('/datasets/tariffs.csv')\n",
    "users = pd.read_csv('/datasets/users.csv')"
   ]
  },
  {
   "cell_type": "markdown",
   "metadata": {},
   "source": [
    "# Шаг 2. Изучение и подготовка данных\n",
    "<a name='data_processing'></a>"
   ]
  },
  {
   "cell_type": "markdown",
   "metadata": {},
   "source": [
    "**Изучим таблицу с информацией о звонках:**"
   ]
  },
  {
   "cell_type": "code",
   "execution_count": 3,
   "metadata": {},
   "outputs": [
    {
     "data": {
      "text/html": [
       "<div>\n",
       "<style scoped>\n",
       "    .dataframe tbody tr th:only-of-type {\n",
       "        vertical-align: middle;\n",
       "    }\n",
       "\n",
       "    .dataframe tbody tr th {\n",
       "        vertical-align: top;\n",
       "    }\n",
       "\n",
       "    .dataframe thead th {\n",
       "        text-align: right;\n",
       "    }\n",
       "</style>\n",
       "<table border=\"1\" class=\"dataframe\">\n",
       "  <thead>\n",
       "    <tr style=\"text-align: right;\">\n",
       "      <th></th>\n",
       "      <th>id</th>\n",
       "      <th>call_date</th>\n",
       "      <th>duration</th>\n",
       "      <th>user_id</th>\n",
       "    </tr>\n",
       "  </thead>\n",
       "  <tbody>\n",
       "    <tr>\n",
       "      <td>0</td>\n",
       "      <td>1000_0</td>\n",
       "      <td>2018-07-25</td>\n",
       "      <td>0.00</td>\n",
       "      <td>1000</td>\n",
       "    </tr>\n",
       "    <tr>\n",
       "      <td>1</td>\n",
       "      <td>1000_1</td>\n",
       "      <td>2018-08-17</td>\n",
       "      <td>0.00</td>\n",
       "      <td>1000</td>\n",
       "    </tr>\n",
       "    <tr>\n",
       "      <td>2</td>\n",
       "      <td>1000_2</td>\n",
       "      <td>2018-06-11</td>\n",
       "      <td>2.85</td>\n",
       "      <td>1000</td>\n",
       "    </tr>\n",
       "  </tbody>\n",
       "</table>\n",
       "</div>"
      ],
      "text/plain": [
       "       id   call_date  duration  user_id\n",
       "0  1000_0  2018-07-25      0.00     1000\n",
       "1  1000_1  2018-08-17      0.00     1000\n",
       "2  1000_2  2018-06-11      2.85     1000"
      ]
     },
     "metadata": {},
     "output_type": "display_data"
    },
    {
     "name": "stdout",
     "output_type": "stream",
     "text": [
      "<class 'pandas.core.frame.DataFrame'>\n",
      "RangeIndex: 202607 entries, 0 to 202606\n",
      "Data columns (total 4 columns):\n",
      "id           202607 non-null object\n",
      "call_date    202607 non-null object\n",
      "duration     202607 non-null float64\n",
      "user_id      202607 non-null int64\n",
      "dtypes: float64(1), int64(1), object(2)\n",
      "memory usage: 6.2+ MB\n"
     ]
    },
    {
     "data": {
      "text/html": [
       "<div>\n",
       "<style scoped>\n",
       "    .dataframe tbody tr th:only-of-type {\n",
       "        vertical-align: middle;\n",
       "    }\n",
       "\n",
       "    .dataframe tbody tr th {\n",
       "        vertical-align: top;\n",
       "    }\n",
       "\n",
       "    .dataframe thead th {\n",
       "        text-align: right;\n",
       "    }\n",
       "</style>\n",
       "<table border=\"1\" class=\"dataframe\">\n",
       "  <thead>\n",
       "    <tr style=\"text-align: right;\">\n",
       "      <th></th>\n",
       "      <th>count</th>\n",
       "      <th>mean</th>\n",
       "      <th>std</th>\n",
       "      <th>min</th>\n",
       "      <th>25%</th>\n",
       "      <th>50%</th>\n",
       "      <th>75%</th>\n",
       "      <th>max</th>\n",
       "    </tr>\n",
       "  </thead>\n",
       "  <tbody>\n",
       "    <tr>\n",
       "      <td>duration</td>\n",
       "      <td>202607.0</td>\n",
       "      <td>6.755887</td>\n",
       "      <td>5.843365</td>\n",
       "      <td>0.0</td>\n",
       "      <td>1.3</td>\n",
       "      <td>6.0</td>\n",
       "      <td>10.7</td>\n",
       "      <td>38.0</td>\n",
       "    </tr>\n",
       "    <tr>\n",
       "      <td>user_id</td>\n",
       "      <td>202607.0</td>\n",
       "      <td>1253.940619</td>\n",
       "      <td>144.722751</td>\n",
       "      <td>1000.0</td>\n",
       "      <td>1126.0</td>\n",
       "      <td>1260.0</td>\n",
       "      <td>1379.0</td>\n",
       "      <td>1499.0</td>\n",
       "    </tr>\n",
       "  </tbody>\n",
       "</table>\n",
       "</div>"
      ],
      "text/plain": [
       "             count         mean         std     min     25%     50%     75%  \\\n",
       "duration  202607.0     6.755887    5.843365     0.0     1.3     6.0    10.7   \n",
       "user_id   202607.0  1253.940619  144.722751  1000.0  1126.0  1260.0  1379.0   \n",
       "\n",
       "             max  \n",
       "duration    38.0  \n",
       "user_id   1499.0  "
      ]
     },
     "metadata": {},
     "output_type": "display_data"
    },
    {
     "data": {
      "text/plain": [
       "id           0\n",
       "call_date    0\n",
       "duration     0\n",
       "user_id      0\n",
       "dtype: int64"
      ]
     },
     "execution_count": 3,
     "metadata": {},
     "output_type": "execute_result"
    }
   ],
   "source": [
    "display(calls.head(3))\n",
    "\n",
    "calls.info()\n",
    "\n",
    "display(calls.describe().T)\n",
    "\n",
    "calls.isna().sum()"
   ]
  },
  {
   "cell_type": "markdown",
   "metadata": {},
   "source": [
    "Данные, требующие обработки:\n",
    "\n",
    "- Тип данных столбца call_date необходимо привести к формату datetime.\n",
    "- Тип данных колонки duration - привести к целочисленному виду, округлив минуты в бОльшую сторону, т.к. «Мегалайн» всегда округляет секунды до минут в бОльшую сторону."
   ]
  },
  {
   "cell_type": "code",
   "execution_count": 4,
   "metadata": {},
   "outputs": [
    {
     "data": {
      "text/plain": [
       "0   2018-07-25\n",
       "1   2018-08-17\n",
       "2   2018-06-11\n",
       "3   2018-09-21\n",
       "4   2018-12-15\n",
       "Name: call_date, dtype: datetime64[ns]"
      ]
     },
     "execution_count": 4,
     "metadata": {},
     "output_type": "execute_result"
    }
   ],
   "source": [
    "calls['call_date']= pd.to_datetime(calls['call_date'], format='%Y-%m-%d')\n",
    "calls['call_date'].head()"
   ]
  },
  {
   "cell_type": "code",
   "execution_count": 5,
   "metadata": {
    "scrolled": true
   },
   "outputs": [
    {
     "data": {
      "text/html": [
       "<div>\n",
       "<style scoped>\n",
       "    .dataframe tbody tr th:only-of-type {\n",
       "        vertical-align: middle;\n",
       "    }\n",
       "\n",
       "    .dataframe tbody tr th {\n",
       "        vertical-align: top;\n",
       "    }\n",
       "\n",
       "    .dataframe thead th {\n",
       "        text-align: right;\n",
       "    }\n",
       "</style>\n",
       "<table border=\"1\" class=\"dataframe\">\n",
       "  <thead>\n",
       "    <tr style=\"text-align: right;\">\n",
       "      <th></th>\n",
       "      <th>id</th>\n",
       "      <th>call_date</th>\n",
       "      <th>duration</th>\n",
       "      <th>user_id</th>\n",
       "    </tr>\n",
       "  </thead>\n",
       "  <tbody>\n",
       "    <tr>\n",
       "      <td>0</td>\n",
       "      <td>1000_0</td>\n",
       "      <td>2018-07-25</td>\n",
       "      <td>0</td>\n",
       "      <td>1000</td>\n",
       "    </tr>\n",
       "    <tr>\n",
       "      <td>1</td>\n",
       "      <td>1000_1</td>\n",
       "      <td>2018-08-17</td>\n",
       "      <td>0</td>\n",
       "      <td>1000</td>\n",
       "    </tr>\n",
       "    <tr>\n",
       "      <td>2</td>\n",
       "      <td>1000_2</td>\n",
       "      <td>2018-06-11</td>\n",
       "      <td>3</td>\n",
       "      <td>1000</td>\n",
       "    </tr>\n",
       "  </tbody>\n",
       "</table>\n",
       "</div>"
      ],
      "text/plain": [
       "       id  call_date  duration  user_id\n",
       "0  1000_0 2018-07-25         0     1000\n",
       "1  1000_1 2018-08-17         0     1000\n",
       "2  1000_2 2018-06-11         3     1000"
      ]
     },
     "execution_count": 5,
     "metadata": {},
     "output_type": "execute_result"
    }
   ],
   "source": [
    "calls['duration'] = np.ceil(calls['duration']).astype('int')\n",
    "calls.head(3)"
   ]
  },
  {
   "cell_type": "markdown",
   "metadata": {},
   "source": [
    "Заменим звонки с нулевой продолжительностью на 1, т.к. «Мегалайн» всегда округляет вверх значения минут."
   ]
  },
  {
   "cell_type": "code",
   "execution_count": 6,
   "metadata": {},
   "outputs": [
    {
     "data": {
      "text/html": [
       "<div>\n",
       "<style scoped>\n",
       "    .dataframe tbody tr th:only-of-type {\n",
       "        vertical-align: middle;\n",
       "    }\n",
       "\n",
       "    .dataframe tbody tr th {\n",
       "        vertical-align: top;\n",
       "    }\n",
       "\n",
       "    .dataframe thead th {\n",
       "        text-align: right;\n",
       "    }\n",
       "</style>\n",
       "<table border=\"1\" class=\"dataframe\">\n",
       "  <thead>\n",
       "    <tr style=\"text-align: right;\">\n",
       "      <th></th>\n",
       "      <th>id</th>\n",
       "      <th>call_date</th>\n",
       "      <th>duration</th>\n",
       "      <th>user_id</th>\n",
       "    </tr>\n",
       "  </thead>\n",
       "  <tbody>\n",
       "    <tr>\n",
       "      <td>0</td>\n",
       "      <td>1000_0</td>\n",
       "      <td>2018-07-25</td>\n",
       "      <td>1</td>\n",
       "      <td>1000</td>\n",
       "    </tr>\n",
       "    <tr>\n",
       "      <td>1</td>\n",
       "      <td>1000_1</td>\n",
       "      <td>2018-08-17</td>\n",
       "      <td>1</td>\n",
       "      <td>1000</td>\n",
       "    </tr>\n",
       "    <tr>\n",
       "      <td>2</td>\n",
       "      <td>1000_2</td>\n",
       "      <td>2018-06-11</td>\n",
       "      <td>3</td>\n",
       "      <td>1000</td>\n",
       "    </tr>\n",
       "  </tbody>\n",
       "</table>\n",
       "</div>"
      ],
      "text/plain": [
       "       id  call_date  duration  user_id\n",
       "0  1000_0 2018-07-25         1     1000\n",
       "1  1000_1 2018-08-17         1     1000\n",
       "2  1000_2 2018-06-11         3     1000"
      ]
     },
     "execution_count": 6,
     "metadata": {},
     "output_type": "execute_result"
    }
   ],
   "source": [
    "calls.loc[calls['duration'] == 0, 'duration'] = 1\n",
    "calls.head(3)"
   ]
  },
  {
   "cell_type": "markdown",
   "metadata": {},
   "source": [
    "Посчитаем для каждого пользователя **количество сделанных звонков и израсходованных минут разговора по месяцам**. Для этого создаем столбец с номерами месяцев методом dt.month, а потом группируем и считаем данные посредством pivot_table."
   ]
  },
  {
   "cell_type": "code",
   "execution_count": 7,
   "metadata": {},
   "outputs": [
    {
     "data": {
      "text/html": [
       "<div>\n",
       "<style scoped>\n",
       "    .dataframe tbody tr th:only-of-type {\n",
       "        vertical-align: middle;\n",
       "    }\n",
       "\n",
       "    .dataframe tbody tr th {\n",
       "        vertical-align: top;\n",
       "    }\n",
       "\n",
       "    .dataframe thead th {\n",
       "        text-align: right;\n",
       "    }\n",
       "</style>\n",
       "<table border=\"1\" class=\"dataframe\">\n",
       "  <thead>\n",
       "    <tr style=\"text-align: right;\">\n",
       "      <th></th>\n",
       "      <th></th>\n",
       "      <th>calls_count</th>\n",
       "      <th>calls_duration</th>\n",
       "    </tr>\n",
       "    <tr>\n",
       "      <th>user_id</th>\n",
       "      <th>month</th>\n",
       "      <th></th>\n",
       "      <th></th>\n",
       "    </tr>\n",
       "  </thead>\n",
       "  <tbody>\n",
       "    <tr>\n",
       "      <td rowspan=\"5\" valign=\"top\">1000</td>\n",
       "      <td>5</td>\n",
       "      <td>22</td>\n",
       "      <td>164</td>\n",
       "    </tr>\n",
       "    <tr>\n",
       "      <td>6</td>\n",
       "      <td>43</td>\n",
       "      <td>187</td>\n",
       "    </tr>\n",
       "    <tr>\n",
       "      <td>7</td>\n",
       "      <td>47</td>\n",
       "      <td>346</td>\n",
       "    </tr>\n",
       "    <tr>\n",
       "      <td>8</td>\n",
       "      <td>52</td>\n",
       "      <td>418</td>\n",
       "    </tr>\n",
       "    <tr>\n",
       "      <td>9</td>\n",
       "      <td>58</td>\n",
       "      <td>478</td>\n",
       "    </tr>\n",
       "  </tbody>\n",
       "</table>\n",
       "</div>"
      ],
      "text/plain": [
       "               calls_count  calls_duration\n",
       "user_id month                             \n",
       "1000    5               22             164\n",
       "        6               43             187\n",
       "        7               47             346\n",
       "        8               52             418\n",
       "        9               58             478"
      ]
     },
     "execution_count": 7,
     "metadata": {},
     "output_type": "execute_result"
    }
   ],
   "source": [
    "calls['month'] = calls['call_date'].dt.month\n",
    "calls.head(2)\n",
    "\n",
    "calls_pivot = calls.pivot_table(index=['user_id', 'month'], values='duration',  aggfunc=['count', 'sum'])\n",
    "calls_pivot.columns = ['calls_count', 'calls_duration']\n",
    "\n",
    "calls_pivot.head()"
   ]
  },
  {
   "cell_type": "markdown",
   "metadata": {},
   "source": [
    "**Информация об интернет-сессиях:**"
   ]
  },
  {
   "cell_type": "code",
   "execution_count": 8,
   "metadata": {
    "scrolled": false
   },
   "outputs": [
    {
     "data": {
      "text/html": [
       "<div>\n",
       "<style scoped>\n",
       "    .dataframe tbody tr th:only-of-type {\n",
       "        vertical-align: middle;\n",
       "    }\n",
       "\n",
       "    .dataframe tbody tr th {\n",
       "        vertical-align: top;\n",
       "    }\n",
       "\n",
       "    .dataframe thead th {\n",
       "        text-align: right;\n",
       "    }\n",
       "</style>\n",
       "<table border=\"1\" class=\"dataframe\">\n",
       "  <thead>\n",
       "    <tr style=\"text-align: right;\">\n",
       "      <th></th>\n",
       "      <th>id</th>\n",
       "      <th>mb_used</th>\n",
       "      <th>session_date</th>\n",
       "      <th>user_id</th>\n",
       "    </tr>\n",
       "  </thead>\n",
       "  <tbody>\n",
       "    <tr>\n",
       "      <td>0</td>\n",
       "      <td>1000_0</td>\n",
       "      <td>112.95</td>\n",
       "      <td>2018-11-25</td>\n",
       "      <td>1000</td>\n",
       "    </tr>\n",
       "    <tr>\n",
       "      <td>1</td>\n",
       "      <td>1000_1</td>\n",
       "      <td>1052.81</td>\n",
       "      <td>2018-09-07</td>\n",
       "      <td>1000</td>\n",
       "    </tr>\n",
       "    <tr>\n",
       "      <td>2</td>\n",
       "      <td>1000_2</td>\n",
       "      <td>1197.26</td>\n",
       "      <td>2018-06-25</td>\n",
       "      <td>1000</td>\n",
       "    </tr>\n",
       "  </tbody>\n",
       "</table>\n",
       "</div>"
      ],
      "text/plain": [
       "       id  mb_used session_date  user_id\n",
       "0  1000_0   112.95   2018-11-25     1000\n",
       "1  1000_1  1052.81   2018-09-07     1000\n",
       "2  1000_2  1197.26   2018-06-25     1000"
      ]
     },
     "metadata": {},
     "output_type": "display_data"
    },
    {
     "name": "stdout",
     "output_type": "stream",
     "text": [
      "<class 'pandas.core.frame.DataFrame'>\n",
      "Int64Index: 149396 entries, 0 to 149395\n",
      "Data columns (total 4 columns):\n",
      "id              149396 non-null object\n",
      "mb_used         149396 non-null float64\n",
      "session_date    149396 non-null object\n",
      "user_id         149396 non-null int64\n",
      "dtypes: float64(1), int64(1), object(2)\n",
      "memory usage: 5.7+ MB\n"
     ]
    },
    {
     "data": {
      "text/html": [
       "<div>\n",
       "<style scoped>\n",
       "    .dataframe tbody tr th:only-of-type {\n",
       "        vertical-align: middle;\n",
       "    }\n",
       "\n",
       "    .dataframe tbody tr th {\n",
       "        vertical-align: top;\n",
       "    }\n",
       "\n",
       "    .dataframe thead th {\n",
       "        text-align: right;\n",
       "    }\n",
       "</style>\n",
       "<table border=\"1\" class=\"dataframe\">\n",
       "  <thead>\n",
       "    <tr style=\"text-align: right;\">\n",
       "      <th></th>\n",
       "      <th>count</th>\n",
       "      <th>mean</th>\n",
       "      <th>std</th>\n",
       "      <th>min</th>\n",
       "      <th>25%</th>\n",
       "      <th>50%</th>\n",
       "      <th>75%</th>\n",
       "      <th>max</th>\n",
       "    </tr>\n",
       "  </thead>\n",
       "  <tbody>\n",
       "    <tr>\n",
       "      <td>mb_used</td>\n",
       "      <td>149396.0</td>\n",
       "      <td>370.192426</td>\n",
       "      <td>278.300951</td>\n",
       "      <td>0.0</td>\n",
       "      <td>138.1875</td>\n",
       "      <td>348.015</td>\n",
       "      <td>559.5525</td>\n",
       "      <td>1724.83</td>\n",
       "    </tr>\n",
       "    <tr>\n",
       "      <td>user_id</td>\n",
       "      <td>149396.0</td>\n",
       "      <td>1252.099842</td>\n",
       "      <td>144.050823</td>\n",
       "      <td>1000.0</td>\n",
       "      <td>1130.0000</td>\n",
       "      <td>1251.000</td>\n",
       "      <td>1380.0000</td>\n",
       "      <td>1499.00</td>\n",
       "    </tr>\n",
       "  </tbody>\n",
       "</table>\n",
       "</div>"
      ],
      "text/plain": [
       "            count         mean         std     min        25%       50%  \\\n",
       "mb_used  149396.0   370.192426  278.300951     0.0   138.1875   348.015   \n",
       "user_id  149396.0  1252.099842  144.050823  1000.0  1130.0000  1251.000   \n",
       "\n",
       "               75%      max  \n",
       "mb_used   559.5525  1724.83  \n",
       "user_id  1380.0000  1499.00  "
      ]
     },
     "metadata": {},
     "output_type": "display_data"
    },
    {
     "data": {
      "text/plain": [
       "id              0\n",
       "mb_used         0\n",
       "session_date    0\n",
       "user_id         0\n",
       "dtype: int64"
      ]
     },
     "execution_count": 8,
     "metadata": {},
     "output_type": "execute_result"
    }
   ],
   "source": [
    "display(internet.head(3))\n",
    "\n",
    "internet.info()\n",
    "\n",
    "display(internet.describe().T)\n",
    "\n",
    "internet.isna().sum()"
   ]
  },
  {
   "cell_type": "markdown",
   "metadata": {},
   "source": [
    "Данные, требующие обработки:\n",
    "\n",
    "- Тип данных столбца session_date необходимо привести к формату datetime.\n",
    "- Тип данных колонки mb_used - привести к целочисленному виду, округлив мегабайты в бОльшую сторону, т.к. «Мегалайн» также округляет их таким образом."
   ]
  },
  {
   "cell_type": "code",
   "execution_count": 9,
   "metadata": {},
   "outputs": [
    {
     "data": {
      "text/plain": [
       "0   2018-11-25\n",
       "1   2018-09-07\n",
       "2   2018-06-25\n",
       "3   2018-08-22\n",
       "4   2018-09-24\n",
       "Name: session_date, dtype: datetime64[ns]"
      ]
     },
     "execution_count": 9,
     "metadata": {},
     "output_type": "execute_result"
    }
   ],
   "source": [
    "internet['session_date']= pd.to_datetime(internet['session_date'], format='%Y-%m-%d')\n",
    "internet['session_date'].head()"
   ]
  },
  {
   "cell_type": "code",
   "execution_count": 10,
   "metadata": {},
   "outputs": [
    {
     "data": {
      "text/html": [
       "<div>\n",
       "<style scoped>\n",
       "    .dataframe tbody tr th:only-of-type {\n",
       "        vertical-align: middle;\n",
       "    }\n",
       "\n",
       "    .dataframe tbody tr th {\n",
       "        vertical-align: top;\n",
       "    }\n",
       "\n",
       "    .dataframe thead th {\n",
       "        text-align: right;\n",
       "    }\n",
       "</style>\n",
       "<table border=\"1\" class=\"dataframe\">\n",
       "  <thead>\n",
       "    <tr style=\"text-align: right;\">\n",
       "      <th></th>\n",
       "      <th>id</th>\n",
       "      <th>mb_used</th>\n",
       "      <th>session_date</th>\n",
       "      <th>user_id</th>\n",
       "    </tr>\n",
       "  </thead>\n",
       "  <tbody>\n",
       "    <tr>\n",
       "      <td>0</td>\n",
       "      <td>1000_0</td>\n",
       "      <td>113</td>\n",
       "      <td>2018-11-25</td>\n",
       "      <td>1000</td>\n",
       "    </tr>\n",
       "    <tr>\n",
       "      <td>1</td>\n",
       "      <td>1000_1</td>\n",
       "      <td>1053</td>\n",
       "      <td>2018-09-07</td>\n",
       "      <td>1000</td>\n",
       "    </tr>\n",
       "    <tr>\n",
       "      <td>2</td>\n",
       "      <td>1000_2</td>\n",
       "      <td>1198</td>\n",
       "      <td>2018-06-25</td>\n",
       "      <td>1000</td>\n",
       "    </tr>\n",
       "  </tbody>\n",
       "</table>\n",
       "</div>"
      ],
      "text/plain": [
       "       id  mb_used session_date  user_id\n",
       "0  1000_0      113   2018-11-25     1000\n",
       "1  1000_1     1053   2018-09-07     1000\n",
       "2  1000_2     1198   2018-06-25     1000"
      ]
     },
     "metadata": {},
     "output_type": "display_data"
    },
    {
     "data": {
      "text/plain": [
       "0      19598\n",
       "333      231\n",
       "382      228\n",
       "Name: mb_used, dtype: int64"
      ]
     },
     "execution_count": 10,
     "metadata": {},
     "output_type": "execute_result"
    }
   ],
   "source": [
    "internet['mb_used'] = np.ceil(internet['mb_used']).astype('int')\n",
    "display(internet.head(3))\n",
    "internet['mb_used'].value_counts().head(3)"
   ]
  },
  {
   "cell_type": "markdown",
   "metadata": {},
   "source": [
    "Метод value_counts() показал, что в столбце mb_used очень много нулей. Так же заменим их на 1, т.к. «Мегалайн» всегда округляет вверх и объем веб-трафика тоже."
   ]
  },
  {
   "cell_type": "code",
   "execution_count": 11,
   "metadata": {},
   "outputs": [
    {
     "data": {
      "text/plain": [
       "1      19700\n",
       "333      231\n",
       "382      228\n",
       "Name: mb_used, dtype: int64"
      ]
     },
     "execution_count": 11,
     "metadata": {},
     "output_type": "execute_result"
    }
   ],
   "source": [
    "internet.loc[internet['mb_used'] == 0, 'mb_used'] = 1\n",
    "internet['mb_used'].value_counts().head(3)"
   ]
  },
  {
   "cell_type": "markdown",
   "metadata": {},
   "source": [
    "Посчитаем для каждого пользователя **объем израсходованного интернет-трафика по месяцам:**"
   ]
  },
  {
   "cell_type": "code",
   "execution_count": 12,
   "metadata": {},
   "outputs": [
    {
     "data": {
      "text/html": [
       "<div>\n",
       "<style scoped>\n",
       "    .dataframe tbody tr th:only-of-type {\n",
       "        vertical-align: middle;\n",
       "    }\n",
       "\n",
       "    .dataframe tbody tr th {\n",
       "        vertical-align: top;\n",
       "    }\n",
       "\n",
       "    .dataframe thead th {\n",
       "        text-align: right;\n",
       "    }\n",
       "</style>\n",
       "<table border=\"1\" class=\"dataframe\">\n",
       "  <thead>\n",
       "    <tr style=\"text-align: right;\">\n",
       "      <th></th>\n",
       "      <th></th>\n",
       "      <th>mb_used_monthly</th>\n",
       "    </tr>\n",
       "    <tr>\n",
       "      <th>user_id</th>\n",
       "      <th>month</th>\n",
       "      <th></th>\n",
       "    </tr>\n",
       "  </thead>\n",
       "  <tbody>\n",
       "    <tr>\n",
       "      <td rowspan=\"5\" valign=\"top\">1000</td>\n",
       "      <td>5</td>\n",
       "      <td>2257</td>\n",
       "    </tr>\n",
       "    <tr>\n",
       "      <td>6</td>\n",
       "      <td>23262</td>\n",
       "    </tr>\n",
       "    <tr>\n",
       "      <td>7</td>\n",
       "      <td>14017</td>\n",
       "    </tr>\n",
       "    <tr>\n",
       "      <td>8</td>\n",
       "      <td>14072</td>\n",
       "    </tr>\n",
       "    <tr>\n",
       "      <td>9</td>\n",
       "      <td>14583</td>\n",
       "    </tr>\n",
       "  </tbody>\n",
       "</table>\n",
       "</div>"
      ],
      "text/plain": [
       "               mb_used_monthly\n",
       "user_id month                 \n",
       "1000    5                 2257\n",
       "        6                23262\n",
       "        7                14017\n",
       "        8                14072\n",
       "        9                14583"
      ]
     },
     "execution_count": 12,
     "metadata": {},
     "output_type": "execute_result"
    }
   ],
   "source": [
    "internet['month'] = internet['session_date'].dt.month\n",
    "internet.head(2)\n",
    "\n",
    "internet_pivot = internet.pivot_table(index=['user_id', 'month'], values='mb_used', aggfunc='sum')\n",
    "internet_pivot.columns = ['mb_used_monthly']\n",
    "\n",
    "internet_pivot.head()"
   ]
  },
  {
   "cell_type": "markdown",
   "metadata": {},
   "source": [
    "**Информация о сообщениях:**"
   ]
  },
  {
   "cell_type": "code",
   "execution_count": 13,
   "metadata": {},
   "outputs": [
    {
     "data": {
      "text/html": [
       "<div>\n",
       "<style scoped>\n",
       "    .dataframe tbody tr th:only-of-type {\n",
       "        vertical-align: middle;\n",
       "    }\n",
       "\n",
       "    .dataframe tbody tr th {\n",
       "        vertical-align: top;\n",
       "    }\n",
       "\n",
       "    .dataframe thead th {\n",
       "        text-align: right;\n",
       "    }\n",
       "</style>\n",
       "<table border=\"1\" class=\"dataframe\">\n",
       "  <thead>\n",
       "    <tr style=\"text-align: right;\">\n",
       "      <th></th>\n",
       "      <th>id</th>\n",
       "      <th>message_date</th>\n",
       "      <th>user_id</th>\n",
       "    </tr>\n",
       "  </thead>\n",
       "  <tbody>\n",
       "    <tr>\n",
       "      <td>0</td>\n",
       "      <td>1000_0</td>\n",
       "      <td>2018-06-27</td>\n",
       "      <td>1000</td>\n",
       "    </tr>\n",
       "    <tr>\n",
       "      <td>1</td>\n",
       "      <td>1000_1</td>\n",
       "      <td>2018-10-08</td>\n",
       "      <td>1000</td>\n",
       "    </tr>\n",
       "    <tr>\n",
       "      <td>2</td>\n",
       "      <td>1000_2</td>\n",
       "      <td>2018-08-04</td>\n",
       "      <td>1000</td>\n",
       "    </tr>\n",
       "  </tbody>\n",
       "</table>\n",
       "</div>"
      ],
      "text/plain": [
       "       id message_date  user_id\n",
       "0  1000_0   2018-06-27     1000\n",
       "1  1000_1   2018-10-08     1000\n",
       "2  1000_2   2018-08-04     1000"
      ]
     },
     "metadata": {},
     "output_type": "display_data"
    },
    {
     "name": "stdout",
     "output_type": "stream",
     "text": [
      "<class 'pandas.core.frame.DataFrame'>\n",
      "RangeIndex: 123036 entries, 0 to 123035\n",
      "Data columns (total 3 columns):\n",
      "id              123036 non-null object\n",
      "message_date    123036 non-null object\n",
      "user_id         123036 non-null int64\n",
      "dtypes: int64(1), object(2)\n",
      "memory usage: 2.8+ MB\n"
     ]
    },
    {
     "data": {
      "text/html": [
       "<div>\n",
       "<style scoped>\n",
       "    .dataframe tbody tr th:only-of-type {\n",
       "        vertical-align: middle;\n",
       "    }\n",
       "\n",
       "    .dataframe tbody tr th {\n",
       "        vertical-align: top;\n",
       "    }\n",
       "\n",
       "    .dataframe thead th {\n",
       "        text-align: right;\n",
       "    }\n",
       "</style>\n",
       "<table border=\"1\" class=\"dataframe\">\n",
       "  <thead>\n",
       "    <tr style=\"text-align: right;\">\n",
       "      <th></th>\n",
       "      <th>count</th>\n",
       "      <th>mean</th>\n",
       "      <th>std</th>\n",
       "      <th>min</th>\n",
       "      <th>25%</th>\n",
       "      <th>50%</th>\n",
       "      <th>75%</th>\n",
       "      <th>max</th>\n",
       "    </tr>\n",
       "  </thead>\n",
       "  <tbody>\n",
       "    <tr>\n",
       "      <td>user_id</td>\n",
       "      <td>123036.0</td>\n",
       "      <td>1256.98941</td>\n",
       "      <td>143.523967</td>\n",
       "      <td>1000.0</td>\n",
       "      <td>1134.0</td>\n",
       "      <td>1271.0</td>\n",
       "      <td>1381.0</td>\n",
       "      <td>1499.0</td>\n",
       "    </tr>\n",
       "  </tbody>\n",
       "</table>\n",
       "</div>"
      ],
      "text/plain": [
       "            count        mean         std     min     25%     50%     75%  \\\n",
       "user_id  123036.0  1256.98941  143.523967  1000.0  1134.0  1271.0  1381.0   \n",
       "\n",
       "            max  \n",
       "user_id  1499.0  "
      ]
     },
     "metadata": {},
     "output_type": "display_data"
    },
    {
     "data": {
      "text/plain": [
       "id              0\n",
       "message_date    0\n",
       "user_id         0\n",
       "dtype: int64"
      ]
     },
     "execution_count": 13,
     "metadata": {},
     "output_type": "execute_result"
    }
   ],
   "source": [
    "display(messages.head(3))\n",
    "\n",
    "messages.info()\n",
    "\n",
    "display(messages.describe().T)\n",
    "\n",
    "messages.isna().sum()"
   ]
  },
  {
   "cell_type": "markdown",
   "metadata": {},
   "source": [
    "Данные, требующие обработки:\n",
    "\n",
    "- Тип данных столбца message_date необходимо привести к формату datetime."
   ]
  },
  {
   "cell_type": "code",
   "execution_count": 14,
   "metadata": {},
   "outputs": [
    {
     "data": {
      "text/plain": [
       "0   2018-06-27\n",
       "1   2018-10-08\n",
       "2   2018-08-04\n",
       "3   2018-06-16\n",
       "4   2018-12-05\n",
       "Name: message_date, dtype: datetime64[ns]"
      ]
     },
     "execution_count": 14,
     "metadata": {},
     "output_type": "execute_result"
    }
   ],
   "source": [
    "messages['message_date'] = pd.to_datetime(messages['message_date'], format='%Y-%m-%d')\n",
    "messages['message_date'].head()"
   ]
  },
  {
   "cell_type": "markdown",
   "metadata": {},
   "source": [
    "Посчитаем для каждого пользователя **количество отправленных сообщений по месяцам:**"
   ]
  },
  {
   "cell_type": "code",
   "execution_count": 15,
   "metadata": {},
   "outputs": [
    {
     "data": {
      "text/html": [
       "<div>\n",
       "<style scoped>\n",
       "    .dataframe tbody tr th:only-of-type {\n",
       "        vertical-align: middle;\n",
       "    }\n",
       "\n",
       "    .dataframe tbody tr th {\n",
       "        vertical-align: top;\n",
       "    }\n",
       "\n",
       "    .dataframe thead th {\n",
       "        text-align: right;\n",
       "    }\n",
       "</style>\n",
       "<table border=\"1\" class=\"dataframe\">\n",
       "  <thead>\n",
       "    <tr style=\"text-align: right;\">\n",
       "      <th></th>\n",
       "      <th></th>\n",
       "      <th>messages_count</th>\n",
       "    </tr>\n",
       "    <tr>\n",
       "      <th>user_id</th>\n",
       "      <th>month</th>\n",
       "      <th></th>\n",
       "    </tr>\n",
       "  </thead>\n",
       "  <tbody>\n",
       "    <tr>\n",
       "      <td rowspan=\"5\" valign=\"top\">1000</td>\n",
       "      <td>5</td>\n",
       "      <td>22</td>\n",
       "    </tr>\n",
       "    <tr>\n",
       "      <td>6</td>\n",
       "      <td>60</td>\n",
       "    </tr>\n",
       "    <tr>\n",
       "      <td>7</td>\n",
       "      <td>75</td>\n",
       "    </tr>\n",
       "    <tr>\n",
       "      <td>8</td>\n",
       "      <td>81</td>\n",
       "    </tr>\n",
       "    <tr>\n",
       "      <td>9</td>\n",
       "      <td>57</td>\n",
       "    </tr>\n",
       "  </tbody>\n",
       "</table>\n",
       "</div>"
      ],
      "text/plain": [
       "               messages_count\n",
       "user_id month                \n",
       "1000    5                  22\n",
       "        6                  60\n",
       "        7                  75\n",
       "        8                  81\n",
       "        9                  57"
      ]
     },
     "execution_count": 15,
     "metadata": {},
     "output_type": "execute_result"
    }
   ],
   "source": [
    "messages['month'] = messages['message_date'].dt.month\n",
    "messages.head(2)\n",
    "\n",
    "messages_pivot = messages.pivot_table(index=['user_id', 'month'], values='message_date', aggfunc='count')\n",
    "messages_pivot.columns = ['messages_count']\n",
    "\n",
    "messages_pivot.head()"
   ]
  },
  {
   "cell_type": "markdown",
   "metadata": {},
   "source": [
    "**Информация о тарифах:**"
   ]
  },
  {
   "cell_type": "code",
   "execution_count": 16,
   "metadata": {},
   "outputs": [
    {
     "data": {
      "text/html": [
       "<div>\n",
       "<style scoped>\n",
       "    .dataframe tbody tr th:only-of-type {\n",
       "        vertical-align: middle;\n",
       "    }\n",
       "\n",
       "    .dataframe tbody tr th {\n",
       "        vertical-align: top;\n",
       "    }\n",
       "\n",
       "    .dataframe thead th {\n",
       "        text-align: right;\n",
       "    }\n",
       "</style>\n",
       "<table border=\"1\" class=\"dataframe\">\n",
       "  <thead>\n",
       "    <tr style=\"text-align: right;\">\n",
       "      <th></th>\n",
       "      <th>messages_included</th>\n",
       "      <th>mb_per_month_included</th>\n",
       "      <th>minutes_included</th>\n",
       "      <th>rub_monthly_fee</th>\n",
       "      <th>rub_per_gb</th>\n",
       "      <th>rub_per_message</th>\n",
       "      <th>rub_per_minute</th>\n",
       "      <th>tariff_name</th>\n",
       "    </tr>\n",
       "  </thead>\n",
       "  <tbody>\n",
       "    <tr>\n",
       "      <td>0</td>\n",
       "      <td>50</td>\n",
       "      <td>15360</td>\n",
       "      <td>500</td>\n",
       "      <td>550</td>\n",
       "      <td>200</td>\n",
       "      <td>3</td>\n",
       "      <td>3</td>\n",
       "      <td>smart</td>\n",
       "    </tr>\n",
       "    <tr>\n",
       "      <td>1</td>\n",
       "      <td>1000</td>\n",
       "      <td>30720</td>\n",
       "      <td>3000</td>\n",
       "      <td>1950</td>\n",
       "      <td>150</td>\n",
       "      <td>1</td>\n",
       "      <td>1</td>\n",
       "      <td>ultra</td>\n",
       "    </tr>\n",
       "  </tbody>\n",
       "</table>\n",
       "</div>"
      ],
      "text/plain": [
       "   messages_included  mb_per_month_included  minutes_included  \\\n",
       "0                 50                  15360               500   \n",
       "1               1000                  30720              3000   \n",
       "\n",
       "   rub_monthly_fee  rub_per_gb  rub_per_message  rub_per_minute tariff_name  \n",
       "0              550         200                3               3       smart  \n",
       "1             1950         150                1               1       ultra  "
      ]
     },
     "metadata": {},
     "output_type": "display_data"
    },
    {
     "name": "stdout",
     "output_type": "stream",
     "text": [
      "<class 'pandas.core.frame.DataFrame'>\n",
      "RangeIndex: 2 entries, 0 to 1\n",
      "Data columns (total 8 columns):\n",
      "messages_included        2 non-null int64\n",
      "mb_per_month_included    2 non-null int64\n",
      "minutes_included         2 non-null int64\n",
      "rub_monthly_fee          2 non-null int64\n",
      "rub_per_gb               2 non-null int64\n",
      "rub_per_message          2 non-null int64\n",
      "rub_per_minute           2 non-null int64\n",
      "tariff_name              2 non-null object\n",
      "dtypes: int64(7), object(1)\n",
      "memory usage: 256.0+ bytes\n"
     ]
    },
    {
     "data": {
      "text/html": [
       "<div>\n",
       "<style scoped>\n",
       "    .dataframe tbody tr th:only-of-type {\n",
       "        vertical-align: middle;\n",
       "    }\n",
       "\n",
       "    .dataframe tbody tr th {\n",
       "        vertical-align: top;\n",
       "    }\n",
       "\n",
       "    .dataframe thead th {\n",
       "        text-align: right;\n",
       "    }\n",
       "</style>\n",
       "<table border=\"1\" class=\"dataframe\">\n",
       "  <thead>\n",
       "    <tr style=\"text-align: right;\">\n",
       "      <th></th>\n",
       "      <th>count</th>\n",
       "      <th>mean</th>\n",
       "      <th>std</th>\n",
       "      <th>min</th>\n",
       "      <th>25%</th>\n",
       "      <th>50%</th>\n",
       "      <th>75%</th>\n",
       "      <th>max</th>\n",
       "    </tr>\n",
       "  </thead>\n",
       "  <tbody>\n",
       "    <tr>\n",
       "      <td>messages_included</td>\n",
       "      <td>2.0</td>\n",
       "      <td>525.0</td>\n",
       "      <td>671.751442</td>\n",
       "      <td>50.0</td>\n",
       "      <td>287.5</td>\n",
       "      <td>525.0</td>\n",
       "      <td>762.5</td>\n",
       "      <td>1000.0</td>\n",
       "    </tr>\n",
       "    <tr>\n",
       "      <td>mb_per_month_included</td>\n",
       "      <td>2.0</td>\n",
       "      <td>23040.0</td>\n",
       "      <td>10861.160159</td>\n",
       "      <td>15360.0</td>\n",
       "      <td>19200.0</td>\n",
       "      <td>23040.0</td>\n",
       "      <td>26880.0</td>\n",
       "      <td>30720.0</td>\n",
       "    </tr>\n",
       "    <tr>\n",
       "      <td>minutes_included</td>\n",
       "      <td>2.0</td>\n",
       "      <td>1750.0</td>\n",
       "      <td>1767.766953</td>\n",
       "      <td>500.0</td>\n",
       "      <td>1125.0</td>\n",
       "      <td>1750.0</td>\n",
       "      <td>2375.0</td>\n",
       "      <td>3000.0</td>\n",
       "    </tr>\n",
       "    <tr>\n",
       "      <td>rub_monthly_fee</td>\n",
       "      <td>2.0</td>\n",
       "      <td>1250.0</td>\n",
       "      <td>989.949494</td>\n",
       "      <td>550.0</td>\n",
       "      <td>900.0</td>\n",
       "      <td>1250.0</td>\n",
       "      <td>1600.0</td>\n",
       "      <td>1950.0</td>\n",
       "    </tr>\n",
       "    <tr>\n",
       "      <td>rub_per_gb</td>\n",
       "      <td>2.0</td>\n",
       "      <td>175.0</td>\n",
       "      <td>35.355339</td>\n",
       "      <td>150.0</td>\n",
       "      <td>162.5</td>\n",
       "      <td>175.0</td>\n",
       "      <td>187.5</td>\n",
       "      <td>200.0</td>\n",
       "    </tr>\n",
       "    <tr>\n",
       "      <td>rub_per_message</td>\n",
       "      <td>2.0</td>\n",
       "      <td>2.0</td>\n",
       "      <td>1.414214</td>\n",
       "      <td>1.0</td>\n",
       "      <td>1.5</td>\n",
       "      <td>2.0</td>\n",
       "      <td>2.5</td>\n",
       "      <td>3.0</td>\n",
       "    </tr>\n",
       "    <tr>\n",
       "      <td>rub_per_minute</td>\n",
       "      <td>2.0</td>\n",
       "      <td>2.0</td>\n",
       "      <td>1.414214</td>\n",
       "      <td>1.0</td>\n",
       "      <td>1.5</td>\n",
       "      <td>2.0</td>\n",
       "      <td>2.5</td>\n",
       "      <td>3.0</td>\n",
       "    </tr>\n",
       "  </tbody>\n",
       "</table>\n",
       "</div>"
      ],
      "text/plain": [
       "                       count     mean           std      min      25%  \\\n",
       "messages_included        2.0    525.0    671.751442     50.0    287.5   \n",
       "mb_per_month_included    2.0  23040.0  10861.160159  15360.0  19200.0   \n",
       "minutes_included         2.0   1750.0   1767.766953    500.0   1125.0   \n",
       "rub_monthly_fee          2.0   1250.0    989.949494    550.0    900.0   \n",
       "rub_per_gb               2.0    175.0     35.355339    150.0    162.5   \n",
       "rub_per_message          2.0      2.0      1.414214      1.0      1.5   \n",
       "rub_per_minute           2.0      2.0      1.414214      1.0      1.5   \n",
       "\n",
       "                           50%      75%      max  \n",
       "messages_included        525.0    762.5   1000.0  \n",
       "mb_per_month_included  23040.0  26880.0  30720.0  \n",
       "minutes_included        1750.0   2375.0   3000.0  \n",
       "rub_monthly_fee         1250.0   1600.0   1950.0  \n",
       "rub_per_gb               175.0    187.5    200.0  \n",
       "rub_per_message            2.0      2.5      3.0  \n",
       "rub_per_minute             2.0      2.5      3.0  "
      ]
     },
     "metadata": {},
     "output_type": "display_data"
    },
    {
     "data": {
      "text/plain": [
       "messages_included        0\n",
       "mb_per_month_included    0\n",
       "minutes_included         0\n",
       "rub_monthly_fee          0\n",
       "rub_per_gb               0\n",
       "rub_per_message          0\n",
       "rub_per_minute           0\n",
       "tariff_name              0\n",
       "dtype: int64"
      ]
     },
     "execution_count": 16,
     "metadata": {},
     "output_type": "execute_result"
    }
   ],
   "source": [
    "display(tariffs.head(3))\n",
    "\n",
    "tariffs.info()\n",
    "\n",
    "display(tariffs.describe().T)\n",
    "\n",
    "tariffs.isna().sum()"
   ]
  },
  {
   "cell_type": "markdown",
   "metadata": {},
   "source": [
    "**Информация о пользователях:**"
   ]
  },
  {
   "cell_type": "code",
   "execution_count": 17,
   "metadata": {
    "scrolled": false
   },
   "outputs": [
    {
     "data": {
      "text/html": [
       "<div>\n",
       "<style scoped>\n",
       "    .dataframe tbody tr th:only-of-type {\n",
       "        vertical-align: middle;\n",
       "    }\n",
       "\n",
       "    .dataframe tbody tr th {\n",
       "        vertical-align: top;\n",
       "    }\n",
       "\n",
       "    .dataframe thead th {\n",
       "        text-align: right;\n",
       "    }\n",
       "</style>\n",
       "<table border=\"1\" class=\"dataframe\">\n",
       "  <thead>\n",
       "    <tr style=\"text-align: right;\">\n",
       "      <th></th>\n",
       "      <th>user_id</th>\n",
       "      <th>age</th>\n",
       "      <th>churn_date</th>\n",
       "      <th>city</th>\n",
       "      <th>first_name</th>\n",
       "      <th>last_name</th>\n",
       "      <th>reg_date</th>\n",
       "      <th>tariff</th>\n",
       "    </tr>\n",
       "  </thead>\n",
       "  <tbody>\n",
       "    <tr>\n",
       "      <td>0</td>\n",
       "      <td>1000</td>\n",
       "      <td>52</td>\n",
       "      <td>NaN</td>\n",
       "      <td>Краснодар</td>\n",
       "      <td>Рафаил</td>\n",
       "      <td>Верещагин</td>\n",
       "      <td>2018-05-25</td>\n",
       "      <td>ultra</td>\n",
       "    </tr>\n",
       "    <tr>\n",
       "      <td>1</td>\n",
       "      <td>1001</td>\n",
       "      <td>41</td>\n",
       "      <td>NaN</td>\n",
       "      <td>Москва</td>\n",
       "      <td>Иван</td>\n",
       "      <td>Ежов</td>\n",
       "      <td>2018-11-01</td>\n",
       "      <td>smart</td>\n",
       "    </tr>\n",
       "    <tr>\n",
       "      <td>2</td>\n",
       "      <td>1002</td>\n",
       "      <td>59</td>\n",
       "      <td>NaN</td>\n",
       "      <td>Стерлитамак</td>\n",
       "      <td>Евгений</td>\n",
       "      <td>Абрамович</td>\n",
       "      <td>2018-06-17</td>\n",
       "      <td>smart</td>\n",
       "    </tr>\n",
       "  </tbody>\n",
       "</table>\n",
       "</div>"
      ],
      "text/plain": [
       "   user_id  age churn_date         city first_name  last_name    reg_date  \\\n",
       "0     1000   52        NaN    Краснодар     Рафаил  Верещагин  2018-05-25   \n",
       "1     1001   41        NaN       Москва       Иван       Ежов  2018-11-01   \n",
       "2     1002   59        NaN  Стерлитамак    Евгений  Абрамович  2018-06-17   \n",
       "\n",
       "  tariff  \n",
       "0  ultra  \n",
       "1  smart  \n",
       "2  smart  "
      ]
     },
     "metadata": {},
     "output_type": "display_data"
    },
    {
     "name": "stdout",
     "output_type": "stream",
     "text": [
      "<class 'pandas.core.frame.DataFrame'>\n",
      "RangeIndex: 500 entries, 0 to 499\n",
      "Data columns (total 8 columns):\n",
      "user_id       500 non-null int64\n",
      "age           500 non-null int64\n",
      "churn_date    38 non-null object\n",
      "city          500 non-null object\n",
      "first_name    500 non-null object\n",
      "last_name     500 non-null object\n",
      "reg_date      500 non-null object\n",
      "tariff        500 non-null object\n",
      "dtypes: int64(2), object(6)\n",
      "memory usage: 31.4+ KB\n"
     ]
    },
    {
     "data": {
      "text/html": [
       "<div>\n",
       "<style scoped>\n",
       "    .dataframe tbody tr th:only-of-type {\n",
       "        vertical-align: middle;\n",
       "    }\n",
       "\n",
       "    .dataframe tbody tr th {\n",
       "        vertical-align: top;\n",
       "    }\n",
       "\n",
       "    .dataframe thead th {\n",
       "        text-align: right;\n",
       "    }\n",
       "</style>\n",
       "<table border=\"1\" class=\"dataframe\">\n",
       "  <thead>\n",
       "    <tr style=\"text-align: right;\">\n",
       "      <th></th>\n",
       "      <th>count</th>\n",
       "      <th>mean</th>\n",
       "      <th>std</th>\n",
       "      <th>min</th>\n",
       "      <th>25%</th>\n",
       "      <th>50%</th>\n",
       "      <th>75%</th>\n",
       "      <th>max</th>\n",
       "    </tr>\n",
       "  </thead>\n",
       "  <tbody>\n",
       "    <tr>\n",
       "      <td>user_id</td>\n",
       "      <td>500.0</td>\n",
       "      <td>1249.500</td>\n",
       "      <td>144.481833</td>\n",
       "      <td>1000.0</td>\n",
       "      <td>1124.75</td>\n",
       "      <td>1249.5</td>\n",
       "      <td>1374.25</td>\n",
       "      <td>1499.0</td>\n",
       "    </tr>\n",
       "    <tr>\n",
       "      <td>age</td>\n",
       "      <td>500.0</td>\n",
       "      <td>46.588</td>\n",
       "      <td>16.667630</td>\n",
       "      <td>18.0</td>\n",
       "      <td>32.00</td>\n",
       "      <td>46.0</td>\n",
       "      <td>62.00</td>\n",
       "      <td>75.0</td>\n",
       "    </tr>\n",
       "  </tbody>\n",
       "</table>\n",
       "</div>"
      ],
      "text/plain": [
       "         count      mean         std     min      25%     50%      75%     max\n",
       "user_id  500.0  1249.500  144.481833  1000.0  1124.75  1249.5  1374.25  1499.0\n",
       "age      500.0    46.588   16.667630    18.0    32.00    46.0    62.00    75.0"
      ]
     },
     "metadata": {},
     "output_type": "display_data"
    },
    {
     "data": {
      "text/plain": [
       "user_id         0\n",
       "age             0\n",
       "churn_date    462\n",
       "city            0\n",
       "first_name      0\n",
       "last_name       0\n",
       "reg_date        0\n",
       "tariff          0\n",
       "dtype: int64"
      ]
     },
     "execution_count": 17,
     "metadata": {},
     "output_type": "execute_result"
    }
   ],
   "source": [
    "display(users.head(3))\n",
    "\n",
    "users.info()\n",
    "\n",
    "display(users.describe().T)\n",
    "\n",
    "users.isna().sum()"
   ]
  },
  {
   "cell_type": "markdown",
   "metadata": {},
   "source": [
    "Данные, требующие обработки:\n",
    "\n",
    "- Тип данных колонок churn_date и reg_date необходимо привести к формату datetime.\n",
    "- Есть пропуски в столбце churn_date. Это связано с тем, что тариф еще действовал на момент выгрузки данных. Оставим пропуски."
   ]
  },
  {
   "cell_type": "code",
   "execution_count": 18,
   "metadata": {},
   "outputs": [
    {
     "name": "stdout",
     "output_type": "stream",
     "text": [
      "<class 'pandas.core.frame.DataFrame'>\n",
      "RangeIndex: 500 entries, 0 to 499\n",
      "Data columns (total 8 columns):\n",
      "user_id       500 non-null int64\n",
      "age           500 non-null int64\n",
      "churn_date    38 non-null datetime64[ns]\n",
      "city          500 non-null object\n",
      "first_name    500 non-null object\n",
      "last_name     500 non-null object\n",
      "reg_date      500 non-null datetime64[ns]\n",
      "tariff        500 non-null object\n",
      "dtypes: datetime64[ns](2), int64(2), object(4)\n",
      "memory usage: 31.4+ KB\n"
     ]
    },
    {
     "data": {
      "text/html": [
       "<div>\n",
       "<style scoped>\n",
       "    .dataframe tbody tr th:only-of-type {\n",
       "        vertical-align: middle;\n",
       "    }\n",
       "\n",
       "    .dataframe tbody tr th {\n",
       "        vertical-align: top;\n",
       "    }\n",
       "\n",
       "    .dataframe thead th {\n",
       "        text-align: right;\n",
       "    }\n",
       "</style>\n",
       "<table border=\"1\" class=\"dataframe\">\n",
       "  <thead>\n",
       "    <tr style=\"text-align: right;\">\n",
       "      <th></th>\n",
       "      <th>user_id</th>\n",
       "      <th>age</th>\n",
       "      <th>churn_date</th>\n",
       "      <th>city</th>\n",
       "      <th>first_name</th>\n",
       "      <th>last_name</th>\n",
       "      <th>reg_date</th>\n",
       "      <th>tariff</th>\n",
       "    </tr>\n",
       "  </thead>\n",
       "  <tbody>\n",
       "    <tr>\n",
       "      <td>0</td>\n",
       "      <td>1000</td>\n",
       "      <td>52</td>\n",
       "      <td>NaT</td>\n",
       "      <td>Краснодар</td>\n",
       "      <td>Рафаил</td>\n",
       "      <td>Верещагин</td>\n",
       "      <td>2018-05-25</td>\n",
       "      <td>ultra</td>\n",
       "    </tr>\n",
       "    <tr>\n",
       "      <td>1</td>\n",
       "      <td>1001</td>\n",
       "      <td>41</td>\n",
       "      <td>NaT</td>\n",
       "      <td>Москва</td>\n",
       "      <td>Иван</td>\n",
       "      <td>Ежов</td>\n",
       "      <td>2018-11-01</td>\n",
       "      <td>smart</td>\n",
       "    </tr>\n",
       "    <tr>\n",
       "      <td>2</td>\n",
       "      <td>1002</td>\n",
       "      <td>59</td>\n",
       "      <td>NaT</td>\n",
       "      <td>Стерлитамак</td>\n",
       "      <td>Евгений</td>\n",
       "      <td>Абрамович</td>\n",
       "      <td>2018-06-17</td>\n",
       "      <td>smart</td>\n",
       "    </tr>\n",
       "  </tbody>\n",
       "</table>\n",
       "</div>"
      ],
      "text/plain": [
       "   user_id  age churn_date         city first_name  last_name   reg_date  \\\n",
       "0     1000   52        NaT    Краснодар     Рафаил  Верещагин 2018-05-25   \n",
       "1     1001   41        NaT       Москва       Иван       Ежов 2018-11-01   \n",
       "2     1002   59        NaT  Стерлитамак    Евгений  Абрамович 2018-06-17   \n",
       "\n",
       "  tariff  \n",
       "0  ultra  \n",
       "1  smart  \n",
       "2  smart  "
      ]
     },
     "execution_count": 18,
     "metadata": {},
     "output_type": "execute_result"
    }
   ],
   "source": [
    "users['churn_date'] = pd.to_datetime(users['churn_date'], format='%Y-%m-%d')\n",
    "users['reg_date'] = pd.to_datetime(users['reg_date'], format='%Y-%m-%d')\n",
    "\n",
    "users.info()\n",
    "users.head(3)"
   ]
  },
  {
   "cell_type": "markdown",
   "metadata": {},
   "source": [
    "Для произведения необходимых расчетов необходимо **соединить таблицы в одну.**\n",
    "\n",
    "Сначала **объединим** все таблицы pivot методом join(), которым можно объединять больше двух таблиц, передав их списком и сбросив индексы, которые были у сводных таблиц. Получаем таблицу data_pivot."
   ]
  },
  {
   "cell_type": "code",
   "execution_count": 19,
   "metadata": {
    "scrolled": false
   },
   "outputs": [
    {
     "data": {
      "text/html": [
       "<div>\n",
       "<style scoped>\n",
       "    .dataframe tbody tr th:only-of-type {\n",
       "        vertical-align: middle;\n",
       "    }\n",
       "\n",
       "    .dataframe tbody tr th {\n",
       "        vertical-align: top;\n",
       "    }\n",
       "\n",
       "    .dataframe thead th {\n",
       "        text-align: right;\n",
       "    }\n",
       "</style>\n",
       "<table border=\"1\" class=\"dataframe\">\n",
       "  <thead>\n",
       "    <tr style=\"text-align: right;\">\n",
       "      <th></th>\n",
       "      <th>user_id</th>\n",
       "      <th>month</th>\n",
       "      <th>calls_count</th>\n",
       "      <th>calls_duration</th>\n",
       "      <th>messages_count</th>\n",
       "      <th>mb_used_monthly</th>\n",
       "    </tr>\n",
       "  </thead>\n",
       "  <tbody>\n",
       "    <tr>\n",
       "      <td>0</td>\n",
       "      <td>1000</td>\n",
       "      <td>5</td>\n",
       "      <td>22.0</td>\n",
       "      <td>164.0</td>\n",
       "      <td>22.0</td>\n",
       "      <td>2257.0</td>\n",
       "    </tr>\n",
       "    <tr>\n",
       "      <td>1</td>\n",
       "      <td>1000</td>\n",
       "      <td>6</td>\n",
       "      <td>43.0</td>\n",
       "      <td>187.0</td>\n",
       "      <td>60.0</td>\n",
       "      <td>23262.0</td>\n",
       "    </tr>\n",
       "    <tr>\n",
       "      <td>2</td>\n",
       "      <td>1000</td>\n",
       "      <td>7</td>\n",
       "      <td>47.0</td>\n",
       "      <td>346.0</td>\n",
       "      <td>75.0</td>\n",
       "      <td>14017.0</td>\n",
       "    </tr>\n",
       "    <tr>\n",
       "      <td>3</td>\n",
       "      <td>1000</td>\n",
       "      <td>8</td>\n",
       "      <td>52.0</td>\n",
       "      <td>418.0</td>\n",
       "      <td>81.0</td>\n",
       "      <td>14072.0</td>\n",
       "    </tr>\n",
       "    <tr>\n",
       "      <td>4</td>\n",
       "      <td>1000</td>\n",
       "      <td>9</td>\n",
       "      <td>58.0</td>\n",
       "      <td>478.0</td>\n",
       "      <td>57.0</td>\n",
       "      <td>14583.0</td>\n",
       "    </tr>\n",
       "    <tr>\n",
       "      <td>5</td>\n",
       "      <td>1000</td>\n",
       "      <td>10</td>\n",
       "      <td>57.0</td>\n",
       "      <td>363.0</td>\n",
       "      <td>73.0</td>\n",
       "      <td>14717.0</td>\n",
       "    </tr>\n",
       "    <tr>\n",
       "      <td>6</td>\n",
       "      <td>1000</td>\n",
       "      <td>11</td>\n",
       "      <td>43.0</td>\n",
       "      <td>344.0</td>\n",
       "      <td>58.0</td>\n",
       "      <td>14769.0</td>\n",
       "    </tr>\n",
       "    <tr>\n",
       "      <td>7</td>\n",
       "      <td>1000</td>\n",
       "      <td>12</td>\n",
       "      <td>46.0</td>\n",
       "      <td>341.0</td>\n",
       "      <td>70.0</td>\n",
       "      <td>9829.0</td>\n",
       "    </tr>\n",
       "    <tr>\n",
       "      <td>8</td>\n",
       "      <td>1001</td>\n",
       "      <td>11</td>\n",
       "      <td>59.0</td>\n",
       "      <td>444.0</td>\n",
       "      <td>NaN</td>\n",
       "      <td>18460.0</td>\n",
       "    </tr>\n",
       "    <tr>\n",
       "      <td>9</td>\n",
       "      <td>1001</td>\n",
       "      <td>12</td>\n",
       "      <td>63.0</td>\n",
       "      <td>430.0</td>\n",
       "      <td>NaN</td>\n",
       "      <td>14059.0</td>\n",
       "    </tr>\n",
       "    <tr>\n",
       "      <td>10</td>\n",
       "      <td>1002</td>\n",
       "      <td>6</td>\n",
       "      <td>15.0</td>\n",
       "      <td>118.0</td>\n",
       "      <td>4.0</td>\n",
       "      <td>10878.0</td>\n",
       "    </tr>\n",
       "    <tr>\n",
       "      <td>11</td>\n",
       "      <td>1002</td>\n",
       "      <td>7</td>\n",
       "      <td>26.0</td>\n",
       "      <td>219.0</td>\n",
       "      <td>11.0</td>\n",
       "      <td>17615.0</td>\n",
       "    </tr>\n",
       "    <tr>\n",
       "      <td>12</td>\n",
       "      <td>1002</td>\n",
       "      <td>8</td>\n",
       "      <td>42.0</td>\n",
       "      <td>294.0</td>\n",
       "      <td>13.0</td>\n",
       "      <td>20357.0</td>\n",
       "    </tr>\n",
       "    <tr>\n",
       "      <td>13</td>\n",
       "      <td>1002</td>\n",
       "      <td>9</td>\n",
       "      <td>36.0</td>\n",
       "      <td>217.0</td>\n",
       "      <td>4.0</td>\n",
       "      <td>16724.0</td>\n",
       "    </tr>\n",
       "    <tr>\n",
       "      <td>14</td>\n",
       "      <td>1002</td>\n",
       "      <td>10</td>\n",
       "      <td>33.0</td>\n",
       "      <td>221.0</td>\n",
       "      <td>10.0</td>\n",
       "      <td>13913.0</td>\n",
       "    </tr>\n",
       "  </tbody>\n",
       "</table>\n",
       "</div>"
      ],
      "text/plain": [
       "    user_id  month  calls_count  calls_duration  messages_count  \\\n",
       "0      1000      5         22.0           164.0            22.0   \n",
       "1      1000      6         43.0           187.0            60.0   \n",
       "2      1000      7         47.0           346.0            75.0   \n",
       "3      1000      8         52.0           418.0            81.0   \n",
       "4      1000      9         58.0           478.0            57.0   \n",
       "5      1000     10         57.0           363.0            73.0   \n",
       "6      1000     11         43.0           344.0            58.0   \n",
       "7      1000     12         46.0           341.0            70.0   \n",
       "8      1001     11         59.0           444.0             NaN   \n",
       "9      1001     12         63.0           430.0             NaN   \n",
       "10     1002      6         15.0           118.0             4.0   \n",
       "11     1002      7         26.0           219.0            11.0   \n",
       "12     1002      8         42.0           294.0            13.0   \n",
       "13     1002      9         36.0           217.0             4.0   \n",
       "14     1002     10         33.0           221.0            10.0   \n",
       "\n",
       "    mb_used_monthly  \n",
       "0            2257.0  \n",
       "1           23262.0  \n",
       "2           14017.0  \n",
       "3           14072.0  \n",
       "4           14583.0  \n",
       "5           14717.0  \n",
       "6           14769.0  \n",
       "7            9829.0  \n",
       "8           18460.0  \n",
       "9           14059.0  \n",
       "10          10878.0  \n",
       "11          17615.0  \n",
       "12          20357.0  \n",
       "13          16724.0  \n",
       "14          13913.0  "
      ]
     },
     "execution_count": 19,
     "metadata": {},
     "output_type": "execute_result"
    }
   ],
   "source": [
    "m_i_pivot = [messages_pivot, internet_pivot]\n",
    "\n",
    "data_pivot = calls_pivot.join(m_i_pivot, how='outer')\n",
    "\n",
    "data_pivot.reset_index(inplace=True)\n",
    "\n",
    "data_pivot.head(15)"
   ]
  },
  {
   "cell_type": "markdown",
   "metadata": {},
   "source": [
    "**Присоединим** полученную таблицу data_pivot к таблице users:"
   ]
  },
  {
   "cell_type": "code",
   "execution_count": 20,
   "metadata": {
    "scrolled": false
   },
   "outputs": [
    {
     "data": {
      "text/html": [
       "<div>\n",
       "<style scoped>\n",
       "    .dataframe tbody tr th:only-of-type {\n",
       "        vertical-align: middle;\n",
       "    }\n",
       "\n",
       "    .dataframe tbody tr th {\n",
       "        vertical-align: top;\n",
       "    }\n",
       "\n",
       "    .dataframe thead th {\n",
       "        text-align: right;\n",
       "    }\n",
       "</style>\n",
       "<table border=\"1\" class=\"dataframe\">\n",
       "  <thead>\n",
       "    <tr style=\"text-align: right;\">\n",
       "      <th></th>\n",
       "      <th>user_id</th>\n",
       "      <th>age</th>\n",
       "      <th>churn_date</th>\n",
       "      <th>city</th>\n",
       "      <th>first_name</th>\n",
       "      <th>last_name</th>\n",
       "      <th>reg_date</th>\n",
       "      <th>tariff</th>\n",
       "      <th>month</th>\n",
       "      <th>calls_count</th>\n",
       "      <th>calls_duration</th>\n",
       "      <th>messages_count</th>\n",
       "      <th>mb_used_monthly</th>\n",
       "    </tr>\n",
       "  </thead>\n",
       "  <tbody>\n",
       "    <tr>\n",
       "      <td>0</td>\n",
       "      <td>1000</td>\n",
       "      <td>52</td>\n",
       "      <td>NaT</td>\n",
       "      <td>Краснодар</td>\n",
       "      <td>Рафаил</td>\n",
       "      <td>Верещагин</td>\n",
       "      <td>2018-05-25</td>\n",
       "      <td>ultra</td>\n",
       "      <td>5.0</td>\n",
       "      <td>22.0</td>\n",
       "      <td>164.0</td>\n",
       "      <td>22.0</td>\n",
       "      <td>2257.0</td>\n",
       "    </tr>\n",
       "    <tr>\n",
       "      <td>1</td>\n",
       "      <td>1000</td>\n",
       "      <td>52</td>\n",
       "      <td>NaT</td>\n",
       "      <td>Краснодар</td>\n",
       "      <td>Рафаил</td>\n",
       "      <td>Верещагин</td>\n",
       "      <td>2018-05-25</td>\n",
       "      <td>ultra</td>\n",
       "      <td>6.0</td>\n",
       "      <td>43.0</td>\n",
       "      <td>187.0</td>\n",
       "      <td>60.0</td>\n",
       "      <td>23262.0</td>\n",
       "    </tr>\n",
       "    <tr>\n",
       "      <td>2</td>\n",
       "      <td>1000</td>\n",
       "      <td>52</td>\n",
       "      <td>NaT</td>\n",
       "      <td>Краснодар</td>\n",
       "      <td>Рафаил</td>\n",
       "      <td>Верещагин</td>\n",
       "      <td>2018-05-25</td>\n",
       "      <td>ultra</td>\n",
       "      <td>7.0</td>\n",
       "      <td>47.0</td>\n",
       "      <td>346.0</td>\n",
       "      <td>75.0</td>\n",
       "      <td>14017.0</td>\n",
       "    </tr>\n",
       "    <tr>\n",
       "      <td>3</td>\n",
       "      <td>1000</td>\n",
       "      <td>52</td>\n",
       "      <td>NaT</td>\n",
       "      <td>Краснодар</td>\n",
       "      <td>Рафаил</td>\n",
       "      <td>Верещагин</td>\n",
       "      <td>2018-05-25</td>\n",
       "      <td>ultra</td>\n",
       "      <td>8.0</td>\n",
       "      <td>52.0</td>\n",
       "      <td>418.0</td>\n",
       "      <td>81.0</td>\n",
       "      <td>14072.0</td>\n",
       "    </tr>\n",
       "    <tr>\n",
       "      <td>4</td>\n",
       "      <td>1000</td>\n",
       "      <td>52</td>\n",
       "      <td>NaT</td>\n",
       "      <td>Краснодар</td>\n",
       "      <td>Рафаил</td>\n",
       "      <td>Верещагин</td>\n",
       "      <td>2018-05-25</td>\n",
       "      <td>ultra</td>\n",
       "      <td>9.0</td>\n",
       "      <td>58.0</td>\n",
       "      <td>478.0</td>\n",
       "      <td>57.0</td>\n",
       "      <td>14583.0</td>\n",
       "    </tr>\n",
       "    <tr>\n",
       "      <td>5</td>\n",
       "      <td>1000</td>\n",
       "      <td>52</td>\n",
       "      <td>NaT</td>\n",
       "      <td>Краснодар</td>\n",
       "      <td>Рафаил</td>\n",
       "      <td>Верещагин</td>\n",
       "      <td>2018-05-25</td>\n",
       "      <td>ultra</td>\n",
       "      <td>10.0</td>\n",
       "      <td>57.0</td>\n",
       "      <td>363.0</td>\n",
       "      <td>73.0</td>\n",
       "      <td>14717.0</td>\n",
       "    </tr>\n",
       "    <tr>\n",
       "      <td>6</td>\n",
       "      <td>1000</td>\n",
       "      <td>52</td>\n",
       "      <td>NaT</td>\n",
       "      <td>Краснодар</td>\n",
       "      <td>Рафаил</td>\n",
       "      <td>Верещагин</td>\n",
       "      <td>2018-05-25</td>\n",
       "      <td>ultra</td>\n",
       "      <td>11.0</td>\n",
       "      <td>43.0</td>\n",
       "      <td>344.0</td>\n",
       "      <td>58.0</td>\n",
       "      <td>14769.0</td>\n",
       "    </tr>\n",
       "    <tr>\n",
       "      <td>7</td>\n",
       "      <td>1000</td>\n",
       "      <td>52</td>\n",
       "      <td>NaT</td>\n",
       "      <td>Краснодар</td>\n",
       "      <td>Рафаил</td>\n",
       "      <td>Верещагин</td>\n",
       "      <td>2018-05-25</td>\n",
       "      <td>ultra</td>\n",
       "      <td>12.0</td>\n",
       "      <td>46.0</td>\n",
       "      <td>341.0</td>\n",
       "      <td>70.0</td>\n",
       "      <td>9829.0</td>\n",
       "    </tr>\n",
       "    <tr>\n",
       "      <td>8</td>\n",
       "      <td>1001</td>\n",
       "      <td>41</td>\n",
       "      <td>NaT</td>\n",
       "      <td>Москва</td>\n",
       "      <td>Иван</td>\n",
       "      <td>Ежов</td>\n",
       "      <td>2018-11-01</td>\n",
       "      <td>smart</td>\n",
       "      <td>11.0</td>\n",
       "      <td>59.0</td>\n",
       "      <td>444.0</td>\n",
       "      <td>NaN</td>\n",
       "      <td>18460.0</td>\n",
       "    </tr>\n",
       "    <tr>\n",
       "      <td>9</td>\n",
       "      <td>1001</td>\n",
       "      <td>41</td>\n",
       "      <td>NaT</td>\n",
       "      <td>Москва</td>\n",
       "      <td>Иван</td>\n",
       "      <td>Ежов</td>\n",
       "      <td>2018-11-01</td>\n",
       "      <td>smart</td>\n",
       "      <td>12.0</td>\n",
       "      <td>63.0</td>\n",
       "      <td>430.0</td>\n",
       "      <td>NaN</td>\n",
       "      <td>14059.0</td>\n",
       "    </tr>\n",
       "    <tr>\n",
       "      <td>10</td>\n",
       "      <td>1002</td>\n",
       "      <td>59</td>\n",
       "      <td>NaT</td>\n",
       "      <td>Стерлитамак</td>\n",
       "      <td>Евгений</td>\n",
       "      <td>Абрамович</td>\n",
       "      <td>2018-06-17</td>\n",
       "      <td>smart</td>\n",
       "      <td>6.0</td>\n",
       "      <td>15.0</td>\n",
       "      <td>118.0</td>\n",
       "      <td>4.0</td>\n",
       "      <td>10878.0</td>\n",
       "    </tr>\n",
       "    <tr>\n",
       "      <td>11</td>\n",
       "      <td>1002</td>\n",
       "      <td>59</td>\n",
       "      <td>NaT</td>\n",
       "      <td>Стерлитамак</td>\n",
       "      <td>Евгений</td>\n",
       "      <td>Абрамович</td>\n",
       "      <td>2018-06-17</td>\n",
       "      <td>smart</td>\n",
       "      <td>7.0</td>\n",
       "      <td>26.0</td>\n",
       "      <td>219.0</td>\n",
       "      <td>11.0</td>\n",
       "      <td>17615.0</td>\n",
       "    </tr>\n",
       "    <tr>\n",
       "      <td>12</td>\n",
       "      <td>1002</td>\n",
       "      <td>59</td>\n",
       "      <td>NaT</td>\n",
       "      <td>Стерлитамак</td>\n",
       "      <td>Евгений</td>\n",
       "      <td>Абрамович</td>\n",
       "      <td>2018-06-17</td>\n",
       "      <td>smart</td>\n",
       "      <td>8.0</td>\n",
       "      <td>42.0</td>\n",
       "      <td>294.0</td>\n",
       "      <td>13.0</td>\n",
       "      <td>20357.0</td>\n",
       "    </tr>\n",
       "    <tr>\n",
       "      <td>13</td>\n",
       "      <td>1002</td>\n",
       "      <td>59</td>\n",
       "      <td>NaT</td>\n",
       "      <td>Стерлитамак</td>\n",
       "      <td>Евгений</td>\n",
       "      <td>Абрамович</td>\n",
       "      <td>2018-06-17</td>\n",
       "      <td>smart</td>\n",
       "      <td>9.0</td>\n",
       "      <td>36.0</td>\n",
       "      <td>217.0</td>\n",
       "      <td>4.0</td>\n",
       "      <td>16724.0</td>\n",
       "    </tr>\n",
       "    <tr>\n",
       "      <td>14</td>\n",
       "      <td>1002</td>\n",
       "      <td>59</td>\n",
       "      <td>NaT</td>\n",
       "      <td>Стерлитамак</td>\n",
       "      <td>Евгений</td>\n",
       "      <td>Абрамович</td>\n",
       "      <td>2018-06-17</td>\n",
       "      <td>smart</td>\n",
       "      <td>10.0</td>\n",
       "      <td>33.0</td>\n",
       "      <td>221.0</td>\n",
       "      <td>10.0</td>\n",
       "      <td>13913.0</td>\n",
       "    </tr>\n",
       "  </tbody>\n",
       "</table>\n",
       "</div>"
      ],
      "text/plain": [
       "    user_id  age churn_date         city first_name  last_name   reg_date  \\\n",
       "0      1000   52        NaT    Краснодар     Рафаил  Верещагин 2018-05-25   \n",
       "1      1000   52        NaT    Краснодар     Рафаил  Верещагин 2018-05-25   \n",
       "2      1000   52        NaT    Краснодар     Рафаил  Верещагин 2018-05-25   \n",
       "3      1000   52        NaT    Краснодар     Рафаил  Верещагин 2018-05-25   \n",
       "4      1000   52        NaT    Краснодар     Рафаил  Верещагин 2018-05-25   \n",
       "5      1000   52        NaT    Краснодар     Рафаил  Верещагин 2018-05-25   \n",
       "6      1000   52        NaT    Краснодар     Рафаил  Верещагин 2018-05-25   \n",
       "7      1000   52        NaT    Краснодар     Рафаил  Верещагин 2018-05-25   \n",
       "8      1001   41        NaT       Москва       Иван       Ежов 2018-11-01   \n",
       "9      1001   41        NaT       Москва       Иван       Ежов 2018-11-01   \n",
       "10     1002   59        NaT  Стерлитамак    Евгений  Абрамович 2018-06-17   \n",
       "11     1002   59        NaT  Стерлитамак    Евгений  Абрамович 2018-06-17   \n",
       "12     1002   59        NaT  Стерлитамак    Евгений  Абрамович 2018-06-17   \n",
       "13     1002   59        NaT  Стерлитамак    Евгений  Абрамович 2018-06-17   \n",
       "14     1002   59        NaT  Стерлитамак    Евгений  Абрамович 2018-06-17   \n",
       "\n",
       "   tariff  month  calls_count  calls_duration  messages_count  mb_used_monthly  \n",
       "0   ultra    5.0         22.0           164.0            22.0           2257.0  \n",
       "1   ultra    6.0         43.0           187.0            60.0          23262.0  \n",
       "2   ultra    7.0         47.0           346.0            75.0          14017.0  \n",
       "3   ultra    8.0         52.0           418.0            81.0          14072.0  \n",
       "4   ultra    9.0         58.0           478.0            57.0          14583.0  \n",
       "5   ultra   10.0         57.0           363.0            73.0          14717.0  \n",
       "6   ultra   11.0         43.0           344.0            58.0          14769.0  \n",
       "7   ultra   12.0         46.0           341.0            70.0           9829.0  \n",
       "8   smart   11.0         59.0           444.0             NaN          18460.0  \n",
       "9   smart   12.0         63.0           430.0             NaN          14059.0  \n",
       "10  smart    6.0         15.0           118.0             4.0          10878.0  \n",
       "11  smart    7.0         26.0           219.0            11.0          17615.0  \n",
       "12  smart    8.0         42.0           294.0            13.0          20357.0  \n",
       "13  smart    9.0         36.0           217.0             4.0          16724.0  \n",
       "14  smart   10.0         33.0           221.0            10.0          13913.0  "
      ]
     },
     "execution_count": 20,
     "metadata": {},
     "output_type": "execute_result"
    }
   ],
   "source": [
    "data = users.merge(data_pivot, how='outer')\n",
    "data.head(15)"
   ]
  },
  {
   "cell_type": "markdown",
   "metadata": {},
   "source": [
    "Теперь **присоединим** таблицу tariffs.\n",
    "\n",
    "Общей у 2-х таблиц является колонка с тарифами, но названия у них разные. Поэтому прежде переименуем столбец tariff_name на tariff."
   ]
  },
  {
   "cell_type": "code",
   "execution_count": 21,
   "metadata": {},
   "outputs": [
    {
     "data": {
      "text/html": [
       "<div>\n",
       "<style scoped>\n",
       "    .dataframe tbody tr th:only-of-type {\n",
       "        vertical-align: middle;\n",
       "    }\n",
       "\n",
       "    .dataframe tbody tr th {\n",
       "        vertical-align: top;\n",
       "    }\n",
       "\n",
       "    .dataframe thead th {\n",
       "        text-align: right;\n",
       "    }\n",
       "</style>\n",
       "<table border=\"1\" class=\"dataframe\">\n",
       "  <thead>\n",
       "    <tr style=\"text-align: right;\">\n",
       "      <th></th>\n",
       "      <th>messages_included</th>\n",
       "      <th>mb_per_month_included</th>\n",
       "      <th>minutes_included</th>\n",
       "      <th>rub_monthly_fee</th>\n",
       "      <th>rub_per_gb</th>\n",
       "      <th>rub_per_message</th>\n",
       "      <th>rub_per_minute</th>\n",
       "      <th>tariff</th>\n",
       "    </tr>\n",
       "  </thead>\n",
       "  <tbody>\n",
       "    <tr>\n",
       "      <td>0</td>\n",
       "      <td>50</td>\n",
       "      <td>15360</td>\n",
       "      <td>500</td>\n",
       "      <td>550</td>\n",
       "      <td>200</td>\n",
       "      <td>3</td>\n",
       "      <td>3</td>\n",
       "      <td>smart</td>\n",
       "    </tr>\n",
       "    <tr>\n",
       "      <td>1</td>\n",
       "      <td>1000</td>\n",
       "      <td>30720</td>\n",
       "      <td>3000</td>\n",
       "      <td>1950</td>\n",
       "      <td>150</td>\n",
       "      <td>1</td>\n",
       "      <td>1</td>\n",
       "      <td>ultra</td>\n",
       "    </tr>\n",
       "  </tbody>\n",
       "</table>\n",
       "</div>"
      ],
      "text/plain": [
       "   messages_included  mb_per_month_included  minutes_included  \\\n",
       "0                 50                  15360               500   \n",
       "1               1000                  30720              3000   \n",
       "\n",
       "   rub_monthly_fee  rub_per_gb  rub_per_message  rub_per_minute tariff  \n",
       "0              550         200                3               3  smart  \n",
       "1             1950         150                1               1  ultra  "
      ]
     },
     "execution_count": 21,
     "metadata": {},
     "output_type": "execute_result"
    }
   ],
   "source": [
    "tariffs = tariffs.rename(columns={'tariff_name': 'tariff'})\n",
    "tariffs"
   ]
  },
  {
   "cell_type": "code",
   "execution_count": 22,
   "metadata": {
    "scrolled": false
   },
   "outputs": [
    {
     "data": {
      "text/html": [
       "<div>\n",
       "<style scoped>\n",
       "    .dataframe tbody tr th:only-of-type {\n",
       "        vertical-align: middle;\n",
       "    }\n",
       "\n",
       "    .dataframe tbody tr th {\n",
       "        vertical-align: top;\n",
       "    }\n",
       "\n",
       "    .dataframe thead th {\n",
       "        text-align: right;\n",
       "    }\n",
       "</style>\n",
       "<table border=\"1\" class=\"dataframe\">\n",
       "  <thead>\n",
       "    <tr style=\"text-align: right;\">\n",
       "      <th></th>\n",
       "      <th>user_id</th>\n",
       "      <th>age</th>\n",
       "      <th>churn_date</th>\n",
       "      <th>city</th>\n",
       "      <th>first_name</th>\n",
       "      <th>last_name</th>\n",
       "      <th>reg_date</th>\n",
       "      <th>tariff</th>\n",
       "      <th>month</th>\n",
       "      <th>calls_count</th>\n",
       "      <th>calls_duration</th>\n",
       "      <th>messages_count</th>\n",
       "      <th>mb_used_monthly</th>\n",
       "      <th>messages_included</th>\n",
       "      <th>mb_per_month_included</th>\n",
       "      <th>minutes_included</th>\n",
       "      <th>rub_monthly_fee</th>\n",
       "      <th>rub_per_gb</th>\n",
       "      <th>rub_per_message</th>\n",
       "      <th>rub_per_minute</th>\n",
       "    </tr>\n",
       "  </thead>\n",
       "  <tbody>\n",
       "    <tr>\n",
       "      <td>0</td>\n",
       "      <td>1000</td>\n",
       "      <td>52</td>\n",
       "      <td>NaT</td>\n",
       "      <td>Краснодар</td>\n",
       "      <td>Рафаил</td>\n",
       "      <td>Верещагин</td>\n",
       "      <td>2018-05-25</td>\n",
       "      <td>ultra</td>\n",
       "      <td>5.0</td>\n",
       "      <td>22.0</td>\n",
       "      <td>164.0</td>\n",
       "      <td>22.0</td>\n",
       "      <td>2257.0</td>\n",
       "      <td>1000</td>\n",
       "      <td>30720</td>\n",
       "      <td>3000</td>\n",
       "      <td>1950</td>\n",
       "      <td>150</td>\n",
       "      <td>1</td>\n",
       "      <td>1</td>\n",
       "    </tr>\n",
       "    <tr>\n",
       "      <td>1</td>\n",
       "      <td>1000</td>\n",
       "      <td>52</td>\n",
       "      <td>NaT</td>\n",
       "      <td>Краснодар</td>\n",
       "      <td>Рафаил</td>\n",
       "      <td>Верещагин</td>\n",
       "      <td>2018-05-25</td>\n",
       "      <td>ultra</td>\n",
       "      <td>6.0</td>\n",
       "      <td>43.0</td>\n",
       "      <td>187.0</td>\n",
       "      <td>60.0</td>\n",
       "      <td>23262.0</td>\n",
       "      <td>1000</td>\n",
       "      <td>30720</td>\n",
       "      <td>3000</td>\n",
       "      <td>1950</td>\n",
       "      <td>150</td>\n",
       "      <td>1</td>\n",
       "      <td>1</td>\n",
       "    </tr>\n",
       "    <tr>\n",
       "      <td>2</td>\n",
       "      <td>1000</td>\n",
       "      <td>52</td>\n",
       "      <td>NaT</td>\n",
       "      <td>Краснодар</td>\n",
       "      <td>Рафаил</td>\n",
       "      <td>Верещагин</td>\n",
       "      <td>2018-05-25</td>\n",
       "      <td>ultra</td>\n",
       "      <td>7.0</td>\n",
       "      <td>47.0</td>\n",
       "      <td>346.0</td>\n",
       "      <td>75.0</td>\n",
       "      <td>14017.0</td>\n",
       "      <td>1000</td>\n",
       "      <td>30720</td>\n",
       "      <td>3000</td>\n",
       "      <td>1950</td>\n",
       "      <td>150</td>\n",
       "      <td>1</td>\n",
       "      <td>1</td>\n",
       "    </tr>\n",
       "    <tr>\n",
       "      <td>3</td>\n",
       "      <td>1000</td>\n",
       "      <td>52</td>\n",
       "      <td>NaT</td>\n",
       "      <td>Краснодар</td>\n",
       "      <td>Рафаил</td>\n",
       "      <td>Верещагин</td>\n",
       "      <td>2018-05-25</td>\n",
       "      <td>ultra</td>\n",
       "      <td>8.0</td>\n",
       "      <td>52.0</td>\n",
       "      <td>418.0</td>\n",
       "      <td>81.0</td>\n",
       "      <td>14072.0</td>\n",
       "      <td>1000</td>\n",
       "      <td>30720</td>\n",
       "      <td>3000</td>\n",
       "      <td>1950</td>\n",
       "      <td>150</td>\n",
       "      <td>1</td>\n",
       "      <td>1</td>\n",
       "    </tr>\n",
       "    <tr>\n",
       "      <td>4</td>\n",
       "      <td>1000</td>\n",
       "      <td>52</td>\n",
       "      <td>NaT</td>\n",
       "      <td>Краснодар</td>\n",
       "      <td>Рафаил</td>\n",
       "      <td>Верещагин</td>\n",
       "      <td>2018-05-25</td>\n",
       "      <td>ultra</td>\n",
       "      <td>9.0</td>\n",
       "      <td>58.0</td>\n",
       "      <td>478.0</td>\n",
       "      <td>57.0</td>\n",
       "      <td>14583.0</td>\n",
       "      <td>1000</td>\n",
       "      <td>30720</td>\n",
       "      <td>3000</td>\n",
       "      <td>1950</td>\n",
       "      <td>150</td>\n",
       "      <td>1</td>\n",
       "      <td>1</td>\n",
       "    </tr>\n",
       "    <tr>\n",
       "      <td>5</td>\n",
       "      <td>1000</td>\n",
       "      <td>52</td>\n",
       "      <td>NaT</td>\n",
       "      <td>Краснодар</td>\n",
       "      <td>Рафаил</td>\n",
       "      <td>Верещагин</td>\n",
       "      <td>2018-05-25</td>\n",
       "      <td>ultra</td>\n",
       "      <td>10.0</td>\n",
       "      <td>57.0</td>\n",
       "      <td>363.0</td>\n",
       "      <td>73.0</td>\n",
       "      <td>14717.0</td>\n",
       "      <td>1000</td>\n",
       "      <td>30720</td>\n",
       "      <td>3000</td>\n",
       "      <td>1950</td>\n",
       "      <td>150</td>\n",
       "      <td>1</td>\n",
       "      <td>1</td>\n",
       "    </tr>\n",
       "    <tr>\n",
       "      <td>6</td>\n",
       "      <td>1000</td>\n",
       "      <td>52</td>\n",
       "      <td>NaT</td>\n",
       "      <td>Краснодар</td>\n",
       "      <td>Рафаил</td>\n",
       "      <td>Верещагин</td>\n",
       "      <td>2018-05-25</td>\n",
       "      <td>ultra</td>\n",
       "      <td>11.0</td>\n",
       "      <td>43.0</td>\n",
       "      <td>344.0</td>\n",
       "      <td>58.0</td>\n",
       "      <td>14769.0</td>\n",
       "      <td>1000</td>\n",
       "      <td>30720</td>\n",
       "      <td>3000</td>\n",
       "      <td>1950</td>\n",
       "      <td>150</td>\n",
       "      <td>1</td>\n",
       "      <td>1</td>\n",
       "    </tr>\n",
       "    <tr>\n",
       "      <td>7</td>\n",
       "      <td>1000</td>\n",
       "      <td>52</td>\n",
       "      <td>NaT</td>\n",
       "      <td>Краснодар</td>\n",
       "      <td>Рафаил</td>\n",
       "      <td>Верещагин</td>\n",
       "      <td>2018-05-25</td>\n",
       "      <td>ultra</td>\n",
       "      <td>12.0</td>\n",
       "      <td>46.0</td>\n",
       "      <td>341.0</td>\n",
       "      <td>70.0</td>\n",
       "      <td>9829.0</td>\n",
       "      <td>1000</td>\n",
       "      <td>30720</td>\n",
       "      <td>3000</td>\n",
       "      <td>1950</td>\n",
       "      <td>150</td>\n",
       "      <td>1</td>\n",
       "      <td>1</td>\n",
       "    </tr>\n",
       "    <tr>\n",
       "      <td>8</td>\n",
       "      <td>1003</td>\n",
       "      <td>23</td>\n",
       "      <td>NaT</td>\n",
       "      <td>Москва</td>\n",
       "      <td>Белла</td>\n",
       "      <td>Белякова</td>\n",
       "      <td>2018-08-17</td>\n",
       "      <td>ultra</td>\n",
       "      <td>8.0</td>\n",
       "      <td>55.0</td>\n",
       "      <td>392.0</td>\n",
       "      <td>37.0</td>\n",
       "      <td>8572.0</td>\n",
       "      <td>1000</td>\n",
       "      <td>30720</td>\n",
       "      <td>3000</td>\n",
       "      <td>1950</td>\n",
       "      <td>150</td>\n",
       "      <td>1</td>\n",
       "      <td>1</td>\n",
       "    </tr>\n",
       "    <tr>\n",
       "      <td>9</td>\n",
       "      <td>1003</td>\n",
       "      <td>23</td>\n",
       "      <td>NaT</td>\n",
       "      <td>Москва</td>\n",
       "      <td>Белла</td>\n",
       "      <td>Белякова</td>\n",
       "      <td>2018-08-17</td>\n",
       "      <td>ultra</td>\n",
       "      <td>9.0</td>\n",
       "      <td>134.0</td>\n",
       "      <td>990.0</td>\n",
       "      <td>91.0</td>\n",
       "      <td>12479.0</td>\n",
       "      <td>1000</td>\n",
       "      <td>30720</td>\n",
       "      <td>3000</td>\n",
       "      <td>1950</td>\n",
       "      <td>150</td>\n",
       "      <td>1</td>\n",
       "      <td>1</td>\n",
       "    </tr>\n",
       "  </tbody>\n",
       "</table>\n",
       "</div>"
      ],
      "text/plain": [
       "   user_id  age churn_date       city first_name  last_name   reg_date tariff  \\\n",
       "0     1000   52        NaT  Краснодар     Рафаил  Верещагин 2018-05-25  ultra   \n",
       "1     1000   52        NaT  Краснодар     Рафаил  Верещагин 2018-05-25  ultra   \n",
       "2     1000   52        NaT  Краснодар     Рафаил  Верещагин 2018-05-25  ultra   \n",
       "3     1000   52        NaT  Краснодар     Рафаил  Верещагин 2018-05-25  ultra   \n",
       "4     1000   52        NaT  Краснодар     Рафаил  Верещагин 2018-05-25  ultra   \n",
       "5     1000   52        NaT  Краснодар     Рафаил  Верещагин 2018-05-25  ultra   \n",
       "6     1000   52        NaT  Краснодар     Рафаил  Верещагин 2018-05-25  ultra   \n",
       "7     1000   52        NaT  Краснодар     Рафаил  Верещагин 2018-05-25  ultra   \n",
       "8     1003   23        NaT     Москва      Белла   Белякова 2018-08-17  ultra   \n",
       "9     1003   23        NaT     Москва      Белла   Белякова 2018-08-17  ultra   \n",
       "\n",
       "   month  calls_count  calls_duration  messages_count  mb_used_monthly  \\\n",
       "0    5.0         22.0           164.0            22.0           2257.0   \n",
       "1    6.0         43.0           187.0            60.0          23262.0   \n",
       "2    7.0         47.0           346.0            75.0          14017.0   \n",
       "3    8.0         52.0           418.0            81.0          14072.0   \n",
       "4    9.0         58.0           478.0            57.0          14583.0   \n",
       "5   10.0         57.0           363.0            73.0          14717.0   \n",
       "6   11.0         43.0           344.0            58.0          14769.0   \n",
       "7   12.0         46.0           341.0            70.0           9829.0   \n",
       "8    8.0         55.0           392.0            37.0           8572.0   \n",
       "9    9.0        134.0           990.0            91.0          12479.0   \n",
       "\n",
       "   messages_included  mb_per_month_included  minutes_included  \\\n",
       "0               1000                  30720              3000   \n",
       "1               1000                  30720              3000   \n",
       "2               1000                  30720              3000   \n",
       "3               1000                  30720              3000   \n",
       "4               1000                  30720              3000   \n",
       "5               1000                  30720              3000   \n",
       "6               1000                  30720              3000   \n",
       "7               1000                  30720              3000   \n",
       "8               1000                  30720              3000   \n",
       "9               1000                  30720              3000   \n",
       "\n",
       "   rub_monthly_fee  rub_per_gb  rub_per_message  rub_per_minute  \n",
       "0             1950         150                1               1  \n",
       "1             1950         150                1               1  \n",
       "2             1950         150                1               1  \n",
       "3             1950         150                1               1  \n",
       "4             1950         150                1               1  \n",
       "5             1950         150                1               1  \n",
       "6             1950         150                1               1  \n",
       "7             1950         150                1               1  \n",
       "8             1950         150                1               1  \n",
       "9             1950         150                1               1  "
      ]
     },
     "execution_count": 22,
     "metadata": {},
     "output_type": "execute_result"
    }
   ],
   "source": [
    "data = data.merge(tariffs, how='outer')\n",
    "data.head(10)"
   ]
  },
  {
   "cell_type": "markdown",
   "metadata": {},
   "source": [
    "Удалим столбцы с инфомацией, которая не понадобится нам в работе:"
   ]
  },
  {
   "cell_type": "code",
   "execution_count": 23,
   "metadata": {
    "scrolled": true
   },
   "outputs": [
    {
     "data": {
      "text/html": [
       "<div>\n",
       "<style scoped>\n",
       "    .dataframe tbody tr th:only-of-type {\n",
       "        vertical-align: middle;\n",
       "    }\n",
       "\n",
       "    .dataframe tbody tr th {\n",
       "        vertical-align: top;\n",
       "    }\n",
       "\n",
       "    .dataframe thead th {\n",
       "        text-align: right;\n",
       "    }\n",
       "</style>\n",
       "<table border=\"1\" class=\"dataframe\">\n",
       "  <thead>\n",
       "    <tr style=\"text-align: right;\">\n",
       "      <th></th>\n",
       "      <th>user_id</th>\n",
       "      <th>churn_date</th>\n",
       "      <th>city</th>\n",
       "      <th>reg_date</th>\n",
       "      <th>tariff</th>\n",
       "      <th>month</th>\n",
       "      <th>calls_count</th>\n",
       "      <th>calls_duration</th>\n",
       "      <th>messages_count</th>\n",
       "      <th>mb_used_monthly</th>\n",
       "      <th>messages_included</th>\n",
       "      <th>mb_per_month_included</th>\n",
       "      <th>minutes_included</th>\n",
       "      <th>rub_monthly_fee</th>\n",
       "      <th>rub_per_gb</th>\n",
       "      <th>rub_per_message</th>\n",
       "      <th>rub_per_minute</th>\n",
       "    </tr>\n",
       "  </thead>\n",
       "  <tbody>\n",
       "    <tr>\n",
       "      <td>0</td>\n",
       "      <td>1000</td>\n",
       "      <td>NaT</td>\n",
       "      <td>Краснодар</td>\n",
       "      <td>2018-05-25</td>\n",
       "      <td>ultra</td>\n",
       "      <td>5.0</td>\n",
       "      <td>22.0</td>\n",
       "      <td>164.0</td>\n",
       "      <td>22.0</td>\n",
       "      <td>2257.0</td>\n",
       "      <td>1000</td>\n",
       "      <td>30720</td>\n",
       "      <td>3000</td>\n",
       "      <td>1950</td>\n",
       "      <td>150</td>\n",
       "      <td>1</td>\n",
       "      <td>1</td>\n",
       "    </tr>\n",
       "    <tr>\n",
       "      <td>1</td>\n",
       "      <td>1000</td>\n",
       "      <td>NaT</td>\n",
       "      <td>Краснодар</td>\n",
       "      <td>2018-05-25</td>\n",
       "      <td>ultra</td>\n",
       "      <td>6.0</td>\n",
       "      <td>43.0</td>\n",
       "      <td>187.0</td>\n",
       "      <td>60.0</td>\n",
       "      <td>23262.0</td>\n",
       "      <td>1000</td>\n",
       "      <td>30720</td>\n",
       "      <td>3000</td>\n",
       "      <td>1950</td>\n",
       "      <td>150</td>\n",
       "      <td>1</td>\n",
       "      <td>1</td>\n",
       "    </tr>\n",
       "    <tr>\n",
       "      <td>2</td>\n",
       "      <td>1000</td>\n",
       "      <td>NaT</td>\n",
       "      <td>Краснодар</td>\n",
       "      <td>2018-05-25</td>\n",
       "      <td>ultra</td>\n",
       "      <td>7.0</td>\n",
       "      <td>47.0</td>\n",
       "      <td>346.0</td>\n",
       "      <td>75.0</td>\n",
       "      <td>14017.0</td>\n",
       "      <td>1000</td>\n",
       "      <td>30720</td>\n",
       "      <td>3000</td>\n",
       "      <td>1950</td>\n",
       "      <td>150</td>\n",
       "      <td>1</td>\n",
       "      <td>1</td>\n",
       "    </tr>\n",
       "  </tbody>\n",
       "</table>\n",
       "</div>"
      ],
      "text/plain": [
       "   user_id churn_date       city   reg_date tariff  month  calls_count  \\\n",
       "0     1000        NaT  Краснодар 2018-05-25  ultra    5.0         22.0   \n",
       "1     1000        NaT  Краснодар 2018-05-25  ultra    6.0         43.0   \n",
       "2     1000        NaT  Краснодар 2018-05-25  ultra    7.0         47.0   \n",
       "\n",
       "   calls_duration  messages_count  mb_used_monthly  messages_included  \\\n",
       "0           164.0            22.0           2257.0               1000   \n",
       "1           187.0            60.0          23262.0               1000   \n",
       "2           346.0            75.0          14017.0               1000   \n",
       "\n",
       "   mb_per_month_included  minutes_included  rub_monthly_fee  rub_per_gb  \\\n",
       "0                  30720              3000             1950         150   \n",
       "1                  30720              3000             1950         150   \n",
       "2                  30720              3000             1950         150   \n",
       "\n",
       "   rub_per_message  rub_per_minute  \n",
       "0                1               1  \n",
       "1                1               1  \n",
       "2                1               1  "
      ]
     },
     "execution_count": 23,
     "metadata": {},
     "output_type": "execute_result"
    }
   ],
   "source": [
    "data.drop(['age', 'first_name', 'last_name'], axis=1, inplace=True)\n",
    "\n",
    "data.head(3)"
   ]
  },
  {
   "cell_type": "markdown",
   "metadata": {},
   "source": [
    "Проверим новую таблицу на наличие пропусков:"
   ]
  },
  {
   "cell_type": "code",
   "execution_count": 24,
   "metadata": {},
   "outputs": [
    {
     "data": {
      "text/plain": [
       "user_id                     0\n",
       "churn_date               3027\n",
       "city                        0\n",
       "reg_date                    0\n",
       "tariff                      0\n",
       "month                       2\n",
       "calls_count                42\n",
       "calls_duration             42\n",
       "messages_count            499\n",
       "mb_used_monthly            13\n",
       "messages_included           0\n",
       "mb_per_month_included       0\n",
       "minutes_included            0\n",
       "rub_monthly_fee             0\n",
       "rub_per_gb                  0\n",
       "rub_per_message             0\n",
       "rub_per_minute              0\n",
       "dtype: int64"
      ]
     },
     "execution_count": 24,
     "metadata": {},
     "output_type": "execute_result"
    }
   ],
   "source": [
    "data.isna().sum()"
   ]
  },
  {
   "cell_type": "markdown",
   "metadata": {},
   "source": [
    "Итак, пропуски появились в следующих колонках: month, calls_count, calls_duration, messages_count, mb_used_monthly. Это может быть связано с тем, что клиенты могли не пользоваться всеми услугами связи в тот или иной месяц, т.ч. заменим пропуски нулями:"
   ]
  },
  {
   "cell_type": "code",
   "execution_count": 25,
   "metadata": {},
   "outputs": [],
   "source": [
    "data['month'].fillna(0, inplace=True)\n",
    "data['calls_count'].fillna(0, inplace=True)\n",
    "data['calls_duration'].fillna(0, inplace=True)\n",
    "data['messages_count'].fillna(0, inplace=True)\n",
    "data['mb_used_monthly'].fillna(0, inplace=True)"
   ]
  },
  {
   "cell_type": "code",
   "execution_count": 26,
   "metadata": {},
   "outputs": [
    {
     "data": {
      "text/plain": [
       "user_id                     0\n",
       "churn_date               3027\n",
       "city                        0\n",
       "reg_date                    0\n",
       "tariff                      0\n",
       "month                       0\n",
       "calls_count                 0\n",
       "calls_duration              0\n",
       "messages_count              0\n",
       "mb_used_monthly             0\n",
       "messages_included           0\n",
       "mb_per_month_included       0\n",
       "minutes_included            0\n",
       "rub_monthly_fee             0\n",
       "rub_per_gb                  0\n",
       "rub_per_message             0\n",
       "rub_per_minute              0\n",
       "dtype: int64"
      ]
     },
     "execution_count": 26,
     "metadata": {},
     "output_type": "execute_result"
    }
   ],
   "source": [
    "data.isna().sum()"
   ]
  },
  {
   "cell_type": "markdown",
   "metadata": {},
   "source": [
    "Проверим, есть ли дубликаты и взглянем на количество строк:"
   ]
  },
  {
   "cell_type": "code",
   "execution_count": 27,
   "metadata": {},
   "outputs": [
    {
     "data": {
      "text/plain": [
       "0"
      ]
     },
     "execution_count": 27,
     "metadata": {},
     "output_type": "execute_result"
    }
   ],
   "source": [
    "data.duplicated().sum()"
   ]
  },
  {
   "cell_type": "code",
   "execution_count": 28,
   "metadata": {},
   "outputs": [
    {
     "data": {
      "text/plain": [
       "(3216, 17)"
      ]
     },
     "execution_count": 28,
     "metadata": {},
     "output_type": "execute_result"
    }
   ],
   "source": [
    "data.shape"
   ]
  },
  {
   "cell_type": "markdown",
   "metadata": {},
   "source": [
    "Приведем следующие столбцы к целочисленному виду: month, calls_count, calls_duration, messages_count, mb_used_monthly."
   ]
  },
  {
   "cell_type": "code",
   "execution_count": 29,
   "metadata": {
    "scrolled": false
   },
   "outputs": [
    {
     "data": {
      "text/html": [
       "<div>\n",
       "<style scoped>\n",
       "    .dataframe tbody tr th:only-of-type {\n",
       "        vertical-align: middle;\n",
       "    }\n",
       "\n",
       "    .dataframe tbody tr th {\n",
       "        vertical-align: top;\n",
       "    }\n",
       "\n",
       "    .dataframe thead th {\n",
       "        text-align: right;\n",
       "    }\n",
       "</style>\n",
       "<table border=\"1\" class=\"dataframe\">\n",
       "  <thead>\n",
       "    <tr style=\"text-align: right;\">\n",
       "      <th></th>\n",
       "      <th>user_id</th>\n",
       "      <th>churn_date</th>\n",
       "      <th>city</th>\n",
       "      <th>reg_date</th>\n",
       "      <th>tariff</th>\n",
       "      <th>month</th>\n",
       "      <th>calls_count</th>\n",
       "      <th>calls_duration</th>\n",
       "      <th>messages_count</th>\n",
       "      <th>mb_used_monthly</th>\n",
       "      <th>messages_included</th>\n",
       "      <th>mb_per_month_included</th>\n",
       "      <th>minutes_included</th>\n",
       "      <th>rub_monthly_fee</th>\n",
       "      <th>rub_per_gb</th>\n",
       "      <th>rub_per_message</th>\n",
       "      <th>rub_per_minute</th>\n",
       "    </tr>\n",
       "  </thead>\n",
       "  <tbody>\n",
       "    <tr>\n",
       "      <td>0</td>\n",
       "      <td>1000</td>\n",
       "      <td>NaT</td>\n",
       "      <td>Краснодар</td>\n",
       "      <td>2018-05-25</td>\n",
       "      <td>ultra</td>\n",
       "      <td>5</td>\n",
       "      <td>22</td>\n",
       "      <td>164</td>\n",
       "      <td>22</td>\n",
       "      <td>2257</td>\n",
       "      <td>1000</td>\n",
       "      <td>30720</td>\n",
       "      <td>3000</td>\n",
       "      <td>1950</td>\n",
       "      <td>150</td>\n",
       "      <td>1</td>\n",
       "      <td>1</td>\n",
       "    </tr>\n",
       "    <tr>\n",
       "      <td>1</td>\n",
       "      <td>1000</td>\n",
       "      <td>NaT</td>\n",
       "      <td>Краснодар</td>\n",
       "      <td>2018-05-25</td>\n",
       "      <td>ultra</td>\n",
       "      <td>6</td>\n",
       "      <td>43</td>\n",
       "      <td>187</td>\n",
       "      <td>60</td>\n",
       "      <td>23262</td>\n",
       "      <td>1000</td>\n",
       "      <td>30720</td>\n",
       "      <td>3000</td>\n",
       "      <td>1950</td>\n",
       "      <td>150</td>\n",
       "      <td>1</td>\n",
       "      <td>1</td>\n",
       "    </tr>\n",
       "    <tr>\n",
       "      <td>2</td>\n",
       "      <td>1000</td>\n",
       "      <td>NaT</td>\n",
       "      <td>Краснодар</td>\n",
       "      <td>2018-05-25</td>\n",
       "      <td>ultra</td>\n",
       "      <td>7</td>\n",
       "      <td>47</td>\n",
       "      <td>346</td>\n",
       "      <td>75</td>\n",
       "      <td>14017</td>\n",
       "      <td>1000</td>\n",
       "      <td>30720</td>\n",
       "      <td>3000</td>\n",
       "      <td>1950</td>\n",
       "      <td>150</td>\n",
       "      <td>1</td>\n",
       "      <td>1</td>\n",
       "    </tr>\n",
       "    <tr>\n",
       "      <td>3</td>\n",
       "      <td>1000</td>\n",
       "      <td>NaT</td>\n",
       "      <td>Краснодар</td>\n",
       "      <td>2018-05-25</td>\n",
       "      <td>ultra</td>\n",
       "      <td>8</td>\n",
       "      <td>52</td>\n",
       "      <td>418</td>\n",
       "      <td>81</td>\n",
       "      <td>14072</td>\n",
       "      <td>1000</td>\n",
       "      <td>30720</td>\n",
       "      <td>3000</td>\n",
       "      <td>1950</td>\n",
       "      <td>150</td>\n",
       "      <td>1</td>\n",
       "      <td>1</td>\n",
       "    </tr>\n",
       "    <tr>\n",
       "      <td>4</td>\n",
       "      <td>1000</td>\n",
       "      <td>NaT</td>\n",
       "      <td>Краснодар</td>\n",
       "      <td>2018-05-25</td>\n",
       "      <td>ultra</td>\n",
       "      <td>9</td>\n",
       "      <td>58</td>\n",
       "      <td>478</td>\n",
       "      <td>57</td>\n",
       "      <td>14583</td>\n",
       "      <td>1000</td>\n",
       "      <td>30720</td>\n",
       "      <td>3000</td>\n",
       "      <td>1950</td>\n",
       "      <td>150</td>\n",
       "      <td>1</td>\n",
       "      <td>1</td>\n",
       "    </tr>\n",
       "    <tr>\n",
       "      <td>...</td>\n",
       "      <td>...</td>\n",
       "      <td>...</td>\n",
       "      <td>...</td>\n",
       "      <td>...</td>\n",
       "      <td>...</td>\n",
       "      <td>...</td>\n",
       "      <td>...</td>\n",
       "      <td>...</td>\n",
       "      <td>...</td>\n",
       "      <td>...</td>\n",
       "      <td>...</td>\n",
       "      <td>...</td>\n",
       "      <td>...</td>\n",
       "      <td>...</td>\n",
       "      <td>...</td>\n",
       "      <td>...</td>\n",
       "      <td>...</td>\n",
       "    </tr>\n",
       "    <tr>\n",
       "      <td>3211</td>\n",
       "      <td>1498</td>\n",
       "      <td>2018-10-25</td>\n",
       "      <td>Владикавказ</td>\n",
       "      <td>2018-07-19</td>\n",
       "      <td>smart</td>\n",
       "      <td>10</td>\n",
       "      <td>41</td>\n",
       "      <td>258</td>\n",
       "      <td>42</td>\n",
       "      <td>20614</td>\n",
       "      <td>50</td>\n",
       "      <td>15360</td>\n",
       "      <td>500</td>\n",
       "      <td>550</td>\n",
       "      <td>200</td>\n",
       "      <td>3</td>\n",
       "      <td>3</td>\n",
       "    </tr>\n",
       "    <tr>\n",
       "      <td>3212</td>\n",
       "      <td>1499</td>\n",
       "      <td>NaT</td>\n",
       "      <td>Пермь</td>\n",
       "      <td>2018-09-27</td>\n",
       "      <td>smart</td>\n",
       "      <td>9</td>\n",
       "      <td>9</td>\n",
       "      <td>71</td>\n",
       "      <td>11</td>\n",
       "      <td>1849</td>\n",
       "      <td>50</td>\n",
       "      <td>15360</td>\n",
       "      <td>500</td>\n",
       "      <td>550</td>\n",
       "      <td>200</td>\n",
       "      <td>3</td>\n",
       "      <td>3</td>\n",
       "    </tr>\n",
       "    <tr>\n",
       "      <td>3213</td>\n",
       "      <td>1499</td>\n",
       "      <td>NaT</td>\n",
       "      <td>Пермь</td>\n",
       "      <td>2018-09-27</td>\n",
       "      <td>smart</td>\n",
       "      <td>10</td>\n",
       "      <td>68</td>\n",
       "      <td>473</td>\n",
       "      <td>48</td>\n",
       "      <td>17824</td>\n",
       "      <td>50</td>\n",
       "      <td>15360</td>\n",
       "      <td>500</td>\n",
       "      <td>550</td>\n",
       "      <td>200</td>\n",
       "      <td>3</td>\n",
       "      <td>3</td>\n",
       "    </tr>\n",
       "    <tr>\n",
       "      <td>3214</td>\n",
       "      <td>1499</td>\n",
       "      <td>NaT</td>\n",
       "      <td>Пермь</td>\n",
       "      <td>2018-09-27</td>\n",
       "      <td>smart</td>\n",
       "      <td>11</td>\n",
       "      <td>74</td>\n",
       "      <td>624</td>\n",
       "      <td>59</td>\n",
       "      <td>17994</td>\n",
       "      <td>50</td>\n",
       "      <td>15360</td>\n",
       "      <td>500</td>\n",
       "      <td>550</td>\n",
       "      <td>200</td>\n",
       "      <td>3</td>\n",
       "      <td>3</td>\n",
       "    </tr>\n",
       "    <tr>\n",
       "      <td>3215</td>\n",
       "      <td>1499</td>\n",
       "      <td>NaT</td>\n",
       "      <td>Пермь</td>\n",
       "      <td>2018-09-27</td>\n",
       "      <td>smart</td>\n",
       "      <td>12</td>\n",
       "      <td>69</td>\n",
       "      <td>505</td>\n",
       "      <td>66</td>\n",
       "      <td>13082</td>\n",
       "      <td>50</td>\n",
       "      <td>15360</td>\n",
       "      <td>500</td>\n",
       "      <td>550</td>\n",
       "      <td>200</td>\n",
       "      <td>3</td>\n",
       "      <td>3</td>\n",
       "    </tr>\n",
       "  </tbody>\n",
       "</table>\n",
       "<p>3216 rows × 17 columns</p>\n",
       "</div>"
      ],
      "text/plain": [
       "      user_id churn_date         city   reg_date tariff  month  calls_count  \\\n",
       "0        1000        NaT    Краснодар 2018-05-25  ultra      5           22   \n",
       "1        1000        NaT    Краснодар 2018-05-25  ultra      6           43   \n",
       "2        1000        NaT    Краснодар 2018-05-25  ultra      7           47   \n",
       "3        1000        NaT    Краснодар 2018-05-25  ultra      8           52   \n",
       "4        1000        NaT    Краснодар 2018-05-25  ultra      9           58   \n",
       "...       ...        ...          ...        ...    ...    ...          ...   \n",
       "3211     1498 2018-10-25  Владикавказ 2018-07-19  smart     10           41   \n",
       "3212     1499        NaT        Пермь 2018-09-27  smart      9            9   \n",
       "3213     1499        NaT        Пермь 2018-09-27  smart     10           68   \n",
       "3214     1499        NaT        Пермь 2018-09-27  smart     11           74   \n",
       "3215     1499        NaT        Пермь 2018-09-27  smart     12           69   \n",
       "\n",
       "      calls_duration  messages_count  mb_used_monthly  messages_included  \\\n",
       "0                164              22             2257               1000   \n",
       "1                187              60            23262               1000   \n",
       "2                346              75            14017               1000   \n",
       "3                418              81            14072               1000   \n",
       "4                478              57            14583               1000   \n",
       "...              ...             ...              ...                ...   \n",
       "3211             258              42            20614                 50   \n",
       "3212              71              11             1849                 50   \n",
       "3213             473              48            17824                 50   \n",
       "3214             624              59            17994                 50   \n",
       "3215             505              66            13082                 50   \n",
       "\n",
       "      mb_per_month_included  minutes_included  rub_monthly_fee  rub_per_gb  \\\n",
       "0                     30720              3000             1950         150   \n",
       "1                     30720              3000             1950         150   \n",
       "2                     30720              3000             1950         150   \n",
       "3                     30720              3000             1950         150   \n",
       "4                     30720              3000             1950         150   \n",
       "...                     ...               ...              ...         ...   \n",
       "3211                  15360               500              550         200   \n",
       "3212                  15360               500              550         200   \n",
       "3213                  15360               500              550         200   \n",
       "3214                  15360               500              550         200   \n",
       "3215                  15360               500              550         200   \n",
       "\n",
       "      rub_per_message  rub_per_minute  \n",
       "0                   1               1  \n",
       "1                   1               1  \n",
       "2                   1               1  \n",
       "3                   1               1  \n",
       "4                   1               1  \n",
       "...               ...             ...  \n",
       "3211                3               3  \n",
       "3212                3               3  \n",
       "3213                3               3  \n",
       "3214                3               3  \n",
       "3215                3               3  \n",
       "\n",
       "[3216 rows x 17 columns]"
      ]
     },
     "execution_count": 29,
     "metadata": {},
     "output_type": "execute_result"
    }
   ],
   "source": [
    "data['month'] = data['month'].astype('int')\n",
    "data['calls_count'] = data['calls_count'].astype('int')\n",
    "data['calls_duration'] = data['calls_duration'].astype('int')\n",
    "data['messages_count'] = data['messages_count'].astype('int')\n",
    "data['mb_used_monthly'] = data['mb_used_monthly'].astype('int')\n",
    "\n",
    "data"
   ]
  },
  {
   "cell_type": "markdown",
   "metadata": {},
   "source": [
    "**Посчитаем помесячную выручку с каждого пользователя** (вычесть бесплатный лимит из суммарного количества звонков, сообщений и интернет-трафика; умножить остаток на значение из тарифного плана; прибавить абонентскую плату, соответствующую тарифному плану).\n",
    "\n",
    "Для этого напишем функции для звонков, сообщений и интернет-трафика и создадим соответствующие колонки. Не все пользователи превышают лимит тарифного пакета, поэтому, чтобы в колонках не получалось отрицательных значений, в функции указываем условие, чтобы она возвращала 0, если переплаты нет.\n",
    "\n",
    "Затем посчитаем общую переплату за звонки, сообщения и трафик, и прибавим абонентскую плату по тарифу."
   ]
  },
  {
   "cell_type": "code",
   "execution_count": 30,
   "metadata": {},
   "outputs": [
    {
     "data": {
      "text/html": [
       "<div>\n",
       "<style scoped>\n",
       "    .dataframe tbody tr th:only-of-type {\n",
       "        vertical-align: middle;\n",
       "    }\n",
       "\n",
       "    .dataframe tbody tr th {\n",
       "        vertical-align: top;\n",
       "    }\n",
       "\n",
       "    .dataframe thead th {\n",
       "        text-align: right;\n",
       "    }\n",
       "</style>\n",
       "<table border=\"1\" class=\"dataframe\">\n",
       "  <thead>\n",
       "    <tr style=\"text-align: right;\">\n",
       "      <th></th>\n",
       "      <th>user_id</th>\n",
       "      <th>churn_date</th>\n",
       "      <th>city</th>\n",
       "      <th>reg_date</th>\n",
       "      <th>tariff</th>\n",
       "      <th>month</th>\n",
       "      <th>calls_count</th>\n",
       "      <th>calls_duration</th>\n",
       "      <th>messages_count</th>\n",
       "      <th>mb_used_monthly</th>\n",
       "      <th>...</th>\n",
       "      <th>minutes_included</th>\n",
       "      <th>rub_monthly_fee</th>\n",
       "      <th>rub_per_gb</th>\n",
       "      <th>rub_per_message</th>\n",
       "      <th>rub_per_minute</th>\n",
       "      <th>calls_monthly_overpay</th>\n",
       "      <th>messages_monthly_overpay</th>\n",
       "      <th>internet_monthly_overpay</th>\n",
       "      <th>overpay</th>\n",
       "      <th>total_income</th>\n",
       "    </tr>\n",
       "  </thead>\n",
       "  <tbody>\n",
       "    <tr>\n",
       "      <td>0</td>\n",
       "      <td>1000</td>\n",
       "      <td>NaT</td>\n",
       "      <td>Краснодар</td>\n",
       "      <td>2018-05-25</td>\n",
       "      <td>ultra</td>\n",
       "      <td>5</td>\n",
       "      <td>22</td>\n",
       "      <td>164</td>\n",
       "      <td>22</td>\n",
       "      <td>2257</td>\n",
       "      <td>...</td>\n",
       "      <td>3000</td>\n",
       "      <td>1950</td>\n",
       "      <td>150</td>\n",
       "      <td>1</td>\n",
       "      <td>1</td>\n",
       "      <td>0</td>\n",
       "      <td>0</td>\n",
       "      <td>0</td>\n",
       "      <td>0</td>\n",
       "      <td>1950</td>\n",
       "    </tr>\n",
       "    <tr>\n",
       "      <td>1</td>\n",
       "      <td>1000</td>\n",
       "      <td>NaT</td>\n",
       "      <td>Краснодар</td>\n",
       "      <td>2018-05-25</td>\n",
       "      <td>ultra</td>\n",
       "      <td>6</td>\n",
       "      <td>43</td>\n",
       "      <td>187</td>\n",
       "      <td>60</td>\n",
       "      <td>23262</td>\n",
       "      <td>...</td>\n",
       "      <td>3000</td>\n",
       "      <td>1950</td>\n",
       "      <td>150</td>\n",
       "      <td>1</td>\n",
       "      <td>1</td>\n",
       "      <td>0</td>\n",
       "      <td>0</td>\n",
       "      <td>0</td>\n",
       "      <td>0</td>\n",
       "      <td>1950</td>\n",
       "    </tr>\n",
       "    <tr>\n",
       "      <td>2</td>\n",
       "      <td>1000</td>\n",
       "      <td>NaT</td>\n",
       "      <td>Краснодар</td>\n",
       "      <td>2018-05-25</td>\n",
       "      <td>ultra</td>\n",
       "      <td>7</td>\n",
       "      <td>47</td>\n",
       "      <td>346</td>\n",
       "      <td>75</td>\n",
       "      <td>14017</td>\n",
       "      <td>...</td>\n",
       "      <td>3000</td>\n",
       "      <td>1950</td>\n",
       "      <td>150</td>\n",
       "      <td>1</td>\n",
       "      <td>1</td>\n",
       "      <td>0</td>\n",
       "      <td>0</td>\n",
       "      <td>0</td>\n",
       "      <td>0</td>\n",
       "      <td>1950</td>\n",
       "    </tr>\n",
       "    <tr>\n",
       "      <td>3</td>\n",
       "      <td>1000</td>\n",
       "      <td>NaT</td>\n",
       "      <td>Краснодар</td>\n",
       "      <td>2018-05-25</td>\n",
       "      <td>ultra</td>\n",
       "      <td>8</td>\n",
       "      <td>52</td>\n",
       "      <td>418</td>\n",
       "      <td>81</td>\n",
       "      <td>14072</td>\n",
       "      <td>...</td>\n",
       "      <td>3000</td>\n",
       "      <td>1950</td>\n",
       "      <td>150</td>\n",
       "      <td>1</td>\n",
       "      <td>1</td>\n",
       "      <td>0</td>\n",
       "      <td>0</td>\n",
       "      <td>0</td>\n",
       "      <td>0</td>\n",
       "      <td>1950</td>\n",
       "    </tr>\n",
       "    <tr>\n",
       "      <td>4</td>\n",
       "      <td>1000</td>\n",
       "      <td>NaT</td>\n",
       "      <td>Краснодар</td>\n",
       "      <td>2018-05-25</td>\n",
       "      <td>ultra</td>\n",
       "      <td>9</td>\n",
       "      <td>58</td>\n",
       "      <td>478</td>\n",
       "      <td>57</td>\n",
       "      <td>14583</td>\n",
       "      <td>...</td>\n",
       "      <td>3000</td>\n",
       "      <td>1950</td>\n",
       "      <td>150</td>\n",
       "      <td>1</td>\n",
       "      <td>1</td>\n",
       "      <td>0</td>\n",
       "      <td>0</td>\n",
       "      <td>0</td>\n",
       "      <td>0</td>\n",
       "      <td>1950</td>\n",
       "    </tr>\n",
       "    <tr>\n",
       "      <td>...</td>\n",
       "      <td>...</td>\n",
       "      <td>...</td>\n",
       "      <td>...</td>\n",
       "      <td>...</td>\n",
       "      <td>...</td>\n",
       "      <td>...</td>\n",
       "      <td>...</td>\n",
       "      <td>...</td>\n",
       "      <td>...</td>\n",
       "      <td>...</td>\n",
       "      <td>...</td>\n",
       "      <td>...</td>\n",
       "      <td>...</td>\n",
       "      <td>...</td>\n",
       "      <td>...</td>\n",
       "      <td>...</td>\n",
       "      <td>...</td>\n",
       "      <td>...</td>\n",
       "      <td>...</td>\n",
       "      <td>...</td>\n",
       "      <td>...</td>\n",
       "    </tr>\n",
       "    <tr>\n",
       "      <td>3211</td>\n",
       "      <td>1498</td>\n",
       "      <td>2018-10-25</td>\n",
       "      <td>Владикавказ</td>\n",
       "      <td>2018-07-19</td>\n",
       "      <td>smart</td>\n",
       "      <td>10</td>\n",
       "      <td>41</td>\n",
       "      <td>258</td>\n",
       "      <td>42</td>\n",
       "      <td>20614</td>\n",
       "      <td>...</td>\n",
       "      <td>500</td>\n",
       "      <td>550</td>\n",
       "      <td>200</td>\n",
       "      <td>3</td>\n",
       "      <td>3</td>\n",
       "      <td>0</td>\n",
       "      <td>0</td>\n",
       "      <td>1200</td>\n",
       "      <td>1200</td>\n",
       "      <td>1750</td>\n",
       "    </tr>\n",
       "    <tr>\n",
       "      <td>3212</td>\n",
       "      <td>1499</td>\n",
       "      <td>NaT</td>\n",
       "      <td>Пермь</td>\n",
       "      <td>2018-09-27</td>\n",
       "      <td>smart</td>\n",
       "      <td>9</td>\n",
       "      <td>9</td>\n",
       "      <td>71</td>\n",
       "      <td>11</td>\n",
       "      <td>1849</td>\n",
       "      <td>...</td>\n",
       "      <td>500</td>\n",
       "      <td>550</td>\n",
       "      <td>200</td>\n",
       "      <td>3</td>\n",
       "      <td>3</td>\n",
       "      <td>0</td>\n",
       "      <td>0</td>\n",
       "      <td>0</td>\n",
       "      <td>0</td>\n",
       "      <td>550</td>\n",
       "    </tr>\n",
       "    <tr>\n",
       "      <td>3213</td>\n",
       "      <td>1499</td>\n",
       "      <td>NaT</td>\n",
       "      <td>Пермь</td>\n",
       "      <td>2018-09-27</td>\n",
       "      <td>smart</td>\n",
       "      <td>10</td>\n",
       "      <td>68</td>\n",
       "      <td>473</td>\n",
       "      <td>48</td>\n",
       "      <td>17824</td>\n",
       "      <td>...</td>\n",
       "      <td>500</td>\n",
       "      <td>550</td>\n",
       "      <td>200</td>\n",
       "      <td>3</td>\n",
       "      <td>3</td>\n",
       "      <td>0</td>\n",
       "      <td>0</td>\n",
       "      <td>600</td>\n",
       "      <td>600</td>\n",
       "      <td>1150</td>\n",
       "    </tr>\n",
       "    <tr>\n",
       "      <td>3214</td>\n",
       "      <td>1499</td>\n",
       "      <td>NaT</td>\n",
       "      <td>Пермь</td>\n",
       "      <td>2018-09-27</td>\n",
       "      <td>smart</td>\n",
       "      <td>11</td>\n",
       "      <td>74</td>\n",
       "      <td>624</td>\n",
       "      <td>59</td>\n",
       "      <td>17994</td>\n",
       "      <td>...</td>\n",
       "      <td>500</td>\n",
       "      <td>550</td>\n",
       "      <td>200</td>\n",
       "      <td>3</td>\n",
       "      <td>3</td>\n",
       "      <td>372</td>\n",
       "      <td>27</td>\n",
       "      <td>600</td>\n",
       "      <td>999</td>\n",
       "      <td>1549</td>\n",
       "    </tr>\n",
       "    <tr>\n",
       "      <td>3215</td>\n",
       "      <td>1499</td>\n",
       "      <td>NaT</td>\n",
       "      <td>Пермь</td>\n",
       "      <td>2018-09-27</td>\n",
       "      <td>smart</td>\n",
       "      <td>12</td>\n",
       "      <td>69</td>\n",
       "      <td>505</td>\n",
       "      <td>66</td>\n",
       "      <td>13082</td>\n",
       "      <td>...</td>\n",
       "      <td>500</td>\n",
       "      <td>550</td>\n",
       "      <td>200</td>\n",
       "      <td>3</td>\n",
       "      <td>3</td>\n",
       "      <td>15</td>\n",
       "      <td>48</td>\n",
       "      <td>0</td>\n",
       "      <td>63</td>\n",
       "      <td>613</td>\n",
       "    </tr>\n",
       "  </tbody>\n",
       "</table>\n",
       "<p>3216 rows × 22 columns</p>\n",
       "</div>"
      ],
      "text/plain": [
       "      user_id churn_date         city   reg_date tariff  month  calls_count  \\\n",
       "0        1000        NaT    Краснодар 2018-05-25  ultra      5           22   \n",
       "1        1000        NaT    Краснодар 2018-05-25  ultra      6           43   \n",
       "2        1000        NaT    Краснодар 2018-05-25  ultra      7           47   \n",
       "3        1000        NaT    Краснодар 2018-05-25  ultra      8           52   \n",
       "4        1000        NaT    Краснодар 2018-05-25  ultra      9           58   \n",
       "...       ...        ...          ...        ...    ...    ...          ...   \n",
       "3211     1498 2018-10-25  Владикавказ 2018-07-19  smart     10           41   \n",
       "3212     1499        NaT        Пермь 2018-09-27  smart      9            9   \n",
       "3213     1499        NaT        Пермь 2018-09-27  smart     10           68   \n",
       "3214     1499        NaT        Пермь 2018-09-27  smart     11           74   \n",
       "3215     1499        NaT        Пермь 2018-09-27  smart     12           69   \n",
       "\n",
       "      calls_duration  messages_count  mb_used_monthly  ...  minutes_included  \\\n",
       "0                164              22             2257  ...              3000   \n",
       "1                187              60            23262  ...              3000   \n",
       "2                346              75            14017  ...              3000   \n",
       "3                418              81            14072  ...              3000   \n",
       "4                478              57            14583  ...              3000   \n",
       "...              ...             ...              ...  ...               ...   \n",
       "3211             258              42            20614  ...               500   \n",
       "3212              71              11             1849  ...               500   \n",
       "3213             473              48            17824  ...               500   \n",
       "3214             624              59            17994  ...               500   \n",
       "3215             505              66            13082  ...               500   \n",
       "\n",
       "      rub_monthly_fee  rub_per_gb  rub_per_message  rub_per_minute  \\\n",
       "0                1950         150                1               1   \n",
       "1                1950         150                1               1   \n",
       "2                1950         150                1               1   \n",
       "3                1950         150                1               1   \n",
       "4                1950         150                1               1   \n",
       "...               ...         ...              ...             ...   \n",
       "3211              550         200                3               3   \n",
       "3212              550         200                3               3   \n",
       "3213              550         200                3               3   \n",
       "3214              550         200                3               3   \n",
       "3215              550         200                3               3   \n",
       "\n",
       "      calls_monthly_overpay  messages_monthly_overpay  \\\n",
       "0                         0                         0   \n",
       "1                         0                         0   \n",
       "2                         0                         0   \n",
       "3                         0                         0   \n",
       "4                         0                         0   \n",
       "...                     ...                       ...   \n",
       "3211                      0                         0   \n",
       "3212                      0                         0   \n",
       "3213                      0                         0   \n",
       "3214                    372                        27   \n",
       "3215                     15                        48   \n",
       "\n",
       "      internet_monthly_overpay  overpay  total_income  \n",
       "0                            0        0          1950  \n",
       "1                            0        0          1950  \n",
       "2                            0        0          1950  \n",
       "3                            0        0          1950  \n",
       "4                            0        0          1950  \n",
       "...                        ...      ...           ...  \n",
       "3211                      1200     1200          1750  \n",
       "3212                         0        0           550  \n",
       "3213                       600      600          1150  \n",
       "3214                       600      999          1549  \n",
       "3215                         0       63           613  \n",
       "\n",
       "[3216 rows x 22 columns]"
      ]
     },
     "execution_count": 30,
     "metadata": {},
     "output_type": "execute_result"
    }
   ],
   "source": [
    "def calls_monthly_overpay(row):\n",
    "    calls_duration = row['calls_duration']\n",
    "    minutes_included = row['minutes_included']\n",
    "    rub_per_minute = row['rub_per_minute']\n",
    "    result =(calls_duration - minutes_included) * rub_per_minute\n",
    "    if result <= 0:\n",
    "        return 0\n",
    "    return result\n",
    "\n",
    "data['calls_monthly_overpay'] = data.apply(calls_monthly_overpay, axis=1)\n",
    "\n",
    "\n",
    "def messages_monthly_overpay(row):\n",
    "    messages_count = row['messages_count']\n",
    "    messages_included = row['messages_included']\n",
    "    rub_per_message = row['rub_per_message']\n",
    "    result =(messages_count - messages_included) * rub_per_message\n",
    "    if result <= 0:\n",
    "        return 0\n",
    "    return result\n",
    "\n",
    "data['messages_monthly_overpay'] = data.apply(messages_monthly_overpay, axis=1)\n",
    "\n",
    "\n",
    "def internet_monthly_overpay(row):\n",
    "    mb_used_monthly = row['mb_used_monthly']\n",
    "    mb_per_month_included = row['mb_per_month_included']\n",
    "    rub_per_gb = row['rub_per_gb']\n",
    "    result = np.ceil((mb_used_monthly - mb_per_month_included) / 1024) * rub_per_gb\n",
    "    if result <= 0:\n",
    "        return 0\n",
    "    return result\n",
    "    \n",
    "data['internet_monthly_overpay'] = data.apply(internet_monthly_overpay, axis=1)\n",
    "data['internet_monthly_overpay'] = data['internet_monthly_overpay'].astype('int')\n",
    "\n",
    "\n",
    "data['overpay'] = data['calls_monthly_overpay'] + data['messages_monthly_overpay'] + data['internet_monthly_overpay']\n",
    "\n",
    "data['total_income'] = data['overpay'] + data['rub_monthly_fee']\n",
    "\n",
    "data"
   ]
  },
  {
   "cell_type": "markdown",
   "metadata": {},
   "source": [
    "# Шаг 3. Анализ данных\n",
    "<a name='analysis'></a>"
   ]
  },
  {
   "cell_type": "markdown",
   "metadata": {},
   "source": [
    "Опишем поведение клиентов оператора, исходя из выборки. Сколько минут разговора, сколько сообщений и какой объём интернет-трафика требуется пользователям каждого тарифа в месяц? Посчитаем среднее количество, дисперсию и стандартное отклонение. Построем гистограммы. Опишем распределения."
   ]
  },
  {
   "cell_type": "markdown",
   "metadata": {},
   "source": [
    "Сделаем 2 выборки по тарифам ultra и smart методом query:"
   ]
  },
  {
   "cell_type": "markdown",
   "metadata": {},
   "source": [
    "**Тариф ULTRA:**"
   ]
  },
  {
   "cell_type": "code",
   "execution_count": 31,
   "metadata": {},
   "outputs": [
    {
     "data": {
      "text/html": [
       "<div>\n",
       "<style scoped>\n",
       "    .dataframe tbody tr th:only-of-type {\n",
       "        vertical-align: middle;\n",
       "    }\n",
       "\n",
       "    .dataframe tbody tr th {\n",
       "        vertical-align: top;\n",
       "    }\n",
       "\n",
       "    .dataframe thead th {\n",
       "        text-align: right;\n",
       "    }\n",
       "</style>\n",
       "<table border=\"1\" class=\"dataframe\">\n",
       "  <thead>\n",
       "    <tr style=\"text-align: right;\">\n",
       "      <th></th>\n",
       "      <th>user_id</th>\n",
       "      <th>churn_date</th>\n",
       "      <th>city</th>\n",
       "      <th>reg_date</th>\n",
       "      <th>tariff</th>\n",
       "      <th>month</th>\n",
       "      <th>calls_count</th>\n",
       "      <th>calls_duration</th>\n",
       "      <th>messages_count</th>\n",
       "      <th>mb_used_monthly</th>\n",
       "      <th>...</th>\n",
       "      <th>minutes_included</th>\n",
       "      <th>rub_monthly_fee</th>\n",
       "      <th>rub_per_gb</th>\n",
       "      <th>rub_per_message</th>\n",
       "      <th>rub_per_minute</th>\n",
       "      <th>calls_monthly_overpay</th>\n",
       "      <th>messages_monthly_overpay</th>\n",
       "      <th>internet_monthly_overpay</th>\n",
       "      <th>overpay</th>\n",
       "      <th>total_income</th>\n",
       "    </tr>\n",
       "  </thead>\n",
       "  <tbody>\n",
       "    <tr>\n",
       "      <td>0</td>\n",
       "      <td>1000</td>\n",
       "      <td>NaT</td>\n",
       "      <td>Краснодар</td>\n",
       "      <td>2018-05-25</td>\n",
       "      <td>ultra</td>\n",
       "      <td>5</td>\n",
       "      <td>22</td>\n",
       "      <td>164</td>\n",
       "      <td>22</td>\n",
       "      <td>2257</td>\n",
       "      <td>...</td>\n",
       "      <td>3000</td>\n",
       "      <td>1950</td>\n",
       "      <td>150</td>\n",
       "      <td>1</td>\n",
       "      <td>1</td>\n",
       "      <td>0</td>\n",
       "      <td>0</td>\n",
       "      <td>0</td>\n",
       "      <td>0</td>\n",
       "      <td>1950</td>\n",
       "    </tr>\n",
       "    <tr>\n",
       "      <td>1</td>\n",
       "      <td>1000</td>\n",
       "      <td>NaT</td>\n",
       "      <td>Краснодар</td>\n",
       "      <td>2018-05-25</td>\n",
       "      <td>ultra</td>\n",
       "      <td>6</td>\n",
       "      <td>43</td>\n",
       "      <td>187</td>\n",
       "      <td>60</td>\n",
       "      <td>23262</td>\n",
       "      <td>...</td>\n",
       "      <td>3000</td>\n",
       "      <td>1950</td>\n",
       "      <td>150</td>\n",
       "      <td>1</td>\n",
       "      <td>1</td>\n",
       "      <td>0</td>\n",
       "      <td>0</td>\n",
       "      <td>0</td>\n",
       "      <td>0</td>\n",
       "      <td>1950</td>\n",
       "    </tr>\n",
       "    <tr>\n",
       "      <td>2</td>\n",
       "      <td>1000</td>\n",
       "      <td>NaT</td>\n",
       "      <td>Краснодар</td>\n",
       "      <td>2018-05-25</td>\n",
       "      <td>ultra</td>\n",
       "      <td>7</td>\n",
       "      <td>47</td>\n",
       "      <td>346</td>\n",
       "      <td>75</td>\n",
       "      <td>14017</td>\n",
       "      <td>...</td>\n",
       "      <td>3000</td>\n",
       "      <td>1950</td>\n",
       "      <td>150</td>\n",
       "      <td>1</td>\n",
       "      <td>1</td>\n",
       "      <td>0</td>\n",
       "      <td>0</td>\n",
       "      <td>0</td>\n",
       "      <td>0</td>\n",
       "      <td>1950</td>\n",
       "    </tr>\n",
       "  </tbody>\n",
       "</table>\n",
       "<p>3 rows × 22 columns</p>\n",
       "</div>"
      ],
      "text/plain": [
       "   user_id churn_date       city   reg_date tariff  month  calls_count  \\\n",
       "0     1000        NaT  Краснодар 2018-05-25  ultra      5           22   \n",
       "1     1000        NaT  Краснодар 2018-05-25  ultra      6           43   \n",
       "2     1000        NaT  Краснодар 2018-05-25  ultra      7           47   \n",
       "\n",
       "   calls_duration  messages_count  mb_used_monthly  ...  minutes_included  \\\n",
       "0             164              22             2257  ...              3000   \n",
       "1             187              60            23262  ...              3000   \n",
       "2             346              75            14017  ...              3000   \n",
       "\n",
       "   rub_monthly_fee  rub_per_gb  rub_per_message  rub_per_minute  \\\n",
       "0             1950         150                1               1   \n",
       "1             1950         150                1               1   \n",
       "2             1950         150                1               1   \n",
       "\n",
       "   calls_monthly_overpay  messages_monthly_overpay  internet_monthly_overpay  \\\n",
       "0                      0                         0                         0   \n",
       "1                      0                         0                         0   \n",
       "2                      0                         0                         0   \n",
       "\n",
       "   overpay  total_income  \n",
       "0        0          1950  \n",
       "1        0          1950  \n",
       "2        0          1950  \n",
       "\n",
       "[3 rows x 22 columns]"
      ]
     },
     "execution_count": 31,
     "metadata": {},
     "output_type": "execute_result"
    }
   ],
   "source": [
    "ultra = data.query('tariff == \"ultra\"')\n",
    "ultra.head(3)"
   ]
  },
  {
   "cell_type": "markdown",
   "metadata": {},
   "source": [
    "Взглянем на числовое описание данных и диаграмму размаха для колонки с **продолжительностью звонков:**"
   ]
  },
  {
   "cell_type": "code",
   "execution_count": 32,
   "metadata": {},
   "outputs": [
    {
     "data": {
      "text/plain": [
       "count     986.000000\n",
       "mean      540.231237\n",
       "std       326.028527\n",
       "min         0.000000\n",
       "25%       291.250000\n",
       "50%       531.500000\n",
       "75%       772.500000\n",
       "max      1727.000000\n",
       "Name: calls_duration, dtype: float64"
      ]
     },
     "execution_count": 32,
     "metadata": {},
     "output_type": "execute_result"
    },
    {
     "data": {
      "image/png": "[encoded data removed]",
      "text/plain": [
       "<Figure size 432x288 with 1 Axes>"
      ]
     },
     "metadata": {
      "needs_background": "light"
     },
     "output_type": "display_data"
    }
   ],
   "source": [
    "plt.boxplot(ultra['calls_duration'])\n",
    "plt.ylim(0, 2000)\n",
    "plt.title('Продолжительность звонков')\n",
    "\n",
    "ultra['calls_duration'].describe()"
   ]
  },
  {
   "cell_type": "markdown",
   "metadata": {},
   "source": [
    "Удалим отрицательные значения и выбросы и снова взглянем на числовое описание и график:"
   ]
  },
  {
   "cell_type": "code",
   "execution_count": 33,
   "metadata": {},
   "outputs": [],
   "source": [
    "ultra = ultra.loc[(ultra['calls_duration'] > 0) & (ultra['calls_duration'] <= 1600)]\n",
    "ultra = ultra.reset_index(drop=True)"
   ]
  },
  {
   "cell_type": "code",
   "execution_count": 34,
   "metadata": {
    "scrolled": false
   },
   "outputs": [
    {
     "data": {
      "text/plain": [
       "count     949.000000\n",
       "mean      557.738672\n",
       "std       310.778937\n",
       "min         1.000000\n",
       "25%       318.000000\n",
       "50%       543.000000\n",
       "75%       776.000000\n",
       "max      1437.000000\n",
       "Name: calls_duration, dtype: float64"
      ]
     },
     "execution_count": 34,
     "metadata": {},
     "output_type": "execute_result"
    },
    {
     "data": {
      "image/png": "[encoded data removed]",
      "text/plain": [
       "<Figure size 432x288 with 1 Axes>"
      ]
     },
     "metadata": {
      "needs_background": "light"
     },
     "output_type": "display_data"
    }
   ],
   "source": [
    "plt.boxplot(ultra['calls_duration'])\n",
    "plt.ylim(0, 1600)\n",
    "plt.title('Продолжительность звонков')\n",
    "\n",
    "ultra['calls_duration'].describe()"
   ]
  },
  {
   "cell_type": "markdown",
   "metadata": {},
   "source": [
    "Построим гистограмму для продолжительности звонков, чтобы оценить распределение:"
   ]
  },
  {
   "cell_type": "code",
   "execution_count": 35,
   "metadata": {},
   "outputs": [
    {
     "data": {
      "text/plain": [
       "Text(0.5, 0, 'calls_duration')"
      ]
     },
     "execution_count": 35,
     "metadata": {},
     "output_type": "execute_result"
    },
    {
     "data": {
      "image/png": "[encoded data removed]",
      "text/plain": [
       "<Figure size 432x288 with 1 Axes>"
      ]
     },
     "metadata": {
      "needs_background": "light"
     },
     "output_type": "display_data"
    }
   ],
   "source": [
    "ultra.plot(y = 'calls_duration', kind = 'hist', bins = 20, grid = True, range = (1,1500), title='\"Ультра\": продолжительность звонков')\n",
    "plt.xlabel('calls_duration')"
   ]
  },
  {
   "cell_type": "markdown",
   "metadata": {},
   "source": [
    "Датасет скошен вправо: средняя продолжительность звонков по тарифу \"Ультра\" больше медианного."
   ]
  },
  {
   "cell_type": "markdown",
   "metadata": {},
   "source": [
    "То же проделаем для колонки с **количеством сообщений:**"
   ]
  },
  {
   "cell_type": "code",
   "execution_count": 36,
   "metadata": {
    "scrolled": false
   },
   "outputs": [
    {
     "data": {
      "text/plain": [
       "count    949.000000\n",
       "mean      49.074816\n",
       "std       46.929470\n",
       "min        0.000000\n",
       "25%        5.000000\n",
       "50%       39.000000\n",
       "75%       79.000000\n",
       "max      224.000000\n",
       "Name: messages_count, dtype: float64"
      ]
     },
     "execution_count": 36,
     "metadata": {},
     "output_type": "execute_result"
    },
    {
     "data": {
      "image/png": "[encoded data removed]",
      "text/plain": [
       "<Figure size 432x288 with 1 Axes>"
      ]
     },
     "metadata": {
      "needs_background": "light"
     },
     "output_type": "display_data"
    }
   ],
   "source": [
    "plt.boxplot(ultra['messages_count'])\n",
    "plt.ylim(0, 250)\n",
    "plt.title('Количество сообщений')\n",
    "\n",
    "ultra['messages_count'].describe()"
   ]
  },
  {
   "cell_type": "markdown",
   "metadata": {},
   "source": [
    "Удалим выбросы:"
   ]
  },
  {
   "cell_type": "code",
   "execution_count": 37,
   "metadata": {},
   "outputs": [],
   "source": [
    "ultra = ultra.loc[(ultra['messages_count'] > 0) & (ultra['messages_count'] <= 200)]\n",
    "ultra = ultra.reset_index(drop=True)"
   ]
  },
  {
   "cell_type": "code",
   "execution_count": 38,
   "metadata": {
    "scrolled": false
   },
   "outputs": [
    {
     "data": {
      "text/plain": [
       "count    758.000000\n",
       "mean      60.850923\n",
       "std       44.017382\n",
       "min        1.000000\n",
       "25%       25.000000\n",
       "50%       52.000000\n",
       "75%       87.750000\n",
       "max      197.000000\n",
       "Name: messages_count, dtype: float64"
      ]
     },
     "execution_count": 38,
     "metadata": {},
     "output_type": "execute_result"
    },
    {
     "data": {
      "image/png": "[encoded data removed]",
      "text/plain": [
       "<Figure size 432x288 with 1 Axes>"
      ]
     },
     "metadata": {
      "needs_background": "light"
     },
     "output_type": "display_data"
    }
   ],
   "source": [
    "plt.boxplot(ultra['messages_count'])\n",
    "plt.ylim(0, 200)\n",
    "plt.title('Количество сообщений')\n",
    "\n",
    "ultra['messages_count'].describe()"
   ]
  },
  {
   "cell_type": "markdown",
   "metadata": {},
   "source": [
    "Построим гистограмму для количества сообщений:"
   ]
  },
  {
   "cell_type": "code",
   "execution_count": 39,
   "metadata": {},
   "outputs": [
    {
     "data": {
      "text/plain": [
       "Text(0.5, 0, 'messages_count')"
      ]
     },
     "execution_count": 39,
     "metadata": {},
     "output_type": "execute_result"
    },
    {
     "data": {
      "image/png": "[encoded data removed]",
      "text/plain": [
       "<Figure size 432x288 with 1 Axes>"
      ]
     },
     "metadata": {
      "needs_background": "light"
     },
     "output_type": "display_data"
    }
   ],
   "source": [
    "ultra.plot(y = 'messages_count', kind = 'hist', bins = 20, grid = True, range = (1,250), title='\"Ультра\": количество сообщений')\n",
    "plt.xlabel('messages_count')"
   ]
  },
  {
   "cell_type": "markdown",
   "metadata": {},
   "source": [
    "Датасет скошен вправо: сообщения пользователи \"Ультра\" пишут не очень часто."
   ]
  },
  {
   "cell_type": "markdown",
   "metadata": {},
   "source": [
    "Таким же образом поработаем над колонкой с **объёмом интернет-трафика:**"
   ]
  },
  {
   "cell_type": "code",
   "execution_count": 40,
   "metadata": {},
   "outputs": [
    {
     "data": {
      "text/plain": [
       "count      758.000000\n",
       "mean     19372.299472\n",
       "std       9823.085803\n",
       "min          0.000000\n",
       "25%      11677.250000\n",
       "50%      19396.500000\n",
       "75%      26789.750000\n",
       "max      49793.000000\n",
       "Name: mb_used_monthly, dtype: float64"
      ]
     },
     "execution_count": 40,
     "metadata": {},
     "output_type": "execute_result"
    },
    {
     "data": {
      "image/png": "[encoded data removed]",
      "text/plain": [
       "<Figure size 432x288 with 1 Axes>"
      ]
     },
     "metadata": {
      "needs_background": "light"
     },
     "output_type": "display_data"
    }
   ],
   "source": [
    "plt.boxplot(ultra['mb_used_monthly'])\n",
    "plt.ylim(0, 50000)\n",
    "plt.title('Объём интернет-трафика')\n",
    "\n",
    "ultra['mb_used_monthly'].describe()"
   ]
  },
  {
   "cell_type": "markdown",
   "metadata": {},
   "source": [
    "Удалим выбросы:"
   ]
  },
  {
   "cell_type": "code",
   "execution_count": 41,
   "metadata": {},
   "outputs": [],
   "source": [
    "ultra = ultra.loc[(ultra['mb_used_monthly'] > 0) & (ultra['mb_used_monthly'] <= 50000)]\n",
    "ultra = ultra.reset_index(drop=True)"
   ]
  },
  {
   "cell_type": "code",
   "execution_count": 42,
   "metadata": {
    "scrolled": false
   },
   "outputs": [
    {
     "data": {
      "text/plain": [
       "count      748.000000\n",
       "mean     19631.287433\n",
       "std       9627.755804\n",
       "min          1.000000\n",
       "25%      12063.750000\n",
       "50%      19465.000000\n",
       "75%      26857.000000\n",
       "max      49793.000000\n",
       "Name: mb_used_monthly, dtype: float64"
      ]
     },
     "execution_count": 42,
     "metadata": {},
     "output_type": "execute_result"
    },
    {
     "data": {
      "image/png": "[encoded data removed]",
      "text/plain": [
       "<Figure size 432x288 with 1 Axes>"
      ]
     },
     "metadata": {
      "needs_background": "light"
     },
     "output_type": "display_data"
    }
   ],
   "source": [
    "plt.boxplot(ultra['mb_used_monthly'])\n",
    "plt.ylim(0, 50000)\n",
    "plt.title('Объём интернет-трафика')\n",
    "\n",
    "ultra['mb_used_monthly'].describe()"
   ]
  },
  {
   "cell_type": "markdown",
   "metadata": {},
   "source": [
    "Гистограмма по объёму интернет-трафика:"
   ]
  },
  {
   "cell_type": "code",
   "execution_count": 43,
   "metadata": {},
   "outputs": [
    {
     "data": {
      "text/plain": [
       "Text(0.5, 0, 'mb_used_monthly')"
      ]
     },
     "execution_count": 43,
     "metadata": {},
     "output_type": "execute_result"
    },
    {
     "data": {
      "image/png": "[encoded data removed]",
      "text/plain": [
       "<Figure size 432x288 with 1 Axes>"
      ]
     },
     "metadata": {
      "needs_background": "light"
     },
     "output_type": "display_data"
    }
   ],
   "source": [
    "ultra.plot(y = 'mb_used_monthly', kind = 'hist', bins = 20, grid = True, range = (1,50000), title='\"Ультра\": объём интернет-трафика')\n",
    "plt.xlabel('mb_used_monthly')"
   ]
  },
  {
   "cell_type": "markdown",
   "metadata": {},
   "source": [
    "Распределение похоже на нормальное."
   ]
  },
  {
   "cell_type": "markdown",
   "metadata": {},
   "source": [
    "Посчитаем **среднее количество, дисперсию и стандартное отклонение** для тарифа \"Ультра\"."
   ]
  },
  {
   "cell_type": "markdown",
   "metadata": {},
   "source": [
    "- для звонков:"
   ]
  },
  {
   "cell_type": "markdown",
   "metadata": {},
   "source": [
    "*среднее:*"
   ]
  },
  {
   "cell_type": "code",
   "execution_count": 44,
   "metadata": {},
   "outputs": [
    {
     "data": {
      "text/plain": [
       "568.6991978609626"
      ]
     },
     "execution_count": 44,
     "metadata": {},
     "output_type": "execute_result"
    }
   ],
   "source": [
    "ultra_calls_mean = (ultra['calls_duration']).mean()\n",
    "ultra_calls_mean"
   ]
  },
  {
   "cell_type": "markdown",
   "metadata": {},
   "source": [
    "*дисперсия:*"
   ]
  },
  {
   "cell_type": "code",
   "execution_count": 45,
   "metadata": {},
   "outputs": [
    {
     "data": {
      "text/plain": [
       "99157.87057499158"
      ]
     },
     "execution_count": 45,
     "metadata": {},
     "output_type": "execute_result"
    }
   ],
   "source": [
    "ultra_calls_variance = np.var(ultra['calls_duration'], ddof=1)\n",
    "ultra_calls_variance"
   ]
  },
  {
   "cell_type": "markdown",
   "metadata": {},
   "source": [
    "*стандартное отклонение:*"
   ]
  },
  {
   "cell_type": "code",
   "execution_count": 46,
   "metadata": {},
   "outputs": [
    {
     "data": {
      "text/plain": [
       "314.89342732897995"
      ]
     },
     "execution_count": 46,
     "metadata": {},
     "output_type": "execute_result"
    }
   ],
   "source": [
    "ultra_calls_standard_deviation = np.std(ultra['calls_duration'], ddof=1)\n",
    "ultra_calls_standard_deviation"
   ]
  },
  {
   "cell_type": "markdown",
   "metadata": {},
   "source": [
    "- для сообщений:"
   ]
  },
  {
   "cell_type": "markdown",
   "metadata": {},
   "source": [
    "*среднее:*"
   ]
  },
  {
   "cell_type": "code",
   "execution_count": 47,
   "metadata": {},
   "outputs": [
    {
     "data": {
      "text/plain": [
       "61.294117647058826"
      ]
     },
     "execution_count": 47,
     "metadata": {},
     "output_type": "execute_result"
    }
   ],
   "source": [
    "ultra_messages_mean = (ultra['messages_count']).mean()\n",
    "ultra_messages_mean"
   ]
  },
  {
   "cell_type": "markdown",
   "metadata": {},
   "source": [
    "*дисперсия:*"
   ]
  },
  {
   "cell_type": "code",
   "execution_count": 48,
   "metadata": {},
   "outputs": [
    {
     "data": {
      "text/plain": [
       "1946.033860933932"
      ]
     },
     "execution_count": 48,
     "metadata": {},
     "output_type": "execute_result"
    }
   ],
   "source": [
    "ultra_messages_variance = np.var(ultra['messages_count'], ddof=1)\n",
    "ultra_messages_variance"
   ]
  },
  {
   "cell_type": "markdown",
   "metadata": {},
   "source": [
    "*стандартное отклонение:*"
   ]
  },
  {
   "cell_type": "code",
   "execution_count": 49,
   "metadata": {},
   "outputs": [
    {
     "data": {
      "text/plain": [
       "44.11387379197084"
      ]
     },
     "execution_count": 49,
     "metadata": {},
     "output_type": "execute_result"
    }
   ],
   "source": [
    "ultra_messages_standard_deviation = np.std(ultra['messages_count'], ddof=1)\n",
    "ultra_messages_standard_deviation"
   ]
  },
  {
   "cell_type": "markdown",
   "metadata": {},
   "source": [
    "- для интернет-трафика:"
   ]
  },
  {
   "cell_type": "markdown",
   "metadata": {},
   "source": [
    "*среднее:*"
   ]
  },
  {
   "cell_type": "code",
   "execution_count": 50,
   "metadata": {},
   "outputs": [
    {
     "data": {
      "text/plain": [
       "19631.28743315508"
      ]
     },
     "execution_count": 50,
     "metadata": {},
     "output_type": "execute_result"
    }
   ],
   "source": [
    "ultra_internet_mean = (ultra['mb_used_monthly']).mean()\n",
    "ultra_internet_mean"
   ]
  },
  {
   "cell_type": "markdown",
   "metadata": {},
   "source": [
    "*дисперсия:*"
   ]
  },
  {
   "cell_type": "code",
   "execution_count": 51,
   "metadata": {},
   "outputs": [
    {
     "data": {
      "text/plain": [
       "92693681.83025686"
      ]
     },
     "execution_count": 51,
     "metadata": {},
     "output_type": "execute_result"
    }
   ],
   "source": [
    "ultra_internet_variance = np.var(ultra['mb_used_monthly'], ddof=1)\n",
    "ultra_internet_variance"
   ]
  },
  {
   "cell_type": "markdown",
   "metadata": {},
   "source": [
    "*стандартное отклонение:*"
   ]
  },
  {
   "cell_type": "code",
   "execution_count": 52,
   "metadata": {},
   "outputs": [
    {
     "data": {
      "text/plain": [
       "9627.755804457072"
      ]
     },
     "execution_count": 52,
     "metadata": {},
     "output_type": "execute_result"
    }
   ],
   "source": [
    "ultra_internet_standard_deviation = np.std(ultra['mb_used_monthly'], ddof=1)\n",
    "ultra_internet_standard_deviation"
   ]
  },
  {
   "cell_type": "markdown",
   "metadata": {},
   "source": [
    "**Вывод:**\n",
    "\n",
    "У пользователей тарифа \"Ультра\" на звонки в среднем уходит 570 минут в месяц. Среднее количество сообщений в месяц - 61. А объем интернет-трафика - 19 Гб.\n"
   ]
  },
  {
   "cell_type": "code",
   "execution_count": 53,
   "metadata": {},
   "outputs": [
    {
     "data": {
      "text/plain": [
       "(748, 22)"
      ]
     },
     "execution_count": 53,
     "metadata": {},
     "output_type": "execute_result"
    }
   ],
   "source": [
    "ultra.shape"
   ]
  },
  {
   "cell_type": "markdown",
   "metadata": {},
   "source": [
    "**Тариф SMART:**"
   ]
  },
  {
   "cell_type": "code",
   "execution_count": 54,
   "metadata": {},
   "outputs": [
    {
     "data": {
      "text/html": [
       "<div>\n",
       "<style scoped>\n",
       "    .dataframe tbody tr th:only-of-type {\n",
       "        vertical-align: middle;\n",
       "    }\n",
       "\n",
       "    .dataframe tbody tr th {\n",
       "        vertical-align: top;\n",
       "    }\n",
       "\n",
       "    .dataframe thead th {\n",
       "        text-align: right;\n",
       "    }\n",
       "</style>\n",
       "<table border=\"1\" class=\"dataframe\">\n",
       "  <thead>\n",
       "    <tr style=\"text-align: right;\">\n",
       "      <th></th>\n",
       "      <th>user_id</th>\n",
       "      <th>churn_date</th>\n",
       "      <th>city</th>\n",
       "      <th>reg_date</th>\n",
       "      <th>tariff</th>\n",
       "      <th>month</th>\n",
       "      <th>calls_count</th>\n",
       "      <th>calls_duration</th>\n",
       "      <th>messages_count</th>\n",
       "      <th>mb_used_monthly</th>\n",
       "      <th>...</th>\n",
       "      <th>minutes_included</th>\n",
       "      <th>rub_monthly_fee</th>\n",
       "      <th>rub_per_gb</th>\n",
       "      <th>rub_per_message</th>\n",
       "      <th>rub_per_minute</th>\n",
       "      <th>calls_monthly_overpay</th>\n",
       "      <th>messages_monthly_overpay</th>\n",
       "      <th>internet_monthly_overpay</th>\n",
       "      <th>overpay</th>\n",
       "      <th>total_income</th>\n",
       "    </tr>\n",
       "  </thead>\n",
       "  <tbody>\n",
       "    <tr>\n",
       "      <td>986</td>\n",
       "      <td>1001</td>\n",
       "      <td>NaT</td>\n",
       "      <td>Москва</td>\n",
       "      <td>2018-11-01</td>\n",
       "      <td>smart</td>\n",
       "      <td>11</td>\n",
       "      <td>59</td>\n",
       "      <td>444</td>\n",
       "      <td>0</td>\n",
       "      <td>18460</td>\n",
       "      <td>...</td>\n",
       "      <td>500</td>\n",
       "      <td>550</td>\n",
       "      <td>200</td>\n",
       "      <td>3</td>\n",
       "      <td>3</td>\n",
       "      <td>0</td>\n",
       "      <td>0</td>\n",
       "      <td>800</td>\n",
       "      <td>800</td>\n",
       "      <td>1350</td>\n",
       "    </tr>\n",
       "    <tr>\n",
       "      <td>987</td>\n",
       "      <td>1001</td>\n",
       "      <td>NaT</td>\n",
       "      <td>Москва</td>\n",
       "      <td>2018-11-01</td>\n",
       "      <td>smart</td>\n",
       "      <td>12</td>\n",
       "      <td>63</td>\n",
       "      <td>430</td>\n",
       "      <td>0</td>\n",
       "      <td>14059</td>\n",
       "      <td>...</td>\n",
       "      <td>500</td>\n",
       "      <td>550</td>\n",
       "      <td>200</td>\n",
       "      <td>3</td>\n",
       "      <td>3</td>\n",
       "      <td>0</td>\n",
       "      <td>0</td>\n",
       "      <td>0</td>\n",
       "      <td>0</td>\n",
       "      <td>550</td>\n",
       "    </tr>\n",
       "    <tr>\n",
       "      <td>988</td>\n",
       "      <td>1002</td>\n",
       "      <td>NaT</td>\n",
       "      <td>Стерлитамак</td>\n",
       "      <td>2018-06-17</td>\n",
       "      <td>smart</td>\n",
       "      <td>6</td>\n",
       "      <td>15</td>\n",
       "      <td>118</td>\n",
       "      <td>4</td>\n",
       "      <td>10878</td>\n",
       "      <td>...</td>\n",
       "      <td>500</td>\n",
       "      <td>550</td>\n",
       "      <td>200</td>\n",
       "      <td>3</td>\n",
       "      <td>3</td>\n",
       "      <td>0</td>\n",
       "      <td>0</td>\n",
       "      <td>0</td>\n",
       "      <td>0</td>\n",
       "      <td>550</td>\n",
       "    </tr>\n",
       "  </tbody>\n",
       "</table>\n",
       "<p>3 rows × 22 columns</p>\n",
       "</div>"
      ],
      "text/plain": [
       "     user_id churn_date         city   reg_date tariff  month  calls_count  \\\n",
       "986     1001        NaT       Москва 2018-11-01  smart     11           59   \n",
       "987     1001        NaT       Москва 2018-11-01  smart     12           63   \n",
       "988     1002        NaT  Стерлитамак 2018-06-17  smart      6           15   \n",
       "\n",
       "     calls_duration  messages_count  mb_used_monthly  ...  minutes_included  \\\n",
       "986             444               0            18460  ...               500   \n",
       "987             430               0            14059  ...               500   \n",
       "988             118               4            10878  ...               500   \n",
       "\n",
       "     rub_monthly_fee  rub_per_gb  rub_per_message  rub_per_minute  \\\n",
       "986              550         200                3               3   \n",
       "987              550         200                3               3   \n",
       "988              550         200                3               3   \n",
       "\n",
       "     calls_monthly_overpay  messages_monthly_overpay  \\\n",
       "986                      0                         0   \n",
       "987                      0                         0   \n",
       "988                      0                         0   \n",
       "\n",
       "     internet_monthly_overpay  overpay  total_income  \n",
       "986                       800      800          1350  \n",
       "987                         0        0           550  \n",
       "988                         0        0           550  \n",
       "\n",
       "[3 rows x 22 columns]"
      ]
     },
     "execution_count": 54,
     "metadata": {},
     "output_type": "execute_result"
    }
   ],
   "source": [
    "smart = data.query('tariff == \"smart\"')\n",
    "smart.head(3)"
   ]
  },
  {
   "cell_type": "markdown",
   "metadata": {},
   "source": [
    "Посмотрим на числовое описание данных и диаграмму размаха для колонки с **продолжительностью звонков:**"
   ]
  },
  {
   "cell_type": "code",
   "execution_count": 55,
   "metadata": {},
   "outputs": [
    {
     "data": {
      "text/plain": [
       "count    2230.000000\n",
       "mean      429.258296\n",
       "std       195.039589\n",
       "min         0.000000\n",
       "25%       290.250000\n",
       "50%       434.500000\n",
       "75%       560.000000\n",
       "max      1471.000000\n",
       "Name: calls_duration, dtype: float64"
      ]
     },
     "execution_count": 55,
     "metadata": {},
     "output_type": "execute_result"
    },
    {
     "data": {
      "image/png": "[encoded data removed]",
      "text/plain": [
       "<Figure size 432x288 with 1 Axes>"
      ]
     },
     "metadata": {
      "needs_background": "light"
     },
     "output_type": "display_data"
    }
   ],
   "source": [
    "plt.boxplot(smart['calls_duration'])\n",
    "plt.ylim(0, 1200)\n",
    "plt.title('Продолжительность звонков')\n",
    "\n",
    "smart['calls_duration'].describe()"
   ]
  },
  {
   "cell_type": "markdown",
   "metadata": {},
   "source": [
    "Удалим выбросы и снова посмотрим на числовое описание и диаграмму:"
   ]
  },
  {
   "cell_type": "code",
   "execution_count": 56,
   "metadata": {},
   "outputs": [],
   "source": [
    "smart = smart.loc[(smart['calls_duration'] > 0) & (smart['calls_duration'] <= 1100)]\n",
    "smart = smart.reset_index(drop=True)"
   ]
  },
  {
   "cell_type": "code",
   "execution_count": 57,
   "metadata": {},
   "outputs": [
    {
     "data": {
      "text/plain": [
       "count    2220.000000\n",
       "mean      429.507658\n",
       "std       191.553939\n",
       "min         1.000000\n",
       "25%       292.000000\n",
       "50%       435.000000\n",
       "75%       560.000000\n",
       "max      1044.000000\n",
       "Name: calls_duration, dtype: float64"
      ]
     },
     "execution_count": 57,
     "metadata": {},
     "output_type": "execute_result"
    },
    {
     "data": {
      "image/png": "[encoded data removed]",
      "text/plain": [
       "<Figure size 432x288 with 1 Axes>"
      ]
     },
     "metadata": {
      "needs_background": "light"
     },
     "output_type": "display_data"
    }
   ],
   "source": [
    "plt.boxplot(smart['calls_duration'])\n",
    "plt.ylim(0, 1200)\n",
    "plt.title('Продолжительность звонков')\n",
    "\n",
    "smart['calls_duration'].describe()"
   ]
  },
  {
   "cell_type": "markdown",
   "metadata": {},
   "source": [
    "Построим гистограмму для продолжительности звонков для оценки распределения:"
   ]
  },
  {
   "cell_type": "code",
   "execution_count": 58,
   "metadata": {},
   "outputs": [
    {
     "data": {
      "text/plain": [
       "Text(0.5, 0, 'calls_duration')"
      ]
     },
     "execution_count": 58,
     "metadata": {},
     "output_type": "execute_result"
    },
    {
     "data": {
      "image/png": "[encoded data removed]",
      "text/plain": [
       "<Figure size 432x288 with 1 Axes>"
      ]
     },
     "metadata": {
      "needs_background": "light"
     },
     "output_type": "display_data"
    }
   ],
   "source": [
    "smart.plot(y = 'calls_duration', kind = 'hist', bins = 20, grid = True, range = (1,1500), title='\"Смарт\": продолжительность звонков')\n",
    "plt.xlabel('calls_duration')"
   ]
  },
  {
   "cell_type": "markdown",
   "metadata": {},
   "source": [
    "Распределение близко к нормальному: среднее и медиана почти одинаковы."
   ]
  },
  {
   "cell_type": "markdown",
   "metadata": {},
   "source": [
    "**Количество сообщений:**"
   ]
  },
  {
   "cell_type": "code",
   "execution_count": 59,
   "metadata": {},
   "outputs": [
    {
     "data": {
      "text/plain": [
       "count    2220.000000\n",
       "mean       33.380180\n",
       "std        28.267833\n",
       "min         0.000000\n",
       "25%        10.000000\n",
       "50%        28.000000\n",
       "75%        51.000000\n",
       "max       143.000000\n",
       "Name: messages_count, dtype: float64"
      ]
     },
     "execution_count": 59,
     "metadata": {},
     "output_type": "execute_result"
    },
    {
     "data": {
      "image/png": "[encoded data removed]",
      "text/plain": [
       "<Figure size 432x288 with 1 Axes>"
      ]
     },
     "metadata": {
      "needs_background": "light"
     },
     "output_type": "display_data"
    }
   ],
   "source": [
    "plt.boxplot(smart['messages_count'])\n",
    "plt.ylim(0, 150)\n",
    "plt.title('Количество сообщений')\n",
    "\n",
    "smart['messages_count'].describe()"
   ]
  },
  {
   "cell_type": "markdown",
   "metadata": {},
   "source": [
    "Удаляем выбросы:"
   ]
  },
  {
   "cell_type": "code",
   "execution_count": 60,
   "metadata": {},
   "outputs": [],
   "source": [
    "smart = smart.loc[(smart['messages_count'] > 0) & (smart['messages_count'] <= 120)]\n",
    "smart = smart.reset_index(drop=True)"
   ]
  },
  {
   "cell_type": "code",
   "execution_count": 61,
   "metadata": {},
   "outputs": [
    {
     "data": {
      "text/plain": [
       "count    1902.000000\n",
       "mean       38.199264\n",
       "std        25.948757\n",
       "min         1.000000\n",
       "25%        17.000000\n",
       "50%        33.000000\n",
       "75%        55.000000\n",
       "max       117.000000\n",
       "Name: messages_count, dtype: float64"
      ]
     },
     "execution_count": 61,
     "metadata": {},
     "output_type": "execute_result"
    },
    {
     "data": {
      "image/png": "[encoded data removed]",
      "text/plain": [
       "<Figure size 432x288 with 1 Axes>"
      ]
     },
     "metadata": {
      "needs_background": "light"
     },
     "output_type": "display_data"
    }
   ],
   "source": [
    "plt.boxplot(smart['messages_count'])\n",
    "plt.ylim(0, 130)\n",
    "plt.title('Количество сообщений')\n",
    "\n",
    "smart['messages_count'].describe()"
   ]
  },
  {
   "cell_type": "markdown",
   "metadata": {},
   "source": [
    "Построим гистограмму для количества сообщений:"
   ]
  },
  {
   "cell_type": "code",
   "execution_count": 62,
   "metadata": {},
   "outputs": [
    {
     "data": {
      "text/plain": [
       "Text(0.5, 0, 'messages_count')"
      ]
     },
     "execution_count": 62,
     "metadata": {},
     "output_type": "execute_result"
    },
    {
     "data": {
      "image/png": "[encoded data removed]",
      "text/plain": [
       "<Figure size 432x288 with 1 Axes>"
      ]
     },
     "metadata": {
      "needs_background": "light"
     },
     "output_type": "display_data"
    }
   ],
   "source": [
    "smart.plot(y = 'messages_count', kind = 'hist', bins = 20, grid = True, range = (1,150), title='\"Смарт\": количество сообщений')\n",
    "plt.xlabel('messages_count')"
   ]
  },
  {
   "cell_type": "markdown",
   "metadata": {},
   "source": [
    "Датасет скошен вправо: пользователи тарифа \"Смарт\" так же нечасто отправляют сообщения."
   ]
  },
  {
   "cell_type": "markdown",
   "metadata": {},
   "source": [
    "**Объём интернет-трафика:**"
   ]
  },
  {
   "cell_type": "code",
   "execution_count": 63,
   "metadata": {},
   "outputs": [
    {
     "data": {
      "text/plain": [
       "count     1902.000000\n",
       "mean     16224.585174\n",
       "std       5801.120723\n",
       "min          0.000000\n",
       "25%      12639.250000\n",
       "50%      16432.500000\n",
       "75%      20030.500000\n",
       "max      38627.000000\n",
       "Name: mb_used_monthly, dtype: float64"
      ]
     },
     "execution_count": 63,
     "metadata": {},
     "output_type": "execute_result"
    },
    {
     "data": {
      "image/png": "[encoded data removed]",
      "text/plain": [
       "<Figure size 432x288 with 1 Axes>"
      ]
     },
     "metadata": {
      "needs_background": "light"
     },
     "output_type": "display_data"
    }
   ],
   "source": [
    "plt.boxplot(smart['mb_used_monthly'])\n",
    "plt.ylim(0, 35000)\n",
    "plt.title('Объём интернет-трафика')\n",
    "\n",
    "smart['mb_used_monthly'].describe()"
   ]
  },
  {
   "cell_type": "markdown",
   "metadata": {},
   "source": [
    "Удалим выбросы:"
   ]
  },
  {
   "cell_type": "code",
   "execution_count": 64,
   "metadata": {},
   "outputs": [],
   "source": [
    "smart = smart.loc[(smart['mb_used_monthly'] > 0) & (smart['mb_used_monthly'] <= 33000)]\n",
    "smart = smart.reset_index(drop=True)"
   ]
  },
  {
   "cell_type": "code",
   "execution_count": 65,
   "metadata": {},
   "outputs": [
    {
     "data": {
      "text/plain": [
       "count     1894.000000\n",
       "mean     16159.500000\n",
       "std       5672.376884\n",
       "min          1.000000\n",
       "25%      12628.500000\n",
       "50%      16396.000000\n",
       "75%      19993.500000\n",
       "max      32793.000000\n",
       "Name: mb_used_monthly, dtype: float64"
      ]
     },
     "execution_count": 65,
     "metadata": {},
     "output_type": "execute_result"
    },
    {
     "data": {
      "image/png": "[encoded data removed]",
      "text/plain": [
       "<Figure size 432x288 with 1 Axes>"
      ]
     },
     "metadata": {
      "needs_background": "light"
     },
     "output_type": "display_data"
    }
   ],
   "source": [
    "plt.boxplot(smart['mb_used_monthly'])\n",
    "plt.ylim(0, 35000)\n",
    "plt.title('Объём интернет-трафика')\n",
    "\n",
    "smart['mb_used_monthly'].describe()"
   ]
  },
  {
   "cell_type": "markdown",
   "metadata": {},
   "source": [
    "Гистограмма по объёму интернет-трафика:"
   ]
  },
  {
   "cell_type": "code",
   "execution_count": 66,
   "metadata": {},
   "outputs": [
    {
     "data": {
      "text/plain": [
       "Text(0.5, 0, 'mb_used_monthly')"
      ]
     },
     "execution_count": 66,
     "metadata": {},
     "output_type": "execute_result"
    },
    {
     "data": {
      "image/png": "[encoded data removed]",
      "text/plain": [
       "<Figure size 432x288 with 1 Axes>"
      ]
     },
     "metadata": {
      "needs_background": "light"
     },
     "output_type": "display_data"
    }
   ],
   "source": [
    "smart.plot(y = 'mb_used_monthly', kind = 'hist', bins = 20, grid = True, range = (1,50000), title='\"Смарт\": объём интернет-трафика')\n",
    "plt.xlabel('mb_used_monthly')"
   ]
  },
  {
   "cell_type": "markdown",
   "metadata": {},
   "source": [
    "Распределение нормальное: среднее и медиана очень близки."
   ]
  },
  {
   "cell_type": "markdown",
   "metadata": {},
   "source": [
    "Посчитаем **среднее количество, дисперсию и стандартное отклонение** для тарифа \"Смарт\"."
   ]
  },
  {
   "cell_type": "markdown",
   "metadata": {},
   "source": [
    "- для звонков:"
   ]
  },
  {
   "cell_type": "markdown",
   "metadata": {},
   "source": [
    "*среднее:*"
   ]
  },
  {
   "cell_type": "code",
   "execution_count": 67,
   "metadata": {},
   "outputs": [
    {
     "data": {
      "text/plain": [
       "429.0052798310454"
      ]
     },
     "execution_count": 67,
     "metadata": {},
     "output_type": "execute_result"
    }
   ],
   "source": [
    "smart_calls_mean = (smart['calls_duration']).mean()\n",
    "smart_calls_mean"
   ]
  },
  {
   "cell_type": "markdown",
   "metadata": {},
   "source": [
    "*дисперсия:*"
   ]
  },
  {
   "cell_type": "code",
   "execution_count": 68,
   "metadata": {},
   "outputs": [
    {
     "data": {
      "text/plain": [
       "35396.6011342851"
      ]
     },
     "execution_count": 68,
     "metadata": {},
     "output_type": "execute_result"
    }
   ],
   "source": [
    "smart_calls_variance = np.var(smart['calls_duration'], ddof=1)\n",
    "smart_calls_variance"
   ]
  },
  {
   "cell_type": "markdown",
   "metadata": {},
   "source": [
    "*стандартное отклонение:*"
   ]
  },
  {
   "cell_type": "code",
   "execution_count": 69,
   "metadata": {},
   "outputs": [
    {
     "data": {
      "text/plain": [
       "188.1398446217204"
      ]
     },
     "execution_count": 69,
     "metadata": {},
     "output_type": "execute_result"
    }
   ],
   "source": [
    "smart_calls_standard_deviation = np.std(smart['calls_duration'], ddof=1)\n",
    "smart_calls_standard_deviation"
   ]
  },
  {
   "cell_type": "markdown",
   "metadata": {},
   "source": [
    "- для сообщений:"
   ]
  },
  {
   "cell_type": "markdown",
   "metadata": {},
   "source": [
    "*среднее:*"
   ]
  },
  {
   "cell_type": "code",
   "execution_count": 70,
   "metadata": {},
   "outputs": [
    {
     "data": {
      "text/plain": [
       "38.1805702217529"
      ]
     },
     "execution_count": 70,
     "metadata": {},
     "output_type": "execute_result"
    }
   ],
   "source": [
    "smart_messages_mean = (smart['messages_count']).mean()\n",
    "smart_messages_mean"
   ]
  },
  {
   "cell_type": "markdown",
   "metadata": {},
   "source": [
    "*дисперсия:*"
   ]
  },
  {
   "cell_type": "code",
   "execution_count": 71,
   "metadata": {},
   "outputs": [
    {
     "data": {
      "text/plain": [
       "669.7486766952777"
      ]
     },
     "execution_count": 71,
     "metadata": {},
     "output_type": "execute_result"
    }
   ],
   "source": [
    "smart_messages_variance = np.var(smart['messages_count'], ddof=1)\n",
    "smart_messages_variance"
   ]
  },
  {
   "cell_type": "markdown",
   "metadata": {},
   "source": [
    "*стандартное отклонение:*"
   ]
  },
  {
   "cell_type": "code",
   "execution_count": 72,
   "metadata": {},
   "outputs": [
    {
     "data": {
      "text/plain": [
       "25.879503022571313"
      ]
     },
     "execution_count": 72,
     "metadata": {},
     "output_type": "execute_result"
    }
   ],
   "source": [
    "smart_messages_standard_deviation = np.std(smart['messages_count'], ddof=1)\n",
    "smart_messages_standard_deviation"
   ]
  },
  {
   "cell_type": "markdown",
   "metadata": {},
   "source": [
    "- для интернет-трафика:"
   ]
  },
  {
   "cell_type": "markdown",
   "metadata": {},
   "source": [
    "*среднее:*"
   ]
  },
  {
   "cell_type": "code",
   "execution_count": 73,
   "metadata": {},
   "outputs": [
    {
     "data": {
      "text/plain": [
       "16159.5"
      ]
     },
     "execution_count": 73,
     "metadata": {},
     "output_type": "execute_result"
    }
   ],
   "source": [
    "smart_internet_mean = (smart['mb_used_monthly']).mean()\n",
    "smart_internet_mean"
   ]
  },
  {
   "cell_type": "markdown",
   "metadata": {},
   "source": [
    "*дисперсия:*"
   ]
  },
  {
   "cell_type": "code",
   "execution_count": 74,
   "metadata": {},
   "outputs": [
    {
     "data": {
      "text/plain": [
       "32175859.516904384"
      ]
     },
     "execution_count": 74,
     "metadata": {},
     "output_type": "execute_result"
    }
   ],
   "source": [
    "smart_internet_variance = np.var(smart['mb_used_monthly'], ddof=1)\n",
    "smart_internet_variance"
   ]
  },
  {
   "cell_type": "markdown",
   "metadata": {},
   "source": [
    "*стандартное отклонение:*"
   ]
  },
  {
   "cell_type": "code",
   "execution_count": 75,
   "metadata": {},
   "outputs": [
    {
     "data": {
      "text/plain": [
       "5672.376884243887"
      ]
     },
     "execution_count": 75,
     "metadata": {},
     "output_type": "execute_result"
    }
   ],
   "source": [
    "smart_internet_standard_deviation = np.std(smart['mb_used_monthly'], ddof=1)\n",
    "smart_internet_standard_deviation"
   ]
  },
  {
   "cell_type": "markdown",
   "metadata": {},
   "source": [
    "**Вывод:**\n",
    "\n",
    "У пользователей тарифа \"Смарт\" на звонки в среднем уходит 430 минут в месяц. Среднее количество сообщений в месяц - 38. А объем интернет-трафика - 16 Гб.\n",
    "\n",
    "В сравнении с тарифом \"Ультра\", у тарифа \"Смарт\" эти показатели меньше."
   ]
  },
  {
   "cell_type": "code",
   "execution_count": 76,
   "metadata": {},
   "outputs": [
    {
     "data": {
      "text/plain": [
       "(1894, 22)"
      ]
     },
     "execution_count": 76,
     "metadata": {},
     "output_type": "execute_result"
    }
   ],
   "source": [
    "smart.shape"
   ]
  },
  {
   "cell_type": "markdown",
   "metadata": {},
   "source": [
    "Построим **графики для тарифа \"Ультра\" и \"Смарт\"** на одном рисунке:"
   ]
  },
  {
   "cell_type": "markdown",
   "metadata": {},
   "source": [
    "- продолжительность звонков:"
   ]
  },
  {
   "cell_type": "code",
   "execution_count": 77,
   "metadata": {},
   "outputs": [
    {
     "data": {
      "text/plain": [
       "Text(0.5, 0, 'calls_duration')"
      ]
     },
     "execution_count": 77,
     "metadata": {},
     "output_type": "execute_result"
    },
    {
     "data": {
      "image/png": "[encoded data removed]",
      "text/plain": [
       "<Figure size 432x288 with 1 Axes>"
      ]
     },
     "metadata": {
      "needs_background": "light"
     },
     "output_type": "display_data"
    }
   ],
   "source": [
    "ax = ultra.plot(\n",
    "    kind='hist',\n",
    "    y='calls_duration',\n",
    "    histtype='step',\n",
    "    range=(0, 600),\n",
    "    bins=50,\n",
    "    linewidth=5,\n",
    "    alpha=0.7,\n",
    "    label='\"Ультра\"',\n",
    "    title='Продолжительнсть звонков',\n",
    "    density=True\n",
    ")\n",
    "smart.plot(\n",
    "    kind='hist',\n",
    "    y='calls_duration',\n",
    "    histtype='step',\n",
    "    range=(0, 600),\n",
    "    bins=50,\n",
    "    linewidth=5,\n",
    "    alpha=0.7,\n",
    "    label='\"Смарт\"',\n",
    "    ax=ax,\n",
    "    grid=True,\n",
    "    legend=True,\n",
    "    density=True\n",
    ")\n",
    "plt.xlabel('calls_duration')"
   ]
  },
  {
   "cell_type": "markdown",
   "metadata": {},
   "source": [
    "**Вывод:** пользователи тарифа \"Смарт\" больше всего используют его для более долгих разговоров. Пользователи тарифа \"Ультра\" используют этот тариф для звонков чаще тех, у кого подключен \"Смарт\"."
   ]
  },
  {
   "cell_type": "markdown",
   "metadata": {},
   "source": [
    "- количество сообщений:"
   ]
  },
  {
   "cell_type": "code",
   "execution_count": 78,
   "metadata": {},
   "outputs": [
    {
     "data": {
      "text/plain": [
       "Text(0.5, 0, 'messages_count')"
      ]
     },
     "execution_count": 78,
     "metadata": {},
     "output_type": "execute_result"
    },
    {
     "data": {
      "image/png": "[encoded data removed]",
      "text/plain": [
       "<Figure size 432x288 with 1 Axes>"
      ]
     },
     "metadata": {
      "needs_background": "light"
     },
     "output_type": "display_data"
    }
   ],
   "source": [
    "ax = ultra.plot(\n",
    "    kind='hist',\n",
    "    y='messages_count',\n",
    "    histtype='step',\n",
    "    range=(0, 70),\n",
    "    bins=20,\n",
    "    linewidth=5,\n",
    "    alpha=0.7,\n",
    "    label='\"Ультра\"',\n",
    "    title='Количество сообщений',\n",
    "    density=True\n",
    ")\n",
    "smart.plot(\n",
    "    kind='hist',\n",
    "    y='messages_count',\n",
    "    histtype='step',\n",
    "    range=(0, 70),\n",
    "    bins=20,\n",
    "    linewidth=5,\n",
    "    alpha=0.7,\n",
    "    label='\"Смарт\"',\n",
    "    ax=ax,\n",
    "    grid=True,\n",
    "    legend=True,\n",
    "    density=True\n",
    ")\n",
    "ax.set_xlabel('messages_count')"
   ]
  },
  {
   "cell_type": "markdown",
   "metadata": {},
   "source": [
    "**Вывод:** пользователи тарифа \"Ультра\" пишут больше сообщений."
   ]
  },
  {
   "cell_type": "markdown",
   "metadata": {},
   "source": [
    "- объем интернет-трафика:"
   ]
  },
  {
   "cell_type": "code",
   "execution_count": 79,
   "metadata": {},
   "outputs": [
    {
     "data": {
      "text/plain": [
       "Text(0.5, 0, 'mb_used_monthly')"
      ]
     },
     "execution_count": 79,
     "metadata": {},
     "output_type": "execute_result"
    },
    {
     "data": {
      "image/png": "[encoded data removed]",
      "text/plain": [
       "<Figure size 432x288 with 1 Axes>"
      ]
     },
     "metadata": {
      "needs_background": "light"
     },
     "output_type": "display_data"
    }
   ],
   "source": [
    "ax = ultra.plot(\n",
    "    kind='hist',\n",
    "    y='mb_used_monthly',\n",
    "    histtype='step',\n",
    "    range=(0, 20000),\n",
    "    bins=50,\n",
    "    linewidth=5,\n",
    "    alpha=0.7,\n",
    "    label='\"Ультра\"',\n",
    "    title='Объем интернет-трафика',\n",
    "    density=True\n",
    ")\n",
    "smart.plot(\n",
    "    kind='hist',\n",
    "    y='mb_used_monthly',\n",
    "    histtype='step',\n",
    "    range=(0, 20000),\n",
    "    bins=50,\n",
    "    linewidth=5,\n",
    "    alpha=0.7,\n",
    "    label='\"Смарт\"',\n",
    "    ax=ax,\n",
    "    grid=True,\n",
    "    legend=True,\n",
    "    density=True\n",
    ")\n",
    "ax.set_xlabel('mb_used_monthly')"
   ]
  },
  {
   "cell_type": "markdown",
   "metadata": {},
   "source": [
    "**Вывод:** пользователи тарифа \"Ультра\" чаще пользуются интернетом. Пользователи тарифа \"Смарт\" используют его для более продолжительных интернет-сессий."
   ]
  },
  {
   "cell_type": "markdown",
   "metadata": {},
   "source": [
    "- переплата:"
   ]
  },
  {
   "cell_type": "code",
   "execution_count": 80,
   "metadata": {},
   "outputs": [
    {
     "data": {
      "text/plain": [
       "Text(0.5, 0, 'overpay')"
      ]
     },
     "execution_count": 80,
     "metadata": {},
     "output_type": "execute_result"
    },
    {
     "data": {
      "image/png": "[encoded data removed]",
      "text/plain": [
       "<Figure size 432x288 with 1 Axes>"
      ]
     },
     "metadata": {
      "needs_background": "light"
     },
     "output_type": "display_data"
    }
   ],
   "source": [
    "ax = ultra.plot(\n",
    "    kind='hist',\n",
    "    y='overpay',\n",
    "    histtype='step',\n",
    "    range=(0, 2000),\n",
    "    bins=5,\n",
    "    linewidth=5,\n",
    "    alpha=0.7,\n",
    "    label='\"Ультра\"',\n",
    "    title='Переплата',\n",
    "    density=True\n",
    ")\n",
    "smart.plot(\n",
    "    kind='hist',\n",
    "    y='overpay',\n",
    "    histtype='step',\n",
    "    range=(0, 2000),\n",
    "    bins=5,\n",
    "    linewidth=5,\n",
    "    alpha=0.7,\n",
    "    label='\"Смарт\"',\n",
    "    ax=ax,\n",
    "    grid=True,\n",
    "    legend=True,\n",
    "    density=True\n",
    ")\n",
    "plt.xlabel('overpay')"
   ]
  },
  {
   "cell_type": "markdown",
   "metadata": {},
   "source": [
    "**Вывод:** пользователи тарифа \"Ультра\" чаще тратят сверх тарифного пакета, но небольшие суммы, в то время как пользователи тарифа \"Смарт\" тратят более крупные суммы чаще, чем первые."
   ]
  },
  {
   "cell_type": "markdown",
   "metadata": {},
   "source": [
    "- выручка с каждого тарифа:"
   ]
  },
  {
   "cell_type": "code",
   "execution_count": 81,
   "metadata": {},
   "outputs": [
    {
     "data": {
      "text/plain": [
       "Text(0.5, 0, 'total_income')"
      ]
     },
     "execution_count": 81,
     "metadata": {},
     "output_type": "execute_result"
    },
    {
     "data": {
      "image/png": "[encoded data removed]",
      "text/plain": [
       "<Figure size 432x288 with 1 Axes>"
      ]
     },
     "metadata": {
      "needs_background": "light"
     },
     "output_type": "display_data"
    }
   ],
   "source": [
    "ax = ultra.plot(\n",
    "    kind='hist',\n",
    "    y='total_income',\n",
    "    histtype='step',\n",
    "    range=(0, 3000),\n",
    "    bins=10,\n",
    "    linewidth=5,\n",
    "    alpha=0.7,\n",
    "    label='\"Ультра\"',\n",
    "    title='Выручка с каждого тарифа',\n",
    "    density=True\n",
    ")\n",
    "smart.plot(\n",
    "    kind='hist',\n",
    "    y='total_income',\n",
    "    histtype='step',\n",
    "    range=(0, 3000),\n",
    "    bins=10,\n",
    "    linewidth=5,\n",
    "    alpha=0.7,\n",
    "    label='\"Смарт\"',\n",
    "    ax=ax,\n",
    "    grid=True,\n",
    "    legend=True,\n",
    "    density=True\n",
    ")\n",
    "plt.xlabel('total_income')"
   ]
  },
  {
   "cell_type": "markdown",
   "metadata": {},
   "source": [
    "**Вывод:** пользователи тарифа \"Ультра\", вероятно, приносят больше выручки за счет более дорогой стоимости тарифа."
   ]
  },
  {
   "cell_type": "markdown",
   "metadata": {},
   "source": [
    "Выводим статистику по всем значениям для обоих тарифов:"
   ]
  },
  {
   "cell_type": "code",
   "execution_count": 82,
   "metadata": {},
   "outputs": [
    {
     "data": {
      "text/html": [
       "<div>\n",
       "<style scoped>\n",
       "    .dataframe tbody tr th:only-of-type {\n",
       "        vertical-align: middle;\n",
       "    }\n",
       "\n",
       "    .dataframe tbody tr th {\n",
       "        vertical-align: top;\n",
       "    }\n",
       "\n",
       "    .dataframe thead tr th {\n",
       "        text-align: left;\n",
       "    }\n",
       "\n",
       "    .dataframe thead tr:last-of-type th {\n",
       "        text-align: right;\n",
       "    }\n",
       "</style>\n",
       "<table border=\"1\" class=\"dataframe\">\n",
       "  <thead>\n",
       "    <tr>\n",
       "      <th></th>\n",
       "      <th colspan=\"3\" halign=\"left\">mean</th>\n",
       "      <th colspan=\"3\" halign=\"left\">std</th>\n",
       "      <th colspan=\"3\" halign=\"left\">var</th>\n",
       "    </tr>\n",
       "    <tr>\n",
       "      <th></th>\n",
       "      <th>calls_duration</th>\n",
       "      <th>mb_used_monthly</th>\n",
       "      <th>messages_count</th>\n",
       "      <th>calls_duration</th>\n",
       "      <th>mb_used_monthly</th>\n",
       "      <th>messages_count</th>\n",
       "      <th>calls_duration</th>\n",
       "      <th>mb_used_monthly</th>\n",
       "      <th>messages_count</th>\n",
       "    </tr>\n",
       "    <tr>\n",
       "      <th>tariff</th>\n",
       "      <th></th>\n",
       "      <th></th>\n",
       "      <th></th>\n",
       "      <th></th>\n",
       "      <th></th>\n",
       "      <th></th>\n",
       "      <th></th>\n",
       "      <th></th>\n",
       "      <th></th>\n",
       "    </tr>\n",
       "  </thead>\n",
       "  <tbody>\n",
       "    <tr>\n",
       "      <td>smart</td>\n",
       "      <td>429.258296</td>\n",
       "      <td>16229.903139</td>\n",
       "      <td>33.369058</td>\n",
       "      <td>195.039589</td>\n",
       "      <td>5888.523413</td>\n",
       "      <td>28.230396</td>\n",
       "      <td>38040.441104</td>\n",
       "      <td>3.467471e+07</td>\n",
       "      <td>796.955256</td>\n",
       "    </tr>\n",
       "    <tr>\n",
       "      <td>ultra</td>\n",
       "      <td>540.231237</td>\n",
       "      <td>19468.938134</td>\n",
       "      <td>49.313387</td>\n",
       "      <td>326.028527</td>\n",
       "      <td>10111.047371</td>\n",
       "      <td>47.806040</td>\n",
       "      <td>106294.600282</td>\n",
       "      <td>1.022333e+08</td>\n",
       "      <td>2285.417425</td>\n",
       "    </tr>\n",
       "  </tbody>\n",
       "</table>\n",
       "</div>"
      ],
      "text/plain": [
       "                 mean                                           std  \\\n",
       "       calls_duration mb_used_monthly messages_count calls_duration   \n",
       "tariff                                                                \n",
       "smart      429.258296    16229.903139      33.369058     195.039589   \n",
       "ultra      540.231237    19468.938134      49.313387     326.028527   \n",
       "\n",
       "                                                 var                  \\\n",
       "       mb_used_monthly messages_count calls_duration mb_used_monthly   \n",
       "tariff                                                                 \n",
       "smart      5888.523413      28.230396   38040.441104    3.467471e+07   \n",
       "ultra     10111.047371      47.806040  106294.600282    1.022333e+08   \n",
       "\n",
       "                       \n",
       "       messages_count  \n",
       "tariff                 \n",
       "smart      796.955256  \n",
       "ultra     2285.417425  "
      ]
     },
     "execution_count": 82,
     "metadata": {},
     "output_type": "execute_result"
    }
   ],
   "source": [
    "data.pivot_table(index='tariff', values=['calls_duration', 'messages_count', 'mb_used_monthly'],\n",
    "                       aggfunc=['mean', 'std', 'var'])"
   ]
  },
  {
   "cell_type": "markdown",
   "metadata": {},
   "source": [
    "# Шаг 4. Проверка гипотез\n",
    "<a name='hypothesis_testing'></a>"
   ]
  },
  {
   "cell_type": "markdown",
   "metadata": {},
   "source": [
    "Гипотезы:\n",
    "\n",
    "- средняя выручка пользователей тарифов «Ультра» и «Смарт» различаются;\n",
    "- средняя выручка пользователей из Москвы отличается от выручки пользователей из других регионов.\n",
    "\n",
    "В данном случае нам необходимо сравнить между собой 2 похожие выборки по тарифам и по регионам. \n",
    "\n",
    "Нулевая гипотеза H₀: исследуемые совокупности равны.\n",
    "\n",
    "Альтернативная гипотеза H₁: исследуемые совокупности не равны.\n",
    "\n",
    "Это гипотезы о равенстве средних двух генеральных совокупностей, для проверки которых используем метод scipy.stats.ttest_ind."
   ]
  },
  {
   "cell_type": "markdown",
   "metadata": {},
   "source": [
    "*Проверим первую гипотезу:*"
   ]
  },
  {
   "cell_type": "code",
   "execution_count": 83,
   "metadata": {},
   "outputs": [
    {
     "name": "stdout",
     "output_type": "stream",
     "text": [
      "p-значение: 3.503159450377682e-132\n",
      "Отвергаем нулевую гипотезу\n"
     ]
    }
   ],
   "source": [
    "ultra_total_income = ultra['total_income']\n",
    "smart_total_income = smart['total_income']\n",
    "\n",
    "alpha = 0.05\n",
    "results = st.ttest_ind(ultra_total_income, smart_total_income)\n",
    "\n",
    "print('p-значение:', results.pvalue)\n",
    "\n",
    "if results.pvalue < alpha:\n",
    "    print('Отвергаем нулевую гипотезу')\n",
    "else:\n",
    "    print('Не получилось отвергнуть нулевую гипотезу')"
   ]
  },
  {
   "cell_type": "markdown",
   "metadata": {},
   "source": [
    "Средняя выручка по тарифу \"Ультра\":"
   ]
  },
  {
   "cell_type": "code",
   "execution_count": 84,
   "metadata": {},
   "outputs": [
    {
     "data": {
      "text/plain": [
       "2050.0"
      ]
     },
     "execution_count": 84,
     "metadata": {},
     "output_type": "execute_result"
    }
   ],
   "source": [
    "ultra_total_income.mean().round()\n"
   ]
  },
  {
   "cell_type": "markdown",
   "metadata": {},
   "source": [
    "Средняя выручка по тарифу \"Смарт\":"
   ]
  },
  {
   "cell_type": "code",
   "execution_count": 85,
   "metadata": {},
   "outputs": [
    {
     "data": {
      "text/plain": [
       "1286.0"
      ]
     },
     "execution_count": 85,
     "metadata": {},
     "output_type": "execute_result"
    }
   ],
   "source": [
    "smart_total_income.mean().round()"
   ]
  },
  {
   "cell_type": "markdown",
   "metadata": {},
   "source": [
    "**Вывод:** средняя выручка пользователей тарифов «Ультра» и «Смарт» различаются. Выручка бюджетного тарифа не достигает даже абонентской платы дорогого тарифа."
   ]
  },
  {
   "cell_type": "markdown",
   "metadata": {},
   "source": [
    "*Проверим вторую гипотезу:*"
   ]
  },
  {
   "cell_type": "markdown",
   "metadata": {},
   "source": [
    "**Объединим** очищенные от выбросов таблицы с тарифами:"
   ]
  },
  {
   "cell_type": "code",
   "execution_count": 86,
   "metadata": {},
   "outputs": [
    {
     "data": {
      "text/html": [
       "<div>\n",
       "<style scoped>\n",
       "    .dataframe tbody tr th:only-of-type {\n",
       "        vertical-align: middle;\n",
       "    }\n",
       "\n",
       "    .dataframe tbody tr th {\n",
       "        vertical-align: top;\n",
       "    }\n",
       "\n",
       "    .dataframe thead th {\n",
       "        text-align: right;\n",
       "    }\n",
       "</style>\n",
       "<table border=\"1\" class=\"dataframe\">\n",
       "  <thead>\n",
       "    <tr style=\"text-align: right;\">\n",
       "      <th></th>\n",
       "      <th>user_id</th>\n",
       "      <th>churn_date</th>\n",
       "      <th>city</th>\n",
       "      <th>reg_date</th>\n",
       "      <th>tariff</th>\n",
       "      <th>month</th>\n",
       "      <th>calls_count</th>\n",
       "      <th>calls_duration</th>\n",
       "      <th>messages_count</th>\n",
       "      <th>mb_used_monthly</th>\n",
       "      <th>...</th>\n",
       "      <th>minutes_included</th>\n",
       "      <th>rub_monthly_fee</th>\n",
       "      <th>rub_per_gb</th>\n",
       "      <th>rub_per_message</th>\n",
       "      <th>rub_per_minute</th>\n",
       "      <th>calls_monthly_overpay</th>\n",
       "      <th>messages_monthly_overpay</th>\n",
       "      <th>internet_monthly_overpay</th>\n",
       "      <th>overpay</th>\n",
       "      <th>total_income</th>\n",
       "    </tr>\n",
       "  </thead>\n",
       "  <tbody>\n",
       "    <tr>\n",
       "      <td>0</td>\n",
       "      <td>1000</td>\n",
       "      <td>NaT</td>\n",
       "      <td>Краснодар</td>\n",
       "      <td>2018-05-25</td>\n",
       "      <td>ultra</td>\n",
       "      <td>5</td>\n",
       "      <td>22</td>\n",
       "      <td>164</td>\n",
       "      <td>22</td>\n",
       "      <td>2257</td>\n",
       "      <td>...</td>\n",
       "      <td>3000</td>\n",
       "      <td>1950</td>\n",
       "      <td>150</td>\n",
       "      <td>1</td>\n",
       "      <td>1</td>\n",
       "      <td>0</td>\n",
       "      <td>0</td>\n",
       "      <td>0</td>\n",
       "      <td>0</td>\n",
       "      <td>1950</td>\n",
       "    </tr>\n",
       "    <tr>\n",
       "      <td>1</td>\n",
       "      <td>1000</td>\n",
       "      <td>NaT</td>\n",
       "      <td>Краснодар</td>\n",
       "      <td>2018-05-25</td>\n",
       "      <td>ultra</td>\n",
       "      <td>6</td>\n",
       "      <td>43</td>\n",
       "      <td>187</td>\n",
       "      <td>60</td>\n",
       "      <td>23262</td>\n",
       "      <td>...</td>\n",
       "      <td>3000</td>\n",
       "      <td>1950</td>\n",
       "      <td>150</td>\n",
       "      <td>1</td>\n",
       "      <td>1</td>\n",
       "      <td>0</td>\n",
       "      <td>0</td>\n",
       "      <td>0</td>\n",
       "      <td>0</td>\n",
       "      <td>1950</td>\n",
       "    </tr>\n",
       "    <tr>\n",
       "      <td>2</td>\n",
       "      <td>1000</td>\n",
       "      <td>NaT</td>\n",
       "      <td>Краснодар</td>\n",
       "      <td>2018-05-25</td>\n",
       "      <td>ultra</td>\n",
       "      <td>7</td>\n",
       "      <td>47</td>\n",
       "      <td>346</td>\n",
       "      <td>75</td>\n",
       "      <td>14017</td>\n",
       "      <td>...</td>\n",
       "      <td>3000</td>\n",
       "      <td>1950</td>\n",
       "      <td>150</td>\n",
       "      <td>1</td>\n",
       "      <td>1</td>\n",
       "      <td>0</td>\n",
       "      <td>0</td>\n",
       "      <td>0</td>\n",
       "      <td>0</td>\n",
       "      <td>1950</td>\n",
       "    </tr>\n",
       "    <tr>\n",
       "      <td>3</td>\n",
       "      <td>1000</td>\n",
       "      <td>NaT</td>\n",
       "      <td>Краснодар</td>\n",
       "      <td>2018-05-25</td>\n",
       "      <td>ultra</td>\n",
       "      <td>8</td>\n",
       "      <td>52</td>\n",
       "      <td>418</td>\n",
       "      <td>81</td>\n",
       "      <td>14072</td>\n",
       "      <td>...</td>\n",
       "      <td>3000</td>\n",
       "      <td>1950</td>\n",
       "      <td>150</td>\n",
       "      <td>1</td>\n",
       "      <td>1</td>\n",
       "      <td>0</td>\n",
       "      <td>0</td>\n",
       "      <td>0</td>\n",
       "      <td>0</td>\n",
       "      <td>1950</td>\n",
       "    </tr>\n",
       "    <tr>\n",
       "      <td>4</td>\n",
       "      <td>1000</td>\n",
       "      <td>NaT</td>\n",
       "      <td>Краснодар</td>\n",
       "      <td>2018-05-25</td>\n",
       "      <td>ultra</td>\n",
       "      <td>9</td>\n",
       "      <td>58</td>\n",
       "      <td>478</td>\n",
       "      <td>57</td>\n",
       "      <td>14583</td>\n",
       "      <td>...</td>\n",
       "      <td>3000</td>\n",
       "      <td>1950</td>\n",
       "      <td>150</td>\n",
       "      <td>1</td>\n",
       "      <td>1</td>\n",
       "      <td>0</td>\n",
       "      <td>0</td>\n",
       "      <td>0</td>\n",
       "      <td>0</td>\n",
       "      <td>1950</td>\n",
       "    </tr>\n",
       "    <tr>\n",
       "      <td>...</td>\n",
       "      <td>...</td>\n",
       "      <td>...</td>\n",
       "      <td>...</td>\n",
       "      <td>...</td>\n",
       "      <td>...</td>\n",
       "      <td>...</td>\n",
       "      <td>...</td>\n",
       "      <td>...</td>\n",
       "      <td>...</td>\n",
       "      <td>...</td>\n",
       "      <td>...</td>\n",
       "      <td>...</td>\n",
       "      <td>...</td>\n",
       "      <td>...</td>\n",
       "      <td>...</td>\n",
       "      <td>...</td>\n",
       "      <td>...</td>\n",
       "      <td>...</td>\n",
       "      <td>...</td>\n",
       "      <td>...</td>\n",
       "      <td>...</td>\n",
       "    </tr>\n",
       "    <tr>\n",
       "      <td>3211</td>\n",
       "      <td>1498</td>\n",
       "      <td>2018-10-25</td>\n",
       "      <td>Владикавказ</td>\n",
       "      <td>2018-07-19</td>\n",
       "      <td>smart</td>\n",
       "      <td>10</td>\n",
       "      <td>41</td>\n",
       "      <td>258</td>\n",
       "      <td>42</td>\n",
       "      <td>20614</td>\n",
       "      <td>...</td>\n",
       "      <td>500</td>\n",
       "      <td>550</td>\n",
       "      <td>200</td>\n",
       "      <td>3</td>\n",
       "      <td>3</td>\n",
       "      <td>0</td>\n",
       "      <td>0</td>\n",
       "      <td>1200</td>\n",
       "      <td>1200</td>\n",
       "      <td>1750</td>\n",
       "    </tr>\n",
       "    <tr>\n",
       "      <td>3212</td>\n",
       "      <td>1499</td>\n",
       "      <td>NaT</td>\n",
       "      <td>Пермь</td>\n",
       "      <td>2018-09-27</td>\n",
       "      <td>smart</td>\n",
       "      <td>9</td>\n",
       "      <td>9</td>\n",
       "      <td>71</td>\n",
       "      <td>11</td>\n",
       "      <td>1849</td>\n",
       "      <td>...</td>\n",
       "      <td>500</td>\n",
       "      <td>550</td>\n",
       "      <td>200</td>\n",
       "      <td>3</td>\n",
       "      <td>3</td>\n",
       "      <td>0</td>\n",
       "      <td>0</td>\n",
       "      <td>0</td>\n",
       "      <td>0</td>\n",
       "      <td>550</td>\n",
       "    </tr>\n",
       "    <tr>\n",
       "      <td>3213</td>\n",
       "      <td>1499</td>\n",
       "      <td>NaT</td>\n",
       "      <td>Пермь</td>\n",
       "      <td>2018-09-27</td>\n",
       "      <td>smart</td>\n",
       "      <td>10</td>\n",
       "      <td>68</td>\n",
       "      <td>473</td>\n",
       "      <td>48</td>\n",
       "      <td>17824</td>\n",
       "      <td>...</td>\n",
       "      <td>500</td>\n",
       "      <td>550</td>\n",
       "      <td>200</td>\n",
       "      <td>3</td>\n",
       "      <td>3</td>\n",
       "      <td>0</td>\n",
       "      <td>0</td>\n",
       "      <td>600</td>\n",
       "      <td>600</td>\n",
       "      <td>1150</td>\n",
       "    </tr>\n",
       "    <tr>\n",
       "      <td>3214</td>\n",
       "      <td>1499</td>\n",
       "      <td>NaT</td>\n",
       "      <td>Пермь</td>\n",
       "      <td>2018-09-27</td>\n",
       "      <td>smart</td>\n",
       "      <td>11</td>\n",
       "      <td>74</td>\n",
       "      <td>624</td>\n",
       "      <td>59</td>\n",
       "      <td>17994</td>\n",
       "      <td>...</td>\n",
       "      <td>500</td>\n",
       "      <td>550</td>\n",
       "      <td>200</td>\n",
       "      <td>3</td>\n",
       "      <td>3</td>\n",
       "      <td>372</td>\n",
       "      <td>27</td>\n",
       "      <td>600</td>\n",
       "      <td>999</td>\n",
       "      <td>1549</td>\n",
       "    </tr>\n",
       "    <tr>\n",
       "      <td>3215</td>\n",
       "      <td>1499</td>\n",
       "      <td>NaT</td>\n",
       "      <td>Пермь</td>\n",
       "      <td>2018-09-27</td>\n",
       "      <td>smart</td>\n",
       "      <td>12</td>\n",
       "      <td>69</td>\n",
       "      <td>505</td>\n",
       "      <td>66</td>\n",
       "      <td>13082</td>\n",
       "      <td>...</td>\n",
       "      <td>500</td>\n",
       "      <td>550</td>\n",
       "      <td>200</td>\n",
       "      <td>3</td>\n",
       "      <td>3</td>\n",
       "      <td>15</td>\n",
       "      <td>48</td>\n",
       "      <td>0</td>\n",
       "      <td>63</td>\n",
       "      <td>613</td>\n",
       "    </tr>\n",
       "  </tbody>\n",
       "</table>\n",
       "<p>3216 rows × 22 columns</p>\n",
       "</div>"
      ],
      "text/plain": [
       "      user_id churn_date         city   reg_date tariff  month  calls_count  \\\n",
       "0        1000        NaT    Краснодар 2018-05-25  ultra      5           22   \n",
       "1        1000        NaT    Краснодар 2018-05-25  ultra      6           43   \n",
       "2        1000        NaT    Краснодар 2018-05-25  ultra      7           47   \n",
       "3        1000        NaT    Краснодар 2018-05-25  ultra      8           52   \n",
       "4        1000        NaT    Краснодар 2018-05-25  ultra      9           58   \n",
       "...       ...        ...          ...        ...    ...    ...          ...   \n",
       "3211     1498 2018-10-25  Владикавказ 2018-07-19  smart     10           41   \n",
       "3212     1499        NaT        Пермь 2018-09-27  smart      9            9   \n",
       "3213     1499        NaT        Пермь 2018-09-27  smart     10           68   \n",
       "3214     1499        NaT        Пермь 2018-09-27  smart     11           74   \n",
       "3215     1499        NaT        Пермь 2018-09-27  smart     12           69   \n",
       "\n",
       "      calls_duration  messages_count  mb_used_monthly  ...  minutes_included  \\\n",
       "0                164              22             2257  ...              3000   \n",
       "1                187              60            23262  ...              3000   \n",
       "2                346              75            14017  ...              3000   \n",
       "3                418              81            14072  ...              3000   \n",
       "4                478              57            14583  ...              3000   \n",
       "...              ...             ...              ...  ...               ...   \n",
       "3211             258              42            20614  ...               500   \n",
       "3212              71              11             1849  ...               500   \n",
       "3213             473              48            17824  ...               500   \n",
       "3214             624              59            17994  ...               500   \n",
       "3215             505              66            13082  ...               500   \n",
       "\n",
       "      rub_monthly_fee  rub_per_gb  rub_per_message  rub_per_minute  \\\n",
       "0                1950         150                1               1   \n",
       "1                1950         150                1               1   \n",
       "2                1950         150                1               1   \n",
       "3                1950         150                1               1   \n",
       "4                1950         150                1               1   \n",
       "...               ...         ...              ...             ...   \n",
       "3211              550         200                3               3   \n",
       "3212              550         200                3               3   \n",
       "3213              550         200                3               3   \n",
       "3214              550         200                3               3   \n",
       "3215              550         200                3               3   \n",
       "\n",
       "      calls_monthly_overpay  messages_monthly_overpay  \\\n",
       "0                         0                         0   \n",
       "1                         0                         0   \n",
       "2                         0                         0   \n",
       "3                         0                         0   \n",
       "4                         0                         0   \n",
       "...                     ...                       ...   \n",
       "3211                      0                         0   \n",
       "3212                      0                         0   \n",
       "3213                      0                         0   \n",
       "3214                    372                        27   \n",
       "3215                     15                        48   \n",
       "\n",
       "      internet_monthly_overpay  overpay  total_income  \n",
       "0                            0        0          1950  \n",
       "1                            0        0          1950  \n",
       "2                            0        0          1950  \n",
       "3                            0        0          1950  \n",
       "4                            0        0          1950  \n",
       "...                        ...      ...           ...  \n",
       "3211                      1200     1200          1750  \n",
       "3212                         0        0           550  \n",
       "3213                       600      600          1150  \n",
       "3214                       600      999          1549  \n",
       "3215                         0       63           613  \n",
       "\n",
       "[3216 rows x 22 columns]"
      ]
     },
     "execution_count": 86,
     "metadata": {},
     "output_type": "execute_result"
    }
   ],
   "source": [
    "ultra_smart = ultra.merge(smart, how='outer')\n",
    "data"
   ]
  },
  {
   "cell_type": "code",
   "execution_count": 87,
   "metadata": {},
   "outputs": [
    {
     "data": {
      "text/plain": [
       "(2642, 22)"
      ]
     },
     "execution_count": 87,
     "metadata": {},
     "output_type": "execute_result"
    }
   ],
   "source": [
    "ultra_smart.shape"
   ]
  },
  {
   "cell_type": "markdown",
   "metadata": {},
   "source": [
    "Сделаем категоризацию по регионам и создадим столбец."
   ]
  },
  {
   "cell_type": "code",
   "execution_count": 88,
   "metadata": {},
   "outputs": [
    {
     "data": {
      "text/html": [
       "<div>\n",
       "<style scoped>\n",
       "    .dataframe tbody tr th:only-of-type {\n",
       "        vertical-align: middle;\n",
       "    }\n",
       "\n",
       "    .dataframe tbody tr th {\n",
       "        vertical-align: top;\n",
       "    }\n",
       "\n",
       "    .dataframe thead th {\n",
       "        text-align: right;\n",
       "    }\n",
       "</style>\n",
       "<table border=\"1\" class=\"dataframe\">\n",
       "  <thead>\n",
       "    <tr style=\"text-align: right;\">\n",
       "      <th></th>\n",
       "      <th>user_id</th>\n",
       "      <th>churn_date</th>\n",
       "      <th>city</th>\n",
       "      <th>reg_date</th>\n",
       "      <th>tariff</th>\n",
       "      <th>month</th>\n",
       "      <th>calls_count</th>\n",
       "      <th>calls_duration</th>\n",
       "      <th>messages_count</th>\n",
       "      <th>mb_used_monthly</th>\n",
       "      <th>...</th>\n",
       "      <th>rub_monthly_fee</th>\n",
       "      <th>rub_per_gb</th>\n",
       "      <th>rub_per_message</th>\n",
       "      <th>rub_per_minute</th>\n",
       "      <th>calls_monthly_overpay</th>\n",
       "      <th>messages_monthly_overpay</th>\n",
       "      <th>internet_monthly_overpay</th>\n",
       "      <th>overpay</th>\n",
       "      <th>total_income</th>\n",
       "      <th>region_category</th>\n",
       "    </tr>\n",
       "  </thead>\n",
       "  <tbody>\n",
       "    <tr>\n",
       "      <td>0</td>\n",
       "      <td>1000</td>\n",
       "      <td>NaT</td>\n",
       "      <td>Краснодар</td>\n",
       "      <td>2018-05-25</td>\n",
       "      <td>ultra</td>\n",
       "      <td>5</td>\n",
       "      <td>22</td>\n",
       "      <td>164</td>\n",
       "      <td>22</td>\n",
       "      <td>2257</td>\n",
       "      <td>...</td>\n",
       "      <td>1950</td>\n",
       "      <td>150</td>\n",
       "      <td>1</td>\n",
       "      <td>1</td>\n",
       "      <td>0</td>\n",
       "      <td>0</td>\n",
       "      <td>0</td>\n",
       "      <td>0</td>\n",
       "      <td>1950</td>\n",
       "      <td>другой регион</td>\n",
       "    </tr>\n",
       "    <tr>\n",
       "      <td>1</td>\n",
       "      <td>1000</td>\n",
       "      <td>NaT</td>\n",
       "      <td>Краснодар</td>\n",
       "      <td>2018-05-25</td>\n",
       "      <td>ultra</td>\n",
       "      <td>6</td>\n",
       "      <td>43</td>\n",
       "      <td>187</td>\n",
       "      <td>60</td>\n",
       "      <td>23262</td>\n",
       "      <td>...</td>\n",
       "      <td>1950</td>\n",
       "      <td>150</td>\n",
       "      <td>1</td>\n",
       "      <td>1</td>\n",
       "      <td>0</td>\n",
       "      <td>0</td>\n",
       "      <td>0</td>\n",
       "      <td>0</td>\n",
       "      <td>1950</td>\n",
       "      <td>другой регион</td>\n",
       "    </tr>\n",
       "  </tbody>\n",
       "</table>\n",
       "<p>2 rows × 23 columns</p>\n",
       "</div>"
      ],
      "text/plain": [
       "   user_id churn_date       city   reg_date tariff  month  calls_count  \\\n",
       "0     1000        NaT  Краснодар 2018-05-25  ultra      5           22   \n",
       "1     1000        NaT  Краснодар 2018-05-25  ultra      6           43   \n",
       "\n",
       "   calls_duration  messages_count  mb_used_monthly  ...  rub_monthly_fee  \\\n",
       "0             164              22             2257  ...             1950   \n",
       "1             187              60            23262  ...             1950   \n",
       "\n",
       "   rub_per_gb  rub_per_message  rub_per_minute  calls_monthly_overpay  \\\n",
       "0         150                1               1                      0   \n",
       "1         150                1               1                      0   \n",
       "\n",
       "   messages_monthly_overpay  internet_monthly_overpay  overpay  total_income  \\\n",
       "0                         0                         0        0          1950   \n",
       "1                         0                         0        0          1950   \n",
       "\n",
       "   region_category  \n",
       "0    другой регион  \n",
       "1    другой регион  \n",
       "\n",
       "[2 rows x 23 columns]"
      ]
     },
     "execution_count": 88,
     "metadata": {},
     "output_type": "execute_result"
    }
   ],
   "source": [
    "def region_category(city):\n",
    "    if city == 'Москва':\n",
    "        return 'Москва'\n",
    "    return 'другой регион'\n",
    "\n",
    "ultra_smart['region_category'] = ultra_smart['city'].apply(region_category)\n",
    "ultra_smart.head(2)"
   ]
  },
  {
   "cell_type": "markdown",
   "metadata": {},
   "source": [
    "Протестируем гипотезу по выборкам по регионам:"
   ]
  },
  {
   "cell_type": "code",
   "execution_count": 89,
   "metadata": {},
   "outputs": [
    {
     "name": "stdout",
     "output_type": "stream",
     "text": [
      "p-значение: 0.06120618570981325\n",
      "Не получилось отвергнуть нулевую гипотезу\n"
     ]
    }
   ],
   "source": [
    "moscow = ultra_smart.loc[(ultra_smart['region_category'] == 'Москва'), 'total_income']\n",
    "other_region = ultra_smart.loc[(ultra_smart['region_category'] == 'другой регион'), 'total_income']\n",
    "\n",
    "alpha = 0.05\n",
    "results = st.ttest_ind(moscow, other_region)\n",
    "\n",
    "print('p-значение:', results.pvalue)\n",
    "\n",
    "if results.pvalue < alpha:\n",
    "    print('Отвергаем нулевую гипотезу')\n",
    "else:\n",
    "    print('Не получилось отвергнуть нулевую гипотезу')"
   ]
  },
  {
   "cell_type": "markdown",
   "metadata": {},
   "source": [
    "Средняя выручка по Москве:"
   ]
  },
  {
   "cell_type": "code",
   "execution_count": 90,
   "metadata": {},
   "outputs": [
    {
     "data": {
      "text/plain": [
       "1560.0"
      ]
     },
     "execution_count": 90,
     "metadata": {},
     "output_type": "execute_result"
    }
   ],
   "source": [
    "moscow.mean().round()"
   ]
  },
  {
   "cell_type": "markdown",
   "metadata": {},
   "source": [
    "Средняя выручка по другим регионам:"
   ]
  },
  {
   "cell_type": "code",
   "execution_count": 91,
   "metadata": {},
   "outputs": [
    {
     "data": {
      "text/plain": [
       "1489.0"
      ]
     },
     "execution_count": 91,
     "metadata": {},
     "output_type": "execute_result"
    }
   ],
   "source": [
    "other_region.mean().round()"
   ]
  },
  {
   "cell_type": "markdown",
   "metadata": {},
   "source": [
    "**Вывод:** средняя выручка пользователей из Москвы отличается от выручки пользователей из других регионов."
   ]
  },
  {
   "cell_type": "markdown",
   "metadata": {},
   "source": [
    "# Шаг 5. Oбщий вывод\n",
    "<a name='conclusion'></a>"
   ]
  },
  {
   "cell_type": "markdown",
   "metadata": {},
   "source": [
    "**Звонки:**\n",
    "\n",
    "У пользователей тарифа \" Ультра \" на звонки в среднем уходит 570 минут в месяц, у пользователей тарифа \"Смарт\" - 430 минут в месяц.\n",
    "\n",
    "Средняя продолжительность звонков по тарифу \"Ультра\" больше медианного.\n",
    "\n",
    "Среднее и медиана звонков по тарифу «Смарт» почти одинаковы.\n",
    "\n",
    "Пользователи тарифа \"Смарт\" больше всего используют его для более долгих разговоров.\n",
    "\n",
    "Тариф \"Ультра\" используют для звонков чаще тех, у кого подключен \"Смарт\".\n",
    "\n",
    "**Сообщения:**\n",
    "\n",
    "У пользователей тарифа \" Ультра \" среднее количество сообщений в месяц – 61, а у пользователей тарифа \"Смарт\" - 38.\n",
    "\n",
    "Пользователи тарифа \"Ультра\" пишут больше сообщений, чем те, у кого \"Смарт\", но все равно не часто.\n",
    "\n",
    "**Интернет:**\n",
    "\n",
    "У пользователей тарифа \" Ультра \" средний объем интернет-трафика - 19 Гб, а у пользователей тарифа \"Смарт\" - 16 Гб.\n",
    "\n",
    "Пользователи тарифа \"Ультра\" чаще пользуются интернетом. А те, у кого подключен \"Смарт\", используют его для более продолжительных интернет-сессий.\n",
    "\n",
    "Среднее и медиана по объёму интернет-трафика у обоих тарифов очень близки.\n",
    "\n",
    "**Переплата:**\n",
    "\n",
    "Пользователи тарифа \"Ультра\" чаще тратят сверх тарифного пакета, но небольшие суммы, в то время как пользователи тарифа \"Смарт\" тратят более крупные суммы чаще, чем первые.\n",
    "\n",
    "**Средняя выручка по тарифам:**\n",
    "\n",
    "Средняя выручка пользователей тарифов «Ультра» и «Смарт» различаются:\n",
    "- по тарифу \"Ультра\": 2050 руб.,\n",
    "- по тарифу \"Смарт\": 1286 руб.\n",
    "\n",
    "**Средняя выручка по городам:**\n",
    "\n",
    "Cредняя выручка пользователей из Москвы отличается от выручки пользователей из других регионов:\n",
    "- по Москве: 1560 руб.\n",
    "- по другим регионам: 1489 руб.\n",
    "\n",
    "**Итоги исследования:**\n",
    "\n",
    "Судя по продолжительности звонков и количеству сообщений, пользователи тарифа \"Смарт\" стараются не превышать лимит, в то время как те, у кого подключен «Ультра», звонят и отправляют сообщений столько, сколько им необходимо, что превысило бы лимиты тарифа \"Смарт\". Причем пользователям \"Смарт\" немного не хватает лимита интернет-трафика.\n",
    "\n",
    "Выручка с тарифа «Ультра» так же больше.\n",
    "\n",
    "Возможно, еще один тариф с усредненными параметрами пришелся бы клиентам в самый раз."
   ]
  }
 ],
 "metadata": {
  "ExecuteTimeLog": [
   {
    "duration": 401,
    "start_time": "2021-11-19T09:57:19.074Z"
   },
   {
    "duration": 1933,
    "start_time": "2021-11-19T09:57:38.000Z"
   },
   {
    "duration": 222,
    "start_time": "2021-11-19T09:57:41.388Z"
   },
   {
    "duration": 230,
    "start_time": "2021-11-19T09:57:56.361Z"
   },
   {
    "duration": 257,
    "start_time": "2021-11-19T10:00:19.309Z"
   },
   {
    "duration": 222,
    "start_time": "2021-11-19T10:01:37.452Z"
   },
   {
    "duration": 576,
    "start_time": "2021-11-19T10:04:59.532Z"
   },
   {
    "duration": 567,
    "start_time": "2021-11-19T10:05:07.672Z"
   },
   {
    "duration": 601,
    "start_time": "2021-11-19T14:21:35.422Z"
   },
   {
    "duration": 881,
    "start_time": "2021-11-19T14:27:53.748Z"
   },
   {
    "duration": 4,
    "start_time": "2021-11-19T14:38:50.877Z"
   },
   {
    "duration": 604,
    "start_time": "2021-11-19T14:38:53.175Z"
   },
   {
    "duration": 83,
    "start_time": "2021-11-19T14:38:55.164Z"
   },
   {
    "duration": 76,
    "start_time": "2021-11-19T14:39:08.231Z"
   },
   {
    "duration": 80,
    "start_time": "2021-11-19T14:39:24.435Z"
   },
   {
    "duration": 74,
    "start_time": "2021-11-19T14:39:31.228Z"
   },
   {
    "duration": 80,
    "start_time": "2021-11-19T14:39:44.844Z"
   },
   {
    "duration": 76,
    "start_time": "2021-11-19T14:39:55.701Z"
   },
   {
    "duration": 56,
    "start_time": "2021-11-19T14:40:07.892Z"
   },
   {
    "duration": 67,
    "start_time": "2021-11-19T14:40:18.765Z"
   },
   {
    "duration": 47,
    "start_time": "2021-11-19T14:40:24.014Z"
   },
   {
    "duration": 43,
    "start_time": "2021-11-19T14:40:37.288Z"
   },
   {
    "duration": 440,
    "start_time": "2021-11-19T16:22:34.192Z"
   },
   {
    "duration": 108,
    "start_time": "2021-11-19T16:23:02.000Z"
   },
   {
    "duration": 337,
    "start_time": "2021-11-19T16:23:11.144Z"
   },
   {
    "duration": 329,
    "start_time": "2021-11-19T16:23:39.581Z"
   },
   {
    "duration": 334,
    "start_time": "2021-11-19T16:23:49.634Z"
   },
   {
    "duration": 4,
    "start_time": "2021-11-19T16:23:58.729Z"
   },
   {
    "duration": 560,
    "start_time": "2021-11-19T16:23:58.736Z"
   },
   {
    "duration": 72,
    "start_time": "2021-11-19T16:23:59.299Z"
   },
   {
    "duration": 370,
    "start_time": "2021-11-19T16:24:01.886Z"
   },
   {
    "duration": 13,
    "start_time": "2021-11-19T16:24:45.213Z"
   },
   {
    "duration": 13,
    "start_time": "2021-11-19T16:26:03.986Z"
   },
   {
    "duration": 4,
    "start_time": "2021-11-19T16:30:28.197Z"
   },
   {
    "duration": 4,
    "start_time": "2021-11-19T16:30:37.750Z"
   },
   {
    "duration": 550,
    "start_time": "2021-11-19T16:30:37.756Z"
   },
   {
    "duration": 71,
    "start_time": "2021-11-19T16:30:38.309Z"
   },
   {
    "duration": 3,
    "start_time": "2021-11-19T16:30:42.962Z"
   },
   {
    "duration": 8515,
    "start_time": "2021-11-19T16:39:27.301Z"
   },
   {
    "duration": 4,
    "start_time": "2021-11-19T16:39:50.995Z"
   },
   {
    "duration": 553,
    "start_time": "2021-11-19T16:39:51.001Z"
   },
   {
    "duration": 72,
    "start_time": "2021-11-19T16:39:51.557Z"
   },
   {
    "duration": 3,
    "start_time": "2021-11-19T16:39:51.631Z"
   },
   {
    "duration": 110,
    "start_time": "2021-11-19T16:39:51.638Z"
   },
   {
    "duration": 8202,
    "start_time": "2021-11-19T16:39:53.677Z"
   },
   {
    "duration": 15,
    "start_time": "2021-11-19T16:40:51.899Z"
   },
   {
    "duration": 16,
    "start_time": "2021-11-19T16:42:00.903Z"
   },
   {
    "duration": 12,
    "start_time": "2021-11-19T16:42:35.957Z"
   },
   {
    "duration": 3,
    "start_time": "2021-11-19T16:42:42.589Z"
   },
   {
    "duration": 550,
    "start_time": "2021-11-19T16:42:42.595Z"
   },
   {
    "duration": 74,
    "start_time": "2021-11-19T16:42:43.148Z"
   },
   {
    "duration": 3,
    "start_time": "2021-11-19T16:42:43.225Z"
   },
   {
    "duration": 100,
    "start_time": "2021-11-19T16:42:43.230Z"
   },
   {
    "duration": 15,
    "start_time": "2021-11-19T16:42:45.574Z"
   },
   {
    "duration": 16,
    "start_time": "2021-11-19T16:43:53.911Z"
   },
   {
    "duration": 3,
    "start_time": "2021-11-19T16:44:07.418Z"
   },
   {
    "duration": 4,
    "start_time": "2021-11-19T16:44:09.931Z"
   },
   {
    "duration": 548,
    "start_time": "2021-11-19T16:44:09.937Z"
   },
   {
    "duration": 71,
    "start_time": "2021-11-19T16:44:10.488Z"
   },
   {
    "duration": 3,
    "start_time": "2021-11-19T16:44:10.562Z"
   },
   {
    "duration": 95,
    "start_time": "2021-11-19T16:44:10.568Z"
   },
   {
    "duration": 4,
    "start_time": "2021-11-19T16:44:13.594Z"
   },
   {
    "duration": 407,
    "start_time": "2021-11-19T19:19:16.771Z"
   },
   {
    "duration": 95,
    "start_time": "2021-11-19T19:19:30.218Z"
   },
   {
    "duration": 93,
    "start_time": "2021-11-19T19:20:14.036Z"
   },
   {
    "duration": 62,
    "start_time": "2021-11-19T19:20:48.615Z"
   },
   {
    "duration": 60,
    "start_time": "2021-11-19T19:21:11.332Z"
   },
   {
    "duration": 53,
    "start_time": "2021-11-19T19:21:38.569Z"
   },
   {
    "duration": 428,
    "start_time": "2021-11-19T19:26:07.349Z"
   },
   {
    "duration": 405,
    "start_time": "2021-11-19T19:26:21.043Z"
   },
   {
    "duration": 66,
    "start_time": "2021-11-19T19:26:32.767Z"
   },
   {
    "duration": 47,
    "start_time": "2021-11-19T19:28:38.380Z"
   },
   {
    "duration": 47,
    "start_time": "2021-11-19T19:29:20.001Z"
   },
   {
    "duration": 45,
    "start_time": "2021-11-19T19:33:29.519Z"
   },
   {
    "duration": 38,
    "start_time": "2021-11-19T20:06:23.273Z"
   },
   {
    "duration": 371,
    "start_time": "2021-11-19T20:06:50.195Z"
   },
   {
    "duration": 6280,
    "start_time": "2021-11-19T20:07:18.504Z"
   },
   {
    "duration": 6952,
    "start_time": "2021-11-19T20:09:06.592Z"
   },
   {
    "duration": 13,
    "start_time": "2021-11-19T20:09:24.609Z"
   },
   {
    "duration": 13,
    "start_time": "2021-11-19T20:10:10.513Z"
   },
   {
    "duration": 362,
    "start_time": "2021-11-19T20:12:23.790Z"
   },
   {
    "duration": 15,
    "start_time": "2021-11-19T20:12:32.915Z"
   },
   {
    "duration": 14,
    "start_time": "2021-11-19T20:13:07.860Z"
   },
   {
    "duration": 29,
    "start_time": "2021-11-19T20:15:46.644Z"
   },
   {
    "duration": 59,
    "start_time": "2021-11-19T20:17:07.224Z"
   },
   {
    "duration": 58,
    "start_time": "2021-11-19T20:17:11.857Z"
   },
   {
    "duration": 13,
    "start_time": "2021-11-19T20:19:36.282Z"
   },
   {
    "duration": 20,
    "start_time": "2021-11-19T20:20:21.291Z"
   },
   {
    "duration": 16,
    "start_time": "2021-11-19T20:21:14.578Z"
   },
   {
    "duration": 15,
    "start_time": "2021-11-19T20:21:19.586Z"
   },
   {
    "duration": 27,
    "start_time": "2021-11-19T20:21:37.367Z"
   },
   {
    "duration": 211,
    "start_time": "2021-11-22T11:53:47.087Z"
   },
   {
    "duration": 616,
    "start_time": "2021-11-22T11:53:55.606Z"
   },
   {
    "duration": 391,
    "start_time": "2021-11-22T11:53:56.224Z"
   },
   {
    "duration": 74,
    "start_time": "2021-11-22T11:53:56.617Z"
   },
   {
    "duration": 34,
    "start_time": "2021-11-22T11:53:56.692Z"
   },
   {
    "duration": 8,
    "start_time": "2021-11-22T11:53:56.728Z"
   },
   {
    "duration": 28,
    "start_time": "2021-11-22T11:54:01.839Z"
   },
   {
    "duration": 2,
    "start_time": "2021-11-22T11:54:19.635Z"
   },
   {
    "duration": 403,
    "start_time": "2021-11-22T11:54:19.639Z"
   },
   {
    "duration": 84,
    "start_time": "2021-11-22T11:54:20.044Z"
   },
   {
    "duration": 34,
    "start_time": "2021-11-22T11:54:20.130Z"
   },
   {
    "duration": 34,
    "start_time": "2021-11-22T11:54:20.166Z"
   },
   {
    "duration": 32,
    "start_time": "2021-11-22T11:54:20.202Z"
   },
   {
    "duration": 92,
    "start_time": "2021-11-22T11:54:20.236Z"
   },
   {
    "duration": 23,
    "start_time": "2021-11-22T11:54:20.330Z"
   },
   {
    "duration": 8,
    "start_time": "2021-11-22T11:54:20.354Z"
   },
   {
    "duration": 41,
    "start_time": "2021-11-22T11:54:20.392Z"
   },
   {
    "duration": 19,
    "start_time": "2021-11-22T11:54:20.434Z"
   },
   {
    "duration": 66,
    "start_time": "2021-11-22T11:54:20.454Z"
   },
   {
    "duration": 29,
    "start_time": "2021-11-22T11:54:20.521Z"
   },
   {
    "duration": 50,
    "start_time": "2021-11-22T11:54:20.552Z"
   },
   {
    "duration": 26,
    "start_time": "2021-11-22T11:55:44.694Z"
   },
   {
    "duration": 31,
    "start_time": "2021-11-22T11:55:50.031Z"
   },
   {
    "duration": 74,
    "start_time": "2021-11-22T12:00:07.483Z"
   },
   {
    "duration": 70,
    "start_time": "2021-11-22T12:08:13.235Z"
   },
   {
    "duration": 19,
    "start_time": "2021-11-22T12:22:22.068Z"
   },
   {
    "duration": 510,
    "start_time": "2021-11-22T12:27:04.810Z"
   },
   {
    "duration": 32,
    "start_time": "2021-11-22T12:27:59.237Z"
   },
   {
    "duration": 72,
    "start_time": "2021-11-22T12:28:54.008Z"
   },
   {
    "duration": 33,
    "start_time": "2021-11-22T12:30:35.730Z"
   },
   {
    "duration": 23,
    "start_time": "2021-11-22T12:34:47.244Z"
   },
   {
    "duration": 46,
    "start_time": "2021-11-22T12:37:15.373Z"
   },
   {
    "duration": 36,
    "start_time": "2021-11-22T12:46:29.314Z"
   },
   {
    "duration": 18,
    "start_time": "2021-11-22T16:23:50.887Z"
   },
   {
    "duration": 18,
    "start_time": "2021-11-22T16:26:43.978Z"
   },
   {
    "duration": 228,
    "start_time": "2021-11-22T16:29:13.482Z"
   },
   {
    "duration": 214,
    "start_time": "2021-11-22T16:29:49.768Z"
   },
   {
    "duration": 256,
    "start_time": "2021-11-22T16:30:05.173Z"
   },
   {
    "duration": 178,
    "start_time": "2021-11-22T16:31:58.410Z"
   },
   {
    "duration": 176,
    "start_time": "2021-11-22T16:32:06.984Z"
   },
   {
    "duration": 19,
    "start_time": "2021-11-22T16:32:16.856Z"
   },
   {
    "duration": 184,
    "start_time": "2021-11-22T16:32:29.561Z"
   },
   {
    "duration": 17,
    "start_time": "2021-11-22T16:32:45.629Z"
   },
   {
    "duration": 21,
    "start_time": "2021-11-22T16:33:34.393Z"
   },
   {
    "duration": 18,
    "start_time": "2021-11-22T16:36:15.743Z"
   },
   {
    "duration": 2,
    "start_time": "2021-11-22T16:36:41.203Z"
   },
   {
    "duration": 376,
    "start_time": "2021-11-22T16:36:41.207Z"
   },
   {
    "duration": 67,
    "start_time": "2021-11-22T16:36:41.585Z"
   },
   {
    "duration": 46,
    "start_time": "2021-11-22T16:36:41.653Z"
   },
   {
    "duration": 9,
    "start_time": "2021-11-22T16:36:41.700Z"
   },
   {
    "duration": 88,
    "start_time": "2021-11-22T16:36:41.710Z"
   },
   {
    "duration": 60,
    "start_time": "2021-11-22T16:36:41.800Z"
   },
   {
    "duration": 42,
    "start_time": "2021-11-22T16:36:41.862Z"
   },
   {
    "duration": 9,
    "start_time": "2021-11-22T16:36:41.906Z"
   },
   {
    "duration": 42,
    "start_time": "2021-11-22T16:36:41.916Z"
   },
   {
    "duration": 69,
    "start_time": "2021-11-22T16:36:41.960Z"
   },
   {
    "duration": 19,
    "start_time": "2021-11-22T16:36:42.031Z"
   },
   {
    "duration": 59,
    "start_time": "2021-11-22T16:36:42.052Z"
   },
   {
    "duration": 36,
    "start_time": "2021-11-22T16:36:42.112Z"
   },
   {
    "duration": 55,
    "start_time": "2021-11-22T16:36:42.149Z"
   },
   {
    "duration": 16,
    "start_time": "2021-11-22T16:36:42.206Z"
   },
   {
    "duration": 20,
    "start_time": "2021-11-22T16:36:48.173Z"
   },
   {
    "duration": 17,
    "start_time": "2021-11-22T16:37:32.703Z"
   },
   {
    "duration": 183,
    "start_time": "2021-11-22T16:38:19.733Z"
   },
   {
    "duration": 14,
    "start_time": "2021-11-22T16:38:37.151Z"
   },
   {
    "duration": 266,
    "start_time": "2021-11-22T16:40:24.861Z"
   },
   {
    "duration": 195,
    "start_time": "2021-11-22T16:40:59.416Z"
   },
   {
    "duration": 37,
    "start_time": "2021-11-22T16:41:22.809Z"
   },
   {
    "duration": 21,
    "start_time": "2021-11-22T16:43:10.118Z"
   },
   {
    "duration": 17,
    "start_time": "2021-11-22T16:45:18.259Z"
   },
   {
    "duration": 23,
    "start_time": "2021-11-22T16:50:07.863Z"
   },
   {
    "duration": 187,
    "start_time": "2021-11-22T16:57:56.760Z"
   },
   {
    "duration": 175,
    "start_time": "2021-11-22T16:58:11.604Z"
   },
   {
    "duration": 249,
    "start_time": "2021-11-22T16:59:40.021Z"
   },
   {
    "duration": 188,
    "start_time": "2021-11-22T17:00:04.326Z"
   },
   {
    "duration": 3,
    "start_time": "2021-11-22T17:00:20.992Z"
   },
   {
    "duration": 366,
    "start_time": "2021-11-22T17:00:20.998Z"
   },
   {
    "duration": 64,
    "start_time": "2021-11-22T17:00:21.366Z"
   },
   {
    "duration": 29,
    "start_time": "2021-11-22T17:00:21.432Z"
   },
   {
    "duration": 32,
    "start_time": "2021-11-22T17:00:21.463Z"
   },
   {
    "duration": 63,
    "start_time": "2021-11-22T17:00:21.497Z"
   },
   {
    "duration": 79,
    "start_time": "2021-11-22T17:00:21.561Z"
   },
   {
    "duration": 23,
    "start_time": "2021-11-22T17:00:21.641Z"
   },
   {
    "duration": 33,
    "start_time": "2021-11-22T17:00:21.666Z"
   },
   {
    "duration": 38,
    "start_time": "2021-11-22T17:00:21.701Z"
   },
   {
    "duration": 66,
    "start_time": "2021-11-22T17:00:21.740Z"
   },
   {
    "duration": 20,
    "start_time": "2021-11-22T17:00:21.807Z"
   },
   {
    "duration": 33,
    "start_time": "2021-11-22T17:00:21.828Z"
   },
   {
    "duration": 63,
    "start_time": "2021-11-22T17:00:21.862Z"
   },
   {
    "duration": 28,
    "start_time": "2021-11-22T17:00:21.927Z"
   },
   {
    "duration": 49,
    "start_time": "2021-11-22T17:00:21.956Z"
   },
   {
    "duration": 224,
    "start_time": "2021-11-22T17:00:24.327Z"
   },
   {
    "duration": 183,
    "start_time": "2021-11-22T17:00:46.280Z"
   },
   {
    "duration": 194,
    "start_time": "2021-11-22T17:00:53.844Z"
   },
   {
    "duration": 3,
    "start_time": "2021-11-22T17:01:04.306Z"
   },
   {
    "duration": 397,
    "start_time": "2021-11-22T17:01:04.311Z"
   },
   {
    "duration": 71,
    "start_time": "2021-11-22T17:01:04.710Z"
   },
   {
    "duration": 34,
    "start_time": "2021-11-22T17:01:04.784Z"
   },
   {
    "duration": 11,
    "start_time": "2021-11-22T17:01:04.820Z"
   },
   {
    "duration": 98,
    "start_time": "2021-11-22T17:01:04.834Z"
   },
   {
    "duration": 81,
    "start_time": "2021-11-22T17:01:04.935Z"
   },
   {
    "duration": 25,
    "start_time": "2021-11-22T17:01:05.019Z"
   },
   {
    "duration": 11,
    "start_time": "2021-11-22T17:01:05.047Z"
   },
   {
    "duration": 50,
    "start_time": "2021-11-22T17:01:05.092Z"
   },
   {
    "duration": 69,
    "start_time": "2021-11-22T17:01:05.144Z"
   },
   {
    "duration": 19,
    "start_time": "2021-11-22T17:01:05.215Z"
   },
   {
    "duration": 59,
    "start_time": "2021-11-22T17:01:05.236Z"
   },
   {
    "duration": 37,
    "start_time": "2021-11-22T17:01:05.297Z"
   },
   {
    "duration": 65,
    "start_time": "2021-11-22T17:01:05.336Z"
   },
   {
    "duration": 17,
    "start_time": "2021-11-22T17:01:05.403Z"
   },
   {
    "duration": 179,
    "start_time": "2021-11-22T17:01:09.645Z"
   },
   {
    "duration": 207,
    "start_time": "2021-11-22T17:02:09.576Z"
   },
   {
    "duration": 192,
    "start_time": "2021-11-22T17:02:24.970Z"
   },
   {
    "duration": 29,
    "start_time": "2021-11-22T17:02:43.466Z"
   },
   {
    "duration": 26,
    "start_time": "2021-11-22T17:05:02.993Z"
   },
   {
    "duration": 27,
    "start_time": "2021-11-22T17:05:13.439Z"
   },
   {
    "duration": 3,
    "start_time": "2021-11-22T17:05:16.735Z"
   },
   {
    "duration": 407,
    "start_time": "2021-11-22T17:05:16.740Z"
   },
   {
    "duration": 67,
    "start_time": "2021-11-22T17:05:17.149Z"
   },
   {
    "duration": 31,
    "start_time": "2021-11-22T17:05:17.217Z"
   },
   {
    "duration": 10,
    "start_time": "2021-11-22T17:05:17.250Z"
   },
   {
    "duration": 89,
    "start_time": "2021-11-22T17:05:17.261Z"
   },
   {
    "duration": 77,
    "start_time": "2021-11-22T17:05:17.353Z"
   },
   {
    "duration": 25,
    "start_time": "2021-11-22T17:05:17.433Z"
   },
   {
    "duration": 33,
    "start_time": "2021-11-22T17:05:17.459Z"
   },
   {
    "duration": 42,
    "start_time": "2021-11-22T17:05:17.494Z"
   },
   {
    "duration": 63,
    "start_time": "2021-11-22T17:05:17.537Z"
   },
   {
    "duration": 20,
    "start_time": "2021-11-22T17:05:17.602Z"
   },
   {
    "duration": 32,
    "start_time": "2021-11-22T17:05:17.623Z"
   },
   {
    "duration": 69,
    "start_time": "2021-11-22T17:05:17.657Z"
   },
   {
    "duration": 64,
    "start_time": "2021-11-22T17:05:17.729Z"
   },
   {
    "duration": 18,
    "start_time": "2021-11-22T17:05:17.795Z"
   },
   {
    "duration": 105,
    "start_time": "2021-11-22T17:05:17.814Z"
   },
   {
    "duration": 203,
    "start_time": "2021-11-22T17:06:36.471Z"
   },
   {
    "duration": 192,
    "start_time": "2021-11-22T17:06:52.724Z"
   },
   {
    "duration": 3,
    "start_time": "2021-11-22T17:06:56.820Z"
   },
   {
    "duration": 383,
    "start_time": "2021-11-22T17:06:56.826Z"
   },
   {
    "duration": 67,
    "start_time": "2021-11-22T17:06:57.211Z"
   },
   {
    "duration": 32,
    "start_time": "2021-11-22T17:06:57.280Z"
   },
   {
    "duration": 8,
    "start_time": "2021-11-22T17:06:57.314Z"
   },
   {
    "duration": 90,
    "start_time": "2021-11-22T17:06:57.324Z"
   },
   {
    "duration": 77,
    "start_time": "2021-11-22T17:06:57.415Z"
   },
   {
    "duration": 23,
    "start_time": "2021-11-22T17:06:57.494Z"
   },
   {
    "duration": 9,
    "start_time": "2021-11-22T17:06:57.519Z"
   },
   {
    "duration": 65,
    "start_time": "2021-11-22T17:06:57.529Z"
   },
   {
    "duration": 42,
    "start_time": "2021-11-22T17:06:57.595Z"
   },
   {
    "duration": 19,
    "start_time": "2021-11-22T17:06:57.639Z"
   },
   {
    "duration": 58,
    "start_time": "2021-11-22T17:06:57.659Z"
   },
   {
    "duration": 38,
    "start_time": "2021-11-22T17:06:57.719Z"
   },
   {
    "duration": 54,
    "start_time": "2021-11-22T17:06:57.758Z"
   },
   {
    "duration": 17,
    "start_time": "2021-11-22T17:06:57.814Z"
   },
   {
    "duration": 64,
    "start_time": "2021-11-22T17:06:57.832Z"
   },
   {
    "duration": 28,
    "start_time": "2021-11-22T17:07:34.437Z"
   },
   {
    "duration": 21,
    "start_time": "2021-11-22T17:10:40.291Z"
   },
   {
    "duration": 22,
    "start_time": "2021-11-22T17:14:05.128Z"
   },
   {
    "duration": 22,
    "start_time": "2021-11-22T17:15:47.754Z"
   },
   {
    "duration": 33,
    "start_time": "2021-11-22T17:16:05.839Z"
   },
   {
    "duration": 60,
    "start_time": "2021-11-22T17:17:44.025Z"
   },
   {
    "duration": 22,
    "start_time": "2021-11-22T17:17:49.751Z"
   },
   {
    "duration": 21,
    "start_time": "2021-11-22T17:18:01.902Z"
   },
   {
    "duration": 2,
    "start_time": "2021-11-22T17:18:32.393Z"
   },
   {
    "duration": 5723,
    "start_time": "2021-11-22T17:18:32.400Z"
   },
   {
    "duration": 73,
    "start_time": "2021-11-22T17:18:38.125Z"
   },
   {
    "duration": 30,
    "start_time": "2021-11-22T17:18:38.200Z"
   },
   {
    "duration": 8,
    "start_time": "2021-11-22T17:18:38.232Z"
   },
   {
    "duration": 106,
    "start_time": "2021-11-22T17:18:38.242Z"
   },
   {
    "duration": 72,
    "start_time": "2021-11-22T17:18:38.349Z"
   },
   {
    "duration": 23,
    "start_time": "2021-11-22T17:18:38.423Z"
   },
   {
    "duration": 10,
    "start_time": "2021-11-22T17:18:38.448Z"
   },
   {
    "duration": 71,
    "start_time": "2021-11-22T17:18:38.460Z"
   },
   {
    "duration": 66,
    "start_time": "2021-11-22T17:18:38.532Z"
   },
   {
    "duration": 19,
    "start_time": "2021-11-22T17:18:38.600Z"
   },
   {
    "duration": 30,
    "start_time": "2021-11-22T17:18:38.621Z"
   },
   {
    "duration": 67,
    "start_time": "2021-11-22T17:18:38.654Z"
   },
   {
    "duration": 69,
    "start_time": "2021-11-22T17:18:38.723Z"
   },
   {
    "duration": 24,
    "start_time": "2021-11-22T17:18:38.794Z"
   },
   {
    "duration": 31,
    "start_time": "2021-11-22T17:18:38.820Z"
   },
   {
    "duration": 52,
    "start_time": "2021-11-22T17:18:38.853Z"
   },
   {
    "duration": 22,
    "start_time": "2021-11-22T17:23:14.832Z"
   },
   {
    "duration": 10,
    "start_time": "2021-11-22T17:23:39.767Z"
   },
   {
    "duration": 16,
    "start_time": "2021-11-22T17:24:24.990Z"
   },
   {
    "duration": 62,
    "start_time": "2021-11-22T17:25:30.908Z"
   },
   {
    "duration": 28,
    "start_time": "2021-11-22T17:25:39.187Z"
   },
   {
    "duration": 4,
    "start_time": "2021-11-22T17:25:53.036Z"
   },
   {
    "duration": 31,
    "start_time": "2021-11-22T17:26:23.149Z"
   },
   {
    "duration": 23,
    "start_time": "2021-11-22T17:26:52.455Z"
   },
   {
    "duration": 9,
    "start_time": "2021-11-22T17:27:00.615Z"
   },
   {
    "duration": 3,
    "start_time": "2021-11-22T17:30:08.325Z"
   },
   {
    "duration": 401,
    "start_time": "2021-11-22T17:30:08.333Z"
   },
   {
    "duration": 66,
    "start_time": "2021-11-22T17:30:08.737Z"
   },
   {
    "duration": 29,
    "start_time": "2021-11-22T17:30:08.805Z"
   },
   {
    "duration": 9,
    "start_time": "2021-11-22T17:30:08.836Z"
   },
   {
    "duration": 86,
    "start_time": "2021-11-22T17:30:08.846Z"
   },
   {
    "duration": 91,
    "start_time": "2021-11-22T17:30:08.934Z"
   },
   {
    "duration": 22,
    "start_time": "2021-11-22T17:30:09.027Z"
   },
   {
    "duration": 9,
    "start_time": "2021-11-22T17:30:09.052Z"
   },
   {
    "duration": 49,
    "start_time": "2021-11-22T17:30:09.092Z"
   },
   {
    "duration": 67,
    "start_time": "2021-11-22T17:30:09.143Z"
   },
   {
    "duration": 29,
    "start_time": "2021-11-22T17:30:09.213Z"
   },
   {
    "duration": 80,
    "start_time": "2021-11-22T17:30:09.244Z"
   },
   {
    "duration": 46,
    "start_time": "2021-11-22T17:30:09.326Z"
   },
   {
    "duration": 39,
    "start_time": "2021-11-22T17:30:09.392Z"
   },
   {
    "duration": 23,
    "start_time": "2021-11-22T17:30:09.433Z"
   },
   {
    "duration": 35,
    "start_time": "2021-11-22T17:30:09.458Z"
   },
   {
    "duration": 5,
    "start_time": "2021-11-22T17:30:09.495Z"
   },
   {
    "duration": 6,
    "start_time": "2021-11-22T17:30:09.501Z"
   },
   {
    "duration": 14,
    "start_time": "2021-11-22T17:31:01.205Z"
   },
   {
    "duration": 20,
    "start_time": "2021-11-22T17:33:15.147Z"
   },
   {
    "duration": 19,
    "start_time": "2021-11-22T17:33:33.935Z"
   },
   {
    "duration": 3,
    "start_time": "2021-11-22T17:33:40.314Z"
   },
   {
    "duration": 412,
    "start_time": "2021-11-22T17:33:40.322Z"
   },
   {
    "duration": 75,
    "start_time": "2021-11-22T17:33:40.736Z"
   },
   {
    "duration": 29,
    "start_time": "2021-11-22T17:33:40.813Z"
   },
   {
    "duration": 9,
    "start_time": "2021-11-22T17:33:40.844Z"
   },
   {
    "duration": 98,
    "start_time": "2021-11-22T17:33:40.854Z"
   },
   {
    "duration": 75,
    "start_time": "2021-11-22T17:33:40.954Z"
   },
   {
    "duration": 22,
    "start_time": "2021-11-22T17:33:41.031Z"
   },
   {
    "duration": 9,
    "start_time": "2021-11-22T17:33:41.056Z"
   },
   {
    "duration": 46,
    "start_time": "2021-11-22T17:33:41.090Z"
   },
   {
    "duration": 74,
    "start_time": "2021-11-22T17:33:41.137Z"
   },
   {
    "duration": 20,
    "start_time": "2021-11-22T17:33:41.213Z"
   },
   {
    "duration": 58,
    "start_time": "2021-11-22T17:33:41.236Z"
   },
   {
    "duration": 39,
    "start_time": "2021-11-22T17:33:41.296Z"
   },
   {
    "duration": 56,
    "start_time": "2021-11-22T17:33:41.337Z"
   },
   {
    "duration": 23,
    "start_time": "2021-11-22T17:33:41.394Z"
   },
   {
    "duration": 18,
    "start_time": "2021-11-22T17:33:41.419Z"
   },
   {
    "duration": 2,
    "start_time": "2021-11-22T17:33:41.439Z"
   },
   {
    "duration": 5,
    "start_time": "2021-11-22T17:33:41.443Z"
   },
   {
    "duration": 5,
    "start_time": "2021-11-22T17:33:41.450Z"
   },
   {
    "duration": 12,
    "start_time": "2021-11-22T17:35:28.239Z"
   },
   {
    "duration": 19,
    "start_time": "2021-11-22T17:35:49.264Z"
   },
   {
    "duration": 3,
    "start_time": "2021-11-22T17:36:04.439Z"
   },
   {
    "duration": 386,
    "start_time": "2021-11-22T17:36:04.447Z"
   },
   {
    "duration": 63,
    "start_time": "2021-11-22T17:36:04.835Z"
   },
   {
    "duration": 30,
    "start_time": "2021-11-22T17:36:04.900Z"
   },
   {
    "duration": 8,
    "start_time": "2021-11-22T17:36:04.932Z"
   },
   {
    "duration": 108,
    "start_time": "2021-11-22T17:36:04.941Z"
   },
   {
    "duration": 85,
    "start_time": "2021-11-22T17:36:05.051Z"
   },
   {
    "duration": 24,
    "start_time": "2021-11-22T17:36:05.138Z"
   },
   {
    "duration": 28,
    "start_time": "2021-11-22T17:36:05.165Z"
   },
   {
    "duration": 45,
    "start_time": "2021-11-22T17:36:05.195Z"
   },
   {
    "duration": 64,
    "start_time": "2021-11-22T17:36:05.242Z"
   },
   {
    "duration": 20,
    "start_time": "2021-11-22T17:36:05.307Z"
   },
   {
    "duration": 32,
    "start_time": "2021-11-22T17:36:05.329Z"
   },
   {
    "duration": 60,
    "start_time": "2021-11-22T17:36:05.362Z"
   },
   {
    "duration": 26,
    "start_time": "2021-11-22T17:36:05.424Z"
   },
   {
    "duration": 53,
    "start_time": "2021-11-22T17:36:05.451Z"
   },
   {
    "duration": 15,
    "start_time": "2021-11-22T17:36:05.505Z"
   },
   {
    "duration": 3,
    "start_time": "2021-11-22T17:36:05.521Z"
   },
   {
    "duration": 6,
    "start_time": "2021-11-22T17:36:05.525Z"
   },
   {
    "duration": 4,
    "start_time": "2021-11-22T17:36:05.533Z"
   },
   {
    "duration": 14,
    "start_time": "2021-11-22T17:41:05.204Z"
   },
   {
    "duration": 16,
    "start_time": "2021-11-22T17:42:14.459Z"
   },
   {
    "duration": 192,
    "start_time": "2021-11-22T17:42:21.548Z"
   },
   {
    "duration": 178,
    "start_time": "2021-11-22T17:42:32.913Z"
   },
   {
    "duration": 3,
    "start_time": "2021-11-22T17:42:35.803Z"
   },
   {
    "duration": 380,
    "start_time": "2021-11-22T17:42:35.811Z"
   },
   {
    "duration": 69,
    "start_time": "2021-11-22T17:42:36.193Z"
   },
   {
    "duration": 47,
    "start_time": "2021-11-22T17:42:36.264Z"
   },
   {
    "duration": 8,
    "start_time": "2021-11-22T17:42:36.313Z"
   },
   {
    "duration": 94,
    "start_time": "2021-11-22T17:42:36.323Z"
   },
   {
    "duration": 79,
    "start_time": "2021-11-22T17:42:36.419Z"
   },
   {
    "duration": 24,
    "start_time": "2021-11-22T17:42:36.499Z"
   },
   {
    "duration": 9,
    "start_time": "2021-11-22T17:42:36.525Z"
   },
   {
    "duration": 69,
    "start_time": "2021-11-22T17:42:36.536Z"
   },
   {
    "duration": 40,
    "start_time": "2021-11-22T17:42:36.606Z"
   },
   {
    "duration": 43,
    "start_time": "2021-11-22T17:42:36.648Z"
   },
   {
    "duration": 31,
    "start_time": "2021-11-22T17:42:36.693Z"
   },
   {
    "duration": 35,
    "start_time": "2021-11-22T17:42:36.725Z"
   },
   {
    "duration": 52,
    "start_time": "2021-11-22T17:42:36.762Z"
   },
   {
    "duration": 18,
    "start_time": "2021-11-22T17:42:36.816Z"
   },
   {
    "duration": 19,
    "start_time": "2021-11-22T17:42:36.835Z"
   },
   {
    "duration": 2,
    "start_time": "2021-11-22T17:42:36.892Z"
   },
   {
    "duration": 7,
    "start_time": "2021-11-22T17:42:36.896Z"
   },
   {
    "duration": 5,
    "start_time": "2021-11-22T17:42:36.905Z"
   },
   {
    "duration": 18,
    "start_time": "2021-11-22T17:42:46.910Z"
   },
   {
    "duration": 20,
    "start_time": "2021-11-22T17:42:55.062Z"
   },
   {
    "duration": 11,
    "start_time": "2021-11-22T17:43:13.330Z"
   },
   {
    "duration": 689,
    "start_time": "2021-11-22T17:44:52.504Z"
   },
   {
    "duration": 3,
    "start_time": "2021-11-22T17:44:57.832Z"
   },
   {
    "duration": 401,
    "start_time": "2021-11-22T17:44:57.839Z"
   },
   {
    "duration": 66,
    "start_time": "2021-11-22T17:44:58.242Z"
   },
   {
    "duration": 28,
    "start_time": "2021-11-22T17:44:58.310Z"
   },
   {
    "duration": 13,
    "start_time": "2021-11-22T17:44:58.339Z"
   },
   {
    "duration": 87,
    "start_time": "2021-11-22T17:44:58.353Z"
   },
   {
    "duration": 73,
    "start_time": "2021-11-22T17:44:58.442Z"
   },
   {
    "duration": 22,
    "start_time": "2021-11-22T17:44:58.517Z"
   },
   {
    "duration": 8,
    "start_time": "2021-11-22T17:44:58.542Z"
   },
   {
    "duration": 89,
    "start_time": "2021-11-22T17:44:58.551Z"
   },
   {
    "duration": 90,
    "start_time": "2021-11-22T17:44:58.645Z"
   },
   {
    "duration": 33,
    "start_time": "2021-11-22T17:44:58.742Z"
   },
   {
    "duration": 37,
    "start_time": "2021-11-22T17:44:58.777Z"
   },
   {
    "duration": 36,
    "start_time": "2021-11-22T17:44:58.815Z"
   },
   {
    "duration": 55,
    "start_time": "2021-11-22T17:44:58.852Z"
   },
   {
    "duration": 18,
    "start_time": "2021-11-22T17:44:58.909Z"
   },
   {
    "duration": 62,
    "start_time": "2021-11-22T17:44:58.929Z"
   },
   {
    "duration": 27,
    "start_time": "2021-11-22T17:45:08.075Z"
   },
   {
    "duration": 22,
    "start_time": "2021-11-22T17:45:32.702Z"
   },
   {
    "duration": 66,
    "start_time": "2021-11-22T17:49:30.123Z"
   },
   {
    "duration": 27,
    "start_time": "2021-11-22T17:50:09.766Z"
   },
   {
    "duration": 368,
    "start_time": "2021-11-22T18:03:36.344Z"
   },
   {
    "duration": 174,
    "start_time": "2021-11-22T18:16:55.211Z"
   },
   {
    "duration": 169,
    "start_time": "2021-11-22T18:18:38.246Z"
   },
   {
    "duration": 3,
    "start_time": "2021-11-22T18:18:43.979Z"
   },
   {
    "duration": 408,
    "start_time": "2021-11-22T18:18:43.984Z"
   },
   {
    "duration": 67,
    "start_time": "2021-11-22T18:18:44.394Z"
   },
   {
    "duration": 54,
    "start_time": "2021-11-22T18:18:44.463Z"
   },
   {
    "duration": 8,
    "start_time": "2021-11-22T18:18:44.519Z"
   },
   {
    "duration": 93,
    "start_time": "2021-11-22T18:18:44.529Z"
   },
   {
    "duration": 78,
    "start_time": "2021-11-22T18:18:44.624Z"
   },
   {
    "duration": 24,
    "start_time": "2021-11-22T18:18:44.705Z"
   },
   {
    "duration": 11,
    "start_time": "2021-11-22T18:18:44.731Z"
   },
   {
    "duration": 75,
    "start_time": "2021-11-22T18:18:44.744Z"
   },
   {
    "duration": 42,
    "start_time": "2021-11-22T18:18:44.821Z"
   },
   {
    "duration": 44,
    "start_time": "2021-11-22T18:18:44.864Z"
   },
   {
    "duration": 40,
    "start_time": "2021-11-22T18:18:44.910Z"
   },
   {
    "duration": 65,
    "start_time": "2021-11-22T18:18:44.952Z"
   },
   {
    "duration": 28,
    "start_time": "2021-11-22T18:18:45.018Z"
   },
   {
    "duration": 50,
    "start_time": "2021-11-22T18:18:45.048Z"
   },
   {
    "duration": 30,
    "start_time": "2021-11-22T18:18:45.101Z"
   },
   {
    "duration": 21,
    "start_time": "2021-11-22T18:18:45.132Z"
   },
   {
    "duration": 2,
    "start_time": "2021-11-22T18:18:45.155Z"
   },
   {
    "duration": 183,
    "start_time": "2021-11-22T18:18:49.571Z"
   },
   {
    "duration": 9,
    "start_time": "2021-11-22T18:18:58.523Z"
   },
   {
    "duration": 22,
    "start_time": "2021-11-22T18:19:50.555Z"
   },
   {
    "duration": 9,
    "start_time": "2021-11-22T18:20:20.454Z"
   },
   {
    "duration": 9,
    "start_time": "2021-11-22T18:32:35.966Z"
   },
   {
    "duration": 8,
    "start_time": "2021-11-22T18:33:20.911Z"
   },
   {
    "duration": 10,
    "start_time": "2021-11-22T18:34:17.138Z"
   },
   {
    "duration": 25,
    "start_time": "2021-11-22T18:36:08.095Z"
   },
   {
    "duration": 11,
    "start_time": "2021-11-22T18:36:15.209Z"
   },
   {
    "duration": 16,
    "start_time": "2021-11-22T18:36:45.379Z"
   },
   {
    "duration": 10,
    "start_time": "2021-11-22T18:36:52.048Z"
   },
   {
    "duration": 16,
    "start_time": "2021-11-22T18:40:38.856Z"
   },
   {
    "duration": 9,
    "start_time": "2021-11-22T18:41:09.970Z"
   },
   {
    "duration": 18,
    "start_time": "2021-11-22T18:48:58.452Z"
   },
   {
    "duration": 9,
    "start_time": "2021-11-22T18:50:26.659Z"
   },
   {
    "duration": 177,
    "start_time": "2021-11-22T18:50:51.654Z"
   },
   {
    "duration": 177,
    "start_time": "2021-11-22T18:51:09.412Z"
   },
   {
    "duration": 226,
    "start_time": "2021-11-22T18:51:34.802Z"
   },
   {
    "duration": 7,
    "start_time": "2021-11-22T18:51:51.442Z"
   },
   {
    "duration": 17,
    "start_time": "2021-11-22T18:58:09.978Z"
   },
   {
    "duration": 8,
    "start_time": "2021-11-22T18:58:20.730Z"
   },
   {
    "duration": 16,
    "start_time": "2021-11-22T18:58:56.525Z"
   },
   {
    "duration": 15,
    "start_time": "2021-11-22T19:01:08.537Z"
   },
   {
    "duration": 9,
    "start_time": "2021-11-22T19:01:20.722Z"
   },
   {
    "duration": 26,
    "start_time": "2021-11-22T19:01:25.820Z"
   },
   {
    "duration": 11,
    "start_time": "2021-11-22T19:01:29.526Z"
   },
   {
    "duration": 16,
    "start_time": "2021-11-22T19:15:29.486Z"
   },
   {
    "duration": 16,
    "start_time": "2021-11-22T19:17:16.861Z"
   },
   {
    "duration": 21,
    "start_time": "2021-11-22T19:17:27.992Z"
   },
   {
    "duration": 22,
    "start_time": "2021-11-22T19:17:38.113Z"
   },
   {
    "duration": 3,
    "start_time": "2021-11-22T19:17:58.979Z"
   },
   {
    "duration": 395,
    "start_time": "2021-11-22T19:17:58.984Z"
   },
   {
    "duration": 66,
    "start_time": "2021-11-22T19:17:59.381Z"
   },
   {
    "duration": 50,
    "start_time": "2021-11-22T19:17:59.449Z"
   },
   {
    "duration": 9,
    "start_time": "2021-11-22T19:17:59.501Z"
   },
   {
    "duration": 84,
    "start_time": "2021-11-22T19:17:59.511Z"
   },
   {
    "duration": 63,
    "start_time": "2021-11-22T19:17:59.598Z"
   },
   {
    "duration": 47,
    "start_time": "2021-11-22T19:17:59.664Z"
   },
   {
    "duration": 9,
    "start_time": "2021-11-22T19:17:59.713Z"
   },
   {
    "duration": 68,
    "start_time": "2021-11-22T19:17:59.723Z"
   },
   {
    "duration": 42,
    "start_time": "2021-11-22T19:17:59.793Z"
   },
   {
    "duration": 19,
    "start_time": "2021-11-22T19:17:59.837Z"
   },
   {
    "duration": 59,
    "start_time": "2021-11-22T19:17:59.858Z"
   },
   {
    "duration": 36,
    "start_time": "2021-11-22T19:17:59.919Z"
   },
   {
    "duration": 61,
    "start_time": "2021-11-22T19:17:59.956Z"
   },
   {
    "duration": 17,
    "start_time": "2021-11-22T19:18:00.019Z"
   },
   {
    "duration": 64,
    "start_time": "2021-11-22T19:18:00.038Z"
   },
   {
    "duration": 21,
    "start_time": "2021-11-22T19:18:00.103Z"
   },
   {
    "duration": 8,
    "start_time": "2021-11-22T19:18:00.126Z"
   },
   {
    "duration": 27,
    "start_time": "2021-11-22T19:18:00.135Z"
   },
   {
    "duration": 37,
    "start_time": "2021-11-22T19:18:00.163Z"
   },
   {
    "duration": 19,
    "start_time": "2021-11-22T19:18:00.202Z"
   },
   {
    "duration": 20,
    "start_time": "2021-11-22T19:19:43.480Z"
   },
   {
    "duration": 20,
    "start_time": "2021-11-22T19:20:11.673Z"
   },
   {
    "duration": 17,
    "start_time": "2021-11-22T21:12:49.864Z"
   },
   {
    "duration": 3,
    "start_time": "2021-11-22T21:13:25.162Z"
   },
   {
    "duration": 640,
    "start_time": "2021-11-22T21:13:25.166Z"
   },
   {
    "duration": 67,
    "start_time": "2021-11-22T21:13:25.808Z"
   },
   {
    "duration": 36,
    "start_time": "2021-11-22T21:13:25.877Z"
   },
   {
    "duration": 8,
    "start_time": "2021-11-22T21:13:25.915Z"
   },
   {
    "duration": 118,
    "start_time": "2021-11-22T21:13:25.925Z"
   },
   {
    "duration": 76,
    "start_time": "2021-11-22T21:13:26.045Z"
   },
   {
    "duration": 22,
    "start_time": "2021-11-22T21:13:26.124Z"
   },
   {
    "duration": 8,
    "start_time": "2021-11-22T21:13:26.149Z"
   },
   {
    "duration": 67,
    "start_time": "2021-11-22T21:13:26.159Z"
   },
   {
    "duration": 43,
    "start_time": "2021-11-22T21:13:26.227Z"
   },
   {
    "duration": 39,
    "start_time": "2021-11-22T21:13:26.272Z"
   },
   {
    "duration": 33,
    "start_time": "2021-11-22T21:13:26.312Z"
   },
   {
    "duration": 66,
    "start_time": "2021-11-22T21:13:26.347Z"
   },
   {
    "duration": 30,
    "start_time": "2021-11-22T21:13:26.415Z"
   },
   {
    "duration": 46,
    "start_time": "2021-11-22T21:13:26.446Z"
   },
   {
    "duration": 31,
    "start_time": "2021-11-22T21:13:26.494Z"
   },
   {
    "duration": 19,
    "start_time": "2021-11-22T21:13:26.527Z"
   },
   {
    "duration": 8,
    "start_time": "2021-11-22T21:13:26.548Z"
   },
   {
    "duration": 52,
    "start_time": "2021-11-22T21:13:26.557Z"
   },
   {
    "duration": 9,
    "start_time": "2021-11-22T21:13:26.611Z"
   },
   {
    "duration": 20,
    "start_time": "2021-11-22T21:13:26.622Z"
   },
   {
    "duration": 2,
    "start_time": "2021-11-22T21:13:26.645Z"
   },
   {
    "duration": 28,
    "start_time": "2021-11-22T21:13:52.977Z"
   },
   {
    "duration": 27,
    "start_time": "2021-11-22T21:14:08.498Z"
   },
   {
    "duration": 25,
    "start_time": "2021-11-22T21:14:27.464Z"
   },
   {
    "duration": 67,
    "start_time": "2021-11-22T21:30:23.328Z"
   },
   {
    "duration": 118,
    "start_time": "2021-11-22T21:30:30.573Z"
   },
   {
    "duration": 118,
    "start_time": "2021-11-22T21:33:54.246Z"
   },
   {
    "duration": 122,
    "start_time": "2021-11-22T21:34:10.015Z"
   },
   {
    "duration": 130,
    "start_time": "2021-11-22T21:34:26.249Z"
   },
   {
    "duration": 128,
    "start_time": "2021-11-22T21:34:42.130Z"
   },
   {
    "duration": 575,
    "start_time": "2021-11-23T09:09:18.417Z"
   },
   {
    "duration": 344,
    "start_time": "2021-11-23T09:09:18.993Z"
   },
   {
    "duration": 66,
    "start_time": "2021-11-23T09:09:19.339Z"
   },
   {
    "duration": 31,
    "start_time": "2021-11-23T09:09:19.406Z"
   },
   {
    "duration": 8,
    "start_time": "2021-11-23T09:09:19.438Z"
   },
   {
    "duration": 84,
    "start_time": "2021-11-23T09:09:19.448Z"
   },
   {
    "duration": 62,
    "start_time": "2021-11-23T09:09:19.533Z"
   },
   {
    "duration": 21,
    "start_time": "2021-11-23T09:09:19.597Z"
   },
   {
    "duration": 7,
    "start_time": "2021-11-23T09:09:19.620Z"
   },
   {
    "duration": 68,
    "start_time": "2021-11-23T09:09:19.628Z"
   },
   {
    "duration": 36,
    "start_time": "2021-11-23T09:09:19.697Z"
   },
   {
    "duration": 17,
    "start_time": "2021-11-23T09:09:19.734Z"
   },
   {
    "duration": 56,
    "start_time": "2021-11-23T09:09:19.752Z"
   },
   {
    "duration": 33,
    "start_time": "2021-11-23T09:09:19.809Z"
   },
   {
    "duration": 50,
    "start_time": "2021-11-23T09:09:19.844Z"
   },
   {
    "duration": 14,
    "start_time": "2021-11-23T09:09:19.895Z"
   },
   {
    "duration": 27,
    "start_time": "2021-11-23T09:09:19.910Z"
   },
   {
    "duration": 50,
    "start_time": "2021-11-23T09:09:19.938Z"
   },
   {
    "duration": 7,
    "start_time": "2021-11-23T09:09:19.989Z"
   },
   {
    "duration": 21,
    "start_time": "2021-11-23T09:09:19.998Z"
   },
   {
    "duration": 9,
    "start_time": "2021-11-23T09:09:20.021Z"
   },
   {
    "duration": 21,
    "start_time": "2021-11-23T09:09:20.032Z"
   },
   {
    "duration": 188,
    "start_time": "2021-11-23T09:09:20.055Z"
   },
   {
    "duration": 104,
    "start_time": "2021-11-23T09:14:48.375Z"
   },
   {
    "duration": 101,
    "start_time": "2021-11-23T09:15:08.896Z"
   },
   {
    "duration": 254,
    "start_time": "2021-11-23T09:26:39.937Z"
   },
   {
    "duration": 253,
    "start_time": "2021-11-23T09:26:58.930Z"
   },
   {
    "duration": 255,
    "start_time": "2021-11-23T09:29:34.931Z"
   },
   {
    "duration": 242,
    "start_time": "2021-11-23T09:31:34.879Z"
   },
   {
    "duration": 263,
    "start_time": "2021-11-23T09:31:48.713Z"
   },
   {
    "duration": 377,
    "start_time": "2021-11-23T09:34:36.304Z"
   },
   {
    "duration": 288,
    "start_time": "2021-11-23T09:42:06.554Z"
   },
   {
    "duration": 2,
    "start_time": "2021-11-23T09:42:35.745Z"
   },
   {
    "duration": 389,
    "start_time": "2021-11-23T09:42:35.749Z"
   },
   {
    "duration": 62,
    "start_time": "2021-11-23T09:42:36.140Z"
   },
   {
    "duration": 28,
    "start_time": "2021-11-23T09:42:36.204Z"
   },
   {
    "duration": 8,
    "start_time": "2021-11-23T09:42:36.234Z"
   },
   {
    "duration": 106,
    "start_time": "2021-11-23T09:42:36.243Z"
   },
   {
    "duration": 73,
    "start_time": "2021-11-23T09:42:36.351Z"
   },
   {
    "duration": 23,
    "start_time": "2021-11-23T09:42:36.425Z"
   },
   {
    "duration": 8,
    "start_time": "2021-11-23T09:42:36.450Z"
   },
   {
    "duration": 58,
    "start_time": "2021-11-23T09:42:36.461Z"
   },
   {
    "duration": 69,
    "start_time": "2021-11-23T09:42:36.520Z"
   },
   {
    "duration": 18,
    "start_time": "2021-11-23T09:42:36.591Z"
   },
   {
    "duration": 32,
    "start_time": "2021-11-23T09:42:36.611Z"
   },
   {
    "duration": 64,
    "start_time": "2021-11-23T09:42:36.645Z"
   },
   {
    "duration": 27,
    "start_time": "2021-11-23T09:42:36.711Z"
   },
   {
    "duration": 15,
    "start_time": "2021-11-23T09:42:36.740Z"
   },
   {
    "duration": 30,
    "start_time": "2021-11-23T09:42:36.788Z"
   },
   {
    "duration": 19,
    "start_time": "2021-11-23T09:42:36.819Z"
   },
   {
    "duration": 7,
    "start_time": "2021-11-23T09:42:36.840Z"
   },
   {
    "duration": 57,
    "start_time": "2021-11-23T09:42:36.848Z"
   },
   {
    "duration": 10,
    "start_time": "2021-11-23T09:42:36.906Z"
   },
   {
    "duration": 27,
    "start_time": "2021-11-23T09:42:36.918Z"
   },
   {
    "duration": 462,
    "start_time": "2021-11-23T09:42:36.946Z"
   },
   {
    "duration": 310,
    "start_time": "2021-11-23T09:52:52.718Z"
   },
   {
    "duration": 2,
    "start_time": "2021-11-23T09:57:43.070Z"
   },
   {
    "duration": 374,
    "start_time": "2021-11-23T09:57:43.074Z"
   },
   {
    "duration": 66,
    "start_time": "2021-11-23T09:57:43.450Z"
   },
   {
    "duration": 28,
    "start_time": "2021-11-23T09:57:43.518Z"
   },
   {
    "duration": 10,
    "start_time": "2021-11-23T09:57:43.548Z"
   },
   {
    "duration": 67,
    "start_time": "2021-11-23T09:57:43.588Z"
   },
   {
    "duration": 79,
    "start_time": "2021-11-23T09:57:43.658Z"
   },
   {
    "duration": 22,
    "start_time": "2021-11-23T09:57:43.739Z"
   },
   {
    "duration": 32,
    "start_time": "2021-11-23T09:57:43.763Z"
   },
   {
    "duration": 38,
    "start_time": "2021-11-23T09:57:43.796Z"
   },
   {
    "duration": 60,
    "start_time": "2021-11-23T09:57:43.835Z"
   },
   {
    "duration": 19,
    "start_time": "2021-11-23T09:57:43.896Z"
   },
   {
    "duration": 38,
    "start_time": "2021-11-23T09:57:43.917Z"
   },
   {
    "duration": 54,
    "start_time": "2021-11-23T09:57:43.957Z"
   },
   {
    "duration": 26,
    "start_time": "2021-11-23T09:57:44.013Z"
   },
   {
    "duration": 14,
    "start_time": "2021-11-23T09:57:44.040Z"
   },
   {
    "duration": 55,
    "start_time": "2021-11-23T09:57:44.056Z"
   },
   {
    "duration": 19,
    "start_time": "2021-11-23T09:57:44.112Z"
   },
   {
    "duration": 8,
    "start_time": "2021-11-23T09:57:44.133Z"
   },
   {
    "duration": 47,
    "start_time": "2021-11-23T09:57:44.142Z"
   },
   {
    "duration": 10,
    "start_time": "2021-11-23T09:57:44.190Z"
   },
   {
    "duration": 24,
    "start_time": "2021-11-23T09:57:44.201Z"
   },
   {
    "duration": 296,
    "start_time": "2021-11-23T09:57:44.227Z"
   },
   {
    "duration": 14,
    "start_time": "2021-11-23T11:58:02.167Z"
   },
   {
    "duration": 2,
    "start_time": "2021-11-23T11:59:31.671Z"
   },
   {
    "duration": 360,
    "start_time": "2021-11-23T11:59:31.678Z"
   },
   {
    "duration": 62,
    "start_time": "2021-11-23T11:59:32.040Z"
   },
   {
    "duration": 28,
    "start_time": "2021-11-23T11:59:32.104Z"
   },
   {
    "duration": 8,
    "start_time": "2021-11-23T11:59:32.134Z"
   },
   {
    "duration": 26,
    "start_time": "2021-11-23T11:59:32.143Z"
   },
   {
    "duration": 79,
    "start_time": "2021-11-23T11:59:32.170Z"
   },
   {
    "duration": 72,
    "start_time": "2021-11-23T11:59:32.250Z"
   },
   {
    "duration": 21,
    "start_time": "2021-11-23T11:59:32.325Z"
   },
   {
    "duration": 13,
    "start_time": "2021-11-23T11:59:32.348Z"
   },
   {
    "duration": 61,
    "start_time": "2021-11-23T11:59:32.363Z"
   },
   {
    "duration": 40,
    "start_time": "2021-11-23T11:59:32.425Z"
   },
   {
    "duration": 38,
    "start_time": "2021-11-23T11:59:32.466Z"
   },
   {
    "duration": 34,
    "start_time": "2021-11-23T11:59:32.505Z"
   },
   {
    "duration": 59,
    "start_time": "2021-11-23T11:59:32.540Z"
   },
   {
    "duration": 28,
    "start_time": "2021-11-23T11:59:32.601Z"
   },
   {
    "duration": 31,
    "start_time": "2021-11-23T11:59:32.631Z"
   },
   {
    "duration": 48,
    "start_time": "2021-11-23T11:59:32.663Z"
   },
   {
    "duration": 18,
    "start_time": "2021-11-23T11:59:32.713Z"
   },
   {
    "duration": 8,
    "start_time": "2021-11-23T11:59:32.732Z"
   },
   {
    "duration": 45,
    "start_time": "2021-11-23T11:59:32.742Z"
   },
   {
    "duration": 10,
    "start_time": "2021-11-23T11:59:32.789Z"
   },
   {
    "duration": 23,
    "start_time": "2021-11-23T11:59:32.800Z"
   },
   {
    "duration": 287,
    "start_time": "2021-11-23T11:59:32.825Z"
   },
   {
    "duration": 240,
    "start_time": "2021-11-23T12:05:13.727Z"
   },
   {
    "duration": 304,
    "start_time": "2021-11-23T12:05:24.457Z"
   },
   {
    "duration": 20,
    "start_time": "2021-11-23T12:12:26.555Z"
   },
   {
    "duration": 21,
    "start_time": "2021-11-23T12:13:19.041Z"
   },
   {
    "duration": 20,
    "start_time": "2021-11-23T12:13:39.230Z"
   },
   {
    "duration": 19,
    "start_time": "2021-11-23T12:13:53.761Z"
   },
   {
    "duration": 117,
    "start_time": "2021-11-23T12:17:14.942Z"
   },
   {
    "duration": 120,
    "start_time": "2021-11-23T12:19:15.392Z"
   },
   {
    "duration": 115,
    "start_time": "2021-11-23T12:20:31.732Z"
   },
   {
    "duration": 116,
    "start_time": "2021-11-23T12:20:44.533Z"
   },
   {
    "duration": 119,
    "start_time": "2021-11-23T12:21:02.602Z"
   },
   {
    "duration": 118,
    "start_time": "2021-11-23T12:22:21.902Z"
   },
   {
    "duration": 6,
    "start_time": "2021-11-23T12:22:42.113Z"
   },
   {
    "duration": 116,
    "start_time": "2021-11-23T12:23:19.442Z"
   },
   {
    "duration": 114,
    "start_time": "2021-11-23T12:23:31.648Z"
   },
   {
    "duration": 6,
    "start_time": "2021-11-23T12:23:49.106Z"
   },
   {
    "duration": 6,
    "start_time": "2021-11-23T12:24:07.137Z"
   },
   {
    "duration": 2,
    "start_time": "2021-11-23T12:24:20.017Z"
   },
   {
    "duration": 12,
    "start_time": "2021-11-23T12:32:10.404Z"
   },
   {
    "duration": 8,
    "start_time": "2021-11-23T12:32:29.374Z"
   },
   {
    "duration": 113,
    "start_time": "2021-11-23T12:40:14.858Z"
   },
   {
    "duration": 108,
    "start_time": "2021-11-23T12:40:33.559Z"
   },
   {
    "duration": 163,
    "start_time": "2021-11-23T12:40:41.872Z"
   },
   {
    "duration": 114,
    "start_time": "2021-11-23T12:43:53.043Z"
   },
   {
    "duration": 4,
    "start_time": "2021-11-23T12:44:48.907Z"
   },
   {
    "duration": 5,
    "start_time": "2021-11-23T12:44:52.905Z"
   },
   {
    "duration": 113,
    "start_time": "2021-11-23T12:44:53.576Z"
   },
   {
    "duration": 116,
    "start_time": "2021-11-23T12:55:50.212Z"
   },
   {
    "duration": 111,
    "start_time": "2021-11-23T12:56:00.917Z"
   },
   {
    "duration": 109,
    "start_time": "2021-11-23T12:56:06.311Z"
   },
   {
    "duration": 109,
    "start_time": "2021-11-23T12:56:12.298Z"
   },
   {
    "duration": 5,
    "start_time": "2021-11-23T12:58:42.386Z"
   },
   {
    "duration": 112,
    "start_time": "2021-11-23T12:59:08.811Z"
   },
   {
    "duration": 112,
    "start_time": "2021-11-23T12:59:15.583Z"
   },
   {
    "duration": 110,
    "start_time": "2021-11-23T13:00:00.698Z"
   },
   {
    "duration": 120,
    "start_time": "2021-11-23T13:01:01.191Z"
   },
   {
    "duration": 4,
    "start_time": "2021-11-23T13:06:26.590Z"
   },
   {
    "duration": 154,
    "start_time": "2021-11-23T13:06:32.506Z"
   },
   {
    "duration": 106,
    "start_time": "2021-11-23T13:07:08.096Z"
   },
   {
    "duration": 110,
    "start_time": "2021-11-23T13:07:27.981Z"
   },
   {
    "duration": 5,
    "start_time": "2021-11-23T13:07:36.069Z"
   },
   {
    "duration": 108,
    "start_time": "2021-11-23T13:07:36.946Z"
   },
   {
    "duration": 2,
    "start_time": "2021-11-23T13:07:44.307Z"
   },
   {
    "duration": 365,
    "start_time": "2021-11-23T13:07:44.314Z"
   },
   {
    "duration": 61,
    "start_time": "2021-11-23T13:07:44.681Z"
   },
   {
    "duration": 45,
    "start_time": "2021-11-23T13:07:44.743Z"
   },
   {
    "duration": 7,
    "start_time": "2021-11-23T13:07:44.789Z"
   },
   {
    "duration": 34,
    "start_time": "2021-11-23T13:07:44.798Z"
   },
   {
    "duration": 69,
    "start_time": "2021-11-23T13:07:44.834Z"
   },
   {
    "duration": 53,
    "start_time": "2021-11-23T13:07:44.904Z"
   },
   {
    "duration": 39,
    "start_time": "2021-11-23T13:07:44.959Z"
   },
   {
    "duration": 8,
    "start_time": "2021-11-23T13:07:45.000Z"
   },
   {
    "duration": 59,
    "start_time": "2021-11-23T13:07:45.010Z"
   },
   {
    "duration": 47,
    "start_time": "2021-11-23T13:07:45.071Z"
   },
   {
    "duration": 18,
    "start_time": "2021-11-23T13:07:45.120Z"
   },
   {
    "duration": 49,
    "start_time": "2021-11-23T13:07:45.140Z"
   },
   {
    "duration": 35,
    "start_time": "2021-11-23T13:07:45.191Z"
   },
   {
    "duration": 61,
    "start_time": "2021-11-23T13:07:45.227Z"
   },
   {
    "duration": 15,
    "start_time": "2021-11-23T13:07:45.289Z"
   },
   {
    "duration": 43,
    "start_time": "2021-11-23T13:07:45.305Z"
   },
   {
    "duration": 19,
    "start_time": "2021-11-23T13:07:45.349Z"
   },
   {
    "duration": 22,
    "start_time": "2021-11-23T13:07:45.369Z"
   },
   {
    "duration": 24,
    "start_time": "2021-11-23T13:07:45.392Z"
   },
   {
    "duration": 9,
    "start_time": "2021-11-23T13:07:45.417Z"
   },
   {
    "duration": 30,
    "start_time": "2021-11-23T13:07:45.428Z"
   },
   {
    "duration": 296,
    "start_time": "2021-11-23T13:07:45.461Z"
   },
   {
    "duration": 17,
    "start_time": "2021-11-23T13:07:45.759Z"
   },
   {
    "duration": 128,
    "start_time": "2021-11-23T13:07:45.787Z"
   },
   {
    "duration": 5,
    "start_time": "2021-11-23T13:07:45.916Z"
   },
   {
    "duration": 129,
    "start_time": "2021-11-23T13:07:45.922Z"
   },
   {
    "duration": 117,
    "start_time": "2021-11-23T13:07:46.053Z"
   },
   {
    "duration": 19,
    "start_time": "2021-11-23T13:07:46.172Z"
   },
   {
    "duration": 173,
    "start_time": "2021-11-23T13:07:46.193Z"
   },
   {
    "duration": 5,
    "start_time": "2021-11-23T13:07:46.368Z"
   },
   {
    "duration": 127,
    "start_time": "2021-11-23T13:07:46.374Z"
   },
   {
    "duration": 21,
    "start_time": "2021-11-23T13:07:46.502Z"
   },
   {
    "duration": 118,
    "start_time": "2021-11-23T13:08:40.994Z"
   },
   {
    "duration": 3,
    "start_time": "2021-11-23T13:15:50.487Z"
   },
   {
    "duration": 369,
    "start_time": "2021-11-23T13:15:50.495Z"
   },
   {
    "duration": 67,
    "start_time": "2021-11-23T13:15:50.865Z"
   },
   {
    "duration": 28,
    "start_time": "2021-11-23T13:15:50.934Z"
   },
   {
    "duration": 29,
    "start_time": "2021-11-23T13:15:50.964Z"
   },
   {
    "duration": 13,
    "start_time": "2021-11-23T13:15:50.994Z"
   },
   {
    "duration": 80,
    "start_time": "2021-11-23T13:15:51.009Z"
   },
   {
    "duration": 55,
    "start_time": "2021-11-23T13:15:51.090Z"
   },
   {
    "duration": 40,
    "start_time": "2021-11-23T13:15:51.148Z"
   },
   {
    "duration": 8,
    "start_time": "2021-11-23T13:15:51.190Z"
   },
   {
    "duration": 49,
    "start_time": "2021-11-23T13:15:51.199Z"
   },
   {
    "duration": 44,
    "start_time": "2021-11-23T13:15:51.250Z"
   },
   {
    "duration": 18,
    "start_time": "2021-11-23T13:15:51.295Z"
   },
   {
    "duration": 29,
    "start_time": "2021-11-23T13:15:51.314Z"
   },
   {
    "duration": 65,
    "start_time": "2021-11-23T13:15:51.344Z"
   },
   {
    "duration": 24,
    "start_time": "2021-11-23T13:15:51.410Z"
   },
   {
    "duration": 14,
    "start_time": "2021-11-23T13:15:51.435Z"
   },
   {
    "duration": 59,
    "start_time": "2021-11-23T13:15:51.450Z"
   },
   {
    "duration": 18,
    "start_time": "2021-11-23T13:15:51.511Z"
   },
   {
    "duration": 7,
    "start_time": "2021-11-23T13:15:51.530Z"
   },
   {
    "duration": 19,
    "start_time": "2021-11-23T13:15:51.539Z"
   },
   {
    "duration": 37,
    "start_time": "2021-11-23T13:15:51.559Z"
   },
   {
    "duration": 23,
    "start_time": "2021-11-23T13:15:51.597Z"
   },
   {
    "duration": 301,
    "start_time": "2021-11-23T13:15:51.623Z"
   },
   {
    "duration": 21,
    "start_time": "2021-11-23T13:15:51.926Z"
   },
   {
    "duration": 145,
    "start_time": "2021-11-23T13:15:51.949Z"
   },
   {
    "duration": 5,
    "start_time": "2021-11-23T13:15:52.095Z"
   },
   {
    "duration": 127,
    "start_time": "2021-11-23T13:15:52.101Z"
   },
   {
    "duration": 126,
    "start_time": "2021-11-23T13:15:52.230Z"
   },
   {
    "duration": 5,
    "start_time": "2021-11-23T13:15:52.358Z"
   },
   {
    "duration": 136,
    "start_time": "2021-11-23T13:15:52.364Z"
   },
   {
    "duration": 2,
    "start_time": "2021-11-23T13:15:52.502Z"
   },
   {
    "duration": 29,
    "start_time": "2021-11-23T13:15:52.505Z"
   },
   {
    "duration": 40,
    "start_time": "2021-11-23T13:15:52.536Z"
   },
   {
    "duration": 5,
    "start_time": "2021-11-23T13:16:39.842Z"
   },
   {
    "duration": 159,
    "start_time": "2021-11-23T13:16:41.335Z"
   },
   {
    "duration": 120,
    "start_time": "2021-11-23T13:16:50.975Z"
   },
   {
    "duration": 134,
    "start_time": "2021-11-23T13:17:14.120Z"
   },
   {
    "duration": 1966,
    "start_time": "2021-11-23T13:19:04.799Z"
   },
   {
    "duration": 5,
    "start_time": "2021-11-23T13:21:42.518Z"
   },
   {
    "duration": 4,
    "start_time": "2021-11-23T13:24:13.979Z"
   },
   {
    "duration": 113,
    "start_time": "2021-11-23T13:24:15.450Z"
   },
   {
    "duration": 4,
    "start_time": "2021-11-23T13:24:33.848Z"
   },
   {
    "duration": 3334,
    "start_time": "2021-11-23T13:24:35.216Z"
   },
   {
    "duration": 3104,
    "start_time": "2021-11-23T13:24:52.653Z"
   },
   {
    "duration": 3143,
    "start_time": "2021-11-23T13:27:49.219Z"
   },
   {
    "duration": 2,
    "start_time": "2021-11-23T13:27:59.333Z"
   },
   {
    "duration": 363,
    "start_time": "2021-11-23T13:27:59.341Z"
   },
   {
    "duration": 59,
    "start_time": "2021-11-23T13:27:59.706Z"
   },
   {
    "duration": 34,
    "start_time": "2021-11-23T13:27:59.767Z"
   },
   {
    "duration": 7,
    "start_time": "2021-11-23T13:27:59.803Z"
   },
   {
    "duration": 12,
    "start_time": "2021-11-23T13:27:59.812Z"
   },
   {
    "duration": 77,
    "start_time": "2021-11-23T13:27:59.825Z"
   },
   {
    "duration": 54,
    "start_time": "2021-11-23T13:27:59.904Z"
   },
   {
    "duration": 48,
    "start_time": "2021-11-23T13:27:59.960Z"
   },
   {
    "duration": 21,
    "start_time": "2021-11-23T13:28:00.010Z"
   },
   {
    "duration": 66,
    "start_time": "2021-11-23T13:28:00.032Z"
   },
   {
    "duration": 39,
    "start_time": "2021-11-23T13:28:00.100Z"
   },
   {
    "duration": 18,
    "start_time": "2021-11-23T13:28:00.141Z"
   },
   {
    "duration": 55,
    "start_time": "2021-11-23T13:28:00.160Z"
   },
   {
    "duration": 34,
    "start_time": "2021-11-23T13:28:00.216Z"
   },
   {
    "duration": 55,
    "start_time": "2021-11-23T13:28:00.252Z"
   },
   {
    "duration": 16,
    "start_time": "2021-11-23T13:28:00.309Z"
   },
   {
    "duration": 57,
    "start_time": "2021-11-23T13:28:00.326Z"
   },
   {
    "duration": 19,
    "start_time": "2021-11-23T13:28:00.385Z"
   },
   {
    "duration": 8,
    "start_time": "2021-11-23T13:28:00.406Z"
   },
   {
    "duration": 26,
    "start_time": "2021-11-23T13:28:00.415Z"
   },
   {
    "duration": 13,
    "start_time": "2021-11-23T13:28:00.442Z"
   },
   {
    "duration": 52,
    "start_time": "2021-11-23T13:28:00.457Z"
   },
   {
    "duration": 287,
    "start_time": "2021-11-23T13:28:00.513Z"
   },
   {
    "duration": 20,
    "start_time": "2021-11-23T13:28:00.802Z"
   },
   {
    "duration": 145,
    "start_time": "2021-11-23T13:28:00.824Z"
   },
   {
    "duration": 20,
    "start_time": "2021-11-23T13:28:00.971Z"
   },
   {
    "duration": 131,
    "start_time": "2021-11-23T13:28:00.993Z"
   },
   {
    "duration": 123,
    "start_time": "2021-11-23T13:28:01.126Z"
   },
   {
    "duration": 4,
    "start_time": "2021-11-23T13:28:01.251Z"
   },
   {
    "duration": 175,
    "start_time": "2021-11-23T13:28:01.257Z"
   },
   {
    "duration": 2,
    "start_time": "2021-11-23T13:28:01.433Z"
   },
   {
    "duration": 25,
    "start_time": "2021-11-23T13:28:01.437Z"
   },
   {
    "duration": 23,
    "start_time": "2021-11-23T13:28:01.463Z"
   },
   {
    "duration": 3,
    "start_time": "2021-11-23T13:38:30.673Z"
   },
   {
    "duration": 365,
    "start_time": "2021-11-23T13:38:30.683Z"
   },
   {
    "duration": 63,
    "start_time": "2021-11-23T13:38:31.050Z"
   },
   {
    "duration": 29,
    "start_time": "2021-11-23T13:38:31.115Z"
   },
   {
    "duration": 8,
    "start_time": "2021-11-23T13:38:31.146Z"
   },
   {
    "duration": 38,
    "start_time": "2021-11-23T13:38:31.155Z"
   },
   {
    "duration": 65,
    "start_time": "2021-11-23T13:38:31.195Z"
   },
   {
    "duration": 74,
    "start_time": "2021-11-23T13:38:31.261Z"
   },
   {
    "duration": 21,
    "start_time": "2021-11-23T13:38:31.337Z"
   },
   {
    "duration": 34,
    "start_time": "2021-11-23T13:38:31.360Z"
   },
   {
    "duration": 40,
    "start_time": "2021-11-23T13:38:31.395Z"
   },
   {
    "duration": 67,
    "start_time": "2021-11-23T13:38:31.437Z"
   },
   {
    "duration": 20,
    "start_time": "2021-11-23T13:38:31.506Z"
   },
   {
    "duration": 34,
    "start_time": "2021-11-23T13:38:31.528Z"
   },
   {
    "duration": 59,
    "start_time": "2021-11-23T13:38:31.563Z"
   },
   {
    "duration": 64,
    "start_time": "2021-11-23T13:38:31.624Z"
   },
   {
    "duration": 17,
    "start_time": "2021-11-23T13:38:31.690Z"
   },
   {
    "duration": 35,
    "start_time": "2021-11-23T13:38:31.708Z"
   },
   {
    "duration": 18,
    "start_time": "2021-11-23T13:38:31.744Z"
   },
   {
    "duration": 31,
    "start_time": "2021-11-23T13:38:31.763Z"
   },
   {
    "duration": 21,
    "start_time": "2021-11-23T13:38:31.796Z"
   },
   {
    "duration": 12,
    "start_time": "2021-11-23T13:38:31.819Z"
   },
   {
    "duration": 62,
    "start_time": "2021-11-23T13:38:31.832Z"
   },
   {
    "duration": 279,
    "start_time": "2021-11-23T13:38:31.898Z"
   },
   {
    "duration": 25,
    "start_time": "2021-11-23T13:38:32.179Z"
   },
   {
    "duration": 138,
    "start_time": "2021-11-23T13:38:32.206Z"
   },
   {
    "duration": 6,
    "start_time": "2021-11-23T13:38:32.345Z"
   },
   {
    "duration": 136,
    "start_time": "2021-11-23T13:38:32.353Z"
   },
   {
    "duration": 120,
    "start_time": "2021-11-23T13:38:32.491Z"
   },
   {
    "duration": 4,
    "start_time": "2021-11-23T13:38:32.613Z"
   },
   {
    "duration": 122,
    "start_time": "2021-11-23T13:38:32.619Z"
   },
   {
    "duration": 2,
    "start_time": "2021-11-23T13:38:32.743Z"
   },
   {
    "duration": 9,
    "start_time": "2021-11-23T13:38:32.746Z"
   },
   {
    "duration": 20,
    "start_time": "2021-11-23T13:38:32.757Z"
   },
   {
    "duration": 5,
    "start_time": "2021-11-23T13:39:35.765Z"
   },
   {
    "duration": 120,
    "start_time": "2021-11-23T13:39:36.674Z"
   },
   {
    "duration": 127,
    "start_time": "2021-11-23T13:39:55.312Z"
   },
   {
    "duration": 5,
    "start_time": "2021-11-23T13:40:15.667Z"
   },
   {
    "duration": 163,
    "start_time": "2021-11-23T13:40:16.513Z"
   },
   {
    "duration": 116,
    "start_time": "2021-11-23T13:40:31.154Z"
   },
   {
    "duration": 3,
    "start_time": "2021-11-23T13:40:39.548Z"
   },
   {
    "duration": 362,
    "start_time": "2021-11-23T13:40:39.558Z"
   },
   {
    "duration": 62,
    "start_time": "2021-11-23T13:40:39.921Z"
   },
   {
    "duration": 29,
    "start_time": "2021-11-23T13:40:39.985Z"
   },
   {
    "duration": 8,
    "start_time": "2021-11-23T13:40:40.016Z"
   },
   {
    "duration": 13,
    "start_time": "2021-11-23T13:40:40.025Z"
   },
   {
    "duration": 86,
    "start_time": "2021-11-23T13:40:40.040Z"
   },
   {
    "duration": 75,
    "start_time": "2021-11-23T13:40:40.127Z"
   },
   {
    "duration": 23,
    "start_time": "2021-11-23T13:40:40.205Z"
   },
   {
    "duration": 8,
    "start_time": "2021-11-23T13:40:40.230Z"
   },
   {
    "duration": 67,
    "start_time": "2021-11-23T13:40:40.239Z"
   },
   {
    "duration": 38,
    "start_time": "2021-11-23T13:40:40.307Z"
   },
   {
    "duration": 17,
    "start_time": "2021-11-23T13:40:40.346Z"
   },
   {
    "duration": 51,
    "start_time": "2021-11-23T13:40:40.365Z"
   },
   {
    "duration": 41,
    "start_time": "2021-11-23T13:40:40.418Z"
   },
   {
    "duration": 53,
    "start_time": "2021-11-23T13:40:40.461Z"
   },
   {
    "duration": 17,
    "start_time": "2021-11-23T13:40:40.516Z"
   },
   {
    "duration": 72,
    "start_time": "2021-11-23T13:40:40.535Z"
   },
   {
    "duration": 21,
    "start_time": "2021-11-23T13:40:40.609Z"
   },
   {
    "duration": 9,
    "start_time": "2021-11-23T13:40:40.633Z"
   },
   {
    "duration": 45,
    "start_time": "2021-11-23T13:40:40.643Z"
   },
   {
    "duration": 12,
    "start_time": "2021-11-23T13:40:40.690Z"
   },
   {
    "duration": 23,
    "start_time": "2021-11-23T13:40:40.704Z"
   },
   {
    "duration": 298,
    "start_time": "2021-11-23T13:40:40.730Z"
   },
   {
    "duration": 20,
    "start_time": "2021-11-23T13:40:41.030Z"
   },
   {
    "duration": 148,
    "start_time": "2021-11-23T13:40:41.052Z"
   },
   {
    "duration": 4,
    "start_time": "2021-11-23T13:40:41.202Z"
   },
   {
    "duration": 131,
    "start_time": "2021-11-23T13:40:41.208Z"
   },
   {
    "duration": 121,
    "start_time": "2021-11-23T13:40:41.341Z"
   },
   {
    "duration": 5,
    "start_time": "2021-11-23T13:40:41.463Z"
   },
   {
    "duration": 128,
    "start_time": "2021-11-23T13:40:41.469Z"
   },
   {
    "duration": 2,
    "start_time": "2021-11-23T13:40:41.599Z"
   },
   {
    "duration": 6,
    "start_time": "2021-11-23T13:40:41.602Z"
   },
   {
    "duration": 21,
    "start_time": "2021-11-23T13:40:41.609Z"
   },
   {
    "duration": 5,
    "start_time": "2021-11-23T13:41:17.675Z"
   },
   {
    "duration": 115,
    "start_time": "2021-11-23T13:41:18.676Z"
   },
   {
    "duration": 3,
    "start_time": "2021-11-23T13:41:22.550Z"
   },
   {
    "duration": 366,
    "start_time": "2021-11-23T13:41:22.562Z"
   },
   {
    "duration": 60,
    "start_time": "2021-11-23T13:41:22.930Z"
   },
   {
    "duration": 27,
    "start_time": "2021-11-23T13:41:22.992Z"
   },
   {
    "duration": 8,
    "start_time": "2021-11-23T13:41:23.021Z"
   },
   {
    "duration": 14,
    "start_time": "2021-11-23T13:41:23.030Z"
   },
   {
    "duration": 145,
    "start_time": "2021-11-23T13:41:23.045Z"
   },
   {
    "duration": 59,
    "start_time": "2021-11-23T13:41:23.192Z"
   },
   {
    "duration": 45,
    "start_time": "2021-11-23T13:41:23.253Z"
   },
   {
    "duration": 8,
    "start_time": "2021-11-23T13:41:23.300Z"
   },
   {
    "duration": 37,
    "start_time": "2021-11-23T13:41:23.309Z"
   },
   {
    "duration": 66,
    "start_time": "2021-11-23T13:41:23.347Z"
   },
   {
    "duration": 18,
    "start_time": "2021-11-23T13:41:23.414Z"
   },
   {
    "duration": 31,
    "start_time": "2021-11-23T13:41:23.433Z"
   },
   {
    "duration": 53,
    "start_time": "2021-11-23T13:41:23.465Z"
   },
   {
    "duration": 28,
    "start_time": "2021-11-23T13:41:23.519Z"
   },
   {
    "duration": 50,
    "start_time": "2021-11-23T13:41:23.548Z"
   },
   {
    "duration": 33,
    "start_time": "2021-11-23T13:41:23.600Z"
   },
   {
    "duration": 20,
    "start_time": "2021-11-23T13:41:23.634Z"
   },
   {
    "duration": 35,
    "start_time": "2021-11-23T13:41:23.656Z"
   },
   {
    "duration": 34,
    "start_time": "2021-11-23T13:41:23.693Z"
   },
   {
    "duration": 12,
    "start_time": "2021-11-23T13:41:23.729Z"
   },
   {
    "duration": 26,
    "start_time": "2021-11-23T13:41:23.742Z"
   },
   {
    "duration": 269,
    "start_time": "2021-11-23T13:41:23.788Z"
   },
   {
    "duration": 33,
    "start_time": "2021-11-23T13:41:24.059Z"
   },
   {
    "duration": 131,
    "start_time": "2021-11-23T13:41:24.094Z"
   },
   {
    "duration": 5,
    "start_time": "2021-11-23T13:41:24.227Z"
   },
   {
    "duration": 138,
    "start_time": "2021-11-23T13:41:24.233Z"
   },
   {
    "duration": 120,
    "start_time": "2021-11-23T13:41:24.372Z"
   },
   {
    "duration": 5,
    "start_time": "2021-11-23T13:41:24.494Z"
   },
   {
    "duration": 125,
    "start_time": "2021-11-23T13:41:24.501Z"
   },
   {
    "duration": 2,
    "start_time": "2021-11-23T13:41:24.628Z"
   },
   {
    "duration": 11,
    "start_time": "2021-11-23T13:41:24.631Z"
   },
   {
    "duration": 24,
    "start_time": "2021-11-23T13:41:24.643Z"
   },
   {
    "duration": 2,
    "start_time": "2021-11-23T13:41:56.853Z"
   },
   {
    "duration": 358,
    "start_time": "2021-11-23T13:41:56.863Z"
   },
   {
    "duration": 61,
    "start_time": "2021-11-23T13:41:57.223Z"
   },
   {
    "duration": 27,
    "start_time": "2021-11-23T13:41:57.286Z"
   },
   {
    "duration": 8,
    "start_time": "2021-11-23T13:41:57.315Z"
   },
   {
    "duration": 13,
    "start_time": "2021-11-23T13:41:57.324Z"
   },
   {
    "duration": 73,
    "start_time": "2021-11-23T13:41:57.339Z"
   },
   {
    "duration": 75,
    "start_time": "2021-11-23T13:41:57.414Z"
   },
   {
    "duration": 21,
    "start_time": "2021-11-23T13:41:57.492Z"
   },
   {
    "duration": 8,
    "start_time": "2021-11-23T13:41:57.515Z"
   },
   {
    "duration": 64,
    "start_time": "2021-11-23T13:41:57.525Z"
   },
   {
    "duration": 38,
    "start_time": "2021-11-23T13:41:57.590Z"
   },
   {
    "duration": 17,
    "start_time": "2021-11-23T13:41:57.629Z"
   },
   {
    "duration": 57,
    "start_time": "2021-11-23T13:41:57.648Z"
   },
   {
    "duration": 32,
    "start_time": "2021-11-23T13:41:57.707Z"
   },
   {
    "duration": 54,
    "start_time": "2021-11-23T13:41:57.741Z"
   },
   {
    "duration": 16,
    "start_time": "2021-11-23T13:41:57.797Z"
   },
   {
    "duration": 90,
    "start_time": "2021-11-23T13:41:57.814Z"
   },
   {
    "duration": 18,
    "start_time": "2021-11-23T13:41:57.905Z"
   },
   {
    "duration": 30,
    "start_time": "2021-11-23T13:41:57.924Z"
   },
   {
    "duration": 24,
    "start_time": "2021-11-23T13:41:57.955Z"
   },
   {
    "duration": 9,
    "start_time": "2021-11-23T13:41:57.980Z"
   },
   {
    "duration": 23,
    "start_time": "2021-11-23T13:41:57.991Z"
   },
   {
    "duration": 291,
    "start_time": "2021-11-23T13:41:58.018Z"
   },
   {
    "duration": 19,
    "start_time": "2021-11-23T13:41:58.311Z"
   },
   {
    "duration": 143,
    "start_time": "2021-11-23T13:41:58.331Z"
   },
   {
    "duration": 5,
    "start_time": "2021-11-23T13:41:58.475Z"
   },
   {
    "duration": 121,
    "start_time": "2021-11-23T13:41:58.488Z"
   },
   {
    "duration": 121,
    "start_time": "2021-11-23T13:41:58.611Z"
   },
   {
    "duration": 4,
    "start_time": "2021-11-23T13:41:58.734Z"
   },
   {
    "duration": 120,
    "start_time": "2021-11-23T13:41:58.739Z"
   },
   {
    "duration": 2,
    "start_time": "2021-11-23T13:41:58.861Z"
   },
   {
    "duration": 6,
    "start_time": "2021-11-23T13:41:58.864Z"
   },
   {
    "duration": 31,
    "start_time": "2021-11-23T13:41:58.872Z"
   },
   {
    "duration": 2,
    "start_time": "2021-11-23T13:47:33.718Z"
   },
   {
    "duration": 350,
    "start_time": "2021-11-23T13:47:33.728Z"
   },
   {
    "duration": 66,
    "start_time": "2021-11-23T13:47:34.080Z"
   },
   {
    "duration": 50,
    "start_time": "2021-11-23T13:47:34.148Z"
   },
   {
    "duration": 9,
    "start_time": "2021-11-23T13:47:34.200Z"
   },
   {
    "duration": 14,
    "start_time": "2021-11-23T13:47:34.211Z"
   },
   {
    "duration": 96,
    "start_time": "2021-11-23T13:47:34.226Z"
   },
   {
    "duration": 72,
    "start_time": "2021-11-23T13:47:34.324Z"
   },
   {
    "duration": 20,
    "start_time": "2021-11-23T13:47:34.398Z"
   },
   {
    "duration": 9,
    "start_time": "2021-11-23T13:47:34.419Z"
   },
   {
    "duration": 75,
    "start_time": "2021-11-23T13:47:34.429Z"
   },
   {
    "duration": 55,
    "start_time": "2021-11-23T13:47:34.506Z"
   },
   {
    "duration": 46,
    "start_time": "2021-11-23T13:47:34.563Z"
   },
   {
    "duration": 38,
    "start_time": "2021-11-23T13:47:34.611Z"
   },
   {
    "duration": 58,
    "start_time": "2021-11-23T13:47:34.650Z"
   },
   {
    "duration": 28,
    "start_time": "2021-11-23T13:47:34.710Z"
   },
   {
    "duration": 48,
    "start_time": "2021-11-23T13:47:34.740Z"
   },
   {
    "duration": 40,
    "start_time": "2021-11-23T13:47:34.790Z"
   },
   {
    "duration": 25,
    "start_time": "2021-11-23T13:47:34.832Z"
   },
   {
    "duration": 34,
    "start_time": "2021-11-23T13:47:34.859Z"
   },
   {
    "duration": 23,
    "start_time": "2021-11-23T13:47:34.895Z"
   },
   {
    "duration": 9,
    "start_time": "2021-11-23T13:47:34.919Z"
   },
   {
    "duration": 22,
    "start_time": "2021-11-23T13:47:34.930Z"
   },
   {
    "duration": 426,
    "start_time": "2021-11-23T13:47:34.955Z"
   },
   {
    "duration": 19,
    "start_time": "2021-11-23T13:47:35.383Z"
   },
   {
    "duration": 136,
    "start_time": "2021-11-23T13:47:35.404Z"
   },
   {
    "duration": 5,
    "start_time": "2021-11-23T13:47:35.542Z"
   },
   {
    "duration": 140,
    "start_time": "2021-11-23T13:47:35.548Z"
   },
   {
    "duration": 161,
    "start_time": "2021-11-23T13:47:35.689Z"
   },
   {
    "duration": 4,
    "start_time": "2021-11-23T13:47:35.852Z"
   },
   {
    "duration": 118,
    "start_time": "2021-11-23T13:47:35.858Z"
   },
   {
    "duration": 2,
    "start_time": "2021-11-23T13:47:35.977Z"
   },
   {
    "duration": 2,
    "start_time": "2021-11-23T13:47:35.988Z"
   },
   {
    "duration": 25,
    "start_time": "2021-11-23T13:47:35.991Z"
   },
   {
    "duration": 8,
    "start_time": "2021-11-23T13:50:04.766Z"
   },
   {
    "duration": 110,
    "start_time": "2021-11-23T13:50:05.608Z"
   },
   {
    "duration": 114,
    "start_time": "2021-11-23T13:50:14.326Z"
   },
   {
    "duration": 2,
    "start_time": "2021-11-23T13:51:35.026Z"
   },
   {
    "duration": 365,
    "start_time": "2021-11-23T13:51:35.037Z"
   },
   {
    "duration": 66,
    "start_time": "2021-11-23T13:51:36.160Z"
   },
   {
    "duration": 29,
    "start_time": "2021-11-23T13:51:36.228Z"
   },
   {
    "duration": 33,
    "start_time": "2021-11-23T13:51:36.259Z"
   },
   {
    "duration": 13,
    "start_time": "2021-11-23T13:51:36.294Z"
   },
   {
    "duration": 81,
    "start_time": "2021-11-23T13:51:36.308Z"
   },
   {
    "duration": 58,
    "start_time": "2021-11-23T13:51:36.390Z"
   },
   {
    "duration": 46,
    "start_time": "2021-11-23T13:51:36.450Z"
   },
   {
    "duration": 9,
    "start_time": "2021-11-23T13:51:36.497Z"
   },
   {
    "duration": 40,
    "start_time": "2021-11-23T13:51:36.508Z"
   },
   {
    "duration": 60,
    "start_time": "2021-11-23T13:51:36.550Z"
   },
   {
    "duration": 18,
    "start_time": "2021-11-23T13:51:36.612Z"
   },
   {
    "duration": 30,
    "start_time": "2021-11-23T13:51:36.631Z"
   },
   {
    "duration": 34,
    "start_time": "2021-11-23T13:51:36.688Z"
   },
   {
    "duration": 27,
    "start_time": "2021-11-23T13:51:36.724Z"
   },
   {
    "duration": 50,
    "start_time": "2021-11-23T13:51:36.752Z"
   },
   {
    "duration": 30,
    "start_time": "2021-11-23T13:51:36.804Z"
   },
   {
    "duration": 53,
    "start_time": "2021-11-23T13:51:36.836Z"
   },
   {
    "duration": 7,
    "start_time": "2021-11-23T13:51:36.890Z"
   },
   {
    "duration": 22,
    "start_time": "2021-11-23T13:51:36.898Z"
   },
   {
    "duration": 10,
    "start_time": "2021-11-23T13:51:36.921Z"
   },
   {
    "duration": 23,
    "start_time": "2021-11-23T13:51:36.932Z"
   },
   {
    "duration": 304,
    "start_time": "2021-11-23T13:51:36.956Z"
   },
   {
    "duration": 28,
    "start_time": "2021-11-23T13:51:37.261Z"
   },
   {
    "duration": 127,
    "start_time": "2021-11-23T13:51:37.290Z"
   },
   {
    "duration": 5,
    "start_time": "2021-11-23T13:51:37.419Z"
   },
   {
    "duration": 133,
    "start_time": "2021-11-23T13:51:37.426Z"
   },
   {
    "duration": 115,
    "start_time": "2021-11-23T13:51:37.562Z"
   },
   {
    "duration": 5,
    "start_time": "2021-11-23T13:51:37.687Z"
   },
   {
    "duration": 181,
    "start_time": "2021-11-23T13:51:37.693Z"
   },
   {
    "duration": 25,
    "start_time": "2021-11-23T13:51:37.875Z"
   },
   {
    "duration": 108,
    "start_time": "2021-11-23T13:54:46.691Z"
   },
   {
    "duration": 106,
    "start_time": "2021-11-23T13:55:19.358Z"
   },
   {
    "duration": 127,
    "start_time": "2021-11-23T13:55:30.392Z"
   },
   {
    "duration": 118,
    "start_time": "2021-11-23T13:55:37.689Z"
   },
   {
    "duration": 121,
    "start_time": "2021-11-23T13:55:45.594Z"
   },
   {
    "duration": 110,
    "start_time": "2021-11-23T13:55:58.539Z"
   },
   {
    "duration": 114,
    "start_time": "2021-11-23T13:56:05.879Z"
   },
   {
    "duration": 6,
    "start_time": "2021-11-23T13:57:34.463Z"
   },
   {
    "duration": 107,
    "start_time": "2021-11-23T13:57:36.208Z"
   },
   {
    "duration": 3,
    "start_time": "2021-11-23T13:58:30.535Z"
   },
   {
    "duration": 376,
    "start_time": "2021-11-23T13:58:30.540Z"
   },
   {
    "duration": 59,
    "start_time": "2021-11-23T13:58:30.918Z"
   },
   {
    "duration": 26,
    "start_time": "2021-11-23T13:58:30.979Z"
   },
   {
    "duration": 11,
    "start_time": "2021-11-23T13:58:31.007Z"
   },
   {
    "duration": 16,
    "start_time": "2021-11-23T13:58:31.020Z"
   },
   {
    "duration": 80,
    "start_time": "2021-11-23T13:58:31.038Z"
   },
   {
    "duration": 72,
    "start_time": "2021-11-23T13:58:31.120Z"
   },
   {
    "duration": 21,
    "start_time": "2021-11-23T13:58:31.194Z"
   },
   {
    "duration": 9,
    "start_time": "2021-11-23T13:58:31.216Z"
   },
   {
    "duration": 62,
    "start_time": "2021-11-23T13:58:31.226Z"
   },
   {
    "duration": 38,
    "start_time": "2021-11-23T13:58:31.290Z"
   },
   {
    "duration": 17,
    "start_time": "2021-11-23T13:58:31.330Z"
   },
   {
    "duration": 58,
    "start_time": "2021-11-23T13:58:31.349Z"
   },
   {
    "duration": 33,
    "start_time": "2021-11-23T13:58:31.409Z"
   },
   {
    "duration": 51,
    "start_time": "2021-11-23T13:58:31.444Z"
   },
   {
    "duration": 16,
    "start_time": "2021-11-23T13:58:31.496Z"
   },
   {
    "duration": 109,
    "start_time": "2021-11-23T13:58:31.513Z"
   },
   {
    "duration": 19,
    "start_time": "2021-11-23T13:58:31.625Z"
   },
   {
    "duration": 8,
    "start_time": "2021-11-23T13:58:31.645Z"
   },
   {
    "duration": 46,
    "start_time": "2021-11-23T13:58:31.654Z"
   },
   {
    "duration": 13,
    "start_time": "2021-11-23T13:58:31.701Z"
   },
   {
    "duration": 24,
    "start_time": "2021-11-23T13:58:31.715Z"
   },
   {
    "duration": 297,
    "start_time": "2021-11-23T13:58:31.741Z"
   },
   {
    "duration": 22,
    "start_time": "2021-11-23T13:58:32.039Z"
   },
   {
    "duration": 140,
    "start_time": "2021-11-23T13:58:32.063Z"
   },
   {
    "duration": 4,
    "start_time": "2021-11-23T13:58:32.205Z"
   },
   {
    "duration": 127,
    "start_time": "2021-11-23T13:58:32.211Z"
   },
   {
    "duration": 115,
    "start_time": "2021-11-23T13:58:32.339Z"
   },
   {
    "duration": 5,
    "start_time": "2021-11-23T13:58:32.456Z"
   },
   {
    "duration": 134,
    "start_time": "2021-11-23T13:58:32.462Z"
   },
   {
    "duration": 118,
    "start_time": "2021-11-23T13:58:32.598Z"
   },
   {
    "duration": 6,
    "start_time": "2021-11-23T13:58:32.717Z"
   },
   {
    "duration": 129,
    "start_time": "2021-11-23T13:58:32.724Z"
   },
   {
    "duration": 19,
    "start_time": "2021-11-23T13:58:32.854Z"
   },
   {
    "duration": 119,
    "start_time": "2021-11-23T15:47:08.658Z"
   },
   {
    "duration": 119,
    "start_time": "2021-11-23T15:48:53.396Z"
   },
   {
    "duration": 120,
    "start_time": "2021-11-23T15:49:57.468Z"
   },
   {
    "duration": 116,
    "start_time": "2021-11-23T15:50:07.826Z"
   },
   {
    "duration": 6,
    "start_time": "2021-11-23T15:50:34.685Z"
   },
   {
    "duration": 215,
    "start_time": "2021-11-23T15:51:08.824Z"
   },
   {
    "duration": 112,
    "start_time": "2021-11-23T15:53:13.031Z"
   },
   {
    "duration": 175,
    "start_time": "2021-11-23T15:53:27.210Z"
   },
   {
    "duration": 130,
    "start_time": "2021-11-23T15:53:34.874Z"
   },
   {
    "duration": 116,
    "start_time": "2021-11-23T15:53:44.629Z"
   },
   {
    "duration": 5,
    "start_time": "2021-11-23T15:54:48.081Z"
   },
   {
    "duration": 128,
    "start_time": "2021-11-23T15:55:07.641Z"
   },
   {
    "duration": 117,
    "start_time": "2021-11-23T15:56:11.993Z"
   },
   {
    "duration": 2,
    "start_time": "2021-11-23T15:57:28.549Z"
   },
   {
    "duration": 371,
    "start_time": "2021-11-23T15:57:28.556Z"
   },
   {
    "duration": 60,
    "start_time": "2021-11-23T15:57:28.929Z"
   },
   {
    "duration": 29,
    "start_time": "2021-11-23T15:57:28.991Z"
   },
   {
    "duration": 8,
    "start_time": "2021-11-23T15:57:29.022Z"
   },
   {
    "duration": 18,
    "start_time": "2021-11-23T15:57:29.031Z"
   },
   {
    "duration": 89,
    "start_time": "2021-11-23T15:57:29.050Z"
   },
   {
    "duration": 85,
    "start_time": "2021-11-23T15:57:29.141Z"
   },
   {
    "duration": 28,
    "start_time": "2021-11-23T15:57:29.229Z"
   },
   {
    "duration": 33,
    "start_time": "2021-11-23T15:57:29.259Z"
   },
   {
    "duration": 38,
    "start_time": "2021-11-23T15:57:29.294Z"
   },
   {
    "duration": 65,
    "start_time": "2021-11-23T15:57:29.334Z"
   },
   {
    "duration": 17,
    "start_time": "2021-11-23T15:57:29.400Z"
   },
   {
    "duration": 30,
    "start_time": "2021-11-23T15:57:29.419Z"
   },
   {
    "duration": 68,
    "start_time": "2021-11-23T15:57:29.451Z"
   },
   {
    "duration": 26,
    "start_time": "2021-11-23T15:57:29.521Z"
   },
   {
    "duration": 53,
    "start_time": "2021-11-23T15:57:29.548Z"
   },
   {
    "duration": 33,
    "start_time": "2021-11-23T15:57:29.603Z"
   },
   {
    "duration": 56,
    "start_time": "2021-11-23T15:57:29.637Z"
   },
   {
    "duration": 8,
    "start_time": "2021-11-23T15:57:29.695Z"
   },
   {
    "duration": 23,
    "start_time": "2021-11-23T15:57:29.704Z"
   },
   {
    "duration": 9,
    "start_time": "2021-11-23T15:57:29.729Z"
   },
   {
    "duration": 62,
    "start_time": "2021-11-23T15:57:29.739Z"
   },
   {
    "duration": 388,
    "start_time": "2021-11-23T15:57:29.804Z"
   },
   {
    "duration": 19,
    "start_time": "2021-11-23T15:57:30.193Z"
   },
   {
    "duration": 147,
    "start_time": "2021-11-23T15:57:30.213Z"
   },
   {
    "duration": 5,
    "start_time": "2021-11-23T15:57:30.362Z"
   },
   {
    "duration": 138,
    "start_time": "2021-11-23T15:57:30.368Z"
   },
   {
    "duration": 125,
    "start_time": "2021-11-23T15:57:30.508Z"
   },
   {
    "duration": 6,
    "start_time": "2021-11-23T15:57:30.635Z"
   },
   {
    "duration": 158,
    "start_time": "2021-11-23T15:57:30.644Z"
   },
   {
    "duration": 130,
    "start_time": "2021-11-23T15:57:30.803Z"
   },
   {
    "duration": 6,
    "start_time": "2021-11-23T15:57:30.934Z"
   },
   {
    "duration": 137,
    "start_time": "2021-11-23T15:57:30.942Z"
   },
   {
    "duration": 29,
    "start_time": "2021-11-23T15:57:31.081Z"
   },
   {
    "duration": 146,
    "start_time": "2021-11-23T15:57:31.112Z"
   },
   {
    "duration": 6,
    "start_time": "2021-11-23T15:57:31.259Z"
   },
   {
    "duration": 140,
    "start_time": "2021-11-23T15:57:31.266Z"
   },
   {
    "duration": 132,
    "start_time": "2021-11-23T15:57:31.408Z"
   },
   {
    "duration": 6,
    "start_time": "2021-11-23T15:57:31.542Z"
   },
   {
    "duration": 132,
    "start_time": "2021-11-23T15:57:31.549Z"
   },
   {
    "duration": 150,
    "start_time": "2021-11-23T15:57:31.682Z"
   },
   {
    "duration": 195,
    "start_time": "2021-11-23T15:59:04.759Z"
   },
   {
    "duration": 6,
    "start_time": "2021-11-23T15:59:31.747Z"
   },
   {
    "duration": 180,
    "start_time": "2021-11-23T15:59:43.295Z"
   },
   {
    "duration": 120,
    "start_time": "2021-11-23T16:00:12.921Z"
   },
   {
    "duration": 121,
    "start_time": "2021-11-23T16:01:05.693Z"
   },
   {
    "duration": 119,
    "start_time": "2021-11-23T16:01:14.645Z"
   },
   {
    "duration": 127,
    "start_time": "2021-11-23T16:01:20.970Z"
   },
   {
    "duration": 120,
    "start_time": "2021-11-23T16:01:28.007Z"
   },
   {
    "duration": 124,
    "start_time": "2021-11-23T16:01:36.377Z"
   },
   {
    "duration": 6,
    "start_time": "2021-11-23T16:01:42.134Z"
   },
   {
    "duration": 120,
    "start_time": "2021-11-23T16:01:51.640Z"
   },
   {
    "duration": 2,
    "start_time": "2021-11-23T16:02:16.524Z"
   },
   {
    "duration": 372,
    "start_time": "2021-11-23T16:02:16.528Z"
   },
   {
    "duration": 60,
    "start_time": "2021-11-23T16:02:16.901Z"
   },
   {
    "duration": 40,
    "start_time": "2021-11-23T16:02:16.962Z"
   },
   {
    "duration": 8,
    "start_time": "2021-11-23T16:02:17.003Z"
   },
   {
    "duration": 14,
    "start_time": "2021-11-23T16:02:17.012Z"
   },
   {
    "duration": 94,
    "start_time": "2021-11-23T16:02:17.028Z"
   },
   {
    "duration": 66,
    "start_time": "2021-11-23T16:02:17.125Z"
   },
   {
    "duration": 21,
    "start_time": "2021-11-23T16:02:17.192Z"
   },
   {
    "duration": 7,
    "start_time": "2021-11-23T16:02:17.215Z"
   },
   {
    "duration": 67,
    "start_time": "2021-11-23T16:02:17.224Z"
   },
   {
    "duration": 39,
    "start_time": "2021-11-23T16:02:17.293Z"
   },
   {
    "duration": 18,
    "start_time": "2021-11-23T16:02:17.333Z"
   },
   {
    "duration": 62,
    "start_time": "2021-11-23T16:02:17.352Z"
   },
   {
    "duration": 33,
    "start_time": "2021-11-23T16:02:17.415Z"
   },
   {
    "duration": 56,
    "start_time": "2021-11-23T16:02:17.450Z"
   },
   {
    "duration": 15,
    "start_time": "2021-11-23T16:02:17.508Z"
   },
   {
    "duration": 121,
    "start_time": "2021-11-23T16:02:17.525Z"
   },
   {
    "duration": 23,
    "start_time": "2021-11-23T16:02:17.649Z"
   },
   {
    "duration": 8,
    "start_time": "2021-11-23T16:02:17.688Z"
   },
   {
    "duration": 26,
    "start_time": "2021-11-23T16:02:17.697Z"
   },
   {
    "duration": 10,
    "start_time": "2021-11-23T16:02:17.724Z"
   },
   {
    "duration": 55,
    "start_time": "2021-11-23T16:02:17.735Z"
   },
   {
    "duration": 287,
    "start_time": "2021-11-23T16:02:17.792Z"
   },
   {
    "duration": 21,
    "start_time": "2021-11-23T16:02:18.081Z"
   },
   {
    "duration": 142,
    "start_time": "2021-11-23T16:02:18.103Z"
   },
   {
    "duration": 5,
    "start_time": "2021-11-23T16:02:18.247Z"
   },
   {
    "duration": 137,
    "start_time": "2021-11-23T16:02:18.253Z"
   },
   {
    "duration": 124,
    "start_time": "2021-11-23T16:02:18.392Z"
   },
   {
    "duration": 6,
    "start_time": "2021-11-23T16:02:18.517Z"
   },
   {
    "duration": 135,
    "start_time": "2021-11-23T16:02:18.524Z"
   },
   {
    "duration": 118,
    "start_time": "2021-11-23T16:02:18.661Z"
   },
   {
    "duration": 10,
    "start_time": "2021-11-23T16:02:18.780Z"
   },
   {
    "duration": 130,
    "start_time": "2021-11-23T16:02:18.791Z"
   },
   {
    "duration": 20,
    "start_time": "2021-11-23T16:02:18.922Z"
   },
   {
    "duration": 129,
    "start_time": "2021-11-23T16:02:18.943Z"
   },
   {
    "duration": 16,
    "start_time": "2021-11-23T16:02:19.074Z"
   },
   {
    "duration": 126,
    "start_time": "2021-11-23T16:02:19.092Z"
   },
   {
    "duration": 133,
    "start_time": "2021-11-23T16:02:19.219Z"
   },
   {
    "duration": 5,
    "start_time": "2021-11-23T16:02:19.354Z"
   },
   {
    "duration": 129,
    "start_time": "2021-11-23T16:02:19.360Z"
   },
   {
    "duration": 178,
    "start_time": "2021-11-23T16:02:19.490Z"
   },
   {
    "duration": 5,
    "start_time": "2021-11-23T16:02:19.669Z"
   },
   {
    "duration": 137,
    "start_time": "2021-11-23T16:02:19.675Z"
   },
   {
    "duration": 118,
    "start_time": "2021-11-23T16:03:23.312Z"
   },
   {
    "duration": 2,
    "start_time": "2021-11-23T16:03:44.376Z"
   },
   {
    "duration": 364,
    "start_time": "2021-11-23T16:03:44.383Z"
   },
   {
    "duration": 61,
    "start_time": "2021-11-23T16:03:44.749Z"
   },
   {
    "duration": 27,
    "start_time": "2021-11-23T16:03:44.812Z"
   },
   {
    "duration": 8,
    "start_time": "2021-11-23T16:03:44.841Z"
   },
   {
    "duration": 46,
    "start_time": "2021-11-23T16:03:44.850Z"
   },
   {
    "duration": 63,
    "start_time": "2021-11-23T16:03:44.897Z"
   },
   {
    "duration": 73,
    "start_time": "2021-11-23T16:03:44.961Z"
   },
   {
    "duration": 23,
    "start_time": "2021-11-23T16:03:45.036Z"
   },
   {
    "duration": 28,
    "start_time": "2021-11-23T16:03:45.060Z"
   },
   {
    "duration": 37,
    "start_time": "2021-11-23T16:03:45.090Z"
   },
   {
    "duration": 70,
    "start_time": "2021-11-23T16:03:45.129Z"
   },
   {
    "duration": 17,
    "start_time": "2021-11-23T16:03:45.201Z"
   },
   {
    "duration": 30,
    "start_time": "2021-11-23T16:03:45.219Z"
   },
   {
    "duration": 60,
    "start_time": "2021-11-23T16:03:45.250Z"
   },
   {
    "duration": 25,
    "start_time": "2021-11-23T16:03:45.312Z"
   },
   {
    "duration": 49,
    "start_time": "2021-11-23T16:03:45.338Z"
   },
   {
    "duration": 28,
    "start_time": "2021-11-23T16:03:45.389Z"
   },
   {
    "duration": 18,
    "start_time": "2021-11-23T16:03:45.419Z"
   },
   {
    "duration": 7,
    "start_time": "2021-11-23T16:03:45.439Z"
   },
   {
    "duration": 57,
    "start_time": "2021-11-23T16:03:45.447Z"
   },
   {
    "duration": 10,
    "start_time": "2021-11-23T16:03:45.505Z"
   },
   {
    "duration": 25,
    "start_time": "2021-11-23T16:03:45.516Z"
   },
   {
    "duration": 298,
    "start_time": "2021-11-23T16:03:45.545Z"
   },
   {
    "duration": 17,
    "start_time": "2021-11-23T16:03:45.846Z"
   },
   {
    "duration": 143,
    "start_time": "2021-11-23T16:03:45.864Z"
   },
   {
    "duration": 5,
    "start_time": "2021-11-23T16:03:46.008Z"
   },
   {
    "duration": 137,
    "start_time": "2021-11-23T16:03:46.015Z"
   },
   {
    "duration": 115,
    "start_time": "2021-11-23T16:03:46.153Z"
   },
   {
    "duration": 19,
    "start_time": "2021-11-23T16:03:46.269Z"
   },
   {
    "duration": 121,
    "start_time": "2021-11-23T16:03:46.289Z"
   },
   {
    "duration": 178,
    "start_time": "2021-11-23T16:03:46.412Z"
   },
   {
    "duration": 5,
    "start_time": "2021-11-23T16:03:46.591Z"
   },
   {
    "duration": 129,
    "start_time": "2021-11-23T16:03:46.597Z"
   },
   {
    "duration": 19,
    "start_time": "2021-11-23T16:03:46.727Z"
   },
   {
    "duration": 132,
    "start_time": "2021-11-23T16:03:46.747Z"
   },
   {
    "duration": 11,
    "start_time": "2021-11-23T16:03:46.881Z"
   },
   {
    "duration": 127,
    "start_time": "2021-11-23T16:03:46.893Z"
   },
   {
    "duration": 129,
    "start_time": "2021-11-23T16:03:47.021Z"
   },
   {
    "duration": 5,
    "start_time": "2021-11-23T16:03:47.152Z"
   },
   {
    "duration": 129,
    "start_time": "2021-11-23T16:03:47.158Z"
   },
   {
    "duration": 127,
    "start_time": "2021-11-23T16:03:47.289Z"
   },
   {
    "duration": 6,
    "start_time": "2021-11-23T16:03:47.417Z"
   },
   {
    "duration": 124,
    "start_time": "2021-11-23T16:03:47.424Z"
   },
   {
    "duration": 116,
    "start_time": "2021-11-23T16:04:34.745Z"
   },
   {
    "duration": 109,
    "start_time": "2021-11-23T16:04:43.269Z"
   },
   {
    "duration": 4,
    "start_time": "2021-11-23T16:05:47.475Z"
   },
   {
    "duration": 362,
    "start_time": "2021-11-23T16:05:47.482Z"
   },
   {
    "duration": 61,
    "start_time": "2021-11-23T16:05:47.846Z"
   },
   {
    "duration": 27,
    "start_time": "2021-11-23T16:05:47.908Z"
   },
   {
    "duration": 7,
    "start_time": "2021-11-23T16:05:47.937Z"
   },
   {
    "duration": 43,
    "start_time": "2021-11-23T16:05:47.945Z"
   },
   {
    "duration": 62,
    "start_time": "2021-11-23T16:05:47.990Z"
   },
   {
    "duration": 76,
    "start_time": "2021-11-23T16:05:48.054Z"
   },
   {
    "duration": 20,
    "start_time": "2021-11-23T16:05:48.132Z"
   },
   {
    "duration": 8,
    "start_time": "2021-11-23T16:05:48.154Z"
   },
   {
    "duration": 38,
    "start_time": "2021-11-23T16:05:48.189Z"
   },
   {
    "duration": 62,
    "start_time": "2021-11-23T16:05:48.228Z"
   },
   {
    "duration": 18,
    "start_time": "2021-11-23T16:05:48.291Z"
   },
   {
    "duration": 29,
    "start_time": "2021-11-23T16:05:48.311Z"
   },
   {
    "duration": 65,
    "start_time": "2021-11-23T16:05:48.342Z"
   },
   {
    "duration": 25,
    "start_time": "2021-11-23T16:05:48.409Z"
   },
   {
    "duration": 15,
    "start_time": "2021-11-23T16:05:48.436Z"
   },
   {
    "duration": 117,
    "start_time": "2021-11-23T16:05:48.452Z"
   },
   {
    "duration": 31,
    "start_time": "2021-11-23T16:05:48.570Z"
   },
   {
    "duration": 7,
    "start_time": "2021-11-23T16:05:48.603Z"
   },
   {
    "duration": 28,
    "start_time": "2021-11-23T16:05:48.611Z"
   },
   {
    "duration": 10,
    "start_time": "2021-11-23T16:05:48.640Z"
   },
   {
    "duration": 55,
    "start_time": "2021-11-23T16:05:48.651Z"
   },
   {
    "duration": 279,
    "start_time": "2021-11-23T16:05:48.709Z"
   },
   {
    "duration": 17,
    "start_time": "2021-11-23T16:05:48.990Z"
   },
   {
    "duration": 137,
    "start_time": "2021-11-23T16:05:49.009Z"
   },
   {
    "duration": 5,
    "start_time": "2021-11-23T16:05:49.147Z"
   },
   {
    "duration": 127,
    "start_time": "2021-11-23T16:05:49.154Z"
   },
   {
    "duration": 119,
    "start_time": "2021-11-23T16:05:49.287Z"
   },
   {
    "duration": 5,
    "start_time": "2021-11-23T16:05:49.408Z"
   },
   {
    "duration": 143,
    "start_time": "2021-11-23T16:05:49.414Z"
   },
   {
    "duration": 134,
    "start_time": "2021-11-23T16:05:49.559Z"
   },
   {
    "duration": 6,
    "start_time": "2021-11-23T16:05:49.694Z"
   },
   {
    "duration": 139,
    "start_time": "2021-11-23T16:05:49.701Z"
   },
   {
    "duration": 22,
    "start_time": "2021-11-23T16:05:49.842Z"
   },
   {
    "duration": 143,
    "start_time": "2021-11-23T16:05:49.866Z"
   },
   {
    "duration": 6,
    "start_time": "2021-11-23T16:05:50.010Z"
   },
   {
    "duration": 129,
    "start_time": "2021-11-23T16:05:50.018Z"
   },
   {
    "duration": 180,
    "start_time": "2021-11-23T16:05:50.149Z"
   },
   {
    "duration": 5,
    "start_time": "2021-11-23T16:05:50.331Z"
   },
   {
    "duration": 128,
    "start_time": "2021-11-23T16:05:50.337Z"
   },
   {
    "duration": 140,
    "start_time": "2021-11-23T16:05:50.467Z"
   },
   {
    "duration": 7,
    "start_time": "2021-11-23T16:05:50.609Z"
   },
   {
    "duration": 143,
    "start_time": "2021-11-23T16:05:50.618Z"
   },
   {
    "duration": 134,
    "start_time": "2021-11-23T16:06:00.983Z"
   },
   {
    "duration": 22,
    "start_time": "2021-11-23T16:11:43.413Z"
   },
   {
    "duration": 5,
    "start_time": "2021-11-23T16:12:48.966Z"
   },
   {
    "duration": 4,
    "start_time": "2021-11-23T16:24:53.977Z"
   },
   {
    "duration": 4,
    "start_time": "2021-11-23T16:27:10.162Z"
   },
   {
    "duration": 28,
    "start_time": "2021-11-23T16:27:11.284Z"
   },
   {
    "duration": 5,
    "start_time": "2021-11-23T16:27:59.648Z"
   },
   {
    "duration": 5,
    "start_time": "2021-11-23T16:28:59.654Z"
   },
   {
    "duration": 5,
    "start_time": "2021-11-23T16:29:39.257Z"
   },
   {
    "duration": 4,
    "start_time": "2021-11-23T16:32:59.762Z"
   },
   {
    "duration": 4,
    "start_time": "2021-11-23T16:37:31.105Z"
   },
   {
    "duration": 98,
    "start_time": "2021-11-23T16:54:09.248Z"
   },
   {
    "duration": 5,
    "start_time": "2021-11-23T16:56:48.469Z"
   },
   {
    "duration": 4,
    "start_time": "2021-11-23T16:58:21.923Z"
   },
   {
    "duration": 4,
    "start_time": "2021-11-23T16:59:32.319Z"
   },
   {
    "duration": 4,
    "start_time": "2021-11-23T17:02:19.601Z"
   },
   {
    "duration": 5,
    "start_time": "2021-11-23T17:03:52.459Z"
   },
   {
    "duration": 4,
    "start_time": "2021-11-23T17:05:15.024Z"
   },
   {
    "duration": 4,
    "start_time": "2021-11-23T17:06:31.430Z"
   },
   {
    "duration": 5,
    "start_time": "2021-11-23T17:06:42.820Z"
   },
   {
    "duration": 4,
    "start_time": "2021-11-23T17:25:58.030Z"
   },
   {
    "duration": 4,
    "start_time": "2021-11-23T17:27:09.082Z"
   },
   {
    "duration": 5,
    "start_time": "2021-11-23T17:28:29.118Z"
   },
   {
    "duration": 4,
    "start_time": "2021-11-23T17:29:43.631Z"
   },
   {
    "duration": 4,
    "start_time": "2021-11-23T17:31:15.631Z"
   },
   {
    "duration": 5,
    "start_time": "2021-11-23T17:32:13.319Z"
   },
   {
    "duration": 4,
    "start_time": "2021-11-23T17:33:30.776Z"
   },
   {
    "duration": 5,
    "start_time": "2021-11-23T17:34:37.172Z"
   },
   {
    "duration": 4,
    "start_time": "2021-11-23T17:36:08.882Z"
   },
   {
    "duration": 3,
    "start_time": "2021-11-23T17:38:48.028Z"
   },
   {
    "duration": 356,
    "start_time": "2021-11-23T17:38:48.036Z"
   },
   {
    "duration": 61,
    "start_time": "2021-11-23T17:38:48.393Z"
   },
   {
    "duration": 50,
    "start_time": "2021-11-23T17:38:48.456Z"
   },
   {
    "duration": 8,
    "start_time": "2021-11-23T17:38:48.508Z"
   },
   {
    "duration": 13,
    "start_time": "2021-11-23T17:38:48.518Z"
   },
   {
    "duration": 89,
    "start_time": "2021-11-23T17:38:48.532Z"
   },
   {
    "duration": 74,
    "start_time": "2021-11-23T17:38:48.622Z"
   },
   {
    "duration": 21,
    "start_time": "2021-11-23T17:38:48.699Z"
   },
   {
    "duration": 7,
    "start_time": "2021-11-23T17:38:48.722Z"
   },
   {
    "duration": 66,
    "start_time": "2021-11-23T17:38:48.731Z"
   },
   {
    "duration": 39,
    "start_time": "2021-11-23T17:38:48.798Z"
   },
   {
    "duration": 50,
    "start_time": "2021-11-23T17:38:48.838Z"
   },
   {
    "duration": 29,
    "start_time": "2021-11-23T17:38:48.890Z"
   },
   {
    "duration": 34,
    "start_time": "2021-11-23T17:38:48.921Z"
   },
   {
    "duration": 30,
    "start_time": "2021-11-23T17:38:48.987Z"
   },
   {
    "duration": 16,
    "start_time": "2021-11-23T17:38:49.019Z"
   },
   {
    "duration": 65,
    "start_time": "2021-11-23T17:38:49.036Z"
   },
   {
    "duration": 19,
    "start_time": "2021-11-23T17:38:49.103Z"
   },
   {
    "duration": 8,
    "start_time": "2021-11-23T17:38:49.124Z"
   },
   {
    "duration": 54,
    "start_time": "2021-11-23T17:38:49.134Z"
   },
   {
    "duration": 10,
    "start_time": "2021-11-23T17:38:49.190Z"
   },
   {
    "duration": 24,
    "start_time": "2021-11-23T17:38:49.202Z"
   },
   {
    "duration": 300,
    "start_time": "2021-11-23T17:38:49.230Z"
   },
   {
    "duration": 19,
    "start_time": "2021-11-23T17:38:49.532Z"
   },
   {
    "duration": 149,
    "start_time": "2021-11-23T17:38:49.552Z"
   },
   {
    "duration": 6,
    "start_time": "2021-11-23T17:38:49.702Z"
   },
   {
    "duration": 145,
    "start_time": "2021-11-23T17:38:49.709Z"
   },
   {
    "duration": 118,
    "start_time": "2021-11-23T17:38:49.856Z"
   },
   {
    "duration": 15,
    "start_time": "2021-11-23T17:38:49.975Z"
   },
   {
    "duration": 179,
    "start_time": "2021-11-23T17:38:49.991Z"
   },
   {
    "duration": 121,
    "start_time": "2021-11-23T17:38:50.172Z"
   },
   {
    "duration": 5,
    "start_time": "2021-11-23T17:38:50.295Z"
   },
   {
    "duration": 134,
    "start_time": "2021-11-23T17:38:50.301Z"
   },
   {
    "duration": 4,
    "start_time": "2021-11-23T17:38:50.436Z"
   },
   {
    "duration": 5,
    "start_time": "2021-11-23T17:38:50.441Z"
   },
   {
    "duration": 5,
    "start_time": "2021-11-23T17:38:50.448Z"
   },
   {
    "duration": 5,
    "start_time": "2021-11-23T17:38:50.454Z"
   },
   {
    "duration": 27,
    "start_time": "2021-11-23T17:38:50.461Z"
   },
   {
    "duration": 12,
    "start_time": "2021-11-23T17:38:50.489Z"
   },
   {
    "duration": 5,
    "start_time": "2021-11-23T17:38:50.503Z"
   },
   {
    "duration": 11,
    "start_time": "2021-11-23T17:38:50.510Z"
   },
   {
    "duration": 13,
    "start_time": "2021-11-23T17:38:50.523Z"
   },
   {
    "duration": 50,
    "start_time": "2021-11-23T17:38:50.538Z"
   },
   {
    "duration": 136,
    "start_time": "2021-11-23T17:38:50.589Z"
   },
   {
    "duration": 7,
    "start_time": "2021-11-23T17:38:50.727Z"
   },
   {
    "duration": 129,
    "start_time": "2021-11-23T17:38:50.736Z"
   },
   {
    "duration": 135,
    "start_time": "2021-11-23T17:38:50.867Z"
   },
   {
    "duration": 6,
    "start_time": "2021-11-23T17:38:51.004Z"
   },
   {
    "duration": 130,
    "start_time": "2021-11-23T17:38:51.012Z"
   },
   {
    "duration": 130,
    "start_time": "2021-11-23T17:38:51.144Z"
   },
   {
    "duration": 15,
    "start_time": "2021-11-23T17:38:51.276Z"
   },
   {
    "duration": 126,
    "start_time": "2021-11-23T17:38:51.292Z"
   },
   {
    "duration": 5,
    "start_time": "2021-11-23T17:38:51.420Z"
   },
   {
    "duration": 6,
    "start_time": "2021-11-23T17:38:51.427Z"
   },
   {
    "duration": 5,
    "start_time": "2021-11-23T17:38:51.435Z"
   },
   {
    "duration": 5,
    "start_time": "2021-11-23T17:38:51.442Z"
   },
   {
    "duration": 40,
    "start_time": "2021-11-23T17:38:51.449Z"
   },
   {
    "duration": 6,
    "start_time": "2021-11-23T17:38:51.490Z"
   },
   {
    "duration": 4,
    "start_time": "2021-11-23T17:38:51.498Z"
   },
   {
    "duration": 6,
    "start_time": "2021-11-23T17:38:51.504Z"
   },
   {
    "duration": 8,
    "start_time": "2021-11-23T17:38:51.511Z"
   },
   {
    "duration": 196,
    "start_time": "2021-11-23T17:54:27.440Z"
   },
   {
    "duration": 185,
    "start_time": "2021-11-23T17:55:25.819Z"
   },
   {
    "duration": 230,
    "start_time": "2021-11-23T17:55:44.644Z"
   },
   {
    "duration": 186,
    "start_time": "2021-11-23T17:56:32.963Z"
   },
   {
    "duration": 186,
    "start_time": "2021-11-23T17:57:19.818Z"
   },
   {
    "duration": 185,
    "start_time": "2021-11-23T17:57:49.791Z"
   },
   {
    "duration": 187,
    "start_time": "2021-11-23T17:58:05.712Z"
   },
   {
    "duration": 203,
    "start_time": "2021-11-23T17:58:55.924Z"
   },
   {
    "duration": 185,
    "start_time": "2021-11-23T17:59:47.140Z"
   },
   {
    "duration": 191,
    "start_time": "2021-11-23T18:11:00.691Z"
   },
   {
    "duration": 177,
    "start_time": "2021-11-23T18:11:45.529Z"
   },
   {
    "duration": 186,
    "start_time": "2021-11-23T18:12:38.013Z"
   },
   {
    "duration": 190,
    "start_time": "2021-11-23T18:13:41.388Z"
   },
   {
    "duration": 236,
    "start_time": "2021-11-23T18:13:57.813Z"
   },
   {
    "duration": 184,
    "start_time": "2021-11-23T18:14:09.674Z"
   },
   {
    "duration": 192,
    "start_time": "2021-11-23T18:14:26.427Z"
   },
   {
    "duration": 183,
    "start_time": "2021-11-23T18:14:38.912Z"
   },
   {
    "duration": 186,
    "start_time": "2021-11-23T18:14:48.537Z"
   },
   {
    "duration": 179,
    "start_time": "2021-11-23T18:16:32.034Z"
   },
   {
    "duration": 188,
    "start_time": "2021-11-23T18:16:58.741Z"
   },
   {
    "duration": 170,
    "start_time": "2021-11-23T18:21:29.519Z"
   },
   {
    "duration": 193,
    "start_time": "2021-11-23T18:22:27.729Z"
   },
   {
    "duration": 199,
    "start_time": "2021-11-23T18:23:26.959Z"
   },
   {
    "duration": 185,
    "start_time": "2021-11-23T18:23:38.668Z"
   },
   {
    "duration": 201,
    "start_time": "2021-11-23T18:24:17.090Z"
   },
   {
    "duration": 183,
    "start_time": "2021-11-23T18:32:13.636Z"
   },
   {
    "duration": 233,
    "start_time": "2021-11-23T18:32:38.109Z"
   },
   {
    "duration": 177,
    "start_time": "2021-11-23T18:32:55.466Z"
   },
   {
    "duration": 180,
    "start_time": "2021-11-23T18:33:32.868Z"
   },
   {
    "duration": 168,
    "start_time": "2021-11-23T18:33:48.349Z"
   },
   {
    "duration": 165,
    "start_time": "2021-11-23T18:34:04.234Z"
   },
   {
    "duration": 172,
    "start_time": "2021-11-23T18:34:18.791Z"
   },
   {
    "duration": 181,
    "start_time": "2021-11-23T18:34:31.435Z"
   },
   {
    "duration": 183,
    "start_time": "2021-11-23T18:41:54.849Z"
   },
   {
    "duration": 198,
    "start_time": "2021-11-23T18:42:16.087Z"
   },
   {
    "duration": 182,
    "start_time": "2021-11-23T18:42:25.704Z"
   },
   {
    "duration": 189,
    "start_time": "2021-11-23T18:42:36.664Z"
   },
   {
    "duration": 170,
    "start_time": "2021-11-23T18:42:48.597Z"
   },
   {
    "duration": 187,
    "start_time": "2021-11-23T18:45:14.998Z"
   },
   {
    "duration": 180,
    "start_time": "2021-11-23T18:46:18.390Z"
   },
   {
    "duration": 179,
    "start_time": "2021-11-23T18:46:48.668Z"
   },
   {
    "duration": 179,
    "start_time": "2021-11-23T18:47:05.616Z"
   },
   {
    "duration": 250,
    "start_time": "2021-11-23T18:48:07.496Z"
   },
   {
    "duration": 181,
    "start_time": "2021-11-23T18:48:23.857Z"
   },
   {
    "duration": 180,
    "start_time": "2021-11-23T18:48:38.254Z"
   },
   {
    "duration": 211,
    "start_time": "2021-11-23T19:50:29.854Z"
   },
   {
    "duration": 206,
    "start_time": "2021-11-23T19:54:36.462Z"
   },
   {
    "duration": 199,
    "start_time": "2021-11-23T20:01:17.693Z"
   },
   {
    "duration": 205,
    "start_time": "2021-11-23T20:01:28.852Z"
   },
   {
    "duration": 187,
    "start_time": "2021-11-23T20:01:38.017Z"
   },
   {
    "duration": 208,
    "start_time": "2021-11-23T20:09:17.433Z"
   },
   {
    "duration": 208,
    "start_time": "2021-11-23T20:14:35.472Z"
   },
   {
    "duration": 200,
    "start_time": "2021-11-23T20:19:28.226Z"
   },
   {
    "duration": 202,
    "start_time": "2021-11-23T20:20:28.566Z"
   },
   {
    "duration": 196,
    "start_time": "2021-11-23T20:20:52.767Z"
   },
   {
    "duration": 207,
    "start_time": "2021-11-23T20:21:05.652Z"
   },
   {
    "duration": 206,
    "start_time": "2021-11-23T20:23:31.591Z"
   },
   {
    "duration": 337,
    "start_time": "2021-11-23T20:23:39.888Z"
   },
   {
    "duration": 197,
    "start_time": "2021-11-23T20:27:40.926Z"
   },
   {
    "duration": 211,
    "start_time": "2021-11-23T21:03:01.739Z"
   },
   {
    "duration": 1534,
    "start_time": "2021-11-24T08:27:06.587Z"
   },
   {
    "duration": 541,
    "start_time": "2021-11-24T08:27:08.123Z"
   },
   {
    "duration": 108,
    "start_time": "2021-11-24T08:27:08.667Z"
   },
   {
    "duration": 64,
    "start_time": "2021-11-24T08:27:08.778Z"
   },
   {
    "duration": 13,
    "start_time": "2021-11-24T08:27:08.845Z"
   },
   {
    "duration": 56,
    "start_time": "2021-11-24T08:27:08.861Z"
   },
   {
    "duration": 131,
    "start_time": "2021-11-24T08:27:08.920Z"
   },
   {
    "duration": 103,
    "start_time": "2021-11-24T08:27:09.055Z"
   },
   {
    "duration": 58,
    "start_time": "2021-11-24T08:27:09.161Z"
   },
   {
    "duration": 12,
    "start_time": "2021-11-24T08:27:09.222Z"
   },
   {
    "duration": 93,
    "start_time": "2021-11-24T08:27:09.237Z"
   },
   {
    "duration": 79,
    "start_time": "2021-11-24T08:27:09.333Z"
   },
   {
    "duration": 30,
    "start_time": "2021-11-24T08:27:09.414Z"
   },
   {
    "duration": 83,
    "start_time": "2021-11-24T08:27:09.446Z"
   },
   {
    "duration": 87,
    "start_time": "2021-11-24T08:27:09.531Z"
   },
   {
    "duration": 46,
    "start_time": "2021-11-24T08:27:09.620Z"
   },
   {
    "duration": 56,
    "start_time": "2021-11-24T08:27:09.668Z"
   },
   {
    "duration": 84,
    "start_time": "2021-11-24T08:27:09.727Z"
   },
   {
    "duration": 34,
    "start_time": "2021-11-24T08:27:09.813Z"
   },
   {
    "duration": 52,
    "start_time": "2021-11-24T08:27:09.850Z"
   },
   {
    "duration": 41,
    "start_time": "2021-11-24T08:27:09.905Z"
   },
   {
    "duration": 57,
    "start_time": "2021-11-24T08:27:09.949Z"
   },
   {
    "duration": 43,
    "start_time": "2021-11-24T08:27:10.015Z"
   },
   {
    "duration": 547,
    "start_time": "2021-11-24T08:27:10.062Z"
   },
   {
    "duration": 34,
    "start_time": "2021-11-24T08:27:10.611Z"
   },
   {
    "duration": 362,
    "start_time": "2021-11-24T08:27:10.647Z"
   },
   {
    "duration": 8,
    "start_time": "2021-11-24T08:27:11.012Z"
   },
   {
    "duration": 253,
    "start_time": "2021-11-24T08:27:11.023Z"
   },
   {
    "duration": 385,
    "start_time": "2021-11-24T08:27:11.279Z"
   },
   {
    "duration": 215,
    "start_time": "2021-11-24T08:27:11.666Z"
   },
   {
    "duration": 19,
    "start_time": "2021-11-24T08:27:11.884Z"
   },
   {
    "duration": 240,
    "start_time": "2021-11-24T08:27:11.906Z"
   },
   {
    "duration": 446,
    "start_time": "2021-11-24T08:27:12.148Z"
   },
   {
    "duration": 231,
    "start_time": "2021-11-24T08:27:12.596Z"
   },
   {
    "duration": 8,
    "start_time": "2021-11-24T08:27:12.830Z"
   },
   {
    "duration": 237,
    "start_time": "2021-11-24T08:27:12.840Z"
   },
   {
    "duration": 395,
    "start_time": "2021-11-24T08:27:13.080Z"
   },
   {
    "duration": 6,
    "start_time": "2021-11-24T08:27:13.478Z"
   },
   {
    "duration": 7,
    "start_time": "2021-11-24T08:27:13.501Z"
   },
   {
    "duration": 11,
    "start_time": "2021-11-24T08:27:13.510Z"
   },
   {
    "duration": 7,
    "start_time": "2021-11-24T08:27:13.523Z"
   },
   {
    "duration": 8,
    "start_time": "2021-11-24T08:27:13.533Z"
   },
   {
    "duration": 62,
    "start_time": "2021-11-24T08:27:13.544Z"
   },
   {
    "duration": 8,
    "start_time": "2021-11-24T08:27:13.609Z"
   },
   {
    "duration": 8,
    "start_time": "2021-11-24T08:27:13.620Z"
   },
   {
    "duration": 11,
    "start_time": "2021-11-24T08:27:13.630Z"
   },
   {
    "duration": 87,
    "start_time": "2021-11-24T08:27:13.643Z"
   },
   {
    "duration": 230,
    "start_time": "2021-11-24T08:27:13.732Z"
   },
   {
    "duration": 8,
    "start_time": "2021-11-24T08:27:13.964Z"
   },
   {
    "duration": 237,
    "start_time": "2021-11-24T08:27:13.975Z"
   },
   {
    "duration": 399,
    "start_time": "2021-11-24T08:27:14.214Z"
   },
   {
    "duration": 264,
    "start_time": "2021-11-24T08:27:14.616Z"
   },
   {
    "duration": 20,
    "start_time": "2021-11-24T08:27:14.882Z"
   },
   {
    "duration": 233,
    "start_time": "2021-11-24T08:27:14.905Z"
   },
   {
    "duration": 404,
    "start_time": "2021-11-24T08:27:15.140Z"
   },
   {
    "duration": 243,
    "start_time": "2021-11-24T08:27:15.546Z"
   },
   {
    "duration": 12,
    "start_time": "2021-11-24T08:27:15.792Z"
   },
   {
    "duration": 337,
    "start_time": "2021-11-24T08:27:15.806Z"
   },
   {
    "duration": 411,
    "start_time": "2021-11-24T08:27:16.145Z"
   },
   {
    "duration": 7,
    "start_time": "2021-11-24T08:27:16.559Z"
   },
   {
    "duration": 6,
    "start_time": "2021-11-24T08:27:16.568Z"
   },
   {
    "duration": 29,
    "start_time": "2021-11-24T08:27:16.576Z"
   },
   {
    "duration": 8,
    "start_time": "2021-11-24T08:27:16.608Z"
   },
   {
    "duration": 6,
    "start_time": "2021-11-24T08:27:16.619Z"
   },
   {
    "duration": 8,
    "start_time": "2021-11-24T08:27:16.627Z"
   },
   {
    "duration": 9,
    "start_time": "2021-11-24T08:27:16.637Z"
   },
   {
    "duration": 57,
    "start_time": "2021-11-24T08:27:16.648Z"
   },
   {
    "duration": 6,
    "start_time": "2021-11-24T08:27:16.713Z"
   },
   {
    "duration": 407,
    "start_time": "2021-11-24T08:27:16.722Z"
   },
   {
    "duration": 361,
    "start_time": "2021-11-24T08:27:17.131Z"
   },
   {
    "duration": 411,
    "start_time": "2021-11-24T08:27:17.495Z"
   },
   {
    "duration": 349,
    "start_time": "2021-11-24T08:27:17.908Z"
   },
   {
    "duration": 362,
    "start_time": "2021-11-24T08:27:18.259Z"
   },
   {
    "duration": 811,
    "start_time": "2021-11-24T08:27:18.623Z"
   },
   {
    "duration": 8960,
    "start_time": "2021-11-24T08:30:49.633Z"
   },
   {
    "duration": 7,
    "start_time": "2021-11-24T08:31:08.311Z"
   },
   {
    "duration": 7,
    "start_time": "2021-11-24T08:32:12.836Z"
   },
   {
    "duration": 7,
    "start_time": "2021-11-24T08:32:47.999Z"
   },
   {
    "duration": 7,
    "start_time": "2021-11-24T08:36:44.006Z"
   },
   {
    "duration": 7,
    "start_time": "2021-11-24T08:38:21.025Z"
   },
   {
    "duration": 3,
    "start_time": "2021-11-24T08:40:19.275Z"
   },
   {
    "duration": 7,
    "start_time": "2021-11-24T08:40:27.799Z"
   },
   {
    "duration": 8,
    "start_time": "2021-11-24T08:41:03.606Z"
   },
   {
    "duration": 7,
    "start_time": "2021-11-24T08:42:43.568Z"
   },
   {
    "duration": 4,
    "start_time": "2021-11-24T08:43:31.703Z"
   },
   {
    "duration": 606,
    "start_time": "2021-11-24T08:43:31.710Z"
   },
   {
    "duration": 105,
    "start_time": "2021-11-24T08:43:32.319Z"
   },
   {
    "duration": 43,
    "start_time": "2021-11-24T08:43:32.427Z"
   },
   {
    "duration": 38,
    "start_time": "2021-11-24T08:43:32.472Z"
   },
   {
    "duration": 24,
    "start_time": "2021-11-24T08:43:32.513Z"
   },
   {
    "duration": 142,
    "start_time": "2021-11-24T08:43:32.541Z"
   },
   {
    "duration": 119,
    "start_time": "2021-11-24T08:43:32.686Z"
   },
   {
    "duration": 36,
    "start_time": "2021-11-24T08:43:32.807Z"
   },
   {
    "duration": 56,
    "start_time": "2021-11-24T08:43:32.846Z"
   },
   {
    "duration": 103,
    "start_time": "2021-11-24T08:43:32.905Z"
   },
   {
    "duration": 101,
    "start_time": "2021-11-24T08:43:33.011Z"
   },
   {
    "duration": 29,
    "start_time": "2021-11-24T08:43:33.115Z"
   },
   {
    "duration": 83,
    "start_time": "2021-11-24T08:43:33.146Z"
   },
   {
    "duration": 82,
    "start_time": "2021-11-24T08:43:33.231Z"
   },
   {
    "duration": 46,
    "start_time": "2021-11-24T08:43:33.315Z"
   },
   {
    "duration": 59,
    "start_time": "2021-11-24T08:43:33.363Z"
   },
   {
    "duration": 83,
    "start_time": "2021-11-24T08:43:33.424Z"
   },
   {
    "duration": 34,
    "start_time": "2021-11-24T08:43:33.513Z"
   },
   {
    "duration": 13,
    "start_time": "2021-11-24T08:43:33.551Z"
   },
   {
    "duration": 68,
    "start_time": "2021-11-24T08:43:33.567Z"
   },
   {
    "duration": 16,
    "start_time": "2021-11-24T08:43:33.637Z"
   },
   {
    "duration": 83,
    "start_time": "2021-11-24T08:43:33.655Z"
   },
   {
    "duration": 534,
    "start_time": "2021-11-24T08:43:33.740Z"
   },
   {
    "duration": 45,
    "start_time": "2021-11-24T08:43:34.276Z"
   },
   {
    "duration": 238,
    "start_time": "2021-11-24T08:43:34.324Z"
   },
   {
    "duration": 8,
    "start_time": "2021-11-24T08:43:34.565Z"
   },
   {
    "duration": 334,
    "start_time": "2021-11-24T08:43:34.576Z"
   },
   {
    "duration": 390,
    "start_time": "2021-11-24T08:43:34.913Z"
   },
   {
    "duration": 231,
    "start_time": "2021-11-24T08:43:35.305Z"
   },
   {
    "duration": 8,
    "start_time": "2021-11-24T08:43:35.539Z"
   },
   {
    "duration": 253,
    "start_time": "2021-11-24T08:43:35.549Z"
   },
   {
    "duration": 385,
    "start_time": "2021-11-24T08:43:35.805Z"
   },
   {
    "duration": 325,
    "start_time": "2021-11-24T08:43:36.193Z"
   },
   {
    "duration": 7,
    "start_time": "2021-11-24T08:43:36.521Z"
   },
   {
    "duration": 239,
    "start_time": "2021-11-24T08:43:36.531Z"
   },
   {
    "duration": 397,
    "start_time": "2021-11-24T08:43:36.772Z"
   },
   {
    "duration": 7,
    "start_time": "2021-11-24T08:43:37.172Z"
   },
   {
    "duration": 24,
    "start_time": "2021-11-24T08:43:37.181Z"
   },
   {
    "duration": 16,
    "start_time": "2021-11-24T08:43:37.208Z"
   },
   {
    "duration": 12,
    "start_time": "2021-11-24T08:43:37.227Z"
   },
   {
    "duration": 7,
    "start_time": "2021-11-24T08:43:37.241Z"
   },
   {
    "duration": 49,
    "start_time": "2021-11-24T08:43:37.251Z"
   },
   {
    "duration": 13,
    "start_time": "2021-11-24T08:43:37.303Z"
   },
   {
    "duration": 9,
    "start_time": "2021-11-24T08:43:37.319Z"
   },
   {
    "duration": 9,
    "start_time": "2021-11-24T08:43:37.331Z"
   },
   {
    "duration": 84,
    "start_time": "2021-11-24T08:43:37.343Z"
   },
   {
    "duration": 235,
    "start_time": "2021-11-24T08:43:37.430Z"
   },
   {
    "duration": 9,
    "start_time": "2021-11-24T08:43:37.668Z"
   },
   {
    "duration": 238,
    "start_time": "2021-11-24T08:43:37.679Z"
   },
   {
    "duration": 408,
    "start_time": "2021-11-24T08:43:37.919Z"
   },
   {
    "duration": 246,
    "start_time": "2021-11-24T08:43:38.329Z"
   },
   {
    "duration": 25,
    "start_time": "2021-11-24T08:43:38.578Z"
   },
   {
    "duration": 229,
    "start_time": "2021-11-24T08:43:38.605Z"
   },
   {
    "duration": 496,
    "start_time": "2021-11-24T08:43:38.841Z"
   },
   {
    "duration": 246,
    "start_time": "2021-11-24T08:43:39.340Z"
   },
   {
    "duration": 17,
    "start_time": "2021-11-24T08:43:39.589Z"
   },
   {
    "duration": 241,
    "start_time": "2021-11-24T08:43:39.608Z"
   },
   {
    "duration": 420,
    "start_time": "2021-11-24T08:43:39.852Z"
   },
   {
    "duration": 6,
    "start_time": "2021-11-24T08:43:40.274Z"
   },
   {
    "duration": 7,
    "start_time": "2021-11-24T08:43:40.299Z"
   },
   {
    "duration": 9,
    "start_time": "2021-11-24T08:43:40.309Z"
   },
   {
    "duration": 10,
    "start_time": "2021-11-24T08:43:40.320Z"
   },
   {
    "duration": 10,
    "start_time": "2021-11-24T08:43:40.333Z"
   },
   {
    "duration": 59,
    "start_time": "2021-11-24T08:43:40.346Z"
   },
   {
    "duration": 7,
    "start_time": "2021-11-24T08:43:40.408Z"
   },
   {
    "duration": 11,
    "start_time": "2021-11-24T08:43:40.417Z"
   },
   {
    "duration": 12,
    "start_time": "2021-11-24T08:43:40.431Z"
   },
   {
    "duration": 408,
    "start_time": "2021-11-24T08:43:40.446Z"
   },
   {
    "duration": 390,
    "start_time": "2021-11-24T08:43:40.857Z"
   },
   {
    "duration": 388,
    "start_time": "2021-11-24T08:43:41.250Z"
   },
   {
    "duration": 359,
    "start_time": "2021-11-24T08:43:41.641Z"
   },
   {
    "duration": 372,
    "start_time": "2021-11-24T08:43:42.002Z"
   },
   {
    "duration": 4,
    "start_time": "2021-11-24T08:43:42.376Z"
   },
   {
    "duration": 24,
    "start_time": "2021-11-24T08:43:42.382Z"
   },
   {
    "duration": 8,
    "start_time": "2021-11-24T08:44:43.508Z"
   },
   {
    "duration": 4,
    "start_time": "2021-11-24T08:46:25.562Z"
   },
   {
    "duration": 7,
    "start_time": "2021-11-24T08:46:47.402Z"
   },
   {
    "duration": 4,
    "start_time": "2021-11-24T08:46:57.779Z"
   },
   {
    "duration": 596,
    "start_time": "2021-11-24T08:46:57.789Z"
   },
   {
    "duration": 118,
    "start_time": "2021-11-24T08:46:58.389Z"
   },
   {
    "duration": 44,
    "start_time": "2021-11-24T08:46:58.510Z"
   },
   {
    "duration": 45,
    "start_time": "2021-11-24T08:46:58.557Z"
   },
   {
    "duration": 29,
    "start_time": "2021-11-24T08:46:58.604Z"
   },
   {
    "duration": 122,
    "start_time": "2021-11-24T08:46:58.635Z"
   },
   {
    "duration": 106,
    "start_time": "2021-11-24T08:46:58.759Z"
   },
   {
    "duration": 51,
    "start_time": "2021-11-24T08:46:58.869Z"
   },
   {
    "duration": 14,
    "start_time": "2021-11-24T08:46:58.923Z"
   },
   {
    "duration": 94,
    "start_time": "2021-11-24T08:46:58.939Z"
   },
   {
    "duration": 77,
    "start_time": "2021-11-24T08:46:59.036Z"
   },
   {
    "duration": 30,
    "start_time": "2021-11-24T08:46:59.115Z"
   },
   {
    "duration": 84,
    "start_time": "2021-11-24T08:46:59.147Z"
   },
   {
    "duration": 82,
    "start_time": "2021-11-24T08:46:59.233Z"
   },
   {
    "duration": 46,
    "start_time": "2021-11-24T08:46:59.317Z"
   },
   {
    "duration": 58,
    "start_time": "2021-11-24T08:46:59.366Z"
   },
   {
    "duration": 81,
    "start_time": "2021-11-24T08:46:59.427Z"
   },
   {
    "duration": 35,
    "start_time": "2021-11-24T08:46:59.510Z"
   },
   {
    "duration": 14,
    "start_time": "2021-11-24T08:46:59.547Z"
   },
   {
    "duration": 69,
    "start_time": "2021-11-24T08:46:59.563Z"
   },
   {
    "duration": 16,
    "start_time": "2021-11-24T08:46:59.635Z"
   },
   {
    "duration": 81,
    "start_time": "2021-11-24T08:46:59.654Z"
   },
   {
    "duration": 520,
    "start_time": "2021-11-24T08:46:59.741Z"
   },
   {
    "duration": 50,
    "start_time": "2021-11-24T08:47:00.265Z"
   },
   {
    "duration": 251,
    "start_time": "2021-11-24T08:47:00.318Z"
   },
   {
    "duration": 8,
    "start_time": "2021-11-24T08:47:00.572Z"
   },
   {
    "duration": 351,
    "start_time": "2021-11-24T08:47:00.600Z"
   },
   {
    "duration": 401,
    "start_time": "2021-11-24T08:47:00.954Z"
   },
   {
    "duration": 233,
    "start_time": "2021-11-24T08:47:01.357Z"
   },
   {
    "duration": 14,
    "start_time": "2021-11-24T08:47:01.593Z"
   },
   {
    "duration": 250,
    "start_time": "2021-11-24T08:47:01.610Z"
   },
   {
    "duration": 397,
    "start_time": "2021-11-24T08:47:01.870Z"
   },
   {
    "duration": 240,
    "start_time": "2021-11-24T08:47:02.270Z"
   },
   {
    "duration": 9,
    "start_time": "2021-11-24T08:47:02.513Z"
   },
   {
    "duration": 238,
    "start_time": "2021-11-24T08:47:02.525Z"
   },
   {
    "duration": 485,
    "start_time": "2021-11-24T08:47:02.767Z"
   },
   {
    "duration": 6,
    "start_time": "2021-11-24T08:47:03.255Z"
   },
   {
    "duration": 37,
    "start_time": "2021-11-24T08:47:03.263Z"
   },
   {
    "duration": 7,
    "start_time": "2021-11-24T08:47:03.303Z"
   },
   {
    "duration": 11,
    "start_time": "2021-11-24T08:47:03.312Z"
   },
   {
    "duration": 9,
    "start_time": "2021-11-24T08:47:03.326Z"
   },
   {
    "duration": 10,
    "start_time": "2021-11-24T08:47:03.337Z"
   },
   {
    "duration": 55,
    "start_time": "2021-11-24T08:47:03.349Z"
   },
   {
    "duration": 10,
    "start_time": "2021-11-24T08:47:03.407Z"
   },
   {
    "duration": 9,
    "start_time": "2021-11-24T08:47:03.420Z"
   },
   {
    "duration": 79,
    "start_time": "2021-11-24T08:47:03.431Z"
   },
   {
    "duration": 225,
    "start_time": "2021-11-24T08:47:03.513Z"
   },
   {
    "duration": 10,
    "start_time": "2021-11-24T08:47:03.741Z"
   },
   {
    "duration": 251,
    "start_time": "2021-11-24T08:47:03.753Z"
   },
   {
    "duration": 420,
    "start_time": "2021-11-24T08:47:04.006Z"
   },
   {
    "duration": 248,
    "start_time": "2021-11-24T08:47:04.429Z"
   },
   {
    "duration": 8,
    "start_time": "2021-11-24T08:47:04.680Z"
   },
   {
    "duration": 241,
    "start_time": "2021-11-24T08:47:04.701Z"
   },
   {
    "duration": 407,
    "start_time": "2021-11-24T08:47:04.945Z"
   },
   {
    "duration": 250,
    "start_time": "2021-11-24T08:47:05.355Z"
   },
   {
    "duration": 9,
    "start_time": "2021-11-24T08:47:05.607Z"
   },
   {
    "duration": 245,
    "start_time": "2021-11-24T08:47:05.618Z"
   },
   {
    "duration": 549,
    "start_time": "2021-11-24T08:47:05.866Z"
   },
   {
    "duration": 6,
    "start_time": "2021-11-24T08:47:06.418Z"
   },
   {
    "duration": 25,
    "start_time": "2021-11-24T08:47:06.426Z"
   },
   {
    "duration": 41,
    "start_time": "2021-11-24T08:47:06.453Z"
   },
   {
    "duration": 10,
    "start_time": "2021-11-24T08:47:06.496Z"
   },
   {
    "duration": 10,
    "start_time": "2021-11-24T08:47:06.509Z"
   },
   {
    "duration": 9,
    "start_time": "2021-11-24T08:47:06.521Z"
   },
   {
    "duration": 15,
    "start_time": "2021-11-24T08:47:06.532Z"
   },
   {
    "duration": 25,
    "start_time": "2021-11-24T08:47:06.549Z"
   },
   {
    "duration": 29,
    "start_time": "2021-11-24T08:47:06.576Z"
   },
   {
    "duration": 386,
    "start_time": "2021-11-24T08:47:06.612Z"
   },
   {
    "duration": 373,
    "start_time": "2021-11-24T08:47:07.001Z"
   },
   {
    "duration": 387,
    "start_time": "2021-11-24T08:47:07.376Z"
   },
   {
    "duration": 359,
    "start_time": "2021-11-24T08:47:07.766Z"
   },
   {
    "duration": 362,
    "start_time": "2021-11-24T08:47:08.128Z"
   },
   {
    "duration": 4,
    "start_time": "2021-11-24T08:47:08.500Z"
   },
   {
    "duration": 16,
    "start_time": "2021-11-24T08:47:08.506Z"
   },
   {
    "duration": 11,
    "start_time": "2021-11-24T08:47:08.525Z"
   },
   {
    "duration": 7,
    "start_time": "2021-11-24T08:55:32.346Z"
   },
   {
    "duration": 6,
    "start_time": "2021-11-24T08:57:10.746Z"
   },
   {
    "duration": 8,
    "start_time": "2021-11-24T08:57:44.421Z"
   },
   {
    "duration": 6,
    "start_time": "2021-11-24T08:58:42.489Z"
   },
   {
    "duration": 6,
    "start_time": "2021-11-24T08:59:09.709Z"
   },
   {
    "duration": 6,
    "start_time": "2021-11-24T09:01:22.423Z"
   },
   {
    "duration": 6,
    "start_time": "2021-11-24T09:01:36.210Z"
   },
   {
    "duration": 122,
    "start_time": "2021-11-24T09:30:46.002Z"
   },
   {
    "duration": 85,
    "start_time": "2021-11-24T09:35:39.148Z"
   },
   {
    "duration": 49,
    "start_time": "2021-11-24T09:36:06.861Z"
   },
   {
    "duration": 11,
    "start_time": "2021-11-24T09:37:03.222Z"
   },
   {
    "duration": 33,
    "start_time": "2021-11-24T09:38:00.097Z"
   },
   {
    "duration": 10,
    "start_time": "2021-11-24T09:38:34.692Z"
   },
   {
    "duration": 34,
    "start_time": "2021-11-24T09:39:18.501Z"
   },
   {
    "duration": 6,
    "start_time": "2021-11-24T09:41:31.717Z"
   },
   {
    "duration": 633,
    "start_time": "2021-11-24T09:41:31.730Z"
   },
   {
    "duration": 103,
    "start_time": "2021-11-24T09:41:32.367Z"
   },
   {
    "duration": 69,
    "start_time": "2021-11-24T09:41:32.473Z"
   },
   {
    "duration": 15,
    "start_time": "2021-11-24T09:41:32.545Z"
   },
   {
    "duration": 51,
    "start_time": "2021-11-24T09:41:32.562Z"
   },
   {
    "duration": 140,
    "start_time": "2021-11-24T09:41:32.615Z"
   },
   {
    "duration": 145,
    "start_time": "2021-11-24T09:41:32.758Z"
   },
   {
    "duration": 55,
    "start_time": "2021-11-24T09:41:32.908Z"
   },
   {
    "duration": 36,
    "start_time": "2021-11-24T09:41:32.966Z"
   },
   {
    "duration": 62,
    "start_time": "2021-11-24T09:41:33.005Z"
   },
   {
    "duration": 93,
    "start_time": "2021-11-24T09:41:33.070Z"
   },
   {
    "duration": 59,
    "start_time": "2021-11-24T09:41:33.165Z"
   },
   {
    "duration": 73,
    "start_time": "2021-11-24T09:41:33.227Z"
   },
   {
    "duration": 98,
    "start_time": "2021-11-24T09:41:33.303Z"
   },
   {
    "duration": 55,
    "start_time": "2021-11-24T09:41:33.403Z"
   },
   {
    "duration": 60,
    "start_time": "2021-11-24T09:41:33.461Z"
   },
   {
    "duration": 77,
    "start_time": "2021-11-24T09:41:33.523Z"
   },
   {
    "duration": 35,
    "start_time": "2021-11-24T09:41:33.603Z"
   },
   {
    "duration": 13,
    "start_time": "2021-11-24T09:41:33.640Z"
   },
   {
    "duration": 83,
    "start_time": "2021-11-24T09:41:33.656Z"
   },
   {
    "duration": 17,
    "start_time": "2021-11-24T09:41:33.742Z"
   },
   {
    "duration": 71,
    "start_time": "2021-11-24T09:41:33.761Z"
   },
   {
    "duration": 547,
    "start_time": "2021-11-24T09:41:33.839Z"
   },
   {
    "duration": 43,
    "start_time": "2021-11-24T09:41:34.390Z"
   },
   {
    "duration": 255,
    "start_time": "2021-11-24T09:41:34.435Z"
   },
   {
    "duration": 8,
    "start_time": "2021-11-24T09:41:34.700Z"
   },
   {
    "duration": 255,
    "start_time": "2021-11-24T09:41:34.711Z"
   },
   {
    "duration": 402,
    "start_time": "2021-11-24T09:41:34.968Z"
   },
   {
    "duration": 240,
    "start_time": "2021-11-24T09:41:35.373Z"
   },
   {
    "duration": 9,
    "start_time": "2021-11-24T09:41:35.616Z"
   },
   {
    "duration": 258,
    "start_time": "2021-11-24T09:41:35.627Z"
   },
   {
    "duration": 389,
    "start_time": "2021-11-24T09:41:35.887Z"
   },
   {
    "duration": 244,
    "start_time": "2021-11-24T09:41:36.280Z"
   },
   {
    "duration": 10,
    "start_time": "2021-11-24T09:41:36.528Z"
   },
   {
    "duration": 238,
    "start_time": "2021-11-24T09:41:36.542Z"
   },
   {
    "duration": 408,
    "start_time": "2021-11-24T09:41:36.783Z"
   },
   {
    "duration": 10,
    "start_time": "2021-11-24T09:41:37.194Z"
   },
   {
    "duration": 25,
    "start_time": "2021-11-24T09:41:37.206Z"
   },
   {
    "duration": 9,
    "start_time": "2021-11-24T09:41:37.234Z"
   },
   {
    "duration": 7,
    "start_time": "2021-11-24T09:41:37.246Z"
   },
   {
    "duration": 46,
    "start_time": "2021-11-24T09:41:37.256Z"
   },
   {
    "duration": 13,
    "start_time": "2021-11-24T09:41:37.305Z"
   },
   {
    "duration": 8,
    "start_time": "2021-11-24T09:41:37.321Z"
   },
   {
    "duration": 9,
    "start_time": "2021-11-24T09:41:37.332Z"
   },
   {
    "duration": 13,
    "start_time": "2021-11-24T09:41:37.344Z"
   },
   {
    "duration": 231,
    "start_time": "2021-11-24T09:41:37.359Z"
   },
   {
    "duration": 263,
    "start_time": "2021-11-24T09:41:37.594Z"
   },
   {
    "duration": 9,
    "start_time": "2021-11-24T09:41:37.859Z"
   },
   {
    "duration": 235,
    "start_time": "2021-11-24T09:41:37.870Z"
   },
   {
    "duration": 414,
    "start_time": "2021-11-24T09:41:38.107Z"
   },
   {
    "duration": 246,
    "start_time": "2021-11-24T09:41:38.523Z"
   },
   {
    "duration": 7,
    "start_time": "2021-11-24T09:41:38.772Z"
   },
   {
    "duration": 226,
    "start_time": "2021-11-24T09:41:38.800Z"
   },
   {
    "duration": 408,
    "start_time": "2021-11-24T09:41:39.028Z"
   },
   {
    "duration": 244,
    "start_time": "2021-11-24T09:41:39.438Z"
   },
   {
    "duration": 18,
    "start_time": "2021-11-24T09:41:39.685Z"
   },
   {
    "duration": 239,
    "start_time": "2021-11-24T09:41:39.705Z"
   },
   {
    "duration": 412,
    "start_time": "2021-11-24T09:41:39.946Z"
   },
   {
    "duration": 6,
    "start_time": "2021-11-24T09:41:40.361Z"
   },
   {
    "duration": 33,
    "start_time": "2021-11-24T09:41:40.369Z"
   },
   {
    "duration": 8,
    "start_time": "2021-11-24T09:41:40.405Z"
   },
   {
    "duration": 17,
    "start_time": "2021-11-24T09:41:40.416Z"
   },
   {
    "duration": 12,
    "start_time": "2021-11-24T09:41:40.436Z"
   },
   {
    "duration": 52,
    "start_time": "2021-11-24T09:41:40.450Z"
   },
   {
    "duration": 28,
    "start_time": "2021-11-24T09:41:40.505Z"
   },
   {
    "duration": 11,
    "start_time": "2021-11-24T09:41:40.535Z"
   },
   {
    "duration": 13,
    "start_time": "2021-11-24T09:41:40.549Z"
   },
   {
    "duration": 385,
    "start_time": "2021-11-24T09:41:40.569Z"
   },
   {
    "duration": 484,
    "start_time": "2021-11-24T09:41:40.957Z"
   },
   {
    "duration": 381,
    "start_time": "2021-11-24T09:41:41.443Z"
   },
   {
    "duration": 356,
    "start_time": "2021-11-24T09:41:41.827Z"
   },
   {
    "duration": 375,
    "start_time": "2021-11-24T09:41:42.185Z"
   },
   {
    "duration": 8,
    "start_time": "2021-11-24T09:41:42.563Z"
   },
   {
    "duration": 29,
    "start_time": "2021-11-24T09:41:42.573Z"
   },
   {
    "duration": 9,
    "start_time": "2021-11-24T09:41:42.605Z"
   },
   {
    "duration": 91,
    "start_time": "2021-11-24T09:41:42.616Z"
   },
   {
    "duration": 5,
    "start_time": "2021-11-24T09:42:10.970Z"
   },
   {
    "duration": 6,
    "start_time": "2021-11-24T09:44:46.040Z"
   },
   {
    "duration": 78,
    "start_time": "2021-11-24T09:46:53.200Z"
   },
   {
    "duration": 85,
    "start_time": "2021-11-24T09:47:07.220Z"
   },
   {
    "duration": 5,
    "start_time": "2021-11-24T09:47:19.764Z"
   },
   {
    "duration": 76,
    "start_time": "2021-11-24T09:52:07.291Z"
   },
   {
    "duration": 49,
    "start_time": "2021-11-24T09:52:35.414Z"
   },
   {
    "duration": 5,
    "start_time": "2021-11-24T09:56:24.553Z"
   },
   {
    "duration": 55,
    "start_time": "2021-11-24T10:56:40.368Z"
   },
   {
    "duration": 346,
    "start_time": "2021-11-24T10:56:59.096Z"
   },
   {
    "duration": 34,
    "start_time": "2021-11-24T10:57:09.015Z"
   },
   {
    "duration": 34,
    "start_time": "2021-11-24T11:09:33.821Z"
   },
   {
    "duration": 4,
    "start_time": "2021-11-24T11:10:21.013Z"
   },
   {
    "duration": 619,
    "start_time": "2021-11-24T11:10:21.020Z"
   },
   {
    "duration": 97,
    "start_time": "2021-11-24T11:10:21.642Z"
   },
   {
    "duration": 66,
    "start_time": "2021-11-24T11:10:21.742Z"
   },
   {
    "duration": 12,
    "start_time": "2021-11-24T11:10:21.811Z"
   },
   {
    "duration": 25,
    "start_time": "2021-11-24T11:10:21.826Z"
   },
   {
    "duration": 150,
    "start_time": "2021-11-24T11:10:21.855Z"
   },
   {
    "duration": 114,
    "start_time": "2021-11-24T11:10:22.008Z"
   },
   {
    "duration": 36,
    "start_time": "2021-11-24T11:10:22.124Z"
   },
   {
    "duration": 45,
    "start_time": "2021-11-24T11:10:22.163Z"
   },
   {
    "duration": 106,
    "start_time": "2021-11-24T11:10:22.212Z"
   },
   {
    "duration": 94,
    "start_time": "2021-11-24T11:10:22.322Z"
   },
   {
    "duration": 33,
    "start_time": "2021-11-24T11:10:22.420Z"
   },
   {
    "duration": 88,
    "start_time": "2021-11-24T11:10:22.456Z"
   },
   {
    "duration": 99,
    "start_time": "2021-11-24T11:10:22.547Z"
   },
   {
    "duration": 81,
    "start_time": "2021-11-24T11:10:22.648Z"
   },
   {
    "duration": 32,
    "start_time": "2021-11-24T11:10:22.732Z"
   },
   {
    "duration": 83,
    "start_time": "2021-11-24T11:10:22.766Z"
   },
   {
    "duration": 59,
    "start_time": "2021-11-24T11:10:22.854Z"
   },
   {
    "duration": 13,
    "start_time": "2021-11-24T11:10:22.916Z"
   },
   {
    "duration": 42,
    "start_time": "2021-11-24T11:10:22.931Z"
   },
   {
    "duration": 16,
    "start_time": "2021-11-24T11:10:23.001Z"
   },
   {
    "duration": 5,
    "start_time": "2021-11-24T11:10:23.020Z"
   },
   {
    "duration": 84,
    "start_time": "2021-11-24T11:10:23.027Z"
   },
   {
    "duration": 542,
    "start_time": "2021-11-24T11:10:23.113Z"
   },
   {
    "duration": 50,
    "start_time": "2021-11-24T11:10:23.658Z"
   },
   {
    "duration": 242,
    "start_time": "2021-11-24T11:10:23.710Z"
   },
   {
    "duration": 8,
    "start_time": "2021-11-24T11:10:23.955Z"
   },
   {
    "duration": 248,
    "start_time": "2021-11-24T11:10:23.966Z"
   },
   {
    "duration": 402,
    "start_time": "2021-11-24T11:10:24.216Z"
   },
   {
    "duration": 400,
    "start_time": "2021-11-24T11:10:24.620Z"
   },
   {
    "duration": 9,
    "start_time": "2021-11-24T11:10:25.022Z"
   },
   {
    "duration": 265,
    "start_time": "2021-11-24T11:10:25.033Z"
   },
   {
    "duration": 386,
    "start_time": "2021-11-24T11:10:25.301Z"
   },
   {
    "duration": 228,
    "start_time": "2021-11-24T11:10:25.700Z"
   },
   {
    "duration": 9,
    "start_time": "2021-11-24T11:10:25.930Z"
   },
   {
    "duration": 251,
    "start_time": "2021-11-24T11:10:25.943Z"
   },
   {
    "duration": 408,
    "start_time": "2021-11-24T11:10:26.197Z"
   },
   {
    "duration": 8,
    "start_time": "2021-11-24T11:10:26.608Z"
   },
   {
    "duration": 17,
    "start_time": "2021-11-24T11:10:26.619Z"
   },
   {
    "duration": 9,
    "start_time": "2021-11-24T11:10:26.639Z"
   },
   {
    "duration": 51,
    "start_time": "2021-11-24T11:10:26.651Z"
   },
   {
    "duration": 8,
    "start_time": "2021-11-24T11:10:26.705Z"
   },
   {
    "duration": 15,
    "start_time": "2021-11-24T11:10:26.716Z"
   },
   {
    "duration": 28,
    "start_time": "2021-11-24T11:10:26.734Z"
   },
   {
    "duration": 35,
    "start_time": "2021-11-24T11:10:26.764Z"
   },
   {
    "duration": 6,
    "start_time": "2021-11-24T11:10:26.802Z"
   },
   {
    "duration": 28,
    "start_time": "2021-11-24T11:10:26.810Z"
   },
   {
    "duration": 47,
    "start_time": "2021-11-24T11:10:26.840Z"
   },
   {
    "duration": 236,
    "start_time": "2021-11-24T11:10:26.890Z"
   },
   {
    "duration": 10,
    "start_time": "2021-11-24T11:10:27.129Z"
   },
   {
    "duration": 333,
    "start_time": "2021-11-24T11:10:27.142Z"
   },
   {
    "duration": 597,
    "start_time": "2021-11-24T11:10:27.478Z"
   },
   {
    "duration": 349,
    "start_time": "2021-11-24T11:10:28.079Z"
   },
   {
    "duration": 12,
    "start_time": "2021-11-24T11:10:28.439Z"
   },
   {
    "duration": 329,
    "start_time": "2021-11-24T11:10:28.455Z"
   },
   {
    "duration": 401,
    "start_time": "2021-11-24T11:10:28.787Z"
   },
   {
    "duration": 247,
    "start_time": "2021-11-24T11:10:29.191Z"
   },
   {
    "duration": 9,
    "start_time": "2021-11-24T11:10:29.440Z"
   },
   {
    "duration": 249,
    "start_time": "2021-11-24T11:10:29.451Z"
   },
   {
    "duration": 401,
    "start_time": "2021-11-24T11:10:29.702Z"
   },
   {
    "duration": 7,
    "start_time": "2021-11-24T11:10:30.105Z"
   },
   {
    "duration": 29,
    "start_time": "2021-11-24T11:10:30.115Z"
   },
   {
    "duration": 34,
    "start_time": "2021-11-24T11:10:30.147Z"
   },
   {
    "duration": 29,
    "start_time": "2021-11-24T11:10:30.184Z"
   },
   {
    "duration": 42,
    "start_time": "2021-11-24T11:10:30.216Z"
   },
   {
    "duration": 48,
    "start_time": "2021-11-24T11:10:30.261Z"
   },
   {
    "duration": 51,
    "start_time": "2021-11-24T11:10:30.312Z"
   },
   {
    "duration": 25,
    "start_time": "2021-11-24T11:10:30.367Z"
   },
   {
    "duration": 15,
    "start_time": "2021-11-24T11:10:30.395Z"
   },
   {
    "duration": 12,
    "start_time": "2021-11-24T11:10:30.413Z"
   },
   {
    "duration": 550,
    "start_time": "2021-11-24T11:10:30.429Z"
   },
   {
    "duration": 377,
    "start_time": "2021-11-24T11:10:30.982Z"
   },
   {
    "duration": 409,
    "start_time": "2021-11-24T11:10:31.362Z"
   },
   {
    "duration": 346,
    "start_time": "2021-11-24T11:10:31.774Z"
   },
   {
    "duration": 360,
    "start_time": "2021-11-24T11:10:32.123Z"
   },
   {
    "duration": 16,
    "start_time": "2021-11-24T11:10:32.486Z"
   },
   {
    "duration": 9,
    "start_time": "2021-11-24T11:10:32.505Z"
   },
   {
    "duration": 10,
    "start_time": "2021-11-24T11:10:32.516Z"
   },
   {
    "duration": 131,
    "start_time": "2021-11-24T11:10:32.529Z"
   },
   {
    "duration": 5,
    "start_time": "2021-11-24T11:10:32.663Z"
   },
   {
    "duration": 54,
    "start_time": "2021-11-24T11:10:32.671Z"
   },
   {
    "duration": 10,
    "start_time": "2021-11-24T11:10:32.728Z"
   },
   {
    "duration": 32,
    "start_time": "2021-11-24T11:11:13.278Z"
   },
   {
    "duration": 4,
    "start_time": "2021-11-24T11:11:26.355Z"
   },
   {
    "duration": 578,
    "start_time": "2021-11-24T11:11:26.362Z"
   },
   {
    "duration": 156,
    "start_time": "2021-11-24T11:11:26.944Z"
   },
   {
    "duration": 66,
    "start_time": "2021-11-24T11:11:27.104Z"
   },
   {
    "duration": 38,
    "start_time": "2021-11-24T11:11:27.172Z"
   },
   {
    "duration": 23,
    "start_time": "2021-11-24T11:11:27.212Z"
   },
   {
    "duration": 138,
    "start_time": "2021-11-24T11:11:27.238Z"
   },
   {
    "duration": 97,
    "start_time": "2021-11-24T11:11:27.379Z"
   },
   {
    "duration": 56,
    "start_time": "2021-11-24T11:11:27.479Z"
   },
   {
    "duration": 13,
    "start_time": "2021-11-24T11:11:27.538Z"
   },
   {
    "duration": 101,
    "start_time": "2021-11-24T11:11:27.555Z"
   },
   {
    "duration": 101,
    "start_time": "2021-11-24T11:11:27.660Z"
   },
   {
    "duration": 51,
    "start_time": "2021-11-24T11:11:27.764Z"
   },
   {
    "duration": 49,
    "start_time": "2021-11-24T11:11:27.818Z"
   },
   {
    "duration": 88,
    "start_time": "2021-11-24T11:11:27.870Z"
   },
   {
    "duration": 75,
    "start_time": "2021-11-24T11:11:27.960Z"
   },
   {
    "duration": 26,
    "start_time": "2021-11-24T11:11:28.038Z"
   },
   {
    "duration": 304,
    "start_time": "2021-11-24T11:11:28.067Z"
   },
   {
    "duration": 49,
    "start_time": "2021-11-24T11:11:28.380Z"
   },
   {
    "duration": 14,
    "start_time": "2021-11-24T11:11:28.435Z"
   },
   {
    "duration": 74,
    "start_time": "2021-11-24T11:11:28.452Z"
   },
   {
    "duration": 18,
    "start_time": "2021-11-24T11:11:28.528Z"
   },
   {
    "duration": 5,
    "start_time": "2021-11-24T11:11:28.549Z"
   },
   {
    "duration": 80,
    "start_time": "2021-11-24T11:11:28.557Z"
   },
   {
    "duration": 528,
    "start_time": "2021-11-24T11:11:28.639Z"
   },
   {
    "duration": 50,
    "start_time": "2021-11-24T11:11:29.169Z"
   },
   {
    "duration": 257,
    "start_time": "2021-11-24T11:11:29.221Z"
   },
   {
    "duration": 20,
    "start_time": "2021-11-24T11:11:29.481Z"
   },
   {
    "duration": 244,
    "start_time": "2021-11-24T11:11:29.504Z"
   },
   {
    "duration": 598,
    "start_time": "2021-11-24T11:11:29.751Z"
   },
   {
    "duration": 326,
    "start_time": "2021-11-24T11:11:30.352Z"
   },
   {
    "duration": 22,
    "start_time": "2021-11-24T11:11:30.681Z"
   },
   {
    "duration": 251,
    "start_time": "2021-11-24T11:11:30.706Z"
   },
   {
    "duration": 495,
    "start_time": "2021-11-24T11:11:30.960Z"
   },
   {
    "duration": 234,
    "start_time": "2021-11-24T11:11:31.457Z"
   },
   {
    "duration": 12,
    "start_time": "2021-11-24T11:11:31.694Z"
   },
   {
    "duration": 236,
    "start_time": "2021-11-24T11:11:31.708Z"
   },
   {
    "duration": 420,
    "start_time": "2021-11-24T11:11:31.947Z"
   },
   {
    "duration": 6,
    "start_time": "2021-11-24T11:11:32.370Z"
   },
   {
    "duration": 25,
    "start_time": "2021-11-24T11:11:32.378Z"
   },
   {
    "duration": 10,
    "start_time": "2021-11-24T11:11:32.406Z"
   },
   {
    "duration": 10,
    "start_time": "2021-11-24T11:11:32.418Z"
   },
   {
    "duration": 10,
    "start_time": "2021-11-24T11:11:32.430Z"
   },
   {
    "duration": 60,
    "start_time": "2021-11-24T11:11:32.442Z"
   },
   {
    "duration": 9,
    "start_time": "2021-11-24T11:11:32.504Z"
   },
   {
    "duration": 7,
    "start_time": "2021-11-24T11:11:32.516Z"
   },
   {
    "duration": 17,
    "start_time": "2021-11-24T11:11:32.525Z"
   },
   {
    "duration": 54,
    "start_time": "2021-11-24T11:11:32.545Z"
   },
   {
    "duration": 35,
    "start_time": "2021-11-24T11:11:32.602Z"
   },
   {
    "duration": 296,
    "start_time": "2021-11-24T11:11:32.640Z"
   },
   {
    "duration": 10,
    "start_time": "2021-11-24T11:11:32.938Z"
   },
   {
    "duration": 244,
    "start_time": "2021-11-24T11:11:32.950Z"
   },
   {
    "duration": 609,
    "start_time": "2021-11-24T11:11:33.200Z"
   },
   {
    "duration": 341,
    "start_time": "2021-11-24T11:11:33.812Z"
   },
   {
    "duration": 11,
    "start_time": "2021-11-24T11:11:34.165Z"
   },
   {
    "duration": 342,
    "start_time": "2021-11-24T11:11:34.181Z"
   },
   {
    "duration": 409,
    "start_time": "2021-11-24T11:11:34.526Z"
   },
   {
    "duration": 249,
    "start_time": "2021-11-24T11:11:34.937Z"
   },
   {
    "duration": 15,
    "start_time": "2021-11-24T11:11:35.188Z"
   },
   {
    "duration": 247,
    "start_time": "2021-11-24T11:11:35.206Z"
   },
   {
    "duration": 403,
    "start_time": "2021-11-24T11:11:35.455Z"
   },
   {
    "duration": 7,
    "start_time": "2021-11-24T11:11:35.860Z"
   },
   {
    "duration": 33,
    "start_time": "2021-11-24T11:11:35.869Z"
   },
   {
    "duration": 10,
    "start_time": "2021-11-24T11:11:35.905Z"
   },
   {
    "duration": 23,
    "start_time": "2021-11-24T11:11:35.917Z"
   },
   {
    "duration": 24,
    "start_time": "2021-11-24T11:11:35.943Z"
   },
   {
    "duration": 14,
    "start_time": "2021-11-24T11:11:35.969Z"
   },
   {
    "duration": 7,
    "start_time": "2021-11-24T11:11:36.001Z"
   },
   {
    "duration": 9,
    "start_time": "2021-11-24T11:11:36.010Z"
   },
   {
    "duration": 8,
    "start_time": "2021-11-24T11:11:36.021Z"
   },
   {
    "duration": 6,
    "start_time": "2021-11-24T11:11:36.032Z"
   },
   {
    "duration": 608,
    "start_time": "2021-11-24T11:11:36.040Z"
   },
   {
    "duration": 544,
    "start_time": "2021-11-24T11:11:36.651Z"
   },
   {
    "duration": 384,
    "start_time": "2021-11-24T11:11:37.202Z"
   },
   {
    "duration": 358,
    "start_time": "2021-11-24T11:11:37.588Z"
   },
   {
    "duration": 365,
    "start_time": "2021-11-24T11:11:37.948Z"
   },
   {
    "duration": 10,
    "start_time": "2021-11-24T11:11:38.316Z"
   },
   {
    "duration": 12,
    "start_time": "2021-11-24T11:11:38.330Z"
   },
   {
    "duration": 8,
    "start_time": "2021-11-24T11:11:38.346Z"
   },
   {
    "duration": 350,
    "start_time": "2021-11-24T11:11:38.357Z"
   },
   {
    "duration": 5,
    "start_time": "2021-11-24T11:11:38.710Z"
   },
   {
    "duration": 37,
    "start_time": "2021-11-24T11:11:38.718Z"
   },
   {
    "duration": 7,
    "start_time": "2021-11-24T11:11:38.758Z"
   },
   {
    "duration": 9,
    "start_time": "2021-11-24T11:12:55.120Z"
   },
   {
    "duration": 10,
    "start_time": "2021-11-24T11:53:14.711Z"
   },
   {
    "duration": 4,
    "start_time": "2021-11-24T11:56:37.111Z"
   },
   {
    "duration": 572,
    "start_time": "2021-11-24T11:56:37.121Z"
   },
   {
    "duration": 120,
    "start_time": "2021-11-24T11:56:37.696Z"
   },
   {
    "duration": 82,
    "start_time": "2021-11-24T11:56:37.820Z"
   },
   {
    "duration": 13,
    "start_time": "2021-11-24T11:56:37.905Z"
   },
   {
    "duration": 22,
    "start_time": "2021-11-24T11:56:37.920Z"
   },
   {
    "duration": 145,
    "start_time": "2021-11-24T11:56:37.944Z"
   },
   {
    "duration": 124,
    "start_time": "2021-11-24T11:56:38.091Z"
   },
   {
    "duration": 35,
    "start_time": "2021-11-24T11:56:38.219Z"
   },
   {
    "duration": 43,
    "start_time": "2021-11-24T11:56:38.257Z"
   },
   {
    "duration": 75,
    "start_time": "2021-11-24T11:56:38.303Z"
   },
   {
    "duration": 80,
    "start_time": "2021-11-24T11:56:38.380Z"
   },
   {
    "duration": 65,
    "start_time": "2021-11-24T11:56:38.462Z"
   },
   {
    "duration": 75,
    "start_time": "2021-11-24T11:56:38.530Z"
   },
   {
    "duration": 93,
    "start_time": "2021-11-24T11:56:38.608Z"
   },
   {
    "duration": 49,
    "start_time": "2021-11-24T11:56:38.703Z"
   },
   {
    "duration": 68,
    "start_time": "2021-11-24T11:56:38.755Z"
   },
   {
    "duration": 88,
    "start_time": "2021-11-24T11:56:38.826Z"
   },
   {
    "duration": 36,
    "start_time": "2021-11-24T11:56:38.916Z"
   },
   {
    "duration": 54,
    "start_time": "2021-11-24T11:56:38.955Z"
   },
   {
    "duration": 43,
    "start_time": "2021-11-24T11:56:39.012Z"
   },
   {
    "duration": 55,
    "start_time": "2021-11-24T11:56:39.058Z"
   },
   {
    "duration": 6,
    "start_time": "2021-11-24T11:56:39.116Z"
   },
   {
    "duration": 89,
    "start_time": "2021-11-24T11:56:39.134Z"
   },
   {
    "duration": 525,
    "start_time": "2021-11-24T11:56:39.227Z"
   },
   {
    "duration": 50,
    "start_time": "2021-11-24T11:56:39.754Z"
   },
   {
    "duration": 253,
    "start_time": "2021-11-24T11:56:39.806Z"
   },
   {
    "duration": 9,
    "start_time": "2021-11-24T11:56:40.062Z"
   },
   {
    "duration": 271,
    "start_time": "2021-11-24T11:56:40.073Z"
   },
   {
    "duration": 411,
    "start_time": "2021-11-24T11:56:40.346Z"
   },
   {
    "duration": 232,
    "start_time": "2021-11-24T11:56:40.760Z"
   },
   {
    "duration": 9,
    "start_time": "2021-11-24T11:56:40.999Z"
   },
   {
    "duration": 252,
    "start_time": "2021-11-24T11:56:41.011Z"
   },
   {
    "duration": 409,
    "start_time": "2021-11-24T11:56:41.265Z"
   },
   {
    "duration": 226,
    "start_time": "2021-11-24T11:56:41.677Z"
   },
   {
    "duration": 8,
    "start_time": "2021-11-24T11:56:41.905Z"
   },
   {
    "duration": 255,
    "start_time": "2021-11-24T11:56:41.916Z"
   },
   {
    "duration": 403,
    "start_time": "2021-11-24T11:56:42.173Z"
   },
   {
    "duration": 6,
    "start_time": "2021-11-24T11:56:42.579Z"
   },
   {
    "duration": 16,
    "start_time": "2021-11-24T11:56:42.588Z"
   },
   {
    "duration": 9,
    "start_time": "2021-11-24T11:56:42.606Z"
   },
   {
    "duration": 6,
    "start_time": "2021-11-24T11:56:42.618Z"
   },
   {
    "duration": 8,
    "start_time": "2021-11-24T11:56:42.627Z"
   },
   {
    "duration": 64,
    "start_time": "2021-11-24T11:56:42.638Z"
   },
   {
    "duration": 6,
    "start_time": "2021-11-24T11:56:42.705Z"
   },
   {
    "duration": 9,
    "start_time": "2021-11-24T11:56:42.713Z"
   },
   {
    "duration": 7,
    "start_time": "2021-11-24T11:56:42.725Z"
   },
   {
    "duration": 6,
    "start_time": "2021-11-24T11:56:42.735Z"
   },
   {
    "duration": 88,
    "start_time": "2021-11-24T11:56:42.743Z"
   },
   {
    "duration": 256,
    "start_time": "2021-11-24T11:56:42.834Z"
   },
   {
    "duration": 13,
    "start_time": "2021-11-24T11:56:43.092Z"
   },
   {
    "duration": 251,
    "start_time": "2021-11-24T11:56:43.108Z"
   },
   {
    "duration": 426,
    "start_time": "2021-11-24T11:56:43.361Z"
   },
   {
    "duration": 240,
    "start_time": "2021-11-24T11:56:43.790Z"
   },
   {
    "duration": 9,
    "start_time": "2021-11-24T11:56:44.033Z"
   },
   {
    "duration": 255,
    "start_time": "2021-11-24T11:56:44.045Z"
   },
   {
    "duration": 414,
    "start_time": "2021-11-24T11:56:44.302Z"
   },
   {
    "duration": 255,
    "start_time": "2021-11-24T11:56:44.720Z"
   },
   {
    "duration": 8,
    "start_time": "2021-11-24T11:56:44.978Z"
   },
   {
    "duration": 240,
    "start_time": "2021-11-24T11:56:45.001Z"
   },
   {
    "duration": 401,
    "start_time": "2021-11-24T11:56:45.244Z"
   },
   {
    "duration": 8,
    "start_time": "2021-11-24T11:56:45.648Z"
   },
   {
    "duration": 11,
    "start_time": "2021-11-24T11:56:45.659Z"
   },
   {
    "duration": 34,
    "start_time": "2021-11-24T11:56:45.672Z"
   },
   {
    "duration": 13,
    "start_time": "2021-11-24T11:56:45.708Z"
   },
   {
    "duration": 10,
    "start_time": "2021-11-24T11:56:45.724Z"
   },
   {
    "duration": 8,
    "start_time": "2021-11-24T11:56:45.736Z"
   },
   {
    "duration": 63,
    "start_time": "2021-11-24T11:56:45.746Z"
   },
   {
    "duration": 6,
    "start_time": "2021-11-24T11:56:45.817Z"
   },
   {
    "duration": 6,
    "start_time": "2021-11-24T11:56:45.826Z"
   },
   {
    "duration": 6,
    "start_time": "2021-11-24T11:56:45.835Z"
   },
   {
    "duration": 406,
    "start_time": "2021-11-24T11:56:45.843Z"
   },
   {
    "duration": 374,
    "start_time": "2021-11-24T11:56:46.252Z"
   },
   {
    "duration": 392,
    "start_time": "2021-11-24T11:56:46.629Z"
   },
   {
    "duration": 347,
    "start_time": "2021-11-24T11:56:47.024Z"
   },
   {
    "duration": 352,
    "start_time": "2021-11-24T11:56:47.373Z"
   },
   {
    "duration": 8,
    "start_time": "2021-11-24T11:56:47.728Z"
   },
   {
    "duration": 8,
    "start_time": "2021-11-24T11:56:47.738Z"
   },
   {
    "duration": 13,
    "start_time": "2021-11-24T11:56:47.748Z"
   },
   {
    "duration": 164,
    "start_time": "2021-11-24T11:56:47.763Z"
   },
   {
    "duration": 7,
    "start_time": "2021-11-24T11:56:47.929Z"
   },
   {
    "duration": 62,
    "start_time": "2021-11-24T11:56:47.939Z"
   },
   {
    "duration": 11,
    "start_time": "2021-11-24T11:56:48.004Z"
   },
   {
    "duration": 7,
    "start_time": "2021-11-24T12:00:02.438Z"
   },
   {
    "duration": 7,
    "start_time": "2021-11-24T12:00:24.124Z"
   },
   {
    "duration": 6,
    "start_time": "2021-11-24T12:00:31.893Z"
   },
   {
    "duration": 6,
    "start_time": "2021-11-24T12:00:42.642Z"
   },
   {
    "duration": 6,
    "start_time": "2021-11-24T12:02:53.109Z"
   },
   {
    "duration": 7,
    "start_time": "2021-11-24T12:03:02.118Z"
   },
   {
    "duration": 4,
    "start_time": "2021-11-24T12:17:18.220Z"
   },
   {
    "duration": 635,
    "start_time": "2021-11-24T12:17:18.228Z"
   },
   {
    "duration": 101,
    "start_time": "2021-11-24T12:17:18.867Z"
   },
   {
    "duration": 65,
    "start_time": "2021-11-24T12:17:18.971Z"
   },
   {
    "duration": 12,
    "start_time": "2021-11-24T12:17:19.039Z"
   },
   {
    "duration": 59,
    "start_time": "2021-11-24T12:17:19.054Z"
   },
   {
    "duration": 120,
    "start_time": "2021-11-24T12:17:19.117Z"
   },
   {
    "duration": 111,
    "start_time": "2021-11-24T12:17:19.240Z"
   },
   {
    "duration": 60,
    "start_time": "2021-11-24T12:17:19.354Z"
   },
   {
    "duration": 13,
    "start_time": "2021-11-24T12:17:19.416Z"
   },
   {
    "duration": 91,
    "start_time": "2021-11-24T12:17:19.431Z"
   },
   {
    "duration": 83,
    "start_time": "2021-11-24T12:17:19.525Z"
   },
   {
    "duration": 30,
    "start_time": "2021-11-24T12:17:19.610Z"
   },
   {
    "duration": 82,
    "start_time": "2021-11-24T12:17:19.643Z"
   },
   {
    "duration": 86,
    "start_time": "2021-11-24T12:17:19.727Z"
   },
   {
    "duration": 84,
    "start_time": "2021-11-24T12:17:19.816Z"
   },
   {
    "duration": 29,
    "start_time": "2021-11-24T12:17:19.904Z"
   },
   {
    "duration": 343,
    "start_time": "2021-11-24T12:17:19.936Z"
   },
   {
    "duration": 44,
    "start_time": "2021-11-24T12:17:20.284Z"
   },
   {
    "duration": 15,
    "start_time": "2021-11-24T12:17:20.332Z"
   },
   {
    "duration": 73,
    "start_time": "2021-11-24T12:17:20.349Z"
   },
   {
    "duration": 16,
    "start_time": "2021-11-24T12:17:20.424Z"
   },
   {
    "duration": 6,
    "start_time": "2021-11-24T12:17:20.442Z"
   },
   {
    "duration": 88,
    "start_time": "2021-11-24T12:17:20.451Z"
   },
   {
    "duration": 541,
    "start_time": "2021-11-24T12:17:20.543Z"
   },
   {
    "duration": 46,
    "start_time": "2021-11-24T12:17:21.087Z"
   },
   {
    "duration": 260,
    "start_time": "2021-11-24T12:17:21.135Z"
   },
   {
    "duration": 8,
    "start_time": "2021-11-24T12:17:21.401Z"
   },
   {
    "duration": 245,
    "start_time": "2021-11-24T12:17:21.411Z"
   },
   {
    "duration": 399,
    "start_time": "2021-11-24T12:17:21.658Z"
   },
   {
    "duration": 240,
    "start_time": "2021-11-24T12:17:22.060Z"
   },
   {
    "duration": 8,
    "start_time": "2021-11-24T12:17:22.303Z"
   },
   {
    "duration": 251,
    "start_time": "2021-11-24T12:17:22.313Z"
   },
   {
    "duration": 406,
    "start_time": "2021-11-24T12:17:22.566Z"
   },
   {
    "duration": 225,
    "start_time": "2021-11-24T12:17:22.975Z"
   },
   {
    "duration": 8,
    "start_time": "2021-11-24T12:17:23.203Z"
   },
   {
    "duration": 240,
    "start_time": "2021-11-24T12:17:23.213Z"
   },
   {
    "duration": 405,
    "start_time": "2021-11-24T12:17:23.456Z"
   },
   {
    "duration": 6,
    "start_time": "2021-11-24T12:17:23.864Z"
   },
   {
    "duration": 30,
    "start_time": "2021-11-24T12:17:23.873Z"
   },
   {
    "duration": 9,
    "start_time": "2021-11-24T12:17:23.906Z"
   },
   {
    "duration": 7,
    "start_time": "2021-11-24T12:17:23.917Z"
   },
   {
    "duration": 8,
    "start_time": "2021-11-24T12:17:23.927Z"
   },
   {
    "duration": 11,
    "start_time": "2021-11-24T12:17:23.937Z"
   },
   {
    "duration": 56,
    "start_time": "2021-11-24T12:17:23.951Z"
   },
   {
    "duration": 8,
    "start_time": "2021-11-24T12:17:24.010Z"
   },
   {
    "duration": 6,
    "start_time": "2021-11-24T12:17:24.021Z"
   },
   {
    "duration": 7,
    "start_time": "2021-11-24T12:17:24.030Z"
   },
   {
    "duration": 89,
    "start_time": "2021-11-24T12:17:24.040Z"
   },
   {
    "duration": 246,
    "start_time": "2021-11-24T12:17:24.131Z"
   },
   {
    "duration": 8,
    "start_time": "2021-11-24T12:17:24.380Z"
   },
   {
    "duration": 231,
    "start_time": "2021-11-24T12:17:24.401Z"
   },
   {
    "duration": 426,
    "start_time": "2021-11-24T12:17:24.635Z"
   },
   {
    "duration": 240,
    "start_time": "2021-11-24T12:17:25.064Z"
   },
   {
    "duration": 8,
    "start_time": "2021-11-24T12:17:25.312Z"
   },
   {
    "duration": 242,
    "start_time": "2021-11-24T12:17:25.323Z"
   },
   {
    "duration": 405,
    "start_time": "2021-11-24T12:17:25.568Z"
   },
   {
    "duration": 252,
    "start_time": "2021-11-24T12:17:25.975Z"
   },
   {
    "duration": 9,
    "start_time": "2021-11-24T12:17:26.230Z"
   },
   {
    "duration": 250,
    "start_time": "2021-11-24T12:17:26.241Z"
   },
   {
    "duration": 398,
    "start_time": "2021-11-24T12:17:26.494Z"
   },
   {
    "duration": 10,
    "start_time": "2021-11-24T12:17:26.894Z"
   },
   {
    "duration": 48,
    "start_time": "2021-11-24T12:17:26.906Z"
   },
   {
    "duration": 9,
    "start_time": "2021-11-24T12:17:26.957Z"
   },
   {
    "duration": 8,
    "start_time": "2021-11-24T12:17:26.968Z"
   },
   {
    "duration": 25,
    "start_time": "2021-11-24T12:17:26.978Z"
   },
   {
    "duration": 10,
    "start_time": "2021-11-24T12:17:27.005Z"
   },
   {
    "duration": 9,
    "start_time": "2021-11-24T12:17:27.017Z"
   },
   {
    "duration": 8,
    "start_time": "2021-11-24T12:17:27.029Z"
   },
   {
    "duration": 10,
    "start_time": "2021-11-24T12:17:27.040Z"
   },
   {
    "duration": 49,
    "start_time": "2021-11-24T12:17:27.053Z"
   },
   {
    "duration": 370,
    "start_time": "2021-11-24T12:17:27.104Z"
   },
   {
    "duration": 385,
    "start_time": "2021-11-24T12:17:27.476Z"
   },
   {
    "duration": 387,
    "start_time": "2021-11-24T12:17:27.864Z"
   },
   {
    "duration": 355,
    "start_time": "2021-11-24T12:17:28.253Z"
   },
   {
    "duration": 368,
    "start_time": "2021-11-24T12:17:28.611Z"
   },
   {
    "duration": 20,
    "start_time": "2021-11-24T12:17:28.981Z"
   },
   {
    "duration": 5,
    "start_time": "2021-11-24T12:17:29.003Z"
   },
   {
    "duration": 8,
    "start_time": "2021-11-24T12:17:29.011Z"
   },
   {
    "duration": 131,
    "start_time": "2021-11-24T12:17:29.021Z"
   },
   {
    "duration": 6,
    "start_time": "2021-11-24T12:17:29.155Z"
   },
   {
    "duration": 53,
    "start_time": "2021-11-24T12:17:29.163Z"
   },
   {
    "duration": 11,
    "start_time": "2021-11-24T12:17:29.219Z"
   },
   {
    "duration": 11,
    "start_time": "2021-11-24T12:17:29.232Z"
   },
   {
    "duration": 7,
    "start_time": "2021-11-24T12:17:29.246Z"
   },
   {
    "duration": 4,
    "start_time": "2021-11-24T12:36:36.252Z"
   },
   {
    "duration": 639,
    "start_time": "2021-11-24T12:36:36.264Z"
   },
   {
    "duration": 139,
    "start_time": "2021-11-24T12:36:36.907Z"
   },
   {
    "duration": 88,
    "start_time": "2021-11-24T12:36:37.050Z"
   },
   {
    "duration": 12,
    "start_time": "2021-11-24T12:36:37.141Z"
   },
   {
    "duration": 54,
    "start_time": "2021-11-24T12:36:37.156Z"
   },
   {
    "duration": 116,
    "start_time": "2021-11-24T12:36:37.213Z"
   },
   {
    "duration": 114,
    "start_time": "2021-11-24T12:36:37.332Z"
   },
   {
    "duration": 54,
    "start_time": "2021-11-24T12:36:37.450Z"
   },
   {
    "duration": 13,
    "start_time": "2021-11-24T12:36:37.507Z"
   },
   {
    "duration": 92,
    "start_time": "2021-11-24T12:36:37.522Z"
   },
   {
    "duration": 87,
    "start_time": "2021-11-24T12:36:37.616Z"
   },
   {
    "duration": 32,
    "start_time": "2021-11-24T12:36:37.705Z"
   },
   {
    "duration": 78,
    "start_time": "2021-11-24T12:36:37.740Z"
   },
   {
    "duration": 87,
    "start_time": "2021-11-24T12:36:37.821Z"
   },
   {
    "duration": 50,
    "start_time": "2021-11-24T12:36:37.910Z"
   },
   {
    "duration": 63,
    "start_time": "2021-11-24T12:36:37.963Z"
   },
   {
    "duration": 77,
    "start_time": "2021-11-24T12:36:38.028Z"
   },
   {
    "duration": 35,
    "start_time": "2021-11-24T12:36:38.107Z"
   },
   {
    "duration": 13,
    "start_time": "2021-11-24T12:36:38.144Z"
   },
   {
    "duration": 73,
    "start_time": "2021-11-24T12:36:38.159Z"
   },
   {
    "duration": 15,
    "start_time": "2021-11-24T12:36:38.234Z"
   },
   {
    "duration": 4,
    "start_time": "2021-11-24T12:36:38.252Z"
   },
   {
    "duration": 44,
    "start_time": "2021-11-24T12:36:38.303Z"
   },
   {
    "duration": 533,
    "start_time": "2021-11-24T12:36:38.351Z"
   },
   {
    "duration": 42,
    "start_time": "2021-11-24T12:36:38.887Z"
   },
   {
    "duration": 257,
    "start_time": "2021-11-24T12:36:38.931Z"
   },
   {
    "duration": 17,
    "start_time": "2021-11-24T12:36:39.190Z"
   },
   {
    "duration": 244,
    "start_time": "2021-11-24T12:36:39.209Z"
   },
   {
    "duration": 662,
    "start_time": "2021-11-24T12:36:39.456Z"
   },
   {
    "duration": 226,
    "start_time": "2021-11-24T12:36:40.121Z"
   },
   {
    "duration": 9,
    "start_time": "2021-11-24T12:36:40.349Z"
   },
   {
    "duration": 256,
    "start_time": "2021-11-24T12:36:40.361Z"
   },
   {
    "duration": 405,
    "start_time": "2021-11-24T12:36:40.620Z"
   },
   {
    "duration": 225,
    "start_time": "2021-11-24T12:36:41.027Z"
   },
   {
    "duration": 8,
    "start_time": "2021-11-24T12:36:41.254Z"
   },
   {
    "duration": 230,
    "start_time": "2021-11-24T12:36:41.264Z"
   },
   {
    "duration": 407,
    "start_time": "2021-11-24T12:36:41.500Z"
   },
   {
    "duration": 6,
    "start_time": "2021-11-24T12:36:41.910Z"
   },
   {
    "duration": 22,
    "start_time": "2021-11-24T12:36:41.918Z"
   },
   {
    "duration": 16,
    "start_time": "2021-11-24T12:36:41.943Z"
   },
   {
    "duration": 39,
    "start_time": "2021-11-24T12:36:41.961Z"
   },
   {
    "duration": 7,
    "start_time": "2021-11-24T12:36:42.003Z"
   },
   {
    "duration": 25,
    "start_time": "2021-11-24T12:36:42.012Z"
   },
   {
    "duration": 20,
    "start_time": "2021-11-24T12:36:42.040Z"
   },
   {
    "duration": 33,
    "start_time": "2021-11-24T12:36:42.063Z"
   },
   {
    "duration": 24,
    "start_time": "2021-11-24T12:36:42.100Z"
   },
   {
    "duration": 15,
    "start_time": "2021-11-24T12:36:42.127Z"
   },
   {
    "duration": 47,
    "start_time": "2021-11-24T12:36:42.146Z"
   },
   {
    "duration": 239,
    "start_time": "2021-11-24T12:36:42.200Z"
   },
   {
    "duration": 11,
    "start_time": "2021-11-24T12:36:42.442Z"
   },
   {
    "duration": 248,
    "start_time": "2021-11-24T12:36:42.456Z"
   },
   {
    "duration": 429,
    "start_time": "2021-11-24T12:36:42.707Z"
   },
   {
    "duration": 247,
    "start_time": "2021-11-24T12:36:43.140Z"
   },
   {
    "duration": 16,
    "start_time": "2021-11-24T12:36:43.390Z"
   },
   {
    "duration": 244,
    "start_time": "2021-11-24T12:36:43.410Z"
   },
   {
    "duration": 407,
    "start_time": "2021-11-24T12:36:43.657Z"
   },
   {
    "duration": 254,
    "start_time": "2021-11-24T12:36:44.068Z"
   },
   {
    "duration": 10,
    "start_time": "2021-11-24T12:36:44.325Z"
   },
   {
    "duration": 245,
    "start_time": "2021-11-24T12:36:44.338Z"
   },
   {
    "duration": 420,
    "start_time": "2021-11-24T12:36:44.586Z"
   },
   {
    "duration": 7,
    "start_time": "2021-11-24T12:36:45.008Z"
   },
   {
    "duration": 32,
    "start_time": "2021-11-24T12:36:45.017Z"
   },
   {
    "duration": 21,
    "start_time": "2021-11-24T12:36:45.052Z"
   },
   {
    "duration": 26,
    "start_time": "2021-11-24T12:36:45.076Z"
   },
   {
    "duration": 12,
    "start_time": "2021-11-24T12:36:45.105Z"
   },
   {
    "duration": 31,
    "start_time": "2021-11-24T12:36:45.119Z"
   },
   {
    "duration": 18,
    "start_time": "2021-11-24T12:36:45.153Z"
   },
   {
    "duration": 23,
    "start_time": "2021-11-24T12:36:45.179Z"
   },
   {
    "duration": 31,
    "start_time": "2021-11-24T12:36:45.205Z"
   },
   {
    "duration": 15,
    "start_time": "2021-11-24T12:36:45.238Z"
   },
   {
    "duration": 380,
    "start_time": "2021-11-24T12:36:45.255Z"
   },
   {
    "duration": 381,
    "start_time": "2021-11-24T12:36:45.638Z"
   },
   {
    "duration": 405,
    "start_time": "2021-11-24T12:36:46.022Z"
   },
   {
    "duration": 374,
    "start_time": "2021-11-24T12:36:46.429Z"
   },
   {
    "duration": 364,
    "start_time": "2021-11-24T12:36:46.805Z"
   },
   {
    "duration": 7,
    "start_time": "2021-11-24T12:36:47.172Z"
   },
   {
    "duration": 23,
    "start_time": "2021-11-24T12:36:47.182Z"
   },
   {
    "duration": 9,
    "start_time": "2021-11-24T12:36:47.208Z"
   },
   {
    "duration": 129,
    "start_time": "2021-11-24T12:36:47.219Z"
   },
   {
    "duration": 5,
    "start_time": "2021-11-24T12:36:47.351Z"
   },
   {
    "duration": 59,
    "start_time": "2021-11-24T12:36:47.359Z"
   },
   {
    "duration": 11,
    "start_time": "2021-11-24T12:36:47.421Z"
   },
   {
    "duration": 15,
    "start_time": "2021-11-24T12:36:47.434Z"
   },
   {
    "duration": 9,
    "start_time": "2021-11-24T12:36:47.451Z"
   },
   {
    "duration": 1510,
    "start_time": "2021-11-24T12:41:13.166Z"
   },
   {
    "duration": 554,
    "start_time": "2021-11-24T12:41:14.678Z"
   },
   {
    "duration": 105,
    "start_time": "2021-11-24T12:41:15.235Z"
   },
   {
    "duration": 70,
    "start_time": "2021-11-24T12:41:15.343Z"
   },
   {
    "duration": 12,
    "start_time": "2021-11-24T12:41:15.416Z"
   },
   {
    "duration": 21,
    "start_time": "2021-11-24T12:41:15.431Z"
   },
   {
    "duration": 147,
    "start_time": "2021-11-24T12:41:15.455Z"
   },
   {
    "duration": 112,
    "start_time": "2021-11-24T12:41:15.605Z"
   },
   {
    "duration": 34,
    "start_time": "2021-11-24T12:41:15.720Z"
   },
   {
    "duration": 13,
    "start_time": "2021-11-24T12:41:15.757Z"
   },
   {
    "duration": 65,
    "start_time": "2021-11-24T12:41:15.801Z"
   },
   {
    "duration": 85,
    "start_time": "2021-11-24T12:41:15.869Z"
   },
   {
    "duration": 59,
    "start_time": "2021-11-24T12:41:15.956Z"
   },
   {
    "duration": 51,
    "start_time": "2021-11-24T12:41:16.017Z"
   },
   {
    "duration": 81,
    "start_time": "2021-11-24T12:41:16.070Z"
   },
   {
    "duration": 85,
    "start_time": "2021-11-24T12:41:16.153Z"
   },
   {
    "duration": 63,
    "start_time": "2021-11-24T12:41:16.241Z"
   },
   {
    "duration": 53,
    "start_time": "2021-11-24T12:41:16.307Z"
   },
   {
    "duration": 69,
    "start_time": "2021-11-24T12:41:16.362Z"
   },
   {
    "duration": 13,
    "start_time": "2021-11-24T12:41:16.434Z"
   },
   {
    "duration": 73,
    "start_time": "2021-11-24T12:41:16.450Z"
   },
   {
    "duration": 17,
    "start_time": "2021-11-24T12:41:16.525Z"
   },
   {
    "duration": 6,
    "start_time": "2021-11-24T12:41:16.549Z"
   },
   {
    "duration": 77,
    "start_time": "2021-11-24T12:41:16.559Z"
   },
   {
    "duration": 528,
    "start_time": "2021-11-24T12:41:16.639Z"
   },
   {
    "duration": 50,
    "start_time": "2021-11-24T12:41:17.169Z"
   },
   {
    "duration": 244,
    "start_time": "2021-11-24T12:41:17.221Z"
   },
   {
    "duration": 8,
    "start_time": "2021-11-24T12:41:17.468Z"
   },
   {
    "duration": 253,
    "start_time": "2021-11-24T12:41:17.478Z"
   },
   {
    "duration": 397,
    "start_time": "2021-11-24T12:41:17.733Z"
   },
   {
    "duration": 228,
    "start_time": "2021-11-24T12:41:18.133Z"
   },
   {
    "duration": 7,
    "start_time": "2021-11-24T12:41:18.363Z"
   },
   {
    "duration": 238,
    "start_time": "2021-11-24T12:41:18.372Z"
   },
   {
    "duration": 472,
    "start_time": "2021-11-24T12:41:18.613Z"
   },
   {
    "duration": 226,
    "start_time": "2021-11-24T12:41:19.087Z"
   },
   {
    "duration": 9,
    "start_time": "2021-11-24T12:41:19.315Z"
   },
   {
    "duration": 237,
    "start_time": "2021-11-24T12:41:19.326Z"
   },
   {
    "duration": 410,
    "start_time": "2021-11-24T12:41:19.566Z"
   },
   {
    "duration": 22,
    "start_time": "2021-11-24T12:41:19.978Z"
   },
   {
    "duration": 6,
    "start_time": "2021-11-24T12:41:20.003Z"
   },
   {
    "duration": 12,
    "start_time": "2021-11-24T12:41:20.012Z"
   },
   {
    "duration": 18,
    "start_time": "2021-11-24T12:41:20.027Z"
   },
   {
    "duration": 9,
    "start_time": "2021-11-24T12:41:20.048Z"
   },
   {
    "duration": 44,
    "start_time": "2021-11-24T12:41:20.060Z"
   },
   {
    "duration": 12,
    "start_time": "2021-11-24T12:41:20.107Z"
   },
   {
    "duration": 10,
    "start_time": "2021-11-24T12:41:20.122Z"
   },
   {
    "duration": 8,
    "start_time": "2021-11-24T12:41:20.135Z"
   },
   {
    "duration": 55,
    "start_time": "2021-11-24T12:41:20.145Z"
   },
   {
    "duration": 33,
    "start_time": "2021-11-24T12:41:20.203Z"
   },
   {
    "duration": 244,
    "start_time": "2021-11-24T12:41:20.238Z"
   },
   {
    "duration": 18,
    "start_time": "2021-11-24T12:41:20.485Z"
   },
   {
    "duration": 241,
    "start_time": "2021-11-24T12:41:20.506Z"
   },
   {
    "duration": 433,
    "start_time": "2021-11-24T12:41:20.750Z"
   },
   {
    "duration": 234,
    "start_time": "2021-11-24T12:41:21.185Z"
   },
   {
    "duration": 8,
    "start_time": "2021-11-24T12:41:21.422Z"
   },
   {
    "duration": 238,
    "start_time": "2021-11-24T12:41:21.432Z"
   },
   {
    "duration": 404,
    "start_time": "2021-11-24T12:41:21.673Z"
   },
   {
    "duration": 240,
    "start_time": "2021-11-24T12:41:22.079Z"
   },
   {
    "duration": 8,
    "start_time": "2021-11-24T12:41:22.322Z"
   },
   {
    "duration": 339,
    "start_time": "2021-11-24T12:41:22.332Z"
   },
   {
    "duration": 404,
    "start_time": "2021-11-24T12:41:22.674Z"
   },
   {
    "duration": 5,
    "start_time": "2021-11-24T12:41:23.081Z"
   },
   {
    "duration": 17,
    "start_time": "2021-11-24T12:41:23.089Z"
   },
   {
    "duration": 9,
    "start_time": "2021-11-24T12:41:23.108Z"
   },
   {
    "duration": 11,
    "start_time": "2021-11-24T12:41:23.120Z"
   },
   {
    "duration": 10,
    "start_time": "2021-11-24T12:41:23.134Z"
   },
   {
    "duration": 56,
    "start_time": "2021-11-24T12:41:23.146Z"
   },
   {
    "duration": 7,
    "start_time": "2021-11-24T12:41:23.210Z"
   },
   {
    "duration": 9,
    "start_time": "2021-11-24T12:41:23.221Z"
   },
   {
    "duration": 8,
    "start_time": "2021-11-24T12:41:23.234Z"
   },
   {
    "duration": 57,
    "start_time": "2021-11-24T12:41:23.245Z"
   },
   {
    "duration": 388,
    "start_time": "2021-11-24T12:41:23.306Z"
   },
   {
    "duration": 363,
    "start_time": "2021-11-24T12:41:23.700Z"
   },
   {
    "duration": 391,
    "start_time": "2021-11-24T12:41:24.066Z"
   },
   {
    "duration": 360,
    "start_time": "2021-11-24T12:41:24.459Z"
   },
   {
    "duration": 408,
    "start_time": "2021-11-24T12:41:24.821Z"
   },
   {
    "duration": 8,
    "start_time": "2021-11-24T12:41:25.232Z"
   },
   {
    "duration": 10,
    "start_time": "2021-11-24T12:41:25.243Z"
   },
   {
    "duration": 45,
    "start_time": "2021-11-24T12:41:25.257Z"
   },
   {
    "duration": 109,
    "start_time": "2021-11-24T12:41:25.305Z"
   },
   {
    "duration": 6,
    "start_time": "2021-11-24T12:41:25.418Z"
   },
   {
    "duration": 79,
    "start_time": "2021-11-24T12:41:25.427Z"
   },
   {
    "duration": 15,
    "start_time": "2021-11-24T12:41:25.509Z"
   },
   {
    "duration": 8,
    "start_time": "2021-11-24T12:41:25.527Z"
   },
   {
    "duration": 12,
    "start_time": "2021-11-24T12:41:25.539Z"
   },
   {
    "duration": 1415,
    "start_time": "2021-11-24T17:44:26.428Z"
   },
   {
    "duration": 656,
    "start_time": "2021-11-24T17:44:27.846Z"
   },
   {
    "duration": 150,
    "start_time": "2021-11-24T17:44:28.506Z"
   },
   {
    "duration": 84,
    "start_time": "2021-11-24T17:44:28.659Z"
   },
   {
    "duration": 16,
    "start_time": "2021-11-24T17:44:28.746Z"
   },
   {
    "duration": 29,
    "start_time": "2021-11-24T17:44:28.783Z"
   },
   {
    "duration": 157,
    "start_time": "2021-11-24T17:44:28.815Z"
   },
   {
    "duration": 114,
    "start_time": "2021-11-24T17:44:28.985Z"
   },
   {
    "duration": 34,
    "start_time": "2021-11-24T17:44:29.102Z"
   },
   {
    "duration": 44,
    "start_time": "2021-11-24T17:44:29.138Z"
   },
   {
    "duration": 63,
    "start_time": "2021-11-24T17:44:29.185Z"
   },
   {
    "duration": 81,
    "start_time": "2021-11-24T17:44:29.250Z"
   },
   {
    "duration": 58,
    "start_time": "2021-11-24T17:44:29.334Z"
   },
   {
    "duration": 46,
    "start_time": "2021-11-24T17:44:29.395Z"
   },
   {
    "duration": 84,
    "start_time": "2021-11-24T17:44:29.444Z"
   },
   {
    "duration": 73,
    "start_time": "2021-11-24T17:44:29.531Z"
   },
   {
    "duration": 26,
    "start_time": "2021-11-24T17:44:29.607Z"
   },
   {
    "duration": 82,
    "start_time": "2021-11-24T17:44:29.635Z"
   },
   {
    "duration": 34,
    "start_time": "2021-11-24T17:44:29.719Z"
   },
   {
    "duration": 36,
    "start_time": "2021-11-24T17:44:29.755Z"
   },
   {
    "duration": 36,
    "start_time": "2021-11-24T17:44:29.793Z"
   },
   {
    "duration": 15,
    "start_time": "2021-11-24T17:44:29.832Z"
   },
   {
    "duration": 5,
    "start_time": "2021-11-24T17:44:29.881Z"
   },
   {
    "duration": 43,
    "start_time": "2021-11-24T17:44:29.890Z"
   },
   {
    "duration": 528,
    "start_time": "2021-11-24T17:44:29.935Z"
   },
   {
    "duration": 38,
    "start_time": "2021-11-24T17:44:30.465Z"
   },
   {
    "duration": 328,
    "start_time": "2021-11-24T17:44:30.506Z"
   },
   {
    "duration": 11,
    "start_time": "2021-11-24T17:44:30.837Z"
   },
   {
    "duration": 235,
    "start_time": "2021-11-24T17:44:30.851Z"
   },
   {
    "duration": 481,
    "start_time": "2021-11-24T17:44:31.089Z"
   },
   {
    "duration": 211,
    "start_time": "2021-11-24T17:44:31.573Z"
   },
   {
    "duration": 8,
    "start_time": "2021-11-24T17:44:31.786Z"
   },
   {
    "duration": 338,
    "start_time": "2021-11-24T17:44:31.796Z"
   },
   {
    "duration": 469,
    "start_time": "2021-11-24T17:44:32.137Z"
   },
   {
    "duration": 253,
    "start_time": "2021-11-24T17:44:32.609Z"
   },
   {
    "duration": 8,
    "start_time": "2021-11-24T17:44:32.864Z"
   },
   {
    "duration": 226,
    "start_time": "2021-11-24T17:44:32.881Z"
   },
   {
    "duration": 403,
    "start_time": "2021-11-24T17:44:33.110Z"
   },
   {
    "duration": 5,
    "start_time": "2021-11-24T17:44:33.516Z"
   },
   {
    "duration": 6,
    "start_time": "2021-11-24T17:44:33.524Z"
   },
   {
    "duration": 7,
    "start_time": "2021-11-24T17:44:33.533Z"
   },
   {
    "duration": 43,
    "start_time": "2021-11-24T17:44:33.543Z"
   },
   {
    "duration": 8,
    "start_time": "2021-11-24T17:44:33.589Z"
   },
   {
    "duration": 9,
    "start_time": "2021-11-24T17:44:33.600Z"
   },
   {
    "duration": 7,
    "start_time": "2021-11-24T17:44:33.612Z"
   },
   {
    "duration": 8,
    "start_time": "2021-11-24T17:44:33.621Z"
   },
   {
    "duration": 53,
    "start_time": "2021-11-24T17:44:33.632Z"
   },
   {
    "duration": 8,
    "start_time": "2021-11-24T17:44:33.688Z"
   },
   {
    "duration": 50,
    "start_time": "2021-11-24T17:44:33.699Z"
   },
   {
    "duration": 315,
    "start_time": "2021-11-24T17:44:33.752Z"
   },
   {
    "duration": 18,
    "start_time": "2021-11-24T17:44:34.071Z"
   },
   {
    "duration": 304,
    "start_time": "2021-11-24T17:44:34.092Z"
   },
   {
    "duration": 398,
    "start_time": "2021-11-24T17:44:34.398Z"
   },
   {
    "duration": 324,
    "start_time": "2021-11-24T17:44:34.799Z"
   },
   {
    "duration": 10,
    "start_time": "2021-11-24T17:44:35.126Z"
   },
   {
    "duration": 221,
    "start_time": "2021-11-24T17:44:35.139Z"
   },
   {
    "duration": 375,
    "start_time": "2021-11-24T17:44:35.363Z"
   },
   {
    "duration": 225,
    "start_time": "2021-11-24T17:44:35.741Z"
   },
   {
    "duration": 17,
    "start_time": "2021-11-24T17:44:35.969Z"
   },
   {
    "duration": 427,
    "start_time": "2021-11-24T17:44:35.989Z"
   },
   {
    "duration": 689,
    "start_time": "2021-11-24T17:44:36.419Z"
   },
   {
    "duration": 8,
    "start_time": "2021-11-24T17:44:37.112Z"
   },
   {
    "duration": 18,
    "start_time": "2021-11-24T17:44:37.123Z"
   },
   {
    "duration": 25,
    "start_time": "2021-11-24T17:44:37.144Z"
   },
   {
    "duration": 16,
    "start_time": "2021-11-24T17:44:37.172Z"
   },
   {
    "duration": 9,
    "start_time": "2021-11-24T17:44:37.190Z"
   },
   {
    "duration": 13,
    "start_time": "2021-11-24T17:44:37.201Z"
   },
   {
    "duration": 11,
    "start_time": "2021-11-24T17:44:37.222Z"
   },
   {
    "duration": 18,
    "start_time": "2021-11-24T17:44:37.235Z"
   },
   {
    "duration": 28,
    "start_time": "2021-11-24T17:44:37.255Z"
   },
   {
    "duration": 5,
    "start_time": "2021-11-24T17:44:37.285Z"
   },
   {
    "duration": 345,
    "start_time": "2021-11-24T17:44:37.292Z"
   },
   {
    "duration": 364,
    "start_time": "2021-11-24T17:44:37.640Z"
   },
   {
    "duration": 365,
    "start_time": "2021-11-24T17:44:38.007Z"
   },
   {
    "duration": 333,
    "start_time": "2021-11-24T17:44:38.382Z"
   },
   {
    "duration": 338,
    "start_time": "2021-11-24T17:44:38.717Z"
   },
   {
    "duration": 23,
    "start_time": "2021-11-24T17:44:39.059Z"
   },
   {
    "duration": 6,
    "start_time": "2021-11-24T17:44:39.085Z"
   },
   {
    "duration": 7,
    "start_time": "2021-11-24T17:44:39.093Z"
   },
   {
    "duration": 118,
    "start_time": "2021-11-24T17:44:39.103Z"
   },
   {
    "duration": 6,
    "start_time": "2021-11-24T17:44:39.223Z"
   },
   {
    "duration": 57,
    "start_time": "2021-11-24T17:44:39.232Z"
   },
   {
    "duration": 11,
    "start_time": "2021-11-24T17:44:39.291Z"
   },
   {
    "duration": 13,
    "start_time": "2021-11-24T17:44:39.305Z"
   },
   {
    "duration": 9,
    "start_time": "2021-11-24T17:44:39.320Z"
   },
   {
    "duration": 4,
    "start_time": "2021-11-24T17:51:33.992Z"
   },
   {
    "duration": 541,
    "start_time": "2021-11-24T17:51:33.999Z"
   },
   {
    "duration": 91,
    "start_time": "2021-11-24T17:51:34.543Z"
   },
   {
    "duration": 61,
    "start_time": "2021-11-24T17:51:34.637Z"
   },
   {
    "duration": 12,
    "start_time": "2021-11-24T17:51:34.701Z"
   },
   {
    "duration": 26,
    "start_time": "2021-11-24T17:51:34.715Z"
   },
   {
    "duration": 125,
    "start_time": "2021-11-24T17:51:34.743Z"
   },
   {
    "duration": 93,
    "start_time": "2021-11-24T17:51:34.870Z"
   },
   {
    "duration": 46,
    "start_time": "2021-11-24T17:51:34.967Z"
   },
   {
    "duration": 12,
    "start_time": "2021-11-24T17:51:35.016Z"
   },
   {
    "duration": 100,
    "start_time": "2021-11-24T17:51:35.030Z"
   },
   {
    "duration": 80,
    "start_time": "2021-11-24T17:51:35.132Z"
   },
   {
    "duration": 29,
    "start_time": "2021-11-24T17:51:35.214Z"
   },
   {
    "duration": 71,
    "start_time": "2021-11-24T17:51:35.246Z"
   },
   {
    "duration": 106,
    "start_time": "2021-11-24T17:51:35.320Z"
   },
   {
    "duration": 75,
    "start_time": "2021-11-24T17:51:35.429Z"
   },
   {
    "duration": 26,
    "start_time": "2021-11-24T17:51:35.507Z"
   },
   {
    "duration": 80,
    "start_time": "2021-11-24T17:51:35.536Z"
   },
   {
    "duration": 36,
    "start_time": "2021-11-24T17:51:35.619Z"
   },
   {
    "duration": 41,
    "start_time": "2021-11-24T17:51:35.657Z"
   },
   {
    "duration": 59,
    "start_time": "2021-11-24T17:51:35.701Z"
   },
   {
    "duration": 17,
    "start_time": "2021-11-24T17:51:35.782Z"
   },
   {
    "duration": 4,
    "start_time": "2021-11-24T17:51:35.802Z"
   },
   {
    "duration": 40,
    "start_time": "2021-11-24T17:51:35.808Z"
   },
   {
    "duration": 493,
    "start_time": "2021-11-24T17:51:35.882Z"
   },
   {
    "duration": 32,
    "start_time": "2021-11-24T17:51:36.382Z"
   },
   {
    "duration": 6,
    "start_time": "2021-11-24T17:51:43.361Z"
   },
   {
    "duration": 7,
    "start_time": "2021-11-24T17:52:08.301Z"
   },
   {
    "duration": 6,
    "start_time": "2021-11-24T17:52:12.864Z"
   },
   {
    "duration": 12,
    "start_time": "2021-11-24T17:53:42.747Z"
   },
   {
    "duration": 7,
    "start_time": "2021-11-24T17:53:45.795Z"
   },
   {
    "duration": 8,
    "start_time": "2021-11-24T17:54:31.239Z"
   },
   {
    "duration": 6,
    "start_time": "2021-11-24T17:54:33.778Z"
   },
   {
    "duration": 4,
    "start_time": "2021-11-24T17:54:38.742Z"
   },
   {
    "duration": 514,
    "start_time": "2021-11-24T17:54:38.749Z"
   },
   {
    "duration": 91,
    "start_time": "2021-11-24T17:54:39.266Z"
   },
   {
    "duration": 58,
    "start_time": "2021-11-24T17:54:39.359Z"
   },
   {
    "duration": 11,
    "start_time": "2021-11-24T17:54:39.419Z"
   },
   {
    "duration": 23,
    "start_time": "2021-11-24T17:54:39.432Z"
   },
   {
    "duration": 107,
    "start_time": "2021-11-24T17:54:39.481Z"
   },
   {
    "duration": 107,
    "start_time": "2021-11-24T17:54:39.592Z"
   },
   {
    "duration": 34,
    "start_time": "2021-11-24T17:54:39.702Z"
   },
   {
    "duration": 13,
    "start_time": "2021-11-24T17:54:39.739Z"
   },
   {
    "duration": 83,
    "start_time": "2021-11-24T17:54:39.755Z"
   },
   {
    "duration": 77,
    "start_time": "2021-11-24T17:54:39.841Z"
   },
   {
    "duration": 30,
    "start_time": "2021-11-24T17:54:39.920Z"
   },
   {
    "duration": 72,
    "start_time": "2021-11-24T17:54:39.952Z"
   },
   {
    "duration": 82,
    "start_time": "2021-11-24T17:54:40.026Z"
   },
   {
    "duration": 74,
    "start_time": "2021-11-24T17:54:40.110Z"
   },
   {
    "duration": 28,
    "start_time": "2021-11-24T17:54:40.186Z"
   },
   {
    "duration": 155,
    "start_time": "2021-11-24T17:54:40.216Z"
   },
   {
    "duration": 39,
    "start_time": "2021-11-24T17:54:40.373Z"
   },
   {
    "duration": 13,
    "start_time": "2021-11-24T17:54:40.415Z"
   },
   {
    "duration": 69,
    "start_time": "2021-11-24T17:54:40.430Z"
   },
   {
    "duration": 18,
    "start_time": "2021-11-24T17:54:40.502Z"
   },
   {
    "duration": 5,
    "start_time": "2021-11-24T17:54:40.525Z"
   },
   {
    "duration": 6,
    "start_time": "2021-11-24T17:54:43.034Z"
   },
   {
    "duration": 44,
    "start_time": "2021-11-24T17:54:45.093Z"
   },
   {
    "duration": 6,
    "start_time": "2021-11-24T17:54:46.777Z"
   },
   {
    "duration": 513,
    "start_time": "2021-11-24T17:58:06.858Z"
   },
   {
    "duration": 409,
    "start_time": "2021-11-24T17:58:13.175Z"
   },
   {
    "duration": 548,
    "start_time": "2021-11-24T17:58:15.738Z"
   },
   {
    "duration": 35,
    "start_time": "2021-11-24T17:58:50.228Z"
   },
   {
    "duration": 52,
    "start_time": "2021-11-24T17:59:05.249Z"
   },
   {
    "duration": 8,
    "start_time": "2021-11-24T18:02:29.091Z"
   },
   {
    "duration": 1075,
    "start_time": "2021-11-24T18:57:43.668Z"
   },
   {
    "duration": 405,
    "start_time": "2021-11-24T18:57:45.446Z"
   },
   {
    "duration": 3,
    "start_time": "2021-11-24T18:58:09.399Z"
   },
   {
    "duration": 436,
    "start_time": "2021-11-24T18:58:09.406Z"
   },
   {
    "duration": 74,
    "start_time": "2021-11-24T18:58:09.844Z"
   },
   {
    "duration": 49,
    "start_time": "2021-11-24T18:58:09.920Z"
   },
   {
    "duration": 9,
    "start_time": "2021-11-24T18:58:09.971Z"
   },
   {
    "duration": 26,
    "start_time": "2021-11-24T18:58:09.981Z"
   },
   {
    "duration": 90,
    "start_time": "2021-11-24T18:58:10.009Z"
   },
   {
    "duration": 78,
    "start_time": "2021-11-24T18:58:10.100Z"
   },
   {
    "duration": 23,
    "start_time": "2021-11-24T18:58:10.181Z"
   },
   {
    "duration": 8,
    "start_time": "2021-11-24T18:58:10.206Z"
   },
   {
    "duration": 72,
    "start_time": "2021-11-24T18:58:10.216Z"
   },
   {
    "duration": 43,
    "start_time": "2021-11-24T18:58:10.290Z"
   },
   {
    "duration": 46,
    "start_time": "2021-11-24T18:58:10.334Z"
   },
   {
    "duration": 34,
    "start_time": "2021-11-24T18:58:10.382Z"
   },
   {
    "duration": 56,
    "start_time": "2021-11-24T18:58:10.417Z"
   },
   {
    "duration": 31,
    "start_time": "2021-11-24T18:58:10.474Z"
   },
   {
    "duration": 17,
    "start_time": "2021-11-24T18:58:10.507Z"
   },
   {
    "duration": 62,
    "start_time": "2021-11-24T18:58:10.526Z"
   },
   {
    "duration": 22,
    "start_time": "2021-11-24T18:58:10.590Z"
   },
   {
    "duration": 8,
    "start_time": "2021-11-24T18:58:10.614Z"
   },
   {
    "duration": 62,
    "start_time": "2021-11-24T18:58:10.623Z"
   },
   {
    "duration": 11,
    "start_time": "2021-11-24T18:58:10.687Z"
   },
   {
    "duration": 4,
    "start_time": "2021-11-24T18:58:10.699Z"
   },
   {
    "duration": 56,
    "start_time": "2021-11-24T18:58:10.707Z"
   },
   {
    "duration": 303,
    "start_time": "2021-11-24T18:58:10.766Z"
   },
   {
    "duration": 20,
    "start_time": "2021-11-24T18:58:11.070Z"
   },
   {
    "duration": 150,
    "start_time": "2021-11-24T18:58:11.092Z"
   },
   {
    "duration": 4,
    "start_time": "2021-11-24T18:58:11.244Z"
   },
   {
    "duration": 15,
    "start_time": "2021-11-24T18:58:11.249Z"
   },
   {
    "duration": 141,
    "start_time": "2021-11-24T18:58:11.266Z"
   },
   {
    "duration": 221,
    "start_time": "2021-11-24T18:58:11.409Z"
   },
   {
    "duration": 122,
    "start_time": "2021-11-24T18:58:11.632Z"
   },
   {
    "duration": 6,
    "start_time": "2021-11-24T18:58:11.763Z"
   },
   {
    "duration": 136,
    "start_time": "2021-11-24T18:58:11.770Z"
   },
   {
    "duration": 269,
    "start_time": "2021-11-24T18:58:11.908Z"
   },
   {
    "duration": 132,
    "start_time": "2021-11-24T18:58:12.179Z"
   },
   {
    "duration": 6,
    "start_time": "2021-11-24T18:58:12.312Z"
   },
   {
    "duration": 130,
    "start_time": "2021-11-24T18:58:12.320Z"
   },
   {
    "duration": 227,
    "start_time": "2021-11-24T18:58:12.452Z"
   },
   {
    "duration": 4,
    "start_time": "2021-11-24T18:58:12.681Z"
   },
   {
    "duration": 14,
    "start_time": "2021-11-24T18:58:12.687Z"
   },
   {
    "duration": 20,
    "start_time": "2021-11-24T18:58:12.703Z"
   },
   {
    "duration": 16,
    "start_time": "2021-11-24T18:58:12.725Z"
   },
   {
    "duration": 24,
    "start_time": "2021-11-24T18:58:12.743Z"
   },
   {
    "duration": 28,
    "start_time": "2021-11-24T18:58:12.769Z"
   },
   {
    "duration": 18,
    "start_time": "2021-11-24T18:58:12.799Z"
   },
   {
    "duration": 11,
    "start_time": "2021-11-24T18:58:12.819Z"
   },
   {
    "duration": 20,
    "start_time": "2021-11-24T18:58:12.832Z"
   },
   {
    "duration": 19,
    "start_time": "2021-11-24T18:58:12.853Z"
   },
   {
    "duration": 28,
    "start_time": "2021-11-24T18:58:12.874Z"
   },
   {
    "duration": 127,
    "start_time": "2021-11-24T18:58:12.904Z"
   },
   {
    "duration": 6,
    "start_time": "2021-11-24T18:58:13.032Z"
   },
   {
    "duration": 164,
    "start_time": "2021-11-24T18:58:13.039Z"
   },
   {
    "duration": 225,
    "start_time": "2021-11-24T18:58:13.205Z"
   },
   {
    "duration": 140,
    "start_time": "2021-11-24T18:58:13.431Z"
   },
   {
    "duration": 6,
    "start_time": "2021-11-24T18:58:13.573Z"
   },
   {
    "duration": 146,
    "start_time": "2021-11-24T18:58:13.581Z"
   },
   {
    "duration": 307,
    "start_time": "2021-11-24T18:58:13.729Z"
   },
   {
    "duration": 163,
    "start_time": "2021-11-24T18:58:14.038Z"
   },
   {
    "duration": 5,
    "start_time": "2021-11-24T18:58:14.203Z"
   },
   {
    "duration": 225,
    "start_time": "2021-11-24T18:58:14.210Z"
   },
   {
    "duration": 226,
    "start_time": "2021-11-24T18:58:14.437Z"
   },
   {
    "duration": 5,
    "start_time": "2021-11-24T18:58:14.664Z"
   },
   {
    "duration": 11,
    "start_time": "2021-11-24T18:58:14.670Z"
   },
   {
    "duration": 14,
    "start_time": "2021-11-24T18:58:14.683Z"
   },
   {
    "duration": 10,
    "start_time": "2021-11-24T18:58:14.699Z"
   },
   {
    "duration": 11,
    "start_time": "2021-11-24T18:58:14.711Z"
   },
   {
    "duration": 15,
    "start_time": "2021-11-24T18:58:14.723Z"
   },
   {
    "duration": 21,
    "start_time": "2021-11-24T18:58:14.743Z"
   },
   {
    "duration": 14,
    "start_time": "2021-11-24T18:58:14.766Z"
   },
   {
    "duration": 16,
    "start_time": "2021-11-24T18:58:14.782Z"
   },
   {
    "duration": 28,
    "start_time": "2021-11-24T18:58:14.800Z"
   },
   {
    "duration": 233,
    "start_time": "2021-11-24T18:58:14.830Z"
   },
   {
    "duration": 217,
    "start_time": "2021-11-24T18:58:15.065Z"
   },
   {
    "duration": 239,
    "start_time": "2021-11-24T18:58:15.284Z"
   },
   {
    "duration": 203,
    "start_time": "2021-11-24T18:58:15.524Z"
   },
   {
    "duration": 219,
    "start_time": "2021-11-24T18:58:15.729Z"
   },
   {
    "duration": 42,
    "start_time": "2021-11-24T18:58:15.949Z"
   },
   {
    "duration": 6,
    "start_time": "2021-11-24T18:58:15.992Z"
   },
   {
    "duration": 8,
    "start_time": "2021-11-24T18:58:16.000Z"
   },
   {
    "duration": 34,
    "start_time": "2021-11-24T18:58:16.009Z"
   },
   {
    "duration": 66,
    "start_time": "2021-11-24T18:58:16.044Z"
   },
   {
    "duration": 4,
    "start_time": "2021-11-24T18:58:16.112Z"
   },
   {
    "duration": 23,
    "start_time": "2021-11-24T18:58:16.118Z"
   },
   {
    "duration": 23,
    "start_time": "2021-11-24T18:58:16.143Z"
   },
   {
    "duration": 19,
    "start_time": "2021-11-24T18:58:16.167Z"
   },
   {
    "duration": 9,
    "start_time": "2021-11-24T18:58:16.188Z"
   },
   {
    "duration": 1496,
    "start_time": "2021-11-25T08:47:55.056Z"
   },
   {
    "duration": 374,
    "start_time": "2021-11-25T08:47:56.554Z"
   },
   {
    "duration": 67,
    "start_time": "2021-11-25T08:47:56.930Z"
   },
   {
    "duration": 32,
    "start_time": "2021-11-25T08:47:56.999Z"
   },
   {
    "duration": 8,
    "start_time": "2021-11-25T08:47:57.032Z"
   },
   {
    "duration": 12,
    "start_time": "2021-11-25T08:47:57.042Z"
   },
   {
    "duration": 85,
    "start_time": "2021-11-25T08:47:57.056Z"
   },
   {
    "duration": 56,
    "start_time": "2021-11-25T08:47:57.144Z"
   },
   {
    "duration": 21,
    "start_time": "2021-11-25T08:47:57.202Z"
   },
   {
    "duration": 9,
    "start_time": "2021-11-25T08:47:57.225Z"
   },
   {
    "duration": 67,
    "start_time": "2021-11-25T08:47:57.236Z"
   },
   {
    "duration": 39,
    "start_time": "2021-11-25T08:47:57.305Z"
   },
   {
    "duration": 19,
    "start_time": "2021-11-25T08:47:57.346Z"
   },
   {
    "duration": 34,
    "start_time": "2021-11-25T08:47:57.387Z"
   },
   {
    "duration": 34,
    "start_time": "2021-11-25T08:47:57.422Z"
   },
   {
    "duration": 45,
    "start_time": "2021-11-25T08:47:57.457Z"
   },
   {
    "duration": 14,
    "start_time": "2021-11-25T08:47:57.504Z"
   },
   {
    "duration": 27,
    "start_time": "2021-11-25T08:47:57.520Z"
   },
   {
    "duration": 49,
    "start_time": "2021-11-25T08:47:57.548Z"
   },
   {
    "duration": 8,
    "start_time": "2021-11-25T08:47:57.598Z"
   },
   {
    "duration": 20,
    "start_time": "2021-11-25T08:47:57.608Z"
   },
   {
    "duration": 10,
    "start_time": "2021-11-25T08:47:57.629Z"
   },
   {
    "duration": 3,
    "start_time": "2021-11-25T08:47:57.643Z"
   },
   {
    "duration": 51,
    "start_time": "2021-11-25T08:47:57.649Z"
   },
   {
    "duration": 277,
    "start_time": "2021-11-25T08:47:57.702Z"
   },
   {
    "duration": 20,
    "start_time": "2021-11-25T08:47:57.981Z"
   },
   {
    "duration": 130,
    "start_time": "2021-11-25T08:47:58.002Z"
   },
   {
    "duration": 4,
    "start_time": "2021-11-25T08:47:58.134Z"
   },
   {
    "duration": 10,
    "start_time": "2021-11-25T08:47:58.139Z"
   },
   {
    "duration": 128,
    "start_time": "2021-11-25T08:47:58.150Z"
   },
   {
    "duration": 204,
    "start_time": "2021-11-25T08:47:58.280Z"
   },
   {
    "duration": 117,
    "start_time": "2021-11-25T08:47:58.485Z"
   },
   {
    "duration": 5,
    "start_time": "2021-11-25T08:47:58.604Z"
   },
   {
    "duration": 128,
    "start_time": "2021-11-25T08:47:58.610Z"
   },
   {
    "duration": 242,
    "start_time": "2021-11-25T08:47:58.740Z"
   },
   {
    "duration": 125,
    "start_time": "2021-11-25T08:47:58.984Z"
   },
   {
    "duration": 5,
    "start_time": "2021-11-25T08:47:59.111Z"
   },
   {
    "duration": 118,
    "start_time": "2021-11-25T08:47:59.117Z"
   },
   {
    "duration": 206,
    "start_time": "2021-11-25T08:47:59.237Z"
   },
   {
    "duration": 6,
    "start_time": "2021-11-25T08:47:59.445Z"
   },
   {
    "duration": 6,
    "start_time": "2021-11-25T08:47:59.452Z"
   },
   {
    "duration": 29,
    "start_time": "2021-11-25T08:47:59.460Z"
   },
   {
    "duration": 5,
    "start_time": "2021-11-25T08:47:59.491Z"
   },
   {
    "duration": 5,
    "start_time": "2021-11-25T08:47:59.498Z"
   },
   {
    "duration": 6,
    "start_time": "2021-11-25T08:47:59.505Z"
   },
   {
    "duration": 8,
    "start_time": "2021-11-25T08:47:59.512Z"
   },
   {
    "duration": 5,
    "start_time": "2021-11-25T08:47:59.522Z"
   },
   {
    "duration": 10,
    "start_time": "2021-11-25T08:47:59.529Z"
   },
   {
    "duration": 4,
    "start_time": "2021-11-25T08:47:59.541Z"
   },
   {
    "duration": 52,
    "start_time": "2021-11-25T08:47:59.546Z"
   },
   {
    "duration": 121,
    "start_time": "2021-11-25T08:47:59.600Z"
   },
   {
    "duration": 5,
    "start_time": "2021-11-25T08:47:59.723Z"
   },
   {
    "duration": 126,
    "start_time": "2021-11-25T08:47:59.730Z"
   },
   {
    "duration": 229,
    "start_time": "2021-11-25T08:47:59.858Z"
   },
   {
    "duration": 125,
    "start_time": "2021-11-25T08:48:00.089Z"
   },
   {
    "duration": 6,
    "start_time": "2021-11-25T08:48:00.216Z"
   },
   {
    "duration": 131,
    "start_time": "2021-11-25T08:48:00.223Z"
   },
   {
    "duration": 210,
    "start_time": "2021-11-25T08:48:00.356Z"
   },
   {
    "duration": 127,
    "start_time": "2021-11-25T08:48:00.567Z"
   },
   {
    "duration": 5,
    "start_time": "2021-11-25T08:48:00.695Z"
   },
   {
    "duration": 186,
    "start_time": "2021-11-25T08:48:00.701Z"
   },
   {
    "duration": 213,
    "start_time": "2021-11-25T08:48:00.889Z"
   },
   {
    "duration": 4,
    "start_time": "2021-11-25T08:48:01.104Z"
   },
   {
    "duration": 21,
    "start_time": "2021-11-25T08:48:01.109Z"
   },
   {
    "duration": 16,
    "start_time": "2021-11-25T08:48:01.131Z"
   },
   {
    "duration": 20,
    "start_time": "2021-11-25T08:48:01.149Z"
   },
   {
    "duration": 23,
    "start_time": "2021-11-25T08:48:01.170Z"
   },
   {
    "duration": 21,
    "start_time": "2021-11-25T08:48:01.197Z"
   },
   {
    "duration": 54,
    "start_time": "2021-11-25T08:48:01.219Z"
   },
   {
    "duration": 26,
    "start_time": "2021-11-25T08:48:01.274Z"
   },
   {
    "duration": 26,
    "start_time": "2021-11-25T08:48:01.302Z"
   },
   {
    "duration": 23,
    "start_time": "2021-11-25T08:48:01.330Z"
   },
   {
    "duration": 226,
    "start_time": "2021-11-25T08:48:01.355Z"
   },
   {
    "duration": 199,
    "start_time": "2021-11-25T08:48:01.583Z"
   },
   {
    "duration": 202,
    "start_time": "2021-11-25T08:48:01.787Z"
   },
   {
    "duration": 196,
    "start_time": "2021-11-25T08:48:01.991Z"
   },
   {
    "duration": 186,
    "start_time": "2021-11-25T08:48:02.189Z"
   },
   {
    "duration": 38,
    "start_time": "2021-11-25T08:48:02.377Z"
   },
   {
    "duration": 7,
    "start_time": "2021-11-25T08:48:02.417Z"
   },
   {
    "duration": 24,
    "start_time": "2021-11-25T08:48:02.425Z"
   },
   {
    "duration": 15,
    "start_time": "2021-11-25T08:48:02.451Z"
   },
   {
    "duration": 53,
    "start_time": "2021-11-25T08:48:02.467Z"
   },
   {
    "duration": 4,
    "start_time": "2021-11-25T08:48:02.522Z"
   },
   {
    "duration": 21,
    "start_time": "2021-11-25T08:48:02.527Z"
   },
   {
    "duration": 12,
    "start_time": "2021-11-25T08:48:02.549Z"
   },
   {
    "duration": 22,
    "start_time": "2021-11-25T08:48:02.562Z"
   },
   {
    "duration": 13,
    "start_time": "2021-11-25T08:48:02.586Z"
   },
   {
    "duration": 12,
    "start_time": "2021-11-25T09:23:14.414Z"
   },
   {
    "duration": 17,
    "start_time": "2021-11-25T09:23:28.171Z"
   },
   {
    "duration": 21,
    "start_time": "2021-11-25T09:36:12.668Z"
   },
   {
    "duration": 7,
    "start_time": "2021-11-25T10:42:48.837Z"
   },
   {
    "duration": 3,
    "start_time": "2021-11-25T10:42:55.194Z"
   },
   {
    "duration": 428,
    "start_time": "2021-11-25T10:42:55.203Z"
   },
   {
    "duration": 63,
    "start_time": "2021-11-25T10:42:55.633Z"
   },
   {
    "duration": 28,
    "start_time": "2021-11-25T10:42:55.698Z"
   },
   {
    "duration": 8,
    "start_time": "2021-11-25T10:42:58.649Z"
   },
   {
    "duration": 10,
    "start_time": "2021-11-25T10:43:06.481Z"
   },
   {
    "duration": 17,
    "start_time": "2021-11-25T10:43:13.830Z"
   },
   {
    "duration": 19,
    "start_time": "2021-11-25T10:44:04.303Z"
   },
   {
    "duration": 13,
    "start_time": "2021-11-25T10:45:28.524Z"
   },
   {
    "duration": 28,
    "start_time": "2021-11-25T10:47:53.312Z"
   },
   {
    "duration": 3,
    "start_time": "2021-11-25T10:47:58.376Z"
   },
   {
    "duration": 382,
    "start_time": "2021-11-25T10:47:58.384Z"
   },
   {
    "duration": 58,
    "start_time": "2021-11-25T10:47:58.768Z"
   },
   {
    "duration": 26,
    "start_time": "2021-11-25T10:47:58.828Z"
   },
   {
    "duration": 7,
    "start_time": "2021-11-25T10:47:58.856Z"
   },
   {
    "duration": 31,
    "start_time": "2021-11-25T10:47:58.865Z"
   },
   {
    "duration": 65,
    "start_time": "2021-11-25T10:47:58.898Z"
   },
   {
    "duration": 66,
    "start_time": "2021-11-25T10:47:58.965Z"
   },
   {
    "duration": 20,
    "start_time": "2021-11-25T10:47:59.033Z"
   },
   {
    "duration": 41,
    "start_time": "2021-11-25T10:47:59.055Z"
   },
   {
    "duration": 16,
    "start_time": "2021-11-25T10:47:59.097Z"
   },
   {
    "duration": 50,
    "start_time": "2021-11-25T10:47:59.115Z"
   },
   {
    "duration": 48,
    "start_time": "2021-11-25T10:47:59.166Z"
   },
   {
    "duration": 17,
    "start_time": "2021-11-25T10:47:59.216Z"
   },
   {
    "duration": 54,
    "start_time": "2021-11-25T10:47:59.234Z"
   },
   {
    "duration": 33,
    "start_time": "2021-11-25T10:47:59.289Z"
   },
   {
    "duration": 30,
    "start_time": "2021-11-25T10:47:59.323Z"
   },
   {
    "duration": 50,
    "start_time": "2021-11-25T10:47:59.354Z"
   },
   {
    "duration": 40,
    "start_time": "2021-11-25T10:47:59.406Z"
   },
   {
    "duration": 21,
    "start_time": "2021-11-25T10:47:59.448Z"
   },
   {
    "duration": 8,
    "start_time": "2021-11-25T10:47:59.488Z"
   },
   {
    "duration": 42,
    "start_time": "2021-11-25T10:47:59.498Z"
   },
   {
    "duration": 13,
    "start_time": "2021-11-25T10:47:59.542Z"
   },
   {
    "duration": 4,
    "start_time": "2021-11-25T10:47:59.558Z"
   },
   {
    "duration": 21,
    "start_time": "2021-11-25T10:48:03.272Z"
   },
   {
    "duration": 371,
    "start_time": "2021-11-25T10:48:42.062Z"
   },
   {
    "duration": 9,
    "start_time": "2021-11-25T10:49:26.419Z"
   },
   {
    "duration": 25,
    "start_time": "2021-11-25T10:49:56.694Z"
   },
   {
    "duration": 246,
    "start_time": "2021-11-25T10:50:16.035Z"
   },
   {
    "duration": 22,
    "start_time": "2021-11-25T10:50:55.832Z"
   },
   {
    "duration": 277,
    "start_time": "2021-11-25T10:51:15.431Z"
   },
   {
    "duration": 33,
    "start_time": "2021-11-25T10:51:33.783Z"
   },
   {
    "duration": 24,
    "start_time": "2021-11-25T10:51:40.812Z"
   },
   {
    "duration": 273,
    "start_time": "2021-11-25T10:52:49.565Z"
   },
   {
    "duration": 335,
    "start_time": "2021-11-25T10:53:06.342Z"
   },
   {
    "duration": 278,
    "start_time": "2021-11-25T10:53:29.832Z"
   },
   {
    "duration": 3,
    "start_time": "2021-11-25T10:57:57.908Z"
   },
   {
    "duration": 376,
    "start_time": "2021-11-25T10:57:57.916Z"
   },
   {
    "duration": 67,
    "start_time": "2021-11-25T10:57:58.294Z"
   },
   {
    "duration": 47,
    "start_time": "2021-11-25T10:57:58.363Z"
   },
   {
    "duration": 8,
    "start_time": "2021-11-25T10:57:58.412Z"
   },
   {
    "duration": 17,
    "start_time": "2021-11-25T10:57:58.422Z"
   },
   {
    "duration": 95,
    "start_time": "2021-11-25T10:57:58.441Z"
   },
   {
    "duration": 80,
    "start_time": "2021-11-25T10:57:58.537Z"
   },
   {
    "duration": 21,
    "start_time": "2021-11-25T10:57:58.619Z"
   },
   {
    "duration": 47,
    "start_time": "2021-11-25T10:57:58.642Z"
   },
   {
    "duration": 17,
    "start_time": "2021-11-25T10:57:58.691Z"
   },
   {
    "duration": 35,
    "start_time": "2021-11-25T10:57:58.709Z"
   },
   {
    "duration": 73,
    "start_time": "2021-11-25T10:57:58.745Z"
   },
   {
    "duration": 20,
    "start_time": "2021-11-25T10:57:58.820Z"
   },
   {
    "duration": 72,
    "start_time": "2021-11-25T10:57:58.843Z"
   },
   {
    "duration": 36,
    "start_time": "2021-11-25T10:57:58.917Z"
   },
   {
    "duration": 53,
    "start_time": "2021-11-25T10:57:58.954Z"
   },
   {
    "duration": 15,
    "start_time": "2021-11-25T10:57:59.009Z"
   },
   {
    "duration": 34,
    "start_time": "2021-11-25T10:57:59.026Z"
   },
   {
    "duration": 31,
    "start_time": "2021-11-25T10:57:59.089Z"
   },
   {
    "duration": 12,
    "start_time": "2021-11-25T10:57:59.122Z"
   },
   {
    "duration": 22,
    "start_time": "2021-11-25T10:57:59.136Z"
   },
   {
    "duration": 11,
    "start_time": "2021-11-25T10:57:59.188Z"
   },
   {
    "duration": 4,
    "start_time": "2021-11-25T10:57:59.202Z"
   },
   {
    "duration": 26,
    "start_time": "2021-11-25T10:57:59.208Z"
   },
   {
    "duration": 569,
    "start_time": "2021-11-25T10:57:59.236Z"
   },
   {
    "duration": 28,
    "start_time": "2021-11-25T10:57:59.807Z"
   },
   {
    "duration": 217,
    "start_time": "2021-11-25T10:57:59.837Z"
   },
   {
    "duration": 5,
    "start_time": "2021-11-25T10:58:00.056Z"
   },
   {
    "duration": 12,
    "start_time": "2021-11-25T10:58:00.063Z"
   },
   {
    "duration": 134,
    "start_time": "2021-11-25T10:58:00.077Z"
   },
   {
    "duration": 227,
    "start_time": "2021-11-25T10:58:00.212Z"
   },
   {
    "duration": 127,
    "start_time": "2021-11-25T10:58:00.441Z"
   },
   {
    "duration": 18,
    "start_time": "2021-11-25T10:58:00.570Z"
   },
   {
    "duration": 132,
    "start_time": "2021-11-25T10:58:00.590Z"
   },
   {
    "duration": 207,
    "start_time": "2021-11-25T10:58:00.723Z"
   },
   {
    "duration": 130,
    "start_time": "2021-11-25T10:58:00.931Z"
   },
   {
    "duration": 5,
    "start_time": "2021-11-25T10:58:01.062Z"
   },
   {
    "duration": 126,
    "start_time": "2021-11-25T10:58:01.069Z"
   },
   {
    "duration": 292,
    "start_time": "2021-11-25T10:58:01.197Z"
   },
   {
    "duration": 5,
    "start_time": "2021-11-25T10:58:01.491Z"
   },
   {
    "duration": 18,
    "start_time": "2021-11-25T10:58:01.497Z"
   },
   {
    "duration": 16,
    "start_time": "2021-11-25T10:58:01.516Z"
   },
   {
    "duration": 27,
    "start_time": "2021-11-25T10:58:01.534Z"
   },
   {
    "duration": 20,
    "start_time": "2021-11-25T10:58:01.562Z"
   },
   {
    "duration": 11,
    "start_time": "2021-11-25T10:58:01.584Z"
   },
   {
    "duration": 20,
    "start_time": "2021-11-25T10:58:01.597Z"
   },
   {
    "duration": 22,
    "start_time": "2021-11-25T10:58:01.619Z"
   },
   {
    "duration": 37,
    "start_time": "2021-11-25T10:58:01.642Z"
   },
   {
    "duration": 28,
    "start_time": "2021-11-25T10:58:01.680Z"
   },
   {
    "duration": 25,
    "start_time": "2021-11-25T10:58:01.709Z"
   },
   {
    "duration": 114,
    "start_time": "2021-11-25T10:58:01.736Z"
   },
   {
    "duration": 5,
    "start_time": "2021-11-25T10:58:01.852Z"
   },
   {
    "duration": 129,
    "start_time": "2021-11-25T10:58:01.859Z"
   },
   {
    "duration": 324,
    "start_time": "2021-11-25T10:58:01.990Z"
   },
   {
    "duration": 195,
    "start_time": "2021-11-25T10:58:02.316Z"
   },
   {
    "duration": 7,
    "start_time": "2021-11-25T10:58:02.513Z"
   },
   {
    "duration": 187,
    "start_time": "2021-11-25T10:58:02.522Z"
   },
   {
    "duration": 331,
    "start_time": "2021-11-25T10:58:02.711Z"
   },
   {
    "duration": 197,
    "start_time": "2021-11-25T10:58:03.044Z"
   },
   {
    "duration": 7,
    "start_time": "2021-11-25T10:58:03.243Z"
   },
   {
    "duration": 137,
    "start_time": "2021-11-25T10:58:03.252Z"
   },
   {
    "duration": 214,
    "start_time": "2021-11-25T10:58:03.391Z"
   },
   {
    "duration": 5,
    "start_time": "2021-11-25T10:58:03.607Z"
   },
   {
    "duration": 7,
    "start_time": "2021-11-25T10:58:03.613Z"
   },
   {
    "duration": 8,
    "start_time": "2021-11-25T10:58:03.621Z"
   },
   {
    "duration": 6,
    "start_time": "2021-11-25T10:58:03.630Z"
   },
   {
    "duration": 8,
    "start_time": "2021-11-25T10:58:03.637Z"
   },
   {
    "duration": 4,
    "start_time": "2021-11-25T10:58:03.650Z"
   },
   {
    "duration": 34,
    "start_time": "2021-11-25T10:58:03.656Z"
   },
   {
    "duration": 7,
    "start_time": "2021-11-25T10:58:03.691Z"
   },
   {
    "duration": 6,
    "start_time": "2021-11-25T10:58:03.699Z"
   },
   {
    "duration": 6,
    "start_time": "2021-11-25T10:58:03.706Z"
   },
   {
    "duration": 221,
    "start_time": "2021-11-25T10:58:03.713Z"
   },
   {
    "duration": 204,
    "start_time": "2021-11-25T10:58:03.935Z"
   },
   {
    "duration": 217,
    "start_time": "2021-11-25T10:58:04.141Z"
   },
   {
    "duration": 289,
    "start_time": "2021-11-25T10:58:04.359Z"
   },
   {
    "duration": 205,
    "start_time": "2021-11-25T10:58:04.649Z"
   },
   {
    "duration": 39,
    "start_time": "2021-11-25T10:58:04.856Z"
   },
   {
    "duration": 5,
    "start_time": "2021-11-25T10:58:04.897Z"
   },
   {
    "duration": 6,
    "start_time": "2021-11-25T10:58:04.904Z"
   },
   {
    "duration": 8,
    "start_time": "2021-11-25T10:58:04.911Z"
   },
   {
    "duration": 69,
    "start_time": "2021-11-25T10:58:04.920Z"
   },
   {
    "duration": 4,
    "start_time": "2021-11-25T10:58:04.990Z"
   },
   {
    "duration": 19,
    "start_time": "2021-11-25T10:58:04.996Z"
   },
   {
    "duration": 7,
    "start_time": "2021-11-25T10:58:05.017Z"
   },
   {
    "duration": 8,
    "start_time": "2021-11-25T10:58:05.025Z"
   },
   {
    "duration": 8,
    "start_time": "2021-11-25T10:58:05.035Z"
   },
   {
    "duration": 262,
    "start_time": "2021-11-25T11:13:46.328Z"
   },
   {
    "duration": 20,
    "start_time": "2021-11-25T11:14:24.812Z"
   },
   {
    "duration": 124,
    "start_time": "2021-11-25T11:14:29.453Z"
   },
   {
    "duration": 3,
    "start_time": "2021-11-25T11:14:35.402Z"
   },
   {
    "duration": 393,
    "start_time": "2021-11-25T11:14:35.410Z"
   },
   {
    "duration": 62,
    "start_time": "2021-11-25T11:14:35.804Z"
   },
   {
    "duration": 35,
    "start_time": "2021-11-25T11:14:35.868Z"
   },
   {
    "duration": 8,
    "start_time": "2021-11-25T11:14:35.904Z"
   },
   {
    "duration": 20,
    "start_time": "2021-11-25T11:14:35.914Z"
   },
   {
    "duration": 84,
    "start_time": "2021-11-25T11:14:35.936Z"
   },
   {
    "duration": 78,
    "start_time": "2021-11-25T11:14:36.021Z"
   },
   {
    "duration": 22,
    "start_time": "2021-11-25T11:14:36.103Z"
   },
   {
    "duration": 12,
    "start_time": "2021-11-25T11:14:36.127Z"
   },
   {
    "duration": 52,
    "start_time": "2021-11-25T11:14:36.141Z"
   },
   {
    "duration": 34,
    "start_time": "2021-11-25T11:14:36.194Z"
   },
   {
    "duration": 67,
    "start_time": "2021-11-25T11:14:36.229Z"
   },
   {
    "duration": 18,
    "start_time": "2021-11-25T11:14:36.297Z"
   },
   {
    "duration": 30,
    "start_time": "2021-11-25T11:14:36.317Z"
   },
   {
    "duration": 62,
    "start_time": "2021-11-25T11:14:36.348Z"
   },
   {
    "duration": 28,
    "start_time": "2021-11-25T11:14:36.412Z"
   },
   {
    "duration": 48,
    "start_time": "2021-11-25T11:14:36.441Z"
   },
   {
    "duration": 28,
    "start_time": "2021-11-25T11:14:36.491Z"
   },
   {
    "duration": 19,
    "start_time": "2021-11-25T11:14:36.521Z"
   },
   {
    "duration": 7,
    "start_time": "2021-11-25T11:14:36.542Z"
   },
   {
    "duration": 54,
    "start_time": "2021-11-25T11:14:36.551Z"
   },
   {
    "duration": 9,
    "start_time": "2021-11-25T11:14:36.607Z"
   },
   {
    "duration": 14,
    "start_time": "2021-11-25T11:14:36.619Z"
   },
   {
    "duration": 30,
    "start_time": "2021-11-25T11:14:36.636Z"
   },
   {
    "duration": 285,
    "start_time": "2021-11-25T11:14:36.667Z"
   },
   {
    "duration": 19,
    "start_time": "2021-11-25T11:14:36.953Z"
   },
   {
    "duration": 135,
    "start_time": "2021-11-25T11:14:36.973Z"
   },
   {
    "duration": 4,
    "start_time": "2021-11-25T11:14:37.109Z"
   },
   {
    "duration": 16,
    "start_time": "2021-11-25T11:14:37.115Z"
   },
   {
    "duration": 128,
    "start_time": "2021-11-25T11:14:37.132Z"
   },
   {
    "duration": 201,
    "start_time": "2021-11-25T11:14:37.262Z"
   },
   {
    "duration": 125,
    "start_time": "2021-11-25T11:14:37.465Z"
   },
   {
    "duration": 7,
    "start_time": "2021-11-25T11:14:37.591Z"
   },
   {
    "duration": 136,
    "start_time": "2021-11-25T11:14:37.599Z"
   },
   {
    "duration": 204,
    "start_time": "2021-11-25T11:14:37.737Z"
   },
   {
    "duration": 127,
    "start_time": "2021-11-25T11:14:37.943Z"
   },
   {
    "duration": 5,
    "start_time": "2021-11-25T11:14:38.071Z"
   },
   {
    "duration": 123,
    "start_time": "2021-11-25T11:14:38.087Z"
   },
   {
    "duration": 219,
    "start_time": "2021-11-25T11:14:38.212Z"
   },
   {
    "duration": 4,
    "start_time": "2021-11-25T11:14:38.433Z"
   },
   {
    "duration": 21,
    "start_time": "2021-11-25T11:14:38.439Z"
   },
   {
    "duration": 14,
    "start_time": "2021-11-25T11:14:38.462Z"
   },
   {
    "duration": 10,
    "start_time": "2021-11-25T11:14:38.478Z"
   },
   {
    "duration": 21,
    "start_time": "2021-11-25T11:14:38.490Z"
   },
   {
    "duration": 28,
    "start_time": "2021-11-25T11:14:38.512Z"
   },
   {
    "duration": 13,
    "start_time": "2021-11-25T11:14:38.541Z"
   },
   {
    "duration": 24,
    "start_time": "2021-11-25T11:14:38.556Z"
   },
   {
    "duration": 20,
    "start_time": "2021-11-25T11:14:38.582Z"
   },
   {
    "duration": 115,
    "start_time": "2021-11-25T11:14:38.603Z"
   },
   {
    "duration": 19,
    "start_time": "2021-11-25T11:14:38.720Z"
   },
   {
    "duration": 125,
    "start_time": "2021-11-25T11:14:38.741Z"
   },
   {
    "duration": 5,
    "start_time": "2021-11-25T11:14:38.868Z"
   },
   {
    "duration": 117,
    "start_time": "2021-11-25T11:14:38.888Z"
   },
   {
    "duration": 224,
    "start_time": "2021-11-25T11:14:39.006Z"
   },
   {
    "duration": 127,
    "start_time": "2021-11-25T11:14:39.232Z"
   },
   {
    "duration": 6,
    "start_time": "2021-11-25T11:14:39.360Z"
   },
   {
    "duration": 138,
    "start_time": "2021-11-25T11:14:39.367Z"
   },
   {
    "duration": 208,
    "start_time": "2021-11-25T11:14:39.507Z"
   },
   {
    "duration": 152,
    "start_time": "2021-11-25T11:14:39.717Z"
   },
   {
    "duration": 6,
    "start_time": "2021-11-25T11:14:39.870Z"
   },
   {
    "duration": 131,
    "start_time": "2021-11-25T11:14:39.877Z"
   },
   {
    "duration": 219,
    "start_time": "2021-11-25T11:14:40.009Z"
   },
   {
    "duration": 4,
    "start_time": "2021-11-25T11:14:40.229Z"
   },
   {
    "duration": 6,
    "start_time": "2021-11-25T11:14:40.235Z"
   },
   {
    "duration": 5,
    "start_time": "2021-11-25T11:14:40.242Z"
   },
   {
    "duration": 8,
    "start_time": "2021-11-25T11:14:40.248Z"
   },
   {
    "duration": 30,
    "start_time": "2021-11-25T11:14:40.258Z"
   },
   {
    "duration": 4,
    "start_time": "2021-11-25T11:14:40.293Z"
   },
   {
    "duration": 6,
    "start_time": "2021-11-25T11:14:40.299Z"
   },
   {
    "duration": 7,
    "start_time": "2021-11-25T11:14:40.306Z"
   },
   {
    "duration": 8,
    "start_time": "2021-11-25T11:14:40.314Z"
   },
   {
    "duration": 6,
    "start_time": "2021-11-25T11:14:40.323Z"
   },
   {
    "duration": 257,
    "start_time": "2021-11-25T11:14:40.331Z"
   },
   {
    "duration": 201,
    "start_time": "2021-11-25T11:14:40.590Z"
   },
   {
    "duration": 216,
    "start_time": "2021-11-25T11:14:40.793Z"
   },
   {
    "duration": 217,
    "start_time": "2021-11-25T11:14:41.011Z"
   },
   {
    "duration": 207,
    "start_time": "2021-11-25T11:14:41.230Z"
   },
   {
    "duration": 30,
    "start_time": "2021-11-25T11:14:41.439Z"
   },
   {
    "duration": 19,
    "start_time": "2021-11-25T11:14:41.471Z"
   },
   {
    "duration": 12,
    "start_time": "2021-11-25T11:14:41.491Z"
   },
   {
    "duration": 8,
    "start_time": "2021-11-25T11:14:41.505Z"
   },
   {
    "duration": 55,
    "start_time": "2021-11-25T11:14:41.515Z"
   },
   {
    "duration": 17,
    "start_time": "2021-11-25T11:14:41.572Z"
   },
   {
    "duration": 19,
    "start_time": "2021-11-25T11:14:41.590Z"
   },
   {
    "duration": 5,
    "start_time": "2021-11-25T11:14:41.611Z"
   },
   {
    "duration": 6,
    "start_time": "2021-11-25T11:14:41.618Z"
   },
   {
    "duration": 9,
    "start_time": "2021-11-25T11:14:41.625Z"
   },
   {
    "duration": 4,
    "start_time": "2021-11-25T11:16:19.451Z"
   },
   {
    "duration": 5,
    "start_time": "2021-11-25T11:16:49.407Z"
   },
   {
    "duration": 121,
    "start_time": "2021-11-25T11:16:53.000Z"
   },
   {
    "duration": 122,
    "start_time": "2021-11-25T11:16:58.073Z"
   },
   {
    "duration": 207,
    "start_time": "2021-11-25T11:17:02.569Z"
   },
   {
    "duration": 223,
    "start_time": "2021-11-25T11:17:13.134Z"
   },
   {
    "duration": 3,
    "start_time": "2021-11-25T11:17:19.433Z"
   },
   {
    "duration": 443,
    "start_time": "2021-11-25T11:17:19.444Z"
   },
   {
    "duration": 63,
    "start_time": "2021-11-25T11:17:19.889Z"
   },
   {
    "duration": 48,
    "start_time": "2021-11-25T11:17:19.953Z"
   },
   {
    "duration": 9,
    "start_time": "2021-11-25T11:17:20.003Z"
   },
   {
    "duration": 17,
    "start_time": "2021-11-25T11:17:20.013Z"
   },
   {
    "duration": 94,
    "start_time": "2021-11-25T11:17:20.032Z"
   },
   {
    "duration": 70,
    "start_time": "2021-11-25T11:17:20.128Z"
   },
   {
    "duration": 20,
    "start_time": "2021-11-25T11:17:20.200Z"
   },
   {
    "duration": 12,
    "start_time": "2021-11-25T11:17:20.221Z"
   },
   {
    "duration": 16,
    "start_time": "2021-11-25T11:17:20.234Z"
   },
   {
    "duration": 65,
    "start_time": "2021-11-25T11:17:20.252Z"
   },
   {
    "duration": 36,
    "start_time": "2021-11-25T11:17:20.319Z"
   },
   {
    "duration": 50,
    "start_time": "2021-11-25T11:17:20.357Z"
   },
   {
    "duration": 29,
    "start_time": "2021-11-25T11:17:20.408Z"
   },
   {
    "duration": 67,
    "start_time": "2021-11-25T11:17:20.439Z"
   },
   {
    "duration": 27,
    "start_time": "2021-11-25T11:17:20.507Z"
   },
   {
    "duration": 52,
    "start_time": "2021-11-25T11:17:20.536Z"
   },
   {
    "duration": 34,
    "start_time": "2021-11-25T11:17:20.590Z"
   },
   {
    "duration": 22,
    "start_time": "2021-11-25T11:17:20.626Z"
   },
   {
    "duration": 40,
    "start_time": "2021-11-25T11:17:20.650Z"
   },
   {
    "duration": 28,
    "start_time": "2021-11-25T11:17:20.692Z"
   },
   {
    "duration": 12,
    "start_time": "2021-11-25T11:17:20.722Z"
   },
   {
    "duration": 4,
    "start_time": "2021-11-25T11:17:20.739Z"
   },
   {
    "duration": 57,
    "start_time": "2021-11-25T11:17:20.746Z"
   },
   {
    "duration": 295,
    "start_time": "2021-11-25T11:17:20.805Z"
   },
   {
    "duration": 20,
    "start_time": "2021-11-25T11:17:21.102Z"
   },
   {
    "duration": 149,
    "start_time": "2021-11-25T11:17:21.124Z"
   },
   {
    "duration": 3,
    "start_time": "2021-11-25T11:17:21.274Z"
   },
   {
    "duration": 26,
    "start_time": "2021-11-25T11:17:21.279Z"
   },
   {
    "duration": 165,
    "start_time": "2021-11-25T11:17:21.306Z"
   },
   {
    "duration": 226,
    "start_time": "2021-11-25T11:17:21.472Z"
   },
   {
    "duration": 144,
    "start_time": "2021-11-25T11:17:21.700Z"
   },
   {
    "duration": 6,
    "start_time": "2021-11-25T11:17:21.846Z"
   },
   {
    "duration": 135,
    "start_time": "2021-11-25T11:17:21.853Z"
   },
   {
    "duration": 221,
    "start_time": "2021-11-25T11:17:21.989Z"
   },
   {
    "duration": 117,
    "start_time": "2021-11-25T11:17:22.212Z"
   },
   {
    "duration": 5,
    "start_time": "2021-11-25T11:17:22.330Z"
   },
   {
    "duration": 123,
    "start_time": "2021-11-25T11:17:22.337Z"
   },
   {
    "duration": 206,
    "start_time": "2021-11-25T11:17:22.461Z"
   },
   {
    "duration": 4,
    "start_time": "2021-11-25T11:17:22.669Z"
   },
   {
    "duration": 4,
    "start_time": "2021-11-25T11:17:22.687Z"
   },
   {
    "duration": 6,
    "start_time": "2021-11-25T11:17:22.693Z"
   },
   {
    "duration": 9,
    "start_time": "2021-11-25T11:17:22.700Z"
   },
   {
    "duration": 6,
    "start_time": "2021-11-25T11:17:22.710Z"
   },
   {
    "duration": 6,
    "start_time": "2021-11-25T11:17:22.717Z"
   },
   {
    "duration": 5,
    "start_time": "2021-11-25T11:17:22.724Z"
   },
   {
    "duration": 5,
    "start_time": "2021-11-25T11:17:22.731Z"
   },
   {
    "duration": 10,
    "start_time": "2021-11-25T11:17:22.738Z"
   },
   {
    "duration": 41,
    "start_time": "2021-11-25T11:17:22.749Z"
   },
   {
    "duration": 27,
    "start_time": "2021-11-25T11:17:22.792Z"
   },
   {
    "duration": 128,
    "start_time": "2021-11-25T11:17:22.821Z"
   },
   {
    "duration": 5,
    "start_time": "2021-11-25T11:17:22.950Z"
   },
   {
    "duration": 134,
    "start_time": "2021-11-25T11:17:22.957Z"
   },
   {
    "duration": 215,
    "start_time": "2021-11-25T11:17:23.092Z"
   },
   {
    "duration": 126,
    "start_time": "2021-11-25T11:17:23.309Z"
   },
   {
    "duration": 5,
    "start_time": "2021-11-25T11:17:23.437Z"
   },
   {
    "duration": 122,
    "start_time": "2021-11-25T11:17:23.444Z"
   },
   {
    "duration": 210,
    "start_time": "2021-11-25T11:17:23.568Z"
   },
   {
    "duration": 246,
    "start_time": "2021-11-25T11:17:23.787Z"
   },
   {
    "duration": 5,
    "start_time": "2021-11-25T11:17:24.035Z"
   },
   {
    "duration": 137,
    "start_time": "2021-11-25T11:17:24.042Z"
   },
   {
    "duration": 211,
    "start_time": "2021-11-25T11:17:24.180Z"
   },
   {
    "duration": 4,
    "start_time": "2021-11-25T11:17:24.392Z"
   },
   {
    "duration": 15,
    "start_time": "2021-11-25T11:17:24.398Z"
   },
   {
    "duration": 26,
    "start_time": "2021-11-25T11:17:24.414Z"
   },
   {
    "duration": 21,
    "start_time": "2021-11-25T11:17:24.441Z"
   },
   {
    "duration": 18,
    "start_time": "2021-11-25T11:17:24.464Z"
   },
   {
    "duration": 11,
    "start_time": "2021-11-25T11:17:24.487Z"
   },
   {
    "duration": 16,
    "start_time": "2021-11-25T11:17:24.500Z"
   },
   {
    "duration": 15,
    "start_time": "2021-11-25T11:17:24.517Z"
   },
   {
    "duration": 26,
    "start_time": "2021-11-25T11:17:24.533Z"
   },
   {
    "duration": 12,
    "start_time": "2021-11-25T11:17:24.560Z"
   },
   {
    "duration": 197,
    "start_time": "2021-11-25T11:17:24.573Z"
   },
   {
    "duration": 209,
    "start_time": "2021-11-25T11:17:24.772Z"
   },
   {
    "duration": 226,
    "start_time": "2021-11-25T11:17:24.982Z"
   },
   {
    "duration": 199,
    "start_time": "2021-11-25T11:17:25.210Z"
   },
   {
    "duration": 233,
    "start_time": "2021-11-25T11:17:25.411Z"
   },
   {
    "duration": 43,
    "start_time": "2021-11-25T11:17:25.646Z"
   },
   {
    "duration": 6,
    "start_time": "2021-11-25T11:17:25.690Z"
   },
   {
    "duration": 14,
    "start_time": "2021-11-25T11:17:25.697Z"
   },
   {
    "duration": 22,
    "start_time": "2021-11-25T11:17:25.713Z"
   },
   {
    "duration": 67,
    "start_time": "2021-11-25T11:17:25.737Z"
   },
   {
    "duration": 4,
    "start_time": "2021-11-25T11:17:25.805Z"
   },
   {
    "duration": 46,
    "start_time": "2021-11-25T11:17:25.811Z"
   },
   {
    "duration": 6,
    "start_time": "2021-11-25T11:17:25.859Z"
   },
   {
    "duration": 18,
    "start_time": "2021-11-25T11:17:25.867Z"
   },
   {
    "duration": 20,
    "start_time": "2021-11-25T11:17:25.887Z"
   },
   {
    "duration": 4,
    "start_time": "2021-11-25T11:17:42.491Z"
   },
   {
    "duration": 3,
    "start_time": "2021-11-25T11:18:12.544Z"
   },
   {
    "duration": 116,
    "start_time": "2021-11-25T11:18:30.774Z"
   },
   {
    "duration": 1020,
    "start_time": "2021-11-25T11:18:45.047Z"
   },
   {
    "duration": 390,
    "start_time": "2021-11-25T11:18:46.070Z"
   },
   {
    "duration": 67,
    "start_time": "2021-11-25T11:18:46.462Z"
   },
   {
    "duration": 31,
    "start_time": "2021-11-25T11:18:46.531Z"
   },
   {
    "duration": 24,
    "start_time": "2021-11-25T11:18:46.564Z"
   },
   {
    "duration": 18,
    "start_time": "2021-11-25T11:18:46.589Z"
   },
   {
    "duration": 80,
    "start_time": "2021-11-25T11:18:46.608Z"
   },
   {
    "duration": 49,
    "start_time": "2021-11-25T11:18:46.690Z"
   },
   {
    "duration": 20,
    "start_time": "2021-11-25T11:18:46.741Z"
   },
   {
    "duration": 34,
    "start_time": "2021-11-25T11:18:46.763Z"
   },
   {
    "duration": 16,
    "start_time": "2021-11-25T11:18:46.798Z"
   },
   {
    "duration": 36,
    "start_time": "2021-11-25T11:18:46.816Z"
   },
   {
    "duration": 63,
    "start_time": "2021-11-25T11:18:46.854Z"
   },
   {
    "duration": 18,
    "start_time": "2021-11-25T11:18:46.919Z"
   },
   {
    "duration": 57,
    "start_time": "2021-11-25T11:18:46.938Z"
   },
   {
    "duration": 32,
    "start_time": "2021-11-25T11:18:46.997Z"
   },
   {
    "duration": 25,
    "start_time": "2021-11-25T11:18:47.031Z"
   },
   {
    "duration": 16,
    "start_time": "2021-11-25T11:18:47.088Z"
   },
   {
    "duration": 30,
    "start_time": "2021-11-25T11:18:47.105Z"
   },
   {
    "duration": 52,
    "start_time": "2021-11-25T11:18:47.137Z"
   },
   {
    "duration": 10,
    "start_time": "2021-11-25T11:18:47.191Z"
   },
   {
    "duration": 22,
    "start_time": "2021-11-25T11:18:47.203Z"
   },
   {
    "duration": 11,
    "start_time": "2021-11-25T11:18:47.229Z"
   },
   {
    "duration": 44,
    "start_time": "2021-11-25T11:18:47.243Z"
   },
   {
    "duration": 25,
    "start_time": "2021-11-25T11:18:47.289Z"
   },
   {
    "duration": 295,
    "start_time": "2021-11-25T11:18:47.316Z"
   },
   {
    "duration": 18,
    "start_time": "2021-11-25T11:18:47.612Z"
   },
   {
    "duration": 134,
    "start_time": "2021-11-25T11:18:47.631Z"
   },
   {
    "duration": 4,
    "start_time": "2021-11-25T11:18:47.766Z"
   },
   {
    "duration": 20,
    "start_time": "2021-11-25T11:18:47.771Z"
   },
   {
    "duration": 128,
    "start_time": "2021-11-25T11:18:47.792Z"
   },
   {
    "duration": 214,
    "start_time": "2021-11-25T11:18:47.922Z"
   },
   {
    "duration": 125,
    "start_time": "2021-11-25T11:18:48.137Z"
   },
   {
    "duration": 5,
    "start_time": "2021-11-25T11:18:48.263Z"
   },
   {
    "duration": 136,
    "start_time": "2021-11-25T11:18:48.270Z"
   },
   {
    "duration": 247,
    "start_time": "2021-11-25T11:18:48.408Z"
   },
   {
    "duration": 120,
    "start_time": "2021-11-25T11:18:48.657Z"
   },
   {
    "duration": 10,
    "start_time": "2021-11-25T11:18:48.779Z"
   },
   {
    "duration": 125,
    "start_time": "2021-11-25T11:18:48.791Z"
   },
   {
    "duration": 214,
    "start_time": "2021-11-25T11:18:48.918Z"
   },
   {
    "duration": 4,
    "start_time": "2021-11-25T11:18:49.133Z"
   },
   {
    "duration": 7,
    "start_time": "2021-11-25T11:18:49.139Z"
   },
   {
    "duration": 6,
    "start_time": "2021-11-25T11:18:49.148Z"
   },
   {
    "duration": 7,
    "start_time": "2021-11-25T11:18:49.155Z"
   },
   {
    "duration": 3,
    "start_time": "2021-11-25T11:18:49.188Z"
   },
   {
    "duration": 5,
    "start_time": "2021-11-25T11:18:49.193Z"
   },
   {
    "duration": 6,
    "start_time": "2021-11-25T11:18:49.199Z"
   },
   {
    "duration": 6,
    "start_time": "2021-11-25T11:18:49.206Z"
   },
   {
    "duration": 5,
    "start_time": "2021-11-25T11:18:49.213Z"
   },
   {
    "duration": 11,
    "start_time": "2021-11-25T11:18:49.219Z"
   },
   {
    "duration": 21,
    "start_time": "2021-11-25T11:18:49.231Z"
   },
   {
    "duration": 154,
    "start_time": "2021-11-25T11:18:49.254Z"
   },
   {
    "duration": 5,
    "start_time": "2021-11-25T11:18:49.410Z"
   },
   {
    "duration": 127,
    "start_time": "2021-11-25T11:18:49.416Z"
   },
   {
    "duration": 222,
    "start_time": "2021-11-25T11:18:49.544Z"
   },
   {
    "duration": 132,
    "start_time": "2021-11-25T11:18:49.768Z"
   },
   {
    "duration": 5,
    "start_time": "2021-11-25T11:18:49.902Z"
   },
   {
    "duration": 132,
    "start_time": "2021-11-25T11:18:49.908Z"
   },
   {
    "duration": 214,
    "start_time": "2021-11-25T11:18:50.041Z"
   },
   {
    "duration": 141,
    "start_time": "2021-11-25T11:18:50.257Z"
   },
   {
    "duration": 5,
    "start_time": "2021-11-25T11:18:50.400Z"
   },
   {
    "duration": 204,
    "start_time": "2021-11-25T11:18:50.407Z"
   },
   {
    "duration": 214,
    "start_time": "2021-11-25T11:18:50.613Z"
   },
   {
    "duration": 6,
    "start_time": "2021-11-25T11:18:50.829Z"
   },
   {
    "duration": 21,
    "start_time": "2021-11-25T11:18:50.836Z"
   },
   {
    "duration": 11,
    "start_time": "2021-11-25T11:18:50.859Z"
   },
   {
    "duration": 34,
    "start_time": "2021-11-25T11:18:50.871Z"
   },
   {
    "duration": 44,
    "start_time": "2021-11-25T11:18:50.909Z"
   },
   {
    "duration": 6,
    "start_time": "2021-11-25T11:18:50.955Z"
   },
   {
    "duration": 15,
    "start_time": "2021-11-25T11:18:50.962Z"
   },
   {
    "duration": 33,
    "start_time": "2021-11-25T11:18:50.979Z"
   },
   {
    "duration": 27,
    "start_time": "2021-11-25T11:18:51.014Z"
   },
   {
    "duration": 18,
    "start_time": "2021-11-25T11:18:51.043Z"
   },
   {
    "duration": 207,
    "start_time": "2021-11-25T11:18:51.063Z"
   },
   {
    "duration": 197,
    "start_time": "2021-11-25T11:18:51.272Z"
   },
   {
    "duration": 202,
    "start_time": "2021-11-25T11:18:51.471Z"
   },
   {
    "duration": 198,
    "start_time": "2021-11-25T11:18:51.675Z"
   },
   {
    "duration": 193,
    "start_time": "2021-11-25T11:18:51.874Z"
   },
   {
    "duration": 41,
    "start_time": "2021-11-25T11:18:52.069Z"
   },
   {
    "duration": 4,
    "start_time": "2021-11-25T11:18:52.112Z"
   },
   {
    "duration": 15,
    "start_time": "2021-11-25T11:18:52.118Z"
   },
   {
    "duration": 32,
    "start_time": "2021-11-25T11:18:52.134Z"
   },
   {
    "duration": 65,
    "start_time": "2021-11-25T11:18:52.168Z"
   },
   {
    "duration": 3,
    "start_time": "2021-11-25T11:18:52.235Z"
   },
   {
    "duration": 35,
    "start_time": "2021-11-25T11:18:52.239Z"
   },
   {
    "duration": 6,
    "start_time": "2021-11-25T11:18:52.275Z"
   },
   {
    "duration": 29,
    "start_time": "2021-11-25T11:18:52.283Z"
   },
   {
    "duration": 14,
    "start_time": "2021-11-25T11:18:52.314Z"
   },
   {
    "duration": 110,
    "start_time": "2021-11-25T11:19:09.820Z"
   },
   {
    "duration": 3,
    "start_time": "2021-11-25T11:20:21.198Z"
   },
   {
    "duration": 375,
    "start_time": "2021-11-25T11:20:21.206Z"
   },
   {
    "duration": 60,
    "start_time": "2021-11-25T11:20:21.583Z"
   },
   {
    "duration": 44,
    "start_time": "2021-11-25T11:20:21.645Z"
   },
   {
    "duration": 9,
    "start_time": "2021-11-25T11:20:21.691Z"
   },
   {
    "duration": 30,
    "start_time": "2021-11-25T11:20:21.701Z"
   },
   {
    "duration": 72,
    "start_time": "2021-11-25T11:20:21.732Z"
   },
   {
    "duration": 51,
    "start_time": "2021-11-25T11:20:21.806Z"
   },
   {
    "duration": 41,
    "start_time": "2021-11-25T11:20:21.860Z"
   },
   {
    "duration": 12,
    "start_time": "2021-11-25T11:20:21.903Z"
   },
   {
    "duration": 19,
    "start_time": "2021-11-25T11:20:21.917Z"
   },
   {
    "duration": 57,
    "start_time": "2021-11-25T11:20:21.938Z"
   },
   {
    "duration": 39,
    "start_time": "2021-11-25T11:20:21.997Z"
   },
   {
    "duration": 18,
    "start_time": "2021-11-25T11:20:22.038Z"
   },
   {
    "duration": 54,
    "start_time": "2021-11-25T11:20:22.057Z"
   },
   {
    "duration": 34,
    "start_time": "2021-11-25T11:20:22.113Z"
   },
   {
    "duration": 54,
    "start_time": "2021-11-25T11:20:22.148Z"
   },
   {
    "duration": 14,
    "start_time": "2021-11-25T11:20:22.204Z"
   },
   {
    "duration": 28,
    "start_time": "2021-11-25T11:20:22.219Z"
   },
   {
    "duration": 46,
    "start_time": "2021-11-25T11:20:22.248Z"
   },
   {
    "duration": 7,
    "start_time": "2021-11-25T11:20:22.296Z"
   },
   {
    "duration": 22,
    "start_time": "2021-11-25T11:20:22.304Z"
   },
   {
    "duration": 9,
    "start_time": "2021-11-25T11:20:22.328Z"
   },
   {
    "duration": 3,
    "start_time": "2021-11-25T11:20:22.340Z"
   },
   {
    "duration": 56,
    "start_time": "2021-11-25T11:20:22.344Z"
   },
   {
    "duration": 339,
    "start_time": "2021-11-25T11:20:22.402Z"
   },
   {
    "duration": 18,
    "start_time": "2021-11-25T11:20:22.742Z"
   },
   {
    "duration": 133,
    "start_time": "2021-11-25T11:20:26.573Z"
   },
   {
    "duration": 17,
    "start_time": "2021-11-25T12:51:58.374Z"
   },
   {
    "duration": 15,
    "start_time": "2021-11-25T12:52:19.261Z"
   },
   {
    "duration": 23,
    "start_time": "2021-11-25T12:52:23.301Z"
   },
   {
    "duration": 2,
    "start_time": "2021-11-25T12:52:28.099Z"
   },
   {
    "duration": 367,
    "start_time": "2021-11-25T12:52:28.106Z"
   },
   {
    "duration": 60,
    "start_time": "2021-11-25T12:52:28.474Z"
   },
   {
    "duration": 28,
    "start_time": "2021-11-25T12:52:28.536Z"
   },
   {
    "duration": 25,
    "start_time": "2021-11-25T12:52:28.565Z"
   },
   {
    "duration": 18,
    "start_time": "2021-11-25T12:52:28.592Z"
   },
   {
    "duration": 76,
    "start_time": "2021-11-25T12:52:28.612Z"
   },
   {
    "duration": 50,
    "start_time": "2021-11-25T12:52:28.689Z"
   },
   {
    "duration": 20,
    "start_time": "2021-11-25T12:52:28.741Z"
   },
   {
    "duration": 38,
    "start_time": "2021-11-25T12:52:28.762Z"
   },
   {
    "duration": 16,
    "start_time": "2021-11-25T12:52:28.802Z"
   },
   {
    "duration": 34,
    "start_time": "2021-11-25T12:52:28.820Z"
   },
   {
    "duration": 70,
    "start_time": "2021-11-25T12:52:28.856Z"
   },
   {
    "duration": 19,
    "start_time": "2021-11-25T12:52:28.928Z"
   },
   {
    "duration": 67,
    "start_time": "2021-11-25T12:52:28.949Z"
   },
   {
    "duration": 34,
    "start_time": "2021-11-25T12:52:29.017Z"
   },
   {
    "duration": 50,
    "start_time": "2021-11-25T12:52:29.052Z"
   },
   {
    "duration": 14,
    "start_time": "2021-11-25T12:52:29.104Z"
   },
   {
    "duration": 31,
    "start_time": "2021-11-25T12:52:29.120Z"
   },
   {
    "duration": 47,
    "start_time": "2021-11-25T12:52:29.153Z"
   },
   {
    "duration": 8,
    "start_time": "2021-11-25T12:52:29.202Z"
   },
   {
    "duration": 20,
    "start_time": "2021-11-25T12:52:29.211Z"
   },
   {
    "duration": 15,
    "start_time": "2021-11-25T12:52:37.813Z"
   },
   {
    "duration": 315,
    "start_time": "2021-11-25T12:55:31.971Z"
   },
   {
    "duration": 251,
    "start_time": "2021-11-25T12:56:35.066Z"
   },
   {
    "duration": 3,
    "start_time": "2021-11-25T12:56:40.790Z"
   },
   {
    "duration": 365,
    "start_time": "2021-11-25T12:56:40.798Z"
   },
   {
    "duration": 60,
    "start_time": "2021-11-25T12:56:41.165Z"
   },
   {
    "duration": 28,
    "start_time": "2021-11-25T12:56:41.228Z"
   },
   {
    "duration": 30,
    "start_time": "2021-11-25T12:56:41.258Z"
   },
   {
    "duration": 16,
    "start_time": "2021-11-25T12:56:41.290Z"
   },
   {
    "duration": 80,
    "start_time": "2021-11-25T12:56:41.308Z"
   },
   {
    "duration": 54,
    "start_time": "2021-11-25T12:56:41.390Z"
   },
   {
    "duration": 51,
    "start_time": "2021-11-25T12:56:41.447Z"
   },
   {
    "duration": 15,
    "start_time": "2021-11-25T12:56:41.500Z"
   },
   {
    "duration": 18,
    "start_time": "2021-11-25T12:56:41.516Z"
   },
   {
    "duration": 68,
    "start_time": "2021-11-25T12:56:41.536Z"
   },
   {
    "duration": 41,
    "start_time": "2021-11-25T12:56:41.606Z"
   },
   {
    "duration": 44,
    "start_time": "2021-11-25T12:56:41.649Z"
   },
   {
    "duration": 31,
    "start_time": "2021-11-25T12:56:41.695Z"
   },
   {
    "duration": 64,
    "start_time": "2021-11-25T12:56:41.728Z"
   },
   {
    "duration": 26,
    "start_time": "2021-11-25T12:56:41.794Z"
   },
   {
    "duration": 14,
    "start_time": "2021-11-25T12:56:41.821Z"
   },
   {
    "duration": 63,
    "start_time": "2021-11-25T12:56:41.837Z"
   },
   {
    "duration": 19,
    "start_time": "2021-11-25T12:56:41.901Z"
   },
   {
    "duration": 8,
    "start_time": "2021-11-25T12:56:41.921Z"
   },
   {
    "duration": 21,
    "start_time": "2021-11-25T12:56:41.930Z"
   },
   {
    "duration": 233,
    "start_time": "2021-11-25T12:56:45.215Z"
   },
   {
    "duration": 15,
    "start_time": "2021-11-25T12:57:09.405Z"
   },
   {
    "duration": 2,
    "start_time": "2021-11-25T13:04:02.475Z"
   },
   {
    "duration": 376,
    "start_time": "2021-11-25T13:04:02.482Z"
   },
   {
    "duration": 61,
    "start_time": "2021-11-25T13:04:02.860Z"
   },
   {
    "duration": 27,
    "start_time": "2021-11-25T13:04:02.923Z"
   },
   {
    "duration": 9,
    "start_time": "2021-11-25T13:04:02.952Z"
   },
   {
    "duration": 39,
    "start_time": "2021-11-25T13:04:02.962Z"
   },
   {
    "duration": 58,
    "start_time": "2021-11-25T13:04:03.003Z"
   },
   {
    "duration": 73,
    "start_time": "2021-11-25T13:04:03.062Z"
   },
   {
    "duration": 20,
    "start_time": "2021-11-25T13:04:03.137Z"
   },
   {
    "duration": 13,
    "start_time": "2021-11-25T13:04:03.187Z"
   },
   {
    "duration": 18,
    "start_time": "2021-11-25T13:04:03.202Z"
   },
   {
    "duration": 66,
    "start_time": "2021-11-25T13:04:03.222Z"
   },
   {
    "duration": 39,
    "start_time": "2021-11-25T13:04:03.290Z"
   },
   {
    "duration": 60,
    "start_time": "2021-11-25T13:04:03.331Z"
   },
   {
    "duration": 34,
    "start_time": "2021-11-25T13:04:03.393Z"
   },
   {
    "duration": 64,
    "start_time": "2021-11-25T13:04:03.429Z"
   },
   {
    "duration": 31,
    "start_time": "2021-11-25T13:04:03.495Z"
   },
   {
    "duration": 18,
    "start_time": "2021-11-25T13:04:03.528Z"
   },
   {
    "duration": 74,
    "start_time": "2021-11-25T13:04:03.548Z"
   },
   {
    "duration": 19,
    "start_time": "2021-11-25T13:04:03.623Z"
   },
   {
    "duration": 8,
    "start_time": "2021-11-25T13:04:03.643Z"
   },
   {
    "duration": 55,
    "start_time": "2021-11-25T13:04:03.652Z"
   },
   {
    "duration": 15,
    "start_time": "2021-11-25T13:04:03.709Z"
   },
   {
    "duration": 13,
    "start_time": "2021-11-25T13:04:03.729Z"
   },
   {
    "duration": 4,
    "start_time": "2021-11-25T13:04:03.746Z"
   },
   {
    "duration": 22,
    "start_time": "2021-11-25T13:04:03.788Z"
   },
   {
    "duration": 305,
    "start_time": "2021-11-25T13:04:03.812Z"
   },
   {
    "duration": 17,
    "start_time": "2021-11-25T13:04:04.119Z"
   },
   {
    "duration": 151,
    "start_time": "2021-11-25T13:04:04.137Z"
   },
   {
    "duration": 4,
    "start_time": "2021-11-25T13:04:04.289Z"
   },
   {
    "duration": 7,
    "start_time": "2021-11-25T13:04:04.295Z"
   },
   {
    "duration": 144,
    "start_time": "2021-11-25T13:04:04.304Z"
   },
   {
    "duration": 223,
    "start_time": "2021-11-25T13:04:04.450Z"
   },
   {
    "duration": 131,
    "start_time": "2021-11-25T13:04:04.675Z"
   },
   {
    "duration": 6,
    "start_time": "2021-11-25T13:04:04.808Z"
   },
   {
    "duration": 143,
    "start_time": "2021-11-25T13:04:04.816Z"
   },
   {
    "duration": 298,
    "start_time": "2021-11-25T13:04:04.961Z"
   },
   {
    "duration": 132,
    "start_time": "2021-11-25T13:04:05.261Z"
   },
   {
    "duration": 5,
    "start_time": "2021-11-25T13:04:05.395Z"
   },
   {
    "duration": 133,
    "start_time": "2021-11-25T13:04:05.402Z"
   },
   {
    "duration": 231,
    "start_time": "2021-11-25T13:04:05.536Z"
   },
   {
    "duration": 4,
    "start_time": "2021-11-25T13:04:05.769Z"
   },
   {
    "duration": 15,
    "start_time": "2021-11-25T13:04:05.775Z"
   },
   {
    "duration": 6,
    "start_time": "2021-11-25T13:04:05.792Z"
   },
   {
    "duration": 12,
    "start_time": "2021-11-25T13:04:05.800Z"
   },
   {
    "duration": 6,
    "start_time": "2021-11-25T13:04:05.813Z"
   },
   {
    "duration": 12,
    "start_time": "2021-11-25T13:04:05.821Z"
   },
   {
    "duration": 8,
    "start_time": "2021-11-25T13:04:05.835Z"
   },
   {
    "duration": 9,
    "start_time": "2021-11-25T13:04:05.845Z"
   },
   {
    "duration": 33,
    "start_time": "2021-11-25T13:04:05.856Z"
   },
   {
    "duration": 5,
    "start_time": "2021-11-25T13:04:05.891Z"
   },
   {
    "duration": 20,
    "start_time": "2021-11-25T13:04:05.897Z"
   },
   {
    "duration": 148,
    "start_time": "2021-11-25T13:04:05.919Z"
   },
   {
    "duration": 5,
    "start_time": "2021-11-25T13:04:06.069Z"
   },
   {
    "duration": 132,
    "start_time": "2021-11-25T13:04:06.075Z"
   },
   {
    "duration": 221,
    "start_time": "2021-11-25T13:04:06.209Z"
   },
   {
    "duration": 132,
    "start_time": "2021-11-25T13:04:06.432Z"
   },
   {
    "duration": 5,
    "start_time": "2021-11-25T13:04:06.566Z"
   },
   {
    "duration": 133,
    "start_time": "2021-11-25T13:04:06.573Z"
   },
   {
    "duration": 220,
    "start_time": "2021-11-25T13:04:06.708Z"
   },
   {
    "duration": 139,
    "start_time": "2021-11-25T13:04:06.930Z"
   },
   {
    "duration": 5,
    "start_time": "2021-11-25T13:04:07.070Z"
   },
   {
    "duration": 128,
    "start_time": "2021-11-25T13:04:07.088Z"
   },
   {
    "duration": 222,
    "start_time": "2021-11-25T13:04:07.218Z"
   },
   {
    "duration": 4,
    "start_time": "2021-11-25T13:04:07.441Z"
   },
   {
    "duration": 7,
    "start_time": "2021-11-25T13:04:07.447Z"
   },
   {
    "duration": 5,
    "start_time": "2021-11-25T13:04:07.456Z"
   },
   {
    "duration": 25,
    "start_time": "2021-11-25T13:04:07.463Z"
   },
   {
    "duration": 4,
    "start_time": "2021-11-25T13:04:07.493Z"
   },
   {
    "duration": 6,
    "start_time": "2021-11-25T13:04:07.498Z"
   },
   {
    "duration": 5,
    "start_time": "2021-11-25T13:04:07.506Z"
   },
   {
    "duration": 8,
    "start_time": "2021-11-25T13:04:07.513Z"
   },
   {
    "duration": 5,
    "start_time": "2021-11-25T13:04:07.523Z"
   },
   {
    "duration": 5,
    "start_time": "2021-11-25T13:04:07.530Z"
   },
   {
    "duration": 352,
    "start_time": "2021-11-25T13:04:07.536Z"
   },
   {
    "duration": 218,
    "start_time": "2021-11-25T13:04:07.889Z"
   },
   {
    "duration": 214,
    "start_time": "2021-11-25T13:04:08.109Z"
   },
   {
    "duration": 205,
    "start_time": "2021-11-25T13:04:08.325Z"
   },
   {
    "duration": 204,
    "start_time": "2021-11-25T13:04:08.531Z"
   },
   {
    "duration": 50,
    "start_time": "2021-11-25T13:04:08.737Z"
   },
   {
    "duration": 5,
    "start_time": "2021-11-25T13:04:08.789Z"
   },
   {
    "duration": 7,
    "start_time": "2021-11-25T13:04:08.796Z"
   },
   {
    "duration": 7,
    "start_time": "2021-11-25T13:04:08.805Z"
   },
   {
    "duration": 76,
    "start_time": "2021-11-25T13:04:08.814Z"
   },
   {
    "duration": 4,
    "start_time": "2021-11-25T13:04:08.892Z"
   },
   {
    "duration": 33,
    "start_time": "2021-11-25T13:04:08.897Z"
   },
   {
    "duration": 9,
    "start_time": "2021-11-25T13:04:08.932Z"
   },
   {
    "duration": 4,
    "start_time": "2021-11-25T13:04:08.943Z"
   },
   {
    "duration": 42,
    "start_time": "2021-11-25T13:04:08.949Z"
   },
   {
    "duration": 7,
    "start_time": "2021-11-25T13:08:56.558Z"
   },
   {
    "duration": 6538,
    "start_time": "2021-11-25T13:11:07.537Z"
   },
   {
    "duration": 13,
    "start_time": "2021-11-25T13:11:23.567Z"
   },
   {
    "duration": 8,
    "start_time": "2021-11-25T13:11:42.656Z"
   },
   {
    "duration": 7,
    "start_time": "2021-11-25T13:11:53.565Z"
   },
   {
    "duration": 11,
    "start_time": "2021-11-25T13:12:14.174Z"
   },
   {
    "duration": 6,
    "start_time": "2021-11-25T13:12:59.216Z"
   },
   {
    "duration": 6,
    "start_time": "2021-11-25T13:13:12.477Z"
   },
   {
    "duration": 3,
    "start_time": "2021-11-25T13:47:45.930Z"
   },
   {
    "duration": 387,
    "start_time": "2021-11-25T13:47:45.938Z"
   },
   {
    "duration": 61,
    "start_time": "2021-11-25T13:47:46.327Z"
   },
   {
    "duration": 29,
    "start_time": "2021-11-25T13:47:46.390Z"
   },
   {
    "duration": 11,
    "start_time": "2021-11-25T13:47:46.421Z"
   },
   {
    "duration": 41,
    "start_time": "2021-11-25T13:47:46.434Z"
   },
   {
    "duration": 69,
    "start_time": "2021-11-25T13:47:46.476Z"
   },
   {
    "duration": 69,
    "start_time": "2021-11-25T13:47:46.546Z"
   },
   {
    "duration": 23,
    "start_time": "2021-11-25T13:47:46.618Z"
   },
   {
    "duration": 45,
    "start_time": "2021-11-25T13:47:46.644Z"
   },
   {
    "duration": 18,
    "start_time": "2021-11-25T13:47:46.690Z"
   },
   {
    "duration": 38,
    "start_time": "2021-11-25T13:47:46.710Z"
   },
   {
    "duration": 62,
    "start_time": "2021-11-25T13:47:46.750Z"
   },
   {
    "duration": 18,
    "start_time": "2021-11-25T13:47:46.814Z"
   },
   {
    "duration": 65,
    "start_time": "2021-11-25T13:47:46.834Z"
   },
   {
    "duration": 45,
    "start_time": "2021-11-25T13:47:46.901Z"
   },
   {
    "duration": 54,
    "start_time": "2021-11-25T13:47:46.948Z"
   },
   {
    "duration": 15,
    "start_time": "2021-11-25T13:47:47.004Z"
   },
   {
    "duration": 47,
    "start_time": "2021-11-25T13:47:47.021Z"
   },
   {
    "duration": 31,
    "start_time": "2021-11-25T13:47:47.087Z"
   },
   {
    "duration": 8,
    "start_time": "2021-11-25T13:47:47.120Z"
   },
   {
    "duration": 43,
    "start_time": "2021-11-25T13:47:47.130Z"
   },
   {
    "duration": 19,
    "start_time": "2021-11-25T13:47:47.174Z"
   },
   {
    "duration": 10,
    "start_time": "2021-11-25T13:47:47.195Z"
   },
   {
    "duration": 16,
    "start_time": "2021-11-25T13:47:47.206Z"
   },
   {
    "duration": 19,
    "start_time": "2021-11-25T13:47:47.223Z"
   },
   {
    "duration": 303,
    "start_time": "2021-11-25T13:47:52.612Z"
   },
   {
    "duration": 22,
    "start_time": "2021-11-25T13:50:14.116Z"
   },
   {
    "duration": 3,
    "start_time": "2021-11-25T14:06:53.268Z"
   },
   {
    "duration": 386,
    "start_time": "2021-11-25T14:06:53.277Z"
   },
   {
    "duration": 64,
    "start_time": "2021-11-25T14:06:53.665Z"
   },
   {
    "duration": 27,
    "start_time": "2021-11-25T14:06:53.731Z"
   },
   {
    "duration": 28,
    "start_time": "2021-11-25T14:06:53.760Z"
   },
   {
    "duration": 18,
    "start_time": "2021-11-25T14:06:53.790Z"
   },
   {
    "duration": 80,
    "start_time": "2021-11-25T14:06:53.809Z"
   },
   {
    "duration": 62,
    "start_time": "2021-11-25T14:06:53.891Z"
   },
   {
    "duration": 58,
    "start_time": "2021-11-25T14:06:53.956Z"
   },
   {
    "duration": 12,
    "start_time": "2021-11-25T14:06:54.016Z"
   },
   {
    "duration": 15,
    "start_time": "2021-11-25T14:06:54.029Z"
   },
   {
    "duration": 71,
    "start_time": "2021-11-25T14:06:54.046Z"
   },
   {
    "duration": 40,
    "start_time": "2021-11-25T14:06:54.119Z"
   },
   {
    "duration": 49,
    "start_time": "2021-11-25T14:06:54.160Z"
   },
   {
    "duration": 30,
    "start_time": "2021-11-25T14:06:54.211Z"
   },
   {
    "duration": 73,
    "start_time": "2021-11-25T14:06:54.243Z"
   },
   {
    "duration": 25,
    "start_time": "2021-11-25T14:06:54.317Z"
   },
   {
    "duration": 45,
    "start_time": "2021-11-25T14:06:54.344Z"
   },
   {
    "duration": 41,
    "start_time": "2021-11-25T14:06:54.391Z"
   },
   {
    "duration": 54,
    "start_time": "2021-11-25T14:06:54.434Z"
   },
   {
    "duration": 13,
    "start_time": "2021-11-25T14:06:54.490Z"
   },
   {
    "duration": 27,
    "start_time": "2021-11-25T14:06:54.505Z"
   },
   {
    "duration": 18,
    "start_time": "2021-11-25T14:06:54.534Z"
   },
   {
    "duration": 8,
    "start_time": "2021-11-25T14:06:54.593Z"
   },
   {
    "duration": 23,
    "start_time": "2021-11-25T14:06:54.604Z"
   },
   {
    "duration": 8,
    "start_time": "2021-11-25T14:06:54.629Z"
   },
   {
    "duration": 37,
    "start_time": "2021-11-25T14:06:54.639Z"
   },
   {
    "duration": 337,
    "start_time": "2021-11-25T14:06:54.678Z"
   },
   {
    "duration": 19,
    "start_time": "2021-11-25T14:06:55.016Z"
   },
   {
    "duration": 136,
    "start_time": "2021-11-25T14:06:55.036Z"
   },
   {
    "duration": 3,
    "start_time": "2021-11-25T14:06:55.174Z"
   },
   {
    "duration": 6,
    "start_time": "2021-11-25T14:06:55.187Z"
   },
   {
    "duration": 146,
    "start_time": "2021-11-25T14:06:55.195Z"
   },
   {
    "duration": 277,
    "start_time": "2021-11-25T14:06:55.342Z"
   },
   {
    "duration": 134,
    "start_time": "2021-11-25T14:06:55.621Z"
   },
   {
    "duration": 5,
    "start_time": "2021-11-25T14:06:55.756Z"
   },
   {
    "duration": 219,
    "start_time": "2021-11-25T14:06:55.763Z"
   },
   {
    "duration": 230,
    "start_time": "2021-11-25T14:06:55.987Z"
   },
   {
    "duration": 130,
    "start_time": "2021-11-25T14:06:56.218Z"
   },
   {
    "duration": 5,
    "start_time": "2021-11-25T14:06:56.350Z"
   },
   {
    "duration": 135,
    "start_time": "2021-11-25T14:06:56.356Z"
   },
   {
    "duration": 240,
    "start_time": "2021-11-25T14:06:56.493Z"
   },
   {
    "duration": 4,
    "start_time": "2021-11-25T14:06:56.734Z"
   },
   {
    "duration": 17,
    "start_time": "2021-11-25T14:06:56.739Z"
   },
   {
    "duration": 25,
    "start_time": "2021-11-25T14:06:56.758Z"
   },
   {
    "duration": 33,
    "start_time": "2021-11-25T14:06:56.785Z"
   },
   {
    "duration": 21,
    "start_time": "2021-11-25T14:06:56.819Z"
   },
   {
    "duration": 23,
    "start_time": "2021-11-25T14:06:56.841Z"
   },
   {
    "duration": 20,
    "start_time": "2021-11-25T14:06:56.865Z"
   },
   {
    "duration": 17,
    "start_time": "2021-11-25T14:06:56.887Z"
   },
   {
    "duration": 25,
    "start_time": "2021-11-25T14:06:56.905Z"
   },
   {
    "duration": 23,
    "start_time": "2021-11-25T14:06:56.932Z"
   },
   {
    "duration": 35,
    "start_time": "2021-11-25T14:06:56.957Z"
   },
   {
    "duration": 124,
    "start_time": "2021-11-25T14:06:56.994Z"
   },
   {
    "duration": 5,
    "start_time": "2021-11-25T14:06:57.119Z"
   },
   {
    "duration": 131,
    "start_time": "2021-11-25T14:06:57.126Z"
   },
   {
    "duration": 221,
    "start_time": "2021-11-25T14:06:57.258Z"
   },
   {
    "duration": 139,
    "start_time": "2021-11-25T14:06:57.480Z"
   },
   {
    "duration": 5,
    "start_time": "2021-11-25T14:06:57.620Z"
   },
   {
    "duration": 131,
    "start_time": "2021-11-25T14:06:57.627Z"
   },
   {
    "duration": 223,
    "start_time": "2021-11-25T14:06:57.759Z"
   },
   {
    "duration": 140,
    "start_time": "2021-11-25T14:06:57.984Z"
   },
   {
    "duration": 5,
    "start_time": "2021-11-25T14:06:58.126Z"
   },
   {
    "duration": 140,
    "start_time": "2021-11-25T14:06:58.132Z"
   },
   {
    "duration": 220,
    "start_time": "2021-11-25T14:06:58.273Z"
   },
   {
    "duration": 5,
    "start_time": "2021-11-25T14:06:58.495Z"
   },
   {
    "duration": 10,
    "start_time": "2021-11-25T14:06:58.501Z"
   },
   {
    "duration": 7,
    "start_time": "2021-11-25T14:06:58.512Z"
   },
   {
    "duration": 4,
    "start_time": "2021-11-25T14:06:58.523Z"
   },
   {
    "duration": 6,
    "start_time": "2021-11-25T14:06:58.529Z"
   },
   {
    "duration": 5,
    "start_time": "2021-11-25T14:06:58.537Z"
   },
   {
    "duration": 45,
    "start_time": "2021-11-25T14:06:58.544Z"
   },
   {
    "duration": 5,
    "start_time": "2021-11-25T14:06:58.591Z"
   },
   {
    "duration": 7,
    "start_time": "2021-11-25T14:06:58.598Z"
   },
   {
    "duration": 5,
    "start_time": "2021-11-25T14:06:58.606Z"
   },
   {
    "duration": 225,
    "start_time": "2021-11-25T14:06:58.612Z"
   },
   {
    "duration": 216,
    "start_time": "2021-11-25T14:06:58.839Z"
   },
   {
    "duration": 322,
    "start_time": "2021-11-25T14:06:59.057Z"
   },
   {
    "duration": 202,
    "start_time": "2021-11-25T14:06:59.380Z"
   },
   {
    "duration": 214,
    "start_time": "2021-11-25T14:06:59.587Z"
   },
   {
    "duration": 30,
    "start_time": "2021-11-25T14:06:59.803Z"
   },
   {
    "duration": 5,
    "start_time": "2021-11-25T14:06:59.834Z"
   },
   {
    "duration": 5,
    "start_time": "2021-11-25T14:06:59.840Z"
   },
   {
    "duration": 4,
    "start_time": "2021-11-25T14:06:59.846Z"
   },
   {
    "duration": 79,
    "start_time": "2021-11-25T14:06:59.852Z"
   },
   {
    "duration": 4,
    "start_time": "2021-11-25T14:06:59.932Z"
   },
   {
    "duration": 20,
    "start_time": "2021-11-25T14:06:59.937Z"
   },
   {
    "duration": 6,
    "start_time": "2021-11-25T14:06:59.959Z"
   },
   {
    "duration": 27,
    "start_time": "2021-11-25T14:06:59.966Z"
   },
   {
    "duration": 5,
    "start_time": "2021-11-25T14:06:59.995Z"
   },
   {
    "duration": 3,
    "start_time": "2021-11-25T14:24:51.982Z"
   },
   {
    "duration": 424,
    "start_time": "2021-11-25T14:24:51.992Z"
   },
   {
    "duration": 92,
    "start_time": "2021-11-25T14:24:52.418Z"
   },
   {
    "duration": 29,
    "start_time": "2021-11-25T14:24:52.512Z"
   },
   {
    "duration": 8,
    "start_time": "2021-11-25T14:24:52.543Z"
   },
   {
    "duration": 45,
    "start_time": "2021-11-25T14:24:52.552Z"
   },
   {
    "duration": 61,
    "start_time": "2021-11-25T14:24:52.600Z"
   },
   {
    "duration": 76,
    "start_time": "2021-11-25T14:24:52.662Z"
   },
   {
    "duration": 20,
    "start_time": "2021-11-25T14:24:52.740Z"
   },
   {
    "duration": 40,
    "start_time": "2021-11-25T14:24:52.762Z"
   },
   {
    "duration": 17,
    "start_time": "2021-11-25T14:24:52.804Z"
   },
   {
    "duration": 34,
    "start_time": "2021-11-25T14:24:52.822Z"
   },
   {
    "duration": 80,
    "start_time": "2021-11-25T14:24:52.858Z"
   },
   {
    "duration": 19,
    "start_time": "2021-11-25T14:24:52.939Z"
   },
   {
    "duration": 58,
    "start_time": "2021-11-25T14:24:52.960Z"
   },
   {
    "duration": 36,
    "start_time": "2021-11-25T14:24:53.019Z"
   },
   {
    "duration": 64,
    "start_time": "2021-11-25T14:24:53.057Z"
   },
   {
    "duration": 15,
    "start_time": "2021-11-25T14:24:53.123Z"
   },
   {
    "duration": 69,
    "start_time": "2021-11-25T14:24:53.140Z"
   },
   {
    "duration": 20,
    "start_time": "2021-11-25T14:24:53.211Z"
   },
   {
    "duration": 7,
    "start_time": "2021-11-25T14:24:53.233Z"
   },
   {
    "duration": 20,
    "start_time": "2021-11-25T14:24:53.242Z"
   },
   {
    "duration": 20,
    "start_time": "2021-11-25T14:24:53.288Z"
   },
   {
    "duration": 6,
    "start_time": "2021-11-25T14:24:53.311Z"
   },
   {
    "duration": 6,
    "start_time": "2021-11-25T14:24:53.318Z"
   },
   {
    "duration": 6,
    "start_time": "2021-11-25T14:24:57.413Z"
   },
   {
    "duration": 2,
    "start_time": "2021-11-25T14:30:39.539Z"
   },
   {
    "duration": 372,
    "start_time": "2021-11-25T14:30:39.546Z"
   },
   {
    "duration": 61,
    "start_time": "2021-11-25T14:30:39.920Z"
   },
   {
    "duration": 27,
    "start_time": "2021-11-25T14:30:39.983Z"
   },
   {
    "duration": 8,
    "start_time": "2021-11-25T14:30:40.012Z"
   },
   {
    "duration": 22,
    "start_time": "2021-11-25T14:30:40.022Z"
   },
   {
    "duration": 86,
    "start_time": "2021-11-25T14:30:40.045Z"
   },
   {
    "duration": 72,
    "start_time": "2021-11-25T14:30:40.133Z"
   },
   {
    "duration": 21,
    "start_time": "2021-11-25T14:30:40.207Z"
   },
   {
    "duration": 12,
    "start_time": "2021-11-25T14:30:40.230Z"
   },
   {
    "duration": 53,
    "start_time": "2021-11-25T14:30:40.243Z"
   },
   {
    "duration": 34,
    "start_time": "2021-11-25T14:30:40.298Z"
   },
   {
    "duration": 64,
    "start_time": "2021-11-25T14:30:40.333Z"
   },
   {
    "duration": 19,
    "start_time": "2021-11-25T14:30:40.398Z"
   },
   {
    "duration": 33,
    "start_time": "2021-11-25T14:30:40.418Z"
   },
   {
    "duration": 63,
    "start_time": "2021-11-25T14:30:40.453Z"
   },
   {
    "duration": 28,
    "start_time": "2021-11-25T14:30:40.517Z"
   },
   {
    "duration": 53,
    "start_time": "2021-11-25T14:30:40.546Z"
   },
   {
    "duration": 29,
    "start_time": "2021-11-25T14:30:40.601Z"
   },
   {
    "duration": 18,
    "start_time": "2021-11-25T14:30:40.632Z"
   },
   {
    "duration": 7,
    "start_time": "2021-11-25T14:30:40.651Z"
   },
   {
    "duration": 19,
    "start_time": "2021-11-25T14:30:40.688Z"
   },
   {
    "duration": 14,
    "start_time": "2021-11-25T14:30:40.709Z"
   },
   {
    "duration": 5,
    "start_time": "2021-11-25T14:30:40.726Z"
   },
   {
    "duration": 5,
    "start_time": "2021-11-25T14:30:40.733Z"
   },
   {
    "duration": 8,
    "start_time": "2021-11-25T14:30:40.739Z"
   },
   {
    "duration": 47,
    "start_time": "2021-11-25T14:30:40.748Z"
   },
   {
    "duration": 4,
    "start_time": "2021-11-25T14:30:40.796Z"
   },
   {
    "duration": 21,
    "start_time": "2021-11-25T14:30:40.801Z"
   },
   {
    "duration": 297,
    "start_time": "2021-11-25T14:30:40.824Z"
   },
   {
    "duration": 17,
    "start_time": "2021-11-25T14:30:41.123Z"
   },
   {
    "duration": 147,
    "start_time": "2021-11-25T14:30:41.142Z"
   },
   {
    "duration": 3,
    "start_time": "2021-11-25T14:30:41.290Z"
   },
   {
    "duration": 6,
    "start_time": "2021-11-25T14:30:41.295Z"
   },
   {
    "duration": 131,
    "start_time": "2021-11-25T14:30:41.303Z"
   },
   {
    "duration": 216,
    "start_time": "2021-11-25T14:30:41.435Z"
   },
   {
    "duration": 114,
    "start_time": "2021-11-25T14:30:41.653Z"
   },
   {
    "duration": 5,
    "start_time": "2021-11-25T14:30:41.768Z"
   },
   {
    "duration": 132,
    "start_time": "2021-11-25T14:30:41.775Z"
   },
   {
    "duration": 210,
    "start_time": "2021-11-25T14:30:41.908Z"
   },
   {
    "duration": 122,
    "start_time": "2021-11-25T14:30:42.119Z"
   },
   {
    "duration": 6,
    "start_time": "2021-11-25T14:30:42.243Z"
   },
   {
    "duration": 128,
    "start_time": "2021-11-25T14:30:42.250Z"
   },
   {
    "duration": 229,
    "start_time": "2021-11-25T14:30:42.379Z"
   },
   {
    "duration": 4,
    "start_time": "2021-11-25T14:30:42.609Z"
   },
   {
    "duration": 15,
    "start_time": "2021-11-25T14:30:42.614Z"
   },
   {
    "duration": 27,
    "start_time": "2021-11-25T14:30:42.630Z"
   },
   {
    "duration": 16,
    "start_time": "2021-11-25T14:30:42.659Z"
   },
   {
    "duration": 25,
    "start_time": "2021-11-25T14:30:42.676Z"
   },
   {
    "duration": 27,
    "start_time": "2021-11-25T14:30:42.703Z"
   },
   {
    "duration": 10,
    "start_time": "2021-11-25T14:30:42.731Z"
   },
   {
    "duration": 31,
    "start_time": "2021-11-25T14:30:42.742Z"
   },
   {
    "duration": 23,
    "start_time": "2021-11-25T14:30:42.774Z"
   },
   {
    "duration": 15,
    "start_time": "2021-11-25T14:30:42.798Z"
   },
   {
    "duration": 139,
    "start_time": "2021-11-25T14:30:42.814Z"
   },
   {
    "duration": 121,
    "start_time": "2021-11-25T14:30:42.955Z"
   },
   {
    "duration": 10,
    "start_time": "2021-11-25T14:30:43.078Z"
   },
   {
    "duration": 132,
    "start_time": "2021-11-25T14:30:43.090Z"
   },
   {
    "duration": 222,
    "start_time": "2021-11-25T14:30:43.224Z"
   },
   {
    "duration": 139,
    "start_time": "2021-11-25T14:30:43.448Z"
   },
   {
    "duration": 7,
    "start_time": "2021-11-25T14:30:43.589Z"
   },
   {
    "duration": 132,
    "start_time": "2021-11-25T14:30:43.597Z"
   },
   {
    "duration": 215,
    "start_time": "2021-11-25T14:30:43.731Z"
   },
   {
    "duration": 140,
    "start_time": "2021-11-25T14:30:43.948Z"
   },
   {
    "duration": 5,
    "start_time": "2021-11-25T14:30:44.089Z"
   },
   {
    "duration": 132,
    "start_time": "2021-11-25T14:30:44.096Z"
   },
   {
    "duration": 210,
    "start_time": "2021-11-25T14:30:44.229Z"
   },
   {
    "duration": 4,
    "start_time": "2021-11-25T14:30:44.440Z"
   },
   {
    "duration": 6,
    "start_time": "2021-11-25T14:30:44.449Z"
   },
   {
    "duration": 31,
    "start_time": "2021-11-25T14:30:44.457Z"
   },
   {
    "duration": 3,
    "start_time": "2021-11-25T14:30:44.490Z"
   },
   {
    "duration": 7,
    "start_time": "2021-11-25T14:30:44.495Z"
   },
   {
    "duration": 13,
    "start_time": "2021-11-25T14:30:44.504Z"
   },
   {
    "duration": 13,
    "start_time": "2021-11-25T14:30:44.518Z"
   },
   {
    "duration": 19,
    "start_time": "2021-11-25T14:30:44.533Z"
   },
   {
    "duration": 16,
    "start_time": "2021-11-25T14:30:44.554Z"
   },
   {
    "duration": 15,
    "start_time": "2021-11-25T14:30:44.572Z"
   },
   {
    "duration": 213,
    "start_time": "2021-11-25T14:30:44.589Z"
   },
   {
    "duration": 204,
    "start_time": "2021-11-25T14:30:44.804Z"
   },
   {
    "duration": 214,
    "start_time": "2021-11-25T14:30:45.010Z"
   },
   {
    "duration": 195,
    "start_time": "2021-11-25T14:30:45.226Z"
   },
   {
    "duration": 196,
    "start_time": "2021-11-25T14:30:45.423Z"
   },
   {
    "duration": 30,
    "start_time": "2021-11-25T14:30:45.621Z"
   },
   {
    "duration": 5,
    "start_time": "2021-11-25T14:30:45.652Z"
   },
   {
    "duration": 7,
    "start_time": "2021-11-25T14:30:45.658Z"
   },
   {
    "duration": 4,
    "start_time": "2021-11-25T14:30:45.687Z"
   },
   {
    "duration": 48,
    "start_time": "2021-11-25T14:30:45.693Z"
   },
   {
    "duration": 3,
    "start_time": "2021-11-25T14:30:45.742Z"
   },
   {
    "duration": 43,
    "start_time": "2021-11-25T14:30:45.747Z"
   },
   {
    "duration": 6,
    "start_time": "2021-11-25T14:30:45.791Z"
   },
   {
    "duration": 5,
    "start_time": "2021-11-25T14:30:45.799Z"
   },
   {
    "duration": 5,
    "start_time": "2021-11-25T14:30:45.806Z"
   },
   {
    "duration": 25,
    "start_time": "2021-11-25T14:36:02.607Z"
   },
   {
    "duration": 2,
    "start_time": "2021-11-25T14:36:06.546Z"
   },
   {
    "duration": 376,
    "start_time": "2021-11-25T14:36:06.553Z"
   },
   {
    "duration": 59,
    "start_time": "2021-11-25T14:36:06.931Z"
   },
   {
    "duration": 28,
    "start_time": "2021-11-25T14:36:06.992Z"
   },
   {
    "duration": 8,
    "start_time": "2021-11-25T14:36:07.022Z"
   },
   {
    "duration": 17,
    "start_time": "2021-11-25T14:36:07.031Z"
   },
   {
    "duration": 94,
    "start_time": "2021-11-25T14:36:07.049Z"
   },
   {
    "duration": 66,
    "start_time": "2021-11-25T14:36:07.144Z"
   },
   {
    "duration": 22,
    "start_time": "2021-11-25T14:36:07.213Z"
   },
   {
    "duration": 12,
    "start_time": "2021-11-25T14:36:07.237Z"
   },
   {
    "duration": 49,
    "start_time": "2021-11-25T14:36:07.251Z"
   },
   {
    "duration": 35,
    "start_time": "2021-11-25T14:36:07.301Z"
   },
   {
    "duration": 57,
    "start_time": "2021-11-25T14:36:07.338Z"
   },
   {
    "duration": 18,
    "start_time": "2021-11-25T14:36:07.397Z"
   },
   {
    "duration": 30,
    "start_time": "2021-11-25T14:36:07.416Z"
   },
   {
    "duration": 61,
    "start_time": "2021-11-25T14:36:07.448Z"
   },
   {
    "duration": 27,
    "start_time": "2021-11-25T14:36:07.510Z"
   },
   {
    "duration": 50,
    "start_time": "2021-11-25T14:36:07.538Z"
   },
   {
    "duration": 31,
    "start_time": "2021-11-25T14:36:07.590Z"
   },
   {
    "duration": 19,
    "start_time": "2021-11-25T14:36:07.622Z"
   },
   {
    "duration": 7,
    "start_time": "2021-11-25T14:36:07.643Z"
   },
   {
    "duration": 53,
    "start_time": "2021-11-25T14:36:07.652Z"
   },
   {
    "duration": 13,
    "start_time": "2021-11-25T14:36:07.707Z"
   },
   {
    "duration": 10,
    "start_time": "2021-11-25T14:36:07.723Z"
   },
   {
    "duration": 8,
    "start_time": "2021-11-25T14:36:07.734Z"
   },
   {
    "duration": 21,
    "start_time": "2021-11-25T14:36:07.744Z"
   },
   {
    "duration": 21,
    "start_time": "2021-11-25T14:36:07.767Z"
   },
   {
    "duration": 19,
    "start_time": "2021-11-25T14:36:07.790Z"
   },
   {
    "duration": 20,
    "start_time": "2021-11-25T14:36:14.427Z"
   },
   {
    "duration": 23,
    "start_time": "2021-11-25T14:36:23.231Z"
   },
   {
    "duration": 4,
    "start_time": "2021-11-25T14:45:30.890Z"
   },
   {
    "duration": 1012,
    "start_time": "2021-11-25T14:49:31.852Z"
   },
   {
    "duration": 377,
    "start_time": "2021-11-25T14:49:32.866Z"
   },
   {
    "duration": 70,
    "start_time": "2021-11-25T14:49:33.247Z"
   },
   {
    "duration": 34,
    "start_time": "2021-11-25T14:49:33.318Z"
   },
   {
    "duration": 12,
    "start_time": "2021-11-25T14:49:33.353Z"
   },
   {
    "duration": 17,
    "start_time": "2021-11-25T14:49:33.387Z"
   },
   {
    "duration": 93,
    "start_time": "2021-11-25T14:49:33.407Z"
   },
   {
    "duration": 52,
    "start_time": "2021-11-25T14:49:33.502Z"
   },
   {
    "duration": 34,
    "start_time": "2021-11-25T14:49:33.556Z"
   },
   {
    "duration": 18,
    "start_time": "2021-11-25T14:49:33.591Z"
   },
   {
    "duration": 33,
    "start_time": "2021-11-25T14:49:33.610Z"
   },
   {
    "duration": 63,
    "start_time": "2021-11-25T14:49:33.645Z"
   },
   {
    "duration": 38,
    "start_time": "2021-11-25T14:49:33.710Z"
   },
   {
    "duration": 17,
    "start_time": "2021-11-25T14:49:33.749Z"
   },
   {
    "duration": 45,
    "start_time": "2021-11-25T14:49:33.768Z"
   },
   {
    "duration": 36,
    "start_time": "2021-11-25T14:49:33.815Z"
   },
   {
    "duration": 52,
    "start_time": "2021-11-25T14:49:33.853Z"
   },
   {
    "duration": 15,
    "start_time": "2021-11-25T14:49:33.906Z"
   },
   {
    "duration": 36,
    "start_time": "2021-11-25T14:49:33.923Z"
   },
   {
    "duration": 39,
    "start_time": "2021-11-25T14:49:33.960Z"
   },
   {
    "duration": 9,
    "start_time": "2021-11-25T14:49:34.001Z"
   },
   {
    "duration": 22,
    "start_time": "2021-11-25T14:49:34.014Z"
   },
   {
    "duration": 14,
    "start_time": "2021-11-25T14:49:34.039Z"
   },
   {
    "duration": 32,
    "start_time": "2021-11-25T14:49:34.055Z"
   },
   {
    "duration": 4,
    "start_time": "2021-11-25T14:49:34.089Z"
   },
   {
    "duration": 20,
    "start_time": "2021-11-25T14:49:34.094Z"
   },
   {
    "duration": 10,
    "start_time": "2021-11-25T14:49:34.115Z"
   },
   {
    "duration": 3,
    "start_time": "2021-11-25T14:49:34.126Z"
   },
   {
    "duration": 22,
    "start_time": "2021-11-25T14:49:34.130Z"
   },
   {
    "duration": 275,
    "start_time": "2021-11-25T14:49:34.154Z"
   },
   {
    "duration": 16,
    "start_time": "2021-11-25T14:49:34.431Z"
   },
   {
    "duration": 130,
    "start_time": "2021-11-25T14:49:34.448Z"
   },
   {
    "duration": 10,
    "start_time": "2021-11-25T14:49:34.579Z"
   },
   {
    "duration": 14,
    "start_time": "2021-11-25T14:49:34.590Z"
   },
   {
    "duration": 122,
    "start_time": "2021-11-25T14:49:34.605Z"
   },
   {
    "duration": 212,
    "start_time": "2021-11-25T14:49:34.728Z"
   },
   {
    "duration": 122,
    "start_time": "2021-11-25T14:49:34.942Z"
   },
   {
    "duration": 6,
    "start_time": "2021-11-25T14:49:35.065Z"
   },
   {
    "duration": 132,
    "start_time": "2021-11-25T14:49:35.072Z"
   },
   {
    "duration": 251,
    "start_time": "2021-11-25T14:49:35.206Z"
   },
   {
    "duration": 115,
    "start_time": "2021-11-25T14:49:35.459Z"
   },
   {
    "duration": 13,
    "start_time": "2021-11-25T14:49:35.576Z"
   },
   {
    "duration": 117,
    "start_time": "2021-11-25T14:49:35.591Z"
   },
   {
    "duration": 213,
    "start_time": "2021-11-25T14:49:35.709Z"
   },
   {
    "duration": 5,
    "start_time": "2021-11-25T14:49:35.924Z"
   },
   {
    "duration": 24,
    "start_time": "2021-11-25T14:49:35.930Z"
   },
   {
    "duration": 25,
    "start_time": "2021-11-25T14:49:35.955Z"
   },
   {
    "duration": 15,
    "start_time": "2021-11-25T14:49:35.981Z"
   },
   {
    "duration": 6,
    "start_time": "2021-11-25T14:49:35.998Z"
   },
   {
    "duration": 14,
    "start_time": "2021-11-25T14:49:36.006Z"
   },
   {
    "duration": 7,
    "start_time": "2021-11-25T14:49:36.021Z"
   },
   {
    "duration": 20,
    "start_time": "2021-11-25T14:49:36.030Z"
   },
   {
    "duration": 15,
    "start_time": "2021-11-25T14:49:36.052Z"
   },
   {
    "duration": 31,
    "start_time": "2021-11-25T14:49:36.069Z"
   },
   {
    "duration": 46,
    "start_time": "2021-11-25T14:49:36.102Z"
   },
   {
    "duration": 111,
    "start_time": "2021-11-25T14:49:36.149Z"
   },
   {
    "duration": 6,
    "start_time": "2021-11-25T14:49:36.262Z"
   },
   {
    "duration": 128,
    "start_time": "2021-11-25T14:49:36.270Z"
   },
   {
    "duration": 213,
    "start_time": "2021-11-25T14:49:36.400Z"
   },
   {
    "duration": 125,
    "start_time": "2021-11-25T14:49:36.615Z"
   },
   {
    "duration": 5,
    "start_time": "2021-11-25T14:49:36.741Z"
   },
   {
    "duration": 122,
    "start_time": "2021-11-25T14:49:36.747Z"
   },
   {
    "duration": 209,
    "start_time": "2021-11-25T14:49:36.870Z"
   },
   {
    "duration": 124,
    "start_time": "2021-11-25T14:49:37.080Z"
   },
   {
    "duration": 6,
    "start_time": "2021-11-25T14:49:37.205Z"
   },
   {
    "duration": 199,
    "start_time": "2021-11-25T14:49:37.212Z"
   },
   {
    "duration": 203,
    "start_time": "2021-11-25T14:49:37.416Z"
   },
   {
    "duration": 4,
    "start_time": "2021-11-25T14:49:37.621Z"
   },
   {
    "duration": 14,
    "start_time": "2021-11-25T14:49:37.626Z"
   },
   {
    "duration": 19,
    "start_time": "2021-11-25T14:49:37.642Z"
   },
   {
    "duration": 15,
    "start_time": "2021-11-25T14:49:37.662Z"
   },
   {
    "duration": 24,
    "start_time": "2021-11-25T14:49:37.679Z"
   },
   {
    "duration": 9,
    "start_time": "2021-11-25T14:49:37.705Z"
   },
   {
    "duration": 9,
    "start_time": "2021-11-25T14:49:37.716Z"
   },
   {
    "duration": 27,
    "start_time": "2021-11-25T14:49:37.727Z"
   },
   {
    "duration": 19,
    "start_time": "2021-11-25T14:49:37.756Z"
   },
   {
    "duration": 21,
    "start_time": "2021-11-25T14:49:37.776Z"
   },
   {
    "duration": 203,
    "start_time": "2021-11-25T14:49:37.798Z"
   },
   {
    "duration": 202,
    "start_time": "2021-11-25T14:49:38.003Z"
   },
   {
    "duration": 210,
    "start_time": "2021-11-25T14:49:38.207Z"
   },
   {
    "duration": 192,
    "start_time": "2021-11-25T14:49:38.419Z"
   },
   {
    "duration": 202,
    "start_time": "2021-11-25T14:49:38.613Z"
   },
   {
    "duration": 31,
    "start_time": "2021-11-25T14:49:38.816Z"
   },
   {
    "duration": 5,
    "start_time": "2021-11-25T14:49:38.848Z"
   },
   {
    "duration": 33,
    "start_time": "2021-11-25T14:49:38.855Z"
   },
   {
    "duration": 29,
    "start_time": "2021-11-25T14:49:38.890Z"
   },
   {
    "duration": 61,
    "start_time": "2021-11-25T14:49:38.921Z"
   },
   {
    "duration": 4,
    "start_time": "2021-11-25T14:49:38.983Z"
   },
   {
    "duration": 41,
    "start_time": "2021-11-25T14:49:38.988Z"
   },
   {
    "duration": 11,
    "start_time": "2021-11-25T14:49:39.030Z"
   },
   {
    "duration": 24,
    "start_time": "2021-11-25T14:49:39.043Z"
   },
   {
    "duration": 18,
    "start_time": "2021-11-25T14:49:39.068Z"
   },
   {
    "duration": 9,
    "start_time": "2021-11-26T08:16:04.956Z"
   },
   {
    "duration": 196,
    "start_time": "2021-11-26T08:16:27.031Z"
   },
   {
    "duration": 8,
    "start_time": "2021-11-26T08:16:35.866Z"
   },
   {
    "duration": 4,
    "start_time": "2021-11-26T08:17:24.116Z"
   },
   {
    "duration": 1169,
    "start_time": "2021-11-26T08:20:03.594Z"
   },
   {
    "duration": 572,
    "start_time": "2021-11-26T08:20:04.765Z"
   },
   {
    "duration": 105,
    "start_time": "2021-11-26T08:20:05.339Z"
   },
   {
    "duration": 56,
    "start_time": "2021-11-26T08:20:05.446Z"
   },
   {
    "duration": 9,
    "start_time": "2021-11-26T08:20:05.504Z"
   },
   {
    "duration": 26,
    "start_time": "2021-11-26T08:20:05.515Z"
   },
   {
    "duration": 82,
    "start_time": "2021-11-26T08:20:05.543Z"
   },
   {
    "duration": 72,
    "start_time": "2021-11-26T08:20:05.627Z"
   },
   {
    "duration": 24,
    "start_time": "2021-11-26T08:20:05.701Z"
   },
   {
    "duration": 13,
    "start_time": "2021-11-26T08:20:05.726Z"
   },
   {
    "duration": 18,
    "start_time": "2021-11-26T08:20:05.741Z"
   },
   {
    "duration": 65,
    "start_time": "2021-11-26T08:20:05.760Z"
   },
   {
    "duration": 40,
    "start_time": "2021-11-26T08:20:05.826Z"
   },
   {
    "duration": 40,
    "start_time": "2021-11-26T08:20:05.868Z"
   },
   {
    "duration": 32,
    "start_time": "2021-11-26T08:20:05.910Z"
   },
   {
    "duration": 56,
    "start_time": "2021-11-26T08:20:05.944Z"
   },
   {
    "duration": 31,
    "start_time": "2021-11-26T08:20:06.002Z"
   },
   {
    "duration": 18,
    "start_time": "2021-11-26T08:20:06.035Z"
   },
   {
    "duration": 68,
    "start_time": "2021-11-26T08:20:06.054Z"
   },
   {
    "duration": 22,
    "start_time": "2021-11-26T08:20:06.124Z"
   },
   {
    "duration": 10,
    "start_time": "2021-11-26T08:20:06.147Z"
   },
   {
    "duration": 51,
    "start_time": "2021-11-26T08:20:06.158Z"
   },
   {
    "duration": 18,
    "start_time": "2021-11-26T08:20:06.214Z"
   },
   {
    "duration": 7,
    "start_time": "2021-11-26T08:20:06.235Z"
   },
   {
    "duration": 7,
    "start_time": "2021-11-26T08:20:06.244Z"
   },
   {
    "duration": 40,
    "start_time": "2021-11-26T08:20:06.253Z"
   },
   {
    "duration": 21,
    "start_time": "2021-11-26T08:20:06.296Z"
   },
   {
    "duration": 15,
    "start_time": "2021-11-26T08:20:06.320Z"
   },
   {
    "duration": 40,
    "start_time": "2021-11-26T08:20:06.337Z"
   },
   {
    "duration": 319,
    "start_time": "2021-11-26T08:20:06.379Z"
   },
   {
    "duration": 3,
    "start_time": "2021-11-26T08:20:06.700Z"
   },
   {
    "duration": 29,
    "start_time": "2021-11-26T08:20:06.705Z"
   },
   {
    "duration": 147,
    "start_time": "2021-11-26T08:20:06.736Z"
   },
   {
    "duration": 9,
    "start_time": "2021-11-26T08:20:06.884Z"
   },
   {
    "duration": 8,
    "start_time": "2021-11-26T08:20:06.895Z"
   },
   {
    "duration": 146,
    "start_time": "2021-11-26T08:20:06.905Z"
   },
   {
    "duration": 235,
    "start_time": "2021-11-26T08:20:07.053Z"
   },
   {
    "duration": 141,
    "start_time": "2021-11-26T08:20:07.291Z"
   },
   {
    "duration": 6,
    "start_time": "2021-11-26T08:20:07.433Z"
   },
   {
    "duration": 197,
    "start_time": "2021-11-26T08:20:07.440Z"
   },
   {
    "duration": 231,
    "start_time": "2021-11-26T08:20:07.639Z"
   },
   {
    "duration": 140,
    "start_time": "2021-11-26T08:20:07.872Z"
   },
   {
    "duration": 6,
    "start_time": "2021-11-26T08:20:08.014Z"
   },
   {
    "duration": 142,
    "start_time": "2021-11-26T08:20:08.022Z"
   },
   {
    "duration": 254,
    "start_time": "2021-11-26T08:20:08.166Z"
   },
   {
    "duration": 4,
    "start_time": "2021-11-26T08:20:08.422Z"
   },
   {
    "duration": 5,
    "start_time": "2021-11-26T08:20:08.428Z"
   },
   {
    "duration": 5,
    "start_time": "2021-11-26T08:20:08.435Z"
   },
   {
    "duration": 9,
    "start_time": "2021-11-26T08:20:08.442Z"
   },
   {
    "duration": 6,
    "start_time": "2021-11-26T08:20:08.452Z"
   },
   {
    "duration": 5,
    "start_time": "2021-11-26T08:20:08.459Z"
   },
   {
    "duration": 29,
    "start_time": "2021-11-26T08:20:08.466Z"
   },
   {
    "duration": 8,
    "start_time": "2021-11-26T08:20:08.497Z"
   },
   {
    "duration": 7,
    "start_time": "2021-11-26T08:20:08.506Z"
   },
   {
    "duration": 5,
    "start_time": "2021-11-26T08:20:08.514Z"
   },
   {
    "duration": 20,
    "start_time": "2021-11-26T08:20:08.521Z"
   },
   {
    "duration": 156,
    "start_time": "2021-11-26T08:20:08.543Z"
   },
   {
    "duration": 6,
    "start_time": "2021-11-26T08:20:08.701Z"
   },
   {
    "duration": 145,
    "start_time": "2021-11-26T08:20:08.708Z"
   },
   {
    "duration": 258,
    "start_time": "2021-11-26T08:20:08.854Z"
   },
   {
    "duration": 147,
    "start_time": "2021-11-26T08:20:09.114Z"
   },
   {
    "duration": 5,
    "start_time": "2021-11-26T08:20:09.263Z"
   },
   {
    "duration": 143,
    "start_time": "2021-11-26T08:20:09.270Z"
   },
   {
    "duration": 234,
    "start_time": "2021-11-26T08:20:09.415Z"
   },
   {
    "duration": 219,
    "start_time": "2021-11-26T08:20:09.651Z"
   },
   {
    "duration": 6,
    "start_time": "2021-11-26T08:20:09.871Z"
   },
   {
    "duration": 151,
    "start_time": "2021-11-26T08:20:09.878Z"
   },
   {
    "duration": 256,
    "start_time": "2021-11-26T08:20:10.034Z"
   },
   {
    "duration": 4,
    "start_time": "2021-11-26T08:20:10.293Z"
   },
   {
    "duration": 9,
    "start_time": "2021-11-26T08:20:10.299Z"
   },
   {
    "duration": 6,
    "start_time": "2021-11-26T08:20:10.310Z"
   },
   {
    "duration": 6,
    "start_time": "2021-11-26T08:20:10.317Z"
   },
   {
    "duration": 6,
    "start_time": "2021-11-26T08:20:10.325Z"
   },
   {
    "duration": 6,
    "start_time": "2021-11-26T08:20:10.332Z"
   },
   {
    "duration": 9,
    "start_time": "2021-11-26T08:20:10.339Z"
   },
   {
    "duration": 6,
    "start_time": "2021-11-26T08:20:10.349Z"
   },
   {
    "duration": 37,
    "start_time": "2021-11-26T08:20:10.356Z"
   },
   {
    "duration": 4,
    "start_time": "2021-11-26T08:20:10.394Z"
   },
   {
    "duration": 231,
    "start_time": "2021-11-26T08:20:10.400Z"
   },
   {
    "duration": 233,
    "start_time": "2021-11-26T08:20:10.633Z"
   },
   {
    "duration": 241,
    "start_time": "2021-11-26T08:20:10.868Z"
   },
   {
    "duration": 220,
    "start_time": "2021-11-26T08:20:11.110Z"
   },
   {
    "duration": 222,
    "start_time": "2021-11-26T08:20:11.331Z"
   },
   {
    "duration": 42,
    "start_time": "2021-11-26T08:20:11.554Z"
   },
   {
    "duration": 6,
    "start_time": "2021-11-26T08:20:11.597Z"
   },
   {
    "duration": 7,
    "start_time": "2021-11-26T08:20:11.604Z"
   },
   {
    "duration": 8,
    "start_time": "2021-11-26T08:20:11.612Z"
   },
   {
    "duration": 47,
    "start_time": "2021-11-26T08:20:11.621Z"
   },
   {
    "duration": 22,
    "start_time": "2021-11-26T08:20:11.670Z"
   },
   {
    "duration": 20,
    "start_time": "2021-11-26T08:20:11.694Z"
   },
   {
    "duration": 7,
    "start_time": "2021-11-26T08:20:11.715Z"
   },
   {
    "duration": 8,
    "start_time": "2021-11-26T08:20:11.723Z"
   },
   {
    "duration": 6,
    "start_time": "2021-11-26T08:20:11.733Z"
   },
   {
    "duration": 1174,
    "start_time": "2021-11-26T09:17:01.042Z"
   },
   {
    "duration": 428,
    "start_time": "2021-11-26T09:17:02.218Z"
   },
   {
    "duration": 78,
    "start_time": "2021-11-26T09:17:02.648Z"
   },
   {
    "duration": 52,
    "start_time": "2021-11-26T09:17:02.728Z"
   },
   {
    "duration": 12,
    "start_time": "2021-11-26T09:17:02.782Z"
   },
   {
    "duration": 20,
    "start_time": "2021-11-26T09:17:02.795Z"
   },
   {
    "duration": 101,
    "start_time": "2021-11-26T09:17:02.817Z"
   },
   {
    "duration": 71,
    "start_time": "2021-11-26T09:17:02.920Z"
   },
   {
    "duration": 25,
    "start_time": "2021-11-26T09:17:02.993Z"
   },
   {
    "duration": 13,
    "start_time": "2021-11-26T09:17:03.019Z"
   },
   {
    "duration": 49,
    "start_time": "2021-11-26T09:17:03.033Z"
   },
   {
    "duration": 102,
    "start_time": "2021-11-26T09:17:03.084Z"
   },
   {
    "duration": 44,
    "start_time": "2021-11-26T09:17:03.188Z"
   },
   {
    "duration": 72,
    "start_time": "2021-11-26T09:17:03.233Z"
   },
   {
    "duration": 33,
    "start_time": "2021-11-26T09:17:03.307Z"
   },
   {
    "duration": 57,
    "start_time": "2021-11-26T09:17:03.342Z"
   },
   {
    "duration": 61,
    "start_time": "2021-11-26T09:17:03.401Z"
   },
   {
    "duration": 17,
    "start_time": "2021-11-26T09:17:03.464Z"
   },
   {
    "duration": 64,
    "start_time": "2021-11-26T09:17:03.483Z"
   },
   {
    "duration": 23,
    "start_time": "2021-11-26T09:17:03.549Z"
   },
   {
    "duration": 144,
    "start_time": "2021-11-26T09:17:03.574Z"
   },
   {
    "duration": 54,
    "start_time": "2021-11-26T09:17:03.720Z"
   },
   {
    "duration": 16,
    "start_time": "2021-11-26T09:17:03.778Z"
   },
   {
    "duration": 6,
    "start_time": "2021-11-26T09:17:03.796Z"
   },
   {
    "duration": 10,
    "start_time": "2021-11-26T09:17:03.803Z"
   },
   {
    "duration": 16,
    "start_time": "2021-11-26T09:17:03.815Z"
   },
   {
    "duration": 31,
    "start_time": "2021-11-26T09:17:03.833Z"
   },
   {
    "duration": 8,
    "start_time": "2021-11-26T09:17:03.865Z"
   },
   {
    "duration": 40,
    "start_time": "2021-11-26T09:17:03.875Z"
   },
   {
    "duration": 290,
    "start_time": "2021-11-26T09:17:03.917Z"
   },
   {
    "duration": 3,
    "start_time": "2021-11-26T09:17:04.208Z"
   },
   {
    "duration": 67,
    "start_time": "2021-11-26T09:17:04.213Z"
   },
   {
    "duration": 158,
    "start_time": "2021-11-26T09:17:04.281Z"
   },
   {
    "duration": 3,
    "start_time": "2021-11-26T09:17:04.441Z"
   },
   {
    "duration": 18,
    "start_time": "2021-11-26T09:17:04.446Z"
   },
   {
    "duration": 136,
    "start_time": "2021-11-26T09:17:04.466Z"
   },
   {
    "duration": 240,
    "start_time": "2021-11-26T09:17:04.604Z"
   },
   {
    "duration": 149,
    "start_time": "2021-11-26T09:17:04.846Z"
   },
   {
    "duration": 6,
    "start_time": "2021-11-26T09:17:04.996Z"
   },
   {
    "duration": 221,
    "start_time": "2021-11-26T09:17:05.004Z"
   },
   {
    "duration": 229,
    "start_time": "2021-11-26T09:17:05.226Z"
   },
   {
    "duration": 137,
    "start_time": "2021-11-26T09:17:05.457Z"
   },
   {
    "duration": 5,
    "start_time": "2021-11-26T09:17:05.596Z"
   },
   {
    "duration": 138,
    "start_time": "2021-11-26T09:17:05.603Z"
   },
   {
    "duration": 255,
    "start_time": "2021-11-26T09:17:05.743Z"
   },
   {
    "duration": 5,
    "start_time": "2021-11-26T09:17:06.000Z"
   },
   {
    "duration": 77,
    "start_time": "2021-11-26T09:17:06.006Z"
   },
   {
    "duration": 159,
    "start_time": "2021-11-26T09:17:06.084Z"
   },
   {
    "duration": 95,
    "start_time": "2021-11-26T09:17:06.244Z"
   },
   {
    "duration": 22,
    "start_time": "2021-11-26T09:17:06.341Z"
   },
   {
    "duration": 55,
    "start_time": "2021-11-26T09:17:06.365Z"
   },
   {
    "duration": 23,
    "start_time": "2021-11-26T09:17:06.422Z"
   },
   {
    "duration": 15,
    "start_time": "2021-11-26T09:17:06.447Z"
   },
   {
    "duration": 17,
    "start_time": "2021-11-26T09:17:06.464Z"
   },
   {
    "duration": 26,
    "start_time": "2021-11-26T09:17:06.483Z"
   },
   {
    "duration": 26,
    "start_time": "2021-11-26T09:17:06.511Z"
   },
   {
    "duration": 131,
    "start_time": "2021-11-26T09:17:06.539Z"
   },
   {
    "duration": 7,
    "start_time": "2021-11-26T09:17:06.672Z"
   },
   {
    "duration": 155,
    "start_time": "2021-11-26T09:17:06.681Z"
   },
   {
    "duration": 247,
    "start_time": "2021-11-26T09:17:06.837Z"
   },
   {
    "duration": 152,
    "start_time": "2021-11-26T09:17:07.086Z"
   },
   {
    "duration": 8,
    "start_time": "2021-11-26T09:17:07.240Z"
   },
   {
    "duration": 145,
    "start_time": "2021-11-26T09:17:07.263Z"
   },
   {
    "duration": 241,
    "start_time": "2021-11-26T09:17:07.410Z"
   },
   {
    "duration": 225,
    "start_time": "2021-11-26T09:17:07.653Z"
   },
   {
    "duration": 6,
    "start_time": "2021-11-26T09:17:07.879Z"
   },
   {
    "duration": 151,
    "start_time": "2021-11-26T09:17:07.887Z"
   },
   {
    "duration": 234,
    "start_time": "2021-11-26T09:17:08.043Z"
   },
   {
    "duration": 5,
    "start_time": "2021-11-26T09:17:08.279Z"
   },
   {
    "duration": 10,
    "start_time": "2021-11-26T09:17:08.285Z"
   },
   {
    "duration": 6,
    "start_time": "2021-11-26T09:17:08.296Z"
   },
   {
    "duration": 6,
    "start_time": "2021-11-26T09:17:08.304Z"
   },
   {
    "duration": 9,
    "start_time": "2021-11-26T09:17:08.312Z"
   },
   {
    "duration": 6,
    "start_time": "2021-11-26T09:17:08.322Z"
   },
   {
    "duration": 38,
    "start_time": "2021-11-26T09:17:08.330Z"
   },
   {
    "duration": 7,
    "start_time": "2021-11-26T09:17:08.370Z"
   },
   {
    "duration": 9,
    "start_time": "2021-11-26T09:17:08.379Z"
   },
   {
    "duration": 9,
    "start_time": "2021-11-26T09:17:08.389Z"
   },
   {
    "duration": 247,
    "start_time": "2021-11-26T09:17:08.400Z"
   },
   {
    "duration": 223,
    "start_time": "2021-11-26T09:17:08.649Z"
   },
   {
    "duration": 231,
    "start_time": "2021-11-26T09:17:08.874Z"
   },
   {
    "duration": 217,
    "start_time": "2021-11-26T09:17:09.107Z"
   },
   {
    "duration": 218,
    "start_time": "2021-11-26T09:17:09.326Z"
   },
   {
    "duration": 41,
    "start_time": "2021-11-26T09:17:09.546Z"
   },
   {
    "duration": 16,
    "start_time": "2021-11-26T09:17:09.589Z"
   },
   {
    "duration": 14,
    "start_time": "2021-11-26T09:17:09.607Z"
   },
   {
    "duration": 22,
    "start_time": "2021-11-26T09:17:09.622Z"
   },
   {
    "duration": 61,
    "start_time": "2021-11-26T09:17:09.646Z"
   },
   {
    "duration": 4,
    "start_time": "2021-11-26T09:17:09.709Z"
   },
   {
    "duration": 24,
    "start_time": "2021-11-26T09:17:09.715Z"
   },
   {
    "duration": 23,
    "start_time": "2021-11-26T09:17:09.740Z"
   },
   {
    "duration": 4,
    "start_time": "2021-11-26T09:17:09.765Z"
   },
   {
    "duration": 7,
    "start_time": "2021-11-26T09:17:09.771Z"
   },
   {
    "duration": 1297,
    "start_time": "2021-11-26T09:52:46.490Z"
   },
   {
    "duration": 581,
    "start_time": "2021-11-26T09:52:47.790Z"
   },
   {
    "duration": 127,
    "start_time": "2021-11-26T09:52:48.373Z"
   },
   {
    "duration": 63,
    "start_time": "2021-11-26T09:52:48.503Z"
   },
   {
    "duration": 14,
    "start_time": "2021-11-26T09:52:48.568Z"
   },
   {
    "duration": 23,
    "start_time": "2021-11-26T09:52:48.584Z"
   },
   {
    "duration": 109,
    "start_time": "2021-11-26T09:52:48.610Z"
   },
   {
    "duration": 101,
    "start_time": "2021-11-26T09:52:48.722Z"
   },
   {
    "duration": 52,
    "start_time": "2021-11-26T09:52:48.826Z"
   },
   {
    "duration": 18,
    "start_time": "2021-11-26T09:52:48.880Z"
   },
   {
    "duration": 23,
    "start_time": "2021-11-26T09:52:48.900Z"
   },
   {
    "duration": 76,
    "start_time": "2021-11-26T09:52:48.925Z"
   },
   {
    "duration": 65,
    "start_time": "2021-11-26T09:52:49.003Z"
   },
   {
    "duration": 34,
    "start_time": "2021-11-26T09:52:49.071Z"
   },
   {
    "duration": 74,
    "start_time": "2021-11-26T09:52:49.107Z"
   },
   {
    "duration": 81,
    "start_time": "2021-11-26T09:52:49.183Z"
   },
   {
    "duration": 41,
    "start_time": "2021-11-26T09:52:49.266Z"
   },
   {
    "duration": 55,
    "start_time": "2021-11-26T09:52:49.309Z"
   },
   {
    "duration": 36,
    "start_time": "2021-11-26T09:52:49.367Z"
   },
   {
    "duration": 33,
    "start_time": "2021-11-26T09:52:49.406Z"
   },
   {
    "duration": 11,
    "start_time": "2021-11-26T09:52:49.464Z"
   },
   {
    "duration": 28,
    "start_time": "2021-11-26T09:52:49.477Z"
   },
   {
    "duration": 16,
    "start_time": "2021-11-26T09:52:49.510Z"
   },
   {
    "duration": 36,
    "start_time": "2021-11-26T09:52:49.529Z"
   },
   {
    "duration": 7,
    "start_time": "2021-11-26T09:52:49.567Z"
   },
   {
    "duration": 11,
    "start_time": "2021-11-26T09:52:49.575Z"
   },
   {
    "duration": 21,
    "start_time": "2021-11-26T09:52:49.588Z"
   },
   {
    "duration": 4,
    "start_time": "2021-11-26T09:52:49.611Z"
   },
   {
    "duration": 49,
    "start_time": "2021-11-26T09:52:49.616Z"
   },
   {
    "duration": 325,
    "start_time": "2021-11-26T09:52:49.667Z"
   },
   {
    "duration": 5,
    "start_time": "2021-11-26T09:52:49.994Z"
   },
   {
    "duration": 58,
    "start_time": "2021-11-26T09:52:50.001Z"
   },
   {
    "duration": 154,
    "start_time": "2021-11-26T09:52:50.061Z"
   },
   {
    "duration": 4,
    "start_time": "2021-11-26T09:52:50.217Z"
   },
   {
    "duration": 7,
    "start_time": "2021-11-26T09:52:50.223Z"
   },
   {
    "duration": 154,
    "start_time": "2021-11-26T09:52:50.232Z"
   },
   {
    "duration": 245,
    "start_time": "2021-11-26T09:52:50.388Z"
   },
   {
    "duration": 134,
    "start_time": "2021-11-26T09:52:50.634Z"
   },
   {
    "duration": 7,
    "start_time": "2021-11-26T09:52:50.769Z"
   },
   {
    "duration": 222,
    "start_time": "2021-11-26T09:52:50.778Z"
   },
   {
    "duration": 239,
    "start_time": "2021-11-26T09:52:51.002Z"
   },
   {
    "duration": 193,
    "start_time": "2021-11-26T09:52:51.244Z"
   },
   {
    "duration": 7,
    "start_time": "2021-11-26T09:52:51.439Z"
   },
   {
    "duration": 180,
    "start_time": "2021-11-26T09:52:51.448Z"
   },
   {
    "duration": 250,
    "start_time": "2021-11-26T09:52:51.630Z"
   },
   {
    "duration": 5,
    "start_time": "2021-11-26T09:52:51.882Z"
   },
   {
    "duration": 6,
    "start_time": "2021-11-26T09:52:51.889Z"
   },
   {
    "duration": 10,
    "start_time": "2021-11-26T09:52:51.897Z"
   },
   {
    "duration": 6,
    "start_time": "2021-11-26T09:52:51.909Z"
   },
   {
    "duration": 8,
    "start_time": "2021-11-26T09:52:51.917Z"
   },
   {
    "duration": 38,
    "start_time": "2021-11-26T09:52:51.926Z"
   },
   {
    "duration": 5,
    "start_time": "2021-11-26T09:52:51.966Z"
   },
   {
    "duration": 9,
    "start_time": "2021-11-26T09:52:51.972Z"
   },
   {
    "duration": 14,
    "start_time": "2021-11-26T09:52:51.983Z"
   },
   {
    "duration": 15,
    "start_time": "2021-11-26T09:52:51.999Z"
   },
   {
    "duration": 24,
    "start_time": "2021-11-26T09:52:52.016Z"
   },
   {
    "duration": 149,
    "start_time": "2021-11-26T09:52:52.042Z"
   },
   {
    "duration": 6,
    "start_time": "2021-11-26T09:52:52.193Z"
   },
   {
    "duration": 148,
    "start_time": "2021-11-26T09:52:52.201Z"
   },
   {
    "duration": 251,
    "start_time": "2021-11-26T09:52:52.350Z"
   },
   {
    "duration": 144,
    "start_time": "2021-11-26T09:52:52.604Z"
   },
   {
    "duration": 15,
    "start_time": "2021-11-26T09:52:52.750Z"
   },
   {
    "duration": 143,
    "start_time": "2021-11-26T09:52:52.767Z"
   },
   {
    "duration": 391,
    "start_time": "2021-11-26T09:52:52.912Z"
   },
   {
    "duration": 348,
    "start_time": "2021-11-26T09:52:53.305Z"
   },
   {
    "duration": 12,
    "start_time": "2021-11-26T09:52:53.655Z"
   },
   {
    "duration": 226,
    "start_time": "2021-11-26T09:52:53.669Z"
   },
   {
    "duration": 397,
    "start_time": "2021-11-26T09:52:53.903Z"
   },
   {
    "duration": 6,
    "start_time": "2021-11-26T09:52:54.303Z"
   },
   {
    "duration": 7,
    "start_time": "2021-11-26T09:52:54.311Z"
   },
   {
    "duration": 5,
    "start_time": "2021-11-26T09:52:54.320Z"
   },
   {
    "duration": 8,
    "start_time": "2021-11-26T09:52:54.327Z"
   },
   {
    "duration": 31,
    "start_time": "2021-11-26T09:52:54.338Z"
   },
   {
    "duration": 7,
    "start_time": "2021-11-26T09:52:54.371Z"
   },
   {
    "duration": 7,
    "start_time": "2021-11-26T09:52:54.380Z"
   },
   {
    "duration": 9,
    "start_time": "2021-11-26T09:52:54.389Z"
   },
   {
    "duration": 10,
    "start_time": "2021-11-26T09:52:54.400Z"
   },
   {
    "duration": 16,
    "start_time": "2021-11-26T09:52:54.412Z"
   },
   {
    "duration": 414,
    "start_time": "2021-11-26T09:52:54.430Z"
   },
   {
    "duration": 371,
    "start_time": "2021-11-26T09:52:54.847Z"
   },
   {
    "duration": 382,
    "start_time": "2021-11-26T09:52:55.221Z"
   },
   {
    "duration": 346,
    "start_time": "2021-11-26T09:52:55.606Z"
   },
   {
    "duration": 314,
    "start_time": "2021-11-26T09:52:55.955Z"
   },
   {
    "duration": 45,
    "start_time": "2021-11-26T09:52:56.271Z"
   },
   {
    "duration": 6,
    "start_time": "2021-11-26T09:52:56.318Z"
   },
   {
    "duration": 24,
    "start_time": "2021-11-26T09:52:56.326Z"
   },
   {
    "duration": 30,
    "start_time": "2021-11-26T09:52:56.352Z"
   },
   {
    "duration": 98,
    "start_time": "2021-11-26T09:52:56.384Z"
   },
   {
    "duration": 5,
    "start_time": "2021-11-26T09:52:56.484Z"
   },
   {
    "duration": 50,
    "start_time": "2021-11-26T09:52:56.491Z"
   },
   {
    "duration": 9,
    "start_time": "2021-11-26T09:52:56.543Z"
   },
   {
    "duration": 20,
    "start_time": "2021-11-26T09:52:56.554Z"
   },
   {
    "duration": 15,
    "start_time": "2021-11-26T09:52:56.576Z"
   },
   {
    "duration": 1444,
    "start_time": "2022-01-25T18:02:56.595Z"
   },
   {
    "duration": 739,
    "start_time": "2022-01-25T18:02:58.042Z"
   },
   {
    "duration": 154,
    "start_time": "2022-01-25T18:02:58.785Z"
   },
   {
    "duration": 53,
    "start_time": "2022-01-25T18:02:58.943Z"
   },
   {
    "duration": 40,
    "start_time": "2022-01-25T18:02:59.000Z"
   },
   {
    "duration": 28,
    "start_time": "2022-01-25T18:02:59.042Z"
   },
   {
    "duration": 132,
    "start_time": "2022-01-25T18:02:59.073Z"
   },
   {
    "duration": 96,
    "start_time": "2022-01-25T18:02:59.211Z"
   },
   {
    "duration": 55,
    "start_time": "2022-01-25T18:02:59.310Z"
   },
   {
    "duration": 29,
    "start_time": "2022-01-25T18:02:59.368Z"
   },
   {
    "duration": 56,
    "start_time": "2022-01-25T18:02:59.399Z"
   },
   {
    "duration": 96,
    "start_time": "2022-01-25T18:02:59.458Z"
   },
   {
    "duration": 100,
    "start_time": "2022-01-25T18:02:59.557Z"
   },
   {
    "duration": 31,
    "start_time": "2022-01-25T18:02:59.660Z"
   },
   {
    "duration": 76,
    "start_time": "2022-01-25T18:02:59.694Z"
   },
   {
    "duration": 86,
    "start_time": "2022-01-25T18:02:59.773Z"
   },
   {
    "duration": 79,
    "start_time": "2022-01-25T18:02:59.861Z"
   },
   {
    "duration": 30,
    "start_time": "2022-01-25T18:02:59.943Z"
   },
   {
    "duration": 105,
    "start_time": "2022-01-25T18:02:59.975Z"
   },
   {
    "duration": 50,
    "start_time": "2022-01-25T18:03:00.083Z"
   },
   {
    "duration": 14,
    "start_time": "2022-01-25T18:03:00.135Z"
   },
   {
    "duration": 40,
    "start_time": "2022-01-25T18:03:00.151Z"
   },
   {
    "duration": 53,
    "start_time": "2022-01-25T18:03:00.195Z"
   },
   {
    "duration": 9,
    "start_time": "2022-01-25T18:03:00.250Z"
   },
   {
    "duration": 10,
    "start_time": "2022-01-25T18:03:00.261Z"
   },
   {
    "duration": 19,
    "start_time": "2022-01-25T18:03:00.273Z"
   },
   {
    "duration": 44,
    "start_time": "2022-01-25T18:03:00.294Z"
   },
   {
    "duration": 5,
    "start_time": "2022-01-25T18:03:00.341Z"
   },
   {
    "duration": 39,
    "start_time": "2022-01-25T18:03:00.348Z"
   },
   {
    "duration": 561,
    "start_time": "2022-01-25T18:03:00.390Z"
   },
   {
    "duration": 32,
    "start_time": "2022-01-25T18:03:00.953Z"
   },
   {
    "duration": 231,
    "start_time": "2022-01-25T18:03:06.210Z"
   },
   {
    "duration": 224,
    "start_time": "2022-01-25T18:04:06.774Z"
   },
   {
    "duration": 213,
    "start_time": "2022-01-25T18:05:04.921Z"
   },
   {
    "duration": 229,
    "start_time": "2022-01-25T18:05:20.530Z"
   },
   {
    "duration": 211,
    "start_time": "2022-01-25T18:06:06.178Z"
   },
   {
    "duration": 282,
    "start_time": "2022-01-25T18:06:21.253Z"
   },
   {
    "duration": 8,
    "start_time": "2022-01-25T18:06:32.873Z"
   },
   {
    "duration": 215,
    "start_time": "2022-01-25T18:06:34.186Z"
   },
   {
    "duration": 340,
    "start_time": "2022-01-25T18:08:10.585Z"
   },
   {
    "duration": 4,
    "start_time": "2022-01-25T18:08:16.182Z"
   },
   {
    "duration": 587,
    "start_time": "2022-01-25T18:08:16.191Z"
   },
   {
    "duration": 145,
    "start_time": "2022-01-25T18:08:16.781Z"
   },
   {
    "duration": 74,
    "start_time": "2022-01-25T18:08:16.934Z"
   },
   {
    "duration": 36,
    "start_time": "2022-01-25T18:08:17.012Z"
   },
   {
    "duration": 35,
    "start_time": "2022-01-25T18:08:17.051Z"
   },
   {
    "duration": 170,
    "start_time": "2022-01-25T18:08:17.090Z"
   },
   {
    "duration": 98,
    "start_time": "2022-01-25T18:08:17.262Z"
   },
   {
    "duration": 32,
    "start_time": "2022-01-25T18:08:17.363Z"
   },
   {
    "duration": 44,
    "start_time": "2022-01-25T18:08:17.398Z"
   },
   {
    "duration": 26,
    "start_time": "2022-01-25T18:08:17.445Z"
   },
   {
    "duration": 89,
    "start_time": "2022-01-25T18:08:17.474Z"
   },
   {
    "duration": 80,
    "start_time": "2022-01-25T18:08:17.566Z"
   },
   {
    "duration": 30,
    "start_time": "2022-01-25T18:08:17.648Z"
   },
   {
    "duration": 71,
    "start_time": "2022-01-25T18:08:17.681Z"
   },
   {
    "duration": 79,
    "start_time": "2022-01-25T18:08:17.755Z"
   },
   {
    "duration": 46,
    "start_time": "2022-01-25T18:08:17.837Z"
   },
   {
    "duration": 56,
    "start_time": "2022-01-25T18:08:17.886Z"
   },
   {
    "duration": 91,
    "start_time": "2022-01-25T18:08:17.946Z"
   },
   {
    "duration": 36,
    "start_time": "2022-01-25T18:08:18.041Z"
   },
   {
    "duration": 13,
    "start_time": "2022-01-25T18:08:18.079Z"
   },
   {
    "duration": 69,
    "start_time": "2022-01-25T18:08:18.094Z"
   },
   {
    "duration": 26,
    "start_time": "2022-01-25T18:08:18.166Z"
   },
   {
    "duration": 37,
    "start_time": "2022-01-25T18:08:18.199Z"
   },
   {
    "duration": 8,
    "start_time": "2022-01-25T18:08:18.240Z"
   },
   {
    "duration": 14,
    "start_time": "2022-01-25T18:08:18.250Z"
   },
   {
    "duration": 20,
    "start_time": "2022-01-25T18:08:18.267Z"
   },
   {
    "duration": 44,
    "start_time": "2022-01-25T18:08:18.290Z"
   },
   {
    "duration": 61,
    "start_time": "2022-01-25T18:08:18.338Z"
   },
   {
    "duration": 530,
    "start_time": "2022-01-25T18:08:18.402Z"
   },
   {
    "duration": 33,
    "start_time": "2022-01-25T18:08:18.935Z"
   },
   {
    "duration": 265,
    "start_time": "2022-01-25T18:08:18.971Z"
   },
   {
    "duration": 9,
    "start_time": "2022-01-25T18:08:19.239Z"
   },
   {
    "duration": 284,
    "start_time": "2022-01-25T18:08:19.252Z"
   },
   {
    "duration": 389,
    "start_time": "2022-01-25T18:08:19.538Z"
   },
   {
    "duration": 236,
    "start_time": "2022-01-25T18:08:19.933Z"
   },
   {
    "duration": 8,
    "start_time": "2022-01-25T18:08:20.172Z"
   },
   {
    "duration": 246,
    "start_time": "2022-01-25T18:08:20.182Z"
   },
   {
    "duration": 443,
    "start_time": "2022-01-25T18:08:20.430Z"
   },
   {
    "duration": 236,
    "start_time": "2022-01-25T18:08:20.876Z"
   },
   {
    "duration": 19,
    "start_time": "2022-01-25T18:08:21.115Z"
   },
   {
    "duration": 237,
    "start_time": "2022-01-25T18:08:21.137Z"
   },
   {
    "duration": 391,
    "start_time": "2022-01-25T18:08:21.376Z"
   },
   {
    "duration": 8,
    "start_time": "2022-01-25T18:08:21.771Z"
   },
   {
    "duration": 8,
    "start_time": "2022-01-25T18:08:21.782Z"
   },
   {
    "duration": 10,
    "start_time": "2022-01-25T18:08:21.793Z"
   },
   {
    "duration": 8,
    "start_time": "2022-01-25T18:08:21.835Z"
   },
   {
    "duration": 7,
    "start_time": "2022-01-25T18:08:21.845Z"
   },
   {
    "duration": 5,
    "start_time": "2022-01-25T18:08:21.855Z"
   },
   {
    "duration": 6,
    "start_time": "2022-01-25T18:08:21.863Z"
   },
   {
    "duration": 9,
    "start_time": "2022-01-25T18:08:21.871Z"
   },
   {
    "duration": 54,
    "start_time": "2022-01-25T18:08:21.882Z"
   },
   {
    "duration": 5,
    "start_time": "2022-01-25T18:08:21.939Z"
   },
   {
    "duration": 33,
    "start_time": "2022-01-25T18:08:21.947Z"
   },
   {
    "duration": 218,
    "start_time": "2022-01-25T18:08:25.781Z"
   },
   {
    "duration": 8,
    "start_time": "2022-01-25T18:08:39.345Z"
   },
   {
    "duration": 322,
    "start_time": "2022-01-25T18:08:40.299Z"
   },
   {
    "duration": 646,
    "start_time": "2022-01-25T18:08:57.964Z"
   },
   {
    "duration": 219,
    "start_time": "2022-01-25T18:09:10.457Z"
   },
   {
    "duration": 8,
    "start_time": "2022-01-25T18:09:13.888Z"
   },
   {
    "duration": 331,
    "start_time": "2022-01-25T18:09:18.625Z"
   },
   {
    "duration": 422,
    "start_time": "2022-01-25T18:09:27.837Z"
   },
   {
    "duration": 229,
    "start_time": "2022-01-25T18:09:37.462Z"
   },
   {
    "duration": 7,
    "start_time": "2022-01-25T18:09:40.965Z"
   },
   {
    "duration": 423,
    "start_time": "2022-01-25T18:09:45.194Z"
   },
   {
    "duration": 418,
    "start_time": "2022-01-25T18:10:25.128Z"
   },
   {
    "duration": 53,
    "start_time": "2022-01-25T18:11:56.130Z"
   },
   {
    "duration": 366,
    "start_time": "2022-01-25T18:16:43.051Z"
   },
   {
    "duration": 348,
    "start_time": "2022-01-25T18:17:37.959Z"
   },
   {
    "duration": 345,
    "start_time": "2022-01-25T18:18:37.821Z"
   },
   {
    "duration": 362,
    "start_time": "2022-01-25T18:20:09.495Z"
   },
   {
    "duration": 351,
    "start_time": "2022-01-25T18:36:15.284Z"
   },
   {
    "duration": 345,
    "start_time": "2022-01-25T18:36:46.901Z"
   },
   {
    "duration": 1706,
    "start_time": "2022-01-25T18:38:01.866Z"
   },
   {
    "duration": 701,
    "start_time": "2022-01-25T18:38:03.576Z"
   },
   {
    "duration": 180,
    "start_time": "2022-01-25T18:38:04.281Z"
   },
   {
    "duration": 89,
    "start_time": "2022-01-25T18:38:04.465Z"
   },
   {
    "duration": 21,
    "start_time": "2022-01-25T18:38:04.558Z"
   },
   {
    "duration": 65,
    "start_time": "2022-01-25T18:38:04.582Z"
   },
   {
    "duration": 165,
    "start_time": "2022-01-25T18:38:04.650Z"
   },
   {
    "duration": 113,
    "start_time": "2022-01-25T18:38:04.821Z"
   },
   {
    "duration": 61,
    "start_time": "2022-01-25T18:38:04.938Z"
   },
   {
    "duration": 54,
    "start_time": "2022-01-25T18:38:05.003Z"
   },
   {
    "duration": 45,
    "start_time": "2022-01-25T18:38:05.060Z"
   },
   {
    "duration": 132,
    "start_time": "2022-01-25T18:38:05.109Z"
   },
   {
    "duration": 65,
    "start_time": "2022-01-25T18:38:05.245Z"
   },
   {
    "duration": 41,
    "start_time": "2022-01-25T18:38:05.333Z"
   },
   {
    "duration": 77,
    "start_time": "2022-01-25T18:38:05.377Z"
   },
   {
    "duration": 101,
    "start_time": "2022-01-25T18:38:05.457Z"
   },
   {
    "duration": 87,
    "start_time": "2022-01-25T18:38:05.561Z"
   },
   {
    "duration": 27,
    "start_time": "2022-01-25T18:38:05.651Z"
   },
   {
    "duration": 103,
    "start_time": "2022-01-25T18:38:05.681Z"
   },
   {
    "duration": 68,
    "start_time": "2022-01-25T18:38:05.788Z"
   },
   {
    "duration": 21,
    "start_time": "2022-01-25T18:38:05.859Z"
   },
   {
    "duration": 69,
    "start_time": "2022-01-25T18:38:05.884Z"
   },
   {
    "duration": 27,
    "start_time": "2022-01-25T18:38:05.959Z"
   },
   {
    "duration": 9,
    "start_time": "2022-01-25T18:38:05.990Z"
   },
   {
    "duration": 51,
    "start_time": "2022-01-25T18:38:06.002Z"
   },
   {
    "duration": 26,
    "start_time": "2022-01-25T18:38:06.055Z"
   },
   {
    "duration": 16,
    "start_time": "2022-01-25T18:38:06.083Z"
   },
   {
    "duration": 5,
    "start_time": "2022-01-25T18:38:06.101Z"
   },
   {
    "duration": 77,
    "start_time": "2022-01-25T18:38:06.108Z"
   },
   {
    "duration": 594,
    "start_time": "2022-01-25T18:38:06.187Z"
   },
   {
    "duration": 59,
    "start_time": "2022-01-25T18:38:06.784Z"
   },
   {
    "duration": 286,
    "start_time": "2022-01-25T18:38:06.846Z"
   },
   {
    "duration": 14,
    "start_time": "2022-01-25T18:38:07.138Z"
   },
   {
    "duration": 325,
    "start_time": "2022-01-25T18:38:07.155Z"
   },
   {
    "duration": 653,
    "start_time": "2022-01-25T18:38:07.483Z"
   },
   {
    "duration": 357,
    "start_time": "2022-01-25T18:38:08.140Z"
   },
   {
    "duration": 10,
    "start_time": "2022-01-25T18:38:08.500Z"
   },
   {
    "duration": 385,
    "start_time": "2022-01-25T18:38:08.513Z"
   },
   {
    "duration": 705,
    "start_time": "2022-01-25T18:38:08.901Z"
   },
   {
    "duration": 269,
    "start_time": "2022-01-25T18:38:09.608Z"
   },
   {
    "duration": 8,
    "start_time": "2022-01-25T18:38:09.881Z"
   },
   {
    "duration": 262,
    "start_time": "2022-01-25T18:38:09.892Z"
   },
   {
    "duration": 473,
    "start_time": "2022-01-25T18:38:10.157Z"
   },
   {
    "duration": 9,
    "start_time": "2022-01-25T18:38:10.636Z"
   },
   {
    "duration": 20,
    "start_time": "2022-01-25T18:38:10.649Z"
   },
   {
    "duration": 11,
    "start_time": "2022-01-25T18:38:10.672Z"
   },
   {
    "duration": 8,
    "start_time": "2022-01-25T18:38:10.686Z"
   },
   {
    "duration": 42,
    "start_time": "2022-01-25T18:38:10.697Z"
   },
   {
    "duration": 11,
    "start_time": "2022-01-25T18:38:10.743Z"
   },
   {
    "duration": 8,
    "start_time": "2022-01-25T18:38:10.758Z"
   },
   {
    "duration": 17,
    "start_time": "2022-01-25T18:38:10.769Z"
   },
   {
    "duration": 49,
    "start_time": "2022-01-25T18:38:10.789Z"
   },
   {
    "duration": 9,
    "start_time": "2022-01-25T18:38:10.842Z"
   },
   {
    "duration": 33,
    "start_time": "2022-01-25T18:38:10.854Z"
   },
   {
    "duration": 319,
    "start_time": "2022-01-25T18:38:10.890Z"
   },
   {
    "duration": 8,
    "start_time": "2022-01-25T18:38:11.213Z"
   },
   {
    "duration": 258,
    "start_time": "2022-01-25T18:38:11.224Z"
   },
   {
    "duration": 447,
    "start_time": "2022-01-25T18:38:11.484Z"
   },
   {
    "duration": 333,
    "start_time": "2022-01-25T18:38:11.935Z"
   },
   {
    "duration": 10,
    "start_time": "2022-01-25T18:38:12.270Z"
   },
   {
    "duration": 382,
    "start_time": "2022-01-25T18:38:12.284Z"
   },
   {
    "duration": 634,
    "start_time": "2022-01-25T18:38:12.669Z"
   },
   {
    "duration": 369,
    "start_time": "2022-01-25T18:38:13.306Z"
   },
   {
    "duration": 12,
    "start_time": "2022-01-25T18:38:13.678Z"
   },
   {
    "duration": 353,
    "start_time": "2022-01-25T18:38:13.693Z"
   },
   {
    "duration": 455,
    "start_time": "2022-01-25T18:38:14.048Z"
   },
   {
    "duration": 8,
    "start_time": "2022-01-25T18:38:14.506Z"
   },
   {
    "duration": 16,
    "start_time": "2022-01-25T18:38:14.540Z"
   },
   {
    "duration": 10,
    "start_time": "2022-01-25T18:38:14.560Z"
   },
   {
    "duration": 7,
    "start_time": "2022-01-25T18:38:14.573Z"
   },
   {
    "duration": 60,
    "start_time": "2022-01-25T18:38:14.583Z"
   },
   {
    "duration": 8,
    "start_time": "2022-01-25T18:38:14.647Z"
   },
   {
    "duration": 14,
    "start_time": "2022-01-25T18:38:14.658Z"
   },
   {
    "duration": 8,
    "start_time": "2022-01-25T18:38:14.675Z"
   },
   {
    "duration": 9,
    "start_time": "2022-01-25T18:38:14.686Z"
   },
   {
    "duration": 16,
    "start_time": "2022-01-25T18:38:14.742Z"
   },
   {
    "duration": 434,
    "start_time": "2022-01-25T18:38:14.760Z"
   },
   {
    "duration": 421,
    "start_time": "2022-01-25T18:38:15.197Z"
   },
   {
    "duration": 460,
    "start_time": "2022-01-25T18:38:15.621Z"
   },
   {
    "duration": 391,
    "start_time": "2022-01-25T18:38:16.083Z"
   },
   {
    "duration": 443,
    "start_time": "2022-01-25T18:38:16.477Z"
   },
   {
    "duration": 63,
    "start_time": "2022-01-25T18:38:16.923Z"
   },
   {
    "duration": 9,
    "start_time": "2022-01-25T18:38:16.989Z"
   },
   {
    "duration": 37,
    "start_time": "2022-01-25T18:38:17.001Z"
   },
   {
    "duration": 11,
    "start_time": "2022-01-25T18:38:17.041Z"
   },
   {
    "duration": 117,
    "start_time": "2022-01-25T18:38:17.055Z"
   },
   {
    "duration": 6,
    "start_time": "2022-01-25T18:38:17.175Z"
   },
   {
    "duration": 65,
    "start_time": "2022-01-25T18:38:17.184Z"
   },
   {
    "duration": 18,
    "start_time": "2022-01-25T18:38:17.253Z"
   },
   {
    "duration": 11,
    "start_time": "2022-01-25T18:38:17.274Z"
   },
   {
    "duration": 11,
    "start_time": "2022-01-25T18:38:17.289Z"
   },
   {
    "duration": 1850,
    "start_time": "2022-01-25T18:41:46.074Z"
   },
   {
    "duration": 626,
    "start_time": "2022-01-25T18:41:47.927Z"
   },
   {
    "duration": 123,
    "start_time": "2022-01-25T18:41:48.556Z"
   },
   {
    "duration": 81,
    "start_time": "2022-01-25T18:41:48.684Z"
   },
   {
    "duration": 17,
    "start_time": "2022-01-25T18:41:48.768Z"
   },
   {
    "duration": 70,
    "start_time": "2022-01-25T18:41:48.789Z"
   },
   {
    "duration": 133,
    "start_time": "2022-01-25T18:41:48.863Z"
   },
   {
    "duration": 107,
    "start_time": "2022-01-25T18:41:49.002Z"
   },
   {
    "duration": 51,
    "start_time": "2022-01-25T18:41:49.112Z"
   },
   {
    "duration": 20,
    "start_time": "2022-01-25T18:41:49.166Z"
   },
   {
    "duration": 53,
    "start_time": "2022-01-25T18:41:49.189Z"
   },
   {
    "duration": 99,
    "start_time": "2022-01-25T18:41:49.245Z"
   },
   {
    "duration": 61,
    "start_time": "2022-01-25T18:41:49.350Z"
   },
   {
    "duration": 38,
    "start_time": "2022-01-25T18:41:49.432Z"
   },
   {
    "duration": 80,
    "start_time": "2022-01-25T18:41:49.473Z"
   },
   {
    "duration": 109,
    "start_time": "2022-01-25T18:41:49.556Z"
   },
   {
    "duration": 92,
    "start_time": "2022-01-25T18:41:49.668Z"
   },
   {
    "duration": 26,
    "start_time": "2022-01-25T18:41:49.762Z"
   },
   {
    "duration": 92,
    "start_time": "2022-01-25T18:41:49.790Z"
   },
   {
    "duration": 33,
    "start_time": "2022-01-25T18:41:49.884Z"
   },
   {
    "duration": 24,
    "start_time": "2022-01-25T18:41:49.932Z"
   },
   {
    "duration": 38,
    "start_time": "2022-01-25T18:41:49.959Z"
   },
   {
    "duration": 32,
    "start_time": "2022-01-25T18:41:50.032Z"
   },
   {
    "duration": 9,
    "start_time": "2022-01-25T18:41:50.068Z"
   },
   {
    "duration": 8,
    "start_time": "2022-01-25T18:41:50.079Z"
   },
   {
    "duration": 44,
    "start_time": "2022-01-25T18:41:50.090Z"
   },
   {
    "duration": 29,
    "start_time": "2022-01-25T18:41:50.137Z"
   },
   {
    "duration": 9,
    "start_time": "2022-01-25T18:41:50.170Z"
   },
   {
    "duration": 108,
    "start_time": "2022-01-25T18:41:50.184Z"
   },
   {
    "duration": 1112,
    "start_time": "2022-01-25T18:41:50.296Z"
   },
   {
    "duration": 54,
    "start_time": "2022-01-25T18:41:51.412Z"
   },
   {
    "duration": 396,
    "start_time": "2022-01-25T18:41:51.469Z"
   },
   {
    "duration": 11,
    "start_time": "2022-01-25T18:41:51.868Z"
   },
   {
    "duration": 372,
    "start_time": "2022-01-25T18:41:51.883Z"
   },
   {
    "duration": 587,
    "start_time": "2022-01-25T18:41:52.259Z"
   },
   {
    "duration": 336,
    "start_time": "2022-01-25T18:41:52.849Z"
   },
   {
    "duration": 12,
    "start_time": "2022-01-25T18:41:53.188Z"
   },
   {
    "duration": 384,
    "start_time": "2022-01-25T18:41:53.203Z"
   },
   {
    "duration": 698,
    "start_time": "2022-01-25T18:41:53.591Z"
   },
   {
    "duration": 344,
    "start_time": "2022-01-25T18:41:54.292Z"
   },
   {
    "duration": 13,
    "start_time": "2022-01-25T18:41:54.639Z"
   },
   {
    "duration": 364,
    "start_time": "2022-01-25T18:41:54.655Z"
   },
   {
    "duration": 414,
    "start_time": "2022-01-25T18:41:55.022Z"
   },
   {
    "duration": 6,
    "start_time": "2022-01-25T18:41:55.439Z"
   },
   {
    "duration": 13,
    "start_time": "2022-01-25T18:41:55.449Z"
   },
   {
    "duration": 10,
    "start_time": "2022-01-25T18:41:55.466Z"
   },
   {
    "duration": 15,
    "start_time": "2022-01-25T18:41:55.480Z"
   },
   {
    "duration": 43,
    "start_time": "2022-01-25T18:41:55.498Z"
   },
   {
    "duration": 11,
    "start_time": "2022-01-25T18:41:55.544Z"
   },
   {
    "duration": 16,
    "start_time": "2022-01-25T18:41:55.559Z"
   },
   {
    "duration": 12,
    "start_time": "2022-01-25T18:41:55.578Z"
   },
   {
    "duration": 41,
    "start_time": "2022-01-25T18:41:55.594Z"
   },
   {
    "duration": 12,
    "start_time": "2022-01-25T18:41:55.639Z"
   },
   {
    "duration": 42,
    "start_time": "2022-01-25T18:41:55.654Z"
   },
   {
    "duration": 281,
    "start_time": "2022-01-25T18:41:55.700Z"
   },
   {
    "duration": 11,
    "start_time": "2022-01-25T18:41:55.985Z"
   },
   {
    "duration": 271,
    "start_time": "2022-01-25T18:41:55.998Z"
   },
   {
    "duration": 424,
    "start_time": "2022-01-25T18:41:56.272Z"
   },
   {
    "duration": 240,
    "start_time": "2022-01-25T18:41:56.698Z"
   },
   {
    "duration": 8,
    "start_time": "2022-01-25T18:41:56.941Z"
   },
   {
    "duration": 249,
    "start_time": "2022-01-25T18:41:56.952Z"
   },
   {
    "duration": 408,
    "start_time": "2022-01-25T18:41:57.205Z"
   },
   {
    "duration": 357,
    "start_time": "2022-01-25T18:41:57.616Z"
   },
   {
    "duration": 12,
    "start_time": "2022-01-25T18:41:57.976Z"
   },
   {
    "duration": 360,
    "start_time": "2022-01-25T18:41:57.991Z"
   },
   {
    "duration": 425,
    "start_time": "2022-01-25T18:41:58.354Z"
   },
   {
    "duration": 6,
    "start_time": "2022-01-25T18:41:58.782Z"
   },
   {
    "duration": 19,
    "start_time": "2022-01-25T18:41:58.796Z"
   },
   {
    "duration": 11,
    "start_time": "2022-01-25T18:41:58.835Z"
   },
   {
    "duration": 11,
    "start_time": "2022-01-25T18:41:58.849Z"
   },
   {
    "duration": 8,
    "start_time": "2022-01-25T18:41:58.862Z"
   },
   {
    "duration": 8,
    "start_time": "2022-01-25T18:41:58.872Z"
   },
   {
    "duration": 6,
    "start_time": "2022-01-25T18:41:58.884Z"
   },
   {
    "duration": 58,
    "start_time": "2022-01-25T18:41:58.893Z"
   },
   {
    "duration": 8,
    "start_time": "2022-01-25T18:41:58.954Z"
   },
   {
    "duration": 9,
    "start_time": "2022-01-25T18:41:58.965Z"
   },
   {
    "duration": 423,
    "start_time": "2022-01-25T18:41:58.977Z"
   },
   {
    "duration": 645,
    "start_time": "2022-01-25T18:41:59.403Z"
   },
   {
    "duration": 527,
    "start_time": "2022-01-25T18:42:00.051Z"
   },
   {
    "duration": 378,
    "start_time": "2022-01-25T18:42:00.580Z"
   },
   {
    "duration": 364,
    "start_time": "2022-01-25T18:42:00.961Z"
   },
   {
    "duration": 112,
    "start_time": "2022-01-25T18:42:01.332Z"
   },
   {
    "duration": 12,
    "start_time": "2022-01-25T18:42:01.451Z"
   },
   {
    "duration": 70,
    "start_time": "2022-01-25T18:42:01.465Z"
   },
   {
    "duration": 13,
    "start_time": "2022-01-25T18:42:01.538Z"
   },
   {
    "duration": 183,
    "start_time": "2022-01-25T18:42:01.554Z"
   },
   {
    "duration": 6,
    "start_time": "2022-01-25T18:42:01.740Z"
   },
   {
    "duration": 95,
    "start_time": "2022-01-25T18:42:01.748Z"
   },
   {
    "duration": 13,
    "start_time": "2022-01-25T18:42:01.846Z"
   },
   {
    "duration": 20,
    "start_time": "2022-01-25T18:42:01.862Z"
   },
   {
    "duration": 49,
    "start_time": "2022-01-25T18:42:01.885Z"
   }
  ],
  "kernelspec": {
   "display_name": "Python 3",
   "language": "python",
   "name": "python3"
  },
  "language_info": {
   "codemirror_mode": {
    "name": "ipython",
    "version": 3
   },
   "file_extension": ".py",
   "mimetype": "text/x-python",
   "name": "python",
   "nbconvert_exporter": "python",
   "pygments_lexer": "ipython3",
   "version": "3.7.8"
  },
  "toc": {
   "base_numbering": 1,
   "nav_menu": {},
   "number_sections": true,
   "sideBar": true,
   "skip_h1_title": true,
   "title_cell": "Table of Contents",
   "title_sidebar": "Contents",
   "toc_cell": false,
   "toc_position": {
    "height": "calc(100% - 180px)",
    "left": "10px",
    "top": "150px",
    "width": "263px"
   },
   "toc_section_display": true,
   "toc_window_display": true
  }
 },
 "nbformat": 4,
 "nbformat_minor": 2
}
