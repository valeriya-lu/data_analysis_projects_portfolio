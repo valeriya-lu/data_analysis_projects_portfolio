{
 "cells": [
  {
   "cell_type": "markdown",
   "metadata": {},
   "source": [
    "## Содержание\n",
    "1. [Загрузка данных и подготовка их к анализу](#data_processing)\n",
    "2. [Часть 1. Приоритизация гипотез](#ice_rice)\n",
    "3. [Часть 2. Анализ A/B-теста](#analysis)\n",
    "4. [Решение по результатам теста](#decision)"
   ]
  },
  {
   "cell_type": "markdown",
   "metadata": {},
   "source": [
    "# Анализ AB-теста для интернет-магазина"
   ]
  },
  {
   "cell_type": "markdown",
   "metadata": {},
   "source": [
    "Для работы мы имеем 9 гипотез по увеличению выручки интернет-магазина. Необходимо приоритизировать гипотезы, чтобы максимизировать ожидаемое улучшение ключевых метрик бизнеса, затем запустить A/B-тестирование и проанализировать результаты. \n",
    "\n",
    "**Описание данных**\n",
    "\n",
    "*Данные для первой части:*\n",
    "\n",
    "Файл /datasets/hypothesis.csv.\n",
    "\n",
    "    Hypothesis — краткое описание гипотезы;\n",
    "    Reach — охват пользователей по 10-балльной шкале;\n",
    "    Impact — влияние на пользователей по 10-балльной шкале;\n",
    "    Confidence — уверенность в гипотезе по 10-балльной шкале;\n",
    "    Efforts — затраты ресурсов на проверку гипотезы по 10-балльной шкале. Чем больше значение Efforts, тем дороже проверка гипотезы.\n",
    "\n",
    "*Данные для второй части:*\n",
    "\n",
    "Файл /datasets/orders.csv.\n",
    "\n",
    "    transactionId — идентификатор заказа;\n",
    "    visitorId — идентификатор пользователя, совершившего заказ;\n",
    "    date — дата, когда был совершён заказ;\n",
    "    revenue — выручка заказа;\n",
    "    group — группа A/B-теста, в которую попал заказ.\n",
    "\n",
    "Файл /datasets/visitors.csv.\n",
    "\n",
    "    date — дата;\n",
    "    group — группа A/B-теста;\n",
    "    visitors — количество пользователей в указанную дату в указанной группе A/B-теста"
   ]
  },
  {
   "cell_type": "markdown",
   "metadata": {},
   "source": [
    "# Загрузка данных и подготовка их к анализу\n",
    "<a name='data_processing'></a>"
   ]
  },
  {
   "cell_type": "code",
   "execution_count": 1,
   "metadata": {},
   "outputs": [],
   "source": [
    "import pandas as pd\n",
    "\n",
    "import scipy.stats as stats\n",
    "\n",
    "import numpy as np\n",
    "\n",
    "import datetime as dt\n",
    "\n",
    "import matplotlib.pyplot as plt\n",
    "\n",
    "import warnings\n",
    "warnings.filterwarnings('ignore')"
   ]
  },
  {
   "cell_type": "markdown",
   "metadata": {},
   "source": [
    "Загрузим данные о гипотезах, заказах и пользователях в переменные hypothesis, orders и visitors соответственно:"
   ]
  },
  {
   "cell_type": "code",
   "execution_count": 2,
   "metadata": {},
   "outputs": [],
   "source": [
    "hypothesis, orders, visitors = (\n",
    "    pd.read_csv('/datasets/hypothesis.csv'), # файл с гипотезами \n",
    "    pd.read_csv('/datasets/orders.csv'), # информация о заказах\n",
    "    pd.read_csv('/datasets/visitors.csv'), # информация о пользователях\n",
    ")"
   ]
  },
  {
   "cell_type": "markdown",
   "metadata": {},
   "source": [
    "Изучим таблицы с информацией и типы данных. Для численных данных посмотрим на их статистические показатели.\n",
    "\n",
    "Также проверим файлы на наличие дубликатов."
   ]
  },
  {
   "cell_type": "code",
   "execution_count": 3,
   "metadata": {},
   "outputs": [
    {
     "data": {
      "text/html": [
       "<div>\n",
       "<style scoped>\n",
       "    .dataframe tbody tr th:only-of-type {\n",
       "        vertical-align: middle;\n",
       "    }\n",
       "\n",
       "    .dataframe tbody tr th {\n",
       "        vertical-align: top;\n",
       "    }\n",
       "\n",
       "    .dataframe thead th {\n",
       "        text-align: right;\n",
       "    }\n",
       "</style>\n",
       "<table border=\"1\" class=\"dataframe\">\n",
       "  <thead>\n",
       "    <tr style=\"text-align: right;\">\n",
       "      <th></th>\n",
       "      <th>Hypothesis</th>\n",
       "      <th>Reach</th>\n",
       "      <th>Impact</th>\n",
       "      <th>Confidence</th>\n",
       "      <th>Efforts</th>\n",
       "    </tr>\n",
       "  </thead>\n",
       "  <tbody>\n",
       "    <tr>\n",
       "      <td>0</td>\n",
       "      <td>Добавить два новых канала привлечения трафика, что позволит привлекать на 30% больше пользователей</td>\n",
       "      <td>3</td>\n",
       "      <td>10</td>\n",
       "      <td>8</td>\n",
       "      <td>6</td>\n",
       "    </tr>\n",
       "    <tr>\n",
       "      <td>1</td>\n",
       "      <td>Запустить собственную службу доставки, что сократит срок доставки заказов</td>\n",
       "      <td>2</td>\n",
       "      <td>5</td>\n",
       "      <td>4</td>\n",
       "      <td>10</td>\n",
       "    </tr>\n",
       "    <tr>\n",
       "      <td>2</td>\n",
       "      <td>Добавить блоки рекомендаций товаров на сайт интернет магазина, чтобы повысить конверсию и средний чек заказа</td>\n",
       "      <td>8</td>\n",
       "      <td>3</td>\n",
       "      <td>7</td>\n",
       "      <td>3</td>\n",
       "    </tr>\n",
       "    <tr>\n",
       "      <td>3</td>\n",
       "      <td>Изменить структура категорий, что увеличит конверсию, т.к. пользователи быстрее найдут нужный товар</td>\n",
       "      <td>8</td>\n",
       "      <td>3</td>\n",
       "      <td>3</td>\n",
       "      <td>8</td>\n",
       "    </tr>\n",
       "    <tr>\n",
       "      <td>4</td>\n",
       "      <td>Изменить цвет фона главной страницы, чтобы увеличить вовлеченность пользователей</td>\n",
       "      <td>3</td>\n",
       "      <td>1</td>\n",
       "      <td>1</td>\n",
       "      <td>1</td>\n",
       "    </tr>\n",
       "    <tr>\n",
       "      <td>5</td>\n",
       "      <td>Добавить страницу отзывов клиентов о магазине, что позволит увеличить количество заказов</td>\n",
       "      <td>3</td>\n",
       "      <td>2</td>\n",
       "      <td>2</td>\n",
       "      <td>3</td>\n",
       "    </tr>\n",
       "    <tr>\n",
       "      <td>6</td>\n",
       "      <td>Показать на главной странице баннеры с актуальными акциями и распродажами, чтобы увеличить конверсию</td>\n",
       "      <td>5</td>\n",
       "      <td>3</td>\n",
       "      <td>8</td>\n",
       "      <td>3</td>\n",
       "    </tr>\n",
       "    <tr>\n",
       "      <td>7</td>\n",
       "      <td>Добавить форму подписки на все основные страницы, чтобы собрать базу клиентов для email-рассылок</td>\n",
       "      <td>10</td>\n",
       "      <td>7</td>\n",
       "      <td>8</td>\n",
       "      <td>5</td>\n",
       "    </tr>\n",
       "    <tr>\n",
       "      <td>8</td>\n",
       "      <td>Запустить акцию, дающую скидку на товар в день рождения</td>\n",
       "      <td>1</td>\n",
       "      <td>9</td>\n",
       "      <td>9</td>\n",
       "      <td>5</td>\n",
       "    </tr>\n",
       "  </tbody>\n",
       "</table>\n",
       "</div>"
      ],
      "text/plain": [
       "                                                                                                     Hypothesis  \\\n",
       "0            Добавить два новых канала привлечения трафика, что позволит привлекать на 30% больше пользователей   \n",
       "1                                     Запустить собственную службу доставки, что сократит срок доставки заказов   \n",
       "2  Добавить блоки рекомендаций товаров на сайт интернет магазина, чтобы повысить конверсию и средний чек заказа   \n",
       "3           Изменить структура категорий, что увеличит конверсию, т.к. пользователи быстрее найдут нужный товар   \n",
       "4                              Изменить цвет фона главной страницы, чтобы увеличить вовлеченность пользователей   \n",
       "5                      Добавить страницу отзывов клиентов о магазине, что позволит увеличить количество заказов   \n",
       "6          Показать на главной странице баннеры с актуальными акциями и распродажами, чтобы увеличить конверсию   \n",
       "7              Добавить форму подписки на все основные страницы, чтобы собрать базу клиентов для email-рассылок   \n",
       "8                                                       Запустить акцию, дающую скидку на товар в день рождения   \n",
       "\n",
       "   Reach  Impact  Confidence  Efforts  \n",
       "0      3      10           8        6  \n",
       "1      2       5           4       10  \n",
       "2      8       3           7        3  \n",
       "3      8       3           3        8  \n",
       "4      3       1           1        1  \n",
       "5      3       2           2        3  \n",
       "6      5       3           8        3  \n",
       "7     10       7           8        5  \n",
       "8      1       9           9        5  "
      ]
     },
     "metadata": {},
     "output_type": "display_data"
    },
    {
     "name": "stdout",
     "output_type": "stream",
     "text": [
      "<class 'pandas.core.frame.DataFrame'>\n",
      "RangeIndex: 9 entries, 0 to 8\n",
      "Data columns (total 5 columns):\n",
      "Hypothesis    9 non-null object\n",
      "Reach         9 non-null int64\n",
      "Impact        9 non-null int64\n",
      "Confidence    9 non-null int64\n",
      "Efforts       9 non-null int64\n",
      "dtypes: int64(4), object(1)\n",
      "memory usage: 488.0+ bytes\n"
     ]
    },
    {
     "data": {
      "text/html": [
       "<div>\n",
       "<style scoped>\n",
       "    .dataframe tbody tr th:only-of-type {\n",
       "        vertical-align: middle;\n",
       "    }\n",
       "\n",
       "    .dataframe tbody tr th {\n",
       "        vertical-align: top;\n",
       "    }\n",
       "\n",
       "    .dataframe thead th {\n",
       "        text-align: right;\n",
       "    }\n",
       "</style>\n",
       "<table border=\"1\" class=\"dataframe\">\n",
       "  <thead>\n",
       "    <tr style=\"text-align: right;\">\n",
       "      <th></th>\n",
       "      <th>count</th>\n",
       "      <th>mean</th>\n",
       "      <th>std</th>\n",
       "      <th>min</th>\n",
       "      <th>25%</th>\n",
       "      <th>50%</th>\n",
       "      <th>75%</th>\n",
       "      <th>max</th>\n",
       "    </tr>\n",
       "  </thead>\n",
       "  <tbody>\n",
       "    <tr>\n",
       "      <td>Reach</td>\n",
       "      <td>9.0</td>\n",
       "      <td>4.777778</td>\n",
       "      <td>3.153481</td>\n",
       "      <td>1.0</td>\n",
       "      <td>3.0</td>\n",
       "      <td>3.0</td>\n",
       "      <td>8.0</td>\n",
       "      <td>10.0</td>\n",
       "    </tr>\n",
       "    <tr>\n",
       "      <td>Impact</td>\n",
       "      <td>9.0</td>\n",
       "      <td>4.777778</td>\n",
       "      <td>3.192874</td>\n",
       "      <td>1.0</td>\n",
       "      <td>3.0</td>\n",
       "      <td>3.0</td>\n",
       "      <td>7.0</td>\n",
       "      <td>10.0</td>\n",
       "    </tr>\n",
       "    <tr>\n",
       "      <td>Confidence</td>\n",
       "      <td>9.0</td>\n",
       "      <td>5.555556</td>\n",
       "      <td>3.045944</td>\n",
       "      <td>1.0</td>\n",
       "      <td>3.0</td>\n",
       "      <td>7.0</td>\n",
       "      <td>8.0</td>\n",
       "      <td>9.0</td>\n",
       "    </tr>\n",
       "    <tr>\n",
       "      <td>Efforts</td>\n",
       "      <td>9.0</td>\n",
       "      <td>4.888889</td>\n",
       "      <td>2.803767</td>\n",
       "      <td>1.0</td>\n",
       "      <td>3.0</td>\n",
       "      <td>5.0</td>\n",
       "      <td>6.0</td>\n",
       "      <td>10.0</td>\n",
       "    </tr>\n",
       "  </tbody>\n",
       "</table>\n",
       "</div>"
      ],
      "text/plain": [
       "            count      mean       std  min  25%  50%  75%   max\n",
       "Reach         9.0  4.777778  3.153481  1.0  3.0  3.0  8.0  10.0\n",
       "Impact        9.0  4.777778  3.192874  1.0  3.0  3.0  7.0  10.0\n",
       "Confidence    9.0  5.555556  3.045944  1.0  3.0  7.0  8.0   9.0\n",
       "Efforts       9.0  4.888889  2.803767  1.0  3.0  5.0  6.0  10.0"
      ]
     },
     "metadata": {},
     "output_type": "display_data"
    },
    {
     "data": {
      "text/plain": [
       "0"
      ]
     },
     "execution_count": 3,
     "metadata": {},
     "output_type": "execute_result"
    }
   ],
   "source": [
    "pd.options.display.max_colwidth = 150\n",
    "display(hypothesis)\n",
    "hypothesis.info()\n",
    "display(hypothesis.describe().T)\n",
    "hypothesis.duplicated().sum()"
   ]
  },
  {
   "cell_type": "code",
   "execution_count": 4,
   "metadata": {},
   "outputs": [
    {
     "data": {
      "text/html": [
       "<div>\n",
       "<style scoped>\n",
       "    .dataframe tbody tr th:only-of-type {\n",
       "        vertical-align: middle;\n",
       "    }\n",
       "\n",
       "    .dataframe tbody tr th {\n",
       "        vertical-align: top;\n",
       "    }\n",
       "\n",
       "    .dataframe thead th {\n",
       "        text-align: right;\n",
       "    }\n",
       "</style>\n",
       "<table border=\"1\" class=\"dataframe\">\n",
       "  <thead>\n",
       "    <tr style=\"text-align: right;\">\n",
       "      <th></th>\n",
       "      <th>transactionId</th>\n",
       "      <th>visitorId</th>\n",
       "      <th>date</th>\n",
       "      <th>revenue</th>\n",
       "      <th>group</th>\n",
       "    </tr>\n",
       "  </thead>\n",
       "  <tbody>\n",
       "    <tr>\n",
       "      <td>0</td>\n",
       "      <td>3667963787</td>\n",
       "      <td>3312258926</td>\n",
       "      <td>2019-08-15</td>\n",
       "      <td>1650</td>\n",
       "      <td>B</td>\n",
       "    </tr>\n",
       "    <tr>\n",
       "      <td>1</td>\n",
       "      <td>2804400009</td>\n",
       "      <td>3642806036</td>\n",
       "      <td>2019-08-15</td>\n",
       "      <td>730</td>\n",
       "      <td>B</td>\n",
       "    </tr>\n",
       "    <tr>\n",
       "      <td>2</td>\n",
       "      <td>2961555356</td>\n",
       "      <td>4069496402</td>\n",
       "      <td>2019-08-15</td>\n",
       "      <td>400</td>\n",
       "      <td>A</td>\n",
       "    </tr>\n",
       "  </tbody>\n",
       "</table>\n",
       "</div>"
      ],
      "text/plain": [
       "   transactionId   visitorId        date  revenue group\n",
       "0     3667963787  3312258926  2019-08-15     1650     B\n",
       "1     2804400009  3642806036  2019-08-15      730     B\n",
       "2     2961555356  4069496402  2019-08-15      400     A"
      ]
     },
     "metadata": {},
     "output_type": "display_data"
    },
    {
     "name": "stdout",
     "output_type": "stream",
     "text": [
      "<class 'pandas.core.frame.DataFrame'>\n",
      "RangeIndex: 1197 entries, 0 to 1196\n",
      "Data columns (total 5 columns):\n",
      "transactionId    1197 non-null int64\n",
      "visitorId        1197 non-null int64\n",
      "date             1197 non-null object\n",
      "revenue          1197 non-null int64\n",
      "group            1197 non-null object\n",
      "dtypes: int64(3), object(2)\n",
      "memory usage: 46.9+ KB\n"
     ]
    },
    {
     "data": {
      "text/html": [
       "<div>\n",
       "<style scoped>\n",
       "    .dataframe tbody tr th:only-of-type {\n",
       "        vertical-align: middle;\n",
       "    }\n",
       "\n",
       "    .dataframe tbody tr th {\n",
       "        vertical-align: top;\n",
       "    }\n",
       "\n",
       "    .dataframe thead th {\n",
       "        text-align: right;\n",
       "    }\n",
       "</style>\n",
       "<table border=\"1\" class=\"dataframe\">\n",
       "  <thead>\n",
       "    <tr style=\"text-align: right;\">\n",
       "      <th></th>\n",
       "      <th>count</th>\n",
       "      <th>mean</th>\n",
       "      <th>std</th>\n",
       "      <th>min</th>\n",
       "      <th>25%</th>\n",
       "      <th>50%</th>\n",
       "      <th>75%</th>\n",
       "      <th>max</th>\n",
       "    </tr>\n",
       "  </thead>\n",
       "  <tbody>\n",
       "    <tr>\n",
       "      <td>transactionId</td>\n",
       "      <td>1197.0</td>\n",
       "      <td>2.155621e+09</td>\n",
       "      <td>1.229085e+09</td>\n",
       "      <td>1062393.0</td>\n",
       "      <td>1.166776e+09</td>\n",
       "      <td>2.145194e+09</td>\n",
       "      <td>3.237740e+09</td>\n",
       "      <td>4.293856e+09</td>\n",
       "    </tr>\n",
       "    <tr>\n",
       "      <td>visitorId</td>\n",
       "      <td>1197.0</td>\n",
       "      <td>2.165960e+09</td>\n",
       "      <td>1.236014e+09</td>\n",
       "      <td>5114589.0</td>\n",
       "      <td>1.111826e+09</td>\n",
       "      <td>2.217985e+09</td>\n",
       "      <td>3.177606e+09</td>\n",
       "      <td>4.283872e+09</td>\n",
       "    </tr>\n",
       "    <tr>\n",
       "      <td>revenue</td>\n",
       "      <td>1197.0</td>\n",
       "      <td>8.348006e+03</td>\n",
       "      <td>3.919113e+04</td>\n",
       "      <td>50.0</td>\n",
       "      <td>1.220000e+03</td>\n",
       "      <td>2.978000e+03</td>\n",
       "      <td>8.290000e+03</td>\n",
       "      <td>1.294500e+06</td>\n",
       "    </tr>\n",
       "  </tbody>\n",
       "</table>\n",
       "</div>"
      ],
      "text/plain": [
       "                count          mean           std        min           25%  \\\n",
       "transactionId  1197.0  2.155621e+09  1.229085e+09  1062393.0  1.166776e+09   \n",
       "visitorId      1197.0  2.165960e+09  1.236014e+09  5114589.0  1.111826e+09   \n",
       "revenue        1197.0  8.348006e+03  3.919113e+04       50.0  1.220000e+03   \n",
       "\n",
       "                        50%           75%           max  \n",
       "transactionId  2.145194e+09  3.237740e+09  4.293856e+09  \n",
       "visitorId      2.217985e+09  3.177606e+09  4.283872e+09  \n",
       "revenue        2.978000e+03  8.290000e+03  1.294500e+06  "
      ]
     },
     "metadata": {},
     "output_type": "display_data"
    },
    {
     "data": {
      "text/plain": [
       "0"
      ]
     },
     "execution_count": 4,
     "metadata": {},
     "output_type": "execute_result"
    }
   ],
   "source": [
    "display(orders.head(3))\n",
    "orders.info()\n",
    "display(orders.describe().T)\n",
    "orders.duplicated().sum()"
   ]
  },
  {
   "cell_type": "code",
   "execution_count": 5,
   "metadata": {},
   "outputs": [
    {
     "data": {
      "text/html": [
       "<div>\n",
       "<style scoped>\n",
       "    .dataframe tbody tr th:only-of-type {\n",
       "        vertical-align: middle;\n",
       "    }\n",
       "\n",
       "    .dataframe tbody tr th {\n",
       "        vertical-align: top;\n",
       "    }\n",
       "\n",
       "    .dataframe thead th {\n",
       "        text-align: right;\n",
       "    }\n",
       "</style>\n",
       "<table border=\"1\" class=\"dataframe\">\n",
       "  <thead>\n",
       "    <tr style=\"text-align: right;\">\n",
       "      <th></th>\n",
       "      <th>date</th>\n",
       "      <th>group</th>\n",
       "      <th>visitors</th>\n",
       "    </tr>\n",
       "  </thead>\n",
       "  <tbody>\n",
       "    <tr>\n",
       "      <td>0</td>\n",
       "      <td>2019-08-01</td>\n",
       "      <td>A</td>\n",
       "      <td>719</td>\n",
       "    </tr>\n",
       "    <tr>\n",
       "      <td>1</td>\n",
       "      <td>2019-08-02</td>\n",
       "      <td>A</td>\n",
       "      <td>619</td>\n",
       "    </tr>\n",
       "    <tr>\n",
       "      <td>2</td>\n",
       "      <td>2019-08-03</td>\n",
       "      <td>A</td>\n",
       "      <td>507</td>\n",
       "    </tr>\n",
       "  </tbody>\n",
       "</table>\n",
       "</div>"
      ],
      "text/plain": [
       "         date group  visitors\n",
       "0  2019-08-01     A       719\n",
       "1  2019-08-02     A       619\n",
       "2  2019-08-03     A       507"
      ]
     },
     "metadata": {},
     "output_type": "display_data"
    },
    {
     "name": "stdout",
     "output_type": "stream",
     "text": [
      "<class 'pandas.core.frame.DataFrame'>\n",
      "RangeIndex: 62 entries, 0 to 61\n",
      "Data columns (total 3 columns):\n",
      "date        62 non-null object\n",
      "group       62 non-null object\n",
      "visitors    62 non-null int64\n",
      "dtypes: int64(1), object(2)\n",
      "memory usage: 1.6+ KB\n"
     ]
    },
    {
     "data": {
      "text/html": [
       "<div>\n",
       "<style scoped>\n",
       "    .dataframe tbody tr th:only-of-type {\n",
       "        vertical-align: middle;\n",
       "    }\n",
       "\n",
       "    .dataframe tbody tr th {\n",
       "        vertical-align: top;\n",
       "    }\n",
       "\n",
       "    .dataframe thead th {\n",
       "        text-align: right;\n",
       "    }\n",
       "</style>\n",
       "<table border=\"1\" class=\"dataframe\">\n",
       "  <thead>\n",
       "    <tr style=\"text-align: right;\">\n",
       "      <th></th>\n",
       "      <th>count</th>\n",
       "      <th>mean</th>\n",
       "      <th>std</th>\n",
       "      <th>min</th>\n",
       "      <th>25%</th>\n",
       "      <th>50%</th>\n",
       "      <th>75%</th>\n",
       "      <th>max</th>\n",
       "    </tr>\n",
       "  </thead>\n",
       "  <tbody>\n",
       "    <tr>\n",
       "      <td>visitors</td>\n",
       "      <td>62.0</td>\n",
       "      <td>607.290323</td>\n",
       "      <td>114.40056</td>\n",
       "      <td>361.0</td>\n",
       "      <td>534.0</td>\n",
       "      <td>624.5</td>\n",
       "      <td>710.5</td>\n",
       "      <td>770.0</td>\n",
       "    </tr>\n",
       "  </tbody>\n",
       "</table>\n",
       "</div>"
      ],
      "text/plain": [
       "          count        mean        std    min    25%    50%    75%    max\n",
       "visitors   62.0  607.290323  114.40056  361.0  534.0  624.5  710.5  770.0"
      ]
     },
     "metadata": {},
     "output_type": "display_data"
    },
    {
     "data": {
      "text/plain": [
       "0"
      ]
     },
     "execution_count": 5,
     "metadata": {},
     "output_type": "execute_result"
    }
   ],
   "source": [
    "display(visitors.head(3))\n",
    "visitors.info()\n",
    "display(visitors.describe().T)\n",
    "visitors.duplicated().sum()"
   ]
  },
  {
   "cell_type": "markdown",
   "metadata": {},
   "source": [
    "*Выявленные ошибки:*\n",
    "\n",
    "   - некорректный формат в названиях колонок в файле hypothesis - нужно привести к нижнему регистру.\n",
    "   - тип данных в колонках с датами в таблицах orders и visitors - привести к формату datetime."
   ]
  },
  {
   "cell_type": "markdown",
   "metadata": {},
   "source": [
    "Обработаем таблицу hypothesis:"
   ]
  },
  {
   "cell_type": "code",
   "execution_count": 6,
   "metadata": {},
   "outputs": [
    {
     "data": {
      "text/plain": [
       "Index(['hypothesis', 'reach', 'impact', 'confidence', 'efforts'], dtype='object')"
      ]
     },
     "metadata": {},
     "output_type": "display_data"
    }
   ],
   "source": [
    "hypothesis.columns = hypothesis.columns.str.lower()\n",
    "display(hypothesis.columns)"
   ]
  },
  {
   "cell_type": "markdown",
   "metadata": {},
   "source": [
    "Обработаем таблицы orders и visitors:"
   ]
  },
  {
   "cell_type": "code",
   "execution_count": 7,
   "metadata": {},
   "outputs": [
    {
     "name": "stdout",
     "output_type": "stream",
     "text": [
      "<class 'pandas.core.frame.DataFrame'>\n",
      "RangeIndex: 1197 entries, 0 to 1196\n",
      "Data columns (total 5 columns):\n",
      "transactionId    1197 non-null int64\n",
      "visitorId        1197 non-null int64\n",
      "date             1197 non-null datetime64[ns]\n",
      "revenue          1197 non-null int64\n",
      "group            1197 non-null object\n",
      "dtypes: datetime64[ns](1), int64(3), object(1)\n",
      "memory usage: 46.9+ KB\n",
      "\n",
      "<class 'pandas.core.frame.DataFrame'>\n",
      "RangeIndex: 62 entries, 0 to 61\n",
      "Data columns (total 3 columns):\n",
      "date        62 non-null datetime64[ns]\n",
      "group       62 non-null object\n",
      "visitors    62 non-null int64\n",
      "dtypes: datetime64[ns](1), int64(1), object(1)\n",
      "memory usage: 1.6+ KB\n"
     ]
    }
   ],
   "source": [
    "orders['date'] = orders['date'].map(\n",
    "    lambda x: dt.datetime.strptime(x, '%Y-%m-%d')\n",
    ")\n",
    "\n",
    "visitors['date'] = visitors['date'].map(\n",
    "    lambda x: dt.datetime.strptime(x, '%Y-%m-%d')\n",
    ")\n",
    "\n",
    "orders.info()\n",
    "print()\n",
    "visitors.info()"
   ]
  },
  {
   "cell_type": "markdown",
   "metadata": {},
   "source": [
    "**Итоги:**\n",
    "\n",
    "Тип данных в колонках с датами в таблицах orders и visitors перевели из строки в дату.\n",
    "\n",
    "Привели названия столбцов таблицы hypothesis к корректному виду.\n",
    "\n",
    "Согласно статистическим показателям, нулей и отрицательных значений в данных нет. Заметно, что в таблице orders среднее и медиана сильно различаются, значит, разброс в стоимости заказов велик.\n",
    "\n",
    "Дубликаты не найдены."
   ]
  },
  {
   "cell_type": "markdown",
   "metadata": {},
   "source": [
    "# Часть 1. Приоритизация гипотез\n",
    "<a name='ice_rice'></a>"
   ]
  },
  {
   "cell_type": "markdown",
   "metadata": {},
   "source": [
    "В таблице hypothesis 9 гипотез по увеличению выручки интернет-магазина с указанными параметрами reach, impact, confidence, efforts."
   ]
  },
  {
   "cell_type": "markdown",
   "metadata": {},
   "source": [
    "**Задачи:**"
   ]
  },
  {
   "cell_type": "markdown",
   "metadata": {},
   "source": [
    "- Применим фреймворк ICE для приоритизации гипотез. Отсортируем их по убыванию приоритета."
   ]
  },
  {
   "cell_type": "code",
   "execution_count": 8,
   "metadata": {},
   "outputs": [
    {
     "data": {
      "text/html": [
       "<div>\n",
       "<style scoped>\n",
       "    .dataframe tbody tr th:only-of-type {\n",
       "        vertical-align: middle;\n",
       "    }\n",
       "\n",
       "    .dataframe tbody tr th {\n",
       "        vertical-align: top;\n",
       "    }\n",
       "\n",
       "    .dataframe thead th {\n",
       "        text-align: right;\n",
       "    }\n",
       "</style>\n",
       "<table border=\"1\" class=\"dataframe\">\n",
       "  <thead>\n",
       "    <tr style=\"text-align: right;\">\n",
       "      <th></th>\n",
       "      <th>hypothesis</th>\n",
       "      <th>reach</th>\n",
       "      <th>impact</th>\n",
       "      <th>confidence</th>\n",
       "      <th>efforts</th>\n",
       "    </tr>\n",
       "  </thead>\n",
       "  <tbody>\n",
       "    <tr>\n",
       "      <td>0</td>\n",
       "      <td>Добавить два новых канала привлечения трафика, что позволит привлекать на 30% больше пользователей</td>\n",
       "      <td>3</td>\n",
       "      <td>10</td>\n",
       "      <td>8</td>\n",
       "      <td>6</td>\n",
       "    </tr>\n",
       "    <tr>\n",
       "      <td>1</td>\n",
       "      <td>Запустить собственную службу доставки, что сократит срок доставки заказов</td>\n",
       "      <td>2</td>\n",
       "      <td>5</td>\n",
       "      <td>4</td>\n",
       "      <td>10</td>\n",
       "    </tr>\n",
       "    <tr>\n",
       "      <td>2</td>\n",
       "      <td>Добавить блоки рекомендаций товаров на сайт интернет магазина, чтобы повысить конверсию и средний чек заказа</td>\n",
       "      <td>8</td>\n",
       "      <td>3</td>\n",
       "      <td>7</td>\n",
       "      <td>3</td>\n",
       "    </tr>\n",
       "    <tr>\n",
       "      <td>3</td>\n",
       "      <td>Изменить структура категорий, что увеличит конверсию, т.к. пользователи быстрее найдут нужный товар</td>\n",
       "      <td>8</td>\n",
       "      <td>3</td>\n",
       "      <td>3</td>\n",
       "      <td>8</td>\n",
       "    </tr>\n",
       "    <tr>\n",
       "      <td>4</td>\n",
       "      <td>Изменить цвет фона главной страницы, чтобы увеличить вовлеченность пользователей</td>\n",
       "      <td>3</td>\n",
       "      <td>1</td>\n",
       "      <td>1</td>\n",
       "      <td>1</td>\n",
       "    </tr>\n",
       "    <tr>\n",
       "      <td>5</td>\n",
       "      <td>Добавить страницу отзывов клиентов о магазине, что позволит увеличить количество заказов</td>\n",
       "      <td>3</td>\n",
       "      <td>2</td>\n",
       "      <td>2</td>\n",
       "      <td>3</td>\n",
       "    </tr>\n",
       "    <tr>\n",
       "      <td>6</td>\n",
       "      <td>Показать на главной странице баннеры с актуальными акциями и распродажами, чтобы увеличить конверсию</td>\n",
       "      <td>5</td>\n",
       "      <td>3</td>\n",
       "      <td>8</td>\n",
       "      <td>3</td>\n",
       "    </tr>\n",
       "    <tr>\n",
       "      <td>7</td>\n",
       "      <td>Добавить форму подписки на все основные страницы, чтобы собрать базу клиентов для email-рассылок</td>\n",
       "      <td>10</td>\n",
       "      <td>7</td>\n",
       "      <td>8</td>\n",
       "      <td>5</td>\n",
       "    </tr>\n",
       "    <tr>\n",
       "      <td>8</td>\n",
       "      <td>Запустить акцию, дающую скидку на товар в день рождения</td>\n",
       "      <td>1</td>\n",
       "      <td>9</td>\n",
       "      <td>9</td>\n",
       "      <td>5</td>\n",
       "    </tr>\n",
       "  </tbody>\n",
       "</table>\n",
       "</div>"
      ],
      "text/plain": [
       "                                                                                                     hypothesis  \\\n",
       "0            Добавить два новых канала привлечения трафика, что позволит привлекать на 30% больше пользователей   \n",
       "1                                     Запустить собственную службу доставки, что сократит срок доставки заказов   \n",
       "2  Добавить блоки рекомендаций товаров на сайт интернет магазина, чтобы повысить конверсию и средний чек заказа   \n",
       "3           Изменить структура категорий, что увеличит конверсию, т.к. пользователи быстрее найдут нужный товар   \n",
       "4                              Изменить цвет фона главной страницы, чтобы увеличить вовлеченность пользователей   \n",
       "5                      Добавить страницу отзывов клиентов о магазине, что позволит увеличить количество заказов   \n",
       "6          Показать на главной странице баннеры с актуальными акциями и распродажами, чтобы увеличить конверсию   \n",
       "7              Добавить форму подписки на все основные страницы, чтобы собрать базу клиентов для email-рассылок   \n",
       "8                                                       Запустить акцию, дающую скидку на товар в день рождения   \n",
       "\n",
       "   reach  impact  confidence  efforts  \n",
       "0      3      10           8        6  \n",
       "1      2       5           4       10  \n",
       "2      8       3           7        3  \n",
       "3      8       3           3        8  \n",
       "4      3       1           1        1  \n",
       "5      3       2           2        3  \n",
       "6      5       3           8        3  \n",
       "7     10       7           8        5  \n",
       "8      1       9           9        5  "
      ]
     },
     "metadata": {},
     "output_type": "display_data"
    },
    {
     "data": {
      "text/html": [
       "<div>\n",
       "<style scoped>\n",
       "    .dataframe tbody tr th:only-of-type {\n",
       "        vertical-align: middle;\n",
       "    }\n",
       "\n",
       "    .dataframe tbody tr th {\n",
       "        vertical-align: top;\n",
       "    }\n",
       "\n",
       "    .dataframe thead th {\n",
       "        text-align: right;\n",
       "    }\n",
       "</style>\n",
       "<table border=\"1\" class=\"dataframe\">\n",
       "  <thead>\n",
       "    <tr style=\"text-align: right;\">\n",
       "      <th></th>\n",
       "      <th>hypothesis</th>\n",
       "      <th>ICE</th>\n",
       "    </tr>\n",
       "  </thead>\n",
       "  <tbody>\n",
       "    <tr>\n",
       "      <td>8</td>\n",
       "      <td>Запустить акцию, дающую скидку на товар в день рождения</td>\n",
       "      <td>16.200000</td>\n",
       "    </tr>\n",
       "    <tr>\n",
       "      <td>0</td>\n",
       "      <td>Добавить два новых канала привлечения трафика, что позволит привлекать на 30% больше пользователей</td>\n",
       "      <td>13.333333</td>\n",
       "    </tr>\n",
       "    <tr>\n",
       "      <td>7</td>\n",
       "      <td>Добавить форму подписки на все основные страницы, чтобы собрать базу клиентов для email-рассылок</td>\n",
       "      <td>11.200000</td>\n",
       "    </tr>\n",
       "    <tr>\n",
       "      <td>6</td>\n",
       "      <td>Показать на главной странице баннеры с актуальными акциями и распродажами, чтобы увеличить конверсию</td>\n",
       "      <td>8.000000</td>\n",
       "    </tr>\n",
       "    <tr>\n",
       "      <td>2</td>\n",
       "      <td>Добавить блоки рекомендаций товаров на сайт интернет магазина, чтобы повысить конверсию и средний чек заказа</td>\n",
       "      <td>7.000000</td>\n",
       "    </tr>\n",
       "    <tr>\n",
       "      <td>1</td>\n",
       "      <td>Запустить собственную службу доставки, что сократит срок доставки заказов</td>\n",
       "      <td>2.000000</td>\n",
       "    </tr>\n",
       "    <tr>\n",
       "      <td>5</td>\n",
       "      <td>Добавить страницу отзывов клиентов о магазине, что позволит увеличить количество заказов</td>\n",
       "      <td>1.333333</td>\n",
       "    </tr>\n",
       "    <tr>\n",
       "      <td>3</td>\n",
       "      <td>Изменить структура категорий, что увеличит конверсию, т.к. пользователи быстрее найдут нужный товар</td>\n",
       "      <td>1.125000</td>\n",
       "    </tr>\n",
       "    <tr>\n",
       "      <td>4</td>\n",
       "      <td>Изменить цвет фона главной страницы, чтобы увеличить вовлеченность пользователей</td>\n",
       "      <td>1.000000</td>\n",
       "    </tr>\n",
       "  </tbody>\n",
       "</table>\n",
       "</div>"
      ],
      "text/plain": [
       "                                                                                                     hypothesis  \\\n",
       "8                                                       Запустить акцию, дающую скидку на товар в день рождения   \n",
       "0            Добавить два новых канала привлечения трафика, что позволит привлекать на 30% больше пользователей   \n",
       "7              Добавить форму подписки на все основные страницы, чтобы собрать базу клиентов для email-рассылок   \n",
       "6          Показать на главной странице баннеры с актуальными акциями и распродажами, чтобы увеличить конверсию   \n",
       "2  Добавить блоки рекомендаций товаров на сайт интернет магазина, чтобы повысить конверсию и средний чек заказа   \n",
       "1                                     Запустить собственную службу доставки, что сократит срок доставки заказов   \n",
       "5                      Добавить страницу отзывов клиентов о магазине, что позволит увеличить количество заказов   \n",
       "3           Изменить структура категорий, что увеличит конверсию, т.к. пользователи быстрее найдут нужный товар   \n",
       "4                              Изменить цвет фона главной страницы, чтобы увеличить вовлеченность пользователей   \n",
       "\n",
       "         ICE  \n",
       "8  16.200000  \n",
       "0  13.333333  \n",
       "7  11.200000  \n",
       "6   8.000000  \n",
       "2   7.000000  \n",
       "1   2.000000  \n",
       "5   1.333333  \n",
       "3   1.125000  \n",
       "4   1.000000  "
      ]
     },
     "metadata": {},
     "output_type": "display_data"
    }
   ],
   "source": [
    "display(hypothesis)\n",
    "\n",
    "hypothesis['ICE'] = hypothesis['impact'] * hypothesis['confidence'] / hypothesis['efforts']\n",
    "\n",
    "display(hypothesis.loc[:,['hypothesis', 'ICE']].sort_values(by='ICE', ascending=False))"
   ]
  },
  {
   "cell_type": "markdown",
   "metadata": {},
   "source": [
    "**Вывод:** наиболее перспективные гипотезы по ICE под индексами: 8, 0, 7."
   ]
  },
  {
   "cell_type": "markdown",
   "metadata": {},
   "source": [
    "- Применим фреймворк RICE для приоритизации гипотез. Отсортируем их по убыванию приоритета."
   ]
  },
  {
   "cell_type": "code",
   "execution_count": 9,
   "metadata": {},
   "outputs": [
    {
     "data": {
      "text/html": [
       "<div>\n",
       "<style scoped>\n",
       "    .dataframe tbody tr th:only-of-type {\n",
       "        vertical-align: middle;\n",
       "    }\n",
       "\n",
       "    .dataframe tbody tr th {\n",
       "        vertical-align: top;\n",
       "    }\n",
       "\n",
       "    .dataframe thead th {\n",
       "        text-align: right;\n",
       "    }\n",
       "</style>\n",
       "<table border=\"1\" class=\"dataframe\">\n",
       "  <thead>\n",
       "    <tr style=\"text-align: right;\">\n",
       "      <th></th>\n",
       "      <th>hypothesis</th>\n",
       "      <th>RICE</th>\n",
       "    </tr>\n",
       "  </thead>\n",
       "  <tbody>\n",
       "    <tr>\n",
       "      <td>7</td>\n",
       "      <td>Добавить форму подписки на все основные страницы, чтобы собрать базу клиентов для email-рассылок</td>\n",
       "      <td>112.0</td>\n",
       "    </tr>\n",
       "    <tr>\n",
       "      <td>2</td>\n",
       "      <td>Добавить блоки рекомендаций товаров на сайт интернет магазина, чтобы повысить конверсию и средний чек заказа</td>\n",
       "      <td>56.0</td>\n",
       "    </tr>\n",
       "    <tr>\n",
       "      <td>0</td>\n",
       "      <td>Добавить два новых канала привлечения трафика, что позволит привлекать на 30% больше пользователей</td>\n",
       "      <td>40.0</td>\n",
       "    </tr>\n",
       "    <tr>\n",
       "      <td>6</td>\n",
       "      <td>Показать на главной странице баннеры с актуальными акциями и распродажами, чтобы увеличить конверсию</td>\n",
       "      <td>40.0</td>\n",
       "    </tr>\n",
       "    <tr>\n",
       "      <td>8</td>\n",
       "      <td>Запустить акцию, дающую скидку на товар в день рождения</td>\n",
       "      <td>16.2</td>\n",
       "    </tr>\n",
       "    <tr>\n",
       "      <td>3</td>\n",
       "      <td>Изменить структура категорий, что увеличит конверсию, т.к. пользователи быстрее найдут нужный товар</td>\n",
       "      <td>9.0</td>\n",
       "    </tr>\n",
       "    <tr>\n",
       "      <td>1</td>\n",
       "      <td>Запустить собственную службу доставки, что сократит срок доставки заказов</td>\n",
       "      <td>4.0</td>\n",
       "    </tr>\n",
       "    <tr>\n",
       "      <td>5</td>\n",
       "      <td>Добавить страницу отзывов клиентов о магазине, что позволит увеличить количество заказов</td>\n",
       "      <td>4.0</td>\n",
       "    </tr>\n",
       "    <tr>\n",
       "      <td>4</td>\n",
       "      <td>Изменить цвет фона главной страницы, чтобы увеличить вовлеченность пользователей</td>\n",
       "      <td>3.0</td>\n",
       "    </tr>\n",
       "  </tbody>\n",
       "</table>\n",
       "</div>"
      ],
      "text/plain": [
       "                                                                                                     hypothesis  \\\n",
       "7              Добавить форму подписки на все основные страницы, чтобы собрать базу клиентов для email-рассылок   \n",
       "2  Добавить блоки рекомендаций товаров на сайт интернет магазина, чтобы повысить конверсию и средний чек заказа   \n",
       "0            Добавить два новых канала привлечения трафика, что позволит привлекать на 30% больше пользователей   \n",
       "6          Показать на главной странице баннеры с актуальными акциями и распродажами, чтобы увеличить конверсию   \n",
       "8                                                       Запустить акцию, дающую скидку на товар в день рождения   \n",
       "3           Изменить структура категорий, что увеличит конверсию, т.к. пользователи быстрее найдут нужный товар   \n",
       "1                                     Запустить собственную службу доставки, что сократит срок доставки заказов   \n",
       "5                      Добавить страницу отзывов клиентов о магазине, что позволит увеличить количество заказов   \n",
       "4                              Изменить цвет фона главной страницы, чтобы увеличить вовлеченность пользователей   \n",
       "\n",
       "    RICE  \n",
       "7  112.0  \n",
       "2   56.0  \n",
       "0   40.0  \n",
       "6   40.0  \n",
       "8   16.2  \n",
       "3    9.0  \n",
       "1    4.0  \n",
       "5    4.0  \n",
       "4    3.0  "
      ]
     },
     "metadata": {},
     "output_type": "display_data"
    }
   ],
   "source": [
    "hypothesis['RICE'] = hypothesis['reach'] * hypothesis['impact'] *  hypothesis['confidence'] / hypothesis['efforts']\n",
    "\n",
    "display(hypothesis.loc[:,['hypothesis', 'RICE']].sort_values(by='RICE', ascending=False))"
   ]
  },
  {
   "cell_type": "markdown",
   "metadata": {},
   "source": [
    "**Вывод:** наиболее перспективные гипотезы по RICE под индексами: 7, 2, 0."
   ]
  },
  {
   "cell_type": "markdown",
   "metadata": {},
   "source": [
    "**Итоги:**\n",
    "\n",
    "Приоритизация гипотез при применении RICE вместо ICE изменилась, т.к. при использовании RICE мы учитываем охват, что может повлиять на приоритеты гипотез. \n",
    "\n",
    "Так, гипотеза с индексом 7 оказалась на первом месте, потому что её параметр Reach равен 10 - наивысший бал. Гипотеза с индексом 8 заняла более низшую позицию в списке, т.к. у нее самый низкий показатель Reach - 1. Параметр Reach у гипотезы 2 выше, чем у гипотезы с индексом 0, поэтому она заняла второе место."
   ]
  },
  {
   "cell_type": "markdown",
   "metadata": {},
   "source": [
    "# Часть 2. Анализ A/B-теста\n",
    "<a name='analysis'></a>"
   ]
  },
  {
   "cell_type": "markdown",
   "metadata": {},
   "source": [
    "Мы провели A/B-тест и получили результаты, которые описаны в таблицах orders и visitors.\n",
    "\n",
    "**Проанализируем A/B-тест:**"
   ]
  },
  {
   "cell_type": "code",
   "execution_count": 10,
   "metadata": {},
   "outputs": [
    {
     "data": {
      "text/html": [
       "<div>\n",
       "<style scoped>\n",
       "    .dataframe tbody tr th:only-of-type {\n",
       "        vertical-align: middle;\n",
       "    }\n",
       "\n",
       "    .dataframe tbody tr th {\n",
       "        vertical-align: top;\n",
       "    }\n",
       "\n",
       "    .dataframe thead th {\n",
       "        text-align: right;\n",
       "    }\n",
       "</style>\n",
       "<table border=\"1\" class=\"dataframe\">\n",
       "  <thead>\n",
       "    <tr style=\"text-align: right;\">\n",
       "      <th></th>\n",
       "      <th>transactionId</th>\n",
       "      <th>visitorId</th>\n",
       "      <th>date</th>\n",
       "      <th>revenue</th>\n",
       "      <th>group</th>\n",
       "    </tr>\n",
       "  </thead>\n",
       "  <tbody>\n",
       "    <tr>\n",
       "      <td>0</td>\n",
       "      <td>3667963787</td>\n",
       "      <td>3312258926</td>\n",
       "      <td>2019-08-15</td>\n",
       "      <td>1650</td>\n",
       "      <td>B</td>\n",
       "    </tr>\n",
       "    <tr>\n",
       "      <td>1</td>\n",
       "      <td>2804400009</td>\n",
       "      <td>3642806036</td>\n",
       "      <td>2019-08-15</td>\n",
       "      <td>730</td>\n",
       "      <td>B</td>\n",
       "    </tr>\n",
       "    <tr>\n",
       "      <td>2</td>\n",
       "      <td>2961555356</td>\n",
       "      <td>4069496402</td>\n",
       "      <td>2019-08-15</td>\n",
       "      <td>400</td>\n",
       "      <td>A</td>\n",
       "    </tr>\n",
       "    <tr>\n",
       "      <td>3</td>\n",
       "      <td>3797467345</td>\n",
       "      <td>1196621759</td>\n",
       "      <td>2019-08-15</td>\n",
       "      <td>9759</td>\n",
       "      <td>B</td>\n",
       "    </tr>\n",
       "    <tr>\n",
       "      <td>4</td>\n",
       "      <td>2282983706</td>\n",
       "      <td>2322279887</td>\n",
       "      <td>2019-08-15</td>\n",
       "      <td>2308</td>\n",
       "      <td>B</td>\n",
       "    </tr>\n",
       "  </tbody>\n",
       "</table>\n",
       "</div>"
      ],
      "text/plain": [
       "   transactionId   visitorId       date  revenue group\n",
       "0     3667963787  3312258926 2019-08-15     1650     B\n",
       "1     2804400009  3642806036 2019-08-15      730     B\n",
       "2     2961555356  4069496402 2019-08-15      400     A\n",
       "3     3797467345  1196621759 2019-08-15     9759     B\n",
       "4     2282983706  2322279887 2019-08-15     2308     B"
      ]
     },
     "metadata": {},
     "output_type": "display_data"
    },
    {
     "data": {
      "text/html": [
       "<div>\n",
       "<style scoped>\n",
       "    .dataframe tbody tr th:only-of-type {\n",
       "        vertical-align: middle;\n",
       "    }\n",
       "\n",
       "    .dataframe tbody tr th {\n",
       "        vertical-align: top;\n",
       "    }\n",
       "\n",
       "    .dataframe thead th {\n",
       "        text-align: right;\n",
       "    }\n",
       "</style>\n",
       "<table border=\"1\" class=\"dataframe\">\n",
       "  <thead>\n",
       "    <tr style=\"text-align: right;\">\n",
       "      <th></th>\n",
       "      <th>date</th>\n",
       "      <th>group</th>\n",
       "      <th>visitors</th>\n",
       "    </tr>\n",
       "  </thead>\n",
       "  <tbody>\n",
       "    <tr>\n",
       "      <td>0</td>\n",
       "      <td>2019-08-01</td>\n",
       "      <td>A</td>\n",
       "      <td>719</td>\n",
       "    </tr>\n",
       "    <tr>\n",
       "      <td>1</td>\n",
       "      <td>2019-08-02</td>\n",
       "      <td>A</td>\n",
       "      <td>619</td>\n",
       "    </tr>\n",
       "    <tr>\n",
       "      <td>2</td>\n",
       "      <td>2019-08-03</td>\n",
       "      <td>A</td>\n",
       "      <td>507</td>\n",
       "    </tr>\n",
       "    <tr>\n",
       "      <td>3</td>\n",
       "      <td>2019-08-04</td>\n",
       "      <td>A</td>\n",
       "      <td>717</td>\n",
       "    </tr>\n",
       "    <tr>\n",
       "      <td>4</td>\n",
       "      <td>2019-08-05</td>\n",
       "      <td>A</td>\n",
       "      <td>756</td>\n",
       "    </tr>\n",
       "  </tbody>\n",
       "</table>\n",
       "</div>"
      ],
      "text/plain": [
       "        date group  visitors\n",
       "0 2019-08-01     A       719\n",
       "1 2019-08-02     A       619\n",
       "2 2019-08-03     A       507\n",
       "3 2019-08-04     A       717\n",
       "4 2019-08-05     A       756"
      ]
     },
     "metadata": {},
     "output_type": "display_data"
    }
   ],
   "source": [
    "display(orders.head())\n",
    "display(visitors.head())"
   ]
  },
  {
   "cell_type": "markdown",
   "metadata": {},
   "source": [
    " **1. Построим график кумулятивной выручки по группам.**"
   ]
  },
  {
   "cell_type": "markdown",
   "metadata": {},
   "source": [
    "Сначала соберем кумулятивные данные:"
   ]
  },
  {
   "cell_type": "code",
   "execution_count": 11,
   "metadata": {},
   "outputs": [
    {
     "data": {
      "text/html": [
       "<div>\n",
       "<style scoped>\n",
       "    .dataframe tbody tr th:only-of-type {\n",
       "        vertical-align: middle;\n",
       "    }\n",
       "\n",
       "    .dataframe tbody tr th {\n",
       "        vertical-align: top;\n",
       "    }\n",
       "\n",
       "    .dataframe thead th {\n",
       "        text-align: right;\n",
       "    }\n",
       "</style>\n",
       "<table border=\"1\" class=\"dataframe\">\n",
       "  <thead>\n",
       "    <tr style=\"text-align: right;\">\n",
       "      <th></th>\n",
       "      <th>date</th>\n",
       "      <th>group</th>\n",
       "      <th>orders</th>\n",
       "      <th>buyers</th>\n",
       "      <th>revenue</th>\n",
       "      <th>visitors</th>\n",
       "    </tr>\n",
       "  </thead>\n",
       "  <tbody>\n",
       "    <tr>\n",
       "      <td>0</td>\n",
       "      <td>2019-08-01</td>\n",
       "      <td>A</td>\n",
       "      <td>24</td>\n",
       "      <td>20</td>\n",
       "      <td>148579</td>\n",
       "      <td>719</td>\n",
       "    </tr>\n",
       "    <tr>\n",
       "      <td>1</td>\n",
       "      <td>2019-08-01</td>\n",
       "      <td>B</td>\n",
       "      <td>21</td>\n",
       "      <td>20</td>\n",
       "      <td>101217</td>\n",
       "      <td>713</td>\n",
       "    </tr>\n",
       "    <tr>\n",
       "      <td>2</td>\n",
       "      <td>2019-08-02</td>\n",
       "      <td>A</td>\n",
       "      <td>44</td>\n",
       "      <td>38</td>\n",
       "      <td>242401</td>\n",
       "      <td>1338</td>\n",
       "    </tr>\n",
       "    <tr>\n",
       "      <td>3</td>\n",
       "      <td>2019-08-02</td>\n",
       "      <td>B</td>\n",
       "      <td>45</td>\n",
       "      <td>43</td>\n",
       "      <td>266748</td>\n",
       "      <td>1294</td>\n",
       "    </tr>\n",
       "    <tr>\n",
       "      <td>4</td>\n",
       "      <td>2019-08-03</td>\n",
       "      <td>A</td>\n",
       "      <td>68</td>\n",
       "      <td>62</td>\n",
       "      <td>354874</td>\n",
       "      <td>1845</td>\n",
       "    </tr>\n",
       "  </tbody>\n",
       "</table>\n",
       "</div>"
      ],
      "text/plain": [
       "        date group  orders  buyers  revenue  visitors\n",
       "0 2019-08-01     A      24      20   148579       719\n",
       "1 2019-08-01     B      21      20   101217       713\n",
       "2 2019-08-02     A      44      38   242401      1338\n",
       "3 2019-08-02     B      45      43   266748      1294\n",
       "4 2019-08-03     A      68      62   354874      1845"
      ]
     },
     "metadata": {},
     "output_type": "display_data"
    }
   ],
   "source": [
    "# создаем массив уникальных пар значений дат и групп теста\n",
    "datesGroups = orders[['date','group']].drop_duplicates()\n",
    "\n",
    "# получаем агрегированные кумулятивные по дням данные о заказах \n",
    "ordersAggregated = datesGroups.apply(lambda x: orders[np.logical_and(orders['date'] <= x['date'], orders['group'] == x['group'])].agg({'date' : 'max', 'group' : 'max', 'transactionId' : 'nunique', 'visitorId' : 'nunique', 'revenue' : 'sum'}), axis=1).sort_values(by=['date','group'])\n",
    "\n",
    "# получаем агрегированные кумулятивные по дням данные о посетителях интернет-магазина \n",
    "visitorsAggregated = datesGroups.apply(lambda x: visitors[np.logical_and(visitors['date'] <= x['date'], visitors['group'] == x['group'])].agg({'date' : 'max', 'group' : 'max', 'visitors' : 'sum'}), axis=1).sort_values(by=['date','group'])\n",
    "\n",
    "# объединяем кумулятивные данные в одной таблице и присваиваем ее столбцам понятные названия\n",
    "cumulativeData = ordersAggregated.merge(visitorsAggregated, left_on=['date', 'group'], right_on=['date', 'group'])\n",
    "cumulativeData.columns = ['date', 'group', 'orders', 'buyers', 'revenue', 'visitors']\n",
    "\n",
    "display(cumulativeData.head(5))"
   ]
  },
  {
   "cell_type": "markdown",
   "metadata": {},
   "source": [
    "Построим графики кумулятивной выручки по дням и группам A/B-тестирования:"
   ]
  },
  {
   "cell_type": "code",
   "execution_count": 12,
   "metadata": {},
   "outputs": [
    {
     "data": {
      "text/plain": [
       "(array([737272., 737276., 737280., 737284., 737288., 737292., 737296.,\n",
       "        737300., 737303.]),\n",
       " <a list of 9 Text xticklabel objects>)"
      ]
     },
     "execution_count": 12,
     "metadata": {},
     "output_type": "execute_result"
    },
    {
     "data": {
      "image/png": "[encoded data removed]",
      "text/plain": [
       "<Figure size 432x288 with 1 Axes>"
      ]
     },
     "metadata": {
      "needs_background": "light"
     },
     "output_type": "display_data"
    }
   ],
   "source": [
    "# датафрейм с кумулятивным количеством заказов и кумулятивной выручкой по дням в группе А\n",
    "cumulativeRevenueA = cumulativeData[cumulativeData['group']=='A'][['date','revenue', 'orders']]\n",
    "\n",
    "# датафрейм с кумулятивным количеством заказов и кумулятивной выручкой по дням в группе B\n",
    "cumulativeRevenueB = cumulativeData[cumulativeData['group']=='B'][['date','revenue', 'orders']]\n",
    "\n",
    "# Строим график выручки группы А\n",
    "plt.plot(cumulativeRevenueA['date'], cumulativeRevenueA['revenue'], label='A')\n",
    "\n",
    "# Строим график выручки группы B\n",
    "plt.plot(cumulativeRevenueB['date'], cumulativeRevenueB['revenue'], label='B')\n",
    "\n",
    "plt.legend()\n",
    "plt.title('График кумулятивной выручки по дням\\n и группам A/B-тестирования', pad = 10)\n",
    "plt.xticks(rotation=25)"
   ]
  },
  {
   "cell_type": "markdown",
   "metadata": {},
   "source": [
    "**Вывод:**\n",
    "\n",
    "Сначала выручка почти равномерно увеличивается, а потом выручка группы B резко выросла. Это может сигнализировать о всплесках числа заказов, либо о появлении очень дорогих заказов в выборке."
   ]
  },
  {
   "cell_type": "markdown",
   "metadata": {},
   "source": [
    "**2. Построим график кумулятивного среднего чека по группам.**"
   ]
  },
  {
   "cell_type": "code",
   "execution_count": 13,
   "metadata": {},
   "outputs": [
    {
     "data": {
      "text/plain": [
       "(array([737272., 737276., 737280., 737284., 737288., 737292., 737296.,\n",
       "        737300., 737303.]),\n",
       " <a list of 9 Text xticklabel objects>)"
      ]
     },
     "execution_count": 13,
     "metadata": {},
     "output_type": "execute_result"
    },
    {
     "data": {
      "image/png": "[encoded data removed]",
      "text/plain": [
       "<Figure size 432x288 with 1 Axes>"
      ]
     },
     "metadata": {
      "needs_background": "light"
     },
     "output_type": "display_data"
    }
   ],
   "source": [
    "plt.plot(cumulativeRevenueA['date'], cumulativeRevenueA['revenue']/cumulativeRevenueA['orders'], label='A')\n",
    "plt.plot(cumulativeRevenueB['date'], cumulativeRevenueB['revenue']/cumulativeRevenueB['orders'], label='B')\n",
    "plt.legend()\n",
    "plt.title('График кумулятивного среднего чека по группам', pad = 10)\n",
    "plt.xticks(rotation=25)"
   ]
  },
  {
   "cell_type": "markdown",
   "metadata": {},
   "source": [
    "**Вывод:**\n",
    "\n",
    "Результаты сильно колеблются. Возможно, в группу B во второй половине теста попали крупные заказы (резкий всплеск на графике). Затем значение среднего чека начинает приходить в норму, но еще рано говорить о стабилизации. "
   ]
  },
  {
   "cell_type": "markdown",
   "metadata": {},
   "source": [
    "**3. Построим график относительного изменения кумулятивного среднего чека группы B к группе A.**"
   ]
  },
  {
   "cell_type": "code",
   "execution_count": 14,
   "metadata": {},
   "outputs": [
    {
     "data": {
      "text/plain": [
       "(array([737272., 737276., 737280., 737284., 737288., 737292., 737296.,\n",
       "        737300., 737303.]),\n",
       " <a list of 9 Text xticklabel objects>)"
      ]
     },
     "execution_count": 14,
     "metadata": {},
     "output_type": "execute_result"
    },
    {
     "data": {
      "image/png": "[encoded data removed]",
      "text/plain": [
       "<Figure size 432x288 with 1 Axes>"
      ]
     },
     "metadata": {
      "needs_background": "light"
     },
     "output_type": "display_data"
    }
   ],
   "source": [
    "# собираем данные в одном датафрейме\n",
    "mergedCumulativeRevenue = cumulativeRevenueA.merge(cumulativeRevenueB, left_on='date', right_on='date', how='left', suffixes=['A', 'B'])\n",
    "\n",
    "# cтроим отношение средних чеков\n",
    "plt.plot(mergedCumulativeRevenue['date'], (mergedCumulativeRevenue['revenueB']/mergedCumulativeRevenue['ordersB'])/(mergedCumulativeRevenue['revenueA']/mergedCumulativeRevenue['ordersA'])-1)\n",
    "\n",
    "# добавляем ось X\n",
    "plt.axhline(y=0, color='black', linestyle='--')\n",
    "plt.title('График относительного изменения кумулятивного\\n среднего чека группы B к группе A', pad = 10)\n",
    "plt.xticks(rotation=25)"
   ]
  },
  {
   "cell_type": "markdown",
   "metadata": {},
   "source": [
    "**Вывод:**\n",
    "\n",
    "График различия между сегментами резко «скачет». Скорее всего, дело в крупные заказах и выбросах. На данный момент результаты группы B почти на 30% лучше."
   ]
  },
  {
   "cell_type": "markdown",
   "metadata": {},
   "source": [
    "**4. Построим график кумулятивной конверсии по группам.**"
   ]
  },
  {
   "cell_type": "markdown",
   "metadata": {},
   "source": [
    "Определим минимальное и максимальное значения оси x (даты):"
   ]
  },
  {
   "cell_type": "code",
   "execution_count": 15,
   "metadata": {},
   "outputs": [
    {
     "data": {
      "text/plain": [
       "(Timestamp('2019-08-01 00:00:00'), Timestamp('2019-08-31 00:00:00'))"
      ]
     },
     "execution_count": 15,
     "metadata": {},
     "output_type": "execute_result"
    }
   ],
   "source": [
    "cumulativeData['date'].min(), cumulativeData['date'].max()"
   ]
  },
  {
   "cell_type": "markdown",
   "metadata": {},
   "source": [
    "Минимальная дата - 2019-08-01\n",
    "\n",
    "Максимальная дата - 2019-08-31"
   ]
  },
  {
   "cell_type": "code",
   "execution_count": 16,
   "metadata": {},
   "outputs": [
    {
     "data": {
      "text/plain": [
       "(array([737272., 737276., 737280., 737284., 737288., 737292., 737296.,\n",
       "        737300.]),\n",
       " <a list of 8 Text xticklabel objects>)"
      ]
     },
     "execution_count": 16,
     "metadata": {},
     "output_type": "execute_result"
    },
    {
     "data": {
      "image/png": "[encoded data removed]",
      "text/plain": [
       "<Figure size 504x360 with 1 Axes>"
      ]
     },
     "metadata": {
      "needs_background": "light"
     },
     "output_type": "display_data"
    }
   ],
   "source": [
    "# считаем кумулятивную конверсию\n",
    "cumulativeData['conversion'] = cumulativeData['orders']/cumulativeData['visitors']\n",
    "\n",
    "# отделяем данные по группе A\n",
    "cumulativeDataA = cumulativeData[cumulativeData['group']=='A']\n",
    "\n",
    "# отделяем данные по группе B\n",
    "cumulativeDataB = cumulativeData[cumulativeData['group']=='B']\n",
    "\n",
    "# строим графики\n",
    "plt.figure(figsize=(7,5))\n",
    "plt.plot(cumulativeDataA['date'], cumulativeDataA['conversion'], label='A')\n",
    "plt.plot(cumulativeDataB['date'], cumulativeDataB['conversion'], label='B')\n",
    "plt.legend()\n",
    "\n",
    "# задаем масштаб осей\n",
    "plt.axis([\"2019-08-01\", '2019-08-31', 0.02, 0.045])\n",
    "plt.title('График кумулятивной конверсии по группам', pad = 10)\n",
    "plt.xticks(rotation=25)"
   ]
  },
  {
   "cell_type": "markdown",
   "metadata": {},
   "source": [
    "**Вывод:**\n",
    "\n",
    "Конверсия группы B вырвалась вверх и зафиксировалась. Конверсия группы A тоже зафиксировалась, только ниже."
   ]
  },
  {
   "cell_type": "markdown",
   "metadata": {},
   "source": [
    "**5. Построим график относительного изменения кумулятивной конверсии группы B к группе A.**"
   ]
  },
  {
   "cell_type": "code",
   "execution_count": 17,
   "metadata": {},
   "outputs": [
    {
     "data": {
      "text/plain": [
       "(array([737272., 737276., 737280., 737284., 737288., 737292., 737296.,\n",
       "        737300.]),\n",
       " <a list of 8 Text xticklabel objects>)"
      ]
     },
     "execution_count": 17,
     "metadata": {},
     "output_type": "execute_result"
    },
    {
     "data": {
      "image/png": "[encoded data removed]",
      "text/plain": [
       "<Figure size 432x288 with 1 Axes>"
      ]
     },
     "metadata": {
      "needs_background": "light"
     },
     "output_type": "display_data"
    }
   ],
   "source": [
    "mergedCumulativeConversions = cumulativeDataA[['date','conversion']].merge(cumulativeDataB[['date','conversion']], left_on='date', right_on='date', how='left', suffixes=['A', 'B'])\n",
    "\n",
    "plt.plot(mergedCumulativeConversions['date'], mergedCumulativeConversions['conversionB']/mergedCumulativeConversions['conversionA']-1, label=\"Относительный прирост конверсии группы B относительно группы A\")\n",
    "plt.legend()\n",
    "\n",
    "plt.axhline(y=0, color='black', linestyle='--')\n",
    "plt.axhline(y=-0.1, color='grey', linestyle='--')\n",
    "plt.axis([\"2019-08-01\", '2019-08-31', -0.6, 0.6])\n",
    "plt.title('График относительного изменения кумулятивной конверсии\\n группы B к группе A', pad = 10)\n",
    "plt.xticks(rotation=25)"
   ]
  },
  {
   "cell_type": "markdown",
   "metadata": {},
   "source": [
    "**Вывод:**\n",
    "\n",
    "Конверсия группы B лидирует относительно группы A почти с начала теста. С середины теста отличие конверсии группы B относительно конверсии группы A снижается и, возможно, уже стабилизировалось."
   ]
  },
  {
   "cell_type": "markdown",
   "metadata": {},
   "source": [
    "**6. Построим точечный график количества заказов по пользователям.**"
   ]
  },
  {
   "cell_type": "markdown",
   "metadata": {},
   "source": [
    "Подсчитаем количество заказов по пользователям:"
   ]
  },
  {
   "cell_type": "code",
   "execution_count": 18,
   "metadata": {},
   "outputs": [
    {
     "data": {
      "text/html": [
       "<div>\n",
       "<style scoped>\n",
       "    .dataframe tbody tr th:only-of-type {\n",
       "        vertical-align: middle;\n",
       "    }\n",
       "\n",
       "    .dataframe tbody tr th {\n",
       "        vertical-align: top;\n",
       "    }\n",
       "\n",
       "    .dataframe thead th {\n",
       "        text-align: right;\n",
       "    }\n",
       "</style>\n",
       "<table border=\"1\" class=\"dataframe\">\n",
       "  <thead>\n",
       "    <tr style=\"text-align: right;\">\n",
       "      <th></th>\n",
       "      <th>visitorId</th>\n",
       "      <th>orders</th>\n",
       "    </tr>\n",
       "  </thead>\n",
       "  <tbody>\n",
       "    <tr>\n",
       "      <td>1023</td>\n",
       "      <td>4256040402</td>\n",
       "      <td>11</td>\n",
       "    </tr>\n",
       "    <tr>\n",
       "      <td>591</td>\n",
       "      <td>2458001652</td>\n",
       "      <td>11</td>\n",
       "    </tr>\n",
       "    <tr>\n",
       "      <td>569</td>\n",
       "      <td>2378935119</td>\n",
       "      <td>9</td>\n",
       "    </tr>\n",
       "    <tr>\n",
       "      <td>487</td>\n",
       "      <td>2038680547</td>\n",
       "      <td>8</td>\n",
       "    </tr>\n",
       "    <tr>\n",
       "      <td>44</td>\n",
       "      <td>199603092</td>\n",
       "      <td>5</td>\n",
       "    </tr>\n",
       "    <tr>\n",
       "      <td>...</td>\n",
       "      <td>...</td>\n",
       "      <td>...</td>\n",
       "    </tr>\n",
       "    <tr>\n",
       "      <td>359</td>\n",
       "      <td>1484903144</td>\n",
       "      <td>1</td>\n",
       "    </tr>\n",
       "    <tr>\n",
       "      <td>360</td>\n",
       "      <td>1485964287</td>\n",
       "      <td>1</td>\n",
       "    </tr>\n",
       "    <tr>\n",
       "      <td>361</td>\n",
       "      <td>1494664757</td>\n",
       "      <td>1</td>\n",
       "    </tr>\n",
       "    <tr>\n",
       "      <td>362</td>\n",
       "      <td>1495112755</td>\n",
       "      <td>1</td>\n",
       "    </tr>\n",
       "    <tr>\n",
       "      <td>1030</td>\n",
       "      <td>4283872382</td>\n",
       "      <td>1</td>\n",
       "    </tr>\n",
       "  </tbody>\n",
       "</table>\n",
       "<p>1031 rows × 2 columns</p>\n",
       "</div>"
      ],
      "text/plain": [
       "       visitorId  orders\n",
       "1023  4256040402      11\n",
       "591   2458001652      11\n",
       "569   2378935119       9\n",
       "487   2038680547       8\n",
       "44     199603092       5\n",
       "...          ...     ...\n",
       "359   1484903144       1\n",
       "360   1485964287       1\n",
       "361   1494664757       1\n",
       "362   1495112755       1\n",
       "1030  4283872382       1\n",
       "\n",
       "[1031 rows x 2 columns]"
      ]
     },
     "metadata": {},
     "output_type": "display_data"
    }
   ],
   "source": [
    "ordersByUsers = (\n",
    "    orders.groupby('visitorId', as_index=False)\n",
    "    .agg({'transactionId': pd.Series.nunique})\n",
    ")\n",
    "\n",
    "ordersByUsers.columns = ['visitorId', 'orders']\n",
    "\n",
    "display(ordersByUsers.sort_values(by='orders', ascending=False))"
   ]
  },
  {
   "cell_type": "markdown",
   "metadata": {},
   "source": [
    "**Вывод:**\n",
    "\n",
    "Есть пользователи, которые совершали 5, 8, 9, 11 заказов. Это намного больше среднестатистического числа."
   ]
  },
  {
   "cell_type": "markdown",
   "metadata": {},
   "source": [
    "Построим точечную диаграмму количества заказов на одного пользователя:"
   ]
  },
  {
   "cell_type": "code",
   "execution_count": 19,
   "metadata": {},
   "outputs": [
    {
     "data": {
      "text/plain": [
       "Text(0.5, 1.0, 'График количества заказов на одного пользователя')"
      ]
     },
     "execution_count": 19,
     "metadata": {},
     "output_type": "execute_result"
    },
    {
     "data": {
      "image/png": "[encoded data removed]",
      "text/plain": [
       "<Figure size 432x288 with 1 Axes>"
      ]
     },
     "metadata": {
      "needs_background": "light"
     },
     "output_type": "display_data"
    }
   ],
   "source": [
    "x_values = pd.Series(range(0,len(ordersByUsers)))\n",
    "\n",
    "plt.scatter(x_values, ordersByUsers['orders'])\n",
    "\n",
    "plt.title('График количества заказов на одного пользователя', pad = 10)"
   ]
  },
  {
   "cell_type": "markdown",
   "metadata": {},
   "source": [
    "**Вывод:**\n",
    "\n",
    "Много пользователей с 2-3 заказами. Пока не ясно, считать ли их аномалиями. Пользователей, заказавших более 3-х раз, совсем мало. Скорее всего, это аномалии."
   ]
  },
  {
   "cell_type": "markdown",
   "metadata": {},
   "source": [
    "**7. Посчитаем 95-й и 99-й перцентили количества заказов на пользователя. Выберем границу для определения аномальных пользователей.**"
   ]
  },
  {
   "cell_type": "code",
   "execution_count": 20,
   "metadata": {},
   "outputs": [
    {
     "data": {
      "text/plain": [
       "array([2., 4.])"
      ]
     },
     "execution_count": 20,
     "metadata": {},
     "output_type": "execute_result"
    }
   ],
   "source": [
    "np.percentile(ordersByUsers['orders'], [95, 99])"
   ]
  },
  {
   "cell_type": "markdown",
   "metadata": {},
   "source": [
    "**Вывод:**\n",
    "\n",
    "Не более 5% пользователей совершали больше двух заказов. И не более 1% пользователей — больше четырёх заказов. За *верхнюю границу числа заказов* выберем 2 заказа на одного пользователя, и отсеем аномальных пользователей по ней."
   ]
  },
  {
   "cell_type": "markdown",
   "metadata": {},
   "source": [
    "**8. Построим точечный график стоимостей заказов.**"
   ]
  },
  {
   "cell_type": "code",
   "execution_count": 21,
   "metadata": {},
   "outputs": [
    {
     "data": {
      "text/plain": [
       "Text(0.5, 1.0, 'График стоимостей заказов на одного пользователя')"
      ]
     },
     "execution_count": 21,
     "metadata": {},
     "output_type": "execute_result"
    },
    {
     "data": {
      "image/png": "[encoded data removed]",
      "text/plain": [
       "<Figure size 432x288 with 1 Axes>"
      ]
     },
     "metadata": {
      "needs_background": "light"
     },
     "output_type": "display_data"
    }
   ],
   "source": [
    "x_values = pd.Series(range(0,len(orders['revenue'])))\n",
    "plt.scatter(x_values, orders['revenue'])\n",
    "plt.title('График стоимостей заказов на одного пользователя', pad = 10)"
   ]
  },
  {
   "cell_type": "markdown",
   "metadata": {},
   "source": [
    "Масштабируем график для большей наглядности:"
   ]
  },
  {
   "cell_type": "code",
   "execution_count": 22,
   "metadata": {},
   "outputs": [
    {
     "data": {
      "text/plain": [
       "(0, 110000)"
      ]
     },
     "execution_count": 22,
     "metadata": {},
     "output_type": "execute_result"
    },
    {
     "data": {
      "image/png": "[encoded data removed]",
      "text/plain": [
       "<Figure size 432x288 with 1 Axes>"
      ]
     },
     "metadata": {
      "needs_background": "light"
     },
     "output_type": "display_data"
    }
   ],
   "source": [
    "plt.scatter(x_values, orders['revenue'])\n",
    "plt.title('График стоимостей заказов на одного пользователя', pad = 10)\n",
    "plt.ylim(0, 110000)"
   ]
  },
  {
   "cell_type": "markdown",
   "metadata": {},
   "source": [
    "**Вывод:**\n",
    "\n",
    "По графикам видно, что основная часть заказов составляет менее 100 000 рублей. Но следует определить аномалии точнее."
   ]
  },
  {
   "cell_type": "markdown",
   "metadata": {},
   "source": [
    "**9. Посчитаем 95-й и 99-й перцентили стоимости заказов. Выберем границу для определения аномальных заказов.**"
   ]
  },
  {
   "cell_type": "code",
   "execution_count": 23,
   "metadata": {},
   "outputs": [
    {
     "data": {
      "text/plain": [
       "array([28000. , 58233.2])"
      ]
     },
     "execution_count": 23,
     "metadata": {},
     "output_type": "execute_result"
    }
   ],
   "source": [
    "np.percentile(orders['revenue'], [95, 99])"
   ]
  },
  {
   "cell_type": "markdown",
   "metadata": {},
   "source": [
    "**Вывод:**\n",
    "\n",
    "Не более 1% дороже 58 233 рублей. И не более 5% заказов дороже 28 000 рублей, выберем эту сумму *границей для определения аномальных заказов*."
   ]
  },
  {
   "cell_type": "markdown",
   "metadata": {},
   "source": [
    "**10. Посчитаем статистическую значимость различий в конверсии между группами по «сырым» данным.**"
   ]
  },
  {
   "cell_type": "markdown",
   "metadata": {},
   "source": [
    "Начнём с подготовки данных:"
   ]
  },
  {
   "cell_type": "code",
   "execution_count": 24,
   "metadata": {},
   "outputs": [
    {
     "data": {
      "text/html": [
       "<div>\n",
       "<style scoped>\n",
       "    .dataframe tbody tr th:only-of-type {\n",
       "        vertical-align: middle;\n",
       "    }\n",
       "\n",
       "    .dataframe tbody tr th {\n",
       "        vertical-align: top;\n",
       "    }\n",
       "\n",
       "    .dataframe thead th {\n",
       "        text-align: right;\n",
       "    }\n",
       "</style>\n",
       "<table border=\"1\" class=\"dataframe\">\n",
       "  <thead>\n",
       "    <tr style=\"text-align: right;\">\n",
       "      <th></th>\n",
       "      <th>date</th>\n",
       "      <th>ordersPerDateA</th>\n",
       "      <th>revenuePerDateA</th>\n",
       "      <th>ordersPerDateB</th>\n",
       "      <th>revenuePerDateB</th>\n",
       "      <th>ordersCummulativeA</th>\n",
       "      <th>revenueCummulativeA</th>\n",
       "      <th>ordersCummulativeB</th>\n",
       "      <th>revenueCummulativeB</th>\n",
       "      <th>visitorsPerDateA</th>\n",
       "      <th>visitorsPerDateB</th>\n",
       "      <th>visitorsCummulativeA</th>\n",
       "      <th>visitorsCummulativeB</th>\n",
       "    </tr>\n",
       "  </thead>\n",
       "  <tbody>\n",
       "    <tr>\n",
       "      <td>0</td>\n",
       "      <td>2019-08-01</td>\n",
       "      <td>24</td>\n",
       "      <td>148579</td>\n",
       "      <td>21</td>\n",
       "      <td>101217</td>\n",
       "      <td>24</td>\n",
       "      <td>148579</td>\n",
       "      <td>21</td>\n",
       "      <td>101217</td>\n",
       "      <td>719</td>\n",
       "      <td>713</td>\n",
       "      <td>719</td>\n",
       "      <td>713</td>\n",
       "    </tr>\n",
       "    <tr>\n",
       "      <td>1</td>\n",
       "      <td>2019-08-02</td>\n",
       "      <td>20</td>\n",
       "      <td>93822</td>\n",
       "      <td>24</td>\n",
       "      <td>165531</td>\n",
       "      <td>44</td>\n",
       "      <td>242401</td>\n",
       "      <td>45</td>\n",
       "      <td>266748</td>\n",
       "      <td>619</td>\n",
       "      <td>581</td>\n",
       "      <td>1338</td>\n",
       "      <td>1294</td>\n",
       "    </tr>\n",
       "    <tr>\n",
       "      <td>2</td>\n",
       "      <td>2019-08-03</td>\n",
       "      <td>24</td>\n",
       "      <td>112473</td>\n",
       "      <td>16</td>\n",
       "      <td>114248</td>\n",
       "      <td>68</td>\n",
       "      <td>354874</td>\n",
       "      <td>61</td>\n",
       "      <td>380996</td>\n",
       "      <td>507</td>\n",
       "      <td>509</td>\n",
       "      <td>1845</td>\n",
       "      <td>1803</td>\n",
       "    </tr>\n",
       "    <tr>\n",
       "      <td>3</td>\n",
       "      <td>2019-08-04</td>\n",
       "      <td>16</td>\n",
       "      <td>70825</td>\n",
       "      <td>17</td>\n",
       "      <td>108571</td>\n",
       "      <td>84</td>\n",
       "      <td>425699</td>\n",
       "      <td>78</td>\n",
       "      <td>489567</td>\n",
       "      <td>717</td>\n",
       "      <td>770</td>\n",
       "      <td>2562</td>\n",
       "      <td>2573</td>\n",
       "    </tr>\n",
       "    <tr>\n",
       "      <td>4</td>\n",
       "      <td>2019-08-05</td>\n",
       "      <td>25</td>\n",
       "      <td>124218</td>\n",
       "      <td>23</td>\n",
       "      <td>92428</td>\n",
       "      <td>109</td>\n",
       "      <td>549917</td>\n",
       "      <td>101</td>\n",
       "      <td>581995</td>\n",
       "      <td>756</td>\n",
       "      <td>707</td>\n",
       "      <td>3318</td>\n",
       "      <td>3280</td>\n",
       "    </tr>\n",
       "  </tbody>\n",
       "</table>\n",
       "</div>"
      ],
      "text/plain": [
       "        date  ordersPerDateA  revenuePerDateA  ordersPerDateB  \\\n",
       "0 2019-08-01              24           148579              21   \n",
       "1 2019-08-02              20            93822              24   \n",
       "2 2019-08-03              24           112473              16   \n",
       "3 2019-08-04              16            70825              17   \n",
       "4 2019-08-05              25           124218              23   \n",
       "\n",
       "   revenuePerDateB  ordersCummulativeA  revenueCummulativeA  \\\n",
       "0           101217                  24               148579   \n",
       "1           165531                  44               242401   \n",
       "2           114248                  68               354874   \n",
       "3           108571                  84               425699   \n",
       "4            92428                 109               549917   \n",
       "\n",
       "   ordersCummulativeB  revenueCummulativeB  visitorsPerDateA  \\\n",
       "0                  21               101217               719   \n",
       "1                  45               266748               619   \n",
       "2                  61               380996               507   \n",
       "3                  78               489567               717   \n",
       "4                 101               581995               756   \n",
       "\n",
       "   visitorsPerDateB  visitorsCummulativeA  visitorsCummulativeB  \n",
       "0               713                   719                   713  \n",
       "1               581                  1338                  1294  \n",
       "2               509                  1845                  1803  \n",
       "3               770                  2562                  2573  \n",
       "4               707                  3318                  3280  "
      ]
     },
     "metadata": {},
     "output_type": "display_data"
    }
   ],
   "source": [
    "visitorsADaily = visitors[visitors['group'] == 'A'][['date', 'visitors']]\n",
    "visitorsADaily.columns = ['date', 'visitorsPerDateA']\n",
    "\n",
    "visitorsACummulative = visitorsADaily.apply(\n",
    "    lambda x: visitorsADaily[visitorsADaily['date'] <= x['date']].agg(\n",
    "        {'date': 'max', 'visitorsPerDateA': 'sum'}\n",
    "    ),\n",
    "    axis=1,\n",
    ")\n",
    "visitorsACummulative.columns = ['date', 'visitorsCummulativeA']\n",
    "\n",
    "visitorsBDaily = visitors[visitors['group'] == 'B'][['date', 'visitors']]\n",
    "visitorsBDaily.columns = ['date', 'visitorsPerDateB']\n",
    "\n",
    "visitorsBCummulative = visitorsBDaily.apply(\n",
    "    lambda x: visitorsBDaily[visitorsBDaily['date'] <= x['date']].agg(\n",
    "        {'date': 'max', 'visitorsPerDateB': 'sum'}\n",
    "    ),\n",
    "    axis=1,\n",
    ")\n",
    "visitorsBCummulative.columns = ['date', 'visitorsCummulativeB']\n",
    "\n",
    "ordersADaily = (\n",
    "    orders[orders['group'] == 'A'][['date', 'transactionId', 'visitorId', 'revenue']]\n",
    "    .groupby('date', as_index=False)\n",
    "    .agg({'transactionId': pd.Series.nunique, 'revenue': 'sum'})\n",
    ")\n",
    "ordersADaily.columns = ['date', 'ordersPerDateA', 'revenuePerDateA']\n",
    "\n",
    "ordersACummulative = ordersADaily.apply(\n",
    "    lambda x: ordersADaily[ordersADaily['date'] <= x['date']].agg(\n",
    "        {'date': 'max', 'ordersPerDateA': 'sum', 'revenuePerDateA': 'sum'}\n",
    "    ),\n",
    "    axis=1,\n",
    ").sort_values(by=['date'])\n",
    "ordersACummulative.columns = [\n",
    "    'date',\n",
    "    'ordersCummulativeA',\n",
    "    'revenueCummulativeA',\n",
    "]\n",
    "\n",
    "ordersBDaily = (\n",
    "    orders[orders['group'] == 'B'][['date', 'transactionId', 'visitorId', 'revenue']]\n",
    "    .groupby('date', as_index=False)\n",
    "    .agg({'transactionId': pd.Series.nunique, 'revenue': 'sum'})\n",
    ")\n",
    "ordersBDaily.columns = ['date', 'ordersPerDateB', 'revenuePerDateB']\n",
    "\n",
    "ordersBCummulative = ordersBDaily.apply(\n",
    "    lambda x: ordersBDaily[ordersBDaily['date'] <= x['date']].agg(\n",
    "        {'date': 'max', 'ordersPerDateB': 'sum', 'revenuePerDateB': 'sum'}\n",
    "    ),\n",
    "    axis=1,\n",
    ").sort_values(by=['date'])\n",
    "ordersBCummulative.columns = [\n",
    "    'date',\n",
    "    'ordersCummulativeB',\n",
    "    'revenueCummulativeB',\n",
    "]\n",
    "\n",
    "data = (\n",
    "    ordersADaily.merge(\n",
    "        ordersBDaily, left_on='date', right_on='date', how='left'\n",
    "    )\n",
    "    .merge(ordersACummulative, left_on='date', right_on='date', how='left')\n",
    "    .merge(ordersBCummulative, left_on='date', right_on='date', how='left')\n",
    "    .merge(visitorsADaily, left_on='date', right_on='date', how='left')\n",
    "    .merge(visitorsBDaily, left_on='date', right_on='date', how='left')\n",
    "    .merge(visitorsACummulative, left_on='date', right_on='date', how='left')\n",
    "    .merge(visitorsBCummulative, left_on='date', right_on='date', how='left')\n",
    ")\n",
    "\n",
    "display(data.head())"
   ]
  },
  {
   "cell_type": "markdown",
   "metadata": {},
   "source": [
    "Посчитаем различия в конверсии:"
   ]
  },
  {
   "cell_type": "markdown",
   "metadata": {},
   "source": [
    "**Сформулируем гипотезу:**\n",
    "\n",
    "*Добавить форму подписки на все основные страницы, чтобы собрать базу клиентов для email-рассылок.*\n",
    "\n",
    "В данном случае нам необходимо сравнить между собой 2 выборки: группа А будет видеть прежнюю версию сайта без формы подписки, а группа B увидит обновленный вариант сайта уже с формой подписки.\n",
    "\n",
    "После теста нужно будет проанализировать результаты выручки по группам и проверить гипотезу о равенстве π₁ и π₂:\n",
    "\n",
    " - равны или не равны их конверсии. \n",
    " - равны или не равны их средние чеки.\n",
    "\n",
    "*Нулевая гипотеза H₀:* результаты равны.\n",
    "\n",
    "*Альтернативная гипотеза H₁:* результаты различаются."
   ]
  },
  {
   "cell_type": "code",
   "execution_count": 25,
   "metadata": {},
   "outputs": [
    {
     "name": "stdout",
     "output_type": "stream",
     "text": [
      "0.00840\n",
      "0.138\n"
     ]
    }
   ],
   "source": [
    "# Cоздадим переменные ordersByUsersA и ordersByUsersB:\n",
    "ordersByUsersA = (\n",
    "    orders[orders['group'] == 'A']\n",
    "    .groupby('visitorId', as_index=False)\n",
    "    .agg({'transactionId': pd.Series.nunique})\n",
    ")\n",
    "ordersByUsersA.columns = ['visitorId', 'orders']\n",
    "\n",
    "ordersByUsersB = (\n",
    "    orders[orders['group'] == 'B']\n",
    "    .groupby('visitorId', as_index=False)\n",
    "    .agg({'transactionId': pd.Series.nunique})\n",
    ")\n",
    "ordersByUsersB.columns = ['visitorId', 'orders'] \n",
    "\n",
    "# Объявим переменные sampleA и sampleB:\n",
    "sampleA = pd.concat([ordersByUsersA['orders'],pd.Series(0, index=np.arange(data['visitorsPerDateA'].sum() - len(ordersByUsersA['orders'])), name='orders')],axis=0)\n",
    "\n",
    "sampleB = pd.concat([ordersByUsersB['orders'],pd.Series(0, index=np.arange(data['visitorsPerDateB'].sum() - len(ordersByUsersB['orders'])), name='orders')],axis=0)\n",
    "\n",
    "# Выведем p-value для сравнения конверсии между группами. Округлим p-value до 5 знаков после запятой:\n",
    "print(\"{0:.5f}\".format(stats.mannwhitneyu(sampleA, sampleB)[1]))\n",
    "\n",
    "# Вычислим и выведем относительное различие в конверсии между группами. Округлим до 3 знаков после запятой:\n",
    "print(\"{0:.3f}\".format(sampleB.mean() / sampleA.mean() - 1))"
   ]
  },
  {
   "cell_type": "markdown",
   "metadata": {},
   "source": [
    "**Вывод:**\n",
    "\n",
    "P-value значительно меньше 0.05, потому нулевую гипотезу отвергаем. Анализ «сырых данных» сообщает, что в конверсии между группами есть статистически значимые различия. Относительный прирост конверсии группы B к конверсии группы A равен 13.8%."
   ]
  },
  {
   "cell_type": "markdown",
   "metadata": {},
   "source": [
    "**11. Посчитаем статистическую значимость различий в среднем чеке заказа между группами по «сырым» данным.**"
   ]
  },
  {
   "cell_type": "code",
   "execution_count": 26,
   "metadata": {},
   "outputs": [
    {
     "name": "stdout",
     "output_type": "stream",
     "text": [
      "0.365\n",
      "0.259\n"
     ]
    }
   ],
   "source": [
    "print('{0:.3f}'.format(stats.mannwhitneyu(orders[orders['group']=='A']['revenue'], orders[orders['group']=='B']['revenue'])[1]))\n",
    "\n",
    "print('{0:.3f}'.format(orders[orders['group']=='B']['revenue'].mean()/orders[orders['group']=='A']['revenue'].mean()-1))"
   ]
  },
  {
   "cell_type": "markdown",
   "metadata": {},
   "source": [
    "**Вывод:**\n",
    "\n",
    "Исходя из того, что P-value больше 0.05, статистически значимых отличий в среднем чеке между группами нет. Однако, относительное различие среднего чека между сегментами составляет 26% - немало. Возможно, это влияние аномалий."
   ]
  },
  {
   "cell_type": "markdown",
   "metadata": {},
   "source": [
    "**12. Посчитаем статистическую значимость различий в конверсии между группами по «очищенным» данным.**"
   ]
  },
  {
   "cell_type": "markdown",
   "metadata": {},
   "source": [
    "Сначала очищаем данные от аномалий:"
   ]
  },
  {
   "cell_type": "code",
   "execution_count": 27,
   "metadata": {},
   "outputs": [
    {
     "data": {
      "text/plain": [
       "1099    148427295\n",
       "18      199603092\n",
       "928     204675465\n",
       "23      237748145\n",
       "37      249864742\n",
       "Name: visitorId, dtype: int64"
      ]
     },
     "metadata": {},
     "output_type": "display_data"
    },
    {
     "data": {
      "text/plain": [
       "(74,)"
      ]
     },
     "metadata": {},
     "output_type": "display_data"
    }
   ],
   "source": [
    "ordersByUsersA = (\n",
    "    orders[orders['group'] == 'A']\n",
    "    .groupby('visitorId', as_index=False)\n",
    "    .agg({'transactionId': pd.Series.nunique})\n",
    ")\n",
    "ordersByUsersA.columns = ['visitorId', 'orders']\n",
    "\n",
    "ordersByUsersB = (\n",
    "    orders[orders['group'] == 'B']\n",
    "    .groupby('visitorId', as_index=False)\n",
    "    .agg({'transactionId': pd.Series.nunique})\n",
    ")\n",
    "ordersByUsersB.columns = ['visitorId', 'orders']\n",
    "\n",
    "usersWithManyOrders = pd.concat(\n",
    "    [\n",
    "        ordersByUsersA[ordersByUsersA['orders'] > 2]['visitorId'],\n",
    "        ordersByUsersB[ordersByUsersB['orders'] > 2]['visitorId'],\n",
    "    ],\n",
    "    axis=0,\n",
    ")\n",
    "usersWithExpensiveOrders = orders[orders['revenue'] > 28000]['visitorId']\n",
    "abnormalUsers = (\n",
    "    pd.concat([usersWithManyOrders, usersWithExpensiveOrders], axis=0)\n",
    "    .drop_duplicates()\n",
    "    .sort_values()\n",
    ")\n",
    "display(abnormalUsers.head())\n",
    "\n",
    "display(abnormalUsers.shape) #сколько всего аномальных пользователей"
   ]
  },
  {
   "cell_type": "markdown",
   "metadata": {},
   "source": [
    "**Вывод:** всего 74 аномальных пользователя."
   ]
  },
  {
   "cell_type": "markdown",
   "metadata": {},
   "source": [
    "Посчитаем статистическую значимость различия конверсии после удаления аномальных пользователей:"
   ]
  },
  {
   "cell_type": "code",
   "execution_count": 28,
   "metadata": {},
   "outputs": [
    {
     "name": "stdout",
     "output_type": "stream",
     "text": [
      "0.00652\n",
      "0.173\n"
     ]
    }
   ],
   "source": [
    "sampleAFiltered = pd.concat(\n",
    "    [\n",
    "        ordersByUsersA[\n",
    "            np.logical_not(ordersByUsersA['visitorId'].isin(abnormalUsers))\n",
    "        ]['orders'],\n",
    "        pd.Series(\n",
    "            0,\n",
    "            index=np.arange(\n",
    "                data['visitorsPerDateA'].sum() - len(ordersByUsersA['orders'])\n",
    "            ),\n",
    "            name='orders',\n",
    "        ),\n",
    "    ],\n",
    "    axis=0,\n",
    ")\n",
    "\n",
    "sampleBFiltered = pd.concat(\n",
    "    [\n",
    "        ordersByUsersB[\n",
    "            np.logical_not(ordersByUsersB['visitorId'].isin(abnormalUsers))\n",
    "        ]['orders'],\n",
    "        pd.Series(\n",
    "            0,\n",
    "            index=np.arange(\n",
    "                data['visitorsPerDateB'].sum() - len(ordersByUsersB['orders'])\n",
    "            ),\n",
    "            name='orders',\n",
    "        ),\n",
    "    ],\n",
    "    axis=0,\n",
    ")\n",
    "\n",
    "print('{0:.5f}'.format(stats.mannwhitneyu(sampleAFiltered, sampleBFiltered)[1]))\n",
    "\n",
    "print('{0:.3f}'.format(sampleBFiltered.mean()/sampleAFiltered.mean()-1)) "
   ]
  },
  {
   "cell_type": "markdown",
   "metadata": {},
   "source": [
    "**Вывод:**\n",
    "\n",
    "P-value снова значительно меньше 0.05, потому нулевую гипотезу отвергаем. Анализ очищенных данных сообщает, что в конверсии между группами есть статистически значимые различия, как и в случае с \"сырыми данными\". Относительный прирост конверсии группы B к конверсии группы A равен 17.3%."
   ]
  },
  {
   "cell_type": "markdown",
   "metadata": {},
   "source": [
    "**13. Посчитаем статистическую значимость различий в среднем чеке заказа между группами по «очищенным» данным.**"
   ]
  },
  {
   "cell_type": "code",
   "execution_count": 29,
   "metadata": {},
   "outputs": [
    {
     "name": "stdout",
     "output_type": "stream",
     "text": [
      "0.369\n",
      "-0.020\n"
     ]
    }
   ],
   "source": [
    "print(\n",
    "    '{0:.3f}'.format(\n",
    "        stats.mannwhitneyu(\n",
    "            orders[\n",
    "                np.logical_and(\n",
    "                    orders['group'] == 'A',\n",
    "                    np.logical_not(orders['visitorId'].isin(abnormalUsers)),\n",
    "                )\n",
    "            ]['revenue'],\n",
    "            orders[\n",
    "                np.logical_and(\n",
    "                    orders['group'] == 'B',\n",
    "                    np.logical_not(orders['visitorId'].isin(abnormalUsers)),\n",
    "                )\n",
    "            ]['revenue'],\n",
    "        )[1]\n",
    "    )\n",
    ")\n",
    "\n",
    "print(\n",
    "    \"{0:.3f}\".format(\n",
    "        orders[\n",
    "            np.logical_and(\n",
    "                orders['group'] == 'B',\n",
    "                np.logical_not(orders['visitorId'].isin(abnormalUsers)),\n",
    "            )\n",
    "        ]['revenue'].mean()\n",
    "        / orders[\n",
    "            np.logical_and(\n",
    "                orders['group'] == 'A',\n",
    "                np.logical_not(orders['visitorId'].isin(abnormalUsers)),\n",
    "            )\n",
    "        ]['revenue'].mean()\n",
    "        - 1\n",
    "    )\n",
    ")"
   ]
  },
  {
   "cell_type": "markdown",
   "metadata": {},
   "source": [
    "**Вывод:**\n",
    "\n",
    "P-value снова больше 0.05 - статистически значимых отличий в среднем чеке между группами нет, как и в случае с \"сырыми данными\". Однако, разница между сегментами сократилась с 26% до 2%. Причем средний чек группы B теперь ниже среднего чека группы A на эти 2%."
   ]
  },
  {
   "cell_type": "markdown",
   "metadata": {},
   "source": [
    "**14. Варианты решений по результатам теста: 1. Остановить тест, зафиксировать победу одной из групп. 2. Остановить тест, зафиксировать отсутствие различий между группами. 3. Продолжить тест.**"
   ]
  },
  {
   "cell_type": "markdown",
   "metadata": {},
   "source": [
    "*Имеющиеся факты:*\n",
    "\n",
    "  -\tЕсть статистически значимое различие по конверсии между группами по «сырым» данным и по данным после фильтрации аномалий. По очищенным данным относительный прирост конверсии группы B к конверсии группы A равен 17.3%, а по \"сырым\" - 13.8%;\n",
    "  -\tНет статистически значимого различия по среднему чеку между группами ни по «сырым», ни по данным после фильтрации аномалий;\n",
    "  - График различия конверсии между группами сообщает, что результаты группы B лучше группы A почти на 20% на данный момент.\n",
    "  - График различия среднего чека колеблется ввиду наличия аномалий - крупных заказов в группе B. Сделать из этого графика определённые выводы нельзя. Но согласно ему, результаты группы B сейчас почти на 30% лучше."
   ]
  },
  {
   "cell_type": "markdown",
   "metadata": {},
   "source": [
    "# Решение по результатам теста\n",
    "<a name='decision'></a>"
   ]
  },
  {
   "cell_type": "markdown",
   "metadata": {},
   "source": [
    "**По результатам теста можно остановить тест и зафиксировать победу группы B.**"
   ]
  }
 ],
 "metadata": {
  "ExecuteTimeLog": [
   {
    "duration": 1057,
    "start_time": "2022-01-19T08:42:33.393Z"
   },
   {
    "duration": 106,
    "start_time": "2022-01-19T08:46:02.969Z"
   },
   {
    "duration": 14,
    "start_time": "2022-01-19T08:50:23.620Z"
   },
   {
    "duration": 10,
    "start_time": "2022-01-19T08:50:42.348Z"
   },
   {
    "duration": 11,
    "start_time": "2022-01-19T08:51:01.128Z"
   },
   {
    "duration": 10,
    "start_time": "2022-01-19T08:51:09.836Z"
   },
   {
    "duration": 30,
    "start_time": "2022-01-19T08:55:28.205Z"
   },
   {
    "duration": 33,
    "start_time": "2022-01-19T08:59:08.957Z"
   },
   {
    "duration": 36,
    "start_time": "2022-01-19T09:02:14.654Z"
   },
   {
    "duration": 28,
    "start_time": "2022-01-19T09:02:58.827Z"
   },
   {
    "duration": 23,
    "start_time": "2022-01-19T09:06:42.805Z"
   },
   {
    "duration": 6,
    "start_time": "2022-01-19T09:10:59.341Z"
   },
   {
    "duration": 11,
    "start_time": "2022-01-19T09:12:16.046Z"
   },
   {
    "duration": 4,
    "start_time": "2022-01-19T09:12:34.924Z"
   },
   {
    "duration": 909,
    "start_time": "2022-01-19T09:18:15.605Z"
   },
   {
    "duration": 847,
    "start_time": "2022-01-19T09:18:32.485Z"
   },
   {
    "duration": 2,
    "start_time": "2022-01-19T09:20:41.152Z"
   },
   {
    "duration": 123,
    "start_time": "2022-01-19T09:20:41.158Z"
   },
   {
    "duration": 65,
    "start_time": "2022-01-19T09:20:41.283Z"
   },
   {
    "duration": 31,
    "start_time": "2022-01-19T09:20:41.350Z"
   },
   {
    "duration": 22,
    "start_time": "2022-01-19T09:20:41.383Z"
   },
   {
    "duration": 7,
    "start_time": "2022-01-19T09:20:41.407Z"
   },
   {
    "duration": 38,
    "start_time": "2022-01-19T09:20:41.416Z"
   },
   {
    "duration": 915,
    "start_time": "2022-01-19T09:22:44.159Z"
   },
   {
    "duration": 3,
    "start_time": "2022-01-19T09:23:09.951Z"
   },
   {
    "duration": 89,
    "start_time": "2022-01-19T09:23:09.957Z"
   },
   {
    "duration": 34,
    "start_time": "2022-01-19T09:23:10.049Z"
   },
   {
    "duration": 31,
    "start_time": "2022-01-19T09:23:10.085Z"
   },
   {
    "duration": 26,
    "start_time": "2022-01-19T09:23:10.118Z"
   },
   {
    "duration": 5,
    "start_time": "2022-01-19T09:23:10.146Z"
   },
   {
    "duration": 55,
    "start_time": "2022-01-19T09:23:10.154Z"
   },
   {
    "duration": 903,
    "start_time": "2022-01-19T09:23:39.482Z"
   },
   {
    "duration": 4,
    "start_time": "2022-01-19T09:23:43.910Z"
   },
   {
    "duration": 86,
    "start_time": "2022-01-19T09:23:43.916Z"
   },
   {
    "duration": 42,
    "start_time": "2022-01-19T09:23:44.004Z"
   },
   {
    "duration": 42,
    "start_time": "2022-01-19T09:23:44.047Z"
   },
   {
    "duration": 22,
    "start_time": "2022-01-19T09:23:44.090Z"
   },
   {
    "duration": 4,
    "start_time": "2022-01-19T09:23:44.113Z"
   },
   {
    "duration": 20,
    "start_time": "2022-01-19T09:23:44.118Z"
   },
   {
    "duration": 13,
    "start_time": "2022-01-19T09:42:11.738Z"
   },
   {
    "duration": 14,
    "start_time": "2022-01-19T09:42:58.963Z"
   },
   {
    "duration": 3,
    "start_time": "2022-01-19T09:43:25.338Z"
   },
   {
    "duration": 92,
    "start_time": "2022-01-19T09:43:25.344Z"
   },
   {
    "duration": 67,
    "start_time": "2022-01-19T09:43:25.437Z"
   },
   {
    "duration": 42,
    "start_time": "2022-01-19T09:43:25.506Z"
   },
   {
    "duration": 33,
    "start_time": "2022-01-19T09:43:25.550Z"
   },
   {
    "duration": 48,
    "start_time": "2022-01-19T09:43:25.585Z"
   },
   {
    "duration": 40,
    "start_time": "2022-01-19T09:43:25.635Z"
   },
   {
    "duration": 39,
    "start_time": "2022-01-19T09:43:25.676Z"
   },
   {
    "duration": 21,
    "start_time": "2022-01-19T09:49:20.522Z"
   },
   {
    "duration": 5186,
    "start_time": "2022-01-19T11:47:14.692Z"
   },
   {
    "duration": 3,
    "start_time": "2022-01-19T11:48:28.997Z"
   },
   {
    "duration": 120,
    "start_time": "2022-01-19T11:48:29.003Z"
   },
   {
    "duration": 42,
    "start_time": "2022-01-19T11:48:29.125Z"
   },
   {
    "duration": 42,
    "start_time": "2022-01-19T11:48:29.170Z"
   },
   {
    "duration": 32,
    "start_time": "2022-01-19T11:48:29.214Z"
   },
   {
    "duration": 20,
    "start_time": "2022-01-19T11:48:29.248Z"
   },
   {
    "duration": 43,
    "start_time": "2022-01-19T11:48:29.270Z"
   },
   {
    "duration": 60,
    "start_time": "2022-01-19T11:48:29.314Z"
   },
   {
    "duration": 30,
    "start_time": "2022-01-19T11:48:29.376Z"
   },
   {
    "duration": 5810,
    "start_time": "2022-01-19T11:48:29.408Z"
   },
   {
    "duration": 3,
    "start_time": "2022-01-19T11:51:33.767Z"
   },
   {
    "duration": 80,
    "start_time": "2022-01-19T11:51:33.772Z"
   },
   {
    "duration": 62,
    "start_time": "2022-01-19T11:51:33.854Z"
   },
   {
    "duration": 210,
    "start_time": "2022-01-19T11:51:33.930Z"
   },
   {
    "duration": 53,
    "start_time": "2022-01-19T11:51:34.155Z"
   },
   {
    "duration": 52,
    "start_time": "2022-01-19T11:51:34.211Z"
   },
   {
    "duration": 28,
    "start_time": "2022-01-19T11:51:34.265Z"
   },
   {
    "duration": 15,
    "start_time": "2022-01-19T11:51:34.295Z"
   },
   {
    "duration": 14,
    "start_time": "2022-01-19T11:51:34.312Z"
   },
   {
    "duration": 23,
    "start_time": "2022-01-19T11:51:34.328Z"
   },
   {
    "duration": 4465,
    "start_time": "2022-01-19T11:51:34.353Z"
   },
   {
    "duration": 334,
    "start_time": "2022-01-19T11:56:49.088Z"
   },
   {
    "duration": 222,
    "start_time": "2022-01-19T12:01:27.949Z"
   },
   {
    "duration": 2,
    "start_time": "2022-01-19T12:02:43.838Z"
   },
   {
    "duration": 79,
    "start_time": "2022-01-19T12:02:43.842Z"
   },
   {
    "duration": 35,
    "start_time": "2022-01-19T12:02:43.923Z"
   },
   {
    "duration": 40,
    "start_time": "2022-01-19T12:02:43.960Z"
   },
   {
    "duration": 27,
    "start_time": "2022-01-19T12:02:44.002Z"
   },
   {
    "duration": 10,
    "start_time": "2022-01-19T12:02:44.030Z"
   },
   {
    "duration": 35,
    "start_time": "2022-01-19T12:02:44.042Z"
   },
   {
    "duration": 37,
    "start_time": "2022-01-19T12:02:44.079Z"
   },
   {
    "duration": 27,
    "start_time": "2022-01-19T12:02:44.118Z"
   },
   {
    "duration": 26,
    "start_time": "2022-01-19T12:02:44.147Z"
   },
   {
    "duration": 329,
    "start_time": "2022-01-19T12:02:44.175Z"
   },
   {
    "duration": 221,
    "start_time": "2022-01-19T12:02:44.506Z"
   },
   {
    "duration": 4,
    "start_time": "2022-01-19T12:06:15.490Z"
   },
   {
    "duration": 120,
    "start_time": "2022-01-19T12:06:15.496Z"
   },
   {
    "duration": 58,
    "start_time": "2022-01-19T12:06:15.618Z"
   },
   {
    "duration": 30,
    "start_time": "2022-01-19T12:06:15.678Z"
   },
   {
    "duration": 33,
    "start_time": "2022-01-19T12:06:15.709Z"
   },
   {
    "duration": 13,
    "start_time": "2022-01-19T12:06:15.743Z"
   },
   {
    "duration": 58,
    "start_time": "2022-01-19T12:06:15.758Z"
   },
   {
    "duration": 34,
    "start_time": "2022-01-19T12:06:15.818Z"
   },
   {
    "duration": 43,
    "start_time": "2022-01-19T12:06:15.854Z"
   },
   {
    "duration": 30,
    "start_time": "2022-01-19T12:06:15.899Z"
   },
   {
    "duration": 342,
    "start_time": "2022-01-19T12:06:15.931Z"
   },
   {
    "duration": 229,
    "start_time": "2022-01-19T12:06:16.275Z"
   },
   {
    "duration": 202,
    "start_time": "2022-01-19T12:14:52.210Z"
   },
   {
    "duration": 305,
    "start_time": "2022-01-19T12:19:56.817Z"
   },
   {
    "duration": 415,
    "start_time": "2022-01-19T12:23:19.889Z"
   },
   {
    "duration": 321,
    "start_time": "2022-01-19T12:23:46.131Z"
   },
   {
    "duration": 523,
    "start_time": "2022-01-19T12:24:53.107Z"
   },
   {
    "duration": 330,
    "start_time": "2022-01-19T12:25:06.785Z"
   },
   {
    "duration": 377,
    "start_time": "2022-01-19T12:25:58.484Z"
   },
   {
    "duration": 347,
    "start_time": "2022-01-19T12:26:14.084Z"
   },
   {
    "duration": 344,
    "start_time": "2022-01-19T12:27:13.067Z"
   },
   {
    "duration": 308,
    "start_time": "2022-01-19T12:27:55.429Z"
   },
   {
    "duration": 205,
    "start_time": "2022-01-19T12:28:58.405Z"
   },
   {
    "duration": 231,
    "start_time": "2022-01-19T12:31:56.191Z"
   },
   {
    "duration": 427,
    "start_time": "2022-01-19T12:33:10.496Z"
   },
   {
    "duration": 312,
    "start_time": "2022-01-19T12:33:24.260Z"
   },
   {
    "duration": 337,
    "start_time": "2022-01-19T12:35:13.303Z"
   },
   {
    "duration": 317,
    "start_time": "2022-01-19T12:37:06.621Z"
   },
   {
    "duration": 443,
    "start_time": "2022-01-19T12:37:24.191Z"
   },
   {
    "duration": 324,
    "start_time": "2022-01-19T12:37:32.203Z"
   },
   {
    "duration": 208,
    "start_time": "2022-01-19T12:37:47.168Z"
   },
   {
    "duration": 245,
    "start_time": "2022-01-19T12:37:57.489Z"
   },
   {
    "duration": 343,
    "start_time": "2022-01-19T12:45:36.010Z"
   },
   {
    "duration": 374,
    "start_time": "2022-01-19T12:46:36.577Z"
   },
   {
    "duration": 243,
    "start_time": "2022-01-19T12:46:56.998Z"
   },
   {
    "duration": 225,
    "start_time": "2022-01-19T12:47:11.619Z"
   },
   {
    "duration": 226,
    "start_time": "2022-01-19T12:47:16.659Z"
   },
   {
    "duration": 199,
    "start_time": "2022-01-19T13:01:04.648Z"
   },
   {
    "duration": 5,
    "start_time": "2022-01-19T13:02:14.960Z"
   },
   {
    "duration": 185,
    "start_time": "2022-01-19T13:09:27.933Z"
   },
   {
    "duration": 199,
    "start_time": "2022-01-19T13:09:53.637Z"
   },
   {
    "duration": 3,
    "start_time": "2022-01-19T13:11:24.911Z"
   },
   {
    "duration": 122,
    "start_time": "2022-01-19T13:11:24.916Z"
   },
   {
    "duration": 71,
    "start_time": "2022-01-19T13:11:25.040Z"
   },
   {
    "duration": 37,
    "start_time": "2022-01-19T13:11:25.113Z"
   },
   {
    "duration": 83,
    "start_time": "2022-01-19T13:11:25.152Z"
   },
   {
    "duration": 22,
    "start_time": "2022-01-19T13:11:25.237Z"
   },
   {
    "duration": 79,
    "start_time": "2022-01-19T13:11:25.261Z"
   },
   {
    "duration": 135,
    "start_time": "2022-01-19T13:11:25.342Z"
   },
   {
    "duration": 22,
    "start_time": "2022-01-19T13:11:25.479Z"
   },
   {
    "duration": 56,
    "start_time": "2022-01-19T13:11:25.503Z"
   },
   {
    "duration": 349,
    "start_time": "2022-01-19T13:11:25.561Z"
   },
   {
    "duration": 240,
    "start_time": "2022-01-19T13:11:25.912Z"
   },
   {
    "duration": 219,
    "start_time": "2022-01-19T13:11:26.154Z"
   },
   {
    "duration": 440,
    "start_time": "2022-01-19T13:11:26.375Z"
   },
   {
    "duration": 5,
    "start_time": "2022-01-19T13:11:26.817Z"
   },
   {
    "duration": 218,
    "start_time": "2022-01-19T13:11:26.824Z"
   },
   {
    "duration": 220,
    "start_time": "2022-01-19T13:12:03.972Z"
   },
   {
    "duration": 213,
    "start_time": "2022-01-19T13:12:31.318Z"
   },
   {
    "duration": 193,
    "start_time": "2022-01-19T13:12:48.751Z"
   },
   {
    "duration": 321,
    "start_time": "2022-01-19T13:21:17.917Z"
   },
   {
    "duration": 184,
    "start_time": "2022-01-19T13:36:14.029Z"
   },
   {
    "duration": 121,
    "start_time": "2022-01-19T13:36:54.849Z"
   },
   {
    "duration": 146,
    "start_time": "2022-01-19T13:37:36.056Z"
   },
   {
    "duration": 108,
    "start_time": "2022-01-19T13:39:10.077Z"
   },
   {
    "duration": 263,
    "start_time": "2022-01-19T13:45:17.442Z"
   },
   {
    "duration": 6,
    "start_time": "2022-01-19T15:40:16.482Z"
   },
   {
    "duration": 6,
    "start_time": "2022-01-19T15:40:29.740Z"
   },
   {
    "duration": 6,
    "start_time": "2022-01-19T15:42:01.887Z"
   },
   {
    "duration": 5,
    "start_time": "2022-01-19T15:42:10.664Z"
   },
   {
    "duration": 4,
    "start_time": "2022-01-19T15:42:13.799Z"
   },
   {
    "duration": 71,
    "start_time": "2022-01-19T15:42:13.805Z"
   },
   {
    "duration": 35,
    "start_time": "2022-01-19T15:42:13.879Z"
   },
   {
    "duration": 33,
    "start_time": "2022-01-19T15:42:13.916Z"
   },
   {
    "duration": 52,
    "start_time": "2022-01-19T15:42:13.950Z"
   },
   {
    "duration": 5,
    "start_time": "2022-01-19T15:42:14.004Z"
   },
   {
    "duration": 34,
    "start_time": "2022-01-19T15:42:14.012Z"
   },
   {
    "duration": 24,
    "start_time": "2022-01-19T15:42:14.049Z"
   },
   {
    "duration": 33,
    "start_time": "2022-01-19T15:42:14.075Z"
   },
   {
    "duration": 19,
    "start_time": "2022-01-19T15:42:14.110Z"
   },
   {
    "duration": 358,
    "start_time": "2022-01-19T15:42:14.130Z"
   },
   {
    "duration": 240,
    "start_time": "2022-01-19T15:42:14.489Z"
   },
   {
    "duration": 214,
    "start_time": "2022-01-19T15:42:14.731Z"
   },
   {
    "duration": 324,
    "start_time": "2022-01-19T15:42:14.947Z"
   },
   {
    "duration": 5,
    "start_time": "2022-01-19T15:42:15.273Z"
   },
   {
    "duration": 222,
    "start_time": "2022-01-19T15:42:15.280Z"
   },
   {
    "duration": 362,
    "start_time": "2022-01-19T15:42:15.503Z"
   },
   {
    "duration": 107,
    "start_time": "2022-01-19T15:42:15.867Z"
   },
   {
    "duration": 338,
    "start_time": "2022-01-19T15:42:15.977Z"
   },
   {
    "duration": 5,
    "start_time": "2022-01-19T15:42:16.316Z"
   },
   {
    "duration": 240,
    "start_time": "2022-01-19T15:51:11.302Z"
   },
   {
    "duration": 363,
    "start_time": "2022-01-19T15:51:50.284Z"
   },
   {
    "duration": 6,
    "start_time": "2022-01-19T16:01:15.933Z"
   },
   {
    "duration": 7,
    "start_time": "2022-01-19T16:01:26.847Z"
   },
   {
    "duration": 313,
    "start_time": "2022-01-19T16:18:44.461Z"
   },
   {
    "duration": 4773,
    "start_time": "2022-01-19T16:21:07.227Z"
   },
   {
    "duration": 281,
    "start_time": "2022-01-19T16:22:29.955Z"
   },
   {
    "duration": 267,
    "start_time": "2022-01-19T16:23:26.537Z"
   },
   {
    "duration": 256,
    "start_time": "2022-01-19T16:23:45.219Z"
   },
   {
    "duration": 116,
    "start_time": "2022-01-19T16:30:10.968Z"
   },
   {
    "duration": 119,
    "start_time": "2022-01-19T16:30:57.203Z"
   },
   {
    "duration": 116,
    "start_time": "2022-01-19T16:31:40.350Z"
   },
   {
    "duration": 3,
    "start_time": "2022-01-19T16:31:45.286Z"
   },
   {
    "duration": 64,
    "start_time": "2022-01-19T16:31:45.291Z"
   },
   {
    "duration": 33,
    "start_time": "2022-01-19T16:31:45.358Z"
   },
   {
    "duration": 33,
    "start_time": "2022-01-19T16:31:45.393Z"
   },
   {
    "duration": 24,
    "start_time": "2022-01-19T16:31:45.427Z"
   },
   {
    "duration": 4,
    "start_time": "2022-01-19T16:31:45.452Z"
   },
   {
    "duration": 21,
    "start_time": "2022-01-19T16:31:45.498Z"
   },
   {
    "duration": 18,
    "start_time": "2022-01-19T16:31:45.521Z"
   },
   {
    "duration": 10,
    "start_time": "2022-01-19T16:31:45.541Z"
   },
   {
    "duration": 44,
    "start_time": "2022-01-19T16:31:45.553Z"
   },
   {
    "duration": 339,
    "start_time": "2022-01-19T16:31:45.599Z"
   },
   {
    "duration": 234,
    "start_time": "2022-01-19T16:31:45.940Z"
   },
   {
    "duration": 343,
    "start_time": "2022-01-19T16:31:46.176Z"
   },
   {
    "duration": 313,
    "start_time": "2022-01-19T16:31:46.521Z"
   },
   {
    "duration": 4,
    "start_time": "2022-01-19T16:31:46.836Z"
   },
   {
    "duration": 225,
    "start_time": "2022-01-19T16:31:46.842Z"
   },
   {
    "duration": 349,
    "start_time": "2022-01-19T16:31:47.069Z"
   },
   {
    "duration": 127,
    "start_time": "2022-01-19T16:31:47.420Z"
   },
   {
    "duration": 273,
    "start_time": "2022-01-19T16:31:47.551Z"
   },
   {
    "duration": 4,
    "start_time": "2022-01-19T16:31:47.826Z"
   },
   {
    "duration": 308,
    "start_time": "2022-01-19T16:31:47.832Z"
   },
   {
    "duration": 5,
    "start_time": "2022-01-19T16:31:48.141Z"
   },
   {
    "duration": 281,
    "start_time": "2022-01-19T16:31:48.147Z"
   },
   {
    "duration": 129,
    "start_time": "2022-01-19T16:31:48.430Z"
   },
   {
    "duration": 114,
    "start_time": "2022-01-19T16:33:05.111Z"
   },
   {
    "duration": 10,
    "start_time": "2022-01-19T16:36:25.242Z"
   },
   {
    "duration": 124,
    "start_time": "2022-01-19T16:51:53.288Z"
   },
   {
    "duration": 13,
    "start_time": "2022-01-19T17:03:17.768Z"
   },
   {
    "duration": 21,
    "start_time": "2022-01-19T17:07:48.315Z"
   },
   {
    "duration": 4,
    "start_time": "2022-01-19T17:10:40.031Z"
   },
   {
    "duration": 67,
    "start_time": "2022-01-19T17:10:40.037Z"
   },
   {
    "duration": 38,
    "start_time": "2022-01-19T17:10:40.107Z"
   },
   {
    "duration": 59,
    "start_time": "2022-01-19T17:10:40.147Z"
   },
   {
    "duration": 27,
    "start_time": "2022-01-19T17:10:40.209Z"
   },
   {
    "duration": 5,
    "start_time": "2022-01-19T17:10:40.238Z"
   },
   {
    "duration": 54,
    "start_time": "2022-01-19T17:10:40.246Z"
   },
   {
    "duration": 21,
    "start_time": "2022-01-19T17:10:40.302Z"
   },
   {
    "duration": 28,
    "start_time": "2022-01-19T17:10:40.325Z"
   },
   {
    "duration": 27,
    "start_time": "2022-01-19T17:10:40.356Z"
   },
   {
    "duration": 417,
    "start_time": "2022-01-19T17:10:40.385Z"
   },
   {
    "duration": 253,
    "start_time": "2022-01-19T17:10:40.803Z"
   },
   {
    "duration": 244,
    "start_time": "2022-01-19T17:10:41.059Z"
   },
   {
    "duration": 367,
    "start_time": "2022-01-19T17:10:41.305Z"
   },
   {
    "duration": 5,
    "start_time": "2022-01-19T17:10:41.674Z"
   },
   {
    "duration": 241,
    "start_time": "2022-01-19T17:10:41.681Z"
   },
   {
    "duration": 343,
    "start_time": "2022-01-19T17:10:41.924Z"
   },
   {
    "duration": 135,
    "start_time": "2022-01-19T17:10:42.269Z"
   },
   {
    "duration": 312,
    "start_time": "2022-01-19T17:10:42.407Z"
   },
   {
    "duration": 5,
    "start_time": "2022-01-19T17:10:42.721Z"
   },
   {
    "duration": 316,
    "start_time": "2022-01-19T17:10:42.728Z"
   },
   {
    "duration": 5,
    "start_time": "2022-01-19T17:10:43.046Z"
   },
   {
    "duration": 286,
    "start_time": "2022-01-19T17:10:43.053Z"
   },
   {
    "duration": 173,
    "start_time": "2022-01-19T17:10:43.341Z"
   },
   {
    "duration": 10,
    "start_time": "2022-01-19T17:10:43.515Z"
   },
   {
    "duration": 135,
    "start_time": "2022-01-19T17:10:43.526Z"
   },
   {
    "duration": 13,
    "start_time": "2022-01-19T17:10:43.663Z"
   },
   {
    "duration": 29,
    "start_time": "2022-01-19T17:10:43.678Z"
   },
   {
    "duration": 1123,
    "start_time": "2022-01-19T18:10:37.270Z"
   },
   {
    "duration": 63,
    "start_time": "2022-01-19T18:10:38.397Z"
   },
   {
    "duration": 65,
    "start_time": "2022-01-19T18:10:38.462Z"
   },
   {
    "duration": 45,
    "start_time": "2022-01-19T18:10:38.529Z"
   },
   {
    "duration": 37,
    "start_time": "2022-01-19T18:10:38.575Z"
   },
   {
    "duration": 15,
    "start_time": "2022-01-19T18:10:38.613Z"
   },
   {
    "duration": 45,
    "start_time": "2022-01-19T18:10:38.630Z"
   },
   {
    "duration": 52,
    "start_time": "2022-01-19T18:10:38.678Z"
   },
   {
    "duration": 35,
    "start_time": "2022-01-19T18:10:38.732Z"
   },
   {
    "duration": 47,
    "start_time": "2022-01-19T18:10:38.770Z"
   },
   {
    "duration": 370,
    "start_time": "2022-01-19T18:10:38.818Z"
   },
   {
    "duration": 232,
    "start_time": "2022-01-19T18:10:39.190Z"
   },
   {
    "duration": 212,
    "start_time": "2022-01-19T18:10:39.424Z"
   },
   {
    "duration": 316,
    "start_time": "2022-01-19T18:10:39.638Z"
   },
   {
    "duration": 5,
    "start_time": "2022-01-19T18:10:39.955Z"
   },
   {
    "duration": 253,
    "start_time": "2022-01-19T18:10:39.962Z"
   },
   {
    "duration": 341,
    "start_time": "2022-01-19T18:10:40.216Z"
   },
   {
    "duration": 170,
    "start_time": "2022-01-19T18:10:40.559Z"
   },
   {
    "duration": 300,
    "start_time": "2022-01-19T18:10:40.730Z"
   },
   {
    "duration": 5,
    "start_time": "2022-01-19T18:10:41.032Z"
   },
   {
    "duration": 347,
    "start_time": "2022-01-19T18:10:41.039Z"
   },
   {
    "duration": 11,
    "start_time": "2022-01-19T18:10:41.388Z"
   },
   {
    "duration": 287,
    "start_time": "2022-01-19T18:10:41.402Z"
   },
   {
    "duration": 127,
    "start_time": "2022-01-19T18:10:41.696Z"
   },
   {
    "duration": 11,
    "start_time": "2022-01-19T18:10:41.825Z"
   },
   {
    "duration": 130,
    "start_time": "2022-01-19T18:10:41.838Z"
   },
   {
    "duration": 13,
    "start_time": "2022-01-19T18:10:41.970Z"
   },
   {
    "duration": 39,
    "start_time": "2022-01-19T18:10:41.985Z"
   },
   {
    "duration": 1486,
    "start_time": "2022-01-19T18:41:04.395Z"
   },
   {
    "duration": 78,
    "start_time": "2022-01-19T18:41:05.886Z"
   },
   {
    "duration": 79,
    "start_time": "2022-01-19T18:41:05.967Z"
   },
   {
    "duration": 67,
    "start_time": "2022-01-19T18:41:06.050Z"
   },
   {
    "duration": 67,
    "start_time": "2022-01-19T18:41:06.119Z"
   },
   {
    "duration": 8,
    "start_time": "2022-01-19T18:41:06.189Z"
   },
   {
    "duration": 37,
    "start_time": "2022-01-19T18:41:06.199Z"
   },
   {
    "duration": 31,
    "start_time": "2022-01-19T18:41:06.268Z"
   },
   {
    "duration": 14,
    "start_time": "2022-01-19T18:41:06.302Z"
   },
   {
    "duration": 57,
    "start_time": "2022-01-19T18:41:06.318Z"
   },
   {
    "duration": 620,
    "start_time": "2022-01-19T18:41:06.378Z"
   },
   {
    "duration": 392,
    "start_time": "2022-01-19T18:41:07.001Z"
   },
   {
    "duration": 366,
    "start_time": "2022-01-19T18:41:07.396Z"
   },
   {
    "duration": 492,
    "start_time": "2022-01-19T18:41:07.765Z"
   },
   {
    "duration": 21,
    "start_time": "2022-01-19T18:41:08.259Z"
   },
   {
    "duration": 363,
    "start_time": "2022-01-19T18:41:08.283Z"
   },
   {
    "duration": 493,
    "start_time": "2022-01-19T18:41:08.648Z"
   },
   {
    "duration": 228,
    "start_time": "2022-01-19T18:41:09.143Z"
   },
   {
    "duration": 409,
    "start_time": "2022-01-19T18:41:09.374Z"
   },
   {
    "duration": 6,
    "start_time": "2022-01-19T18:41:09.786Z"
   },
   {
    "duration": 436,
    "start_time": "2022-01-19T18:41:09.795Z"
   },
   {
    "duration": 7,
    "start_time": "2022-01-19T18:41:10.234Z"
   },
   {
    "duration": 518,
    "start_time": "2022-01-19T18:41:10.245Z"
   },
   {
    "duration": 289,
    "start_time": "2022-01-19T18:41:10.766Z"
   },
   {
    "duration": 29,
    "start_time": "2022-01-19T18:41:11.057Z"
   },
   {
    "duration": 265,
    "start_time": "2022-01-19T18:41:11.089Z"
   },
   {
    "duration": 31,
    "start_time": "2022-01-19T18:41:11.357Z"
   },
   {
    "duration": 22,
    "start_time": "2022-01-19T18:41:11.390Z"
   },
   {
    "duration": 358,
    "start_time": "2022-01-19T20:25:57.263Z"
   },
   {
    "duration": 1112,
    "start_time": "2022-01-19T20:26:01.070Z"
   },
   {
    "duration": 83,
    "start_time": "2022-01-19T20:26:02.183Z"
   },
   {
    "duration": 39,
    "start_time": "2022-01-19T20:26:02.267Z"
   },
   {
    "duration": 33,
    "start_time": "2022-01-19T20:26:02.307Z"
   },
   {
    "duration": 24,
    "start_time": "2022-01-19T20:26:02.341Z"
   },
   {
    "duration": 35,
    "start_time": "2022-01-19T20:26:02.367Z"
   },
   {
    "duration": 24,
    "start_time": "2022-01-19T20:26:02.404Z"
   },
   {
    "duration": 16,
    "start_time": "2022-01-19T20:26:02.430Z"
   },
   {
    "duration": 10,
    "start_time": "2022-01-19T20:26:02.448Z"
   },
   {
    "duration": 45,
    "start_time": "2022-01-19T20:26:02.460Z"
   },
   {
    "duration": 358,
    "start_time": "2022-01-19T20:26:02.506Z"
   },
   {
    "duration": 248,
    "start_time": "2022-01-19T20:26:02.866Z"
   },
   {
    "duration": 222,
    "start_time": "2022-01-19T20:26:03.116Z"
   },
   {
    "duration": 320,
    "start_time": "2022-01-19T20:26:03.339Z"
   },
   {
    "duration": 5,
    "start_time": "2022-01-19T20:26:03.661Z"
   },
   {
    "duration": 232,
    "start_time": "2022-01-19T20:26:03.669Z"
   },
   {
    "duration": 340,
    "start_time": "2022-01-19T20:26:03.903Z"
   },
   {
    "duration": 120,
    "start_time": "2022-01-19T20:26:04.245Z"
   },
   {
    "duration": 329,
    "start_time": "2022-01-19T20:26:04.367Z"
   },
   {
    "duration": 5,
    "start_time": "2022-01-19T20:26:04.698Z"
   },
   {
    "duration": 342,
    "start_time": "2022-01-19T20:26:04.705Z"
   },
   {
    "duration": 489,
    "start_time": "2022-01-19T20:26:05.049Z"
   },
   {
    "duration": 4175,
    "start_time": "2022-01-19T20:26:01.364Z"
   },
   {
    "duration": 4161,
    "start_time": "2022-01-19T20:26:01.380Z"
   },
   {
    "duration": 4148,
    "start_time": "2022-01-19T20:26:01.394Z"
   },
   {
    "duration": 4133,
    "start_time": "2022-01-19T20:26:01.409Z"
   },
   {
    "duration": 4124,
    "start_time": "2022-01-19T20:26:01.419Z"
   },
   {
    "duration": 4112,
    "start_time": "2022-01-19T20:26:01.432Z"
   },
   {
    "duration": 4100,
    "start_time": "2022-01-19T20:26:01.445Z"
   },
   {
    "duration": 459,
    "start_time": "2022-01-19T20:26:59.856Z"
   },
   {
    "duration": 474,
    "start_time": "2022-01-19T20:27:54.669Z"
   },
   {
    "duration": 479,
    "start_time": "2022-01-19T20:28:51.355Z"
   },
   {
    "duration": 700,
    "start_time": "2022-01-19T20:54:04.746Z"
   },
   {
    "duration": 3,
    "start_time": "2022-01-19T20:54:12.766Z"
   },
   {
    "duration": 78,
    "start_time": "2022-01-19T20:54:12.773Z"
   },
   {
    "duration": 32,
    "start_time": "2022-01-19T20:54:12.852Z"
   },
   {
    "duration": 709,
    "start_time": "2022-01-19T20:54:12.886Z"
   },
   {
    "duration": 4164,
    "start_time": "2022-01-19T20:54:09.433Z"
   },
   {
    "duration": 4144,
    "start_time": "2022-01-19T20:54:09.454Z"
   },
   {
    "duration": 4136,
    "start_time": "2022-01-19T20:54:09.463Z"
   },
   {
    "duration": 4123,
    "start_time": "2022-01-19T20:54:09.477Z"
   },
   {
    "duration": 4117,
    "start_time": "2022-01-19T20:54:09.483Z"
   },
   {
    "duration": 4112,
    "start_time": "2022-01-19T20:54:09.489Z"
   },
   {
    "duration": 4106,
    "start_time": "2022-01-19T20:54:09.496Z"
   },
   {
    "duration": 4095,
    "start_time": "2022-01-19T20:54:09.508Z"
   },
   {
    "duration": 4089,
    "start_time": "2022-01-19T20:54:09.515Z"
   },
   {
    "duration": 4079,
    "start_time": "2022-01-19T20:54:09.526Z"
   },
   {
    "duration": 4074,
    "start_time": "2022-01-19T20:54:09.532Z"
   },
   {
    "duration": 4069,
    "start_time": "2022-01-19T20:54:09.538Z"
   },
   {
    "duration": 4063,
    "start_time": "2022-01-19T20:54:09.545Z"
   },
   {
    "duration": 4057,
    "start_time": "2022-01-19T20:54:09.552Z"
   },
   {
    "duration": 4047,
    "start_time": "2022-01-19T20:54:09.563Z"
   },
   {
    "duration": 4041,
    "start_time": "2022-01-19T20:54:09.570Z"
   },
   {
    "duration": 4036,
    "start_time": "2022-01-19T20:54:09.576Z"
   },
   {
    "duration": 4030,
    "start_time": "2022-01-19T20:54:09.583Z"
   },
   {
    "duration": 4024,
    "start_time": "2022-01-19T20:54:09.590Z"
   },
   {
    "duration": 4019,
    "start_time": "2022-01-19T20:54:09.596Z"
   },
   {
    "duration": 4007,
    "start_time": "2022-01-19T20:54:09.609Z"
   },
   {
    "duration": 4002,
    "start_time": "2022-01-19T20:54:09.615Z"
   },
   {
    "duration": 3997,
    "start_time": "2022-01-19T20:54:09.621Z"
   },
   {
    "duration": 3991,
    "start_time": "2022-01-19T20:54:09.628Z"
   },
   {
    "duration": 3986,
    "start_time": "2022-01-19T20:54:09.634Z"
   },
   {
    "duration": 3,
    "start_time": "2022-01-19T20:54:39.635Z"
   },
   {
    "duration": 74,
    "start_time": "2022-01-19T20:54:39.641Z"
   },
   {
    "duration": 35,
    "start_time": "2022-01-19T20:54:39.717Z"
   },
   {
    "duration": 679,
    "start_time": "2022-01-19T20:54:39.754Z"
   },
   {
    "duration": 4160,
    "start_time": "2022-01-19T20:54:36.275Z"
   },
   {
    "duration": 4149,
    "start_time": "2022-01-19T20:54:36.287Z"
   },
   {
    "duration": 4119,
    "start_time": "2022-01-19T20:54:36.318Z"
   },
   {
    "duration": 4106,
    "start_time": "2022-01-19T20:54:36.332Z"
   },
   {
    "duration": 4100,
    "start_time": "2022-01-19T20:54:36.339Z"
   },
   {
    "duration": 4095,
    "start_time": "2022-01-19T20:54:36.345Z"
   },
   {
    "duration": 4088,
    "start_time": "2022-01-19T20:54:36.353Z"
   },
   {
    "duration": 4083,
    "start_time": "2022-01-19T20:54:36.359Z"
   },
   {
    "duration": 4065,
    "start_time": "2022-01-19T20:54:36.378Z"
   },
   {
    "duration": 4061,
    "start_time": "2022-01-19T20:54:36.383Z"
   },
   {
    "duration": 4055,
    "start_time": "2022-01-19T20:54:36.390Z"
   },
   {
    "duration": 4050,
    "start_time": "2022-01-19T20:54:36.396Z"
   },
   {
    "duration": 4044,
    "start_time": "2022-01-19T20:54:36.403Z"
   },
   {
    "duration": 4035,
    "start_time": "2022-01-19T20:54:36.413Z"
   },
   {
    "duration": 4029,
    "start_time": "2022-01-19T20:54:36.420Z"
   },
   {
    "duration": 4023,
    "start_time": "2022-01-19T20:54:36.427Z"
   },
   {
    "duration": 4018,
    "start_time": "2022-01-19T20:54:36.434Z"
   },
   {
    "duration": 4012,
    "start_time": "2022-01-19T20:54:36.441Z"
   },
   {
    "duration": 4008,
    "start_time": "2022-01-19T20:54:36.446Z"
   },
   {
    "duration": 4002,
    "start_time": "2022-01-19T20:54:36.453Z"
   },
   {
    "duration": 3997,
    "start_time": "2022-01-19T20:54:36.460Z"
   },
   {
    "duration": 3990,
    "start_time": "2022-01-19T20:54:36.468Z"
   },
   {
    "duration": 3959,
    "start_time": "2022-01-19T20:54:36.500Z"
   },
   {
    "duration": 3952,
    "start_time": "2022-01-19T20:54:36.508Z"
   },
   {
    "duration": 3938,
    "start_time": "2022-01-19T20:54:36.524Z"
   },
   {
    "duration": 665,
    "start_time": "2022-01-19T20:55:12.943Z"
   },
   {
    "duration": 712,
    "start_time": "2022-01-19T20:55:20.839Z"
   },
   {
    "duration": 800,
    "start_time": "2022-01-19T20:55:35.776Z"
   },
   {
    "duration": 672,
    "start_time": "2022-01-19T20:56:22.571Z"
   },
   {
    "duration": 679,
    "start_time": "2022-01-19T20:56:37.036Z"
   },
   {
    "duration": 8,
    "start_time": "2022-01-19T20:56:53.741Z"
   },
   {
    "duration": 88,
    "start_time": "2022-01-19T20:57:05.422Z"
   },
   {
    "duration": 269,
    "start_time": "2022-01-19T20:57:11.094Z"
   },
   {
    "duration": 3,
    "start_time": "2022-01-19T20:57:35.570Z"
   },
   {
    "duration": 74,
    "start_time": "2022-01-19T20:57:35.577Z"
   },
   {
    "duration": 32,
    "start_time": "2022-01-19T20:57:35.652Z"
   },
   {
    "duration": 271,
    "start_time": "2022-01-19T20:57:35.686Z"
   },
   {
    "duration": 4109,
    "start_time": "2022-01-19T20:57:31.850Z"
   },
   {
    "duration": 4103,
    "start_time": "2022-01-19T20:57:31.857Z"
   },
   {
    "duration": 4098,
    "start_time": "2022-01-19T20:57:31.863Z"
   },
   {
    "duration": 4092,
    "start_time": "2022-01-19T20:57:31.870Z"
   },
   {
    "duration": 4086,
    "start_time": "2022-01-19T20:57:31.876Z"
   },
   {
    "duration": 4079,
    "start_time": "2022-01-19T20:57:31.884Z"
   },
   {
    "duration": 4065,
    "start_time": "2022-01-19T20:57:31.899Z"
   },
   {
    "duration": 4059,
    "start_time": "2022-01-19T20:57:31.905Z"
   },
   {
    "duration": 4053,
    "start_time": "2022-01-19T20:57:31.912Z"
   },
   {
    "duration": 4047,
    "start_time": "2022-01-19T20:57:31.919Z"
   },
   {
    "duration": 4042,
    "start_time": "2022-01-19T20:57:31.925Z"
   },
   {
    "duration": 4037,
    "start_time": "2022-01-19T20:57:31.931Z"
   },
   {
    "duration": 4022,
    "start_time": "2022-01-19T20:57:31.947Z"
   },
   {
    "duration": 4017,
    "start_time": "2022-01-19T20:57:31.953Z"
   },
   {
    "duration": 3993,
    "start_time": "2022-01-19T20:57:31.977Z"
   },
   {
    "duration": 3987,
    "start_time": "2022-01-19T20:57:31.984Z"
   },
   {
    "duration": 3981,
    "start_time": "2022-01-19T20:57:31.991Z"
   },
   {
    "duration": 3976,
    "start_time": "2022-01-19T20:57:31.997Z"
   },
   {
    "duration": 3963,
    "start_time": "2022-01-19T20:57:32.011Z"
   },
   {
    "duration": 3954,
    "start_time": "2022-01-19T20:57:32.021Z"
   },
   {
    "duration": 3947,
    "start_time": "2022-01-19T20:57:32.028Z"
   },
   {
    "duration": 3938,
    "start_time": "2022-01-19T20:57:32.038Z"
   },
   {
    "duration": 3926,
    "start_time": "2022-01-19T20:57:32.051Z"
   },
   {
    "duration": 3921,
    "start_time": "2022-01-19T20:57:32.057Z"
   },
   {
    "duration": 3916,
    "start_time": "2022-01-19T20:57:32.063Z"
   },
   {
    "duration": 265,
    "start_time": "2022-01-19T20:58:03.266Z"
   },
   {
    "duration": 278,
    "start_time": "2022-01-19T20:58:11.850Z"
   },
   {
    "duration": 307,
    "start_time": "2022-01-19T20:59:20.350Z"
   },
   {
    "duration": 5,
    "start_time": "2022-01-19T20:59:32.521Z"
   },
   {
    "duration": 60,
    "start_time": "2022-01-19T20:59:32.528Z"
   },
   {
    "duration": 33,
    "start_time": "2022-01-19T20:59:32.590Z"
   },
   {
    "duration": 280,
    "start_time": "2022-01-19T20:59:45.668Z"
   },
   {
    "duration": 3,
    "start_time": "2022-01-19T21:02:23.632Z"
   },
   {
    "duration": 59,
    "start_time": "2022-01-19T21:02:26.004Z"
   },
   {
    "duration": 32,
    "start_time": "2022-01-19T21:02:27.866Z"
   },
   {
    "duration": 274,
    "start_time": "2022-01-19T21:02:32.294Z"
   },
   {
    "duration": 758,
    "start_time": "2022-01-19T21:02:49.819Z"
   },
   {
    "duration": 270,
    "start_time": "2022-01-19T21:03:00.783Z"
   },
   {
    "duration": 270,
    "start_time": "2022-01-19T21:03:15.169Z"
   },
   {
    "duration": 259,
    "start_time": "2022-01-19T21:03:48.867Z"
   },
   {
    "duration": 273,
    "start_time": "2022-01-19T21:04:01.286Z"
   },
   {
    "duration": 276,
    "start_time": "2022-01-19T21:04:29.633Z"
   },
   {
    "duration": 32,
    "start_time": "2022-01-19T21:04:36.188Z"
   },
   {
    "duration": 8,
    "start_time": "2022-01-19T21:05:25.596Z"
   },
   {
    "duration": 7,
    "start_time": "2022-01-19T21:05:42.701Z"
   },
   {
    "duration": 8,
    "start_time": "2022-01-19T21:05:54.077Z"
   },
   {
    "duration": 9,
    "start_time": "2022-01-19T21:06:06.010Z"
   },
   {
    "duration": 8,
    "start_time": "2022-01-19T21:06:15.095Z"
   },
   {
    "duration": 9,
    "start_time": "2022-01-19T21:06:23.259Z"
   },
   {
    "duration": 8,
    "start_time": "2022-01-19T21:06:32.392Z"
   },
   {
    "duration": 3,
    "start_time": "2022-01-19T21:06:41.574Z"
   },
   {
    "duration": 62,
    "start_time": "2022-01-19T21:06:41.581Z"
   },
   {
    "duration": 31,
    "start_time": "2022-01-19T21:06:41.644Z"
   },
   {
    "duration": 7,
    "start_time": "2022-01-19T21:06:46.429Z"
   },
   {
    "duration": 8,
    "start_time": "2022-01-19T21:06:54.389Z"
   },
   {
    "duration": 8,
    "start_time": "2022-01-19T21:07:00.938Z"
   },
   {
    "duration": 8,
    "start_time": "2022-01-19T21:07:07.302Z"
   },
   {
    "duration": 8,
    "start_time": "2022-01-19T21:07:14.338Z"
   },
   {
    "duration": 8,
    "start_time": "2022-01-19T21:07:19.386Z"
   },
   {
    "duration": 3,
    "start_time": "2022-01-19T21:07:31.409Z"
   },
   {
    "duration": 64,
    "start_time": "2022-01-19T21:07:31.415Z"
   },
   {
    "duration": 33,
    "start_time": "2022-01-19T21:07:31.481Z"
   },
   {
    "duration": 9,
    "start_time": "2022-01-19T21:07:36.907Z"
   },
   {
    "duration": 7,
    "start_time": "2022-01-19T21:10:16.361Z"
   },
   {
    "duration": 32,
    "start_time": "2022-01-19T21:10:24.854Z"
   },
   {
    "duration": 3,
    "start_time": "2022-01-19T21:13:43.463Z"
   },
   {
    "duration": 83,
    "start_time": "2022-01-19T21:13:43.469Z"
   },
   {
    "duration": 32,
    "start_time": "2022-01-19T21:13:43.553Z"
   },
   {
    "duration": 7,
    "start_time": "2022-01-19T21:13:43.587Z"
   },
   {
    "duration": 50,
    "start_time": "2022-01-19T21:13:43.595Z"
   },
   {
    "duration": 22,
    "start_time": "2022-01-19T21:13:43.647Z"
   },
   {
    "duration": 12,
    "start_time": "2022-01-19T21:13:43.671Z"
   },
   {
    "duration": 38,
    "start_time": "2022-01-19T21:13:43.685Z"
   },
   {
    "duration": 24,
    "start_time": "2022-01-19T21:13:43.726Z"
   },
   {
    "duration": 17,
    "start_time": "2022-01-19T21:13:43.752Z"
   },
   {
    "duration": 20,
    "start_time": "2022-01-19T21:13:43.771Z"
   },
   {
    "duration": 340,
    "start_time": "2022-01-19T21:13:43.792Z"
   },
   {
    "duration": 233,
    "start_time": "2022-01-19T21:13:44.134Z"
   },
   {
    "duration": 224,
    "start_time": "2022-01-19T21:13:44.369Z"
   },
   {
    "duration": 336,
    "start_time": "2022-01-19T21:13:44.597Z"
   },
   {
    "duration": 4,
    "start_time": "2022-01-19T21:13:44.935Z"
   },
   {
    "duration": 234,
    "start_time": "2022-01-19T21:13:44.940Z"
   },
   {
    "duration": 360,
    "start_time": "2022-01-19T21:13:45.176Z"
   },
   {
    "duration": 125,
    "start_time": "2022-01-19T21:13:45.537Z"
   },
   {
    "duration": 336,
    "start_time": "2022-01-19T21:13:45.664Z"
   },
   {
    "duration": 4,
    "start_time": "2022-01-19T21:13:46.002Z"
   },
   {
    "duration": 315,
    "start_time": "2022-01-19T21:13:46.008Z"
   },
   {
    "duration": 5,
    "start_time": "2022-01-19T21:13:46.325Z"
   },
   {
    "duration": 281,
    "start_time": "2022-01-19T21:13:46.332Z"
   },
   {
    "duration": 138,
    "start_time": "2022-01-19T21:13:46.615Z"
   },
   {
    "duration": 9,
    "start_time": "2022-01-19T21:13:46.755Z"
   },
   {
    "duration": 142,
    "start_time": "2022-01-19T21:13:46.766Z"
   },
   {
    "duration": 13,
    "start_time": "2022-01-19T21:13:46.909Z"
   },
   {
    "duration": 13,
    "start_time": "2022-01-19T21:13:46.923Z"
   },
   {
    "duration": 11,
    "start_time": "2022-01-19T21:14:13.715Z"
   },
   {
    "duration": 3,
    "start_time": "2022-01-19T21:14:29.118Z"
   },
   {
    "duration": 62,
    "start_time": "2022-01-19T21:14:29.124Z"
   },
   {
    "duration": 31,
    "start_time": "2022-01-19T21:14:29.187Z"
   },
   {
    "duration": 7,
    "start_time": "2022-01-19T21:14:29.220Z"
   },
   {
    "duration": 34,
    "start_time": "2022-01-19T21:14:29.229Z"
   },
   {
    "duration": 48,
    "start_time": "2022-01-19T21:14:29.265Z"
   },
   {
    "duration": 4,
    "start_time": "2022-01-19T21:14:29.315Z"
   },
   {
    "duration": 22,
    "start_time": "2022-01-19T21:14:29.321Z"
   },
   {
    "duration": 18,
    "start_time": "2022-01-19T21:14:29.345Z"
   },
   {
    "duration": 42,
    "start_time": "2022-01-19T21:14:29.365Z"
   },
   {
    "duration": 15,
    "start_time": "2022-01-19T21:14:29.408Z"
   },
   {
    "duration": 359,
    "start_time": "2022-01-19T21:14:29.425Z"
   },
   {
    "duration": 257,
    "start_time": "2022-01-19T21:14:29.786Z"
   },
   {
    "duration": 236,
    "start_time": "2022-01-19T21:14:30.045Z"
   },
   {
    "duration": 365,
    "start_time": "2022-01-19T21:14:30.284Z"
   },
   {
    "duration": 5,
    "start_time": "2022-01-19T21:14:30.651Z"
   },
   {
    "duration": 302,
    "start_time": "2022-01-19T21:14:30.657Z"
   },
   {
    "duration": 376,
    "start_time": "2022-01-19T21:14:30.961Z"
   },
   {
    "duration": 119,
    "start_time": "2022-01-19T21:14:31.339Z"
   },
   {
    "duration": 296,
    "start_time": "2022-01-19T21:14:31.459Z"
   },
   {
    "duration": 4,
    "start_time": "2022-01-19T21:14:31.757Z"
   },
   {
    "duration": 349,
    "start_time": "2022-01-19T21:14:31.763Z"
   },
   {
    "duration": 5,
    "start_time": "2022-01-19T21:14:32.114Z"
   },
   {
    "duration": 298,
    "start_time": "2022-01-19T21:14:32.122Z"
   },
   {
    "duration": 155,
    "start_time": "2022-01-19T21:14:32.422Z"
   },
   {
    "duration": 19,
    "start_time": "2022-01-19T21:14:32.579Z"
   },
   {
    "duration": 158,
    "start_time": "2022-01-19T21:14:32.600Z"
   },
   {
    "duration": 12,
    "start_time": "2022-01-19T21:14:32.760Z"
   },
   {
    "duration": 30,
    "start_time": "2022-01-19T21:14:32.774Z"
   },
   {
    "duration": 9,
    "start_time": "2022-01-19T21:14:51.425Z"
   },
   {
    "duration": 10,
    "start_time": "2022-01-19T21:14:59.649Z"
   },
   {
    "duration": 308,
    "start_time": "2022-01-19T21:23:22.166Z"
   },
   {
    "duration": 436,
    "start_time": "2022-01-19T21:23:43.428Z"
   },
   {
    "duration": 272,
    "start_time": "2022-01-19T21:24:06.343Z"
   },
   {
    "duration": 416,
    "start_time": "2022-01-19T21:26:34.078Z"
   },
   {
    "duration": 269,
    "start_time": "2022-01-19T21:28:08.149Z"
   },
   {
    "duration": 278,
    "start_time": "2022-01-19T21:32:14.066Z"
   },
   {
    "duration": 338,
    "start_time": "2022-01-19T21:32:33.683Z"
   },
   {
    "duration": 296,
    "start_time": "2022-01-19T21:32:59.620Z"
   },
   {
    "duration": 164,
    "start_time": "2022-01-19T21:33:14.173Z"
   },
   {
    "duration": 312,
    "start_time": "2022-01-19T21:33:35.715Z"
   },
   {
    "duration": 315,
    "start_time": "2022-01-19T21:34:43.695Z"
   },
   {
    "duration": 266,
    "start_time": "2022-01-19T21:34:57.744Z"
   },
   {
    "duration": 394,
    "start_time": "2022-01-19T21:35:14.617Z"
   },
   {
    "duration": 297,
    "start_time": "2022-01-19T21:38:47.329Z"
   },
   {
    "duration": 284,
    "start_time": "2022-01-19T21:41:26.459Z"
   },
   {
    "duration": 3,
    "start_time": "2022-01-19T21:41:41.234Z"
   },
   {
    "duration": 63,
    "start_time": "2022-01-19T21:41:41.241Z"
   },
   {
    "duration": 33,
    "start_time": "2022-01-19T21:41:41.306Z"
   },
   {
    "duration": 8,
    "start_time": "2022-01-19T21:41:41.342Z"
   },
   {
    "duration": 58,
    "start_time": "2022-01-19T21:41:41.352Z"
   },
   {
    "duration": 21,
    "start_time": "2022-01-19T21:41:41.412Z"
   },
   {
    "duration": 3,
    "start_time": "2022-01-19T21:41:41.435Z"
   },
   {
    "duration": 20,
    "start_time": "2022-01-19T21:41:41.440Z"
   },
   {
    "duration": 48,
    "start_time": "2022-01-19T21:41:41.462Z"
   },
   {
    "duration": 10,
    "start_time": "2022-01-19T21:41:41.512Z"
   },
   {
    "duration": 12,
    "start_time": "2022-01-19T21:41:41.523Z"
   },
   {
    "duration": 364,
    "start_time": "2022-01-19T21:41:41.537Z"
   },
   {
    "duration": 236,
    "start_time": "2022-01-19T21:41:41.903Z"
   },
   {
    "duration": 225,
    "start_time": "2022-01-19T21:41:42.141Z"
   },
   {
    "duration": 350,
    "start_time": "2022-01-19T21:41:42.367Z"
   },
   {
    "duration": 4,
    "start_time": "2022-01-19T21:41:42.719Z"
   },
   {
    "duration": 213,
    "start_time": "2022-01-19T21:41:42.725Z"
   },
   {
    "duration": 303,
    "start_time": "2022-01-19T21:41:42.939Z"
   },
   {
    "duration": 111,
    "start_time": "2022-01-19T21:41:43.244Z"
   },
   {
    "duration": 275,
    "start_time": "2022-01-19T21:41:43.357Z"
   },
   {
    "duration": 5,
    "start_time": "2022-01-19T21:41:43.633Z"
   },
   {
    "duration": 294,
    "start_time": "2022-01-19T21:41:43.639Z"
   },
   {
    "duration": 285,
    "start_time": "2022-01-19T21:41:48.428Z"
   },
   {
    "duration": 417,
    "start_time": "2022-01-19T21:44:21.905Z"
   },
   {
    "duration": 335,
    "start_time": "2022-01-19T21:44:38.390Z"
   },
   {
    "duration": 200,
    "start_time": "2022-01-19T21:44:59.020Z"
   },
   {
    "duration": 211,
    "start_time": "2022-01-19T21:45:13.192Z"
   },
   {
    "duration": 200,
    "start_time": "2022-01-19T21:45:25.149Z"
   },
   {
    "duration": 210,
    "start_time": "2022-01-19T21:46:02.682Z"
   },
   {
    "duration": 485,
    "start_time": "2022-01-19T21:46:21.237Z"
   },
   {
    "duration": 421,
    "start_time": "2022-01-19T21:47:05.299Z"
   },
   {
    "duration": 202,
    "start_time": "2022-01-19T21:47:28.489Z"
   },
   {
    "duration": 486,
    "start_time": "2022-01-19T21:50:19.665Z"
   },
   {
    "duration": 480,
    "start_time": "2022-01-19T21:51:53.667Z"
   },
   {
    "duration": 230,
    "start_time": "2022-01-19T21:52:32.873Z"
   },
   {
    "duration": 238,
    "start_time": "2022-01-19T21:52:52.153Z"
   },
   {
    "duration": 1478,
    "start_time": "2022-01-20T08:40:15.289Z"
   },
   {
    "duration": 115,
    "start_time": "2022-01-20T08:40:16.770Z"
   },
   {
    "duration": 53,
    "start_time": "2022-01-20T08:40:16.888Z"
   },
   {
    "duration": 11,
    "start_time": "2022-01-20T08:40:16.944Z"
   },
   {
    "duration": 61,
    "start_time": "2022-01-20T08:40:16.964Z"
   },
   {
    "duration": 63,
    "start_time": "2022-01-20T08:40:17.027Z"
   },
   {
    "duration": 6,
    "start_time": "2022-01-20T08:40:17.092Z"
   },
   {
    "duration": 46,
    "start_time": "2022-01-20T08:40:17.102Z"
   },
   {
    "duration": 33,
    "start_time": "2022-01-20T08:40:17.165Z"
   },
   {
    "duration": 15,
    "start_time": "2022-01-20T08:40:17.201Z"
   },
   {
    "duration": 50,
    "start_time": "2022-01-20T08:40:17.219Z"
   },
   {
    "duration": 596,
    "start_time": "2022-01-20T08:40:17.272Z"
   },
   {
    "duration": 375,
    "start_time": "2022-01-20T08:40:17.874Z"
   },
   {
    "duration": 464,
    "start_time": "2022-01-20T08:40:18.251Z"
   },
   {
    "duration": 482,
    "start_time": "2022-01-20T08:40:18.717Z"
   },
   {
    "duration": 7,
    "start_time": "2022-01-20T08:40:19.201Z"
   },
   {
    "duration": 340,
    "start_time": "2022-01-20T08:40:19.211Z"
   },
   {
    "duration": 473,
    "start_time": "2022-01-20T08:40:19.553Z"
   },
   {
    "duration": 419,
    "start_time": "2022-01-20T08:40:20.029Z"
   },
   {
    "duration": 465,
    "start_time": "2022-01-20T08:40:20.450Z"
   },
   {
    "duration": 6,
    "start_time": "2022-01-20T08:40:20.917Z"
   },
   {
    "duration": 559,
    "start_time": "2022-01-20T08:40:20.926Z"
   },
   {
    "duration": 409,
    "start_time": "2022-01-20T08:40:21.489Z"
   },
   {
    "duration": 6,
    "start_time": "2022-01-20T08:40:21.901Z"
   },
   {
    "duration": 499,
    "start_time": "2022-01-20T08:40:21.910Z"
   },
   {
    "duration": 268,
    "start_time": "2022-01-20T08:40:22.411Z"
   },
   {
    "duration": 14,
    "start_time": "2022-01-20T08:40:22.682Z"
   },
   {
    "duration": 288,
    "start_time": "2022-01-20T08:40:22.698Z"
   },
   {
    "duration": 21,
    "start_time": "2022-01-20T08:40:22.989Z"
   },
   {
    "duration": 53,
    "start_time": "2022-01-20T08:40:23.013Z"
   },
   {
    "duration": 14,
    "start_time": "2022-01-20T08:41:03.127Z"
   },
   {
    "duration": 4,
    "start_time": "2022-01-20T08:41:11.347Z"
   },
   {
    "duration": 74,
    "start_time": "2022-01-20T08:41:11.355Z"
   },
   {
    "duration": 56,
    "start_time": "2022-01-20T08:41:11.432Z"
   },
   {
    "duration": 11,
    "start_time": "2022-01-20T08:41:11.491Z"
   },
   {
    "duration": 91,
    "start_time": "2022-01-20T08:41:11.505Z"
   },
   {
    "duration": 76,
    "start_time": "2022-01-20T08:41:11.598Z"
   },
   {
    "duration": 7,
    "start_time": "2022-01-20T08:41:11.681Z"
   },
   {
    "duration": 34,
    "start_time": "2022-01-20T08:41:11.692Z"
   },
   {
    "duration": 63,
    "start_time": "2022-01-20T08:41:11.729Z"
   },
   {
    "duration": 15,
    "start_time": "2022-01-20T08:41:11.794Z"
   },
   {
    "duration": 56,
    "start_time": "2022-01-20T08:41:11.812Z"
   },
   {
    "duration": 596,
    "start_time": "2022-01-20T08:41:11.872Z"
   },
   {
    "duration": 437,
    "start_time": "2022-01-20T08:41:12.471Z"
   },
   {
    "duration": 349,
    "start_time": "2022-01-20T08:41:12.911Z"
   },
   {
    "duration": 436,
    "start_time": "2022-01-20T08:41:13.266Z"
   },
   {
    "duration": 7,
    "start_time": "2022-01-20T08:41:13.706Z"
   },
   {
    "duration": 352,
    "start_time": "2022-01-20T08:41:13.716Z"
   },
   {
    "duration": 443,
    "start_time": "2022-01-20T08:41:14.071Z"
   },
   {
    "duration": 222,
    "start_time": "2022-01-20T08:41:14.518Z"
   },
   {
    "duration": 437,
    "start_time": "2022-01-20T08:41:14.743Z"
   },
   {
    "duration": 7,
    "start_time": "2022-01-20T08:41:15.183Z"
   },
   {
    "duration": 423,
    "start_time": "2022-01-20T08:41:15.192Z"
   },
   {
    "duration": 470,
    "start_time": "2022-01-20T08:41:15.617Z"
   },
   {
    "duration": 7,
    "start_time": "2022-01-20T08:41:16.089Z"
   },
   {
    "duration": 483,
    "start_time": "2022-01-20T08:41:16.098Z"
   },
   {
    "duration": 238,
    "start_time": "2022-01-20T08:41:16.583Z"
   },
   {
    "duration": 13,
    "start_time": "2022-01-20T08:41:16.824Z"
   },
   {
    "duration": 264,
    "start_time": "2022-01-20T08:41:16.840Z"
   },
   {
    "duration": 18,
    "start_time": "2022-01-20T08:41:17.106Z"
   },
   {
    "duration": 46,
    "start_time": "2022-01-20T08:41:17.126Z"
   },
   {
    "duration": 1360,
    "start_time": "2022-01-20T08:42:30.483Z"
   },
   {
    "duration": 75,
    "start_time": "2022-01-20T08:42:31.846Z"
   },
   {
    "duration": 60,
    "start_time": "2022-01-20T08:42:31.925Z"
   },
   {
    "duration": 12,
    "start_time": "2022-01-20T08:42:31.988Z"
   },
   {
    "duration": 85,
    "start_time": "2022-01-20T08:42:32.002Z"
   },
   {
    "duration": 36,
    "start_time": "2022-01-20T08:42:32.090Z"
   },
   {
    "duration": 41,
    "start_time": "2022-01-20T08:42:32.128Z"
   },
   {
    "duration": 36,
    "start_time": "2022-01-20T08:42:32.174Z"
   },
   {
    "duration": 54,
    "start_time": "2022-01-20T08:42:32.213Z"
   },
   {
    "duration": 20,
    "start_time": "2022-01-20T08:42:32.270Z"
   },
   {
    "duration": 21,
    "start_time": "2022-01-20T08:42:32.292Z"
   },
   {
    "duration": 611,
    "start_time": "2022-01-20T08:42:32.315Z"
   },
   {
    "duration": 389,
    "start_time": "2022-01-20T08:42:32.929Z"
   },
   {
    "duration": 368,
    "start_time": "2022-01-20T08:42:33.320Z"
   },
   {
    "duration": 435,
    "start_time": "2022-01-20T08:42:33.690Z"
   },
   {
    "duration": 6,
    "start_time": "2022-01-20T08:42:34.128Z"
   },
   {
    "duration": 351,
    "start_time": "2022-01-20T08:42:34.136Z"
   },
   {
    "duration": 442,
    "start_time": "2022-01-20T08:42:34.490Z"
   },
   {
    "duration": 270,
    "start_time": "2022-01-20T08:42:34.935Z"
   },
   {
    "duration": 465,
    "start_time": "2022-01-20T08:42:35.208Z"
   },
   {
    "duration": 9,
    "start_time": "2022-01-20T08:42:35.676Z"
   },
   {
    "duration": 418,
    "start_time": "2022-01-20T08:42:35.688Z"
   },
   {
    "duration": 410,
    "start_time": "2022-01-20T08:42:36.112Z"
   },
   {
    "duration": 8,
    "start_time": "2022-01-20T08:42:36.525Z"
   },
   {
    "duration": 490,
    "start_time": "2022-01-20T08:42:36.536Z"
   },
   {
    "duration": 236,
    "start_time": "2022-01-20T08:42:37.029Z"
   },
   {
    "duration": 19,
    "start_time": "2022-01-20T08:42:37.268Z"
   },
   {
    "duration": 295,
    "start_time": "2022-01-20T08:42:37.290Z"
   },
   {
    "duration": 20,
    "start_time": "2022-01-20T08:42:37.588Z"
   },
   {
    "duration": 53,
    "start_time": "2022-01-20T08:42:37.611Z"
   },
   {
    "duration": 4,
    "start_time": "2022-01-20T08:44:52.348Z"
   },
   {
    "duration": 79,
    "start_time": "2022-01-20T08:44:54.255Z"
   },
   {
    "duration": 50,
    "start_time": "2022-01-20T08:44:55.993Z"
   },
   {
    "duration": 12,
    "start_time": "2022-01-20T08:45:02.996Z"
   },
   {
    "duration": 310,
    "start_time": "2022-01-20T08:57:35.789Z"
   },
   {
    "duration": 622,
    "start_time": "2022-01-20T08:57:44.870Z"
   },
   {
    "duration": 364,
    "start_time": "2022-01-20T08:57:55.246Z"
   },
   {
    "duration": 457,
    "start_time": "2022-01-20T08:58:06.938Z"
   },
   {
    "duration": 437,
    "start_time": "2022-01-20T09:06:14.376Z"
   },
   {
    "duration": 489,
    "start_time": "2022-01-20T09:08:19.310Z"
   },
   {
    "duration": 470,
    "start_time": "2022-01-20T09:08:34.827Z"
   },
   {
    "duration": 340,
    "start_time": "2022-01-20T09:14:04.251Z"
   },
   {
    "duration": 320,
    "start_time": "2022-01-20T09:14:29.378Z"
   },
   {
    "duration": 347,
    "start_time": "2022-01-20T09:16:51.889Z"
   },
   {
    "duration": 1080,
    "start_time": "2022-01-20T09:20:10.617Z"
   },
   {
    "duration": 324,
    "start_time": "2022-01-20T09:20:40.831Z"
   },
   {
    "duration": 1050,
    "start_time": "2022-01-20T09:20:52.725Z"
   },
   {
    "duration": 321,
    "start_time": "2022-01-20T09:21:05.146Z"
   },
   {
    "duration": 1043,
    "start_time": "2022-01-20T09:21:17.682Z"
   },
   {
    "duration": 298,
    "start_time": "2022-01-20T09:21:28.146Z"
   },
   {
    "duration": 1136,
    "start_time": "2022-01-20T09:21:49.663Z"
   },
   {
    "duration": 314,
    "start_time": "2022-01-20T09:21:57.021Z"
   },
   {
    "duration": 1354,
    "start_time": "2022-01-20T10:11:41.463Z"
   },
   {
    "duration": 71,
    "start_time": "2022-01-20T10:11:42.819Z"
   },
   {
    "duration": 53,
    "start_time": "2022-01-20T10:11:42.893Z"
   },
   {
    "duration": 20,
    "start_time": "2022-01-20T10:11:42.948Z"
   },
   {
    "duration": 49,
    "start_time": "2022-01-20T10:11:42.970Z"
   },
   {
    "duration": 59,
    "start_time": "2022-01-20T10:11:43.022Z"
   },
   {
    "duration": 6,
    "start_time": "2022-01-20T10:11:43.084Z"
   },
   {
    "duration": 44,
    "start_time": "2022-01-20T10:11:43.094Z"
   },
   {
    "duration": 45,
    "start_time": "2022-01-20T10:11:43.141Z"
   },
   {
    "duration": 32,
    "start_time": "2022-01-20T10:11:43.188Z"
   },
   {
    "duration": 39,
    "start_time": "2022-01-20T10:11:43.222Z"
   },
   {
    "duration": 556,
    "start_time": "2022-01-20T10:11:43.264Z"
   },
   {
    "duration": 354,
    "start_time": "2022-01-20T10:11:43.822Z"
   },
   {
    "duration": 324,
    "start_time": "2022-01-20T10:11:44.178Z"
   },
   {
    "duration": 405,
    "start_time": "2022-01-20T10:11:44.505Z"
   },
   {
    "duration": 6,
    "start_time": "2022-01-20T10:11:44.912Z"
   },
   {
    "duration": 336,
    "start_time": "2022-01-20T10:11:44.921Z"
   },
   {
    "duration": 455,
    "start_time": "2022-01-20T10:11:45.260Z"
   },
   {
    "duration": 225,
    "start_time": "2022-01-20T10:11:45.718Z"
   },
   {
    "duration": 411,
    "start_time": "2022-01-20T10:11:45.945Z"
   },
   {
    "duration": 12,
    "start_time": "2022-01-20T10:11:46.358Z"
   },
   {
    "duration": 411,
    "start_time": "2022-01-20T10:11:46.373Z"
   },
   {
    "duration": 398,
    "start_time": "2022-01-20T10:11:46.790Z"
   },
   {
    "duration": 9,
    "start_time": "2022-01-20T10:11:47.191Z"
   },
   {
    "duration": 478,
    "start_time": "2022-01-20T10:11:47.203Z"
   },
   {
    "duration": 262,
    "start_time": "2022-01-20T10:11:47.684Z"
   },
   {
    "duration": 25,
    "start_time": "2022-01-20T10:11:47.948Z"
   },
   {
    "duration": 251,
    "start_time": "2022-01-20T10:11:47.975Z"
   },
   {
    "duration": 36,
    "start_time": "2022-01-20T10:11:48.229Z"
   },
   {
    "duration": 48,
    "start_time": "2022-01-20T10:11:48.268Z"
   },
   {
    "duration": 1102,
    "start_time": "2022-01-20T19:15:21.962Z"
   },
   {
    "duration": 81,
    "start_time": "2022-01-20T19:15:23.066Z"
   },
   {
    "duration": 31,
    "start_time": "2022-01-20T19:15:23.149Z"
   },
   {
    "duration": 7,
    "start_time": "2022-01-20T19:15:23.182Z"
   },
   {
    "duration": 31,
    "start_time": "2022-01-20T19:15:23.190Z"
   },
   {
    "duration": 25,
    "start_time": "2022-01-20T19:15:23.229Z"
   },
   {
    "duration": 4,
    "start_time": "2022-01-20T19:15:23.256Z"
   },
   {
    "duration": 18,
    "start_time": "2022-01-20T19:15:23.262Z"
   },
   {
    "duration": 48,
    "start_time": "2022-01-20T19:15:23.282Z"
   },
   {
    "duration": 12,
    "start_time": "2022-01-20T19:15:23.332Z"
   },
   {
    "duration": 17,
    "start_time": "2022-01-20T19:15:23.346Z"
   },
   {
    "duration": 349,
    "start_time": "2022-01-20T19:15:23.365Z"
   },
   {
    "duration": 226,
    "start_time": "2022-01-20T19:15:23.716Z"
   },
   {
    "duration": 214,
    "start_time": "2022-01-20T19:15:23.944Z"
   },
   {
    "duration": 308,
    "start_time": "2022-01-20T19:15:24.160Z"
   },
   {
    "duration": 5,
    "start_time": "2022-01-20T19:15:24.469Z"
   },
   {
    "duration": 221,
    "start_time": "2022-01-20T19:15:24.475Z"
   },
   {
    "duration": 366,
    "start_time": "2022-01-20T19:15:24.698Z"
   },
   {
    "duration": 182,
    "start_time": "2022-01-20T19:15:25.066Z"
   },
   {
    "duration": 316,
    "start_time": "2022-01-20T19:15:25.250Z"
   },
   {
    "duration": 4,
    "start_time": "2022-01-20T19:15:25.568Z"
   },
   {
    "duration": 269,
    "start_time": "2022-01-20T19:15:25.574Z"
   },
   {
    "duration": 312,
    "start_time": "2022-01-20T19:15:25.846Z"
   },
   {
    "duration": 4,
    "start_time": "2022-01-20T19:15:26.161Z"
   },
   {
    "duration": 294,
    "start_time": "2022-01-20T19:15:26.167Z"
   },
   {
    "duration": 128,
    "start_time": "2022-01-20T19:15:26.462Z"
   },
   {
    "duration": 9,
    "start_time": "2022-01-20T19:15:26.591Z"
   },
   {
    "duration": 146,
    "start_time": "2022-01-20T19:15:26.602Z"
   },
   {
    "duration": 12,
    "start_time": "2022-01-20T19:15:26.750Z"
   },
   {
    "duration": 11,
    "start_time": "2022-01-20T19:15:26.764Z"
   },
   {
    "duration": 9,
    "start_time": "2022-01-20T19:15:41.898Z"
   },
   {
    "duration": 1041,
    "start_time": "2022-01-20T19:16:01.526Z"
   },
   {
    "duration": 74,
    "start_time": "2022-01-20T19:16:02.569Z"
   },
   {
    "duration": 33,
    "start_time": "2022-01-20T19:16:02.646Z"
   },
   {
    "duration": 7,
    "start_time": "2022-01-20T19:16:02.681Z"
   },
   {
    "duration": 46,
    "start_time": "2022-01-20T19:16:02.690Z"
   },
   {
    "duration": 21,
    "start_time": "2022-01-20T19:16:02.737Z"
   },
   {
    "duration": 3,
    "start_time": "2022-01-20T19:16:02.760Z"
   },
   {
    "duration": 17,
    "start_time": "2022-01-20T19:16:02.765Z"
   },
   {
    "duration": 16,
    "start_time": "2022-01-20T19:16:02.784Z"
   },
   {
    "duration": 38,
    "start_time": "2022-01-20T19:16:02.801Z"
   },
   {
    "duration": 13,
    "start_time": "2022-01-20T19:16:02.841Z"
   },
   {
    "duration": 318,
    "start_time": "2022-01-20T19:16:02.856Z"
   },
   {
    "duration": 220,
    "start_time": "2022-01-20T19:16:03.176Z"
   },
   {
    "duration": 201,
    "start_time": "2022-01-20T19:16:03.399Z"
   },
   {
    "duration": 344,
    "start_time": "2022-01-20T19:16:03.601Z"
   },
   {
    "duration": 4,
    "start_time": "2022-01-20T19:16:03.947Z"
   },
   {
    "duration": 193,
    "start_time": "2022-01-20T19:16:03.953Z"
   },
   {
    "duration": 318,
    "start_time": "2022-01-20T19:16:04.148Z"
   },
   {
    "duration": 118,
    "start_time": "2022-01-20T19:16:04.467Z"
   },
   {
    "duration": 266,
    "start_time": "2022-01-20T19:16:04.586Z"
   },
   {
    "duration": 4,
    "start_time": "2022-01-20T19:16:04.854Z"
   },
   {
    "duration": 276,
    "start_time": "2022-01-20T19:16:04.859Z"
   },
   {
    "duration": 290,
    "start_time": "2022-01-20T19:16:05.138Z"
   },
   {
    "duration": 5,
    "start_time": "2022-01-20T19:16:05.430Z"
   },
   {
    "duration": 267,
    "start_time": "2022-01-20T19:16:05.436Z"
   },
   {
    "duration": 112,
    "start_time": "2022-01-20T19:16:05.705Z"
   },
   {
    "duration": 14,
    "start_time": "2022-01-20T19:16:05.819Z"
   },
   {
    "duration": 130,
    "start_time": "2022-01-20T19:16:05.835Z"
   },
   {
    "duration": 12,
    "start_time": "2022-01-20T19:16:05.966Z"
   },
   {
    "duration": 11,
    "start_time": "2022-01-20T19:16:05.979Z"
   },
   {
    "duration": 215,
    "start_time": "2022-01-20T19:19:41.029Z"
   },
   {
    "duration": 489,
    "start_time": "2022-01-20T19:19:55.812Z"
   },
   {
    "duration": 1093,
    "start_time": "2022-01-20T19:22:13.279Z"
   },
   {
    "duration": 66,
    "start_time": "2022-01-20T19:22:14.375Z"
   },
   {
    "duration": 35,
    "start_time": "2022-01-20T19:22:14.446Z"
   },
   {
    "duration": 7,
    "start_time": "2022-01-20T19:22:14.482Z"
   },
   {
    "duration": 41,
    "start_time": "2022-01-20T19:22:14.491Z"
   },
   {
    "duration": 21,
    "start_time": "2022-01-20T19:22:14.533Z"
   },
   {
    "duration": 4,
    "start_time": "2022-01-20T19:22:14.556Z"
   },
   {
    "duration": 17,
    "start_time": "2022-01-20T19:22:14.562Z"
   },
   {
    "duration": 47,
    "start_time": "2022-01-20T19:22:14.581Z"
   },
   {
    "duration": 10,
    "start_time": "2022-01-20T19:22:14.629Z"
   },
   {
    "duration": 15,
    "start_time": "2022-01-20T19:22:14.640Z"
   },
   {
    "duration": 315,
    "start_time": "2022-01-20T19:22:14.657Z"
   },
   {
    "duration": 212,
    "start_time": "2022-01-20T19:22:14.974Z"
   },
   {
    "duration": 282,
    "start_time": "2022-01-20T19:22:15.188Z"
   },
   {
    "duration": 305,
    "start_time": "2022-01-20T19:22:15.472Z"
   },
   {
    "duration": 4,
    "start_time": "2022-01-20T19:22:15.779Z"
   },
   {
    "duration": 191,
    "start_time": "2022-01-20T19:22:15.785Z"
   },
   {
    "duration": 311,
    "start_time": "2022-01-20T19:22:15.978Z"
   },
   {
    "duration": 109,
    "start_time": "2022-01-20T19:22:16.291Z"
   },
   {
    "duration": 310,
    "start_time": "2022-01-20T19:22:16.402Z"
   },
   {
    "duration": 13,
    "start_time": "2022-01-20T19:22:16.714Z"
   },
   {
    "duration": 290,
    "start_time": "2022-01-20T19:22:16.728Z"
   },
   {
    "duration": 282,
    "start_time": "2022-01-20T19:22:17.027Z"
   },
   {
    "duration": 5,
    "start_time": "2022-01-20T19:22:17.310Z"
   },
   {
    "duration": 273,
    "start_time": "2022-01-20T19:22:17.316Z"
   },
   {
    "duration": 108,
    "start_time": "2022-01-20T19:22:17.591Z"
   },
   {
    "duration": 9,
    "start_time": "2022-01-20T19:22:17.700Z"
   },
   {
    "duration": 117,
    "start_time": "2022-01-20T19:22:17.726Z"
   },
   {
    "duration": 11,
    "start_time": "2022-01-20T19:22:17.844Z"
   },
   {
    "duration": 29,
    "start_time": "2022-01-20T19:22:17.857Z"
   },
   {
    "duration": 1344,
    "start_time": "2022-01-20T19:22:30.245Z"
   },
   {
    "duration": 63,
    "start_time": "2022-01-20T19:22:31.591Z"
   },
   {
    "duration": 33,
    "start_time": "2022-01-20T19:22:31.656Z"
   },
   {
    "duration": 8,
    "start_time": "2022-01-20T19:22:31.692Z"
   },
   {
    "duration": 33,
    "start_time": "2022-01-20T19:22:31.702Z"
   },
   {
    "duration": 21,
    "start_time": "2022-01-20T19:22:31.737Z"
   },
   {
    "duration": 3,
    "start_time": "2022-01-20T19:22:31.760Z"
   },
   {
    "duration": 21,
    "start_time": "2022-01-20T19:22:31.766Z"
   },
   {
    "duration": 44,
    "start_time": "2022-01-20T19:22:31.789Z"
   },
   {
    "duration": 9,
    "start_time": "2022-01-20T19:22:31.835Z"
   },
   {
    "duration": 13,
    "start_time": "2022-01-20T19:22:31.845Z"
   },
   {
    "duration": 328,
    "start_time": "2022-01-20T19:22:31.860Z"
   },
   {
    "duration": 200,
    "start_time": "2022-01-20T19:22:32.189Z"
   },
   {
    "duration": 189,
    "start_time": "2022-01-20T19:22:32.391Z"
   },
   {
    "duration": 285,
    "start_time": "2022-01-20T19:22:32.582Z"
   },
   {
    "duration": 4,
    "start_time": "2022-01-20T19:22:32.869Z"
   },
   {
    "duration": 189,
    "start_time": "2022-01-20T19:22:32.875Z"
   },
   {
    "duration": 301,
    "start_time": "2022-01-20T19:22:33.065Z"
   },
   {
    "duration": 174,
    "start_time": "2022-01-20T19:22:33.368Z"
   },
   {
    "duration": 267,
    "start_time": "2022-01-20T19:22:33.544Z"
   },
   {
    "duration": 5,
    "start_time": "2022-01-20T19:22:33.812Z"
   },
   {
    "duration": 286,
    "start_time": "2022-01-20T19:22:33.827Z"
   },
   {
    "duration": 299,
    "start_time": "2022-01-20T19:22:34.116Z"
   },
   {
    "duration": 12,
    "start_time": "2022-01-20T19:22:34.416Z"
   },
   {
    "duration": 263,
    "start_time": "2022-01-20T19:22:34.430Z"
   },
   {
    "duration": 147,
    "start_time": "2022-01-20T19:22:34.696Z"
   },
   {
    "duration": 8,
    "start_time": "2022-01-20T19:22:34.845Z"
   },
   {
    "duration": 129,
    "start_time": "2022-01-20T19:22:34.855Z"
   },
   {
    "duration": 13,
    "start_time": "2022-01-20T19:22:34.986Z"
   },
   {
    "duration": 26,
    "start_time": "2022-01-20T19:22:35.001Z"
   },
   {
    "duration": 967,
    "start_time": "2022-01-20T19:23:53.388Z"
   },
   {
    "duration": 63,
    "start_time": "2022-01-20T19:23:54.357Z"
   },
   {
    "duration": 32,
    "start_time": "2022-01-20T19:23:54.422Z"
   },
   {
    "duration": 7,
    "start_time": "2022-01-20T19:23:54.456Z"
   },
   {
    "duration": 28,
    "start_time": "2022-01-20T19:23:54.465Z"
   },
   {
    "duration": 21,
    "start_time": "2022-01-20T19:23:54.528Z"
   },
   {
    "duration": 4,
    "start_time": "2022-01-20T19:23:54.550Z"
   },
   {
    "duration": 18,
    "start_time": "2022-01-20T19:23:54.556Z"
   },
   {
    "duration": 15,
    "start_time": "2022-01-20T19:23:54.576Z"
   },
   {
    "duration": 37,
    "start_time": "2022-01-20T19:23:54.593Z"
   },
   {
    "duration": 11,
    "start_time": "2022-01-20T19:23:54.632Z"
   },
   {
    "duration": 321,
    "start_time": "2022-01-20T19:23:54.645Z"
   },
   {
    "duration": 204,
    "start_time": "2022-01-20T19:23:54.968Z"
   },
   {
    "duration": 193,
    "start_time": "2022-01-20T19:23:55.174Z"
   },
   {
    "duration": 278,
    "start_time": "2022-01-20T19:23:55.369Z"
   },
   {
    "duration": 5,
    "start_time": "2022-01-20T19:23:55.648Z"
   },
   {
    "duration": 187,
    "start_time": "2022-01-20T19:23:55.655Z"
   },
   {
    "duration": 330,
    "start_time": "2022-01-20T19:23:55.844Z"
   },
   {
    "duration": 117,
    "start_time": "2022-01-20T19:23:56.176Z"
   },
   {
    "duration": 295,
    "start_time": "2022-01-20T19:23:56.295Z"
   },
   {
    "duration": 5,
    "start_time": "2022-01-20T19:23:56.592Z"
   },
   {
    "duration": 307,
    "start_time": "2022-01-20T19:23:56.598Z"
   },
   {
    "duration": 299,
    "start_time": "2022-01-20T19:23:56.908Z"
   },
   {
    "duration": 4,
    "start_time": "2022-01-20T19:23:57.209Z"
   },
   {
    "duration": 251,
    "start_time": "2022-01-20T19:23:57.226Z"
   },
   {
    "duration": 112,
    "start_time": "2022-01-20T19:23:57.479Z"
   },
   {
    "duration": 9,
    "start_time": "2022-01-20T19:23:57.592Z"
   },
   {
    "duration": 120,
    "start_time": "2022-01-20T19:23:57.602Z"
   },
   {
    "duration": 11,
    "start_time": "2022-01-20T19:23:57.727Z"
   },
   {
    "duration": 11,
    "start_time": "2022-01-20T19:23:57.740Z"
   },
   {
    "duration": 1294,
    "start_time": "2022-01-20T20:18:05.467Z"
   },
   {
    "duration": 56,
    "start_time": "2022-01-20T20:18:06.764Z"
   },
   {
    "duration": 59,
    "start_time": "2022-01-20T20:18:06.823Z"
   },
   {
    "duration": 3,
    "start_time": "2022-01-20T20:18:06.885Z"
   },
   {
    "duration": 86,
    "start_time": "2022-01-20T20:18:06.890Z"
   },
   {
    "duration": 67,
    "start_time": "2022-01-20T20:18:06.979Z"
   },
   {
    "duration": 7,
    "start_time": "2022-01-20T20:18:07.049Z"
   },
   {
    "duration": 74,
    "start_time": "2022-01-20T20:18:07.061Z"
   },
   {
    "duration": 25,
    "start_time": "2022-01-20T20:18:07.138Z"
   },
   {
    "duration": 19,
    "start_time": "2022-01-20T20:18:07.166Z"
   },
   {
    "duration": 51,
    "start_time": "2022-01-20T20:18:07.188Z"
   },
   {
    "duration": 609,
    "start_time": "2022-01-20T20:18:07.242Z"
   },
   {
    "duration": 510,
    "start_time": "2022-01-20T20:18:07.853Z"
   },
   {
    "duration": 496,
    "start_time": "2022-01-20T20:18:08.366Z"
   },
   {
    "duration": 603,
    "start_time": "2022-01-20T20:18:08.865Z"
   },
   {
    "duration": 8,
    "start_time": "2022-01-20T20:18:09.471Z"
   },
   {
    "duration": 321,
    "start_time": "2022-01-20T20:18:09.482Z"
   },
   {
    "duration": 477,
    "start_time": "2022-01-20T20:18:09.805Z"
   },
   {
    "duration": 223,
    "start_time": "2022-01-20T20:18:10.285Z"
   },
   {
    "duration": 408,
    "start_time": "2022-01-20T20:18:10.510Z"
   },
   {
    "duration": 6,
    "start_time": "2022-01-20T20:18:10.920Z"
   },
   {
    "duration": 415,
    "start_time": "2022-01-20T20:18:10.928Z"
   },
   {
    "duration": 392,
    "start_time": "2022-01-20T20:18:11.349Z"
   },
   {
    "duration": 6,
    "start_time": "2022-01-20T20:18:11.744Z"
   },
   {
    "duration": 463,
    "start_time": "2022-01-20T20:18:11.752Z"
   },
   {
    "duration": 231,
    "start_time": "2022-01-20T20:18:12.217Z"
   },
   {
    "duration": 16,
    "start_time": "2022-01-20T20:18:12.451Z"
   },
   {
    "duration": 229,
    "start_time": "2022-01-20T20:18:12.469Z"
   },
   {
    "duration": 29,
    "start_time": "2022-01-20T20:18:12.700Z"
   },
   {
    "duration": 19,
    "start_time": "2022-01-20T20:18:12.732Z"
   },
   {
    "duration": 5,
    "start_time": "2022-01-20T20:19:28.475Z"
   },
   {
    "duration": 58,
    "start_time": "2022-01-20T20:19:28.484Z"
   },
   {
    "duration": 50,
    "start_time": "2022-01-20T20:19:28.545Z"
   },
   {
    "duration": 3,
    "start_time": "2022-01-20T20:19:28.598Z"
   },
   {
    "duration": 50,
    "start_time": "2022-01-20T20:19:28.623Z"
   },
   {
    "duration": 89,
    "start_time": "2022-01-20T20:19:28.675Z"
   },
   {
    "duration": 7,
    "start_time": "2022-01-20T20:19:28.767Z"
   },
   {
    "duration": 70,
    "start_time": "2022-01-20T20:19:28.777Z"
   },
   {
    "duration": 23,
    "start_time": "2022-01-20T20:19:28.852Z"
   },
   {
    "duration": 15,
    "start_time": "2022-01-20T20:19:28.878Z"
   },
   {
    "duration": 24,
    "start_time": "2022-01-20T20:19:28.923Z"
   },
   {
    "duration": 579,
    "start_time": "2022-01-20T20:19:28.949Z"
   },
   {
    "duration": 391,
    "start_time": "2022-01-20T20:19:29.530Z"
   },
   {
    "duration": 309,
    "start_time": "2022-01-20T20:19:29.924Z"
   },
   {
    "duration": 449,
    "start_time": "2022-01-20T20:19:30.236Z"
   },
   {
    "duration": 6,
    "start_time": "2022-01-20T20:19:30.688Z"
   },
   {
    "duration": 336,
    "start_time": "2022-01-20T20:19:30.697Z"
   },
   {
    "duration": 425,
    "start_time": "2022-01-20T20:19:31.035Z"
   },
   {
    "duration": 219,
    "start_time": "2022-01-20T20:19:31.462Z"
   },
   {
    "duration": 427,
    "start_time": "2022-01-20T20:19:31.683Z"
   },
   {
    "duration": 12,
    "start_time": "2022-01-20T20:19:32.112Z"
   },
   {
    "duration": 381,
    "start_time": "2022-01-20T20:19:32.126Z"
   },
   {
    "duration": 408,
    "start_time": "2022-01-20T20:19:32.509Z"
   },
   {
    "duration": 6,
    "start_time": "2022-01-20T20:19:32.925Z"
   },
   {
    "duration": 436,
    "start_time": "2022-01-20T20:19:32.934Z"
   },
   {
    "duration": 237,
    "start_time": "2022-01-20T20:19:33.372Z"
   },
   {
    "duration": 21,
    "start_time": "2022-01-20T20:19:33.611Z"
   },
   {
    "duration": 263,
    "start_time": "2022-01-20T20:19:33.635Z"
   },
   {
    "duration": 33,
    "start_time": "2022-01-20T20:19:33.900Z"
   },
   {
    "duration": 21,
    "start_time": "2022-01-20T20:19:33.936Z"
   },
   {
    "duration": 6,
    "start_time": "2022-01-20T20:27:48.132Z"
   },
   {
    "duration": 59,
    "start_time": "2022-01-20T20:27:48.140Z"
   },
   {
    "duration": 77,
    "start_time": "2022-01-20T20:27:48.202Z"
   },
   {
    "duration": 48,
    "start_time": "2022-01-20T20:27:57.709Z"
   },
   {
    "duration": 4,
    "start_time": "2022-01-20T20:28:16.135Z"
   },
   {
    "duration": 55,
    "start_time": "2022-01-20T20:28:16.142Z"
   },
   {
    "duration": 56,
    "start_time": "2022-01-20T20:28:16.200Z"
   },
   {
    "duration": 61,
    "start_time": "2022-01-20T20:28:26.342Z"
   },
   {
    "duration": 52,
    "start_time": "2022-01-20T20:28:35.326Z"
   },
   {
    "duration": 61,
    "start_time": "2022-01-20T20:28:45.519Z"
   },
   {
    "duration": 4,
    "start_time": "2022-01-20T20:29:06.112Z"
   },
   {
    "duration": 53,
    "start_time": "2022-01-20T20:29:06.123Z"
   },
   {
    "duration": 52,
    "start_time": "2022-01-20T20:29:13.108Z"
   },
   {
    "duration": 64,
    "start_time": "2022-01-20T20:29:28.473Z"
   },
   {
    "duration": 51,
    "start_time": "2022-01-20T20:29:35.222Z"
   },
   {
    "duration": 48,
    "start_time": "2022-01-20T20:29:42.154Z"
   },
   {
    "duration": 50,
    "start_time": "2022-01-20T20:29:50.447Z"
   },
   {
    "duration": 51,
    "start_time": "2022-01-20T20:31:02.143Z"
   },
   {
    "duration": 45,
    "start_time": "2022-01-20T20:31:15.980Z"
   },
   {
    "duration": 48,
    "start_time": "2022-01-20T20:31:41.717Z"
   },
   {
    "duration": 48,
    "start_time": "2022-01-20T20:31:53.726Z"
   },
   {
    "duration": 49,
    "start_time": "2022-01-20T20:32:03.203Z"
   },
   {
    "duration": 46,
    "start_time": "2022-01-20T20:32:25.769Z"
   },
   {
    "duration": 50,
    "start_time": "2022-01-20T20:33:12.786Z"
   },
   {
    "duration": 738,
    "start_time": "2022-01-20T20:40:08.934Z"
   },
   {
    "duration": 494,
    "start_time": "2022-01-20T20:40:31.319Z"
   },
   {
    "duration": 390,
    "start_time": "2022-01-20T20:40:49.052Z"
   },
   {
    "duration": 361,
    "start_time": "2022-01-20T20:41:03.673Z"
   },
   {
    "duration": 295,
    "start_time": "2022-01-20T20:41:35.236Z"
   },
   {
    "duration": 385,
    "start_time": "2022-01-20T20:41:53.216Z"
   },
   {
    "duration": 347,
    "start_time": "2022-01-20T20:42:03.550Z"
   },
   {
    "duration": 1305,
    "start_time": "2022-01-20T21:00:19.644Z"
   },
   {
    "duration": 55,
    "start_time": "2022-01-20T21:00:20.951Z"
   },
   {
    "duration": 51,
    "start_time": "2022-01-20T21:00:21.009Z"
   },
   {
    "duration": 69,
    "start_time": "2022-01-20T21:00:21.062Z"
   },
   {
    "duration": 37,
    "start_time": "2022-01-20T21:00:21.133Z"
   },
   {
    "duration": 7,
    "start_time": "2022-01-20T21:00:21.172Z"
   },
   {
    "duration": 30,
    "start_time": "2022-01-20T21:00:21.223Z"
   },
   {
    "duration": 32,
    "start_time": "2022-01-20T21:00:21.257Z"
   },
   {
    "duration": 34,
    "start_time": "2022-01-20T21:00:21.292Z"
   },
   {
    "duration": 24,
    "start_time": "2022-01-20T21:00:21.329Z"
   },
   {
    "duration": 791,
    "start_time": "2022-01-20T21:00:21.356Z"
   },
   {
    "duration": 478,
    "start_time": "2022-01-20T21:00:22.151Z"
   },
   {
    "duration": 323,
    "start_time": "2022-01-20T21:00:22.632Z"
   },
   {
    "duration": 396,
    "start_time": "2022-01-20T21:00:22.958Z"
   },
   {
    "duration": 7,
    "start_time": "2022-01-20T21:00:23.357Z"
   },
   {
    "duration": 356,
    "start_time": "2022-01-20T21:00:23.367Z"
   },
   {
    "duration": 457,
    "start_time": "2022-01-20T21:00:23.725Z"
   },
   {
    "duration": 192,
    "start_time": "2022-01-20T21:00:24.185Z"
   },
   {
    "duration": 430,
    "start_time": "2022-01-20T21:00:24.380Z"
   },
   {
    "duration": 6,
    "start_time": "2022-01-20T21:00:24.812Z"
   },
   {
    "duration": 425,
    "start_time": "2022-01-20T21:00:24.824Z"
   },
   {
    "duration": 379,
    "start_time": "2022-01-20T21:00:25.252Z"
   },
   {
    "duration": 7,
    "start_time": "2022-01-20T21:00:25.636Z"
   },
   {
    "duration": 469,
    "start_time": "2022-01-20T21:00:25.646Z"
   },
   {
    "duration": 233,
    "start_time": "2022-01-20T21:00:26.117Z"
   },
   {
    "duration": 14,
    "start_time": "2022-01-20T21:00:26.353Z"
   },
   {
    "duration": 271,
    "start_time": "2022-01-20T21:00:26.369Z"
   },
   {
    "duration": 17,
    "start_time": "2022-01-20T21:00:26.642Z"
   },
   {
    "duration": 21,
    "start_time": "2022-01-20T21:00:26.662Z"
   },
   {
    "duration": 1420,
    "start_time": "2022-01-26T11:55:36.152Z"
   },
   {
    "duration": 108,
    "start_time": "2022-01-26T11:55:37.575Z"
   },
   {
    "duration": 53,
    "start_time": "2022-01-26T11:55:37.686Z"
   },
   {
    "duration": 55,
    "start_time": "2022-01-26T11:55:37.741Z"
   },
   {
    "duration": 65,
    "start_time": "2022-01-26T11:55:37.798Z"
   },
   {
    "duration": 5,
    "start_time": "2022-01-26T11:55:37.865Z"
   },
   {
    "duration": 31,
    "start_time": "2022-01-26T11:55:37.873Z"
   },
   {
    "duration": 55,
    "start_time": "2022-01-26T11:55:37.906Z"
   },
   {
    "duration": 15,
    "start_time": "2022-01-26T11:55:37.965Z"
   },
   {
    "duration": 21,
    "start_time": "2022-01-26T11:55:37.983Z"
   },
   {
    "duration": 597,
    "start_time": "2022-01-26T11:55:38.006Z"
   },
   {
    "duration": 356,
    "start_time": "2022-01-26T11:55:38.606Z"
   },
   {
    "duration": 333,
    "start_time": "2022-01-26T11:55:38.964Z"
   },
   {
    "duration": 440,
    "start_time": "2022-01-26T11:55:39.299Z"
   },
   {
    "duration": 18,
    "start_time": "2022-01-26T11:55:39.742Z"
   },
   {
    "duration": 362,
    "start_time": "2022-01-26T11:55:39.763Z"
   },
   {
    "duration": 463,
    "start_time": "2022-01-26T11:55:40.129Z"
   },
   {
    "duration": 232,
    "start_time": "2022-01-26T11:55:40.596Z"
   },
   {
    "duration": 413,
    "start_time": "2022-01-26T11:55:40.831Z"
   },
   {
    "duration": 17,
    "start_time": "2022-01-26T11:55:41.247Z"
   },
   {
    "duration": 408,
    "start_time": "2022-01-26T11:55:41.267Z"
   },
   {
    "duration": 403,
    "start_time": "2022-01-26T11:55:41.678Z"
   },
   {
    "duration": 7,
    "start_time": "2022-01-26T11:55:42.083Z"
   },
   {
    "duration": 467,
    "start_time": "2022-01-26T11:55:42.093Z"
   },
   {
    "duration": 226,
    "start_time": "2022-01-26T11:55:42.562Z"
   },
   {
    "duration": 13,
    "start_time": "2022-01-26T11:55:42.791Z"
   },
   {
    "duration": 262,
    "start_time": "2022-01-26T11:55:42.809Z"
   },
   {
    "duration": 19,
    "start_time": "2022-01-26T11:55:43.073Z"
   },
   {
    "duration": 26,
    "start_time": "2022-01-26T11:55:43.095Z"
   }
  ],
  "kernelspec": {
   "display_name": "Python 3",
   "language": "python",
   "name": "python3"
  },
  "language_info": {
   "codemirror_mode": {
    "name": "ipython",
    "version": 3
   },
   "file_extension": ".py",
   "mimetype": "text/x-python",
   "name": "python",
   "nbconvert_exporter": "python",
   "pygments_lexer": "ipython3",
   "version": "3.7.8"
  },
  "toc": {
   "base_numbering": 1,
   "nav_menu": {},
   "number_sections": true,
   "sideBar": true,
   "skip_h1_title": true,
   "title_cell": "Table of Contents",
   "title_sidebar": "Contents",
   "toc_cell": false,
   "toc_position": {},
   "toc_section_display": true,
   "toc_window_display": true
  }
 },
 "nbformat": 4,
 "nbformat_minor": 2
}
