{
 "cells": [
  {
   "cell_type": "markdown",
   "metadata": {
    "id": "E0vqbgi9ay0H"
   },
   "source": [
    "# Анализ Яндекс.Музыки"
   ]
  },
  {
   "cell_type": "markdown",
   "metadata": {
    "id": "VUC88oWjTJw2"
   },
   "source": [
    "В этом исследовании данных Яндекс.Музыки сравним музыкальные предпочтения и поведение пользователей двух городов.\n",
    "\n",
    "**Цель исследования** — проверить три гипотезы:\n",
    "1. Активность пользователей зависит от дня недели. Причём в Москве и Петербурге это проявляется по-разному.\n",
    "2. В понедельник утром в Москве преобладают одни жанры, а в Петербурге — другие. Так же и вечером пятницы преобладают разные жанры — в зависимости от города. \n",
    "3. Москва и Петербург предпочитают разные жанры музыки. В Москве чаще слушают поп-музыку, в Петербурге — русский рэп.\n",
    "\n",
    "**Ход исследования**\n",
    "\n",
    "Исследование пройдёт в три этапа:\n",
    " 1. Обзор данных.\n",
    " 2. Предобработка данных.\n",
    " 3. Проверка гипотез.\n"
   ]
  },
  {
   "cell_type": "markdown",
   "metadata": {},
   "source": [
    "## Содержание\n",
    "2. [Обзор данных](#read_data)\n",
    "3. [Предобработка данных](#data_processing)\n",
    "4. [Проверка гипотез](#hypothesis_testing)\n",
    "5. [Итоги исследования](#conclusion)"
   ]
  },
  {
   "cell_type": "markdown",
   "metadata": {
    "id": "Ml1hmfXC_Zcs"
   },
   "source": [
    "## Обзор данных\n",
    "<a name='read_data'></a>\n",
    "\n",
    "Составим первое представление о данных Яндекс.Музыки.\n",
    "\n",
    "\n"
   ]
  },
  {
   "cell_type": "code",
   "execution_count": 1,
   "metadata": {
    "id": "AXN7PHPN_Zcs"
   },
   "outputs": [],
   "source": [
    "import pandas as pd # импорт библиотеки pandas"
   ]
  },
  {
   "cell_type": "markdown",
   "metadata": {
    "id": "SG23P8tt_Zcs"
   },
   "source": [
    "Прочитаем файл `yandex_music_project.csv` из папки `/datasets` и сохраним его в переменной `df`:"
   ]
  },
  {
   "cell_type": "code",
   "execution_count": 2,
   "metadata": {
    "id": "fFVu7vqh_Zct"
   },
   "outputs": [],
   "source": [
    "df = pd.read_csv('/datasets/yandex_music_project.csv') # чтение файла с данными и сохранение в df"
   ]
  },
  {
   "cell_type": "markdown",
   "metadata": {
    "id": "rDoOMd3uTqnZ"
   },
   "source": [
    "Выведем на экран первые десять строк таблицы:"
   ]
  },
  {
   "cell_type": "code",
   "execution_count": 3,
   "metadata": {
    "id": "oWTVX3gW_Zct"
   },
   "outputs": [
    {
     "data": {
      "text/html": [
       "<div>\n",
       "<style scoped>\n",
       "    .dataframe tbody tr th:only-of-type {\n",
       "        vertical-align: middle;\n",
       "    }\n",
       "\n",
       "    .dataframe tbody tr th {\n",
       "        vertical-align: top;\n",
       "    }\n",
       "\n",
       "    .dataframe thead th {\n",
       "        text-align: right;\n",
       "    }\n",
       "</style>\n",
       "<table border=\"1\" class=\"dataframe\">\n",
       "  <thead>\n",
       "    <tr style=\"text-align: right;\">\n",
       "      <th></th>\n",
       "      <th>userID</th>\n",
       "      <th>Track</th>\n",
       "      <th>artist</th>\n",
       "      <th>genre</th>\n",
       "      <th>City</th>\n",
       "      <th>time</th>\n",
       "      <th>Day</th>\n",
       "    </tr>\n",
       "  </thead>\n",
       "  <tbody>\n",
       "    <tr>\n",
       "      <td>0</td>\n",
       "      <td>FFB692EC</td>\n",
       "      <td>Kamigata To Boots</td>\n",
       "      <td>The Mass Missile</td>\n",
       "      <td>rock</td>\n",
       "      <td>Saint-Petersburg</td>\n",
       "      <td>20:28:33</td>\n",
       "      <td>Wednesday</td>\n",
       "    </tr>\n",
       "    <tr>\n",
       "      <td>1</td>\n",
       "      <td>55204538</td>\n",
       "      <td>Delayed Because of Accident</td>\n",
       "      <td>Andreas Rönnberg</td>\n",
       "      <td>rock</td>\n",
       "      <td>Moscow</td>\n",
       "      <td>14:07:09</td>\n",
       "      <td>Friday</td>\n",
       "    </tr>\n",
       "    <tr>\n",
       "      <td>2</td>\n",
       "      <td>20EC38</td>\n",
       "      <td>Funiculì funiculà</td>\n",
       "      <td>Mario Lanza</td>\n",
       "      <td>pop</td>\n",
       "      <td>Saint-Petersburg</td>\n",
       "      <td>20:58:07</td>\n",
       "      <td>Wednesday</td>\n",
       "    </tr>\n",
       "    <tr>\n",
       "      <td>3</td>\n",
       "      <td>A3DD03C9</td>\n",
       "      <td>Dragons in the Sunset</td>\n",
       "      <td>Fire + Ice</td>\n",
       "      <td>folk</td>\n",
       "      <td>Saint-Petersburg</td>\n",
       "      <td>08:37:09</td>\n",
       "      <td>Monday</td>\n",
       "    </tr>\n",
       "    <tr>\n",
       "      <td>4</td>\n",
       "      <td>E2DC1FAE</td>\n",
       "      <td>Soul People</td>\n",
       "      <td>Space Echo</td>\n",
       "      <td>dance</td>\n",
       "      <td>Moscow</td>\n",
       "      <td>08:34:34</td>\n",
       "      <td>Monday</td>\n",
       "    </tr>\n",
       "    <tr>\n",
       "      <td>5</td>\n",
       "      <td>842029A1</td>\n",
       "      <td>Преданная</td>\n",
       "      <td>IMPERVTOR</td>\n",
       "      <td>rusrap</td>\n",
       "      <td>Saint-Petersburg</td>\n",
       "      <td>13:09:41</td>\n",
       "      <td>Friday</td>\n",
       "    </tr>\n",
       "    <tr>\n",
       "      <td>6</td>\n",
       "      <td>4CB90AA5</td>\n",
       "      <td>True</td>\n",
       "      <td>Roman Messer</td>\n",
       "      <td>dance</td>\n",
       "      <td>Moscow</td>\n",
       "      <td>13:00:07</td>\n",
       "      <td>Wednesday</td>\n",
       "    </tr>\n",
       "    <tr>\n",
       "      <td>7</td>\n",
       "      <td>F03E1C1F</td>\n",
       "      <td>Feeling This Way</td>\n",
       "      <td>Polina Griffith</td>\n",
       "      <td>dance</td>\n",
       "      <td>Moscow</td>\n",
       "      <td>20:47:49</td>\n",
       "      <td>Wednesday</td>\n",
       "    </tr>\n",
       "    <tr>\n",
       "      <td>8</td>\n",
       "      <td>8FA1D3BE</td>\n",
       "      <td>И вновь продолжается бой</td>\n",
       "      <td>NaN</td>\n",
       "      <td>ruspop</td>\n",
       "      <td>Moscow</td>\n",
       "      <td>09:17:40</td>\n",
       "      <td>Friday</td>\n",
       "    </tr>\n",
       "    <tr>\n",
       "      <td>9</td>\n",
       "      <td>E772D5C0</td>\n",
       "      <td>Pessimist</td>\n",
       "      <td>NaN</td>\n",
       "      <td>dance</td>\n",
       "      <td>Saint-Petersburg</td>\n",
       "      <td>21:20:49</td>\n",
       "      <td>Wednesday</td>\n",
       "    </tr>\n",
       "  </tbody>\n",
       "</table>\n",
       "</div>"
      ],
      "text/plain": [
       "     userID                        Track            artist   genre  \\\n",
       "0  FFB692EC            Kamigata To Boots  The Mass Missile    rock   \n",
       "1  55204538  Delayed Because of Accident  Andreas Rönnberg    rock   \n",
       "2    20EC38            Funiculì funiculà       Mario Lanza     pop   \n",
       "3  A3DD03C9        Dragons in the Sunset        Fire + Ice    folk   \n",
       "4  E2DC1FAE                  Soul People        Space Echo   dance   \n",
       "5  842029A1                    Преданная         IMPERVTOR  rusrap   \n",
       "6  4CB90AA5                         True      Roman Messer   dance   \n",
       "7  F03E1C1F             Feeling This Way   Polina Griffith   dance   \n",
       "8  8FA1D3BE     И вновь продолжается бой               NaN  ruspop   \n",
       "9  E772D5C0                    Pessimist               NaN   dance   \n",
       "\n",
       "             City        time        Day  \n",
       "0  Saint-Petersburg  20:28:33  Wednesday  \n",
       "1            Moscow  14:07:09     Friday  \n",
       "2  Saint-Petersburg  20:58:07  Wednesday  \n",
       "3  Saint-Petersburg  08:37:09     Monday  \n",
       "4            Moscow  08:34:34     Monday  \n",
       "5  Saint-Petersburg  13:09:41     Friday  \n",
       "6            Moscow  13:00:07  Wednesday  \n",
       "7            Moscow  20:47:49  Wednesday  \n",
       "8            Moscow  09:17:40     Friday  \n",
       "9  Saint-Petersburg  21:20:49  Wednesday  "
      ]
     },
     "metadata": {},
     "output_type": "display_data"
    }
   ],
   "source": [
    "display(df.head(10)) # получение первых 10 строк таблицы df"
   ]
  },
  {
   "cell_type": "markdown",
   "metadata": {
    "id": "EO73Kwic_Zct"
   },
   "source": [
    "Получим общую информацию о таблице:"
   ]
  },
  {
   "cell_type": "code",
   "execution_count": 4,
   "metadata": {
    "id": "DSf2kIb-_Zct"
   },
   "outputs": [
    {
     "name": "stdout",
     "output_type": "stream",
     "text": [
      "<class 'pandas.core.frame.DataFrame'>\n",
      "RangeIndex: 65079 entries, 0 to 65078\n",
      "Data columns (total 7 columns):\n",
      "  userID    65079 non-null object\n",
      "Track       63848 non-null object\n",
      "artist      57876 non-null object\n",
      "genre       63881 non-null object\n",
      "  City      65079 non-null object\n",
      "time        65079 non-null object\n",
      "Day         65079 non-null object\n",
      "dtypes: object(7)\n",
      "memory usage: 3.5+ MB\n"
     ]
    }
   ],
   "source": [
    "df.info() # получение общей информации о данных в таблице df"
   ]
  },
  {
   "cell_type": "markdown",
   "metadata": {
    "id": "TaQ2Iwbr_Zct"
   },
   "source": [
    "Итак, в таблице семь столбцов. Тип данных во всех столбцах — `object`.\n",
    "\n",
    "Согласно документации к данным:\n",
    "* `userID` — идентификатор пользователя;\n",
    "* `Track` — название трека;  \n",
    "* `artist` — имя исполнителя;\n",
    "* `genre` — название жанра;\n",
    "* `City` — город пользователя;\n",
    "* `time` — время начала прослушивания;\n",
    "* `Day` — день недели.\n",
    "\n",
    "В названиях колонок видны три нарушения стиля:\n",
    "1. Строчные буквы сочетаются с прописными.\n",
    "2. Встречаются пробелы.\n",
    "3. В названии `userID` лучше использовать «змеиный регистр».\n",
    "\n",
    "\n",
    "Количество значений в столбцах различается. Значит, в данных есть пропущенные значения.\n"
   ]
  },
  {
   "cell_type": "markdown",
   "metadata": {
    "id": "MCB6-dXG_Zct"
   },
   "source": [
    "**Выводы**\n",
    "\n",
    "В каждой строке таблицы — данные о прослушанном треке. Часть колонок описывает саму композицию: название, исполнителя и жанр. Остальные данные рассказывают о пользователе: из какого он города, когда он слушал музыку. \n",
    "\n",
    "Предварительно можно утверждать, что, данных достаточно для проверки гипотез. Но встречаются пропуски в данных, а в названиях колонок — расхождения с хорошим стилем.\n",
    "\n",
    "Чтобы двигаться дальше, нужно устранить проблемы в данных."
   ]
  },
  {
   "cell_type": "markdown",
   "metadata": {
    "id": "SjYF6Ub9_Zct"
   },
   "source": [
    "## Предобработка данных\n",
    "<a name='data_processing'></a>\n",
    "Исправим стиль в заголовках столбцов, исключим пропуски. Затем проверим данные на дубликаты."
   ]
  },
  {
   "cell_type": "markdown",
   "metadata": {
    "id": "dIaKXr29_Zct"
   },
   "source": [
    "### Стиль заголовков\n",
    "Выведем на экран названия столбцов:"
   ]
  },
  {
   "cell_type": "code",
   "execution_count": 5,
   "metadata": {
    "id": "oKOTdF_Q_Zct"
   },
   "outputs": [
    {
     "name": "stdout",
     "output_type": "stream",
     "text": [
      "Index(['  userID', 'Track', 'artist', 'genre', '  City  ', 'time', 'Day'], dtype='object')\n"
     ]
    }
   ],
   "source": [
    "print(df.columns) # перечень названий столбцов таблицы df"
   ]
  },
  {
   "cell_type": "markdown",
   "metadata": {
    "id": "zj5534cv_Zct"
   },
   "source": [
    "Приведем названия в соответствие с хорошим стилем:\n",
    "* несколько слов в названии запишем в «змеином_регистре»,\n",
    "* все символы сделаем строчными,\n",
    "* устраним пробелы.\n",
    "\n",
    "Для этого переименуем колонки так:\n",
    "* `'  userID'` → `'user_id'`;\n",
    "* `'Track'` → `'track'`;\n",
    "* `'  City  '` → `'city'`;\n",
    "* `'Day'` → `'day'`."
   ]
  },
  {
   "cell_type": "code",
   "execution_count": 6,
   "metadata": {
    "id": "ISlFqs5y_Zct"
   },
   "outputs": [],
   "source": [
    "df = df.rename(columns={'  userID': 'user_id', 'Track': 'track', '  City  ': 'city', 'Day': 'day'})# переименование столбцов"
   ]
  },
  {
   "cell_type": "markdown",
   "metadata": {
    "id": "1dqbh00J_Zct"
   },
   "source": [
    "Проверим результат. Для этого ещё раз выведем на экран названия столбцов:"
   ]
  },
  {
   "cell_type": "code",
   "execution_count": 7,
   "metadata": {
    "id": "d4NOAmTW_Zct",
    "scrolled": true
   },
   "outputs": [
    {
     "data": {
      "text/plain": [
       "['user_id', 'track', 'artist', 'genre', 'city', 'time', 'day']"
      ]
     },
     "execution_count": 7,
     "metadata": {},
     "output_type": "execute_result"
    }
   ],
   "source": [
    "df.columns.to_list() # проверка результатов - перечень названий столбцов"
   ]
  },
  {
   "cell_type": "markdown",
   "metadata": {
    "id": "5ISfbcfY_Zct"
   },
   "source": [
    "### Пропуски значений\n",
    "Сначала посчитаем, сколько в таблице пропущенных значений. Для этого достаточно двух методов `pandas`:"
   ]
  },
  {
   "cell_type": "code",
   "execution_count": 8,
   "metadata": {
    "id": "RskX29qr_Zct"
   },
   "outputs": [
    {
     "name": "stdout",
     "output_type": "stream",
     "text": [
      "user_id       0\n",
      "track      1231\n",
      "artist     7203\n",
      "genre      1198\n",
      "city          0\n",
      "time          0\n",
      "day           0\n",
      "dtype: int64\n"
     ]
    }
   ],
   "source": [
    "print(df.isna().sum()) # подсчёт пропусков"
   ]
  },
  {
   "cell_type": "markdown",
   "metadata": {
    "id": "qubhgnlO_Zct"
   },
   "source": [
    "Не все пропущенные значения влияют на исследование. Так в `track` и `artist` пропуски не важны для вашей работы. Достаточно заменить их явными обозначениями.\n",
    "\n",
    "Но пропуски в `genre` могут помешать сравнению музыкальных вкусов в Москве и Санкт-Петербурге. Обработаем их:\n",
    "* заполним эти пропуски явными обозначениями,\n",
    "* оценим, насколько они повредят расчётам. "
   ]
  },
  {
   "cell_type": "markdown",
   "metadata": {
    "id": "fSv2laPA_Zct"
   },
   "source": [
    "Заменим пропущенные значения в столбцах `track`, `artist` и `genre` на строку `'unknown'`. Для этого создадим список `columns_to_replace`, переберем его элементы циклом `for` и для каждого столбца выполним замену пропущенных значений:"
   ]
  },
  {
   "cell_type": "code",
   "execution_count": 9,
   "metadata": {
    "id": "KplB5qWs_Zct"
   },
   "outputs": [],
   "source": [
    "columns_to_replace = ['track', 'artist', 'genre'] # перебор названий столбцов в цикле и замена пропущенных значений на 'unknown'\n",
    "for column in columns_to_replace:\n",
    "    df[column] = df[column].fillna('unknown')"
   ]
  },
  {
   "cell_type": "markdown",
   "metadata": {
    "id": "Ilsm-MZo_Zct"
   },
   "source": [
    "Убедимся, что в таблице не осталось пропусков. Для этого ещё раз посчитаем пропущенные значения."
   ]
  },
  {
   "cell_type": "code",
   "execution_count": 10,
   "metadata": {
    "id": "Tq4nYRX4_Zct"
   },
   "outputs": [
    {
     "name": "stdout",
     "output_type": "stream",
     "text": [
      "user_id    0\n",
      "track      0\n",
      "artist     0\n",
      "genre      0\n",
      "city       0\n",
      "time       0\n",
      "day        0\n",
      "dtype: int64\n"
     ]
    }
   ],
   "source": [
    "print(df.isna().sum()) # подсчёт пропусков"
   ]
  },
  {
   "cell_type": "markdown",
   "metadata": {
    "id": "BWKRtBJ3_Zct"
   },
   "source": [
    "### Дубликаты\n",
    "Посчитаем явные дубликаты в таблице одной командой:"
   ]
  },
  {
   "cell_type": "code",
   "execution_count": 11,
   "metadata": {
    "id": "36eES_S0_Zct"
   },
   "outputs": [
    {
     "name": "stdout",
     "output_type": "stream",
     "text": [
      "3826\n"
     ]
    }
   ],
   "source": [
    "print(df.duplicated().sum()) # подсчёт явных дубликатов"
   ]
  },
  {
   "cell_type": "markdown",
   "metadata": {
    "id": "Ot25h6XR_Zct"
   },
   "source": [
    "Вызовем специальный метод `pandas`, чтобы удалить явные дубликаты:"
   ]
  },
  {
   "cell_type": "code",
   "execution_count": 12,
   "metadata": {
    "id": "exFHq6tt_Zct"
   },
   "outputs": [],
   "source": [
    "df = df.drop_duplicates().reset_index(drop=True) # удаление явных дубликатов (с удалением старых индексов и формированием новых)"
   ]
  },
  {
   "cell_type": "markdown",
   "metadata": {
    "id": "Im2YwBEG_Zct"
   },
   "source": [
    "Ещё раз посчитаем явные дубликаты в таблице — убедимся, что полностью от них избавились:"
   ]
  },
  {
   "cell_type": "code",
   "execution_count": 13,
   "metadata": {
    "id": "-8PuNWQ0_Zct"
   },
   "outputs": [
    {
     "name": "stdout",
     "output_type": "stream",
     "text": [
      "0\n"
     ]
    }
   ],
   "source": [
    "print(df.duplicated().sum()) # проверка на отсутствие дубликатов"
   ]
  },
  {
   "cell_type": "markdown",
   "metadata": {
    "id": "QlFBsxAr_Zct"
   },
   "source": [
    "Теперь избавимся от неявных дубликатов в колонке `genre`. Например, название одного и того же жанра может быть записано немного по-разному. Такие ошибки тоже повлияют на результат исследования."
   ]
  },
  {
   "cell_type": "markdown",
   "metadata": {
    "id": "eSjWwsOh_Zct"
   },
   "source": [
    "Выведем на экран список уникальных названий жанров, отсортированный в алфавитном порядке. Для этого:\n",
    "* извлечем нужный столбец датафрейма, \n",
    "* применим к нему метод сортировки,\n",
    "* для отсортированного столбца вызовем метод, который вернёт уникальные значения из столбца."
   ]
  },
  {
   "cell_type": "code",
   "execution_count": 14,
   "metadata": {
    "id": "JIUcqzZN_Zct"
   },
   "outputs": [
    {
     "name": "stdout",
     "output_type": "stream",
     "text": [
      "['acid', 'acoustic', 'action', 'adult', 'africa', 'afrikaans', 'alternative', 'alternativepunk', 'ambient', 'americana', 'animated', 'anime', 'arabesk', 'arabic', 'arena', 'argentinetango', 'art', 'audiobook', 'author', 'avantgarde', 'axé', 'baile', 'balkan', 'beats', 'bigroom', 'black', 'bluegrass', 'blues', 'bollywood', 'bossa', 'brazilian', 'breakbeat', 'breaks', 'broadway', 'cantautori', 'cantopop', 'canzone', 'caribbean', 'caucasian', 'celtic', 'chamber', 'chanson', 'children', 'chill', 'chinese', 'choral', 'christian', 'christmas', 'classical', 'classicmetal', 'club', 'colombian', 'comedy', 'conjazz', 'contemporary', 'country', 'cuban', 'dance', 'dancehall', 'dancepop', 'dark', 'death', 'deep', 'deutschrock', 'deutschspr', 'dirty', 'disco', 'dnb', 'documentary', 'downbeat', 'downtempo', 'drum', 'dub', 'dubstep', 'eastern', 'easy', 'electronic', 'electropop', 'emo', 'entehno', 'epicmetal', 'estrada', 'ethnic', 'eurofolk', 'european', 'experimental', 'extrememetal', 'fado', 'fairytail', 'film', 'fitness', 'flamenco', 'folk', 'folklore', 'folkmetal', 'folkrock', 'folktronica', 'forró', 'frankreich', 'französisch', 'french', 'funk', 'future', 'gangsta', 'garage', 'german', 'ghazal', 'gitarre', 'glitch', 'gospel', 'gothic', 'grime', 'grunge', 'gypsy', 'handsup', \"hard'n'heavy\", 'hardcore', 'hardstyle', 'hardtechno', 'hip', 'hip-hop', 'hiphop', 'historisch', 'holiday', 'hop', 'horror', 'house', 'hymn', 'idm', 'independent', 'indian', 'indie', 'indipop', 'industrial', 'inspirational', 'instrumental', 'international', 'irish', 'jam', 'japanese', 'jazz', 'jewish', 'jpop', 'jungle', 'k-pop', 'karadeniz', 'karaoke', 'kayokyoku', 'korean', 'laiko', 'latin', 'latino', 'leftfield', 'local', 'lounge', 'loungeelectronic', 'lovers', 'malaysian', 'mandopop', 'marschmusik', 'meditative', 'mediterranean', 'melodic', 'metal', 'metalcore', 'mexican', 'middle', 'minimal', 'miscellaneous', 'modern', 'mood', 'mpb', 'muslim', 'native', 'neoklassik', 'neue', 'new', 'newage', 'newwave', 'nu', 'nujazz', 'numetal', 'oceania', 'old', 'opera', 'orchestral', 'other', 'piano', 'podcasts', 'pop', 'popdance', 'popelectronic', 'popeurodance', 'poprussian', 'post', 'posthardcore', 'postrock', 'power', 'progmetal', 'progressive', 'psychedelic', 'punjabi', 'punk', 'quebecois', 'ragga', 'ram', 'rancheras', 'rap', 'rave', 'reggae', 'reggaeton', 'regional', 'relax', 'religious', 'retro', 'rhythm', 'rnb', 'rnr', 'rock', 'rockabilly', 'rockalternative', 'rockindie', 'rockother', 'romance', 'roots', 'ruspop', 'rusrap', 'rusrock', 'russian', 'salsa', 'samba', 'scenic', 'schlager', 'self', 'sertanejo', 'shanson', 'shoegazing', 'showtunes', 'singer', 'ska', 'skarock', 'slow', 'smooth', 'soft', 'soul', 'soulful', 'sound', 'soundtrack', 'southern', 'specialty', 'speech', 'spiritual', 'sport', 'stonerrock', 'surf', 'swing', 'synthpop', 'synthrock', 'sängerportrait', 'tango', 'tanzorchester', 'taraftar', 'tatar', 'tech', 'techno', 'teen', 'thrash', 'top', 'traditional', 'tradjazz', 'trance', 'tribal', 'trip', 'triphop', 'tropical', 'türk', 'türkçe', 'ukrrock', 'unknown', 'urban', 'uzbek', 'variété', 'vi', 'videogame', 'vocal', 'western', 'world', 'worldbeat', 'ïîï', 'электроника']\n"
     ]
    }
   ],
   "source": [
    "genre = df['genre'] # Просмотр уникальных названий жанров\n",
    "print(sorted(df['genre'].unique()))"
   ]
  },
  {
   "cell_type": "markdown",
   "metadata": {
    "id": "qej-Qmuo_Zct"
   },
   "source": [
    "Просмотрим список и найдем неявные дубликаты названия `hiphop`. Это могут быть названия с ошибками или альтернативные названия того же жанра.\n",
    "\n",
    "Неявные дубликаты:\n",
    "* *hip*,\n",
    "* *hop*,\n",
    "* *hip-hop*.\n",
    "\n",
    "Чтобы очистить от них таблицу, напишем функцию `replace_wrong_genres()` с двумя параметрами: \n",
    "* `wrong_genres` — список дубликатов,\n",
    "* `correct_genre` — строка с правильным значением.\n",
    "\n",
    "Функция должна исправить колонку `genre` в таблице `df`: заменить каждое значение из списка `wrong_genres` на значение из `correct_genre`."
   ]
  },
  {
   "cell_type": "code",
   "execution_count": 15,
   "metadata": {
    "id": "ErNDkmns_Zct"
   },
   "outputs": [],
   "source": [
    "def replace_wrong_genres(wrong_genres, correct_genre): # Функция для замены неявных дубликатов\n",
    "    for wrong_genre in wrong_genres:\n",
    "        df['genre'] = df['genre'].replace(wrong_genre, correct_genre)"
   ]
  },
  {
   "cell_type": "markdown",
   "metadata": {
    "id": "aDoBJxbA_Zct"
   },
   "source": [
    "Вызовем `replace_wrong_genres()` и передадим ей такие аргументы, чтобы она устранила неявные дубликаты: вместо `hip`, `hop` и `hip-hop` в таблице должно быть значение `hiphop`:"
   ]
  },
  {
   "cell_type": "code",
   "execution_count": 16,
   "metadata": {
    "id": "YN5i2hpmSo09"
   },
   "outputs": [],
   "source": [
    "wrong_genres = ['hip', 'hop', 'hip-hop'] # Устранение неявных дубликатов\n",
    "correct_genre = 'hiphop'\n",
    "replace_wrong_genres(wrong_genres, correct_genre)"
   ]
  },
  {
   "cell_type": "markdown",
   "metadata": {
    "id": "zQKF16_RG15m"
   },
   "source": [
    "Проверим, что заменили неправильные названия:\n",
    "\n",
    "*   hip\n",
    "*   hop\n",
    "*   hip-hop\n",
    "\n",
    "Выведем отсортированный список уникальных значений столбца `genre`:"
   ]
  },
  {
   "cell_type": "code",
   "execution_count": 17,
   "metadata": {
    "id": "wvixALnFG15m",
    "scrolled": true
   },
   "outputs": [
    {
     "name": "stdout",
     "output_type": "stream",
     "text": [
      "['acid', 'acoustic', 'action', 'adult', 'africa', 'afrikaans', 'alternative', 'alternativepunk', 'ambient', 'americana', 'animated', 'anime', 'arabesk', 'arabic', 'arena', 'argentinetango', 'art', 'audiobook', 'author', 'avantgarde', 'axé', 'baile', 'balkan', 'beats', 'bigroom', 'black', 'bluegrass', 'blues', 'bollywood', 'bossa', 'brazilian', 'breakbeat', 'breaks', 'broadway', 'cantautori', 'cantopop', 'canzone', 'caribbean', 'caucasian', 'celtic', 'chamber', 'chanson', 'children', 'chill', 'chinese', 'choral', 'christian', 'christmas', 'classical', 'classicmetal', 'club', 'colombian', 'comedy', 'conjazz', 'contemporary', 'country', 'cuban', 'dance', 'dancehall', 'dancepop', 'dark', 'death', 'deep', 'deutschrock', 'deutschspr', 'dirty', 'disco', 'dnb', 'documentary', 'downbeat', 'downtempo', 'drum', 'dub', 'dubstep', 'eastern', 'easy', 'electronic', 'electropop', 'emo', 'entehno', 'epicmetal', 'estrada', 'ethnic', 'eurofolk', 'european', 'experimental', 'extrememetal', 'fado', 'fairytail', 'film', 'fitness', 'flamenco', 'folk', 'folklore', 'folkmetal', 'folkrock', 'folktronica', 'forró', 'frankreich', 'französisch', 'french', 'funk', 'future', 'gangsta', 'garage', 'german', 'ghazal', 'gitarre', 'glitch', 'gospel', 'gothic', 'grime', 'grunge', 'gypsy', 'handsup', \"hard'n'heavy\", 'hardcore', 'hardstyle', 'hardtechno', 'hiphop', 'historisch', 'holiday', 'horror', 'house', 'hymn', 'idm', 'independent', 'indian', 'indie', 'indipop', 'industrial', 'inspirational', 'instrumental', 'international', 'irish', 'jam', 'japanese', 'jazz', 'jewish', 'jpop', 'jungle', 'k-pop', 'karadeniz', 'karaoke', 'kayokyoku', 'korean', 'laiko', 'latin', 'latino', 'leftfield', 'local', 'lounge', 'loungeelectronic', 'lovers', 'malaysian', 'mandopop', 'marschmusik', 'meditative', 'mediterranean', 'melodic', 'metal', 'metalcore', 'mexican', 'middle', 'minimal', 'miscellaneous', 'modern', 'mood', 'mpb', 'muslim', 'native', 'neoklassik', 'neue', 'new', 'newage', 'newwave', 'nu', 'nujazz', 'numetal', 'oceania', 'old', 'opera', 'orchestral', 'other', 'piano', 'podcasts', 'pop', 'popdance', 'popelectronic', 'popeurodance', 'poprussian', 'post', 'posthardcore', 'postrock', 'power', 'progmetal', 'progressive', 'psychedelic', 'punjabi', 'punk', 'quebecois', 'ragga', 'ram', 'rancheras', 'rap', 'rave', 'reggae', 'reggaeton', 'regional', 'relax', 'religious', 'retro', 'rhythm', 'rnb', 'rnr', 'rock', 'rockabilly', 'rockalternative', 'rockindie', 'rockother', 'romance', 'roots', 'ruspop', 'rusrap', 'rusrock', 'russian', 'salsa', 'samba', 'scenic', 'schlager', 'self', 'sertanejo', 'shanson', 'shoegazing', 'showtunes', 'singer', 'ska', 'skarock', 'slow', 'smooth', 'soft', 'soul', 'soulful', 'sound', 'soundtrack', 'southern', 'specialty', 'speech', 'spiritual', 'sport', 'stonerrock', 'surf', 'swing', 'synthpop', 'synthrock', 'sängerportrait', 'tango', 'tanzorchester', 'taraftar', 'tatar', 'tech', 'techno', 'teen', 'thrash', 'top', 'traditional', 'tradjazz', 'trance', 'tribal', 'trip', 'triphop', 'tropical', 'türk', 'türkçe', 'ukrrock', 'unknown', 'urban', 'uzbek', 'variété', 'vi', 'videogame', 'vocal', 'western', 'world', 'worldbeat', 'ïîï', 'электроника']\n"
     ]
    }
   ],
   "source": [
    "print(sorted(df['genre'].unique())) # Проверка на неявные дубликаты"
   ]
  },
  {
   "cell_type": "markdown",
   "metadata": {
    "id": "jz6a9-7HQUDd"
   },
   "source": [
    "**Выводы**\n",
    "\n",
    "Предобработка обнаружила три проблемы в данных:\n",
    "\n",
    "- нарушения в стиле заголовков,\n",
    "- пропущенные значения,\n",
    "- дубликаты — явные и неявные.\n",
    "\n",
    "Мы исправили заголовки, чтобы упростить работу с таблицей. Без дубликатов исследование станет более точным.\n",
    "\n",
    "Пропущенные значения мы заменили на `'unknown'`. Ещё предстоит увидеть, не повредят ли исследованию пропуски в колонке `genre`.\n",
    "\n",
    "Теперь можно перейти к проверке гипотез."
   ]
  },
  {
   "cell_type": "markdown",
   "metadata": {
    "id": "WttZHXH0SqKk"
   },
   "source": [
    "## Проверка гипотез\n",
    "<a name='hypothesis_testing'></a>"
   ]
  },
  {
   "cell_type": "markdown",
   "metadata": {
    "id": "Im936VVi_Zcu"
   },
   "source": [
    "### Сравнение поведения пользователей двух столиц"
   ]
  },
  {
   "cell_type": "markdown",
   "metadata": {
    "id": "nwt_MuaL_Zcu"
   },
   "source": [
    "Первая гипотеза утверждает, что пользователи по-разному слушают музыку в Москве и Санкт-Петербурге. Проверим это предположение по данным о трёх днях недели — понедельнике, среде и пятнице. Для этого:\n",
    "\n",
    "* Разделим пользователей Москвы и Санкт-Петербурга\n",
    "* Сравним, сколько треков послушала каждая группа пользователей в понедельник, среду и пятницу.\n"
   ]
  },
  {
   "cell_type": "markdown",
   "metadata": {
    "id": "8Dw_YMmT_Zcu"
   },
   "source": [
    "Для тренировки сначала выполним каждый из расчётов по отдельности. \n",
    "\n",
    "Оценим активность пользователей в каждом городе. Сгруппируем данные по городу и посчитаем прослушивания в каждой группе."
   ]
  },
  {
   "cell_type": "code",
   "execution_count": 18,
   "metadata": {
    "id": "0_Qs96oh_Zcu"
   },
   "outputs": [
    {
     "name": "stdout",
     "output_type": "stream",
     "text": [
      "city\n",
      "Moscow              42741\n",
      "Saint-Petersburg    18512\n",
      "Name: track, dtype: int64\n"
     ]
    }
   ],
   "source": [
    "print(df.groupby('city')['track'].count()) # Подсчёт прослушиваний в каждом городе"
   ]
  },
  {
   "cell_type": "markdown",
   "metadata": {
    "id": "dzli3w8o_Zcu"
   },
   "source": [
    "В Москве прослушиваний больше, чем в Петербурге. Из этого не следует, что московские пользователи чаще слушают музыку. Просто самих пользователей в Москве больше.\n",
    "\n",
    "Теперь сгруппируем данные по дню недели и подсчитаем прослушивания в понедельник, среду и пятницу. В данных есть информация о прослушиваниях только за эти дни."
   ]
  },
  {
   "cell_type": "code",
   "execution_count": 19,
   "metadata": {
    "id": "uZMKjiJz_Zcu"
   },
   "outputs": [
    {
     "name": "stdout",
     "output_type": "stream",
     "text": [
      "day\n",
      "Friday       21840\n",
      "Monday       21354\n",
      "Wednesday    18059\n",
      "Name: track, dtype: int64\n"
     ]
    }
   ],
   "source": [
    "print(df.groupby('day')['track'].count())# Подсчёт прослушиваний в каждый из трёх дней"
   ]
  },
  {
   "cell_type": "markdown",
   "metadata": {
    "id": "cC2tNrlL_Zcu"
   },
   "source": [
    "В среднем пользователи из двух городов менее активны по средам. Но картина может измениться, если рассмотреть каждый город в отдельности."
   ]
  },
  {
   "cell_type": "markdown",
   "metadata": {
    "id": "POzs8bGa_Zcu"
   },
   "source": [
    "Мы видели, как работает группировка по городу и по дням недели. Теперь напишем функцию, которая объединит два эти расчёта.\n",
    "\n",
    "Создадим функцию `number_tracks()`, которая посчитает прослушивания для заданного дня и города. Ей понадобятся два параметра:\n",
    "* день недели,\n",
    "* название города.\n",
    "\n",
    "В функции сохраним в переменную строки исходной таблицы, у которых значение:\n",
    "  * в колонке `day` равно параметру `day`,\n",
    "  * в колонке `city` равно параметру `city`.\n",
    "\n",
    "Для этого применим последовательную фильтрацию с логической индексацией.\n",
    "\n",
    "Затем посчитаем значения в столбце `user_id` получившейся таблицы. Результат сохраним в новую переменную. Вернем эту переменную из функции."
   ]
  },
  {
   "cell_type": "code",
   "execution_count": 20,
   "metadata": {
    "id": "Nz3GdQB1_Zcu"
   },
   "outputs": [],
   "source": [
    "# <создание функции number_tracks()>\n",
    "def number_tracks(day, city): # Объявляется функция с двумя параметрами: day, city.\n",
    "    track_list = df.loc[df['day'] == day]\n",
    "    track_list = track_list[track_list['city'] == city] # В переменной track_list сохраняются те строки таблицы df, для которых \n",
    "# значение в столбце 'day' равно параметру day и одновременно значение\n",
    "# в столбце 'city' равно параметру city (используйте последовательную фильтрацию\n",
    "# с помощью логической индексации).\n",
    "    track_list_count = track_list['user_id'].count() # В переменной track_list_count сохраняется число значений столбца 'user_id',\n",
    "# рассчитанное методом count() для таблицы track_list.\n",
    "    return track_list_count # Функция возвращает число - значение track_list_count.\n",
    "\n",
    "# Функция для подсчёта прослушиваний для конкретного города и дня.\n",
    "# С помощью последовательной фильтрации с логической индексацией она \n",
    "# сначала получит из исходной таблицы строки с нужным днём,\n",
    "# затем из результата отфильтрует строки с нужным городом,\n",
    "# методом count() посчитает количество значений в колонке user_id. \n",
    "# Это количество функция вернёт в качестве результата"
   ]
  },
  {
   "cell_type": "markdown",
   "metadata": {
    "id": "ytf7xFrFJQ2r"
   },
   "source": [
    "Вызовем `number_tracks()` шесть раз, меняя значение параметров — так, чтобы получить данные для каждого города в каждый из трёх дней."
   ]
  },
  {
   "cell_type": "code",
   "execution_count": 21,
   "metadata": {
    "id": "rJcRATNQ_Zcu",
    "scrolled": true
   },
   "outputs": [
    {
     "data": {
      "text/plain": [
       "15740"
      ]
     },
     "execution_count": 21,
     "metadata": {},
     "output_type": "execute_result"
    }
   ],
   "source": [
    "number_tracks('Monday','Moscow') # количество прослушиваний в Москве по понедельникам"
   ]
  },
  {
   "cell_type": "code",
   "execution_count": 22,
   "metadata": {
    "id": "hq_ncZ5T_Zcu"
   },
   "outputs": [
    {
     "data": {
      "text/plain": [
       "5614"
      ]
     },
     "execution_count": 22,
     "metadata": {},
     "output_type": "execute_result"
    }
   ],
   "source": [
    "number_tracks('Monday','Saint-Petersburg')# количество прослушиваний в Санкт-Петербурге по понедельникам"
   ]
  },
  {
   "cell_type": "code",
   "execution_count": 23,
   "metadata": {
    "id": "_NTy2VPU_Zcu"
   },
   "outputs": [
    {
     "data": {
      "text/plain": [
       "11056"
      ]
     },
     "execution_count": 23,
     "metadata": {},
     "output_type": "execute_result"
    }
   ],
   "source": [
    "number_tracks('Wednesday','Moscow')# количество прослушиваний в Москве по средам"
   ]
  },
  {
   "cell_type": "code",
   "execution_count": 24,
   "metadata": {
    "id": "j2y3TAwo_Zcu"
   },
   "outputs": [
    {
     "data": {
      "text/plain": [
       "7003"
      ]
     },
     "execution_count": 24,
     "metadata": {},
     "output_type": "execute_result"
    }
   ],
   "source": [
    "number_tracks('Wednesday','Saint-Petersburg')# количество прослушиваний в Санкт-Петербурге по средам"
   ]
  },
  {
   "cell_type": "code",
   "execution_count": 25,
   "metadata": {
    "id": "vYDw5u_K_Zcu"
   },
   "outputs": [
    {
     "data": {
      "text/plain": [
       "15945"
      ]
     },
     "execution_count": 25,
     "metadata": {},
     "output_type": "execute_result"
    }
   ],
   "source": [
    "number_tracks('Friday','Moscow')# количество прослушиваний в Москве по пятницам"
   ]
  },
  {
   "cell_type": "code",
   "execution_count": 26,
   "metadata": {
    "id": "8_yzFtW3_Zcu"
   },
   "outputs": [
    {
     "data": {
      "text/plain": [
       "5895"
      ]
     },
     "execution_count": 26,
     "metadata": {},
     "output_type": "execute_result"
    }
   ],
   "source": [
    "number_tracks('Friday','Saint-Petersburg')# количество прослушиваний в Санкт-Петербурге по пятницам"
   ]
  },
  {
   "cell_type": "code",
   "execution_count": 27,
   "metadata": {},
   "outputs": [
    {
     "data": {
      "text/html": [
       "<div>\n",
       "<style scoped>\n",
       "    .dataframe tbody tr th:only-of-type {\n",
       "        vertical-align: middle;\n",
       "    }\n",
       "\n",
       "    .dataframe tbody tr th {\n",
       "        vertical-align: top;\n",
       "    }\n",
       "\n",
       "    .dataframe thead th {\n",
       "        text-align: right;\n",
       "    }\n",
       "</style>\n",
       "<table border=\"1\" class=\"dataframe\">\n",
       "  <thead>\n",
       "    <tr style=\"text-align: right;\">\n",
       "      <th></th>\n",
       "      <th>Moscow</th>\n",
       "      <th>Saint-Petersburg</th>\n",
       "    </tr>\n",
       "  </thead>\n",
       "  <tbody>\n",
       "    <tr>\n",
       "      <td>Monday</td>\n",
       "      <td>15740</td>\n",
       "      <td>5614</td>\n",
       "    </tr>\n",
       "    <tr>\n",
       "      <td>Wednesday</td>\n",
       "      <td>11056</td>\n",
       "      <td>7003</td>\n",
       "    </tr>\n",
       "    <tr>\n",
       "      <td>Friday</td>\n",
       "      <td>15945</td>\n",
       "      <td>5895</td>\n",
       "    </tr>\n",
       "  </tbody>\n",
       "</table>\n",
       "</div>"
      ],
      "text/plain": [
       "           Moscow  Saint-Petersburg\n",
       "Monday      15740              5614\n",
       "Wednesday   11056              7003\n",
       "Friday      15945              5895"
      ]
     },
     "execution_count": 27,
     "metadata": {},
     "output_type": "execute_result"
    }
   ],
   "source": [
    "pd.DataFrame({city : {day : number_tracks(day,city) for day in ['Monday','Wednesday','Friday']} for city in ['Moscow','Saint-Petersburg']})"
   ]
  },
  {
   "cell_type": "markdown",
   "metadata": {
    "id": "7QXffbO-_Zcu"
   },
   "source": [
    "Создадим c помощью конструктора `pd.DataFrame` таблицу, где\n",
    "* названия колонок — `['city', 'monday', 'wednesday', 'friday']`;\n",
    "* данные — результаты, которые вы получили с помощью `number_tracks`."
   ]
  },
  {
   "cell_type": "code",
   "execution_count": 28,
   "metadata": {
    "id": "APAcLpOr_Zcu"
   },
   "outputs": [
    {
     "data": {
      "text/html": [
       "<div>\n",
       "<style scoped>\n",
       "    .dataframe tbody tr th:only-of-type {\n",
       "        vertical-align: middle;\n",
       "    }\n",
       "\n",
       "    .dataframe tbody tr th {\n",
       "        vertical-align: top;\n",
       "    }\n",
       "\n",
       "    .dataframe thead th {\n",
       "        text-align: right;\n",
       "    }\n",
       "</style>\n",
       "<table border=\"1\" class=\"dataframe\">\n",
       "  <thead>\n",
       "    <tr style=\"text-align: right;\">\n",
       "      <th></th>\n",
       "      <th>city</th>\n",
       "      <th>monday</th>\n",
       "      <th>wednesday</th>\n",
       "      <th>friday</th>\n",
       "    </tr>\n",
       "  </thead>\n",
       "  <tbody>\n",
       "    <tr>\n",
       "      <td>0</td>\n",
       "      <td>Moscow</td>\n",
       "      <td>15740</td>\n",
       "      <td>11056</td>\n",
       "      <td>15945</td>\n",
       "    </tr>\n",
       "    <tr>\n",
       "      <td>1</td>\n",
       "      <td>Saint-Petersburg</td>\n",
       "      <td>5614</td>\n",
       "      <td>7003</td>\n",
       "      <td>5895</td>\n",
       "    </tr>\n",
       "  </tbody>\n",
       "</table>\n",
       "</div>"
      ],
      "text/plain": [
       "               city  monday  wednesday  friday\n",
       "0            Moscow   15740      11056   15945\n",
       "1  Saint-Petersburg    5614       7003    5895"
      ]
     },
     "metadata": {},
     "output_type": "display_data"
    }
   ],
   "source": [
    "columns = ['city', 'monday', 'wednesday', 'friday']\n",
    "data = [\n",
    "    ['Moscow', 15740, 11056, 15945],\n",
    "    ['Saint-Petersburg', 5614, 7003, 5895]\n",
    "]\n",
    "display(pd.DataFrame(data=data, columns=columns)) # Таблица с результатами"
   ]
  },
  {
   "cell_type": "markdown",
   "metadata": {
    "id": "-EgPIHYu_Zcu"
   },
   "source": [
    "**Выводы**\n",
    "\n",
    "Данные показывают разницу поведения пользователей:\n",
    "\n",
    "- В Москве пик прослушиваний приходится на понедельник и пятницу, а в среду заметен спад.\n",
    "- В Петербурге, наоборот, больше слушают музыку по средам. Активность в понедельник и пятницу здесь почти в равной мере уступает среде.\n",
    "\n",
    "Значит, данные говорят в пользу первой гипотезы."
   ]
  },
  {
   "cell_type": "markdown",
   "metadata": {
    "id": "atZAxtq4_Zcu"
   },
   "source": [
    "### Музыка в начале и в конце недели"
   ]
  },
  {
   "cell_type": "markdown",
   "metadata": {
    "id": "eXrQqXFH_Zcu"
   },
   "source": [
    "Согласно второй гипотезе, утром в понедельник в Москве преобладают одни жанры, а в Петербурге — другие. Так же и вечером пятницы преобладают разные жанры — в зависимости от города."
   ]
  },
  {
   "cell_type": "markdown",
   "metadata": {
    "id": "S8UcW6Hw_Zcu"
   },
   "source": [
    "Сохраним таблицы с данными в две переменные:\n",
    "* по Москве — в `moscow_general`;\n",
    "* по Санкт-Петербургу — в `spb_general`."
   ]
  },
  {
   "cell_type": "code",
   "execution_count": 29,
   "metadata": {
    "id": "qeaFfM_P_Zcu"
   },
   "outputs": [
    {
     "data": {
      "text/html": [
       "<div>\n",
       "<style scoped>\n",
       "    .dataframe tbody tr th:only-of-type {\n",
       "        vertical-align: middle;\n",
       "    }\n",
       "\n",
       "    .dataframe tbody tr th {\n",
       "        vertical-align: top;\n",
       "    }\n",
       "\n",
       "    .dataframe thead th {\n",
       "        text-align: right;\n",
       "    }\n",
       "</style>\n",
       "<table border=\"1\" class=\"dataframe\">\n",
       "  <thead>\n",
       "    <tr style=\"text-align: right;\">\n",
       "      <th></th>\n",
       "      <th>user_id</th>\n",
       "      <th>track</th>\n",
       "      <th>artist</th>\n",
       "      <th>genre</th>\n",
       "      <th>city</th>\n",
       "      <th>time</th>\n",
       "      <th>day</th>\n",
       "    </tr>\n",
       "  </thead>\n",
       "  <tbody>\n",
       "    <tr>\n",
       "      <td>1</td>\n",
       "      <td>55204538</td>\n",
       "      <td>Delayed Because of Accident</td>\n",
       "      <td>Andreas Rönnberg</td>\n",
       "      <td>rock</td>\n",
       "      <td>Moscow</td>\n",
       "      <td>14:07:09</td>\n",
       "      <td>Friday</td>\n",
       "    </tr>\n",
       "    <tr>\n",
       "      <td>4</td>\n",
       "      <td>E2DC1FAE</td>\n",
       "      <td>Soul People</td>\n",
       "      <td>Space Echo</td>\n",
       "      <td>dance</td>\n",
       "      <td>Moscow</td>\n",
       "      <td>08:34:34</td>\n",
       "      <td>Monday</td>\n",
       "    </tr>\n",
       "    <tr>\n",
       "      <td>6</td>\n",
       "      <td>4CB90AA5</td>\n",
       "      <td>True</td>\n",
       "      <td>Roman Messer</td>\n",
       "      <td>dance</td>\n",
       "      <td>Moscow</td>\n",
       "      <td>13:00:07</td>\n",
       "      <td>Wednesday</td>\n",
       "    </tr>\n",
       "    <tr>\n",
       "      <td>7</td>\n",
       "      <td>F03E1C1F</td>\n",
       "      <td>Feeling This Way</td>\n",
       "      <td>Polina Griffith</td>\n",
       "      <td>dance</td>\n",
       "      <td>Moscow</td>\n",
       "      <td>20:47:49</td>\n",
       "      <td>Wednesday</td>\n",
       "    </tr>\n",
       "    <tr>\n",
       "      <td>8</td>\n",
       "      <td>8FA1D3BE</td>\n",
       "      <td>И вновь продолжается бой</td>\n",
       "      <td>unknown</td>\n",
       "      <td>ruspop</td>\n",
       "      <td>Moscow</td>\n",
       "      <td>09:17:40</td>\n",
       "      <td>Friday</td>\n",
       "    </tr>\n",
       "    <tr>\n",
       "      <td>...</td>\n",
       "      <td>...</td>\n",
       "      <td>...</td>\n",
       "      <td>...</td>\n",
       "      <td>...</td>\n",
       "      <td>...</td>\n",
       "      <td>...</td>\n",
       "      <td>...</td>\n",
       "    </tr>\n",
       "    <tr>\n",
       "      <td>61247</td>\n",
       "      <td>83A474E7</td>\n",
       "      <td>I Worship Only What You Bleed</td>\n",
       "      <td>The Black Dahlia Murder</td>\n",
       "      <td>extrememetal</td>\n",
       "      <td>Moscow</td>\n",
       "      <td>21:07:12</td>\n",
       "      <td>Monday</td>\n",
       "    </tr>\n",
       "    <tr>\n",
       "      <td>61248</td>\n",
       "      <td>729CBB09</td>\n",
       "      <td>My Name</td>\n",
       "      <td>McLean</td>\n",
       "      <td>rnb</td>\n",
       "      <td>Moscow</td>\n",
       "      <td>13:32:28</td>\n",
       "      <td>Wednesday</td>\n",
       "    </tr>\n",
       "    <tr>\n",
       "      <td>61250</td>\n",
       "      <td>C5E3A0D5</td>\n",
       "      <td>Jalopiina</td>\n",
       "      <td>unknown</td>\n",
       "      <td>industrial</td>\n",
       "      <td>Moscow</td>\n",
       "      <td>20:09:26</td>\n",
       "      <td>Friday</td>\n",
       "    </tr>\n",
       "    <tr>\n",
       "      <td>61251</td>\n",
       "      <td>321D0506</td>\n",
       "      <td>Freight Train</td>\n",
       "      <td>Chas McDevitt</td>\n",
       "      <td>rock</td>\n",
       "      <td>Moscow</td>\n",
       "      <td>21:43:59</td>\n",
       "      <td>Friday</td>\n",
       "    </tr>\n",
       "    <tr>\n",
       "      <td>61252</td>\n",
       "      <td>3A64EF84</td>\n",
       "      <td>Tell Me Sweet Little Lies</td>\n",
       "      <td>Monica Lopez</td>\n",
       "      <td>country</td>\n",
       "      <td>Moscow</td>\n",
       "      <td>21:59:46</td>\n",
       "      <td>Friday</td>\n",
       "    </tr>\n",
       "  </tbody>\n",
       "</table>\n",
       "<p>42741 rows × 7 columns</p>\n",
       "</div>"
      ],
      "text/plain": [
       "        user_id                          track                   artist  \\\n",
       "1      55204538    Delayed Because of Accident         Andreas Rönnberg   \n",
       "4      E2DC1FAE                    Soul People               Space Echo   \n",
       "6      4CB90AA5                           True             Roman Messer   \n",
       "7      F03E1C1F               Feeling This Way          Polina Griffith   \n",
       "8      8FA1D3BE       И вновь продолжается бой                  unknown   \n",
       "...         ...                            ...                      ...   \n",
       "61247  83A474E7  I Worship Only What You Bleed  The Black Dahlia Murder   \n",
       "61248  729CBB09                        My Name                   McLean   \n",
       "61250  C5E3A0D5                      Jalopiina                  unknown   \n",
       "61251  321D0506                  Freight Train            Chas McDevitt   \n",
       "61252  3A64EF84      Tell Me Sweet Little Lies             Monica Lopez   \n",
       "\n",
       "              genre    city      time        day  \n",
       "1              rock  Moscow  14:07:09     Friday  \n",
       "4             dance  Moscow  08:34:34     Monday  \n",
       "6             dance  Moscow  13:00:07  Wednesday  \n",
       "7             dance  Moscow  20:47:49  Wednesday  \n",
       "8            ruspop  Moscow  09:17:40     Friday  \n",
       "...             ...     ...       ...        ...  \n",
       "61247  extrememetal  Moscow  21:07:12     Monday  \n",
       "61248           rnb  Moscow  13:32:28  Wednesday  \n",
       "61250    industrial  Moscow  20:09:26     Friday  \n",
       "61251          rock  Moscow  21:43:59     Friday  \n",
       "61252       country  Moscow  21:59:46     Friday  \n",
       "\n",
       "[42741 rows x 7 columns]"
      ]
     },
     "metadata": {},
     "output_type": "display_data"
    }
   ],
   "source": [
    "moscow_general = df.loc[df['city'] == 'Moscow'] # получение таблицы moscow_general из тех строк таблицы df, \n",
    "# для которых значение в столбце 'city' равно 'Moscow'\n",
    "display(moscow_general)"
   ]
  },
  {
   "cell_type": "code",
   "execution_count": 30,
   "metadata": {
    "id": "ORaVRKto_Zcu"
   },
   "outputs": [
    {
     "data": {
      "text/html": [
       "<div>\n",
       "<style scoped>\n",
       "    .dataframe tbody tr th:only-of-type {\n",
       "        vertical-align: middle;\n",
       "    }\n",
       "\n",
       "    .dataframe tbody tr th {\n",
       "        vertical-align: top;\n",
       "    }\n",
       "\n",
       "    .dataframe thead th {\n",
       "        text-align: right;\n",
       "    }\n",
       "</style>\n",
       "<table border=\"1\" class=\"dataframe\">\n",
       "  <thead>\n",
       "    <tr style=\"text-align: right;\">\n",
       "      <th></th>\n",
       "      <th>user_id</th>\n",
       "      <th>track</th>\n",
       "      <th>artist</th>\n",
       "      <th>genre</th>\n",
       "      <th>city</th>\n",
       "      <th>time</th>\n",
       "      <th>day</th>\n",
       "    </tr>\n",
       "  </thead>\n",
       "  <tbody>\n",
       "    <tr>\n",
       "      <td>0</td>\n",
       "      <td>FFB692EC</td>\n",
       "      <td>Kamigata To Boots</td>\n",
       "      <td>The Mass Missile</td>\n",
       "      <td>rock</td>\n",
       "      <td>Saint-Petersburg</td>\n",
       "      <td>20:28:33</td>\n",
       "      <td>Wednesday</td>\n",
       "    </tr>\n",
       "    <tr>\n",
       "      <td>2</td>\n",
       "      <td>20EC38</td>\n",
       "      <td>Funiculì funiculà</td>\n",
       "      <td>Mario Lanza</td>\n",
       "      <td>pop</td>\n",
       "      <td>Saint-Petersburg</td>\n",
       "      <td>20:58:07</td>\n",
       "      <td>Wednesday</td>\n",
       "    </tr>\n",
       "    <tr>\n",
       "      <td>3</td>\n",
       "      <td>A3DD03C9</td>\n",
       "      <td>Dragons in the Sunset</td>\n",
       "      <td>Fire + Ice</td>\n",
       "      <td>folk</td>\n",
       "      <td>Saint-Petersburg</td>\n",
       "      <td>08:37:09</td>\n",
       "      <td>Monday</td>\n",
       "    </tr>\n",
       "    <tr>\n",
       "      <td>5</td>\n",
       "      <td>842029A1</td>\n",
       "      <td>Преданная</td>\n",
       "      <td>IMPERVTOR</td>\n",
       "      <td>rusrap</td>\n",
       "      <td>Saint-Petersburg</td>\n",
       "      <td>13:09:41</td>\n",
       "      <td>Friday</td>\n",
       "    </tr>\n",
       "    <tr>\n",
       "      <td>9</td>\n",
       "      <td>E772D5C0</td>\n",
       "      <td>Pessimist</td>\n",
       "      <td>unknown</td>\n",
       "      <td>dance</td>\n",
       "      <td>Saint-Petersburg</td>\n",
       "      <td>21:20:49</td>\n",
       "      <td>Wednesday</td>\n",
       "    </tr>\n",
       "    <tr>\n",
       "      <td>...</td>\n",
       "      <td>...</td>\n",
       "      <td>...</td>\n",
       "      <td>...</td>\n",
       "      <td>...</td>\n",
       "      <td>...</td>\n",
       "      <td>...</td>\n",
       "      <td>...</td>\n",
       "    </tr>\n",
       "    <tr>\n",
       "      <td>61239</td>\n",
       "      <td>D94F810B</td>\n",
       "      <td>Theme from the Walking Dead</td>\n",
       "      <td>Proyecto Halloween</td>\n",
       "      <td>film</td>\n",
       "      <td>Saint-Petersburg</td>\n",
       "      <td>21:14:40</td>\n",
       "      <td>Monday</td>\n",
       "    </tr>\n",
       "    <tr>\n",
       "      <td>61240</td>\n",
       "      <td>BC8EC5CF</td>\n",
       "      <td>Red Lips: Gta (Rover Rework)</td>\n",
       "      <td>Rover</td>\n",
       "      <td>electronic</td>\n",
       "      <td>Saint-Petersburg</td>\n",
       "      <td>21:06:50</td>\n",
       "      <td>Monday</td>\n",
       "    </tr>\n",
       "    <tr>\n",
       "      <td>61241</td>\n",
       "      <td>29E04611</td>\n",
       "      <td>Bre Petrunko</td>\n",
       "      <td>Perunika Trio</td>\n",
       "      <td>world</td>\n",
       "      <td>Saint-Petersburg</td>\n",
       "      <td>13:56:00</td>\n",
       "      <td>Monday</td>\n",
       "    </tr>\n",
       "    <tr>\n",
       "      <td>61242</td>\n",
       "      <td>1B91C621</td>\n",
       "      <td>(Hello) Cloud Mountain</td>\n",
       "      <td>sleepmakeswaves</td>\n",
       "      <td>postrock</td>\n",
       "      <td>Saint-Petersburg</td>\n",
       "      <td>09:22:13</td>\n",
       "      <td>Monday</td>\n",
       "    </tr>\n",
       "    <tr>\n",
       "      <td>61249</td>\n",
       "      <td>D08D4A55</td>\n",
       "      <td>Maybe One Day (feat. Black Spade)</td>\n",
       "      <td>Blu &amp; Exile</td>\n",
       "      <td>hiphop</td>\n",
       "      <td>Saint-Petersburg</td>\n",
       "      <td>10:00:00</td>\n",
       "      <td>Monday</td>\n",
       "    </tr>\n",
       "  </tbody>\n",
       "</table>\n",
       "<p>18512 rows × 7 columns</p>\n",
       "</div>"
      ],
      "text/plain": [
       "        user_id                              track              artist  \\\n",
       "0      FFB692EC                  Kamigata To Boots    The Mass Missile   \n",
       "2        20EC38                  Funiculì funiculà         Mario Lanza   \n",
       "3      A3DD03C9              Dragons in the Sunset          Fire + Ice   \n",
       "5      842029A1                          Преданная           IMPERVTOR   \n",
       "9      E772D5C0                          Pessimist             unknown   \n",
       "...         ...                                ...                 ...   \n",
       "61239  D94F810B        Theme from the Walking Dead  Proyecto Halloween   \n",
       "61240  BC8EC5CF       Red Lips: Gta (Rover Rework)               Rover   \n",
       "61241  29E04611                       Bre Petrunko       Perunika Trio   \n",
       "61242  1B91C621             (Hello) Cloud Mountain     sleepmakeswaves   \n",
       "61249  D08D4A55  Maybe One Day (feat. Black Spade)         Blu & Exile   \n",
       "\n",
       "            genre              city      time        day  \n",
       "0            rock  Saint-Petersburg  20:28:33  Wednesday  \n",
       "2             pop  Saint-Petersburg  20:58:07  Wednesday  \n",
       "3            folk  Saint-Petersburg  08:37:09     Monday  \n",
       "5          rusrap  Saint-Petersburg  13:09:41     Friday  \n",
       "9           dance  Saint-Petersburg  21:20:49  Wednesday  \n",
       "...           ...               ...       ...        ...  \n",
       "61239        film  Saint-Petersburg  21:14:40     Monday  \n",
       "61240  electronic  Saint-Petersburg  21:06:50     Monday  \n",
       "61241       world  Saint-Petersburg  13:56:00     Monday  \n",
       "61242    postrock  Saint-Petersburg  09:22:13     Monday  \n",
       "61249      hiphop  Saint-Petersburg  10:00:00     Monday  \n",
       "\n",
       "[18512 rows x 7 columns]"
      ]
     },
     "metadata": {},
     "output_type": "display_data"
    }
   ],
   "source": [
    "spb_general = df.loc[df['city'] == 'Saint-Petersburg'] # получение таблицы spb_general из тех строк таблицы df,\n",
    "# для которых значение в столбце 'city' равно 'Saint-Petersburg'\n",
    "display(spb_general)"
   ]
  },
  {
   "cell_type": "markdown",
   "metadata": {
    "id": "MEJV-CX2_Zcu"
   },
   "source": [
    "Создадим функцию `genre_weekday()` с четырьмя параметрами:\n",
    "* таблица (датафрейм) с данными,\n",
    "* день недели,\n",
    "* начальная временная метка в формате 'hh:mm', \n",
    "* последняя временная метка в формате 'hh:mm'.\n",
    "\n",
    "Функция должна вернуть информацию о топ-10 жанров тех треков, которые прослушивали в указанный день, в промежутке между двумя отметками времени."
   ]
  },
  {
   "cell_type": "code",
   "execution_count": 31,
   "metadata": {
    "id": "laJT9BYl_Zcu"
   },
   "outputs": [],
   "source": [
    "def genre_weekday(table, day, time1, time2): # Объявление функции genre_weekday() с параметрами table, day, time1, time2,\n",
    "# которая возвращает информацию о самых популярных жанрах в указанный день в\n",
    "# заданное время:\n",
    "# 1) в переменную genre_df сохраняются те строки переданного датафрейма table, для\n",
    "#    которых одновременно:\n",
    "    genre_df = table[(table['day'] == day) & (table['time'] > time1) & (table['time'] < time2)]\n",
    "    #    - значение в столбце day равно значению аргумента day\n",
    "    #    - значение в столбце time больше значения аргумента time1\n",
    "    #    - значение в столбце time меньше значения аргумента time2\n",
    "#    Используйте последовательную фильтрацию с помощью логической индексации.\n",
    "# 2) сгруппировать датафрейм genre_df по столбцу genre, взять один из его\n",
    "#    столбцов и посчитать методом count() количество записей для каждого из\n",
    "#    присутствующих жанров, получившийся Series записать в переменную\n",
    "#    genre_df_count\n",
    "    genre_df_count = genre_df.groupby('genre')['genre'].count()\n",
    "# 3) отсортировать genre_df_count по убыванию встречаемости и сохранить\n",
    "#    в переменную genre_df_sorted\n",
    "    genre_df_sorted = genre_df_count.sort_values(ascending = False)\n",
    "# 4) вернуть Series из 10 первых значений genre_df_sorted, это будут топ-10\n",
    "#    популярных жанров (в указанный день, в заданное время)\n",
    "    return genre_df_sorted.head(10)"
   ]
  },
  {
   "cell_type": "markdown",
   "metadata": {
    "id": "la2s2_PF_Zcu"
   },
   "source": [
    "Cравним результаты функции `genre_weekday()` для Москвы и Санкт-Петербурга в понедельник утром (с 7:00 до 11:00) и в пятницу вечером (с 17:00 до 23:00):"
   ]
  },
  {
   "cell_type": "code",
   "execution_count": 32,
   "metadata": {
    "id": "yz7itPUQ_Zcu"
   },
   "outputs": [
    {
     "name": "stdout",
     "output_type": "stream",
     "text": [
      "genre\n",
      "pop            781\n",
      "dance          549\n",
      "electronic     480\n",
      "rock           474\n",
      "hiphop         286\n",
      "ruspop         186\n",
      "world          181\n",
      "rusrap         175\n",
      "alternative    164\n",
      "unknown        161\n",
      "Name: genre, dtype: int64\n"
     ]
    }
   ],
   "source": [
    "print(genre_weekday(moscow_general, 'Monday', '07:00', '11:00')) # вызов функции для утра понедельника в Москве (вместо df — таблица moscow_general)\n",
    "# объекты, хранящие время, являются строками и сравниваются как строки\n",
    "# пример вызова: genre_weekday(moscow_general, 'Monday', '07:00', '11:00')"
   ]
  },
  {
   "cell_type": "code",
   "execution_count": 33,
   "metadata": {
    "id": "kwUcHPdy_Zcu"
   },
   "outputs": [
    {
     "name": "stdout",
     "output_type": "stream",
     "text": [
      "genre\n",
      "pop            218\n",
      "dance          182\n",
      "rock           162\n",
      "electronic     147\n",
      "hiphop          80\n",
      "ruspop          64\n",
      "alternative     58\n",
      "rusrap          55\n",
      "jazz            44\n",
      "classical       40\n",
      "Name: genre, dtype: int64\n"
     ]
    }
   ],
   "source": [
    "print(genre_weekday(spb_general, 'Monday', '07:00', '11:00')) # вызов функции для утра понедельника в Петербурге (вместо df — таблица spb_general)"
   ]
  },
  {
   "cell_type": "code",
   "execution_count": 34,
   "metadata": {
    "id": "EzXVRE1o_Zcu"
   },
   "outputs": [
    {
     "name": "stdout",
     "output_type": "stream",
     "text": [
      "genre\n",
      "pop            713\n",
      "rock           517\n",
      "dance          495\n",
      "electronic     482\n",
      "hiphop         273\n",
      "world          208\n",
      "ruspop         170\n",
      "alternative    163\n",
      "classical      163\n",
      "rusrap         142\n",
      "Name: genre, dtype: int64\n"
     ]
    }
   ],
   "source": [
    "print(genre_weekday(moscow_general, 'Friday', '17:00', '23:00')) # вызов функции для вечера пятницы в Москве"
   ]
  },
  {
   "cell_type": "code",
   "execution_count": 35,
   "metadata": {
    "id": "JZaEKu5v_Zcu"
   },
   "outputs": [
    {
     "name": "stdout",
     "output_type": "stream",
     "text": [
      "genre\n",
      "pop            263\n",
      "rock           208\n",
      "electronic     192\n",
      "dance          191\n",
      "hiphop         104\n",
      "alternative     72\n",
      "classical       71\n",
      "jazz            57\n",
      "rusrap          54\n",
      "ruspop          53\n",
      "Name: genre, dtype: int64\n"
     ]
    }
   ],
   "source": [
    "print(genre_weekday(spb_general, 'Monday', '17:00', '23:00')) # вызов функции для вечера пятницы в Петербурге"
   ]
  },
  {
   "cell_type": "markdown",
   "metadata": {
    "id": "wrCe4MNX_Zcu"
   },
   "source": [
    "**Выводы**\n",
    "\n",
    "Если сравнить топ-10 жанров в понедельник утром, можно сделать такие выводы:\n",
    "\n",
    "1. В Москве и Петербурге слушают похожую музыку. Единственное отличие — в московский рейтинг вошёл жанр “world”, а в петербургский — джаз и классика.\n",
    "\n",
    "2. В Москве пропущенных значений оказалось так много, что значение `'unknown'` заняло десятое место среди самых популярных жанров. Значит, пропущенные значения занимают существенную долю в данных и угрожают достоверности исследования.\n",
    "\n",
    "Вечер пятницы не меняет эту картину. Некоторые жанры поднимаются немного выше, другие спускаются, но в целом топ-10 остаётся тем же самым.\n",
    "\n",
    "Таким образом, вторая гипотеза подтвердилась лишь частично:\n",
    "* Пользователи слушают похожую музыку в начале недели и в конце.\n",
    "* Разница между Москвой и Петербургом не слишком выражена. В Москве чаще слушают русскую популярную музыку, в Петербурге — джаз.\n",
    "\n",
    "Однако пропуски в данных ставят под сомнение этот результат. В Москве их так много, что рейтинг топ-10 мог бы выглядеть иначе, если бы не утерянные  данные о жанрах."
   ]
  },
  {
   "cell_type": "markdown",
   "metadata": {
    "id": "JolODAqr_Zcu"
   },
   "source": [
    "### Жанровые предпочтения в Москве и Петербурге\n",
    "\n",
    "Гипотеза: Петербург — столица рэпа, музыку этого жанра там слушают чаще, чем в Москве.  А Москва — город контрастов, в котором, тем не менее, преобладает поп-музыка."
   ]
  },
  {
   "cell_type": "markdown",
   "metadata": {
    "id": "DlegSvaT_Zcu"
   },
   "source": [
    "Сгруппируем таблицу `moscow_general` по жанру и посчитаем прослушивания треков каждого жанра методом `count()`. Затем отсортируем результат в порядке убывания и сохраним его в таблице `moscow_genres`."
   ]
  },
  {
   "cell_type": "code",
   "execution_count": 36,
   "metadata": {
    "id": "r19lIPke_Zcu"
   },
   "outputs": [],
   "source": [
    "moscow_genres = (moscow_general.groupby('genre')['genre'].count()).sort_values(ascending = False)\n",
    "# одной строкой: группировка таблицы moscow_general по столбцу 'genre', \n",
    "# подсчёт числа значений 'genre' в этой группировке методом count(), \n",
    "# сортировка получившегося Series в порядке убывания и сохранение в moscow_genres"
   ]
  },
  {
   "cell_type": "markdown",
   "metadata": {
    "id": "6kMuomxTiIr8"
   },
   "source": [
    "Выведем на экран первые десять строк `moscow_genres`:"
   ]
  },
  {
   "cell_type": "code",
   "execution_count": 37,
   "metadata": {
    "id": "WhCSooF8_Zcv"
   },
   "outputs": [
    {
     "name": "stdout",
     "output_type": "stream",
     "text": [
      "genre\n",
      "pop            5892\n",
      "dance          4435\n",
      "rock           3965\n",
      "electronic     3786\n",
      "hiphop         2096\n",
      "classical      1616\n",
      "world          1432\n",
      "alternative    1379\n",
      "ruspop         1372\n",
      "rusrap         1161\n",
      "Name: genre, dtype: int64\n"
     ]
    }
   ],
   "source": [
    "print(moscow_genres.head(10)) # просмотр первых 10 строк moscow_genres"
   ]
  },
  {
   "cell_type": "markdown",
   "metadata": {
    "id": "cnPG2vnN_Zcv"
   },
   "source": [
    "Теперь повторим то же и для Петербурга.\n",
    "\n",
    "Сгруппируем таблицу `spb_general` по жанру. Посчитаем прослушивания треков каждого жанра. Результат отсортируем в порядке убывания и сохраним в таблице `spb_genres`:\n"
   ]
  },
  {
   "cell_type": "code",
   "execution_count": 38,
   "metadata": {
    "id": "gluLIpE7_Zcv"
   },
   "outputs": [],
   "source": [
    "spb_genres = (spb_general.groupby('genre')['genre'].count()).sort_values(ascending = False)\n",
    "# одной строкой: группировка таблицы spb_general по столбцу 'genre', \n",
    "# подсчёт числа значений 'genre' в этой группировке методом count(), \n",
    "# сортировка получившегося Series в порядке убывания и сохранение в spb_genres"
   ]
  },
  {
   "cell_type": "markdown",
   "metadata": {
    "id": "5Doha_ODgyQ8"
   },
   "source": [
    "Выведем на экран первые десять строк `spb_genres`:"
   ]
  },
  {
   "cell_type": "code",
   "execution_count": 39,
   "metadata": {
    "id": "uaGJHjVU_Zcv",
    "scrolled": false
   },
   "outputs": [
    {
     "name": "stdout",
     "output_type": "stream",
     "text": [
      "genre\n",
      "pop            2431\n",
      "dance          1932\n",
      "rock           1879\n",
      "electronic     1736\n",
      "hiphop          960\n",
      "alternative     649\n",
      "classical       646\n",
      "rusrap          564\n",
      "ruspop          538\n",
      "world           515\n",
      "Name: genre, dtype: int64\n"
     ]
    }
   ],
   "source": [
    "print(spb_genres.head(10)) # просмотр первых 10 строк spb_genres"
   ]
  },
  {
   "cell_type": "markdown",
   "metadata": {
    "id": "RY51YJYu_Zcv"
   },
   "source": [
    "**Выводы**"
   ]
  },
  {
   "cell_type": "markdown",
   "metadata": {
    "id": "nVhnJEm__Zcv"
   },
   "source": [
    "Гипотеза частично подтвердилась:\n",
    "* Поп-музыка — самый популярный жанр в Москве, как и предполагала гипотеза. Более того, в топ-10 жанров встречается близкий жанр — русская популярная музыка.\n",
    "* Вопреки ожиданиям, рэп одинаково популярен в Москве и Петербурге. \n"
   ]
  },
  {
   "cell_type": "markdown",
   "metadata": {
    "id": "ykKQ0N65_Zcv"
   },
   "source": [
    "## Итоги исследования\n",
    "<a name='conclusion'></a>"
   ]
  },
  {
   "cell_type": "markdown",
   "metadata": {
    "id": "tjUwbHb3_Zcv"
   },
   "source": [
    "Мы проверили три гипотезы и установили:\n",
    "\n",
    "1. День недели по-разному влияет на активность пользователей в Москве и Петербурге. \n",
    "\n",
    "Первая гипотеза полностью подтвердилась.\n",
    "\n",
    "2. Музыкальные предпочтения не сильно меняются в течение недели — будь то Москва или Петербург. Небольшие различия заметны в начале недели, по понедельникам:\n",
    "* в Москве слушают музыку жанра “world”,\n",
    "* в Петербурге — джаз и классику.\n",
    "\n",
    "Таким образом, вторая гипотеза подтвердилась лишь отчасти. Этот результат мог оказаться иным, если бы не пропуски в данных.\n",
    "\n",
    "3. Во вкусах пользователей Москвы и Петербурга больше общего чем различий. Вопреки ожиданиям, предпочтения жанров в Петербурге напоминают московские.\n",
    "\n",
    "Третья гипотеза не подтвердилась. Если различия в предпочтениях и существуют, на основной массе пользователей они незаметны.\n",
    "\n",
    "На практике исследования содержат проверки статистических гипотез.\n",
    "Из данных одного сервиса не всегда можно сделать вывод о всех жителях города.\n",
    "Проверки статистических гипотез покажут, насколько они достоверны, исходя из имеющихся данных. "
   ]
  }
 ],
 "metadata": {
  "ExecuteTimeLog": [
   {
    "duration": 726,
    "start_time": "2021-10-11T12:42:48.243Z"
   },
   {
    "duration": 3,
    "start_time": "2021-10-11T12:42:54.347Z"
   },
   {
    "duration": 3,
    "start_time": "2021-10-11T12:43:03.394Z"
   },
   {
    "duration": 4,
    "start_time": "2021-10-11T12:44:06.435Z"
   },
   {
    "duration": 3,
    "start_time": "2021-10-11T12:44:09.084Z"
   },
   {
    "duration": 3,
    "start_time": "2021-10-11T12:44:10.115Z"
   },
   {
    "duration": 3,
    "start_time": "2021-10-11T12:44:10.492Z"
   },
   {
    "duration": 696,
    "start_time": "2021-10-11T12:44:16.567Z"
   },
   {
    "duration": 4,
    "start_time": "2021-10-11T12:44:24.603Z"
   },
   {
    "duration": 3,
    "start_time": "2021-10-11T12:44:26.408Z"
   },
   {
    "duration": 661,
    "start_time": "2021-10-11T12:46:34.967Z"
   },
   {
    "duration": 380,
    "start_time": "2021-10-11T12:53:13.477Z"
   },
   {
    "duration": 182,
    "start_time": "2021-10-11T12:53:32.798Z"
   },
   {
    "duration": 255,
    "start_time": "2021-10-11T12:53:40.967Z"
   },
   {
    "duration": 24,
    "start_time": "2021-10-11T12:57:08.175Z"
   },
   {
    "duration": 42,
    "start_time": "2021-10-11T13:03:47.910Z"
   },
   {
    "duration": 4,
    "start_time": "2021-10-11T13:36:41.482Z"
   },
   {
    "duration": 5,
    "start_time": "2021-10-11T13:43:38.886Z"
   },
   {
    "duration": 26,
    "start_time": "2021-10-11T13:49:26.998Z"
   },
   {
    "duration": 6,
    "start_time": "2021-10-11T13:49:33.222Z"
   },
   {
    "duration": 36,
    "start_time": "2021-10-11T13:55:41.684Z"
   },
   {
    "duration": 6096,
    "start_time": "2021-10-11T14:18:11.743Z"
   },
   {
    "duration": -176,
    "start_time": "2021-10-11T14:22:14.414Z"
   },
   {
    "duration": 5829,
    "start_time": "2021-10-11T14:22:16.327Z"
   },
   {
    "duration": 26,
    "start_time": "2021-10-11T14:23:37.836Z"
   },
   {
    "duration": 24,
    "start_time": "2021-10-11T14:23:43.955Z"
   },
   {
    "duration": 25,
    "start_time": "2021-10-11T14:23:51.807Z"
   },
   {
    "duration": 25,
    "start_time": "2021-10-11T14:24:23.765Z"
   },
   {
    "duration": 35,
    "start_time": "2021-10-11T14:26:40.809Z"
   },
   {
    "duration": 85,
    "start_time": "2021-10-11T15:22:17.058Z"
   },
   {
    "duration": 91,
    "start_time": "2021-10-11T15:24:09.320Z"
   },
   {
    "duration": 75,
    "start_time": "2021-10-11T15:25:13.059Z"
   },
   {
    "duration": 291,
    "start_time": "2021-10-11T15:48:29.317Z"
   },
   {
    "duration": 534,
    "start_time": "2021-10-11T15:48:41.042Z"
   },
   {
    "duration": 225,
    "start_time": "2021-10-11T15:48:49.058Z"
   },
   {
    "duration": 237,
    "start_time": "2021-10-11T15:55:05.220Z"
   },
   {
    "duration": 234,
    "start_time": "2021-10-11T15:58:49.654Z"
   },
   {
    "duration": 236,
    "start_time": "2021-10-11T16:00:05.562Z"
   },
   {
    "duration": 234,
    "start_time": "2021-10-11T16:00:15.579Z"
   },
   {
    "duration": 801,
    "start_time": "2021-10-11T16:00:34.972Z"
   },
   {
    "duration": 232,
    "start_time": "2021-10-11T16:02:14.546Z"
   },
   {
    "duration": 266,
    "start_time": "2021-10-11T16:06:07.355Z"
   },
   {
    "duration": 228,
    "start_time": "2021-10-11T16:08:16.859Z"
   },
   {
    "duration": 315,
    "start_time": "2021-10-11T16:12:32.658Z"
   },
   {
    "duration": 9,
    "start_time": "2021-10-11T16:13:28.950Z"
   },
   {
    "duration": 104,
    "start_time": "2021-10-11T19:53:54.920Z"
   },
   {
    "duration": 114,
    "start_time": "2021-10-11T19:54:45.483Z"
   },
   {
    "duration": 78,
    "start_time": "2021-10-11T19:57:43.125Z"
   },
   {
    "duration": 82,
    "start_time": "2021-10-11T20:02:09.169Z"
   },
   {
    "duration": 4,
    "start_time": "2021-10-11T20:02:49.896Z"
   },
   {
    "duration": 8,
    "start_time": "2021-10-11T20:25:26.035Z"
   },
   {
    "duration": 14,
    "start_time": "2021-10-11T20:25:26.129Z"
   },
   {
    "duration": 14,
    "start_time": "2021-10-11T20:26:35.751Z"
   },
   {
    "duration": 8,
    "start_time": "2021-10-11T20:26:49.364Z"
   },
   {
    "duration": 222,
    "start_time": "2021-10-11T20:39:47.805Z"
   },
   {
    "duration": 239,
    "start_time": "2021-10-11T20:43:00.178Z"
   },
   {
    "duration": 264,
    "start_time": "2021-10-11T20:48:25.956Z"
   },
   {
    "duration": 236,
    "start_time": "2021-10-11T20:50:20.966Z"
   },
   {
    "duration": 230,
    "start_time": "2021-10-11T20:50:44.452Z"
   },
   {
    "duration": 236,
    "start_time": "2021-10-11T20:51:00.929Z"
   },
   {
    "duration": 226,
    "start_time": "2021-10-11T20:51:37.795Z"
   },
   {
    "duration": 212,
    "start_time": "2021-10-11T20:53:28.097Z"
   },
   {
    "duration": 216,
    "start_time": "2021-10-11T20:53:51.803Z"
   },
   {
    "duration": 50,
    "start_time": "2021-10-11T20:54:34.373Z"
   },
   {
    "duration": 46,
    "start_time": "2021-10-11T20:56:28.820Z"
   },
   {
    "duration": 354,
    "start_time": "2021-10-11T21:43:27.705Z"
   },
   {
    "duration": 5,
    "start_time": "2021-10-11T21:43:46.221Z"
   },
   {
    "duration": 176,
    "start_time": "2021-10-12T10:02:02.937Z"
   },
   {
    "duration": 453,
    "start_time": "2021-10-12T10:24:49.209Z"
   },
   {
    "duration": 3,
    "start_time": "2021-10-12T10:37:04.444Z"
   },
   {
    "duration": 146,
    "start_time": "2021-10-12T10:38:01.379Z"
   },
   {
    "duration": 3,
    "start_time": "2021-10-12T10:49:17.348Z"
   },
   {
    "duration": 132,
    "start_time": "2021-10-12T10:49:26.695Z"
   },
   {
    "duration": 142,
    "start_time": "2021-10-12T10:51:10.009Z"
   },
   {
    "duration": 1152,
    "start_time": "2021-10-12T10:54:21.133Z"
   },
   {
    "duration": 138,
    "start_time": "2021-10-12T11:00:50.923Z"
   },
   {
    "duration": 4,
    "start_time": "2021-10-12T11:10:21.265Z"
   },
   {
    "duration": 139,
    "start_time": "2021-10-12T11:10:29.402Z"
   },
   {
    "duration": 146,
    "start_time": "2021-10-12T11:17:08.385Z"
   },
   {
    "duration": 267,
    "start_time": "2021-10-12T11:25:24.279Z"
   },
   {
    "duration": 272,
    "start_time": "2021-10-12T11:29:09.163Z"
   },
   {
    "duration": 301,
    "start_time": "2021-10-12T11:29:26.900Z"
   },
   {
    "duration": 3,
    "start_time": "2021-10-12T11:29:34.310Z"
   },
   {
    "duration": 521,
    "start_time": "2021-10-12T11:29:37.526Z"
   },
   {
    "duration": 350,
    "start_time": "2021-10-12T11:31:42.072Z"
   },
   {
    "duration": 510,
    "start_time": "2021-10-12T11:38:08.143Z"
   },
   {
    "duration": 135,
    "start_time": "2021-10-12T11:46:59.439Z"
   },
   {
    "duration": 3,
    "start_time": "2021-10-12T11:59:37.335Z"
   },
   {
    "duration": 293,
    "start_time": "2021-10-12T11:59:41.859Z"
   },
   {
    "duration": 4,
    "start_time": "2021-10-12T12:10:29.895Z"
   },
   {
    "duration": 257,
    "start_time": "2021-10-12T12:10:36.277Z"
   },
   {
    "duration": 254,
    "start_time": "2021-10-12T12:10:44.406Z"
   },
   {
    "duration": 4,
    "start_time": "2021-10-12T12:15:12.430Z"
   },
   {
    "duration": 265,
    "start_time": "2021-10-12T12:15:15.498Z"
   },
   {
    "duration": 46,
    "start_time": "2021-10-12T12:15:47.204Z"
   },
   {
    "duration": 3,
    "start_time": "2021-10-12T12:16:00.305Z"
   },
   {
    "duration": 291,
    "start_time": "2021-10-12T12:16:11.093Z"
   },
   {
    "duration": 3,
    "start_time": "2021-10-12T12:16:41.059Z"
   },
   {
    "duration": 282,
    "start_time": "2021-10-12T12:16:43.127Z"
   },
   {
    "duration": 273,
    "start_time": "2021-10-12T12:16:48.591Z"
   },
   {
    "duration": 3,
    "start_time": "2021-10-12T12:17:34.154Z"
   },
   {
    "duration": 258,
    "start_time": "2021-10-12T12:17:36.838Z"
   },
   {
    "duration": 218,
    "start_time": "2021-10-12T12:26:31.161Z"
   },
   {
    "duration": 3,
    "start_time": "2021-10-12T12:26:36.926Z"
   },
   {
    "duration": 295,
    "start_time": "2021-10-12T12:26:48.559Z"
   },
   {
    "duration": 3,
    "start_time": "2021-10-12T12:27:32.569Z"
   },
   {
    "duration": 3,
    "start_time": "2021-10-12T12:27:59.395Z"
   },
   {
    "duration": 263,
    "start_time": "2021-10-12T12:28:01.711Z"
   },
   {
    "duration": 3,
    "start_time": "2021-10-12T12:28:11.083Z"
   },
   {
    "duration": 352,
    "start_time": "2021-10-12T12:28:16.996Z"
   },
   {
    "duration": 3,
    "start_time": "2021-10-12T12:59:25.338Z"
   },
   {
    "duration": 393,
    "start_time": "2021-10-12T12:59:32.639Z"
   },
   {
    "duration": 3,
    "start_time": "2021-10-12T13:01:57.740Z"
   },
   {
    "duration": 257,
    "start_time": "2021-10-12T13:01:59.711Z"
   },
   {
    "duration": 260,
    "start_time": "2021-10-12T13:02:04.223Z"
   },
   {
    "duration": 3,
    "start_time": "2021-10-12T13:33:37.311Z"
   },
   {
    "duration": 292,
    "start_time": "2021-10-12T13:33:45.855Z"
   },
   {
    "duration": 3,
    "start_time": "2021-10-12T13:34:05.924Z"
   },
   {
    "duration": 348,
    "start_time": "2021-10-12T13:34:11.000Z"
   },
   {
    "duration": 4,
    "start_time": "2021-10-12T13:35:36.697Z"
   },
   {
    "duration": 278,
    "start_time": "2021-10-12T13:35:40.214Z"
   },
   {
    "duration": 271,
    "start_time": "2021-10-12T14:46:19.558Z"
   },
   {
    "duration": 4,
    "start_time": "2021-10-12T14:46:39.683Z"
   },
   {
    "duration": 294,
    "start_time": "2021-10-12T14:46:48.919Z"
   },
   {
    "duration": 4,
    "start_time": "2021-10-12T14:46:55.790Z"
   },
   {
    "duration": 292,
    "start_time": "2021-10-12T14:47:49.107Z"
   },
   {
    "duration": 564,
    "start_time": "2021-10-12T14:58:02.779Z"
   },
   {
    "duration": 130,
    "start_time": "2021-10-12T14:58:03.345Z"
   },
   {
    "duration": 24,
    "start_time": "2021-10-12T14:58:03.477Z"
   },
   {
    "duration": 23,
    "start_time": "2021-10-12T14:58:03.502Z"
   },
   {
    "duration": 16,
    "start_time": "2021-10-12T14:58:03.527Z"
   },
   {
    "duration": 34,
    "start_time": "2021-10-12T14:58:03.545Z"
   },
   {
    "duration": 13,
    "start_time": "2021-10-12T14:58:03.581Z"
   },
   {
    "duration": 36,
    "start_time": "2021-10-12T14:58:03.597Z"
   },
   {
    "duration": 16,
    "start_time": "2021-10-12T14:58:03.635Z"
   },
   {
    "duration": 21,
    "start_time": "2021-10-12T14:58:03.652Z"
   },
   {
    "duration": 63,
    "start_time": "2021-10-12T14:58:03.675Z"
   },
   {
    "duration": 75,
    "start_time": "2021-10-12T14:58:03.740Z"
   },
   {
    "duration": 48,
    "start_time": "2021-10-12T14:58:03.817Z"
   },
   {
    "duration": 6,
    "start_time": "2021-10-12T14:58:03.867Z"
   },
   {
    "duration": 25,
    "start_time": "2021-10-12T14:58:03.874Z"
   },
   {
    "duration": 11,
    "start_time": "2021-10-12T14:58:03.901Z"
   },
   {
    "duration": 19,
    "start_time": "2021-10-12T14:58:03.913Z"
   },
   {
    "duration": 45,
    "start_time": "2021-10-12T14:58:03.934Z"
   },
   {
    "duration": 27,
    "start_time": "2021-10-12T14:58:03.981Z"
   },
   {
    "duration": 10,
    "start_time": "2021-10-12T14:58:04.010Z"
   },
   {
    "duration": 4,
    "start_time": "2021-10-12T16:07:22.883Z"
   },
   {
    "duration": 1971,
    "start_time": "2021-10-12T16:07:28.107Z"
   },
   {
    "duration": 4,
    "start_time": "2021-10-12T16:08:12.348Z"
   },
   {
    "duration": 2594,
    "start_time": "2021-10-12T16:08:15.683Z"
   },
   {
    "duration": 4,
    "start_time": "2021-10-12T17:09:00.658Z"
   },
   {
    "duration": 1818,
    "start_time": "2021-10-12T17:09:05.505Z"
   },
   {
    "duration": 4,
    "start_time": "2021-10-12T17:15:59.214Z"
   },
   {
    "duration": 266,
    "start_time": "2021-10-12T17:16:03.191Z"
   },
   {
    "duration": 3,
    "start_time": "2021-10-12T17:24:36.157Z"
   },
   {
    "duration": 3437,
    "start_time": "2021-10-12T17:24:39.593Z"
   },
   {
    "duration": 3,
    "start_time": "2021-10-12T17:26:37.406Z"
   },
   {
    "duration": 3452,
    "start_time": "2021-10-12T17:26:41.222Z"
   },
   {
    "duration": 8,
    "start_time": "2021-10-12T17:30:22.977Z"
   },
   {
    "duration": 9,
    "start_time": "2021-10-12T17:30:26.642Z"
   },
   {
    "duration": 44,
    "start_time": "2021-10-12T17:33:27.151Z"
   },
   {
    "duration": 3,
    "start_time": "2021-10-12T17:34:07.850Z"
   },
   {
    "duration": 16,
    "start_time": "2021-10-12T17:34:11.854Z"
   },
   {
    "duration": 16,
    "start_time": "2021-10-12T17:36:23.794Z"
   },
   {
    "duration": 15,
    "start_time": "2021-10-12T17:37:08.284Z"
   },
   {
    "duration": 15,
    "start_time": "2021-10-12T17:39:03.056Z"
   },
   {
    "duration": 16,
    "start_time": "2021-10-12T17:39:04.844Z"
   },
   {
    "duration": 19,
    "start_time": "2021-10-12T17:39:06.572Z"
   },
   {
    "duration": 159,
    "start_time": "2021-10-12T17:54:03.709Z"
   },
   {
    "duration": 140,
    "start_time": "2021-10-12T17:55:08.102Z"
   },
   {
    "duration": 160,
    "start_time": "2021-10-12T17:56:20.730Z"
   },
   {
    "duration": 154,
    "start_time": "2021-10-12T17:57:19.649Z"
   },
   {
    "duration": 151,
    "start_time": "2021-10-12T17:58:01.987Z"
   },
   {
    "duration": 135,
    "start_time": "2021-10-12T17:59:03.466Z"
   },
   {
    "duration": 598,
    "start_time": "2021-10-12T18:05:07.328Z"
   },
   {
    "duration": 171,
    "start_time": "2021-10-12T18:05:52.454Z"
   },
   {
    "duration": 130,
    "start_time": "2021-10-12T18:07:50.177Z"
   },
   {
    "duration": 158,
    "start_time": "2021-10-12T18:13:45.222Z"
   },
   {
    "duration": 148,
    "start_time": "2021-10-12T18:15:06.864Z"
   },
   {
    "duration": 42,
    "start_time": "2021-10-12T18:31:59.706Z"
   },
   {
    "duration": 63,
    "start_time": "2021-10-12T18:33:11.906Z"
   },
   {
    "duration": 52,
    "start_time": "2021-10-12T18:33:22.892Z"
   },
   {
    "duration": 8,
    "start_time": "2021-10-12T18:33:49.873Z"
   },
   {
    "duration": 11,
    "start_time": "2021-10-12T18:44:35.256Z"
   },
   {
    "duration": 22,
    "start_time": "2021-10-12T18:45:29.499Z"
   },
   {
    "duration": 129,
    "start_time": "2021-10-12T18:45:42.672Z"
   },
   {
    "duration": 19,
    "start_time": "2021-10-12T18:46:38.803Z"
   },
   {
    "duration": 137,
    "start_time": "2021-10-12T18:59:41.465Z"
   },
   {
    "duration": 4,
    "start_time": "2021-10-12T19:00:12.903Z"
   },
   {
    "duration": 4,
    "start_time": "2021-10-12T19:23:47.421Z"
   },
   {
    "duration": 8,
    "start_time": "2021-10-12T19:25:09.287Z"
   },
   {
    "duration": 4,
    "start_time": "2021-10-12T19:32:05.286Z"
   },
   {
    "duration": 4,
    "start_time": "2021-10-12T19:36:58.676Z"
   },
   {
    "duration": 5,
    "start_time": "2021-10-13T09:48:34.329Z"
   },
   {
    "duration": 4,
    "start_time": "2021-10-13T10:09:24.231Z"
   },
   {
    "duration": 325,
    "start_time": "2021-10-13T10:21:50.516Z"
   },
   {
    "duration": 292,
    "start_time": "2021-10-13T10:22:08.460Z"
   },
   {
    "duration": 4,
    "start_time": "2021-10-13T10:22:50.101Z"
   },
   {
    "duration": 600,
    "start_time": "2021-10-13T10:22:52.087Z"
   },
   {
    "duration": 3,
    "start_time": "2021-10-13T10:23:48.294Z"
   },
   {
    "duration": 711,
    "start_time": "2021-10-13T10:23:55.875Z"
   },
   {
    "duration": 4,
    "start_time": "2021-10-13T10:27:38.082Z"
   },
   {
    "duration": 608,
    "start_time": "2021-10-13T10:27:47.006Z"
   },
   {
    "duration": 627,
    "start_time": "2021-10-13T10:29:32.272Z"
   },
   {
    "duration": 861,
    "start_time": "2021-10-13T10:31:07.686Z"
   },
   {
    "duration": 4,
    "start_time": "2021-10-13T10:39:05.830Z"
   },
   {
    "duration": 665,
    "start_time": "2021-10-13T10:39:09.249Z"
   },
   {
    "duration": 603,
    "start_time": "2021-10-13T10:39:54.584Z"
   },
   {
    "duration": 300,
    "start_time": "2021-10-13T10:40:11.537Z"
   },
   {
    "duration": 316,
    "start_time": "2021-10-13T10:40:26.850Z"
   },
   {
    "duration": 611,
    "start_time": "2021-10-13T10:40:41.238Z"
   },
   {
    "duration": 3,
    "start_time": "2021-10-13T10:40:53.720Z"
   },
   {
    "duration": 579,
    "start_time": "2021-10-13T10:40:55.861Z"
   },
   {
    "duration": 4,
    "start_time": "2021-10-13T10:41:06.288Z"
   },
   {
    "duration": 298,
    "start_time": "2021-10-13T10:41:08.849Z"
   },
   {
    "duration": 3,
    "start_time": "2021-10-13T10:41:21.901Z"
   },
   {
    "duration": 311,
    "start_time": "2021-10-13T10:41:27.417Z"
   },
   {
    "duration": 3,
    "start_time": "2021-10-13T10:42:18.456Z"
   },
   {
    "duration": 580,
    "start_time": "2021-10-13T10:42:21.885Z"
   },
   {
    "duration": 4,
    "start_time": "2021-10-13T10:43:36.198Z"
   },
   {
    "duration": 567,
    "start_time": "2021-10-13T10:43:38.898Z"
   },
   {
    "duration": 4,
    "start_time": "2021-10-13T10:49:00.188Z"
   },
   {
    "duration": 572,
    "start_time": "2021-10-13T10:49:02.728Z"
   },
   {
    "duration": 283,
    "start_time": "2021-10-13T10:54:03.189Z"
   },
   {
    "duration": 371,
    "start_time": "2021-10-13T11:11:35.252Z"
   },
   {
    "duration": 338,
    "start_time": "2021-10-13T11:14:37.971Z"
   },
   {
    "duration": 285,
    "start_time": "2021-10-13T11:17:32.642Z"
   },
   {
    "duration": 777,
    "start_time": "2021-10-13T11:17:44.477Z"
   },
   {
    "duration": 286,
    "start_time": "2021-10-13T11:17:54.574Z"
   },
   {
    "duration": 299,
    "start_time": "2021-10-13T11:29:14.295Z"
   },
   {
    "duration": 4,
    "start_time": "2021-10-13T11:34:19.032Z"
   },
   {
    "duration": 310,
    "start_time": "2021-10-13T11:34:23.219Z"
   },
   {
    "duration": 619,
    "start_time": "2021-10-13T11:43:02.308Z"
   },
   {
    "duration": 152,
    "start_time": "2021-10-13T11:43:02.929Z"
   },
   {
    "duration": 17,
    "start_time": "2021-10-13T11:43:03.084Z"
   },
   {
    "duration": 34,
    "start_time": "2021-10-13T11:43:03.103Z"
   },
   {
    "duration": 10,
    "start_time": "2021-10-13T11:43:03.139Z"
   },
   {
    "duration": 38,
    "start_time": "2021-10-13T11:43:03.151Z"
   },
   {
    "duration": 7,
    "start_time": "2021-10-13T11:43:03.191Z"
   },
   {
    "duration": 39,
    "start_time": "2021-10-13T11:43:03.201Z"
   },
   {
    "duration": 31,
    "start_time": "2021-10-13T11:43:03.242Z"
   },
   {
    "duration": 25,
    "start_time": "2021-10-13T11:43:03.275Z"
   },
   {
    "duration": 75,
    "start_time": "2021-10-13T11:43:03.302Z"
   },
   {
    "duration": 76,
    "start_time": "2021-10-13T11:43:03.379Z"
   },
   {
    "duration": 66,
    "start_time": "2021-10-13T11:43:03.457Z"
   },
   {
    "duration": 6,
    "start_time": "2021-10-13T11:43:03.525Z"
   },
   {
    "duration": 9,
    "start_time": "2021-10-13T11:43:03.532Z"
   },
   {
    "duration": 22,
    "start_time": "2021-10-13T11:43:03.543Z"
   },
   {
    "duration": 22,
    "start_time": "2021-10-13T11:43:03.567Z"
   },
   {
    "duration": 37,
    "start_time": "2021-10-13T11:43:03.591Z"
   },
   {
    "duration": 43,
    "start_time": "2021-10-13T11:43:03.630Z"
   },
   {
    "duration": 5,
    "start_time": "2021-10-13T11:43:03.677Z"
   },
   {
    "duration": 19,
    "start_time": "2021-10-13T11:43:15.074Z"
   },
   {
    "duration": 315,
    "start_time": "2021-10-13T11:44:14.372Z"
   },
   {
    "duration": 5,
    "start_time": "2021-10-13T11:44:17.782Z"
   },
   {
    "duration": 292,
    "start_time": "2021-10-13T11:44:22.463Z"
   },
   {
    "duration": 601,
    "start_time": "2021-10-13T11:48:58.442Z"
   },
   {
    "duration": 5,
    "start_time": "2021-10-13T11:52:27.415Z"
   },
   {
    "duration": 23,
    "start_time": "2021-10-13T11:52:31.288Z"
   },
   {
    "duration": 4,
    "start_time": "2021-10-13T11:55:03.197Z"
   },
   {
    "duration": 25,
    "start_time": "2021-10-13T11:55:06.514Z"
   },
   {
    "duration": 4,
    "start_time": "2021-10-13T11:55:55.983Z"
   },
   {
    "duration": 26,
    "start_time": "2021-10-13T11:56:01.184Z"
   },
   {
    "duration": 21,
    "start_time": "2021-10-13T11:56:06.608Z"
   },
   {
    "duration": 5,
    "start_time": "2021-10-13T11:56:20.785Z"
   },
   {
    "duration": 4,
    "start_time": "2021-10-13T11:58:08.600Z"
   },
   {
    "duration": 25,
    "start_time": "2021-10-13T11:58:11.451Z"
   },
   {
    "duration": 4,
    "start_time": "2021-10-13T11:59:34.628Z"
   },
   {
    "duration": 20,
    "start_time": "2021-10-13T11:59:37.560Z"
   },
   {
    "duration": 5,
    "start_time": "2021-10-13T12:04:01.059Z"
   },
   {
    "duration": 752,
    "start_time": "2021-10-13T12:04:04.631Z"
   },
   {
    "duration": 4,
    "start_time": "2021-10-13T12:07:44.489Z"
   },
   {
    "duration": 21,
    "start_time": "2021-10-13T12:07:48.358Z"
   },
   {
    "duration": 4,
    "start_time": "2021-10-13T12:08:46.164Z"
   },
   {
    "duration": 25,
    "start_time": "2021-10-13T12:08:48.840Z"
   },
   {
    "duration": 4,
    "start_time": "2021-10-13T12:09:16.157Z"
   },
   {
    "duration": 837,
    "start_time": "2021-10-13T12:09:18.178Z"
   },
   {
    "duration": 4,
    "start_time": "2021-10-13T12:09:43.384Z"
   },
   {
    "duration": 611,
    "start_time": "2021-10-13T12:09:45.774Z"
   },
   {
    "duration": 4,
    "start_time": "2021-10-13T12:10:04.352Z"
   },
   {
    "duration": 1451,
    "start_time": "2021-10-13T12:10:06.673Z"
   },
   {
    "duration": 5,
    "start_time": "2021-10-13T12:10:25.798Z"
   },
   {
    "duration": 22,
    "start_time": "2021-10-13T12:10:27.984Z"
   },
   {
    "duration": 22,
    "start_time": "2021-10-13T12:10:29.586Z"
   },
   {
    "duration": 4,
    "start_time": "2021-10-13T12:10:43.678Z"
   },
   {
    "duration": 688,
    "start_time": "2021-10-13T12:10:45.927Z"
   },
   {
    "duration": 3,
    "start_time": "2021-10-13T12:10:56.924Z"
   },
   {
    "duration": 21,
    "start_time": "2021-10-13T12:10:59.224Z"
   },
   {
    "duration": 308,
    "start_time": "2021-10-13T12:14:55.194Z"
   },
   {
    "duration": 3,
    "start_time": "2021-10-13T12:15:41.054Z"
   },
   {
    "duration": 19,
    "start_time": "2021-10-13T12:15:46.365Z"
   },
   {
    "duration": 4,
    "start_time": "2021-10-13T12:15:53.989Z"
   },
   {
    "duration": 4,
    "start_time": "2021-10-13T12:16:41.396Z"
   },
   {
    "duration": 28,
    "start_time": "2021-10-13T12:16:46.128Z"
   },
   {
    "duration": 4,
    "start_time": "2021-10-13T12:19:30.802Z"
   },
   {
    "duration": 24,
    "start_time": "2021-10-13T12:19:33.686Z"
   },
   {
    "duration": 3,
    "start_time": "2021-10-13T12:20:10.941Z"
   },
   {
    "duration": 24,
    "start_time": "2021-10-13T12:20:13.906Z"
   },
   {
    "duration": 4,
    "start_time": "2021-10-13T12:21:30.654Z"
   },
   {
    "duration": 30,
    "start_time": "2021-10-13T12:21:33.130Z"
   },
   {
    "duration": 5,
    "start_time": "2021-10-13T12:25:29.359Z"
   },
   {
    "duration": 634,
    "start_time": "2021-10-13T12:25:31.883Z"
   },
   {
    "duration": 4,
    "start_time": "2021-10-13T12:26:44.456Z"
   },
   {
    "duration": 611,
    "start_time": "2021-10-13T12:26:46.700Z"
   },
   {
    "duration": 6,
    "start_time": "2021-10-13T12:28:59.029Z"
   },
   {
    "duration": 28,
    "start_time": "2021-10-13T12:29:01.600Z"
   },
   {
    "duration": 4,
    "start_time": "2021-10-13T12:30:14.585Z"
   },
   {
    "duration": 27,
    "start_time": "2021-10-13T12:30:16.732Z"
   },
   {
    "duration": 4,
    "start_time": "2021-10-13T12:34:20.043Z"
   },
   {
    "duration": 28,
    "start_time": "2021-10-13T12:34:22.319Z"
   },
   {
    "duration": 5,
    "start_time": "2021-10-13T12:37:04.493Z"
   },
   {
    "duration": 27,
    "start_time": "2021-10-13T12:37:06.944Z"
   },
   {
    "duration": 4,
    "start_time": "2021-10-13T12:37:23.997Z"
   },
   {
    "duration": 29,
    "start_time": "2021-10-13T12:37:26.353Z"
   },
   {
    "duration": 5,
    "start_time": "2021-10-13T12:37:52.427Z"
   },
   {
    "duration": 29,
    "start_time": "2021-10-13T12:37:54.612Z"
   },
   {
    "duration": 11,
    "start_time": "2021-10-13T12:44:20.727Z"
   },
   {
    "duration": 5,
    "start_time": "2021-10-13T12:44:29.802Z"
   },
   {
    "duration": 12,
    "start_time": "2021-10-13T12:44:35.163Z"
   },
   {
    "duration": 36,
    "start_time": "2021-10-13T12:53:22.566Z"
   },
   {
    "duration": 5,
    "start_time": "2021-10-13T14:38:01.930Z"
   },
   {
    "duration": 31,
    "start_time": "2021-10-13T14:38:04.614Z"
   },
   {
    "duration": 29,
    "start_time": "2021-10-13T14:38:40.664Z"
   },
   {
    "duration": 4,
    "start_time": "2021-10-13T14:38:45.193Z"
   },
   {
    "duration": 28,
    "start_time": "2021-10-13T14:38:49.004Z"
   },
   {
    "duration": 4,
    "start_time": "2021-10-13T14:38:56.473Z"
   },
   {
    "duration": 29,
    "start_time": "2021-10-13T14:38:59.525Z"
   },
   {
    "duration": 5,
    "start_time": "2021-10-13T14:39:14.535Z"
   },
   {
    "duration": 29,
    "start_time": "2021-10-13T14:39:16.558Z"
   },
   {
    "duration": 30,
    "start_time": "2021-10-13T14:39:20.318Z"
   },
   {
    "duration": 4,
    "start_time": "2021-10-13T14:51:32.823Z"
   },
   {
    "duration": 24,
    "start_time": "2021-10-13T14:51:36.998Z"
   },
   {
    "duration": 18,
    "start_time": "2021-10-13T14:51:46.851Z"
   },
   {
    "duration": 4,
    "start_time": "2021-10-13T14:54:48.617Z"
   },
   {
    "duration": 637,
    "start_time": "2021-10-13T14:54:58.378Z"
   },
   {
    "duration": 4,
    "start_time": "2021-10-13T14:55:23.235Z"
   },
   {
    "duration": 621,
    "start_time": "2021-10-13T14:55:25.976Z"
   },
   {
    "duration": 4,
    "start_time": "2021-10-13T14:56:41.093Z"
   },
   {
    "duration": 20,
    "start_time": "2021-10-13T14:56:43.520Z"
   },
   {
    "duration": 13,
    "start_time": "2021-10-13T14:56:57.248Z"
   },
   {
    "duration": 4,
    "start_time": "2021-10-13T15:01:26.437Z"
   },
   {
    "duration": 18,
    "start_time": "2021-10-13T15:01:27.850Z"
   },
   {
    "duration": 14,
    "start_time": "2021-10-13T15:01:31.060Z"
   },
   {
    "duration": 19,
    "start_time": "2021-10-13T15:02:28.305Z"
   },
   {
    "duration": 20,
    "start_time": "2021-10-13T15:06:51.959Z"
   },
   {
    "duration": 14,
    "start_time": "2021-10-13T15:07:32.665Z"
   },
   {
    "duration": 21,
    "start_time": "2021-10-13T15:11:13.226Z"
   },
   {
    "duration": 15,
    "start_time": "2021-10-13T15:11:18.590Z"
   },
   {
    "duration": 9,
    "start_time": "2021-10-13T15:27:02.845Z"
   },
   {
    "duration": 5,
    "start_time": "2021-10-13T15:28:37.610Z"
   },
   {
    "duration": 6,
    "start_time": "2021-10-13T19:12:21.211Z"
   },
   {
    "duration": 4,
    "start_time": "2021-10-13T19:12:59.416Z"
   },
   {
    "duration": 414,
    "start_time": "2021-10-13T19:44:00.394Z"
   },
   {
    "duration": 542,
    "start_time": "2021-10-13T19:44:27.428Z"
   },
   {
    "duration": 130,
    "start_time": "2021-10-13T19:44:27.972Z"
   },
   {
    "duration": 17,
    "start_time": "2021-10-13T19:44:28.104Z"
   },
   {
    "duration": 24,
    "start_time": "2021-10-13T19:44:28.123Z"
   },
   {
    "duration": 6,
    "start_time": "2021-10-13T19:44:28.148Z"
   },
   {
    "duration": 20,
    "start_time": "2021-10-13T19:44:28.177Z"
   },
   {
    "duration": 4,
    "start_time": "2021-10-13T19:44:28.198Z"
   },
   {
    "duration": 21,
    "start_time": "2021-10-13T19:44:28.205Z"
   },
   {
    "duration": 16,
    "start_time": "2021-10-13T19:44:28.228Z"
   },
   {
    "duration": 51,
    "start_time": "2021-10-13T19:44:28.246Z"
   },
   {
    "duration": 52,
    "start_time": "2021-10-13T19:44:28.299Z"
   },
   {
    "duration": 70,
    "start_time": "2021-10-13T19:44:28.353Z"
   },
   {
    "duration": 52,
    "start_time": "2021-10-13T19:44:28.425Z"
   },
   {
    "duration": 5,
    "start_time": "2021-10-13T19:44:28.479Z"
   },
   {
    "duration": 4,
    "start_time": "2021-10-13T19:44:28.486Z"
   },
   {
    "duration": 11,
    "start_time": "2021-10-13T19:44:28.492Z"
   },
   {
    "duration": 5,
    "start_time": "2021-10-13T19:44:28.505Z"
   },
   {
    "duration": 29,
    "start_time": "2021-10-13T19:44:31.987Z"
   },
   {
    "duration": 3,
    "start_time": "2021-10-13T19:47:28.816Z"
   },
   {
    "duration": 141,
    "start_time": "2021-10-13T19:47:28.823Z"
   },
   {
    "duration": 10,
    "start_time": "2021-10-13T19:47:28.977Z"
   },
   {
    "duration": 31,
    "start_time": "2021-10-13T19:47:28.989Z"
   },
   {
    "duration": 13,
    "start_time": "2021-10-13T19:47:29.022Z"
   },
   {
    "duration": 47,
    "start_time": "2021-10-13T19:47:29.036Z"
   },
   {
    "duration": 4,
    "start_time": "2021-10-13T19:47:29.085Z"
   },
   {
    "duration": 27,
    "start_time": "2021-10-13T19:47:29.091Z"
   },
   {
    "duration": 20,
    "start_time": "2021-10-13T19:47:29.120Z"
   },
   {
    "duration": 24,
    "start_time": "2021-10-13T19:47:29.142Z"
   },
   {
    "duration": 51,
    "start_time": "2021-10-13T19:47:29.177Z"
   },
   {
    "duration": 68,
    "start_time": "2021-10-13T19:47:29.230Z"
   },
   {
    "duration": 47,
    "start_time": "2021-10-13T19:47:29.300Z"
   },
   {
    "duration": 11,
    "start_time": "2021-10-13T19:47:29.349Z"
   },
   {
    "duration": 16,
    "start_time": "2021-10-13T19:47:29.361Z"
   },
   {
    "duration": 10,
    "start_time": "2021-10-13T19:47:29.379Z"
   },
   {
    "duration": 7,
    "start_time": "2021-10-13T19:47:29.391Z"
   },
   {
    "duration": 28,
    "start_time": "2021-10-13T19:47:29.400Z"
   },
   {
    "duration": 47,
    "start_time": "2021-10-13T19:47:29.430Z"
   },
   {
    "duration": 3,
    "start_time": "2021-10-13T19:47:29.478Z"
   },
   {
    "duration": 19,
    "start_time": "2021-10-13T19:47:29.483Z"
   },
   {
    "duration": 12,
    "start_time": "2021-10-13T19:47:29.503Z"
   },
   {
    "duration": 12,
    "start_time": "2021-10-13T19:47:29.517Z"
   },
   {
    "duration": 12,
    "start_time": "2021-10-13T19:47:29.533Z"
   },
   {
    "duration": 44,
    "start_time": "2021-10-13T19:47:29.547Z"
   },
   {
    "duration": 14,
    "start_time": "2021-10-13T19:47:29.593Z"
   },
   {
    "duration": 14,
    "start_time": "2021-10-13T19:47:29.609Z"
   },
   {
    "duration": 33,
    "start_time": "2021-10-13T19:47:29.625Z"
   },
   {
    "duration": 27,
    "start_time": "2021-10-13T19:47:29.660Z"
   },
   {
    "duration": 3,
    "start_time": "2021-10-13T19:47:29.689Z"
   },
   {
    "duration": 40,
    "start_time": "2021-10-13T19:47:29.694Z"
   },
   {
    "duration": 26,
    "start_time": "2021-10-13T19:47:29.736Z"
   },
   {
    "duration": 23,
    "start_time": "2021-10-13T19:47:29.763Z"
   },
   {
    "duration": 24,
    "start_time": "2021-10-13T19:47:29.787Z"
   },
   {
    "duration": 12,
    "start_time": "2021-10-13T19:47:29.813Z"
   },
   {
    "duration": 20,
    "start_time": "2021-10-13T19:47:29.827Z"
   },
   {
    "duration": 16,
    "start_time": "2021-10-13T19:47:29.849Z"
   },
   {
    "duration": 4,
    "start_time": "2021-10-13T19:47:39.769Z"
   },
   {
    "duration": 284,
    "start_time": "2021-10-14T16:32:17.041Z"
   },
   {
    "duration": 541,
    "start_time": "2021-10-14T16:32:20.279Z"
   },
   {
    "duration": 133,
    "start_time": "2021-10-14T16:32:20.822Z"
   },
   {
    "duration": 15,
    "start_time": "2021-10-14T16:32:20.957Z"
   },
   {
    "duration": 28,
    "start_time": "2021-10-14T16:32:20.973Z"
   },
   {
    "duration": 3,
    "start_time": "2021-10-14T16:32:21.003Z"
   },
   {
    "duration": 16,
    "start_time": "2021-10-14T16:32:21.008Z"
   },
   {
    "duration": 32,
    "start_time": "2021-10-14T16:32:21.026Z"
   },
   {
    "duration": 3,
    "start_time": "2021-10-14T16:32:21.061Z"
   },
   {
    "duration": 28,
    "start_time": "2021-10-14T16:32:21.066Z"
   },
   {
    "duration": 23,
    "start_time": "2021-10-14T16:32:21.095Z"
   },
   {
    "duration": 32,
    "start_time": "2021-10-14T16:32:21.120Z"
   },
   {
    "duration": 61,
    "start_time": "2021-10-14T16:32:21.153Z"
   },
   {
    "duration": 76,
    "start_time": "2021-10-14T16:32:21.216Z"
   },
   {
    "duration": 61,
    "start_time": "2021-10-14T16:32:21.294Z"
   },
   {
    "duration": 5,
    "start_time": "2021-10-14T16:32:21.357Z"
   },
   {
    "duration": 13,
    "start_time": "2021-10-14T16:32:21.364Z"
   },
   {
    "duration": 21,
    "start_time": "2021-10-14T16:32:21.379Z"
   },
   {
    "duration": 11,
    "start_time": "2021-10-14T16:32:21.402Z"
   },
   {
    "duration": 36,
    "start_time": "2021-10-14T16:32:21.415Z"
   },
   {
    "duration": 28,
    "start_time": "2021-10-14T16:32:21.453Z"
   },
   {
    "duration": 3,
    "start_time": "2021-10-14T16:32:21.483Z"
   },
   {
    "duration": 33,
    "start_time": "2021-10-14T16:32:21.488Z"
   },
   {
    "duration": 18,
    "start_time": "2021-10-14T16:32:21.524Z"
   },
   {
    "duration": 25,
    "start_time": "2021-10-14T16:32:21.545Z"
   },
   {
    "duration": 13,
    "start_time": "2021-10-14T16:32:21.572Z"
   },
   {
    "duration": 20,
    "start_time": "2021-10-14T16:32:21.587Z"
   },
   {
    "duration": 19,
    "start_time": "2021-10-14T16:32:21.609Z"
   },
   {
    "duration": 18,
    "start_time": "2021-10-14T16:32:21.629Z"
   },
   {
    "duration": 35,
    "start_time": "2021-10-14T16:32:21.649Z"
   },
   {
    "duration": 19,
    "start_time": "2021-10-14T16:32:21.686Z"
   },
   {
    "duration": 3,
    "start_time": "2021-10-14T16:32:21.707Z"
   },
   {
    "duration": 32,
    "start_time": "2021-10-14T16:32:21.712Z"
   },
   {
    "duration": 15,
    "start_time": "2021-10-14T16:32:21.746Z"
   },
   {
    "duration": 26,
    "start_time": "2021-10-14T16:32:21.763Z"
   },
   {
    "duration": 21,
    "start_time": "2021-10-14T16:32:21.790Z"
   },
   {
    "duration": 17,
    "start_time": "2021-10-14T16:32:21.813Z"
   },
   {
    "duration": 12,
    "start_time": "2021-10-14T16:32:21.832Z"
   },
   {
    "duration": 17,
    "start_time": "2021-10-14T16:32:21.845Z"
   },
   {
    "duration": 20,
    "start_time": "2021-10-14T16:32:21.864Z"
   },
   {
    "duration": 4,
    "start_time": "2021-10-14T16:32:36.927Z"
   },
   {
    "duration": 307,
    "start_time": "2021-10-14T16:33:05.666Z"
   },
   {
    "duration": 4,
    "start_time": "2021-10-14T16:33:33.295Z"
   },
   {
    "duration": 227,
    "start_time": "2021-10-15T08:52:19.896Z"
   },
   {
    "duration": 207,
    "start_time": "2021-10-15T08:52:24.070Z"
   },
   {
    "duration": 516,
    "start_time": "2021-10-15T08:52:37.620Z"
   },
   {
    "duration": 149,
    "start_time": "2021-10-15T08:52:38.138Z"
   },
   {
    "duration": 16,
    "start_time": "2021-10-15T08:52:38.292Z"
   },
   {
    "duration": 22,
    "start_time": "2021-10-15T08:52:38.309Z"
   },
   {
    "duration": 4,
    "start_time": "2021-10-15T08:52:38.333Z"
   },
   {
    "duration": 4,
    "start_time": "2021-10-15T08:52:40.576Z"
   },
   {
    "duration": 69,
    "start_time": "2021-10-15T09:05:26.526Z"
   },
   {
    "duration": 91,
    "start_time": "2021-10-15T09:05:31.013Z"
   },
   {
    "duration": 158,
    "start_time": "2021-10-15T09:05:40.830Z"
   },
   {
    "duration": 65,
    "start_time": "2021-10-15T09:06:21.667Z"
   },
   {
    "duration": 62,
    "start_time": "2021-10-15T09:07:52.152Z"
   },
   {
    "duration": 59,
    "start_time": "2021-10-15T09:07:53.829Z"
   },
   {
    "duration": 3,
    "start_time": "2021-10-15T09:07:59.045Z"
   },
   {
    "duration": 147,
    "start_time": "2021-10-15T09:07:59.051Z"
   },
   {
    "duration": 11,
    "start_time": "2021-10-15T09:07:59.200Z"
   },
   {
    "duration": 24,
    "start_time": "2021-10-15T09:07:59.212Z"
   },
   {
    "duration": 3,
    "start_time": "2021-10-15T09:07:59.238Z"
   },
   {
    "duration": 6,
    "start_time": "2021-10-15T09:07:59.243Z"
   },
   {
    "duration": 48,
    "start_time": "2021-10-15T09:07:59.250Z"
   },
   {
    "duration": 3,
    "start_time": "2021-10-15T09:07:59.300Z"
   },
   {
    "duration": 24,
    "start_time": "2021-10-15T09:07:59.305Z"
   },
   {
    "duration": 17,
    "start_time": "2021-10-15T09:07:59.330Z"
   },
   {
    "duration": 63,
    "start_time": "2021-10-15T09:08:01.088Z"
   },
   {
    "duration": 64,
    "start_time": "2021-10-15T09:08:09.850Z"
   },
   {
    "duration": 65,
    "start_time": "2021-10-15T09:10:41.552Z"
   },
   {
    "duration": 56,
    "start_time": "2021-10-15T09:10:42.622Z"
   },
   {
    "duration": 1739,
    "start_time": "2021-10-15T09:10:49.032Z"
   },
   {
    "duration": 62,
    "start_time": "2021-10-15T09:10:55.421Z"
   },
   {
    "duration": 71,
    "start_time": "2021-10-15T09:12:01.467Z"
   },
   {
    "duration": 62,
    "start_time": "2021-10-15T09:12:05.020Z"
   },
   {
    "duration": 60,
    "start_time": "2021-10-15T09:12:06.400Z"
   },
   {
    "duration": 80,
    "start_time": "2021-10-15T09:12:13.709Z"
   },
   {
    "duration": 65,
    "start_time": "2021-10-15T09:13:38.097Z"
   },
   {
    "duration": 211,
    "start_time": "2021-10-15T10:28:10.545Z"
   },
   {
    "duration": 536,
    "start_time": "2021-10-15T10:28:19.311Z"
   },
   {
    "duration": 125,
    "start_time": "2021-10-15T10:28:19.849Z"
   },
   {
    "duration": 16,
    "start_time": "2021-10-15T10:28:19.976Z"
   },
   {
    "duration": 24,
    "start_time": "2021-10-15T10:28:19.994Z"
   },
   {
    "duration": 3,
    "start_time": "2021-10-15T10:28:20.020Z"
   },
   {
    "duration": 12,
    "start_time": "2021-10-15T10:28:20.025Z"
   },
   {
    "duration": 24,
    "start_time": "2021-10-15T10:28:20.038Z"
   },
   {
    "duration": 27,
    "start_time": "2021-10-15T10:28:20.064Z"
   },
   {
    "duration": 37,
    "start_time": "2021-10-15T10:28:20.093Z"
   },
   {
    "duration": 17,
    "start_time": "2021-10-15T10:28:20.131Z"
   },
   {
    "duration": 19,
    "start_time": "2021-10-15T10:28:20.149Z"
   },
   {
    "duration": 74,
    "start_time": "2021-10-15T10:28:20.169Z"
   },
   {
    "duration": 73,
    "start_time": "2021-10-15T10:28:20.245Z"
   },
   {
    "duration": 46,
    "start_time": "2021-10-15T10:28:20.319Z"
   },
   {
    "duration": 5,
    "start_time": "2021-10-15T10:28:20.366Z"
   },
   {
    "duration": 5,
    "start_time": "2021-10-15T10:28:20.373Z"
   },
   {
    "duration": 9,
    "start_time": "2021-10-15T10:28:20.391Z"
   },
   {
    "duration": 6,
    "start_time": "2021-10-15T10:28:20.401Z"
   },
   {
    "duration": 11,
    "start_time": "2021-10-15T10:28:23.059Z"
   },
   {
    "duration": 10,
    "start_time": "2021-10-15T10:30:42.956Z"
   },
   {
    "duration": 201,
    "start_time": "2021-10-15T10:35:56.596Z"
   },
   {
    "duration": 3,
    "start_time": "2021-10-15T10:36:01.801Z"
   },
   {
    "duration": 187,
    "start_time": "2021-10-15T10:36:01.806Z"
   },
   {
    "duration": 14,
    "start_time": "2021-10-15T10:36:01.997Z"
   },
   {
    "duration": 25,
    "start_time": "2021-10-15T10:36:02.012Z"
   },
   {
    "duration": 17,
    "start_time": "2021-10-15T10:36:02.039Z"
   },
   {
    "duration": 14,
    "start_time": "2021-10-15T10:36:02.058Z"
   },
   {
    "duration": 26,
    "start_time": "2021-10-15T10:36:02.074Z"
   },
   {
    "duration": 4,
    "start_time": "2021-10-15T10:36:02.103Z"
   },
   {
    "duration": 24,
    "start_time": "2021-10-15T10:36:02.109Z"
   },
   {
    "duration": 20,
    "start_time": "2021-10-15T10:36:02.135Z"
   },
   {
    "duration": 36,
    "start_time": "2021-10-15T10:36:02.156Z"
   },
   {
    "duration": 56,
    "start_time": "2021-10-15T10:36:02.197Z"
   },
   {
    "duration": 78,
    "start_time": "2021-10-15T10:36:02.255Z"
   },
   {
    "duration": 61,
    "start_time": "2021-10-15T10:36:02.334Z"
   },
   {
    "duration": 16,
    "start_time": "2021-10-15T10:36:02.399Z"
   },
   {
    "duration": 11,
    "start_time": "2021-10-15T10:36:02.416Z"
   },
   {
    "duration": 15,
    "start_time": "2021-10-15T10:36:02.429Z"
   },
   {
    "duration": 16,
    "start_time": "2021-10-15T10:36:02.446Z"
   },
   {
    "duration": 19,
    "start_time": "2021-10-15T10:36:02.465Z"
   },
   {
    "duration": 22,
    "start_time": "2021-10-15T10:36:02.485Z"
   },
   {
    "duration": 6,
    "start_time": "2021-10-15T10:36:02.509Z"
   },
   {
    "duration": 53,
    "start_time": "2021-10-15T10:36:02.516Z"
   },
   {
    "duration": 12,
    "start_time": "2021-10-15T10:36:02.571Z"
   },
   {
    "duration": 28,
    "start_time": "2021-10-15T10:36:02.585Z"
   },
   {
    "duration": 21,
    "start_time": "2021-10-15T10:36:02.615Z"
   },
   {
    "duration": 27,
    "start_time": "2021-10-15T10:36:02.637Z"
   },
   {
    "duration": 14,
    "start_time": "2021-10-15T10:36:04.607Z"
   },
   {
    "duration": 19,
    "start_time": "2021-10-15T10:36:35.793Z"
   },
   {
    "duration": 25,
    "start_time": "2021-10-15T10:36:50.081Z"
   },
   {
    "duration": 17,
    "start_time": "2021-10-15T10:37:46.810Z"
   },
   {
    "duration": 15,
    "start_time": "2021-10-15T10:38:07.462Z"
   },
   {
    "duration": 17,
    "start_time": "2021-10-15T10:38:19.856Z"
   },
   {
    "duration": 8,
    "start_time": "2021-10-15T10:52:28.982Z"
   },
   {
    "duration": 922,
    "start_time": "2021-10-16T09:49:56.891Z"
   },
   {
    "duration": 222,
    "start_time": "2021-10-16T09:49:57.816Z"
   },
   {
    "duration": 25,
    "start_time": "2021-10-16T09:49:58.040Z"
   },
   {
    "duration": 52,
    "start_time": "2021-10-16T09:49:58.068Z"
   },
   {
    "duration": 24,
    "start_time": "2021-10-16T09:49:58.122Z"
   },
   {
    "duration": 26,
    "start_time": "2021-10-16T09:49:58.148Z"
   },
   {
    "duration": 41,
    "start_time": "2021-10-16T09:49:58.176Z"
   },
   {
    "duration": 23,
    "start_time": "2021-10-16T09:49:58.221Z"
   },
   {
    "duration": 41,
    "start_time": "2021-10-16T09:49:58.247Z"
   },
   {
    "duration": 44,
    "start_time": "2021-10-16T09:49:58.290Z"
   },
   {
    "duration": 32,
    "start_time": "2021-10-16T09:49:58.337Z"
   },
   {
    "duration": 100,
    "start_time": "2021-10-16T09:49:58.372Z"
   },
   {
    "duration": 105,
    "start_time": "2021-10-16T09:49:58.475Z"
   },
   {
    "duration": 85,
    "start_time": "2021-10-16T09:49:58.583Z"
   },
   {
    "duration": 8,
    "start_time": "2021-10-16T09:49:58.670Z"
   },
   {
    "duration": 7,
    "start_time": "2021-10-16T09:49:58.680Z"
   },
   {
    "duration": 36,
    "start_time": "2021-10-16T09:49:58.689Z"
   },
   {
    "duration": 12,
    "start_time": "2021-10-16T09:49:58.728Z"
   },
   {
    "duration": 15,
    "start_time": "2021-10-16T09:49:58.743Z"
   },
   {
    "duration": 14,
    "start_time": "2021-10-16T09:49:58.761Z"
   },
   {
    "duration": 5,
    "start_time": "2021-10-16T09:49:58.777Z"
   },
   {
    "duration": 59,
    "start_time": "2021-10-16T09:49:58.784Z"
   },
   {
    "duration": 20,
    "start_time": "2021-10-16T09:49:58.847Z"
   },
   {
    "duration": 20,
    "start_time": "2021-10-16T09:49:58.870Z"
   },
   {
    "duration": 47,
    "start_time": "2021-10-16T09:49:58.892Z"
   },
   {
    "duration": 33,
    "start_time": "2021-10-16T09:49:58.942Z"
   },
   {
    "duration": 18,
    "start_time": "2021-10-16T09:49:58.978Z"
   },
   {
    "duration": 68,
    "start_time": "2021-10-16T09:49:58.998Z"
   },
   {
    "duration": 26,
    "start_time": "2021-10-16T09:49:59.068Z"
   },
   {
    "duration": 49,
    "start_time": "2021-10-16T09:49:59.097Z"
   },
   {
    "duration": 25,
    "start_time": "2021-10-16T09:49:59.149Z"
   },
   {
    "duration": 6,
    "start_time": "2021-10-16T09:49:59.176Z"
   },
   {
    "duration": 46,
    "start_time": "2021-10-16T09:49:59.185Z"
   },
   {
    "duration": 30,
    "start_time": "2021-10-16T09:49:59.234Z"
   },
   {
    "duration": 28,
    "start_time": "2021-10-16T09:49:59.268Z"
   },
   {
    "duration": 37,
    "start_time": "2021-10-16T09:49:59.299Z"
   },
   {
    "duration": 15,
    "start_time": "2021-10-16T09:49:59.338Z"
   },
   {
    "duration": 18,
    "start_time": "2021-10-16T09:49:59.356Z"
   },
   {
    "duration": 25,
    "start_time": "2021-10-16T09:49:59.376Z"
   },
   {
    "duration": 18,
    "start_time": "2021-10-16T09:49:59.403Z"
   },
   {
    "duration": 90,
    "start_time": "2021-10-16T09:50:18.945Z"
   },
   {
    "duration": 310,
    "start_time": "2022-01-25T11:58:27.998Z"
   },
   {
    "duration": 765,
    "start_time": "2022-01-25T11:58:34.596Z"
   },
   {
    "duration": 273,
    "start_time": "2022-01-25T11:58:35.364Z"
   },
   {
    "duration": 36,
    "start_time": "2022-01-25T11:58:35.641Z"
   },
   {
    "duration": 58,
    "start_time": "2022-01-25T11:58:35.680Z"
   },
   {
    "duration": 6,
    "start_time": "2022-01-25T11:58:35.741Z"
   },
   {
    "duration": 44,
    "start_time": "2022-01-25T11:58:35.750Z"
   },
   {
    "duration": 6,
    "start_time": "2022-01-25T11:58:39.142Z"
   },
   {
    "duration": 686,
    "start_time": "2022-01-25T12:35:16.880Z"
   },
   {
    "duration": 183,
    "start_time": "2022-01-25T12:35:17.569Z"
   },
   {
    "duration": 27,
    "start_time": "2022-01-25T12:35:17.756Z"
   },
   {
    "duration": 60,
    "start_time": "2022-01-25T12:35:17.786Z"
   },
   {
    "duration": 4,
    "start_time": "2022-01-25T12:35:17.849Z"
   },
   {
    "duration": 29,
    "start_time": "2022-01-25T12:35:17.855Z"
   },
   {
    "duration": 8,
    "start_time": "2022-01-25T12:35:17.887Z"
   },
   {
    "duration": 58,
    "start_time": "2022-01-25T12:35:17.898Z"
   },
   {
    "duration": 21,
    "start_time": "2022-01-25T12:35:17.959Z"
   },
   {
    "duration": 58,
    "start_time": "2022-01-25T12:35:17.982Z"
   },
   {
    "duration": 100,
    "start_time": "2022-01-25T12:35:18.043Z"
   },
   {
    "duration": 113,
    "start_time": "2022-01-25T12:35:18.147Z"
   },
   {
    "duration": 89,
    "start_time": "2022-01-25T12:35:18.262Z"
   },
   {
    "duration": 9,
    "start_time": "2022-01-25T12:35:18.354Z"
   },
   {
    "duration": 5,
    "start_time": "2022-01-25T12:35:18.366Z"
   },
   {
    "duration": 16,
    "start_time": "2022-01-25T12:35:18.374Z"
   },
   {
    "duration": 46,
    "start_time": "2022-01-25T12:35:18.392Z"
   },
   {
    "duration": 17,
    "start_time": "2022-01-25T12:35:18.442Z"
   },
   {
    "duration": 13,
    "start_time": "2022-01-25T12:35:18.461Z"
   },
   {
    "duration": 5,
    "start_time": "2022-01-25T12:35:18.476Z"
   },
   {
    "duration": 63,
    "start_time": "2022-01-25T12:35:18.484Z"
   },
   {
    "duration": 22,
    "start_time": "2022-01-25T12:35:18.549Z"
   },
   {
    "duration": 19,
    "start_time": "2022-01-25T12:35:18.576Z"
   },
   {
    "duration": 47,
    "start_time": "2022-01-25T12:35:18.598Z"
   },
   {
    "duration": 22,
    "start_time": "2022-01-25T12:35:18.647Z"
   },
   {
    "duration": 18,
    "start_time": "2022-01-25T12:35:18.671Z"
   },
   {
    "duration": 116,
    "start_time": "2022-01-25T12:35:18.691Z"
   },
   {
    "duration": 11,
    "start_time": "2022-01-25T12:35:18.809Z"
   },
   {
    "duration": 27,
    "start_time": "2022-01-25T12:35:18.833Z"
   },
   {
    "duration": 27,
    "start_time": "2022-01-25T12:35:18.862Z"
   },
   {
    "duration": 5,
    "start_time": "2022-01-25T12:35:18.891Z"
   },
   {
    "duration": 56,
    "start_time": "2022-01-25T12:35:18.899Z"
   },
   {
    "duration": 14,
    "start_time": "2022-01-25T12:35:18.958Z"
   },
   {
    "duration": 57,
    "start_time": "2022-01-25T12:35:18.975Z"
   },
   {
    "duration": 17,
    "start_time": "2022-01-25T12:35:19.034Z"
   },
   {
    "duration": 11,
    "start_time": "2022-01-25T12:35:19.054Z"
   },
   {
    "duration": 6,
    "start_time": "2022-01-25T12:35:19.067Z"
   },
   {
    "duration": 9,
    "start_time": "2022-01-25T12:35:19.075Z"
   },
   {
    "duration": 49,
    "start_time": "2022-01-25T12:35:19.086Z"
   }
  ],
  "colab": {
   "collapsed_sections": [
    "E0vqbgi9ay0H",
    "VUC88oWjTJw2"
   ],
   "name": "yandex_music_project_2021.2.ipynb",
   "provenance": []
  },
  "kernelspec": {
   "display_name": "Python 3",
   "language": "python",
   "name": "python3"
  },
  "language_info": {
   "codemirror_mode": {
    "name": "ipython",
    "version": 3
   },
   "file_extension": ".py",
   "mimetype": "text/x-python",
   "name": "python",
   "nbconvert_exporter": "python",
   "pygments_lexer": "ipython3",
   "version": "3.7.8"
  },
  "toc": {
   "base_numbering": 1,
   "nav_menu": {},
   "number_sections": true,
   "sideBar": true,
   "skip_h1_title": true,
   "title_cell": "Table of Contents",
   "title_sidebar": "Contents",
   "toc_cell": false,
   "toc_position": {},
   "toc_section_display": true,
   "toc_window_display": true
  }
 },
 "nbformat": 4,
 "nbformat_minor": 1
}
