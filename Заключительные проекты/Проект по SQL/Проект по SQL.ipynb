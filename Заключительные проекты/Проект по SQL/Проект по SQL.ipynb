{
 "cells": [
  {
   "cell_type": "markdown",
   "metadata": {},
   "source": [
    "# Проект по SQL"
   ]
  },
  {
   "cell_type": "markdown",
   "metadata": {},
   "source": [
    "**Задача:** анализ базы данных с информацией о книгах, издательствах, авторах и пользовательских обзорах книг.\n",
    "\n",
    "**Цель исследования:** выводы, на основе которых можно сформулировать предложение для нового продукта.\n",
    "\n",
    "**Описание данных:**\n",
    "\n",
    "**Таблица `books`**\n",
    "\n",
    "Содержит данные о книгах:\n",
    "\n",
    "- `book_id` — идентификатор книги;\n",
    "- `author_id` — идентификатор автора;\n",
    "- `title` — название книги;\n",
    "- `num_pages` — количество страниц;\n",
    "- `publication_date` — дата публикации книги;\n",
    "- `publisher_id` — идентификатор издателя.\n",
    "\n",
    "**Таблица `authors`**\n",
    "\n",
    "Содержит данные об авторах:\n",
    "\n",
    "- `author_id` — идентификатор автора;\n",
    "- `author` — имя автора.\n",
    "\n",
    "**Таблица `publishers`**\n",
    "\n",
    "Содержит данные об издательствах:\n",
    "\n",
    "- `publisher_id` — идентификатор издательства;\n",
    "- `publisher` — название издательства;\n",
    "\n",
    "**Таблица `ratings`**\n",
    "\n",
    "Содержит данные о пользовательских оценках книг:\n",
    "\n",
    "- `rating_id` — идентификатор оценки;\n",
    "- `book_id` — идентификатор книги;\n",
    "- `username` — имя пользователя, оставившего оценку;\n",
    "- `rating` — оценка книги.\n",
    "\n",
    "**Таблица `reviews`**\n",
    "\n",
    "Содержит данные о пользовательских обзорах на книги:\n",
    "\n",
    "- `review_id` — идентификатор обзора;\n",
    "- `book_id` — идентификатор книги;\n",
    "- `username` — имя пользователя, написавшего обзор;\n",
    "- `text` — текст обзора."
   ]
  },
  {
   "cell_type": "markdown",
   "metadata": {},
   "source": [
    "**Импортируем нужные библиотеки и подключимся к БД:**"
   ]
  },
  {
   "cell_type": "code",
   "execution_count": 1,
   "metadata": {},
   "outputs": [],
   "source": [
    "import pandas as pd\n",
    "from sqlalchemy import create_engine\n",
    "\n",
    "# настроим полный вывод содержимого столбцов\n",
    "pd.options.display.max_colwidth = 150\n",
    "\n",
    "# устанавливаем параметры\n",
    "db_config = {'user': '****', # имя пользователя\n",
    " 'pwd': '****', # пароль\n",
    " 'host': '****',\n",
    " 'port': ****, # порт подключения\n",
    " 'db': '****'} # название базы данных\n",
    "\n",
    "connection_string = 'postgresql://{}:{}@{}:{}/{}'.format(db_config['user'],\n",
    " db_config['pwd'],\n",
    " db_config['host'],\n",
    " db_config['port'],\n",
    " db_config['db'])\n",
    "\n",
    "# сохраняем коннектор\n",
    "engine = create_engine(connection_string, connect_args={'sslmode':'require'}) "
   ]
  },
  {
   "cell_type": "markdown",
   "metadata": {},
   "source": [
    "Сформируем текст SQL-запроса и вызовем команду выполнения запроса, чтобы можно было вывести содержимое таблиц на экран:"
   ]
  },
  {
   "cell_type": "code",
   "execution_count": 2,
   "metadata": {},
   "outputs": [],
   "source": [
    "query = ''' SELECT *\n",
    "            FROM books\n",
    "        '''\n",
    "books = pd.io.sql.read_sql(query, con = engine)\n",
    "\n",
    "\n",
    "query = ''' SELECT *\n",
    "            FROM authors\n",
    "        '''\n",
    "authors = pd.io.sql.read_sql(query, con = engine)\n",
    "\n",
    "\n",
    "query = ''' SELECT *\n",
    "            FROM publishers\n",
    "        '''\n",
    "publishers = pd.io.sql.read_sql(query, con = engine)\n",
    "\n",
    "\n",
    "query = ''' SELECT *\n",
    "            FROM ratings\n",
    "        '''\n",
    "ratings = pd.io.sql.read_sql(query, con = engine)\n",
    "\n",
    "\n",
    "query = ''' SELECT *\n",
    "            FROM reviews\n",
    "        '''\n",
    "reviews = pd.io.sql.read_sql(query, con = engine)"
   ]
  },
  {
   "cell_type": "markdown",
   "metadata": {},
   "source": [
    "**Изучим таблицы:**"
   ]
  },
  {
   "cell_type": "code",
   "execution_count": 3,
   "metadata": {},
   "outputs": [
    {
     "data": {
      "text/html": [
       "<div>\n",
       "<style scoped>\n",
       "    .dataframe tbody tr th:only-of-type {\n",
       "        vertical-align: middle;\n",
       "    }\n",
       "\n",
       "    .dataframe tbody tr th {\n",
       "        vertical-align: top;\n",
       "    }\n",
       "\n",
       "    .dataframe thead th {\n",
       "        text-align: right;\n",
       "    }\n",
       "</style>\n",
       "<table border=\"1\" class=\"dataframe\">\n",
       "  <thead>\n",
       "    <tr style=\"text-align: right;\">\n",
       "      <th></th>\n",
       "      <th>book_id</th>\n",
       "      <th>author_id</th>\n",
       "      <th>title</th>\n",
       "      <th>num_pages</th>\n",
       "      <th>publication_date</th>\n",
       "      <th>publisher_id</th>\n",
       "    </tr>\n",
       "  </thead>\n",
       "  <tbody>\n",
       "    <tr>\n",
       "      <th>0</th>\n",
       "      <td>1</td>\n",
       "      <td>546</td>\n",
       "      <td>'Salem's Lot</td>\n",
       "      <td>594</td>\n",
       "      <td>2005-11-01</td>\n",
       "      <td>93</td>\n",
       "    </tr>\n",
       "    <tr>\n",
       "      <th>1</th>\n",
       "      <td>2</td>\n",
       "      <td>465</td>\n",
       "      <td>1 000 Places to See Before You Die</td>\n",
       "      <td>992</td>\n",
       "      <td>2003-05-22</td>\n",
       "      <td>336</td>\n",
       "    </tr>\n",
       "    <tr>\n",
       "      <th>2</th>\n",
       "      <td>3</td>\n",
       "      <td>407</td>\n",
       "      <td>13 Little Blue Envelopes (Little Blue Envelope  #1)</td>\n",
       "      <td>322</td>\n",
       "      <td>2010-12-21</td>\n",
       "      <td>135</td>\n",
       "    </tr>\n",
       "    <tr>\n",
       "      <th>3</th>\n",
       "      <td>4</td>\n",
       "      <td>82</td>\n",
       "      <td>1491: New Revelations of the Americas Before Columbus</td>\n",
       "      <td>541</td>\n",
       "      <td>2006-10-10</td>\n",
       "      <td>309</td>\n",
       "    </tr>\n",
       "    <tr>\n",
       "      <th>4</th>\n",
       "      <td>5</td>\n",
       "      <td>125</td>\n",
       "      <td>1776</td>\n",
       "      <td>386</td>\n",
       "      <td>2006-07-04</td>\n",
       "      <td>268</td>\n",
       "    </tr>\n",
       "  </tbody>\n",
       "</table>\n",
       "</div>"
      ],
      "text/plain": [
       "   book_id  author_id                                                  title  \\\n",
       "0        1        546                                           'Salem's Lot   \n",
       "1        2        465                     1 000 Places to See Before You Die   \n",
       "2        3        407    13 Little Blue Envelopes (Little Blue Envelope  #1)   \n",
       "3        4         82  1491: New Revelations of the Americas Before Columbus   \n",
       "4        5        125                                                   1776   \n",
       "\n",
       "   num_pages publication_date  publisher_id  \n",
       "0        594       2005-11-01            93  \n",
       "1        992       2003-05-22           336  \n",
       "2        322       2010-12-21           135  \n",
       "3        541       2006-10-10           309  \n",
       "4        386       2006-07-04           268  "
      ]
     },
     "execution_count": 3,
     "metadata": {},
     "output_type": "execute_result"
    }
   ],
   "source": [
    "books.head()"
   ]
  },
  {
   "cell_type": "code",
   "execution_count": 4,
   "metadata": {},
   "outputs": [
    {
     "data": {
      "text/html": [
       "<div>\n",
       "<style scoped>\n",
       "    .dataframe tbody tr th:only-of-type {\n",
       "        vertical-align: middle;\n",
       "    }\n",
       "\n",
       "    .dataframe tbody tr th {\n",
       "        vertical-align: top;\n",
       "    }\n",
       "\n",
       "    .dataframe thead th {\n",
       "        text-align: right;\n",
       "    }\n",
       "</style>\n",
       "<table border=\"1\" class=\"dataframe\">\n",
       "  <thead>\n",
       "    <tr style=\"text-align: right;\">\n",
       "      <th></th>\n",
       "      <th>author_id</th>\n",
       "      <th>author</th>\n",
       "    </tr>\n",
       "  </thead>\n",
       "  <tbody>\n",
       "    <tr>\n",
       "      <th>0</th>\n",
       "      <td>1</td>\n",
       "      <td>A.S. Byatt</td>\n",
       "    </tr>\n",
       "    <tr>\n",
       "      <th>1</th>\n",
       "      <td>2</td>\n",
       "      <td>Aesop/Laura Harris/Laura Gibbs</td>\n",
       "    </tr>\n",
       "    <tr>\n",
       "      <th>2</th>\n",
       "      <td>3</td>\n",
       "      <td>Agatha Christie</td>\n",
       "    </tr>\n",
       "    <tr>\n",
       "      <th>3</th>\n",
       "      <td>4</td>\n",
       "      <td>Alan Brennert</td>\n",
       "    </tr>\n",
       "    <tr>\n",
       "      <th>4</th>\n",
       "      <td>5</td>\n",
       "      <td>Alan Moore/David   Lloyd</td>\n",
       "    </tr>\n",
       "  </tbody>\n",
       "</table>\n",
       "</div>"
      ],
      "text/plain": [
       "   author_id                          author\n",
       "0          1                      A.S. Byatt\n",
       "1          2  Aesop/Laura Harris/Laura Gibbs\n",
       "2          3                 Agatha Christie\n",
       "3          4                   Alan Brennert\n",
       "4          5        Alan Moore/David   Lloyd"
      ]
     },
     "execution_count": 4,
     "metadata": {},
     "output_type": "execute_result"
    }
   ],
   "source": [
    "authors.head()"
   ]
  },
  {
   "cell_type": "code",
   "execution_count": 5,
   "metadata": {},
   "outputs": [
    {
     "data": {
      "text/html": [
       "<div>\n",
       "<style scoped>\n",
       "    .dataframe tbody tr th:only-of-type {\n",
       "        vertical-align: middle;\n",
       "    }\n",
       "\n",
       "    .dataframe tbody tr th {\n",
       "        vertical-align: top;\n",
       "    }\n",
       "\n",
       "    .dataframe thead th {\n",
       "        text-align: right;\n",
       "    }\n",
       "</style>\n",
       "<table border=\"1\" class=\"dataframe\">\n",
       "  <thead>\n",
       "    <tr style=\"text-align: right;\">\n",
       "      <th></th>\n",
       "      <th>publisher_id</th>\n",
       "      <th>publisher</th>\n",
       "    </tr>\n",
       "  </thead>\n",
       "  <tbody>\n",
       "    <tr>\n",
       "      <th>0</th>\n",
       "      <td>1</td>\n",
       "      <td>Ace</td>\n",
       "    </tr>\n",
       "    <tr>\n",
       "      <th>1</th>\n",
       "      <td>2</td>\n",
       "      <td>Ace Book</td>\n",
       "    </tr>\n",
       "    <tr>\n",
       "      <th>2</th>\n",
       "      <td>3</td>\n",
       "      <td>Ace Books</td>\n",
       "    </tr>\n",
       "    <tr>\n",
       "      <th>3</th>\n",
       "      <td>4</td>\n",
       "      <td>Ace Hardcover</td>\n",
       "    </tr>\n",
       "    <tr>\n",
       "      <th>4</th>\n",
       "      <td>5</td>\n",
       "      <td>Addison Wesley Publishing Company</td>\n",
       "    </tr>\n",
       "  </tbody>\n",
       "</table>\n",
       "</div>"
      ],
      "text/plain": [
       "   publisher_id                          publisher\n",
       "0             1                                Ace\n",
       "1             2                           Ace Book\n",
       "2             3                          Ace Books\n",
       "3             4                      Ace Hardcover\n",
       "4             5  Addison Wesley Publishing Company"
      ]
     },
     "execution_count": 5,
     "metadata": {},
     "output_type": "execute_result"
    }
   ],
   "source": [
    "publishers.head()"
   ]
  },
  {
   "cell_type": "code",
   "execution_count": 6,
   "metadata": {},
   "outputs": [
    {
     "data": {
      "text/html": [
       "<div>\n",
       "<style scoped>\n",
       "    .dataframe tbody tr th:only-of-type {\n",
       "        vertical-align: middle;\n",
       "    }\n",
       "\n",
       "    .dataframe tbody tr th {\n",
       "        vertical-align: top;\n",
       "    }\n",
       "\n",
       "    .dataframe thead th {\n",
       "        text-align: right;\n",
       "    }\n",
       "</style>\n",
       "<table border=\"1\" class=\"dataframe\">\n",
       "  <thead>\n",
       "    <tr style=\"text-align: right;\">\n",
       "      <th></th>\n",
       "      <th>rating_id</th>\n",
       "      <th>book_id</th>\n",
       "      <th>username</th>\n",
       "      <th>rating</th>\n",
       "    </tr>\n",
       "  </thead>\n",
       "  <tbody>\n",
       "    <tr>\n",
       "      <th>0</th>\n",
       "      <td>1</td>\n",
       "      <td>1</td>\n",
       "      <td>ryanfranco</td>\n",
       "      <td>4</td>\n",
       "    </tr>\n",
       "    <tr>\n",
       "      <th>1</th>\n",
       "      <td>2</td>\n",
       "      <td>1</td>\n",
       "      <td>grantpatricia</td>\n",
       "      <td>2</td>\n",
       "    </tr>\n",
       "    <tr>\n",
       "      <th>2</th>\n",
       "      <td>3</td>\n",
       "      <td>1</td>\n",
       "      <td>brandtandrea</td>\n",
       "      <td>5</td>\n",
       "    </tr>\n",
       "    <tr>\n",
       "      <th>3</th>\n",
       "      <td>4</td>\n",
       "      <td>2</td>\n",
       "      <td>lorichen</td>\n",
       "      <td>3</td>\n",
       "    </tr>\n",
       "    <tr>\n",
       "      <th>4</th>\n",
       "      <td>5</td>\n",
       "      <td>2</td>\n",
       "      <td>mariokeller</td>\n",
       "      <td>2</td>\n",
       "    </tr>\n",
       "  </tbody>\n",
       "</table>\n",
       "</div>"
      ],
      "text/plain": [
       "   rating_id  book_id       username  rating\n",
       "0          1        1     ryanfranco       4\n",
       "1          2        1  grantpatricia       2\n",
       "2          3        1   brandtandrea       5\n",
       "3          4        2       lorichen       3\n",
       "4          5        2    mariokeller       2"
      ]
     },
     "execution_count": 6,
     "metadata": {},
     "output_type": "execute_result"
    }
   ],
   "source": [
    "ratings.head()"
   ]
  },
  {
   "cell_type": "code",
   "execution_count": 7,
   "metadata": {},
   "outputs": [
    {
     "data": {
      "text/html": [
       "<div>\n",
       "<style scoped>\n",
       "    .dataframe tbody tr th:only-of-type {\n",
       "        vertical-align: middle;\n",
       "    }\n",
       "\n",
       "    .dataframe tbody tr th {\n",
       "        vertical-align: top;\n",
       "    }\n",
       "\n",
       "    .dataframe thead th {\n",
       "        text-align: right;\n",
       "    }\n",
       "</style>\n",
       "<table border=\"1\" class=\"dataframe\">\n",
       "  <thead>\n",
       "    <tr style=\"text-align: right;\">\n",
       "      <th></th>\n",
       "      <th>review_id</th>\n",
       "      <th>book_id</th>\n",
       "      <th>username</th>\n",
       "      <th>text</th>\n",
       "    </tr>\n",
       "  </thead>\n",
       "  <tbody>\n",
       "    <tr>\n",
       "      <th>0</th>\n",
       "      <td>1</td>\n",
       "      <td>1</td>\n",
       "      <td>brandtandrea</td>\n",
       "      <td>Mention society tell send professor analysis. Over provide race technology continue these.</td>\n",
       "    </tr>\n",
       "    <tr>\n",
       "      <th>1</th>\n",
       "      <td>2</td>\n",
       "      <td>1</td>\n",
       "      <td>ryanfranco</td>\n",
       "      <td>Foot glass pretty audience hit themselves. Among admit investment argue security.</td>\n",
       "    </tr>\n",
       "    <tr>\n",
       "      <th>2</th>\n",
       "      <td>3</td>\n",
       "      <td>2</td>\n",
       "      <td>lorichen</td>\n",
       "      <td>Listen treat keep worry. Miss husband tax but person sport treatment industry. Kitchen decision deep the. Social party body the.</td>\n",
       "    </tr>\n",
       "    <tr>\n",
       "      <th>3</th>\n",
       "      <td>4</td>\n",
       "      <td>3</td>\n",
       "      <td>johnsonamanda</td>\n",
       "      <td>Finally month interesting blue could nature cultural bit. Prepare beat finish grow that smile teach. Dream me play near.</td>\n",
       "    </tr>\n",
       "    <tr>\n",
       "      <th>4</th>\n",
       "      <td>5</td>\n",
       "      <td>3</td>\n",
       "      <td>scotttamara</td>\n",
       "      <td>Nation purpose heavy give wait song will. List dinner another whole positive radio fast. Music staff many green.</td>\n",
       "    </tr>\n",
       "  </tbody>\n",
       "</table>\n",
       "</div>"
      ],
      "text/plain": [
       "   review_id  book_id       username  \\\n",
       "0          1        1   brandtandrea   \n",
       "1          2        1     ryanfranco   \n",
       "2          3        2       lorichen   \n",
       "3          4        3  johnsonamanda   \n",
       "4          5        3    scotttamara   \n",
       "\n",
       "                                                                                                                               text  \n",
       "0                                        Mention society tell send professor analysis. Over provide race technology continue these.  \n",
       "1                                                 Foot glass pretty audience hit themselves. Among admit investment argue security.  \n",
       "2  Listen treat keep worry. Miss husband tax but person sport treatment industry. Kitchen decision deep the. Social party body the.  \n",
       "3          Finally month interesting blue could nature cultural bit. Prepare beat finish grow that smile teach. Dream me play near.  \n",
       "4                  Nation purpose heavy give wait song will. List dinner another whole positive radio fast. Music staff many green.  "
      ]
     },
     "execution_count": 7,
     "metadata": {},
     "output_type": "execute_result"
    }
   ],
   "source": [
    "reviews.head()"
   ]
  },
  {
   "cell_type": "markdown",
   "metadata": {},
   "source": [
    "### Задания:"
   ]
  },
  {
   "cell_type": "markdown",
   "metadata": {},
   "source": [
    "**1. Посчитаем, сколько книг вышло после 1 января 2000 года.**"
   ]
  },
  {
   "cell_type": "code",
   "execution_count": 8,
   "metadata": {},
   "outputs": [
    {
     "data": {
      "text/html": [
       "<div>\n",
       "<style scoped>\n",
       "    .dataframe tbody tr th:only-of-type {\n",
       "        vertical-align: middle;\n",
       "    }\n",
       "\n",
       "    .dataframe tbody tr th {\n",
       "        vertical-align: top;\n",
       "    }\n",
       "\n",
       "    .dataframe thead th {\n",
       "        text-align: right;\n",
       "    }\n",
       "</style>\n",
       "<table border=\"1\" class=\"dataframe\">\n",
       "  <thead>\n",
       "    <tr style=\"text-align: right;\">\n",
       "      <th></th>\n",
       "      <th>count</th>\n",
       "    </tr>\n",
       "  </thead>\n",
       "  <tbody>\n",
       "    <tr>\n",
       "      <th>0</th>\n",
       "      <td>819</td>\n",
       "    </tr>\n",
       "  </tbody>\n",
       "</table>\n",
       "</div>"
      ],
      "text/plain": [
       "   count\n",
       "0    819"
      ]
     },
     "execution_count": 8,
     "metadata": {},
     "output_type": "execute_result"
    }
   ],
   "source": [
    "query = '''\n",
    "SELECT COUNT(*)\n",
    "FROM books t\n",
    "WHERE t.publication_date> '2000-01-01';\n",
    "'''\n",
    "\n",
    "solution = pd.io.sql.read_sql(query, con = engine)\n",
    "solution"
   ]
  },
  {
   "cell_type": "markdown",
   "metadata": {},
   "source": [
    "**Вывод:** после 1 января 2000 года вышло 819 книг."
   ]
  },
  {
   "cell_type": "markdown",
   "metadata": {},
   "source": [
    "**2. Для каждой книги посчитаем количество обзоров и среднюю оценку.**"
   ]
  },
  {
   "cell_type": "code",
   "execution_count": 9,
   "metadata": {},
   "outputs": [
    {
     "data": {
      "text/html": [
       "<div>\n",
       "<style scoped>\n",
       "    .dataframe tbody tr th:only-of-type {\n",
       "        vertical-align: middle;\n",
       "    }\n",
       "\n",
       "    .dataframe tbody tr th {\n",
       "        vertical-align: top;\n",
       "    }\n",
       "\n",
       "    .dataframe thead th {\n",
       "        text-align: right;\n",
       "    }\n",
       "</style>\n",
       "<table border=\"1\" class=\"dataframe\">\n",
       "  <thead>\n",
       "    <tr style=\"text-align: right;\">\n",
       "      <th></th>\n",
       "      <th>title</th>\n",
       "      <th>review_count</th>\n",
       "      <th>rating_avg</th>\n",
       "    </tr>\n",
       "  </thead>\n",
       "  <tbody>\n",
       "    <tr>\n",
       "      <th>0</th>\n",
       "      <td>Arrows of the Queen (Heralds of Valdemar  #1)</td>\n",
       "      <td>2.0</td>\n",
       "      <td>5.00</td>\n",
       "    </tr>\n",
       "    <tr>\n",
       "      <th>1</th>\n",
       "      <td>The Walking Dead  Book One (The Walking Dead #1-12)</td>\n",
       "      <td>2.0</td>\n",
       "      <td>5.00</td>\n",
       "    </tr>\n",
       "    <tr>\n",
       "      <th>2</th>\n",
       "      <td>Light in August</td>\n",
       "      <td>2.0</td>\n",
       "      <td>5.00</td>\n",
       "    </tr>\n",
       "    <tr>\n",
       "      <th>3</th>\n",
       "      <td>Wherever You Go  There You Are: Mindfulness Meditation in Everyday Life</td>\n",
       "      <td>2.0</td>\n",
       "      <td>5.00</td>\n",
       "    </tr>\n",
       "    <tr>\n",
       "      <th>4</th>\n",
       "      <td>Captivating: Unveiling the Mystery of a Woman's Soul</td>\n",
       "      <td>2.0</td>\n",
       "      <td>5.00</td>\n",
       "    </tr>\n",
       "    <tr>\n",
       "      <th>...</th>\n",
       "      <td>...</td>\n",
       "      <td>...</td>\n",
       "      <td>...</td>\n",
       "    </tr>\n",
       "    <tr>\n",
       "      <th>995</th>\n",
       "      <td>The World Is Flat: A Brief History of the Twenty-first Century</td>\n",
       "      <td>3.0</td>\n",
       "      <td>2.25</td>\n",
       "    </tr>\n",
       "    <tr>\n",
       "      <th>996</th>\n",
       "      <td>His Excellency: George Washington</td>\n",
       "      <td>2.0</td>\n",
       "      <td>2.00</td>\n",
       "    </tr>\n",
       "    <tr>\n",
       "      <th>997</th>\n",
       "      <td>Drowning Ruth</td>\n",
       "      <td>3.0</td>\n",
       "      <td>2.00</td>\n",
       "    </tr>\n",
       "    <tr>\n",
       "      <th>998</th>\n",
       "      <td>Junky</td>\n",
       "      <td>2.0</td>\n",
       "      <td>2.00</td>\n",
       "    </tr>\n",
       "    <tr>\n",
       "      <th>999</th>\n",
       "      <td>Harvesting the Heart</td>\n",
       "      <td>2.0</td>\n",
       "      <td>1.50</td>\n",
       "    </tr>\n",
       "  </tbody>\n",
       "</table>\n",
       "<p>1000 rows × 3 columns</p>\n",
       "</div>"
      ],
      "text/plain": [
       "                                                                       title  \\\n",
       "0                              Arrows of the Queen (Heralds of Valdemar  #1)   \n",
       "1                        The Walking Dead  Book One (The Walking Dead #1-12)   \n",
       "2                                                            Light in August   \n",
       "3    Wherever You Go  There You Are: Mindfulness Meditation in Everyday Life   \n",
       "4                       Captivating: Unveiling the Mystery of a Woman's Soul   \n",
       "..                                                                       ...   \n",
       "995           The World Is Flat: A Brief History of the Twenty-first Century   \n",
       "996                                        His Excellency: George Washington   \n",
       "997                                                            Drowning Ruth   \n",
       "998                                                                    Junky   \n",
       "999                                                     Harvesting the Heart   \n",
       "\n",
       "     review_count  rating_avg  \n",
       "0             2.0        5.00  \n",
       "1             2.0        5.00  \n",
       "2             2.0        5.00  \n",
       "3             2.0        5.00  \n",
       "4             2.0        5.00  \n",
       "..            ...         ...  \n",
       "995           3.0        2.25  \n",
       "996           2.0        2.00  \n",
       "997           3.0        2.00  \n",
       "998           2.0        2.00  \n",
       "999           2.0        1.50  \n",
       "\n",
       "[1000 rows x 3 columns]"
      ]
     },
     "execution_count": 9,
     "metadata": {},
     "output_type": "execute_result"
    }
   ],
   "source": [
    "query = '''\n",
    "SELECT i.title,\n",
    "       rv.review_count,\n",
    "       rt.rating_avg\n",
    "FROM books i\n",
    "LEFT JOIN\n",
    "    (SELECT book_id,\n",
    "            COUNT(review_id) AS review_count\n",
    "     FROM reviews\n",
    "     GROUP BY book_id\n",
    "     ORDER BY book_id) rv on i.book_id = rv.book_id\n",
    "LEFT JOIN\n",
    "    (SELECT book_id,\n",
    "            AVG(rating) AS rating_avg\n",
    "     FROM ratings\n",
    "     GROUP BY book_id\n",
    "     ORDER BY book_id) rt on i.book_id = rt.book_id\n",
    "ORDER BY rating_avg DESC;\n",
    "'''\n",
    "\n",
    "solution_2 = pd.io.sql.read_sql(query, con = engine)\n",
    "solution_2"
   ]
  },
  {
   "cell_type": "markdown",
   "metadata": {},
   "source": [
    "**Вывод:**\n",
    "\n",
    "Самая высокая средняя оценка (5.00) у книг: \"Arrows of the Queen (Heralds of Valdemar #1)\", \"The Walking Dead Book One (The Walking Dead #1-12)\", \"Light in August\" и т.д.\n",
    "\n",
    "Самая низкая оценка (1.50) у книги \"Harvesting the Heart\"."
   ]
  },
  {
   "cell_type": "markdown",
   "metadata": {},
   "source": [
    "**3. Определим издательство, которое выпустило наибольшее число книг толще 50 страниц — так мы исключим из анализа брошюры.**"
   ]
  },
  {
   "cell_type": "code",
   "execution_count": 10,
   "metadata": {},
   "outputs": [
    {
     "data": {
      "text/html": [
       "<div>\n",
       "<style scoped>\n",
       "    .dataframe tbody tr th:only-of-type {\n",
       "        vertical-align: middle;\n",
       "    }\n",
       "\n",
       "    .dataframe tbody tr th {\n",
       "        vertical-align: top;\n",
       "    }\n",
       "\n",
       "    .dataframe thead th {\n",
       "        text-align: right;\n",
       "    }\n",
       "</style>\n",
       "<table border=\"1\" class=\"dataframe\">\n",
       "  <thead>\n",
       "    <tr style=\"text-align: right;\">\n",
       "      <th></th>\n",
       "      <th>publisher_id</th>\n",
       "      <th>publisher</th>\n",
       "      <th>count_book</th>\n",
       "    </tr>\n",
       "  </thead>\n",
       "  <tbody>\n",
       "    <tr>\n",
       "      <th>0</th>\n",
       "      <td>212</td>\n",
       "      <td>Penguin Books</td>\n",
       "      <td>42</td>\n",
       "    </tr>\n",
       "  </tbody>\n",
       "</table>\n",
       "</div>"
      ],
      "text/plain": [
       "   publisher_id      publisher  count_book\n",
       "0           212  Penguin Books          42"
      ]
     },
     "execution_count": 10,
     "metadata": {},
     "output_type": "execute_result"
    }
   ],
   "source": [
    "query = '''\n",
    "SELECT t.publisher_id,\n",
    "       p.publisher,\n",
    "       COUNT(t.book_id) AS count_book\n",
    "FROM books t\n",
    "LEFT JOIN public.publishers p on t.publisher_id = p.publisher_id\n",
    "WHERE t.num_pages > 50\n",
    "GROUP BY t.publisher_id, p.publisher\n",
    "ORDER BY count_book DESC\n",
    "LIMIT 1;\n",
    "'''\n",
    "\n",
    "solution_3 = pd.io.sql.read_sql(query, con = engine)\n",
    "solution_3"
   ]
  },
  {
   "cell_type": "markdown",
   "metadata": {},
   "source": [
    "**Вывод:**\n",
    "\n",
    "Издательство, которое выпустило наибольшее число книг толще 50 страниц - \"Penguin Books\" (42 книги)."
   ]
  },
  {
   "cell_type": "markdown",
   "metadata": {},
   "source": [
    "**4. Определим автора с самой высокой средней оценкой книг — будем учитывать только книги с 50 и более оценками.**"
   ]
  },
  {
   "cell_type": "code",
   "execution_count": 11,
   "metadata": {},
   "outputs": [
    {
     "data": {
      "text/html": [
       "<div>\n",
       "<style scoped>\n",
       "    .dataframe tbody tr th:only-of-type {\n",
       "        vertical-align: middle;\n",
       "    }\n",
       "\n",
       "    .dataframe tbody tr th {\n",
       "        vertical-align: top;\n",
       "    }\n",
       "\n",
       "    .dataframe thead th {\n",
       "        text-align: right;\n",
       "    }\n",
       "</style>\n",
       "<table border=\"1\" class=\"dataframe\">\n",
       "  <thead>\n",
       "    <tr style=\"text-align: right;\">\n",
       "      <th></th>\n",
       "      <th>author_id</th>\n",
       "      <th>author</th>\n",
       "      <th>book_id</th>\n",
       "      <th>rating_avg</th>\n",
       "      <th>title</th>\n",
       "    </tr>\n",
       "  </thead>\n",
       "  <tbody>\n",
       "    <tr>\n",
       "      <th>0</th>\n",
       "      <td>236</td>\n",
       "      <td>J.K. Rowling/Mary GrandPré</td>\n",
       "      <td>302</td>\n",
       "      <td>4.414634</td>\n",
       "      <td>Harry Potter and the Prisoner of Azkaban (Harry Potter  #3)</td>\n",
       "    </tr>\n",
       "  </tbody>\n",
       "</table>\n",
       "</div>"
      ],
      "text/plain": [
       "   author_id                      author  book_id  rating_avg  \\\n",
       "0        236  J.K. Rowling/Mary GrandPré      302    4.414634   \n",
       "\n",
       "                                                         title  \n",
       "0  Harry Potter and the Prisoner of Azkaban (Harry Potter  #3)  "
      ]
     },
     "execution_count": 11,
     "metadata": {},
     "output_type": "execute_result"
    }
   ],
   "source": [
    "query = '''\n",
    "SELECT t.author_id,\n",
    "       a.author,\n",
    "       t.book_id,\n",
    "       AVG(rt.rating) AS rating_avg, t.title\n",
    "FROM public.books AS t\n",
    "LEFT JOIN public.ratings AS rt on t.book_id = rt.book_id\n",
    "LEFT JOIN\n",
    "    (SELECT book_id,\n",
    "     COUNT(rating_id) AS rating_count\n",
    "     FROM public.ratings\n",
    "     GROUP BY book_id\n",
    "     ORDER BY book_id) AS rc on t.book_id = rc.book_id\n",
    "LEFT JOIN public.authors AS a on t.author_id = a.author_id\n",
    "WHERE rating_count >= 50\n",
    "GROUP BY t.author_id, a.author, t.book_id, t.title\n",
    "ORDER BY rating_avg DESC, t.author_id\n",
    "LIMIT 1;\n",
    "'''\n",
    "\n",
    "solution_4 = pd.io.sql.read_sql(query, con = engine)\n",
    "solution_4"
   ]
  },
  {
   "cell_type": "markdown",
   "metadata": {},
   "source": [
    "**Вывод:**\n",
    "\n",
    "Автор с самой высокой средней оценкой книг с 50 и более оценками - J.K. Rowling/Mary GrandPré (средняя оценка 4.4, книга \"Harry Potter and the Prisoner of Azkaban (Harry Potter #3)\")."
   ]
  },
  {
   "cell_type": "markdown",
   "metadata": {},
   "source": [
    "**5. Посчитаем среднее количество обзоров от пользователей, которые поставили больше 50 оценок.**"
   ]
  },
  {
   "cell_type": "code",
   "execution_count": 12,
   "metadata": {},
   "outputs": [
    {
     "data": {
      "text/html": [
       "<div>\n",
       "<style scoped>\n",
       "    .dataframe tbody tr th:only-of-type {\n",
       "        vertical-align: middle;\n",
       "    }\n",
       "\n",
       "    .dataframe tbody tr th {\n",
       "        vertical-align: top;\n",
       "    }\n",
       "\n",
       "    .dataframe thead th {\n",
       "        text-align: right;\n",
       "    }\n",
       "</style>\n",
       "<table border=\"1\" class=\"dataframe\">\n",
       "  <thead>\n",
       "    <tr style=\"text-align: right;\">\n",
       "      <th></th>\n",
       "      <th>round</th>\n",
       "    </tr>\n",
       "  </thead>\n",
       "  <tbody>\n",
       "    <tr>\n",
       "      <th>0</th>\n",
       "      <td>24.33</td>\n",
       "    </tr>\n",
       "  </tbody>\n",
       "</table>\n",
       "</div>"
      ],
      "text/plain": [
       "   round\n",
       "0  24.33"
      ]
     },
     "execution_count": 12,
     "metadata": {},
     "output_type": "execute_result"
    }
   ],
   "source": [
    "query = '''\n",
    "SELECT ROUND(AVG(review),2)\n",
    "FROM\n",
    "    (SELECT t.username,\n",
    "            COUNT(t.review_id) AS review\n",
    "     FROM reviews t\n",
    "LEFT JOIN\n",
    "    (SELECT username,\n",
    "            COUNT(rating_id) AS rating_count\n",
    "     FROM ratings\n",
    "     GROUP BY username\n",
    "     ORDER BY username) AS rc on t.username = rc.username\n",
    "WHERE rating_count > 50\n",
    "GROUP BY t.username) a;\n",
    "'''\n",
    "\n",
    "solution_5 = pd.io.sql.read_sql(query, con = engine)\n",
    "solution_5"
   ]
  },
  {
   "cell_type": "markdown",
   "metadata": {},
   "source": [
    "**Вывод:**\n",
    "\n",
    "Среднее количество обзоров от пользователей, которые поставили больше 50 оценок - 24 шт."
   ]
  }
 ],
 "metadata": {
  "ExecuteTimeLog": [
   {
    "duration": 12488,
    "start_time": "2022-04-23T19:16:37.779Z"
   },
   {
    "duration": 78,
    "start_time": "2022-04-23T19:17:47.598Z"
   },
   {
    "duration": 13,
    "start_time": "2022-04-23T19:18:10.971Z"
   },
   {
    "duration": 7,
    "start_time": "2022-04-23T19:18:24.355Z"
   },
   {
    "duration": 6,
    "start_time": "2022-04-23T19:18:34.372Z"
   },
   {
    "duration": 7,
    "start_time": "2022-04-23T19:18:43.429Z"
   },
   {
    "duration": 6,
    "start_time": "2022-04-23T19:18:54.685Z"
   },
   {
    "duration": 10,
    "start_time": "2022-04-23T19:21:39.663Z"
   },
   {
    "duration": 22,
    "start_time": "2022-04-23T19:22:36.075Z"
   },
   {
    "duration": 13,
    "start_time": "2022-04-23T19:24:38.225Z"
   },
   {
    "duration": 15,
    "start_time": "2022-04-23T19:25:31.045Z"
   },
   {
    "duration": 15,
    "start_time": "2022-04-23T19:26:22.744Z"
   },
   {
    "duration": 11874,
    "start_time": "2022-04-24T15:33:24.115Z"
   },
   {
    "duration": 99,
    "start_time": "2022-04-24T15:33:35.992Z"
   },
   {
    "duration": 24,
    "start_time": "2022-04-24T15:33:36.093Z"
   },
   {
    "duration": 9,
    "start_time": "2022-04-24T15:33:36.119Z"
   },
   {
    "duration": 12,
    "start_time": "2022-04-24T15:33:36.131Z"
   },
   {
    "duration": 18,
    "start_time": "2022-04-24T15:33:36.145Z"
   },
   {
    "duration": 11,
    "start_time": "2022-04-24T15:33:36.194Z"
   },
   {
    "duration": 28,
    "start_time": "2022-04-24T15:33:36.207Z"
   },
   {
    "duration": 31,
    "start_time": "2022-04-24T15:33:36.237Z"
   },
   {
    "duration": 29,
    "start_time": "2022-04-24T15:33:36.271Z"
   },
   {
    "duration": 20,
    "start_time": "2022-04-24T15:33:36.302Z"
   },
   {
    "duration": 20,
    "start_time": "2022-04-24T15:33:36.325Z"
   },
   {
    "duration": 14,
    "start_time": "2022-04-24T15:34:19.682Z"
   },
   {
    "duration": 14,
    "start_time": "2022-04-24T15:35:36.337Z"
   },
   {
    "duration": 18,
    "start_time": "2022-04-24T15:36:25.749Z"
   },
   {
    "duration": 29,
    "start_time": "2022-04-24T15:36:59.913Z"
   },
   {
    "duration": 16,
    "start_time": "2022-04-24T15:37:29.169Z"
   },
   {
    "duration": 20,
    "start_time": "2022-04-24T15:38:21.621Z"
   },
   {
    "duration": 429,
    "start_time": "2022-04-24T15:39:17.525Z"
   },
   {
    "duration": 22,
    "start_time": "2022-04-24T15:39:32.999Z"
   },
   {
    "duration": 18,
    "start_time": "2022-04-24T15:40:50.473Z"
   },
   {
    "duration": 17,
    "start_time": "2022-04-24T15:41:03.260Z"
   },
   {
    "duration": 6065,
    "start_time": "2022-04-24T16:09:42.671Z"
   },
   {
    "duration": 442,
    "start_time": "2022-04-24T16:09:48.738Z"
   },
   {
    "duration": 22,
    "start_time": "2022-04-24T16:09:49.182Z"
   },
   {
    "duration": 10,
    "start_time": "2022-04-24T16:09:49.207Z"
   },
   {
    "duration": 11,
    "start_time": "2022-04-24T16:09:49.219Z"
   },
   {
    "duration": 23,
    "start_time": "2022-04-24T16:09:49.233Z"
   },
   {
    "duration": 12,
    "start_time": "2022-04-24T16:09:49.258Z"
   },
   {
    "duration": 60,
    "start_time": "2022-04-24T16:09:49.272Z"
   },
   {
    "duration": 74,
    "start_time": "2022-04-24T16:09:49.334Z"
   },
   {
    "duration": 59,
    "start_time": "2022-04-24T16:09:49.412Z"
   },
   {
    "duration": 63,
    "start_time": "2022-04-24T16:09:49.474Z"
   },
   {
    "duration": 58,
    "start_time": "2022-04-24T16:09:49.540Z"
   },
   {
    "duration": 56,
    "start_time": "2022-04-24T16:10:50.725Z"
   },
   {
    "duration": 283,
    "start_time": "2022-04-24T16:31:28.091Z"
   },
   {
    "duration": 63,
    "start_time": "2022-04-24T16:44:23.266Z"
   },
   {
    "duration": 4,
    "start_time": "2022-04-25T07:26:03.616Z"
   },
   {
    "duration": 9884,
    "start_time": "2022-04-25T07:28:35.767Z"
   },
   {
    "duration": 449,
    "start_time": "2022-04-25T07:28:45.653Z"
   },
   {
    "duration": 14,
    "start_time": "2022-04-25T07:28:46.104Z"
   },
   {
    "duration": 6,
    "start_time": "2022-04-25T07:28:46.119Z"
   },
   {
    "duration": 6,
    "start_time": "2022-04-25T07:28:46.127Z"
   },
   {
    "duration": 9,
    "start_time": "2022-04-25T07:28:46.134Z"
   },
   {
    "duration": 11,
    "start_time": "2022-04-25T07:28:46.144Z"
   },
   {
    "duration": 70,
    "start_time": "2022-04-25T07:28:46.157Z"
   },
   {
    "duration": 71,
    "start_time": "2022-04-25T07:28:46.229Z"
   },
   {
    "duration": 58,
    "start_time": "2022-04-25T07:28:46.302Z"
   },
   {
    "duration": 3,
    "start_time": "2022-04-25T07:28:46.361Z"
   },
   {
    "duration": 65,
    "start_time": "2022-04-25T07:29:17.226Z"
   },
   {
    "duration": 63,
    "start_time": "2022-04-25T07:30:13.960Z"
   },
   {
    "duration": 13495,
    "start_time": "2022-04-25T07:49:45.030Z"
   },
   {
    "duration": 492,
    "start_time": "2022-04-25T07:49:58.527Z"
   },
   {
    "duration": 14,
    "start_time": "2022-04-25T07:49:59.021Z"
   },
   {
    "duration": 6,
    "start_time": "2022-04-25T07:49:59.037Z"
   },
   {
    "duration": 9,
    "start_time": "2022-04-25T07:49:59.044Z"
   },
   {
    "duration": 8,
    "start_time": "2022-04-25T07:49:59.055Z"
   },
   {
    "duration": 9,
    "start_time": "2022-04-25T07:49:59.064Z"
   },
   {
    "duration": 65,
    "start_time": "2022-04-25T07:49:59.075Z"
   },
   {
    "duration": 75,
    "start_time": "2022-04-25T07:49:59.142Z"
   },
   {
    "duration": 65,
    "start_time": "2022-04-25T07:49:59.219Z"
   },
   {
    "duration": 2,
    "start_time": "2022-04-25T07:49:59.286Z"
   },
   {
    "duration": 82,
    "start_time": "2022-04-25T07:49:59.290Z"
   },
   {
    "duration": 65,
    "start_time": "2022-04-25T07:49:59.374Z"
   },
   {
    "duration": 24873,
    "start_time": "2022-04-26T08:39:54.871Z"
   },
   {
    "duration": 62,
    "start_time": "2022-04-26T08:40:19.746Z"
   },
   {
    "duration": 12,
    "start_time": "2022-04-26T08:40:19.810Z"
   },
   {
    "duration": 5,
    "start_time": "2022-04-26T08:40:19.824Z"
   },
   {
    "duration": 8,
    "start_time": "2022-04-26T08:40:19.830Z"
   },
   {
    "duration": 8,
    "start_time": "2022-04-26T08:40:19.839Z"
   },
   {
    "duration": 9,
    "start_time": "2022-04-26T08:40:19.848Z"
   },
   {
    "duration": 11,
    "start_time": "2022-04-26T08:40:19.858Z"
   },
   {
    "duration": 38,
    "start_time": "2022-04-26T08:40:19.871Z"
   },
   {
    "duration": 11,
    "start_time": "2022-04-26T08:40:19.911Z"
   },
   {
    "duration": 2,
    "start_time": "2022-04-26T08:40:19.923Z"
   },
   {
    "duration": 17,
    "start_time": "2022-04-26T08:40:19.926Z"
   },
   {
    "duration": 11,
    "start_time": "2022-04-26T08:40:19.944Z"
   },
   {
    "duration": 18,
    "start_time": "2022-04-26T08:40:26.574Z"
   },
   {
    "duration": 53,
    "start_time": "2022-04-29T11:41:06.533Z"
   },
   {
    "duration": 23615,
    "start_time": "2022-04-29T11:41:33.262Z"
   },
   {
    "duration": 88,
    "start_time": "2022-04-29T11:41:56.880Z"
   },
   {
    "duration": 17,
    "start_time": "2022-04-29T11:41:56.969Z"
   },
   {
    "duration": 13,
    "start_time": "2022-04-29T11:41:56.988Z"
   },
   {
    "duration": 12,
    "start_time": "2022-04-29T11:41:57.003Z"
   },
   {
    "duration": 17,
    "start_time": "2022-04-29T11:41:57.017Z"
   },
   {
    "duration": 23,
    "start_time": "2022-04-29T11:41:57.036Z"
   },
   {
    "duration": 17,
    "start_time": "2022-04-29T11:41:57.061Z"
   },
   {
    "duration": 26,
    "start_time": "2022-04-29T11:41:57.080Z"
   },
   {
    "duration": 14,
    "start_time": "2022-04-29T11:41:57.108Z"
   },
   {
    "duration": 17,
    "start_time": "2022-04-29T11:41:57.132Z"
   },
   {
    "duration": 13,
    "start_time": "2022-04-29T11:41:57.152Z"
   }
  ],
  "kernelspec": {
   "display_name": "Python 3 (ipykernel)",
   "language": "python",
   "name": "python3"
  },
  "language_info": {
   "codemirror_mode": {
    "name": "ipython",
    "version": 3
   },
   "file_extension": ".py",
   "mimetype": "text/x-python",
   "name": "python",
   "nbconvert_exporter": "python",
   "pygments_lexer": "ipython3",
   "version": "3.9.5"
  },
  "toc": {
   "base_numbering": 1,
   "nav_menu": {},
   "number_sections": false,
   "sideBar": true,
   "skip_h1_title": false,
   "title_cell": "Table of Contents",
   "title_sidebar": "Contents",
   "toc_cell": false,
   "toc_position": {},
   "toc_section_display": true,
   "toc_window_display": false
  }
 },
 "nbformat": 4,
 "nbformat_minor": 2
}
